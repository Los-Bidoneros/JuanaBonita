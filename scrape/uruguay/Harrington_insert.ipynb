{
 "cells": [
  {
   "cell_type": "code",
   "execution_count": 45,
   "metadata": {},
   "outputs": [],
   "source": [
    "import pandas as pd\n",
    "import pyodbc\n",
    "import numpy as np\n",
    "from pandas import ExcelWriter\n",
    "import datetime\n",
    "start_ = datetime.datetime.today()\n",
    "scraper='HARRINGTON'"
   ]
  },
  {
   "cell_type": "code",
   "execution_count": 46,
   "metadata": {},
   "outputs": [
    {
     "data": {
      "text/plain": [
       "'2020-02-11'"
      ]
     },
     "execution_count": 46,
     "metadata": {},
     "output_type": "execute_result"
    }
   ],
   "source": [
    "fecha = str(datetime.date.today())\n",
    "fecha"
   ]
  },
  {
   "cell_type": "code",
   "execution_count": 48,
   "metadata": {},
   "outputs": [],
   "source": [
    "fecha = str(datetime.date.today())\n",
    "ipath = f'./Salida/Harrington2020-02-11.xlsx'\n",
    "df_harrington = pd.read_excel(ipath)"
   ]
  },
  {
   "cell_type": "code",
   "execution_count": 49,
   "metadata": {},
   "outputs": [],
   "source": [
    "server = 'tcp:192.168.1.6'\n",
    "database =\"planeamiento\"\n",
    "username = 'sa'\n",
    "password = 'sa'\n",
    "cnxn = pyodbc.connect('DRIVER={/opt/microsoft/msodbcsql17/lib64/libmsodbcsql-17.2.so.0.1};SERVER='+server+\n",
    "                      ';DATABASE='+database+\n",
    "                      ';UID='+username+\n",
    "                      ';PWD='+ password) "
   ]
  },
  {
   "cell_type": "code",
   "execution_count": 50,
   "metadata": {},
   "outputs": [],
   "source": [
    "maxCorrida = \"select max(id_sc3_corrida)+1 from sc3_detalle where origen ='HARRINGTON UY' \"\n",
    "maxCorrida = pd.read_sql(maxCorrida,cnxn) "
   ]
  },
  {
   "cell_type": "code",
   "execution_count": 51,
   "metadata": {},
   "outputs": [],
   "source": [
    "maxCorrida = int(maxCorrida[\"\"][0])"
   ]
  },
  {
   "cell_type": "code",
   "execution_count": 52,
   "metadata": {},
   "outputs": [],
   "source": [
    "TIPOLOGIA = ['Remera','Camisa','Pantalón','Pantalon','Bermuda','Campera','Jean','Short','T-shirt','Sweater','Chaleco','Cardigan',\n",
    "             'Sobretodo','Saco','Traje','Montgomery']\n",
    "\n",
    "TIPOLOGIA = list(map(lambda x: x.upper(),TIPOLOGIA))"
   ]
  },
  {
   "cell_type": "code",
   "execution_count": 53,
   "metadata": {},
   "outputs": [],
   "source": [
    "df_harrington['Tipo'] = 0"
   ]
  },
  {
   "cell_type": "code",
   "execution_count": 54,
   "metadata": {},
   "outputs": [],
   "source": [
    "df_harrington.loc[df_harrington['Descripcion']=='T','Descripcion'] = \"T-Shirt A Rayas Harrington Label\"\n",
    "df_harrington.loc[df_harrington['Descripcion']=='T-Shirt A Rayas Harrington Label','Color'] = \"Gris/blanco\"\n",
    "#'T-Shirt A Rayas Harrington Label'\n",
    "#https://www.harrington.com.uy/catalogo/t-shirt-a-rayas-harrington-label-gris-blanco_520709_000217"
   ]
  },
  {
   "cell_type": "code",
   "execution_count": 55,
   "metadata": {},
   "outputs": [],
   "source": [
    "for index, row in df_harrington.iterrows():\n",
    "    for TIPO in TIPOLOGIA:\n",
    "        if row['Descripcion'].upper().find(TIPO) != -1 :\n",
    "            df_harrington.loc[index,'Tipo'] = TIPO\n"
   ]
  },
  {
   "cell_type": "code",
   "execution_count": 58,
   "metadata": {},
   "outputs": [],
   "source": [
    "for index, row in df_harrington.iterrows():\n",
    "    if row['Tipo'] =='PANTALÓN':\n",
    "        df_harrington.loc[index,'Tipo'] = 'PANTALON'\n",
    "    if row['Descripcion'].find('Panatlon') != -1:\n",
    "        df_harrington.loc[index,'Tipo'] = 'PANTALON'"
   ]
  },
  {
   "cell_type": "code",
   "execution_count": 59,
   "metadata": {},
   "outputs": [],
   "source": [
    "df_harrington[\"Precio Nuevo\"] = [precio.split('$U')[2].strip() if len(precio.split('$U'))==3 else precio.split('$U')[1] for precio in df_harrington[\"Precio\"]]\n",
    "df_harrington[\"Precio Anterior\"] = [precio.split('$U')[1].strip() for precio in df_harrington[\"Precio\"]]"
   ]
  },
  {
   "cell_type": "code",
   "execution_count": 60,
   "metadata": {},
   "outputs": [],
   "source": [
    "df_harrington['Precio Nuevo'] = (df_harrington[\"Precio Nuevo\"]\n",
    "                         .str.extract(r\"([\\d,\\.]+)\", expand=False)\n",
    "                         .str.replace(\".\", \"\")\n",
    "                         .astype(float))\n"
   ]
  },
  {
   "cell_type": "code",
   "execution_count": 61,
   "metadata": {},
   "outputs": [],
   "source": [
    "df_harrington['Precio Anterior'] = (df_harrington[\"Precio Anterior\"]\n",
    "                         .str.extract(r\"([\\d,\\.]+)\", expand=False)\n",
    "                         .str.replace(\".\", \"\")\n",
    "                         .astype(float))\n"
   ]
  },
  {
   "cell_type": "code",
   "execution_count": 62,
   "metadata": {},
   "outputs": [],
   "source": [
    "df_harrington['TIPO_AUX'] = df_harrington['Tipo']\n",
    "df_harrington['COLOR_AUX'] = df_harrington['Color']"
   ]
  },
  {
   "cell_type": "code",
   "execution_count": 63,
   "metadata": {},
   "outputs": [],
   "source": [
    "if len(df_harrington[df_harrington['Tipo']==0]) != 0:\n",
    "    \n",
    "    print(f\"REVISAR {scraper} condicion >> (Tipo == 0 > 0) \")\n",
    "    raise "
   ]
  },
  {
   "cell_type": "code",
   "execution_count": 64,
   "metadata": {},
   "outputs": [
    {
     "data": {
      "text/html": [
       "<div>\n",
       "<style scoped>\n",
       "    .dataframe tbody tr th:only-of-type {\n",
       "        vertical-align: middle;\n",
       "    }\n",
       "\n",
       "    .dataframe tbody tr th {\n",
       "        vertical-align: top;\n",
       "    }\n",
       "\n",
       "    .dataframe thead th {\n",
       "        text-align: right;\n",
       "    }\n",
       "</style>\n",
       "<table border=\"1\" class=\"dataframe\">\n",
       "  <thead>\n",
       "    <tr style=\"text-align: right;\">\n",
       "      <th></th>\n",
       "      <th>id Producto</th>\n",
       "      <th>Descripcion</th>\n",
       "      <th>Color</th>\n",
       "      <th>Precio</th>\n",
       "      <th>Url Producto</th>\n",
       "      <th>Url Imagen</th>\n",
       "      <th>Fecha</th>\n",
       "      <th>Marca</th>\n",
       "      <th>Moneda</th>\n",
       "      <th>Sexo</th>\n",
       "      <th>Origen</th>\n",
       "      <th>Tipo</th>\n",
       "      <th>Precio Nuevo</th>\n",
       "      <th>Precio Anterior</th>\n",
       "      <th>TIPO_AUX</th>\n",
       "      <th>COLOR_AUX</th>\n",
       "    </tr>\n",
       "  </thead>\n",
       "  <tbody>\n",
       "  </tbody>\n",
       "</table>\n",
       "</div>"
      ],
      "text/plain": [
       "Empty DataFrame\n",
       "Columns: [id Producto, Descripcion, Color, Precio, Url Producto, Url Imagen, Fecha, Marca, Moneda, Sexo, Origen, Tipo, Precio Nuevo, Precio Anterior, TIPO_AUX, COLOR_AUX]\n",
       "Index: []"
      ]
     },
     "execution_count": 64,
     "metadata": {},
     "output_type": "execute_result"
    }
   ],
   "source": [
    "df_harrington[df_harrington['Tipo'] == 0]"
   ]
  },
  {
   "cell_type": "code",
   "execution_count": 65,
   "metadata": {},
   "outputs": [],
   "source": [
    "df_harrington['Origen'] ='HARRINGTON UY'"
   ]
  },
  {
   "cell_type": "code",
   "execution_count": 66,
   "metadata": {},
   "outputs": [],
   "source": [
    "cursor = cnxn.cursor()\n",
    "for index,row in df_harrington.iterrows():                                                            \n",
    "    cursor.execute(\"INSERT INTO sc3_detalle([id_sc3_producto],[id_sc3_corrida],[marca],[tipo],[tipo_es],[color],[color_es],[sexo],[descripcion],[moneda],[precio],[precio_original],[fecha_alta],[url_imagen],[url_producto],[origen]) values (?,?,?,?,?,?,?,?,?,?,?,?,?,?,?,?)\", \n",
    "                   row['id Producto'], \n",
    "                   maxCorrida,\n",
    "                   row['Marca'],\n",
    "                   row['Tipo'],\n",
    "                   row['TIPO_AUX'],\n",
    "                   row['Color'],\n",
    "                   row['COLOR_AUX'],\n",
    "                   row['Sexo'],\n",
    "                   row['Descripcion'], \n",
    "                   row['Moneda'],\n",
    "                   row['Precio Nuevo'], \n",
    "                   row['Precio Anterior'], \n",
    "                   row['Fecha'],\n",
    "                   row['Url Imagen'], \n",
    "                   row['Url Producto'],\n",
    "                   row['Origen']) \n",
    "    cnxn.commit()\n",
    "cursor.close()\n",
    "cnxn.close()"
   ]
  },
  {
   "cell_type": "code",
   "execution_count": 67,
   "metadata": {},
   "outputs": [
    {
     "name": "stdout",
     "output_type": "stream",
     "text": [
      "Inserts HARRINGTON en : 0:02:38.488561\n"
     ]
    }
   ],
   "source": [
    "end_ = datetime.datetime.today()\n",
    "\n",
    "print(f'Inserts {scraper} en : {end_-start_}')"
   ]
  },
  {
   "cell_type": "code",
   "execution_count": 1,
   "metadata": {},
   "outputs": [
    {
     "name": "stdout",
     "output_type": "stream",
     "text": [
      "[NbConvertApp] Converting notebook Harrington_insert.ipynb to script\n",
      "[NbConvertApp] Writing 4090 bytes to Harrington_insert.py\n"
     ]
    }
   ],
   "source": [
    "#!jupyter nbconvert --to script 'Harrington_insert.ipynb'"
   ]
  },
  {
   "cell_type": "code",
   "execution_count": null,
   "metadata": {},
   "outputs": [],
   "source": []
  }
 ],
 "metadata": {
  "kernelspec": {
   "display_name": "Python [conda env:dev_env]",
   "language": "python",
   "name": "conda-env-dev_env-py"
  },
  "language_info": {
   "codemirror_mode": {
    "name": "ipython",
    "version": 3
   },
   "file_extension": ".py",
   "mimetype": "text/x-python",
   "name": "python",
   "nbconvert_exporter": "python",
   "pygments_lexer": "ipython3",
   "version": "3.6.8"
  }
 },
 "nbformat": 4,
 "nbformat_minor": 2
}
