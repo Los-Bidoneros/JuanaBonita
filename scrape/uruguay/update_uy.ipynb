{
 "cells": [
  {
   "cell_type": "code",
   "execution_count": 1,
   "metadata": {},
   "outputs": [],
   "source": [
    "import pandas as pd\n",
    "import pyodbc\n",
    "import numpy as np\n",
    "from pandas import ExcelWriter\n",
    "import datetime"
   ]
  },
  {
   "cell_type": "code",
   "execution_count": 2,
   "metadata": {},
   "outputs": [],
   "source": [
    "server = 'tcp:192.168.1.6'\n",
    "database = 'planeamiento'\n",
    "username = 'sa'\n",
    "password = 'sa'\n",
    "cnxn = pyodbc.connect('DRIVER={/opt/microsoft/msodbcsql17/lib64/libmsodbcsql-17.2.so.0.1};SERVER='+server+\n",
    "                      ';DATABASE='+database+\n",
    "                      ';UID='+username+\n",
    "                      ';PWD='+ password) "
   ]
  },
  {
   "cell_type": "code",
   "execution_count": 4,
   "metadata": {},
   "outputs": [],
   "source": [
    "cursor = cnxn.cursor()\n",
    "cursor.execute(''' delete from sc3_detalle where tipo_es ='MEDIAS'\n",
    "\n",
    "                    update sc3_detalle\n",
    "                    set tipo_es = UPPER(tipo_es)\n",
    "                    \n",
    "                    update sc3_detalle\n",
    "                    set color_es = UPPER(color_es)\n",
    "               ''') \n",
    "cnxn.commit()\n"
   ]
  },
  {
   "cell_type": "code",
   "execution_count": null,
   "metadata": {},
   "outputs": [],
   "source": []
  },
  {
   "cell_type": "code",
   "execution_count": 5,
   "metadata": {},
   "outputs": [],
   "source": [
    "cursor.execute(''' update sc3_detalle\n",
    "                   set tipo_es = 'REMERA'\n",
    "                   where tipo_es ='T-SHIRT' or tipo_es ='REMERAS'\n",
    "                    \n",
    "                   update sc3_detalle\n",
    "                   set tipo_es = 'CAMPERA'\n",
    "                   where tipo_es ='CAMPERAS'\n",
    "                   \n",
    "                   update sc3_detalle\n",
    "                   set tipo_es = 'SOUTIEN'\n",
    "                   where tipo_es ='SOUTIENS'\n",
    "                   \n",
    "                   update sc3_detalle\n",
    "                   set tipo_es = 'CALZA'\n",
    "                   where tipo_es ='LEGGING'\n",
    "                   \n",
    "                   update sc3_detalle\n",
    "                   set tipo_es = 'CAMISA'\n",
    "                   where tipo_es ='CAMISAS'\n",
    "                   \n",
    "                   update sc3_detalle\n",
    "                   set tipo_es = 'PANTALON'\n",
    "                   where tipo_es ='PANTALÓN' or tipo_es ='PANTALONES'\n",
    "                                      \n",
    "                   update sc3_detalle\n",
    "                   set tipo_es = 'BOMBACHA'\n",
    "                   where tipo_es ='BRAGAS'\n",
    "                   \n",
    "                   update sc3_detalle\n",
    "                   set tipo_es = 'CHAQUETA'\n",
    "                   where tipo_es ='CHAQUETAS'\n",
    "                   \n",
    "                   update sc3_detalle\n",
    "                   set tipo_es = 'CHALECO'\n",
    "                   where tipo_es ='CHALECOS'\n",
    "                   \n",
    "                   update sc3_detalle\n",
    "                   set tipo_es = 'CONJUNTO'\n",
    "                   where tipo_es ='CONJUNTOS'\n",
    "                   \n",
    "                   update sc3_detalle\n",
    "                   set tipo_es = 'DEPORTIVO'\n",
    "                   where tipo_es ='DEPORTIVOS' or tipo_es ='FITNESS'\n",
    "                   \n",
    "                   \n",
    "                   update sc3_detalle\n",
    "                   set tipo_es = 'FALDA'\n",
    "                   where tipo_es ='FALDAS'\n",
    "                   \n",
    "                   update sc3_detalle\n",
    "                   set tipo_es = 'JEAN'\n",
    "                   where tipo_es ='JEANS' or tipo_es ='JEGGING'\n",
    "                   \n",
    "                   update sc3_detalle\n",
    "                   set tipo_es = 'LENCERIA'\n",
    "                   where tipo_es ='LENCERÍA'\n",
    "                   \n",
    "                   update sc3_detalle\n",
    "                   set tipo_es = 'BLUSA'\n",
    "                   where tipo_es ='MANGA CORTA'\n",
    "                  \n",
    "                   \n",
    "                   \n",
    "               ''') \n",
    "cnxn.commit()\n"
   ]
  },
  {
   "cell_type": "code",
   "execution_count": 4,
   "metadata": {},
   "outputs": [],
   "source": [
    "DISTINCT_TIPO = '''SELECT DISTINCT tipo_es,origen from sc3_detalle'''\n",
    "DISTINCT_TIPO = pd.read_sql(DISTINCT_TIPO,cnxn)"
   ]
  },
  {
   "cell_type": "code",
   "execution_count": 6,
   "metadata": {},
   "outputs": [
    {
     "data": {
      "text/plain": [
       "['ABRIGOS Y CHAQUETAS',\n",
       " 'BERMUDA',\n",
       " 'BERMUDAS Y SHORTS',\n",
       " 'BLAZER',\n",
       " 'BLAZERS + KIMONOS',\n",
       " 'BLUSA',\n",
       " 'BLUSAS Y CAMISETAS',\n",
       " 'BLUSAS Y SWEATERS',\n",
       " 'BODY',\n",
       " 'BOMBACHA',\n",
       " 'BOMBACHAS',\n",
       " 'BOXERS',\n",
       " 'BUZO',\n",
       " 'CALZA',\n",
       " 'CALZONCILLOS',\n",
       " 'CAMISA',\n",
       " 'CAMISAS + BLUSAS',\n",
       " 'CAMISETAS',\n",
       " 'CAMISONES',\n",
       " 'CAMPERA',\n",
       " 'CAMPERAS',\n",
       " 'CARDIGAN',\n",
       " 'CASUAL',\n",
       " 'CAZADORA',\n",
       " 'CHALECO',\n",
       " 'CHAQUETA',\n",
       " 'CONJUNTO',\n",
       " 'CONJUNTOS',\n",
       " 'CORSET Y CAMISAS',\n",
       " 'CULOTTE',\n",
       " 'DEPORTIVO',\n",
       " 'FALDA',\n",
       " 'FALDAS',\n",
       " 'FITNESS',\n",
       " 'FORMADORES Y REDUCTORES',\n",
       " 'JEAN',\n",
       " 'JEGGING',\n",
       " 'LENCERIA',\n",
       " 'LENCERÍA',\n",
       " 'MALLAS',\n",
       " 'MODA PLAYA',\n",
       " 'MONO',\n",
       " 'MONOS Y JARDINEROS',\n",
       " 'MONTGOMERY',\n",
       " 'MUSCULOSA',\n",
       " 'MUSCULOSAS',\n",
       " 'PALAZZO',\n",
       " 'PANTALON',\n",
       " 'PANTALONES',\n",
       " 'PANTALÓN',\n",
       " 'PIJAMAS',\n",
       " 'PIJAMAS Y SHORT DOLLS',\n",
       " 'REMERA',\n",
       " 'REMERAS',\n",
       " 'ROPA DE DORMIR',\n",
       " 'ROPA DEPORTIVA',\n",
       " 'ROPA INTERIOR',\n",
       " 'RUANA',\n",
       " 'SACO',\n",
       " 'SACÓN',\n",
       " 'SHORT',\n",
       " 'SHORTS',\n",
       " 'SOBRETODO',\n",
       " 'SOUTIEN',\n",
       " 'SOUTIENS',\n",
       " 'SUDADERAS',\n",
       " 'SWEATER',\n",
       " 'SWEATERS',\n",
       " 'T-SHIRT',\n",
       " 'TAPADOS',\n",
       " 'TEJIDOS',\n",
       " 'TOGAS Y BATAS',\n",
       " 'TOP',\n",
       " 'TRAJE',\n",
       " 'TRAJES DE BAÑO',\n",
       " 'TÚNICA',\n",
       " 'VESTIDO',\n",
       " 'VESTIDOS',\n",
       " 'VESTIDOS + MONOS',\n",
       " 'VESTIMENTA']"
      ]
     },
     "execution_count": 6,
     "metadata": {},
     "output_type": "execute_result"
    }
   ],
   "source": [
    "sorted(DISTINCT_TIPO.tipo_es.unique())"
   ]
  },
  {
   "cell_type": "code",
   "execution_count": 19,
   "metadata": {},
   "outputs": [],
   "source": [
    "RESPALDO = '''SELECT * from sc3_detalle'''\n",
    "RESPALDO = pd.read_sql(RESPALDO,cnxn)\n"
   ]
  },
  {
   "cell_type": "code",
   "execution_count": 112,
   "metadata": {},
   "outputs": [
    {
     "data": {
      "text/plain": [
       "853467"
      ]
     },
     "execution_count": 112,
     "metadata": {},
     "output_type": "execute_result"
    }
   ],
   "source": [
    "len(RESPALDO)"
   ]
  },
  {
   "cell_type": "code",
   "execution_count": null,
   "metadata": {},
   "outputs": [],
   "source": []
  }
 ],
 "metadata": {
  "kernelspec": {
   "display_name": "Python [conda env:dev_env]",
   "language": "python",
   "name": "conda-env-dev_env-py"
  },
  "language_info": {
   "codemirror_mode": {
    "name": "ipython",
    "version": 3
   },
   "file_extension": ".py",
   "mimetype": "text/x-python",
   "name": "python",
   "nbconvert_exporter": "python",
   "pygments_lexer": "ipython3",
   "version": "3.6.8"
  }
 },
 "nbformat": 4,
 "nbformat_minor": 2
}
