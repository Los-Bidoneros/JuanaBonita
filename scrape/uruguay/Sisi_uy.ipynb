{
 "cells": [
  {
   "cell_type": "code",
   "execution_count": 1,
   "metadata": {},
   "outputs": [],
   "source": [
    "from selenium import webdriver\n",
    "from selenium.webdriver.support.ui import WebDriverWait\n",
    "from selenium.webdriver.common.by import By\n",
    "from selenium.webdriver.support import expected_conditions as EC\n",
    "from selenium.webdriver.support import expected_conditions\n",
    "from selenium.webdriver.chrome.options import Options\n",
    "from bs4 import BeautifulSoup\n",
    "import pandas as pd\n",
    "import requests\n",
    "from time import strftime\n",
    "import datetime\n",
    "import time\n",
    "from pandas import ExcelWriter\n",
    "import re\n",
    "import pyodbc\n",
    "from selenium.webdriver.common.action_chains import ActionChains\n",
    "import numpy as np\n",
    "from ipywidgets import IntProgress\n",
    "from IPython.display import display\n",
    "from IPython.display import clear_output\n",
    "import os\n",
    "scraper ='SISI'"
   ]
  },
  {
   "cell_type": "code",
   "execution_count": 2,
   "metadata": {},
   "outputs": [],
   "source": [
    "URLS = [['Mujer','https://sisi.com.uy/mujer'],\n",
    "        ['Hombre','https://sisi.com.uy/hombre']]"
   ]
  },
  {
   "cell_type": "code",
   "execution_count": 3,
   "metadata": {},
   "outputs": [],
   "source": [
    "start_ = datetime.datetime.now()\n",
    "fecha = datetime.date.today()\n",
    "\n",
    "\n",
    "user_agent = 'Mozilla/5.0 (X11; Linux x86_64) AppleWebKit/537.36 (KHTML, like Gecko) Chrome/60.0.3112.50 Safari/537.36'    \n",
    "\n",
    "chrome_options = Options()  \n",
    "chrome_options.add_argument(\"--headless\")  \n",
    "chrome_options.add_argument(\"--no-sandbox\")\n",
    "chrome_options.add_argument(f'user-agent={user_agent}')\n",
    "chrome_options.add_argument(\"--window-size=1325x744\")\n",
    "browser = webdriver.Chrome('/usr/bin/chromedriver', options = chrome_options)\n",
    "browser.delete_all_cookies()"
   ]
  },
  {
   "cell_type": "code",
   "execution_count": null,
   "metadata": {},
   "outputs": [],
   "source": []
  },
  {
   "cell_type": "code",
   "execution_count": 4,
   "metadata": {},
   "outputs": [],
   "source": [
    "browser.get(URLS[0][1])"
   ]
  },
  {
   "cell_type": "code",
   "execution_count": 5,
   "metadata": {},
   "outputs": [],
   "source": [
    "BLK = browser.find_element_by_class_name('blk')\n",
    "if BLK.get_attribute('data-codigo') != 'categoria':\n",
    "    raise \"ERROR EN CATEGORÍA\""
   ]
  },
  {
   "cell_type": "code",
   "execution_count": 6,
   "metadata": {},
   "outputs": [],
   "source": [
    "LABELS = BLK.find_element_by_class_name('lst').find_elements_by_tag_name('label')\n"
   ]
  },
  {
   "cell_type": "code",
   "execution_count": 7,
   "metadata": {},
   "outputs": [],
   "source": [
    "CATEGORIAS = []\n",
    "for i in LABELS:\n",
    "    #CREAR UN STR DE MAYÚSCULAS \n",
    "    CAT = str(i.get_attribute('title')).upper()\n",
    "    if  CAT == 'MEDIAS':\n",
    "        continue\n",
    "    elif CAT == 'ACCESORIOS':\n",
    "        continue\n",
    "    elif CAT == 'BELLEZA':\n",
    "        continue\n",
    "    elif CAT == 'CALZADO':\n",
    "        continue\n",
    "    else:\n",
    "        CATEGORIAS.append([CAT.capitalize(),i.get_attribute('data-val')])\n",
    "#ITERAR CATEGORIAS"
   ]
  },
  {
   "cell_type": "code",
   "execution_count": 8,
   "metadata": {},
   "outputs": [
    {
     "data": {
      "text/plain": [
       "[['Ropa interior', 'https://sisi.com.uy/mujer/ropa-interior'],\n",
       " ['Ropa de dormir', 'https://sisi.com.uy/mujer/ropa-de-dormir'],\n",
       " ['Trajes de baño', 'https://sisi.com.uy/mujer/trajes-de-bano'],\n",
       " ['Vestimenta', 'https://sisi.com.uy/mujer/vestimenta']]"
      ]
     },
     "execution_count": 8,
     "metadata": {},
     "output_type": "execute_result"
    }
   ],
   "source": [
    "CATEGORIAS"
   ]
  },
  {
   "cell_type": "code",
   "execution_count": 14,
   "metadata": {},
   "outputs": [],
   "source": [
    "LISTA_PRODUCTOS = []\n",
    "#browser.find_element_by_xpath('//*[@id=\"catalogoFiltros\"]/div/div[1]/div[2]/div')\n",
    "for url in URLS:\n",
    "    browser.get(url[1])\n",
    "    BLK = browser.find_element_by_class_name('blk')\n",
    "    if BLK.get_attribute('data-codigo') != 'categoria':\n",
    "        raise \"ERROR EN CATEGORÍA\"\n",
    "\n",
    "    #NAVEGAR POR EL ELEMENTO BLK HASTA LLEGAR A LA LISTA DONDE ESTAN\n",
    "    #LAS LABELS \n",
    "    LABELS = BLK.find_element_by_class_name('lst').find_elements_by_tag_name('label')\n",
    "\n",
    "    CATEGORIAS = []\n",
    "    #QUITAR ELEMENTOS NO DESEADOS\n",
    "    CATEGORIAS = []\n",
    "    for i in LABELS:\n",
    "        #CREAR UN STR DE MAYÚSCULAS \n",
    "        CAT = str(i.get_attribute('title')).upper()\n",
    "        if  CAT == 'MEDIAS':\n",
    "            continue\n",
    "        elif CAT == 'ACCESORIOS':\n",
    "            continue\n",
    "        elif CAT == 'BELLEZA':\n",
    "            continue\n",
    "        elif CAT == 'CALZADO':\n",
    "            continue\n",
    "        else:\n",
    "            CATEGORIAS.append([CAT.capitalize(),i.get_attribute('data-val')])\n",
    "    #ITERAR CATEGORIAS\n",
    "    for CATEGORIA in CATEGORIAS:\n",
    "        \n",
    "        browser.get(CATEGORIA[1])\n",
    "    \n",
    "        #GUARDO LA PÁGINA PARA HACER UNA REQUEST AL FINALIZAR TODOS LOS COLORES\n",
    "        CURRENT_URL = browser.current_url\n",
    "        #requesst de la pagina actual\n",
    "        page = BeautifulSoup(browser.page_source,\"html.parser\")\n",
    "\n",
    "        #A VER SI FUNCIONA AHORA ESTA PORQUERIA\n",
    "        browser.get(browser.current_url)\n",
    "        ##scroll \n",
    "        last_height = browser.execute_script(\"return document.body.scrollHeight\")\n",
    "        while True:\n",
    "\n",
    "            browser.execute_script(\"window.scrollTo(0, document.body.scrollHeight);\")\n",
    "            time.sleep(5.5)\n",
    "            try:\n",
    "                browser.execute_script('window.scrollTo(0, 1100);')\n",
    "                #browser.find_element_by_xpath('//*[@id=\"catalogoPaginado\"]/button/span').click()\n",
    "                browser.execute_script('window.scrollTo(0, 1500);')\n",
    "                browser.find_element_by_id('catalogoPaginado').click()\n",
    "            except:\n",
    "                pass\n",
    "\n",
    "            new_height = browser.execute_script(\"return document.body.scrollHeight\")\n",
    "            if new_height == last_height:\n",
    "                break\n",
    "            last_height = new_height\n",
    "        \n",
    "        page = BeautifulSoup(browser.page_source,\"html.parser\")\n",
    "        #VER SI AL FINALIZAR EL SCROLL, SE PUDO MOSTRAR TODOS LOS PRODUCTOS\n",
    "        try:\n",
    "            if int(browser.find_element_by_id(\"catalogoPaginado\").text.split()[1]) != int(browser.find_element_by_id(\"catalogoPaginado\").text.split()[-1]):\n",
    "\n",
    "                print(browser.find_element_by_id(\"catalogoPaginado\").text)\n",
    "                browser.find_element_by_xpath('//*[@id=\"catalogoPaginado\"]/button').click()\n",
    "        except:\n",
    "            pass\n",
    "\n",
    "        #TODOS LOS PRODUCTOS\n",
    "        DIV_PRODUCTOS = browser.find_element_by_xpath('//*[@id=\"catalogoProductos\"]').find_elements_by_class_name('it')\n",
    "\n",
    "        for PRODUCTO in DIV_PRODUCTOS:\n",
    "#            raise\n",
    "            #EXCLUIR LAS IMAGENES PNG(NORMALMENTE SON ICONOS)\n",
    "            AUX_JPG = PRODUCTO.find_element_by_tag_name('a').find_elements_by_tag_name('img')[0].get_attribute('src')\n",
    "            if AUX_JPG.find('.jpg') == -1:\n",
    "                AUX_JPG = PRODUCTO.find_element_by_tag_name('a').find_elements_by_tag_name('img')[1].get_attribute('src')\n",
    "            elif AUX_JPG.find('.jpg') == -1:\n",
    "                AUX_JPG = PRODUCTO.find_element_by_tag_name('a').find_elements_by_tag_name('img')[2].get_attribute('src')\n",
    "            if AUX_JPG.find('.jpg') != -1:\n",
    "                IMG = AUX_JPG\n",
    "\n",
    "            ID = PRODUCTO.get_attribute('data-codprod')\n",
    "            DESCRIPCION = PRODUCTO.text\n",
    "            PRECIO = PRODUCTO.text.split('\\n') #[1] yy\n",
    "            HREF = PRODUCTO.find_element_by_tag_name('a').get_attribute('href')\n",
    "            LISTA_PRODUCTOS.append([ID,\n",
    "                                    DESCRIPCION,\n",
    "                                    CATEGORIA[0],\n",
    "                                    url[0],\n",
    "                                    PRECIO,\n",
    "                                    HREF,\n",
    "                                    IMG])"
   ]
  },
  {
   "cell_type": "code",
   "execution_count": 15,
   "metadata": {},
   "outputs": [
    {
     "data": {
      "text/plain": [
       "1965"
      ]
     },
     "execution_count": 15,
     "metadata": {},
     "output_type": "execute_result"
    }
   ],
   "source": []
  },
  {
   "cell_type": "code",
   "execution_count": 11,
   "metadata": {},
   "outputs": [
    {
     "data": {
      "text/plain": [
       "2064"
      ]
     },
     "execution_count": 11,
     "metadata": {},
     "output_type": "execute_result"
    }
   ],
   "source": [
    "browser.save_screenshot('asd.png')"
   ]
  },
  {
   "cell_type": "code",
   "execution_count": 43,
   "metadata": {},
   "outputs": [],
   "source": [
    "dfSisi = pd.DataFrame(LISTA_PRODUCTOS)"
   ]
  },
  {
   "cell_type": "code",
   "execution_count": 44,
   "metadata": {},
   "outputs": [],
   "source": [
    "dfSisi.rename(columns={0:'codigo'},inplace=True)\n",
    "dfSisi.rename(columns={1:'descripcion'},inplace=True)\n",
    "dfSisi.rename(columns={2:'tipo'},inplace=True)\n",
    "dfSisi.rename(columns={3:'sexo'},inplace=True)\n",
    "dfSisi.rename(columns={4:'precio'},inplace=True)\n",
    "dfSisi.rename(columns={5:'url_producto'},inplace=True)\n",
    "dfSisi.rename(columns={6:'img_producto'},inplace=True)"
   ]
  },
  {
   "cell_type": "code",
   "execution_count": 45,
   "metadata": {},
   "outputs": [],
   "source": [
    "dfSisi = dfSisi[dfSisi['descripcion'] != \"\"]"
   ]
  },
  {
   "cell_type": "code",
   "execution_count": 46,
   "metadata": {},
   "outputs": [],
   "source": [
    "dfSisi['DESC'] = dfSisi['descripcion'].str.capitalize().apply(lambda x : x.split('\\n')[0].split(' - ')[0])"
   ]
  },
  {
   "cell_type": "code",
   "execution_count": 47,
   "metadata": {},
   "outputs": [],
   "source": [
    "dfSisi['color'] = dfSisi['descripcion'].str.capitalize().apply(lambda x : x.split('\\n')[0].split(' - ')[1]).str.capitalize()"
   ]
  },
  {
   "cell_type": "code",
   "execution_count": 55,
   "metadata": {},
   "outputs": [],
   "source": [
    "dfSisi['precio'] = dfSisi['precio'].apply(lambda x:x[1])"
   ]
  },
  {
   "cell_type": "code",
   "execution_count": 58,
   "metadata": {},
   "outputs": [],
   "source": [
    "dfSisi['precio_dto'] = dfSisi['precio'].apply(lambda x : x.split('$')[2] if len(x.split('$')) == 3 else x.split('$')[1])\n",
    "\n",
    "dfSisi['precio_original'] = dfSisi['precio'].apply(lambda x : x.split('$')[1] if len(x.split('$')) == 3 else x.split('$')[1])"
   ]
  },
  {
   "cell_type": "code",
   "execution_count": null,
   "metadata": {},
   "outputs": [],
   "source": []
  },
  {
   "cell_type": "code",
   "execution_count": 59,
   "metadata": {},
   "outputs": [],
   "source": [
    "dfSisi['fecha'] = fecha\n",
    "dfSisi['origen'] = 'SISI UY'\n",
    "dfSisi['marca'] = 'SISI'"
   ]
  },
  {
   "cell_type": "code",
   "execution_count": 60,
   "metadata": {},
   "outputs": [],
   "source": [
    "if len(dfSisi.drop_duplicates()) == len(dfSisi.dropna()) == len(dfSisi) == True:\n",
    "    print(f'CIUDADO DUPLICADOS EN {scraper}')"
   ]
  },
  {
   "cell_type": "code",
   "execution_count": 63,
   "metadata": {},
   "outputs": [],
   "source": [
    "writer = ExcelWriter('/home/aa/cloudJ/JB/PRD/scrapper/Scripts/Uruguay/Salida/sisi'+str(fecha)+'.xlsx')\n",
    "dfSisi.to_excel(writer,'Hoja1')\n",
    "writer.save()"
   ]
  },
  {
   "cell_type": "code",
   "execution_count": 68,
   "metadata": {},
   "outputs": [],
   "source": [
    "browser.quit()"
   ]
  },
  {
   "cell_type": "code",
   "execution_count": null,
   "metadata": {},
   "outputs": [],
   "source": [
    "\n",
    "end_ = datetime.datetime.now()\n",
    "print(f'Tiempo de ejecución {scraper}: {str(end_ - start_)[:-7]}')\n"
   ]
  },
  {
   "cell_type": "code",
   "execution_count": 67,
   "metadata": {},
   "outputs": [
    {
     "name": "stdout",
     "output_type": "stream",
     "text": [
      "[NbConvertApp] Converting notebook Sisi_uy.ipynb to script\n",
      "[NbConvertApp] Writing 7847 bytes to Sisi_uy.py\n"
     ]
    }
   ],
   "source": [
    "#!jupyter nbconvert --to script 'Sisi_uy.ipynb'"
   ]
  },
  {
   "cell_type": "code",
   "execution_count": null,
   "metadata": {},
   "outputs": [],
   "source": []
  },
  {
   "cell_type": "code",
   "execution_count": null,
   "metadata": {},
   "outputs": [],
   "source": []
  }
 ],
 "metadata": {
  "kernelspec": {
   "display_name": "Python [conda env:dev_env]",
   "language": "python",
   "name": "conda-env-dev_env-py"
  },
  "language_info": {
   "codemirror_mode": {
    "name": "ipython",
    "version": 3
   },
   "file_extension": ".py",
   "mimetype": "text/x-python",
   "name": "python",
   "nbconvert_exporter": "python",
   "pygments_lexer": "ipython3",
   "version": "3.6.8"
  }
 },
 "nbformat": 4,
 "nbformat_minor": 2
}
