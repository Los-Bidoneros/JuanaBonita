{
 "cells": [
  {
   "cell_type": "code",
   "execution_count": 2,
   "metadata": {},
   "outputs": [],
   "source": [
    "from selenium import webdriver\n",
    "from selenium.webdriver.support.ui import WebDriverWait\n",
    "from selenium.webdriver.common.by import By\n",
    "from selenium.webdriver.support import expected_conditions as EC\n",
    "from selenium.webdriver.support import expected_conditions\n",
    "from selenium.webdriver.chrome.options import Options\n",
    "from bs4 import BeautifulSoup\n",
    "import pandas as pd\n",
    "import requests\n",
    "from time import strftime\n",
    "import datetime\n",
    "import time\n",
    "from pandas import ExcelWriter\n",
    "import re\n",
    "import pyodbc\n",
    "from selenium.webdriver.common.action_chains import ActionChains\n",
    "import numpy as np\n",
    "from ipywidgets import IntProgress\n",
    "from IPython.display import display\n",
    "from IPython.display import clear_output\n",
    "import os\n",
    "scraper = 'LOLITA'"
   ]
  },
  {
   "cell_type": "code",
   "execution_count": 3,
   "metadata": {},
   "outputs": [],
   "source": [
    "url = 'https://lolita.com.uy/vestimenta'"
   ]
  },
  {
   "cell_type": "code",
   "execution_count": 4,
   "metadata": {},
   "outputs": [],
   "source": [
    "start_ = datetime.datetime.now()\n",
    "fecha = datetime.date.today()\n",
    "\n",
    "user_agent = 'Mozilla/5.0 (X11; Linux x86_64) AppleWebKit/537.36 (KHTML, like Gecko) Chrome/60.0.3112.50 Safari/537.36'    \n",
    "\n",
    "chrome_options = Options()  \n",
    "chrome_options.add_argument(\"--headless\")  \n",
    "chrome_options.add_argument(\"--no-sandbox\")\n",
    "chrome_options.add_argument(f'user-agent={user_agent}')\n",
    "chrome_options.add_argument(\"--window-size=1825x1244\")\n",
    "\n",
    "\n",
    "browser = webdriver.Chrome('/usr/bin/chromedriver', options = chrome_options)\n"
   ]
  },
  {
   "cell_type": "code",
   "execution_count": 5,
   "metadata": {},
   "outputs": [],
   "source": [
    "browser.get(url)"
   ]
  },
  {
   "cell_type": "code",
   "execution_count": 6,
   "metadata": {},
   "outputs": [],
   "source": [
    "BLK = browser.find_element_by_class_name('blk')\n",
    "if BLK.get_attribute('data-codigo') != 'categoria':\n",
    "    raise \"ERROR EN CATEGORÍA\""
   ]
  },
  {
   "cell_type": "code",
   "execution_count": 7,
   "metadata": {},
   "outputs": [],
   "source": [
    "LABELS = BLK.find_element_by_class_name('lst').find_elements_by_tag_name('label')"
   ]
  },
  {
   "cell_type": "code",
   "execution_count": 8,
   "metadata": {},
   "outputs": [],
   "source": [
    "CATEGORIAS = [[str(i.get_attribute('title')).upper(),i.get_attribute('data-val')] for i in LABELS]\n",
    "                       \n",
    "#ITERAR CATEGORIAS"
   ]
  },
  {
   "cell_type": "code",
   "execution_count": null,
   "metadata": {},
   "outputs": [],
   "source": []
  },
  {
   "cell_type": "code",
   "execution_count": 9,
   "metadata": {},
   "outputs": [],
   "source": [
    "#browser.execute_script(\"window.scrollTo(0, document.body.scrollHeight);\")"
   ]
  },
  {
   "cell_type": "code",
   "execution_count": 10,
   "metadata": {},
   "outputs": [],
   "source": [
    "LISTA_PRODUCTOS = []\n",
    "\n",
    "for CATEGORIA in CATEGORIAS:\n",
    "    \n",
    "    browser.get(CATEGORIA[1])\n",
    "    last_height = browser.execute_script(\"return document.body.scrollHeight\")\n",
    "    while True:\n",
    "\n",
    "        browser.execute_script(\"window.scrollTo(0, document.body.scrollHeight);\")\n",
    "        try:\n",
    "            browser.execute_script('var elmnt = document.getElementById(\"catalogoPaginado\");elmnt.scrollIntoView();')\n",
    "            browser.find_element_by_id('catalogoPaginado').click()\n",
    "        except:\n",
    "            \n",
    "            pass\n",
    "        time.sleep(10.5)\n",
    "        new_height = browser.execute_script(\"return document.body.scrollHeight\")\n",
    "        if new_height == last_height:\n",
    "            break\n",
    "        last_height = new_height\n",
    "\n",
    "    ELEMENTO_PRODUCTOS = browser.find_element_by_xpath('//*[@id=\"catalogoProductos\"]')\n",
    "\n",
    "    PRODUCTOS = ELEMENTO_PRODUCTOS.find_elements_by_class_name('it')\n",
    "\n",
    "\n",
    "    for item in PRODUCTOS:\n",
    "\n",
    "        AUX_JPG = item.find_element_by_tag_name('a').find_elements_by_tag_name('img')[0].get_attribute('src')\n",
    "        if AUX_JPG.find('.jpg') == -1:\n",
    "            AUX_JPG = item.find_element_by_tag_name('a').find_elements_by_tag_name('img')[1].get_attribute('src')\n",
    "        if AUX_JPG.find('.jpg') == -1:\n",
    "            AUX_JPG = item.find_element_by_tag_name('a').find_elements_by_tag_name('img')[2].get_attribute('src')\n",
    "\n",
    "        if AUX_JPG.find('.jpg') != -1:\n",
    "            IMG = AUX_JPG\n",
    "\n",
    "        ID = item.get_attribute('data-codprod')\n",
    "        DESCRIPCION = item.text.split('\\n')[0].split(' - ')[0]\n",
    "        COLOR = item.text.split('\\n')[0].split(' - ')[1]\n",
    "        PRECIO = item.text.split('\\n')[1]\n",
    "        #PRECIO_DTO = item.find_element_by_class_name('descuentosMDP').text\n",
    "        HREF = item.find_element_by_tag_name('a').get_attribute('href')\n",
    "        browser.find_element_by_class_name('descuentosMDP').text\n",
    "\n",
    "        LISTA_PRODUCTOS.append([ID,\n",
    "                                DESCRIPCION,\n",
    "                                COLOR,\n",
    "                                PRECIO,\n",
    "                                #PRECIO_DTO,\n",
    "                                HREF,\n",
    "                                IMG])"
   ]
  },
  {
   "cell_type": "code",
   "execution_count": null,
   "metadata": {},
   "outputs": [],
   "source": []
  },
  {
   "cell_type": "code",
   "execution_count": 11,
   "metadata": {},
   "outputs": [],
   "source": [
    "end_ = datetime.datetime.now()"
   ]
  },
  {
   "cell_type": "code",
   "execution_count": 20,
   "metadata": {},
   "outputs": [],
   "source": [
    "df_lolita = pd.DataFrame(LISTA_PRODUCTOS)"
   ]
  },
  {
   "cell_type": "code",
   "execution_count": null,
   "metadata": {},
   "outputs": [],
   "source": []
  },
  {
   "cell_type": "code",
   "execution_count": 22,
   "metadata": {},
   "outputs": [],
   "source": [
    "df_lolita.rename(columns={0:'codigo'},inplace=True)\n",
    "df_lolita.rename(columns={1:'descripcion'},inplace=True)\n",
    "df_lolita.rename(columns={2:'color'},inplace=True)\n",
    "df_lolita.rename(columns={3:'precio'},inplace=True)\n",
    "df_lolita.rename(columns={4:'url_producto'},inplace=True)\n",
    "df_lolita.rename(columns={5:'img_producto'},inplace=True)\n"
   ]
  },
  {
   "cell_type": "code",
   "execution_count": null,
   "metadata": {},
   "outputs": [],
   "source": []
  },
  {
   "cell_type": "code",
   "execution_count": 23,
   "metadata": {},
   "outputs": [],
   "source": [
    "df_lolita['fecha'] = fecha"
   ]
  },
  {
   "cell_type": "code",
   "execution_count": 24,
   "metadata": {},
   "outputs": [],
   "source": [
    "df_lolita['origen'] = 'LOLITA UY'\n",
    "df_lolita['marca'] = 'LOLITA'"
   ]
  },
  {
   "cell_type": "code",
   "execution_count": 25,
   "metadata": {},
   "outputs": [],
   "source": [
    "browser.quit()\n",
    "\n",
    "if len(df_lolita.drop_duplicates()) == len(df_lolita.dropna()) == len(df_lolita) == True:\n",
    "    print(f'CIUDADO DUPLICADOS EN {scraper}')\n"
   ]
  },
  {
   "cell_type": "code",
   "execution_count": 26,
   "metadata": {},
   "outputs": [],
   "source": [
    "writer = ExcelWriter('/home/aa/cloudJ/JB/PRD/scrapper/Scripts/Uruguay/Salida/lolita'+str(fecha)+'.xlsx')\n",
    "df_lolita.to_excel(writer,'Hoja1')\n",
    "writer.save()"
   ]
  },
  {
   "cell_type": "code",
   "execution_count": 27,
   "metadata": {},
   "outputs": [
    {
     "name": "stdout",
     "output_type": "stream",
     "text": [
      "[NbConvertApp] Converting notebook Lolita_uy.ipynb to script\n",
      "[NbConvertApp] Writing 4866 bytes to Lolita_uy.py\n"
     ]
    }
   ],
   "source": [
    "#!jupyter nbconvert --to script 'Lolita_uy.ipynb'"
   ]
  },
  {
   "cell_type": "code",
   "execution_count": null,
   "metadata": {},
   "outputs": [],
   "source": []
  }
 ],
 "metadata": {
  "kernelspec": {
   "display_name": "Python [conda env:dev_env]",
   "language": "python",
   "name": "conda-env-dev_env-py"
  },
  "language_info": {
   "codemirror_mode": {
    "name": "ipython",
    "version": 3
   },
   "file_extension": ".py",
   "mimetype": "text/x-python",
   "name": "python",
   "nbconvert_exporter": "python",
   "pygments_lexer": "ipython3",
   "version": "3.6.8"
  }
 },
 "nbformat": 4,
 "nbformat_minor": 2
}
