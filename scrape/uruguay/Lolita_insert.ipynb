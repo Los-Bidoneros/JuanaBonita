{
 "cells": [
  {
   "cell_type": "code",
   "execution_count": 70,
   "metadata": {},
   "outputs": [],
   "source": [
    "import pandas as pd\n",
    "import pyodbc\n",
    "import numpy as np\n",
    "from pandas import ExcelWriter\n",
    "import datetime\n",
    "start_ = datetime.datetime.today()\n",
    "scraper='LOLITA'"
   ]
  },
  {
   "cell_type": "code",
   "execution_count": 71,
   "metadata": {},
   "outputs": [],
   "source": [
    "fecha = str(datetime.date.today())\n",
    "ipath = f'./Salida/lolita{fecha}.xlsx'\n",
    "df_lolita = pd.read_excel(ipath)"
   ]
  },
  {
   "cell_type": "code",
   "execution_count": 72,
   "metadata": {},
   "outputs": [],
   "source": [
    "server = 'tcp:192.168.1.6'\n",
    "database =\"planeamiento\"\n",
    "username = 'sa'\n",
    "password = 'sa'\n",
    "cnxn = pyodbc.connect('DRIVER={/opt/microsoft/msodbcsql17/lib64/libmsodbcsql-17.2.so.0.1};SERVER='+server+\n",
    "                      ';DATABASE='+database+\n",
    "                      ';UID='+username+\n",
    "                      ';PWD='+ password) "
   ]
  },
  {
   "cell_type": "code",
   "execution_count": 73,
   "metadata": {},
   "outputs": [],
   "source": [
    "maxCorrida = \"select max(id_sc3_corrida)+1 from sc3_detalle where origen ='LOLITA UY' \"\n",
    "maxCorrida = pd.read_sql(maxCorrida,cnxn) "
   ]
  },
  {
   "cell_type": "code",
   "execution_count": 74,
   "metadata": {},
   "outputs": [],
   "source": [
    "maxCorrida = int(maxCorrida[\"\"][0])"
   ]
  },
  {
   "cell_type": "code",
   "execution_count": null,
   "metadata": {},
   "outputs": [],
   "source": []
  },
  {
   "cell_type": "code",
   "execution_count": 75,
   "metadata": {},
   "outputs": [],
   "source": [
    "df_lolita['precio'] = df_lolita['precio'].apply(lambda x : x.replace('.',''))"
   ]
  },
  {
   "cell_type": "code",
   "execution_count": 76,
   "metadata": {},
   "outputs": [],
   "source": [
    "df_lolita[\"precio_dto\"] = [precio.split('UYU')[2].strip() if len(precio.split('UYU'))==3 else precio.split('UYU')[1] for precio in df_lolita[\"precio\"]]\n",
    "df_lolita[\"precio_original\"] = [precio.split('UYU')[1].strip() for precio in df_lolita[\"precio\"]]"
   ]
  },
  {
   "cell_type": "code",
   "execution_count": 77,
   "metadata": {},
   "outputs": [],
   "source": [
    "df_lolita['tipo'] = df_lolita['descripcion'].apply(lambda x: x.split()[1] if x.split()[0] == 'Maxi' else x.split()[0])    "
   ]
  },
  {
   "cell_type": "code",
   "execution_count": 78,
   "metadata": {},
   "outputs": [],
   "source": [
    "df_lolita['TIPO_AUX'] = df_lolita['tipo']\n",
    "df_lolita['COLOR_AUX'] = df_lolita['color']\n",
    "df_lolita['moneda'] = 'PESOS UY'\n",
    "df_lolita['sexo'] = 'Mujer'"
   ]
  },
  {
   "cell_type": "code",
   "execution_count": 79,
   "metadata": {},
   "outputs": [],
   "source": [
    "df_lolita = df_lolita.dropna()"
   ]
  },
  {
   "cell_type": "code",
   "execution_count": 80,
   "metadata": {},
   "outputs": [],
   "source": [
    "df_lolita = df_lolita.drop_duplicates()"
   ]
  },
  {
   "cell_type": "code",
   "execution_count": null,
   "metadata": {},
   "outputs": [],
   "source": []
  },
  {
   "cell_type": "code",
   "execution_count": null,
   "metadata": {},
   "outputs": [],
   "source": []
  },
  {
   "cell_type": "code",
   "execution_count": 81,
   "metadata": {},
   "outputs": [],
   "source": [
    "df_lolita['precio_dto'] = (df_lolita['precio_dto'].str.extract(r\"([\\d,\\.]+)\", expand=False)\n",
    "                               .str.replace(\".\", \"\")\n",
    "                               .astype(float))\n",
    "\n",
    "\n",
    "df_lolita['precio_original'] = (df_lolita['precio_original'].str.extract(r\"([\\d,\\.]+)\", expand=False)\n",
    "                               .str.replace(\".\", \"\")\n",
    "                               .astype(float))"
   ]
  },
  {
   "cell_type": "code",
   "execution_count": null,
   "metadata": {},
   "outputs": [],
   "source": []
  },
  {
   "cell_type": "code",
   "execution_count": 84,
   "metadata": {},
   "outputs": [],
   "source": [
    "cursor = cnxn.cursor()\n",
    "for index,row in df_lolita.iterrows():                                                            \n",
    "    cursor.execute(\"INSERT INTO sc3_detalle([id_sc3_producto],[id_sc3_corrida],[marca],[tipo],[tipo_es],[color],[color_es],[sexo],[descripcion],[moneda],[precio],[precio_original],[fecha_alta],[url_imagen],[url_producto],[origen]) values (?,?,?,?,?,?,?,?,?,?,?,?,?,?,?,?)\", \n",
    "                   row['codigo'], \n",
    "                   maxCorrida,\n",
    "                   row['marca'],\n",
    "                   row['tipo'],\n",
    "                   row['TIPO_AUX'],\n",
    "                   row['color'],\n",
    "                   row['COLOR_AUX'],\n",
    "                   row['sexo'],\n",
    "                   row['descripcion'], \n",
    "                   row['moneda'],\n",
    "                   row['precio_dto'], \n",
    "                   row['precio_original'], \n",
    "                   row['fecha'],\n",
    "                   row['img_producto'], \n",
    "                   row['url_producto'],\n",
    "                   row['origen']) \n",
    "    cnxn.commit()\n",
    "cursor.close()\n",
    "cnxn.close()"
   ]
  },
  {
   "cell_type": "code",
   "execution_count": null,
   "metadata": {},
   "outputs": [],
   "source": []
  },
  {
   "cell_type": "code",
   "execution_count": null,
   "metadata": {},
   "outputs": [],
   "source": [
    "end_ = datetime.datetime.today()\n",
    "\n",
    "print(f'Inserts {scraper} en : {end_-start_}')"
   ]
  },
  {
   "cell_type": "code",
   "execution_count": 85,
   "metadata": {},
   "outputs": [
    {
     "name": "stdout",
     "output_type": "stream",
     "text": [
      "[NbConvertApp] Converting notebook Lolita_insert.ipynb to script\n",
      "[NbConvertApp] Writing 3188 bytes to Lolita_insert.py\n"
     ]
    }
   ],
   "source": [
    "#!jupyter nbconvert --to script 'Lolita_insert.ipynb'"
   ]
  },
  {
   "cell_type": "code",
   "execution_count": null,
   "metadata": {},
   "outputs": [],
   "source": []
  }
 ],
 "metadata": {
  "kernelspec": {
   "display_name": "Python [conda env:dev_env]",
   "language": "python",
   "name": "conda-env-dev_env-py"
  },
  "language_info": {
   "codemirror_mode": {
    "name": "ipython",
    "version": 3
   },
   "file_extension": ".py",
   "mimetype": "text/x-python",
   "name": "python",
   "nbconvert_exporter": "python",
   "pygments_lexer": "ipython3",
   "version": "3.6.8"
  }
 },
 "nbformat": 4,
 "nbformat_minor": 2
}
