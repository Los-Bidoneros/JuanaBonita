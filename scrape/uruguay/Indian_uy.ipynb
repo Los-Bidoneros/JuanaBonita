{
 "cells": [
  {
   "cell_type": "code",
   "execution_count": 1,
   "metadata": {},
   "outputs": [],
   "source": [
    "from selenium import webdriver\n",
    "from selenium.webdriver.support.ui import WebDriverWait\n",
    "from selenium.webdriver.common.by import By\n",
    "from selenium.webdriver.support import expected_conditions as EC\n",
    "from selenium.webdriver.support import expected_conditions\n",
    "from selenium.webdriver.chrome.options import Options\n",
    "from bs4 import BeautifulSoup\n",
    "import pandas as pd\n",
    "import requests\n",
    "from time import strftime\n",
    "import datetime\n",
    "import time\n",
    "from pandas import ExcelWriter\n",
    "import re\n",
    "import pyodbc\n",
    "from selenium.webdriver.common.action_chains import ActionChains\n",
    "import numpy as np\n",
    "from ipywidgets import IntProgress\n",
    "from IPython.display import display\n",
    "from IPython.display import clear_output\n",
    "import os\n",
    "scraper ='INDIAN'"
   ]
  },
  {
   "cell_type": "code",
   "execution_count": 2,
   "metadata": {},
   "outputs": [],
   "source": [
    "URLS = [['Mujer','https://www.indian.com.uy/vestimenta'],\n",
    "       ['Mujer','https://www.indian.com.uy/ropa-interior'],\n",
    "       ['Hombre','https://www.indian.com.uy/maximo-for-men']]"
   ]
  },
  {
   "cell_type": "code",
   "execution_count": 3,
   "metadata": {},
   "outputs": [],
   "source": [
    "start_ = datetime.datetime.now()\n",
    "fecha = datetime.date.today()\n",
    "\n",
    "user_agent = 'Mozilla/5.0 (X11; Linux x86_64) AppleWebKit/537.36 (KHTML, like Gecko) Chrome/60.0.3112.50 Safari/537.36'    \n",
    "\n",
    "chrome_options = Options()  \n",
    "chrome_options.add_argument(\"--headless\")  \n",
    "chrome_options.add_argument(\"--no-sandbox\")\n",
    "chrome_options.add_argument(f'user-agent={user_agent}')\n",
    "chrome_options.add_argument(\"--window-size=1825x1244\")\n",
    "\n",
    "\n",
    "browser = webdriver.Chrome('/usr/bin/chromedriver', options = chrome_options)\n"
   ]
  },
  {
   "cell_type": "code",
   "execution_count": 4,
   "metadata": {},
   "outputs": [],
   "source": [
    "LISTA_PRODUCTOS = []\n",
    "for url in URLS:\n",
    "    sexo = url[0]\n",
    "    #request de la url , vestimenta, ropa int, hombres.\n",
    "    browser.get(url[1])\n",
    "    if url[1] == 'https://www.indian.com.uy/vestimenta':\n",
    "        #OBTENER LAS CATEGORIAS DE LA PÁGINA\n",
    "        #SUBCATEGORIAS = [[i.text,i.find_element_by_tag_name('a').get_attribute('href')] for i in browser.find_element_by_xpath('//*[@id=\"collapseColection\"]/ul/ul/li/ul').find_elements_by_tag_name('li')]\n",
    "        SUBCATEGORIAS = browser.execute_script('''\n",
    "                        var cant = document.getElementsByClassName('blk blkCategorias')[0].getElementsByClassName('lst lstStd')[0].getElementsByTagName('label').length;\n",
    "\n",
    "                        var arn = []\n",
    "                        var arl = []\n",
    "                        for (i=0;i<cant;i++){\n",
    "\n",
    "                            var nombre = document.getElementsByClassName('blk blkCategorias')[0].getElementsByClassName('lst lstStd')[0].getElementsByTagName('label')[i].getAttribute('title');\n",
    "                            var link = document.getElementsByClassName('blk blkCategorias')[0].getElementsByClassName('lst lstStd')[0].getElementsByTagName('label')[i].getAttribute('data-val');\n",
    "\n",
    "                            arn[i] = nombre\n",
    "                            arl[i] = link\n",
    "                        }\n",
    "\n",
    "                        function zip(a, b) {\n",
    "                          var arr = [];\n",
    "                          for (var key in a) arr.push([a[key], b[key]]);\n",
    "                          return arr;\n",
    "                        }\n",
    "\n",
    "                        return zip(arn,arl );\n",
    "\n",
    "                        ''')\n",
    "    if url[1] != 'https://www.indian.com.uy/vestimenta': SUBCATEGORIAS = [1]\n",
    "        \n",
    "\n",
    "    for SUB in SUBCATEGORIAS:\n",
    "        #print(SUB[0])\n",
    "        if url[1] == 'https://www.indian.com.uy/vestimenta':\n",
    "            browser.get(SUB[1])\n",
    "        \n",
    "        last_height = browser.execute_script(\"return document.body.scrollHeight\")\n",
    "        while True:\n",
    "\n",
    "            browser.execute_script(\"window.scrollTo(0, document.body.scrollHeight);\")\n",
    "            time.sleep(5)\n",
    "            try:\n",
    "                browser.execute_script('''document.getElementsByClassName('btnMas btn btn01')[0].click();''')\n",
    "            except:\n",
    "                pass\n",
    "            new_height = browser.execute_script(\"return document.body.scrollHeight\")\n",
    "            if new_height == last_height:\n",
    "                break\n",
    "            last_height = new_height\n",
    "\n",
    "        #A SCRAPEAR\n",
    "        PRODUCTOS = browser.execute_script('''\n",
    "            var x = document.getElementsByClassName('articleList aListProductos ')[0];\n",
    "            return x;''').find_elements_by_class_name('it')\n",
    "        for PRODUCTO in PRODUCTOS:\n",
    "            if url[1] != 'https://www.indian.com.uy/vestimenta':\n",
    "                cat='NONE'\n",
    "            else:\n",
    "                cat = SUB[0]\n",
    "            LISTA_PRODUCTOS.append([#PRODUCTO.find_element_by_tag_name('a').get_attribute('href').split('/')[-1],\n",
    "                                    #COLOR[0],\n",
    "                                    #sexo,\n",
    "                                    #cat,\n",
    "                                    #PRODUCTO.find_element_by_tag_name('a').get_attribute('href'),\n",
    "                                    #PRODUCTO.find_element_by_tag_name('a').find_element_by_tag_name('img').get_attribute('data-original'),\n",
    "                                    #PRODUCTO.find_element_by_class_name('hover-container').find_element_by_tag_name('h3').get_attribute('title'),\n",
    "\n",
    "                                    #SKU\n",
    "                                    PRODUCTO.get_attribute('data-codprod'),\n",
    "                                    sexo,\n",
    "                                    cat,\n",
    "                                    #HREF\n",
    "                                    PRODUCTO.find_element_by_tag_name('a').get_attribute('href'),\n",
    "                                    #IMG\n",
    "                                    PRODUCTO.find_element_by_tag_name('a').find_element_by_tag_name('img').get_attribute('src'),\n",
    "                                    #DESCRIPCION\n",
    "                                    PRODUCTO.find_element_by_class_name('cnt').find_element_by_tag_name('a').get_attribute('title'),\n",
    "                                    #PRECIOS\n",
    "                                    PRODUCTO.find_element_by_class_name('precios').text\n",
    "                                   ])\n",
    "\n"
   ]
  },
  {
   "cell_type": "code",
   "execution_count": null,
   "metadata": {},
   "outputs": [],
   "source": []
  },
  {
   "cell_type": "code",
   "execution_count": 5,
   "metadata": {},
   "outputs": [],
   "source": [
    "df_indian = pd.DataFrame(LISTA_PRODUCTOS)"
   ]
  },
  {
   "cell_type": "code",
   "execution_count": 6,
   "metadata": {},
   "outputs": [],
   "source": [
    "df_indian.rename(columns={0:'codigo'},inplace=True)\n",
    "df_indian.rename(columns={1:'sexo'},inplace=True)\n",
    "df_indian.rename(columns={2:'tipo'},inplace=True)\n",
    "df_indian.rename(columns={3:'url_producto'},inplace=True)\n",
    "df_indian.rename(columns={4:'img_producto'},inplace=True)\n",
    "df_indian.rename(columns={5:'descripcion'},inplace=True)\n",
    "df_indian.rename(columns={6:'precio'},inplace=True)"
   ]
  },
  {
   "cell_type": "code",
   "execution_count": 7,
   "metadata": {},
   "outputs": [],
   "source": [
    "df_indian['precio_dto'] = df_indian['precio'].apply(lambda x : x.split('$')[2] if len(x.split('$')) == 3 else x.split('$')[1])\n",
    "\n",
    "df_indian['precio_original'] = df_indian['precio'].apply(lambda x : x.split('$')[1] if len(x.split('$')) == 3 else x.split('$')[1])"
   ]
  },
  {
   "cell_type": "code",
   "execution_count": 8,
   "metadata": {},
   "outputs": [],
   "source": [
    "df_indian['fecha'] = fecha"
   ]
  },
  {
   "cell_type": "code",
   "execution_count": 9,
   "metadata": {},
   "outputs": [],
   "source": [
    "df_indian['origen'] = 'INDIAN UY'\n",
    "df_indian['marca'] = 'INDIAN'"
   ]
  },
  {
   "cell_type": "code",
   "execution_count": 10,
   "metadata": {},
   "outputs": [],
   "source": [
    "browser.quit()\n",
    "if len(df_indian.drop_duplicates()) == len(df_indian.dropna()) == len(df_indian) == True:\n",
    "    print(f'CIUDADO DUPLICADOS EN {scraper}')"
   ]
  },
  {
   "cell_type": "code",
   "execution_count": 11,
   "metadata": {},
   "outputs": [],
   "source": [
    "writer = ExcelWriter('/home/aa/cloudJ/JB/PRD/scrapper/Scripts/Uruguay/Salida/indian'+str(fecha)+'.xlsx')\n",
    "df_indian.to_excel(writer,'Hoja1')\n",
    "writer.save()"
   ]
  },
  {
   "cell_type": "code",
   "execution_count": 12,
   "metadata": {
    "scrolled": false
   },
   "outputs": [
    {
     "name": "stdout",
     "output_type": "stream",
     "text": [
      "Tiempo de ejecución INDIAN: 0:13:04\n"
     ]
    }
   ],
   "source": [
    "end_ = datetime.datetime.now()\n",
    "print(f'Tiempo de ejecución {scraper}: {str(end_ - start_)[:-7]}')"
   ]
  },
  {
   "cell_type": "code",
   "execution_count": 13,
   "metadata": {},
   "outputs": [],
   "source": [
    "#!jupyter nbconvert --to script 'Indian_uy.ipynb'"
   ]
  },
  {
   "cell_type": "code",
   "execution_count": null,
   "metadata": {},
   "outputs": [],
   "source": []
  }
 ],
 "metadata": {
  "kernelspec": {
   "display_name": "Python [conda env:dev_env]",
   "language": "python",
   "name": "conda-env-dev_env-py"
  },
  "language_info": {
   "codemirror_mode": {
    "name": "ipython",
    "version": 3
   },
   "file_extension": ".py",
   "mimetype": "text/x-python",
   "name": "python",
   "nbconvert_exporter": "python",
   "pygments_lexer": "ipython3",
   "version": "3.6.8"
  }
 },
 "nbformat": 4,
 "nbformat_minor": 2
}
