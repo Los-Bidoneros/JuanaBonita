{
 "cells": [
  {
   "cell_type": "code",
   "execution_count": 1,
   "metadata": {},
   "outputs": [],
   "source": [
    "from selenium import webdriver\n",
    "from selenium.webdriver.support.ui import WebDriverWait\n",
    "from selenium.webdriver.common.by import By\n",
    "from selenium.webdriver.support import expected_conditions as EC\n",
    "from selenium.webdriver.support import expected_conditions\n",
    "from selenium.webdriver.chrome.options import Options\n",
    "from bs4 import BeautifulSoup\n",
    "import pandas as pd\n",
    "import requests\n",
    "from time import strftime\n",
    "import datetime\n",
    "import time\n",
    "from pandas import ExcelWriter\n",
    "import re\n",
    "import pyodbc\n",
    "from selenium.webdriver.common.action_chains import ActionChains\n",
    "import numpy as np\n",
    "from ipywidgets import IntProgress\n",
    "from IPython.display import display\n",
    "from IPython.display import clear_output\n",
    "import os"
   ]
  },
  {
   "cell_type": "code",
   "execution_count": 2,
   "metadata": {},
   "outputs": [],
   "source": [
    "start_ = datetime.datetime.now()\n",
    "fecha = datetime.date.today()\n",
    "\n",
    "\n",
    "user_agent = 'Mozilla/5.0 (X11; Linux x86_64) AppleWebKit/537.36 (KHTML, like Gecko) Chrome/60.0.3112.50 Safari/537.36'    \n",
    "\n",
    "chrome_options = Options()  \n",
    "chrome_options.add_argument(\"--headless\")  \n",
    "chrome_options.add_argument(\"--no-sandbox\")\n",
    "chrome_options.add_argument(f'user-agent={user_agent}')\n",
    "chrome_options.add_argument(\"--window-size=1325x744\")\n",
    "browser = webdriver.Chrome('/usr/bin/chromedriver', options = chrome_options)\n",
    "url_base = 'https://www.harrington.com.uy/vestimenta'\n",
    "browser.get(url_base)"
   ]
  },
  {
   "cell_type": "code",
   "execution_count": 3,
   "metadata": {},
   "outputs": [],
   "source": [
    "total = browser.find_element_by_xpath('//*[@id=\"central\"]/div[3]/div/div[1]').text"
   ]
  },
  {
   "cell_type": "code",
   "execution_count": 4,
   "metadata": {},
   "outputs": [],
   "source": [
    "last_height = browser.execute_script(\"return document.body.scrollHeight\")\n",
    "while True:\n",
    "\n",
    "    browser.execute_script(\"window.scrollTo(0, document.body.scrollHeight);\")\n",
    "    time.sleep(8)\n",
    "    new_height = browser.execute_script(\"return document.body.scrollHeight\")\n",
    "    if new_height == last_height:\n",
    "        break\n",
    "    last_height = new_height\n",
    "\n",
    "page = BeautifulSoup(browser.page_source,\"html.parser\")"
   ]
  },
  {
   "cell_type": "code",
   "execution_count": 5,
   "metadata": {},
   "outputs": [],
   "source": [
    "ELEMENTO_PRODUCTOS = browser.find_element_by_xpath('//*[@id=\"catalogoProductos\"]')"
   ]
  },
  {
   "cell_type": "code",
   "execution_count": 6,
   "metadata": {},
   "outputs": [],
   "source": [
    "PRODUCTOS = ELEMENTO_PRODUCTOS.find_elements_by_class_name('it')"
   ]
  },
  {
   "cell_type": "code",
   "execution_count": 7,
   "metadata": {},
   "outputs": [],
   "source": [
    "LISTA_PRODUCTOS = []\n",
    "for item in PRODUCTOS:\n",
    "    \n",
    "    AUX_JPG = item.find_element_by_tag_name('a').find_elements_by_tag_name('img')[0].get_attribute('src')\n",
    "    if AUX_JPG.find('.jpg') == -1:\n",
    "        AUX_JPG = item.find_element_by_tag_name('a').find_elements_by_tag_name('img')[1].get_attribute('src')\n",
    "    elif AUX_JPG.find('.jpg') == -1:\n",
    "        AUX_JPG = item.find_element_by_tag_name('a').find_elements_by_tag_name('img')[2].get_attribute('src')\n",
    "    \n",
    "    if AUX_JPG.find('.jpg') != -1:\n",
    "        IMG = AUX_JPG\n",
    "            \n",
    "    ID = item.get_attribute('data-codprod')\n",
    "    DESCRIPCION = item.text.split('\\n')[0].split(' - ')[0]\n",
    "    COLOR = item.text.split('\\n')[0].split(' - ')[1]\n",
    "    PRECIO = item.text.split('\\n')[1]\n",
    "    HREF = item.find_element_by_tag_name('a').get_attribute('href')\n",
    "    \n",
    "    LISTA_PRODUCTOS.append([ID,\n",
    "                            DESCRIPCION,\n",
    "                            COLOR,\n",
    "                            PRECIO,\n",
    "                            HREF,\n",
    "                            IMG])"
   ]
  },
  {
   "cell_type": "code",
   "execution_count": 8,
   "metadata": {},
   "outputs": [],
   "source": [
    "end_ = datetime.datetime.now()"
   ]
  },
  {
   "cell_type": "code",
   "execution_count": 9,
   "metadata": {},
   "outputs": [],
   "source": [
    "df_harrington = pd.DataFrame(LISTA_PRODUCTOS)"
   ]
  },
  {
   "cell_type": "code",
   "execution_count": 10,
   "metadata": {},
   "outputs": [
    {
     "data": {
      "text/plain": [
       "['520702',\n",
       " 'T-shirt Harry',\n",
       " 'Azul Oscuro',\n",
       " '$U 490',\n",
       " 'https://www.harrington.com.uy/catalogo/t-shirt-harry-azul-oscuro_520702_007',\n",
       " 'https://s.fenicio.app/f2/har/catalogo/articulos/520702-007-1_460x600_1566237243_b53.jpg']"
      ]
     },
     "execution_count": 10,
     "metadata": {},
     "output_type": "execute_result"
    }
   ],
   "source": [
    "LISTA_PRODUCTOS[0]"
   ]
  },
  {
   "cell_type": "code",
   "execution_count": 11,
   "metadata": {},
   "outputs": [],
   "source": [
    "df_harrington = df_harrington.rename(columns={0: 'id Producto'})\n",
    "df_harrington = df_harrington.rename(columns={1: 'Descripcion'})\n",
    "df_harrington = df_harrington.rename(columns={2: 'Color'})\n",
    "df_harrington = df_harrington.rename(columns={3: 'Precio'})\n",
    "df_harrington = df_harrington.rename(columns={4: 'Url Producto'})\n",
    "df_harrington = df_harrington.rename(columns={5: 'Url Imagen'})"
   ]
  },
  {
   "cell_type": "code",
   "execution_count": null,
   "metadata": {},
   "outputs": [],
   "source": []
  },
  {
   "cell_type": "code",
   "execution_count": 12,
   "metadata": {},
   "outputs": [],
   "source": [
    "df_harrington[\"Fecha\"] = str(fecha)\n",
    "df_harrington[\"Marca\"] = \"Harrington\"\n",
    "df_harrington[\"Moneda\"] = \"PESO UY\"\n",
    "df_harrington['Sexo'] = 'Hombre'\n",
    "df_harrington['Origen'] = \"HARRINGTON UY\""
   ]
  },
  {
   "cell_type": "code",
   "execution_count": 13,
   "metadata": {},
   "outputs": [],
   "source": [
    "browser.quit()"
   ]
  },
  {
   "cell_type": "code",
   "execution_count": null,
   "metadata": {},
   "outputs": [],
   "source": []
  },
  {
   "cell_type": "code",
   "execution_count": 14,
   "metadata": {},
   "outputs": [],
   "source": [
    "writer = ExcelWriter('/home/aa/cloudJ/JB/PRD/scrapper/Scripts/Uruguay/Salida/Harrington'+str(fecha)+'.xlsx')\n",
    "df_harrington.to_excel(writer,'Hoja1')\n",
    "writer.save()"
   ]
  },
  {
   "cell_type": "code",
   "execution_count": 3,
   "metadata": {},
   "outputs": [],
   "source": []
  },
  {
   "cell_type": "code",
   "execution_count": 4,
   "metadata": {},
   "outputs": [],
   "source": []
  },
  {
   "cell_type": "code",
   "execution_count": null,
   "metadata": {},
   "outputs": [],
   "source": []
  },
  {
   "cell_type": "code",
   "execution_count": 5,
   "metadata": {},
   "outputs": [
    {
     "name": "stdout",
     "output_type": "stream",
     "text": [
      "[NbConvertApp] Converting notebook Harrington_uy.ipynb to script\n",
      "[NbConvertApp] Writing 4119 bytes to Harrington_uy.py\n"
     ]
    }
   ],
   "source": [
    "#!jupyter nbconvert --to script 'Harrington_uy.ipynb'\n"
   ]
  },
  {
   "cell_type": "code",
   "execution_count": null,
   "metadata": {},
   "outputs": [],
   "source": []
  },
  {
   "cell_type": "code",
   "execution_count": null,
   "metadata": {},
   "outputs": [],
   "source": []
  }
 ],
 "metadata": {
  "kernelspec": {
   "display_name": "Python [conda env:dev_env]",
   "language": "python",
   "name": "conda-env-dev_env-py"
  },
  "language_info": {
   "codemirror_mode": {
    "name": "ipython",
    "version": 3
   },
   "file_extension": ".py",
   "mimetype": "text/x-python",
   "name": "python",
   "nbconvert_exporter": "python",
   "pygments_lexer": "ipython3",
   "version": "3.6.8"
  }
 },
 "nbformat": 4,
 "nbformat_minor": 2
}
