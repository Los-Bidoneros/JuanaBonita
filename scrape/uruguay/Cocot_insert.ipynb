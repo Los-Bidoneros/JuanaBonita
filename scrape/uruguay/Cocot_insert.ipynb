{
 "cells": [
  {
   "cell_type": "code",
   "execution_count": 1,
   "metadata": {},
   "outputs": [],
   "source": [
    "import pandas as pd\n",
    "import pyodbc\n",
    "import numpy as np\n",
    "from pandas import ExcelWriter\n",
    "import datetime\n",
    "start_ = datetime.datetime.today()\n",
    "scraper='COCOT'"
   ]
  },
  {
   "cell_type": "code",
   "execution_count": 2,
   "metadata": {},
   "outputs": [],
   "source": [
    "fecha = str(datetime.date.today())\n",
    "fecha = '2019-10-29'\n",
    "ipath = f'./Salida/cocot{fecha}.xlsx'\n",
    "df_cocot = pd.read_excel(ipath)"
   ]
  },
  {
   "cell_type": "code",
   "execution_count": 3,
   "metadata": {},
   "outputs": [],
   "source": [
    "server = 'tcp:192.168.1.6'\n",
    "database =\"planeamiento\"\n",
    "username = 'sa'\n",
    "password = 'sa'\n",
    "cnxn = pyodbc.connect('DRIVER={/opt/microsoft/msodbcsql17/lib64/libmsodbcsql-17.2.so.0.1};SERVER='+server+\n",
    "                      ';DATABASE='+database+\n",
    "                      ';UID='+username+\n",
    "                      ';PWD='+ password) "
   ]
  },
  {
   "cell_type": "code",
   "execution_count": 4,
   "metadata": {},
   "outputs": [],
   "source": [
    "maxCorrida = \"select max(id_sc3_corrida)+1 from sc3_detalle where origen ='COCOT UY' \"\n",
    "maxCorrida = pd.read_sql(maxCorrida,cnxn) "
   ]
  },
  {
   "cell_type": "code",
   "execution_count": 5,
   "metadata": {},
   "outputs": [],
   "source": [
    "maxCorrida = int(maxCorrida[\"\"][0])"
   ]
  },
  {
   "cell_type": "code",
   "execution_count": 6,
   "metadata": {},
   "outputs": [],
   "source": [
    "df_cocot[\"Precio Nuevo\"] = [precio.split('$')[2].strip() if len(precio.split('$'))==3 else precio.split('$')[1] for precio in df_cocot[\"precio\"]]\n",
    "df_cocot[\"Precio Anterior\"] = [precio.split('$')[1].strip() for precio in df_cocot[\"precio\"]]"
   ]
  },
  {
   "cell_type": "code",
   "execution_count": 7,
   "metadata": {},
   "outputs": [],
   "source": [
    "df_cocot['Precio Nuevo'] = (df_cocot[\"Precio Nuevo\"]\n",
    "                            .str.extract(r\"([\\d,\\.]+)\", expand=False)\n",
    "                            .str.replace(\".\", \"\")\n",
    "                            .astype(float))\n"
   ]
  },
  {
   "cell_type": "code",
   "execution_count": 8,
   "metadata": {},
   "outputs": [],
   "source": [
    "df_cocot['Precio Anterior'] = (df_cocot[\"Precio Anterior\"]\n",
    "                               .str.extract(r\"([\\d,\\.]+)\", expand=False)\n",
    "                               .str.replace(\".\", \"\")\n",
    "                               .astype(float))\n"
   ]
  },
  {
   "cell_type": "code",
   "execution_count": 9,
   "metadata": {},
   "outputs": [],
   "source": [
    "df_cocot['TIPO_AUX'] = df_cocot['tipo']\n",
    "df_cocot['COLOR_AUX'] = df_cocot['color']"
   ]
  },
  {
   "cell_type": "code",
   "execution_count": 10,
   "metadata": {},
   "outputs": [],
   "source": [
    "df_cocot['moneda'] = 'PESOS UY'"
   ]
  },
  {
   "cell_type": "code",
   "execution_count": 11,
   "metadata": {},
   "outputs": [],
   "source": [
    "df_cocot['marca'] = 'COCOT'"
   ]
  },
  {
   "cell_type": "code",
   "execution_count": 12,
   "metadata": {},
   "outputs": [],
   "source": [
    "cursor = cnxn.cursor()\n",
    "for index,row in df_cocot.iterrows():                                                            \n",
    "    cursor.execute(\"INSERT INTO sc3_detalle([id_sc3_producto],[id_sc3_corrida],[marca],[tipo],[tipo_es],[color],[color_es],[sexo],[descripcion],[moneda],[precio],[precio_original],[fecha_alta],[url_imagen],[url_producto],[origen]) values (?,?,?,?,?,?,?,?,?,?,?,?,?,?,?,?)\", \n",
    "                   row['codigo'], \n",
    "                   maxCorrida,\n",
    "                   row['marca'],\n",
    "                   row['tipo'],\n",
    "                   row['TIPO_AUX'],\n",
    "                   row['color'],\n",
    "                   row['COLOR_AUX'],\n",
    "                   row['sexo'],\n",
    "                   row['DESC'], \n",
    "                   row['moneda'],\n",
    "                   row['Precio Nuevo'], \n",
    "                   row['Precio Anterior'], \n",
    "                   row['fecha'],\n",
    "                   row['img_producto'], \n",
    "                   row['url_producto'],\n",
    "                   row['origen']) \n",
    "    cnxn.commit()\n",
    "cursor.close()\n",
    "cnxn.close()"
   ]
  },
  {
   "cell_type": "code",
   "execution_count": 13,
   "metadata": {},
   "outputs": [
    {
     "name": "stdout",
     "output_type": "stream",
     "text": [
      "Inserts COCOT en : 0:01:27.673554\n"
     ]
    }
   ],
   "source": [
    "end_ = datetime.datetime.today()\n",
    "\n",
    "print(f'Inserts {scraper} en : {end_-start_}')"
   ]
  },
  {
   "cell_type": "code",
   "execution_count": 17,
   "metadata": {},
   "outputs": [
    {
     "name": "stdout",
     "output_type": "stream",
     "text": [
      "[NbConvertApp] Converting notebook Cocot_insert.ipynb to script\n",
      "[NbConvertApp] Writing 2935 bytes to Cocot_insert.py\n"
     ]
    }
   ],
   "source": [
    "#!jupyter nbconvert --to script 'Cocot_insert.ipynb'"
   ]
  },
  {
   "cell_type": "code",
   "execution_count": null,
   "metadata": {},
   "outputs": [],
   "source": []
  }
 ],
 "metadata": {
  "kernelspec": {
   "display_name": "Python [conda env:dev_env]",
   "language": "python",
   "name": "conda-env-dev_env-py"
  },
  "language_info": {
   "codemirror_mode": {
    "name": "ipython",
    "version": 3
   },
   "file_extension": ".py",
   "mimetype": "text/x-python",
   "name": "python",
   "nbconvert_exporter": "python",
   "pygments_lexer": "ipython3",
   "version": "3.6.8"
  }
 },
 "nbformat": 4,
 "nbformat_minor": 2
}
