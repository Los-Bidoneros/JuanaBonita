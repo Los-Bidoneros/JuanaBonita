{
 "cells": [
  {
   "cell_type": "code",
   "execution_count": 1,
   "metadata": {},
   "outputs": [],
   "source": [
    "import odbc\n",
    "import win32com.client\n",
    "import pandas as pd\n",
    "import pyodbc\n",
    "\n",
    "def connection():\n",
    "    server = 'tcp:192.168.1.6'\n",
    "    database = 'planeamiento'\n",
    "    username = 'sa'\n",
    "    password = 'sa'\n",
    "\n",
    "    return pyodbc.connect('DRIVER={SQL Server};SERVER='+server+';DATABASE='+database+';UID='+username+';PWD='+ password)\n"
   ]
  },
  {
   "cell_type": "code",
   "execution_count": null,
   "metadata": {},
   "outputs": [],
   "source": [
    "cnxn = connection()\n",
    "query = 'select * from planeamiento..ctrl_excel where end_processing_date is null'\n",
    "\n",
    "df = pd.read_sql(query,cnxn)"
   ]
  },
  {
   "cell_type": "code",
   "execution_count": null,
   "metadata": {},
   "outputs": [],
   "source": [
    "df"
   ]
  },
  {
   "cell_type": "code",
   "execution_count": null,
   "metadata": {},
   "outputs": [],
   "source": []
  },
  {
   "cell_type": "code",
   "execution_count": null,
   "metadata": {},
   "outputs": [],
   "source": [
    "crsr.execute(sql, params)\n",
    "rows = crsr.fetchall()\n",
    "while rows:\n",
    "    print(rows)\n",
    "    if crsr.nextset():\n",
    "        rows = crsr.fetchall()\n",
    "    else:\n",
    "        rows = None"
   ]
  },
  {
   "cell_type": "code",
   "execution_count": 62,
   "metadata": {},
   "outputs": [],
   "source": [
    "def insert_file_connection(EXCEL_ID,NAME,STR_CONN,SQL):\n",
    "    \n",
    "    aux_cnn = connection()\n",
    "    \n",
    "    cursor = aux_cnn.cursor()\n",
    "    \n",
    "    params = (EXCEL_ID,NAME,STR_CONN,SQL)\n",
    "    \n",
    "    query = \"EXEC planeamiento..ctrl_excel_InsertFileConnection @excel_id = %s, @name = '%s', @str_conn = '%s', @sql = '%s'\"%params\n",
    "    \n",
    "    #sql = \"{CALL planeamiento..ctrl_excel_InsertFileConnection (?,?,?,?)}\"\n",
    "    \n",
    "    try:\n",
    "        #cursor.execute(sql, params)\n",
    "        cursor.execute(query)\n",
    "        \n",
    "        cursor.commit()\n",
    "        rows = cursor.fetchall()\n",
    "    except Exception as e:\n",
    "        print('*'*100)\n",
    "        print(e)\n",
    "        \n",
    "    \n",
    "    aux_cnn.close()\n",
    "    \n",
    "    \n",
    "    \n",
    "    "
   ]
  },
  {
   "cell_type": "code",
   "execution_count": 63,
   "metadata": {},
   "outputs": [
    {
     "name": "stdout",
     "output_type": "stream",
     "text": [
      "****************************************************************************************************\n",
      "No results.  Previous SQL was not a query.\n"
     ]
    }
   ],
   "source": [
    "insert_file_connection(5,'PROBANDO NAME','CONEXION PROBANDO','SELECT * FROM PRUEBA')\n",
    "#exec planeamiento..ctrl_excel_InsertFileConnection 5,'PROBANDO NAME','CONEXION PROBANDO','SELECT * FROM PRUEBA'"
   ]
  },
  {
   "cell_type": "code",
   "execution_count": 64,
   "metadata": {},
   "outputs": [
    {
     "name": "stdout",
     "output_type": "stream",
     "text": [
      "****************************************************************************************************\n",
      "No results.  Previous SQL was not a query.\n",
      "None\n"
     ]
    }
   ],
   "source": [
    "print(insert_file_connection(5,'PROBANDO NAME','CONEXION PROBANDO','SELECT * FROM PRUEBA'))"
   ]
  },
  {
   "cell_type": "code",
   "execution_count": 37,
   "metadata": {},
   "outputs": [
    {
     "ename": "SyntaxError",
     "evalue": "Missing parentheses in call to 'print'. Did you mean print(\"\\n\")? (<ipython-input-37-6d70e13b54ea>, line 7)",
     "output_type": "error",
     "traceback": [
      "\u001b[1;36m  File \u001b[1;32m\"<ipython-input-37-6d70e13b54ea>\"\u001b[1;36m, line \u001b[1;32m7\u001b[0m\n\u001b[1;33m    print \"\\n\"\u001b[0m\n\u001b[1;37m             ^\u001b[0m\n\u001b[1;31mSyntaxError\u001b[0m\u001b[1;31m:\u001b[0m Missing parentheses in call to 'print'. Did you mean print(\"\\n\")?\n"
     ]
    }
   ],
   "source": [
    "cur.execute(\"SELECT * FROM song\")\n",
    "rows = cur.fetchall()\n",
    "for row in rows:\n",
    "    for col in row:\n",
    "        print \"%s,\" % col\n",
    "    print \"\\n\""
   ]
  },
  {
   "cell_type": "code",
   "execution_count": 26,
   "metadata": {},
   "outputs": [],
   "source": [
    "cursor = cnxn.cursor()"
   ]
  },
  {
   "cell_type": "code",
   "execution_count": null,
   "metadata": {},
   "outputs": [],
   "source": [
    "cursor.procedures()\n",
    "5,'PROBANDO NAME','CONEXION PROBANDO','SELECT * FROM PRUEBA'"
   ]
  },
  {
   "cell_type": "code",
   "execution_count": null,
   "metadata": {},
   "outputs": [],
   "source": [
    "cursor.execute('''\n",
    "    exec planeamiento..ctrl_excel_InsertFileConnection \n",
    "    @excel_id = ?,\n",
    "    @name= ?,\n",
    "    @str_conn = ?,\n",
    "    @sql = ?''')"
   ]
  },
  {
   "cell_type": "code",
   "execution_count": null,
   "metadata": {},
   "outputs": [],
   "source": [
    "cursor = cnxn.cursor()\n",
    "for index,row in df.iterrows():                                                          \n",
    "    cursor.execute(\"INSERT INTO tabla(,,,]) values (?,?,?)\",\n",
    "                   row['col'])\n",
    "    cnxn.commit()\n",
    "cursor.close()\n",
    "cnxn.close()\n",
    "\n",
    "\n",
    "datos = []\n",
    "\n",
    "def check_excel():\n",
    "    \n",
    "    #xl = win32com.client.gencache.EnsureDispatch('Excel.Application')\n",
    "    file = r'C:\\Users\\jhernandez\\Desktop\\Copia de archivo de ejemplo.xlsx'\n",
    "    xl = win32com.client.Dispatch('Excel.Application')\n",
    "    wb = xl.Workbooks.Open(file, None,True)\n",
    "\n",
    "\n",
    "\n",
    "    for x in wb.Connections:\n",
    "        for i in x.Ranges:\n",
    "            try:\n",
    "                for p in i.ListObject.QueryTable.Parameters:\n",
    "                    datos.append([x,\n",
    "                                  x.ODBCConnection.CommandText,\n",
    "                                  x.ODBCConnection.Connection,\n",
    "                                  i.Parent.Name,\n",
    "                                  i.Cells(1,1)[2],\n",
    "                                  p.SourceRange.Address,\n",
    "                                  p.SourceRange.Parent.Name,\n",
    "                                  p.SourceRange.Value])\n",
    "\n",
    "            except Exception as e:\n",
    "                print(e)\n",
    "\n",
    "    df = pd.DataFrame(datos)\n",
    "    df = df.applymap(str)\n",
    "    xl.Application.Quit()\n",
    "\n",
    "    df"
   ]
  },
  {
   "cell_type": "code",
   "execution_count": null,
   "metadata": {},
   "outputs": [],
   "source": []
  },
  {
   "cell_type": "code",
   "execution_count": 108,
   "metadata": {},
   "outputs": [],
   "source": [
    "#PROBANDO CON SQLALCHEMY\n",
    "from sqlalchemy import create_engine\n",
    "import urllib\n",
    "server = 'tcp:192.168.1.6'\n",
    "database = 'planeamiento'\n",
    "username = 'sa'\n",
    "password = 'sa'\n",
    "\n",
    "params = urllib.parse.quote_plus('DRIVER={SQL Server};SERVER='+\n",
    "                                 server+';DATABASE='+database+';UID='+username+';PWD='+ password)\n",
    "\n",
    "engine = create_engine(\"mssql+pyodbc:///?odbc_connect=%s\" % params)"
   ]
  },
  {
   "cell_type": "code",
   "execution_count": null,
   "metadata": {},
   "outputs": [],
   "source": []
  },
  {
   "cell_type": "code",
   "execution_count": 109,
   "metadata": {},
   "outputs": [],
   "source": [
    "EXCEL_ID = 5\n",
    "NAME ='PROBANDO NAME'\n",
    "STR_CONN = 'CONEXION PROBANDO'\n",
    "SQL = 'SELECT * FROM PRUEBA'"
   ]
  },
  {
   "cell_type": "code",
   "execution_count": 110,
   "metadata": {},
   "outputs": [],
   "source": [
    "parametros = (EXCEL_ID,NAME,STR_CONN,SQL)\n",
    "query = \"EXEC planeamiento..ctrl_excel_InsertFileConnection @excel_id = %s, @name = '%s', @str_conn = '%s', @sql = '%s'\"%parametros"
   ]
  },
  {
   "cell_type": "code",
   "execution_count": 111,
   "metadata": {},
   "outputs": [
    {
     "data": {
      "text/plain": [
       "\"EXEC planeamiento..ctrl_excel_InsertFileConnection @excel_id = 5, @name = 'PROBANDO NAME', @str_conn = 'CONEXION PROBANDO', @sql = 'SELECT * FROM PRUEBA'\""
      ]
     },
     "execution_count": 111,
     "metadata": {},
     "output_type": "execute_result"
    }
   ],
   "source": [
    "query"
   ]
  },
  {
   "cell_type": "code",
   "execution_count": null,
   "metadata": {},
   "outputs": [],
   "source": [
    "#parametros = (EXCEL_ID,NAME,STR_CONN,SQL)\n",
    "    \n",
    "#query = \"EXEC planeamiento..ctrl_excel_InsertFileConnection @excel_id = {0}, @name = {1}, @str_conn = {2}, @sql = {3}\".format(params)\n",
    "    \n",
    "#query = 'EXEC my_procedure @Param = {0}'.format(my_param)"
   ]
  },
  {
   "cell_type": "code",
   "execution_count": 112,
   "metadata": {
    "collapsed": true
   },
   "outputs": [
    {
     "ename": "ResourceClosedError",
     "evalue": "This result object does not return rows. It has been closed automatically.",
     "output_type": "error",
     "traceback": [
      "\u001b[1;31m---------------------------------------------------------------------------\u001b[0m",
      "\u001b[1;31mAttributeError\u001b[0m                            Traceback (most recent call last)",
      "\u001b[1;32mC:\\Users\\lrojas\\AppData\\Local\\Continuum\\anaconda2019\\lib\\site-packages\\sqlalchemy\\engine\\result.py\u001b[0m in \u001b[0;36m_fetchall_impl\u001b[1;34m(self)\u001b[0m\n\u001b[0;32m   1080\u001b[0m         \u001b[1;32mtry\u001b[0m\u001b[1;33m:\u001b[0m\u001b[1;33m\u001b[0m\u001b[1;33m\u001b[0m\u001b[0m\n\u001b[1;32m-> 1081\u001b[1;33m             \u001b[1;32mreturn\u001b[0m \u001b[0mself\u001b[0m\u001b[1;33m.\u001b[0m\u001b[0mcursor\u001b[0m\u001b[1;33m.\u001b[0m\u001b[0mfetchall\u001b[0m\u001b[1;33m(\u001b[0m\u001b[1;33m)\u001b[0m\u001b[1;33m\u001b[0m\u001b[1;33m\u001b[0m\u001b[0m\n\u001b[0m\u001b[0;32m   1082\u001b[0m         \u001b[1;32mexcept\u001b[0m \u001b[0mAttributeError\u001b[0m\u001b[1;33m:\u001b[0m\u001b[1;33m\u001b[0m\u001b[1;33m\u001b[0m\u001b[0m\n",
      "\u001b[1;31mAttributeError\u001b[0m: 'NoneType' object has no attribute 'fetchall'",
      "\nDuring handling of the above exception, another exception occurred:\n",
      "\u001b[1;31mResourceClosedError\u001b[0m                       Traceback (most recent call last)",
      "\u001b[1;32m<ipython-input-112-2a0ea765a8e2>\u001b[0m in \u001b[0;36m<module>\u001b[1;34m\u001b[0m\n\u001b[1;32m----> 1\u001b[1;33m \u001b[0mdf\u001b[0m \u001b[1;33m=\u001b[0m \u001b[0mpd\u001b[0m\u001b[1;33m.\u001b[0m\u001b[0mread_sql_query\u001b[0m\u001b[1;33m(\u001b[0m\u001b[0mquery\u001b[0m\u001b[1;33m,\u001b[0m \u001b[0mengine\u001b[0m\u001b[1;33m)\u001b[0m\u001b[1;33m\u001b[0m\u001b[1;33m\u001b[0m\u001b[0m\n\u001b[0m",
      "\u001b[1;32mC:\\Users\\lrojas\\AppData\\Local\\Continuum\\anaconda2019\\lib\\site-packages\\pandas\\io\\sql.py\u001b[0m in \u001b[0;36mread_sql_query\u001b[1;34m(sql, con, index_col, coerce_float, params, parse_dates, chunksize)\u001b[0m\n\u001b[0;32m    312\u001b[0m     return pandas_sql.read_query(\n\u001b[0;32m    313\u001b[0m         \u001b[0msql\u001b[0m\u001b[1;33m,\u001b[0m \u001b[0mindex_col\u001b[0m\u001b[1;33m=\u001b[0m\u001b[0mindex_col\u001b[0m\u001b[1;33m,\u001b[0m \u001b[0mparams\u001b[0m\u001b[1;33m=\u001b[0m\u001b[0mparams\u001b[0m\u001b[1;33m,\u001b[0m \u001b[0mcoerce_float\u001b[0m\u001b[1;33m=\u001b[0m\u001b[0mcoerce_float\u001b[0m\u001b[1;33m,\u001b[0m\u001b[1;33m\u001b[0m\u001b[1;33m\u001b[0m\u001b[0m\n\u001b[1;32m--> 314\u001b[1;33m         parse_dates=parse_dates, chunksize=chunksize)\n\u001b[0m\u001b[0;32m    315\u001b[0m \u001b[1;33m\u001b[0m\u001b[0m\n\u001b[0;32m    316\u001b[0m \u001b[1;33m\u001b[0m\u001b[0m\n",
      "\u001b[1;32mC:\\Users\\lrojas\\AppData\\Local\\Continuum\\anaconda2019\\lib\\site-packages\\pandas\\io\\sql.py\u001b[0m in \u001b[0;36mread_query\u001b[1;34m(self, sql, index_col, coerce_float, parse_dates, params, chunksize)\u001b[0m\n\u001b[0;32m   1070\u001b[0m                                         parse_dates=parse_dates)\n\u001b[0;32m   1071\u001b[0m         \u001b[1;32melse\u001b[0m\u001b[1;33m:\u001b[0m\u001b[1;33m\u001b[0m\u001b[1;33m\u001b[0m\u001b[0m\n\u001b[1;32m-> 1072\u001b[1;33m             \u001b[0mdata\u001b[0m \u001b[1;33m=\u001b[0m \u001b[0mresult\u001b[0m\u001b[1;33m.\u001b[0m\u001b[0mfetchall\u001b[0m\u001b[1;33m(\u001b[0m\u001b[1;33m)\u001b[0m\u001b[1;33m\u001b[0m\u001b[1;33m\u001b[0m\u001b[0m\n\u001b[0m\u001b[0;32m   1073\u001b[0m             frame = _wrap_result(data, columns, index_col=index_col,\n\u001b[0;32m   1074\u001b[0m                                  \u001b[0mcoerce_float\u001b[0m\u001b[1;33m=\u001b[0m\u001b[0mcoerce_float\u001b[0m\u001b[1;33m,\u001b[0m\u001b[1;33m\u001b[0m\u001b[1;33m\u001b[0m\u001b[0m\n",
      "\u001b[1;32mC:\\Users\\lrojas\\AppData\\Local\\Continuum\\anaconda2019\\lib\\site-packages\\sqlalchemy\\engine\\result.py\u001b[0m in \u001b[0;36mfetchall\u001b[1;34m(self)\u001b[0m\n\u001b[0;32m   1134\u001b[0m             self.connection._handle_dbapi_exception(\n\u001b[0;32m   1135\u001b[0m                 \u001b[0me\u001b[0m\u001b[1;33m,\u001b[0m \u001b[1;32mNone\u001b[0m\u001b[1;33m,\u001b[0m \u001b[1;32mNone\u001b[0m\u001b[1;33m,\u001b[0m\u001b[1;33m\u001b[0m\u001b[1;33m\u001b[0m\u001b[0m\n\u001b[1;32m-> 1136\u001b[1;33m                 self.cursor, self.context)\n\u001b[0m\u001b[0;32m   1137\u001b[0m \u001b[1;33m\u001b[0m\u001b[0m\n\u001b[0;32m   1138\u001b[0m     \u001b[1;32mdef\u001b[0m \u001b[0mfetchmany\u001b[0m\u001b[1;33m(\u001b[0m\u001b[0mself\u001b[0m\u001b[1;33m,\u001b[0m \u001b[0msize\u001b[0m\u001b[1;33m=\u001b[0m\u001b[1;32mNone\u001b[0m\u001b[1;33m)\u001b[0m\u001b[1;33m:\u001b[0m\u001b[1;33m\u001b[0m\u001b[1;33m\u001b[0m\u001b[0m\n",
      "\u001b[1;32mC:\\Users\\lrojas\\AppData\\Local\\Continuum\\anaconda2019\\lib\\site-packages\\sqlalchemy\\engine\\base.py\u001b[0m in \u001b[0;36m_handle_dbapi_exception\u001b[1;34m(self, e, statement, parameters, cursor, context)\u001b[0m\n\u001b[0;32m   1414\u001b[0m                 )\n\u001b[0;32m   1415\u001b[0m             \u001b[1;32melse\u001b[0m\u001b[1;33m:\u001b[0m\u001b[1;33m\u001b[0m\u001b[1;33m\u001b[0m\u001b[0m\n\u001b[1;32m-> 1416\u001b[1;33m                 \u001b[0mutil\u001b[0m\u001b[1;33m.\u001b[0m\u001b[0mreraise\u001b[0m\u001b[1;33m(\u001b[0m\u001b[1;33m*\u001b[0m\u001b[0mexc_info\u001b[0m\u001b[1;33m)\u001b[0m\u001b[1;33m\u001b[0m\u001b[1;33m\u001b[0m\u001b[0m\n\u001b[0m\u001b[0;32m   1417\u001b[0m \u001b[1;33m\u001b[0m\u001b[0m\n\u001b[0;32m   1418\u001b[0m         \u001b[1;32mfinally\u001b[0m\u001b[1;33m:\u001b[0m\u001b[1;33m\u001b[0m\u001b[1;33m\u001b[0m\u001b[0m\n",
      "\u001b[1;32mC:\\Users\\lrojas\\AppData\\Local\\Continuum\\anaconda2019\\lib\\site-packages\\sqlalchemy\\util\\compat.py\u001b[0m in \u001b[0;36mreraise\u001b[1;34m(tp, value, tb, cause)\u001b[0m\n\u001b[0;32m    247\u001b[0m         \u001b[1;32mif\u001b[0m \u001b[0mvalue\u001b[0m\u001b[1;33m.\u001b[0m\u001b[0m__traceback__\u001b[0m \u001b[1;32mis\u001b[0m \u001b[1;32mnot\u001b[0m \u001b[0mtb\u001b[0m\u001b[1;33m:\u001b[0m\u001b[1;33m\u001b[0m\u001b[1;33m\u001b[0m\u001b[0m\n\u001b[0;32m    248\u001b[0m             \u001b[1;32mraise\u001b[0m \u001b[0mvalue\u001b[0m\u001b[1;33m.\u001b[0m\u001b[0mwith_traceback\u001b[0m\u001b[1;33m(\u001b[0m\u001b[0mtb\u001b[0m\u001b[1;33m)\u001b[0m\u001b[1;33m\u001b[0m\u001b[1;33m\u001b[0m\u001b[0m\n\u001b[1;32m--> 249\u001b[1;33m         \u001b[1;32mraise\u001b[0m \u001b[0mvalue\u001b[0m\u001b[1;33m\u001b[0m\u001b[1;33m\u001b[0m\u001b[0m\n\u001b[0m\u001b[0;32m    250\u001b[0m \u001b[1;33m\u001b[0m\u001b[0m\n\u001b[0;32m    251\u001b[0m \u001b[1;32melse\u001b[0m\u001b[1;33m:\u001b[0m\u001b[1;33m\u001b[0m\u001b[1;33m\u001b[0m\u001b[0m\n",
      "\u001b[1;32mC:\\Users\\lrojas\\AppData\\Local\\Continuum\\anaconda2019\\lib\\site-packages\\sqlalchemy\\engine\\result.py\u001b[0m in \u001b[0;36mfetchall\u001b[1;34m(self)\u001b[0m\n\u001b[0;32m   1128\u001b[0m \u001b[1;33m\u001b[0m\u001b[0m\n\u001b[0;32m   1129\u001b[0m         \u001b[1;32mtry\u001b[0m\u001b[1;33m:\u001b[0m\u001b[1;33m\u001b[0m\u001b[1;33m\u001b[0m\u001b[0m\n\u001b[1;32m-> 1130\u001b[1;33m             \u001b[0ml\u001b[0m \u001b[1;33m=\u001b[0m \u001b[0mself\u001b[0m\u001b[1;33m.\u001b[0m\u001b[0mprocess_rows\u001b[0m\u001b[1;33m(\u001b[0m\u001b[0mself\u001b[0m\u001b[1;33m.\u001b[0m\u001b[0m_fetchall_impl\u001b[0m\u001b[1;33m(\u001b[0m\u001b[1;33m)\u001b[0m\u001b[1;33m)\u001b[0m\u001b[1;33m\u001b[0m\u001b[1;33m\u001b[0m\u001b[0m\n\u001b[0m\u001b[0;32m   1131\u001b[0m             \u001b[0mself\u001b[0m\u001b[1;33m.\u001b[0m\u001b[0m_soft_close\u001b[0m\u001b[1;33m(\u001b[0m\u001b[1;33m)\u001b[0m\u001b[1;33m\u001b[0m\u001b[1;33m\u001b[0m\u001b[0m\n\u001b[0;32m   1132\u001b[0m             \u001b[1;32mreturn\u001b[0m \u001b[0ml\u001b[0m\u001b[1;33m\u001b[0m\u001b[1;33m\u001b[0m\u001b[0m\n",
      "\u001b[1;32mC:\\Users\\lrojas\\AppData\\Local\\Continuum\\anaconda2019\\lib\\site-packages\\sqlalchemy\\engine\\result.py\u001b[0m in \u001b[0;36m_fetchall_impl\u001b[1;34m(self)\u001b[0m\n\u001b[0;32m   1081\u001b[0m             \u001b[1;32mreturn\u001b[0m \u001b[0mself\u001b[0m\u001b[1;33m.\u001b[0m\u001b[0mcursor\u001b[0m\u001b[1;33m.\u001b[0m\u001b[0mfetchall\u001b[0m\u001b[1;33m(\u001b[0m\u001b[1;33m)\u001b[0m\u001b[1;33m\u001b[0m\u001b[1;33m\u001b[0m\u001b[0m\n\u001b[0;32m   1082\u001b[0m         \u001b[1;32mexcept\u001b[0m \u001b[0mAttributeError\u001b[0m\u001b[1;33m:\u001b[0m\u001b[1;33m\u001b[0m\u001b[1;33m\u001b[0m\u001b[0m\n\u001b[1;32m-> 1083\u001b[1;33m             \u001b[1;32mreturn\u001b[0m \u001b[0mself\u001b[0m\u001b[1;33m.\u001b[0m\u001b[0m_non_result\u001b[0m\u001b[1;33m(\u001b[0m\u001b[1;33m[\u001b[0m\u001b[1;33m]\u001b[0m\u001b[1;33m)\u001b[0m\u001b[1;33m\u001b[0m\u001b[1;33m\u001b[0m\u001b[0m\n\u001b[0m\u001b[0;32m   1084\u001b[0m \u001b[1;33m\u001b[0m\u001b[0m\n\u001b[0;32m   1085\u001b[0m     \u001b[1;32mdef\u001b[0m \u001b[0m_non_result\u001b[0m\u001b[1;33m(\u001b[0m\u001b[0mself\u001b[0m\u001b[1;33m,\u001b[0m \u001b[0mdefault\u001b[0m\u001b[1;33m)\u001b[0m\u001b[1;33m:\u001b[0m\u001b[1;33m\u001b[0m\u001b[1;33m\u001b[0m\u001b[0m\n",
      "\u001b[1;32mC:\\Users\\lrojas\\AppData\\Local\\Continuum\\anaconda2019\\lib\\site-packages\\sqlalchemy\\engine\\result.py\u001b[0m in \u001b[0;36m_non_result\u001b[1;34m(self, default)\u001b[0m\n\u001b[0;32m   1086\u001b[0m         \u001b[1;32mif\u001b[0m \u001b[0mself\u001b[0m\u001b[1;33m.\u001b[0m\u001b[0m_metadata\u001b[0m \u001b[1;32mis\u001b[0m \u001b[1;32mNone\u001b[0m\u001b[1;33m:\u001b[0m\u001b[1;33m\u001b[0m\u001b[1;33m\u001b[0m\u001b[0m\n\u001b[0;32m   1087\u001b[0m             raise exc.ResourceClosedError(\n\u001b[1;32m-> 1088\u001b[1;33m                 \u001b[1;34m\"This result object does not return rows. \"\u001b[0m\u001b[1;33m\u001b[0m\u001b[1;33m\u001b[0m\u001b[0m\n\u001b[0m\u001b[0;32m   1089\u001b[0m                 \u001b[1;34m\"It has been closed automatically.\"\u001b[0m\u001b[1;33m,\u001b[0m\u001b[1;33m\u001b[0m\u001b[1;33m\u001b[0m\u001b[0m\n\u001b[0;32m   1090\u001b[0m             )\n",
      "\u001b[1;31mResourceClosedError\u001b[0m: This result object does not return rows. It has been closed automatically."
     ]
    }
   ],
   "source": [
    "df = pd.read_sql_query(query, engine)\n",
    "#*** HASTA SQLALCHEMY"
   ]
  },
  {
   "cell_type": "code",
   "execution_count": 117,
   "metadata": {},
   "outputs": [
    {
     "data": {
      "text/plain": [
       "\"EXEC planeamiento..ctrl_excel_InsertFileConnection @excel_id = 5, @name = 'PROBANDO NAME', @str_conn = 'CONEXION PROBANDO', @sql = 'SELECT * FROM PRUEBA'\""
      ]
     },
     "execution_count": 117,
     "metadata": {},
     "output_type": "execute_result"
    }
   ],
   "source": [
    "query"
   ]
  },
  {
   "cell_type": "code",
   "execution_count": null,
   "metadata": {},
   "outputs": [],
   "source": []
  },
  {
   "cell_type": "code",
   "execution_count": null,
   "metadata": {},
   "outputs": [],
   "source": []
  },
  {
   "cell_type": "code",
   "execution_count": 123,
   "metadata": {},
   "outputs": [
    {
     "name": "stdout",
     "output_type": "stream",
     "text": [
      "****************************************************************************************************\n",
      "No results.  Previous SQL was not a query.\n"
     ]
    }
   ],
   "source": [
    "\n",
    "cnn = connection()\n",
    "cursor = cnn.cursor()\n",
    "\n",
    "parametros = (EXCEL_ID,NAME,STR_CONN,SQL)\n",
    "\n",
    "query = \"\"\"EXEC planeamiento..ctrl_excel_InsertFileConnection @excel_id = %s, @name = '%s', @str_conn = '%s', @sql = '%s'\"\"\"%parametros\n",
    "\n",
    "#sql = \"{CALL planeamiento..ctrl_excel_InsertFileConnection (?,?,?,?)}\"\n",
    "\n",
    "try:\n",
    "    #cursor.execute(sql, params)\n",
    "    cursor.execute(query)\n",
    "\n",
    "    cursor.commit()\n",
    "    cursor.fetchval()\n",
    "except Exception as e:\n",
    "    print('*'*100)\n",
    "    print(e)\n",
    "cnn.close()\n",
    "    \n",
    "    "
   ]
  },
  {
   "cell_type": "code",
   "execution_count": null,
   "metadata": {},
   "outputs": [],
   "source": []
  },
  {
   "cell_type": "code",
   "execution_count": null,
   "metadata": {},
   "outputs": [],
   "source": []
  },
  {
   "cell_type": "code",
   "execution_count": 69,
   "metadata": {},
   "outputs": [
    {
     "data": {
      "text/plain": [
       "'select * from planeamiento..ctrl_excel where end_processing_date is null'"
      ]
     },
     "execution_count": 69,
     "metadata": {},
     "output_type": "execute_result"
    }
   ],
   "source": [
    "query"
   ]
  },
  {
   "cell_type": "code",
   "execution_count": 67,
   "metadata": {},
   "outputs": [],
   "source": [
    "import pyodbc \n",
    "# Some other example server values are\n",
    "# server = 'localhost\\sqlexpress' # for a named instance\n",
    "# server = 'myserver,port' # to specify an alternate port\n",
    "server = 'tcp:192.168.1.6'\n",
    "database = 'planeamiento'\n",
    "username = 'sa'\n",
    "password = 'sa'\n",
    "cnxn = pyodbc.connect('DRIVER={SQL Server};SERVER='+server+';DATABASE='+database+';UID='+username+';PWD='+ password)\n",
    "cursor = cnxn.cursor()"
   ]
  },
  {
   "cell_type": "code",
   "execution_count": 70,
   "metadata": {
    "collapsed": true
   },
   "outputs": [
    {
     "ename": "ProgrammingError",
     "evalue": "('42000', \"[42000] [Microsoft][ODBC SQL Server Driver][SQL Server]Incorrect syntax near 'NAME'. (102) (SQLExecDirectW)\")",
     "output_type": "error",
     "traceback": [
      "\u001b[1;31m---------------------------------------------------------------------------\u001b[0m",
      "\u001b[1;31mProgrammingError\u001b[0m                          Traceback (most recent call last)",
      "\u001b[1;32m<ipython-input-70-ff5a5b3d35a8>\u001b[0m in \u001b[0;36m<module>\u001b[1;34m\u001b[0m\n\u001b[0;32m      1\u001b[0m \u001b[1;31m#Sample select query\u001b[0m\u001b[1;33m\u001b[0m\u001b[1;33m\u001b[0m\u001b[1;33m\u001b[0m\u001b[0m\n\u001b[0;32m      2\u001b[0m \u001b[0mquery\u001b[0m \u001b[1;33m=\u001b[0m \u001b[1;34m\"EXEC planeamiento..ctrl_excel_InsertFileConnection 5, PROBANDO NAME, SELECT * FROM PRUEBA\"\u001b[0m\u001b[1;33m\u001b[0m\u001b[1;33m\u001b[0m\u001b[0m\n\u001b[1;32m----> 3\u001b[1;33m \u001b[0mcursor\u001b[0m\u001b[1;33m.\u001b[0m\u001b[0mexecute\u001b[0m\u001b[1;33m(\u001b[0m\u001b[0mquery\u001b[0m\u001b[1;33m)\u001b[0m\u001b[1;33m\u001b[0m\u001b[1;33m\u001b[0m\u001b[0m\n\u001b[0m\u001b[0;32m      4\u001b[0m \u001b[0mrow\u001b[0m \u001b[1;33m=\u001b[0m \u001b[0mcursor\u001b[0m\u001b[1;33m.\u001b[0m\u001b[0mfetchone\u001b[0m\u001b[1;33m(\u001b[0m\u001b[1;33m)\u001b[0m\u001b[1;33m\u001b[0m\u001b[1;33m\u001b[0m\u001b[0m\n\u001b[0;32m      5\u001b[0m \u001b[1;32mwhile\u001b[0m \u001b[0mrow\u001b[0m\u001b[1;33m:\u001b[0m\u001b[1;33m\u001b[0m\u001b[1;33m\u001b[0m\u001b[0m\n",
      "\u001b[1;31mProgrammingError\u001b[0m: ('42000', \"[42000] [Microsoft][ODBC SQL Server Driver][SQL Server]Incorrect syntax near 'NAME'. (102) (SQLExecDirectW)\")"
     ]
    }
   ],
   "source": [
    "#Sample select query\n",
    "cursor.execute('select * from planeamiento..ctrl_excel where end_processing_date is null') \n",
    "row = cursor.fetchone() \n",
    "while row: \n",
    "    print(row[0])\n",
    "    row = cursor.fetchone()"
   ]
  },
  {
   "cell_type": "code",
   "execution_count": 73,
   "metadata": {},
   "outputs": [
    {
     "name": "stdout",
     "output_type": "stream",
     "text": [
      "C:\\Users\\jhernandez\\Desktop\\050220 AC scrapers.xlsx\n",
      "C:\\Users\\jhernandez\\Desktop\\archivo de ejemplo.xlsx\n",
      "C:\\Users\\jhernandez\\Desktop\\Copia de archivo de ejemplo.xlsx\n",
      "C:\\Users\\jhernandez\\Desktop\\Carrpeta\\conteo.xlsx\n",
      "C:\\Users\\jhernandez\\Desktop\\Carrpeta\\ejemplo3.xlsx\n",
      "C:\\Users\\jhernandez\\Desktop\\Carrpeta\\pruebaMod.xlsx\n",
      "C:\\Users\\jhernandez\\Desktop\\Carrpeta\\Scrapers_testeo.xlsx\n",
      "C:\\Users\\jhernandez\\Desktop\\Carrpeta\\Scrapers_testeo_modFecha.xlsx\n",
      "C:\\Users\\jhernandez\\Desktop\\Carrpeta\\carpeta2\\Scrapers_testeo - copia.xlsx\n",
      "C:\\Users\\jhernandez\\Desktop\\Carrpeta\\carpeta2\\Scrapers_testeo.xlsx\n",
      "C:\\Users\\jhernandez\\Desktop\\excels\\130120 LR scrapers.xlsx\n",
      "C:\\Users\\jhernandez\\Desktop\\excels\\archivo de ejemplo.xlsx\n",
      "C:\\Users\\jhernandez\\Desktop\\excels\\MultiplicationTable.xlsx\n",
      "C:\\Users\\jhernandez\\Desktop\\excels\\Scrapers.xlsx\n"
     ]
    }
   ],
   "source": [
    "import os\n",
    "for root, dirs, files in os.walk(\"C:\\\\Users\\\\jhernandez\\\\Desktop\"):\n",
    "    for file in files:\n",
    "        if file.endswith(\".xlsx\"):\n",
    "             print(os.path.join(root, file))"
   ]
  },
  {
   "cell_type": "code",
   "execution_count": 87,
   "metadata": {},
   "outputs": [],
   "source": [
    "import os\n",
    "from glob import glob\n",
    "archivos = []\n",
    "PATH = \"C:\\\\Users\\\\jhernandez\\\\Desktop\"\n",
    "EXT = \"*.xls\"\n",
    "xls = [file\n",
    "                 for path, subdir, files in os.walk(PATH)\n",
    "                 for file in glob(os.path.join(path, EXT))]\n",
    "EXT = \"*.xlsx\"\n",
    "xlsx = [file\n",
    "                 for path, subdir, files in os.walk(PATH)\n",
    "                 for file in glob(os.path.join(path, EXT))]\n",
    "\n",
    "EXT = \"*.xlsm\"\n",
    "xlsm = [file\n",
    "                 for path, subdir, files in os.walk(PATH)\n",
    "                 for file in glob(os.path.join(path, EXT))]\n",
    "\n",
    "archivos = xls + xlsx +xlsm"
   ]
  },
  {
   "cell_type": "code",
   "execution_count": 88,
   "metadata": {},
   "outputs": [
    {
     "data": {
      "text/plain": [
       "['C:\\\\Users\\\\jhernandez\\\\Desktop\\\\Calidad IMPRESION ROTULOS.xls',\n",
       " 'C:\\\\Users\\\\jhernandez\\\\Desktop\\\\excels\\\\Calidad IMPRESION ROTULOS.xls',\n",
       " 'C:\\\\Users\\\\jhernandez\\\\Desktop\\\\050220 AC scrapers.xlsx',\n",
       " 'C:\\\\Users\\\\jhernandez\\\\Desktop\\\\archivo de ejemplo.xlsx',\n",
       " 'C:\\\\Users\\\\jhernandez\\\\Desktop\\\\Copia de archivo de ejemplo.xlsx',\n",
       " 'C:\\\\Users\\\\jhernandez\\\\Desktop\\\\Carrpeta\\\\conteo.xlsx',\n",
       " 'C:\\\\Users\\\\jhernandez\\\\Desktop\\\\Carrpeta\\\\ejemplo3.xlsx',\n",
       " 'C:\\\\Users\\\\jhernandez\\\\Desktop\\\\Carrpeta\\\\pruebaMod.xlsx',\n",
       " 'C:\\\\Users\\\\jhernandez\\\\Desktop\\\\Carrpeta\\\\Scrapers_testeo.xlsx',\n",
       " 'C:\\\\Users\\\\jhernandez\\\\Desktop\\\\Carrpeta\\\\Scrapers_testeo_modFecha.xlsx',\n",
       " 'C:\\\\Users\\\\jhernandez\\\\Desktop\\\\Carrpeta\\\\carpeta2\\\\Scrapers_testeo - copia.xlsx',\n",
       " 'C:\\\\Users\\\\jhernandez\\\\Desktop\\\\Carrpeta\\\\carpeta2\\\\Scrapers_testeo.xlsx',\n",
       " 'C:\\\\Users\\\\jhernandez\\\\Desktop\\\\Carrpeta\\\\carpeta2\\\\carpeta3\\\\carpetata 4\\\\050220 AC scrapers.xlsx',\n",
       " 'C:\\\\Users\\\\jhernandez\\\\Desktop\\\\excels\\\\130120 LR scrapers.xlsx',\n",
       " 'C:\\\\Users\\\\jhernandez\\\\Desktop\\\\excels\\\\archivo de ejemplo.xlsx',\n",
       " 'C:\\\\Users\\\\jhernandez\\\\Desktop\\\\excels\\\\MultiplicationTable.xlsx',\n",
       " 'C:\\\\Users\\\\jhernandez\\\\Desktop\\\\excels\\\\Scrapers.xlsx',\n",
       " 'C:\\\\Users\\\\jhernandez\\\\Desktop\\\\Canjes electros.xlsm',\n",
       " 'C:\\\\Users\\\\jhernandez\\\\Desktop\\\\excels\\\\macro 2.xlsm']"
      ]
     },
     "execution_count": 88,
     "metadata": {},
     "output_type": "execute_result"
    }
   ],
   "source": [
    "archivos"
   ]
  },
  {
   "cell_type": "code",
   "execution_count": null,
   "metadata": {},
   "outputs": [],
   "source": []
  }
 ],
 "metadata": {
  "kernelspec": {
   "display_name": "Python 3",
   "language": "python",
   "name": "python3"
  },
  "language_info": {
   "codemirror_mode": {
    "name": "ipython",
    "version": 3
   },
   "file_extension": ".py",
   "mimetype": "text/x-python",
   "name": "python",
   "nbconvert_exporter": "python",
   "pygments_lexer": "ipython3",
   "version": "3.7.4"
  }
 },
 "nbformat": 4,
 "nbformat_minor": 2
}
