{
 "cells": [
  {
   "cell_type": "code",
   "execution_count": 1,
   "metadata": {},
   "outputs": [],
   "source": [
    "import odbc\n",
    "import win32com.client\n",
    "import pandas as pd\n",
    "import pyodbc\n",
    "\n",
    "def connection():\n",
    "    server = 'tcp:192.168.1.6'\n",
    "    database = 'planeamiento'\n",
    "    username = 'sa'\n",
    "    password = 'sa'\n",
    "\n",
    "    return pyodbc.connect('DRIVER={SQL Server};SERVER='+server+';DATABASE='+database+';UID='+username+';PWD='+ password)\n"
   ]
  },
  {
   "cell_type": "code",
   "execution_count": 2,
   "metadata": {},
   "outputs": [],
   "source": [
    "cnxn = connection()\n",
    "query = 'select * from planeamiento..ctrl_excel where end_processing_date is null'\n",
    "\n",
    "df = pd.read_sql(query,cnxn)"
   ]
  },
  {
   "cell_type": "code",
   "execution_count": 3,
   "metadata": {},
   "outputs": [
    {
     "data": {
      "text/html": [
       "<div>\n",
       "<style scoped>\n",
       "    .dataframe tbody tr th:only-of-type {\n",
       "        vertical-align: middle;\n",
       "    }\n",
       "\n",
       "    .dataframe tbody tr th {\n",
       "        vertical-align: top;\n",
       "    }\n",
       "\n",
       "    .dataframe thead th {\n",
       "        text-align: right;\n",
       "    }\n",
       "</style>\n",
       "<table border=\"1\" class=\"dataframe\">\n",
       "  <thead>\n",
       "    <tr style=\"text-align: right;\">\n",
       "      <th></th>\n",
       "      <th>excel_id</th>\n",
       "      <th>path</th>\n",
       "      <th>filename</th>\n",
       "      <th>date_of_insertion</th>\n",
       "      <th>start_processing_date</th>\n",
       "      <th>end_processing_date</th>\n",
       "      <th>process_id</th>\n",
       "      <th>error_msg</th>\n",
       "    </tr>\n",
       "  </thead>\n",
       "  <tbody>\n",
       "    <tr>\n",
       "      <td>0</td>\n",
       "      <td>40</td>\n",
       "      <td>Z:\\....Candidatos a borrar\\Archivos Viejos\\</td>\n",
       "      <td>LINEA 1118 - ORIGINAL (NO TOCAR).xlsm</td>\n",
       "      <td>2020-01-23 12:10:12.430</td>\n",
       "      <td>2020-01-24 16:13:16.420</td>\n",
       "      <td>None</td>\n",
       "      <td>3A8037B6-12FA-47D6-82D5-5C7B1F2F035D</td>\n",
       "      <td>None</td>\n",
       "    </tr>\n",
       "    <tr>\n",
       "      <td>1</td>\n",
       "      <td>41</td>\n",
       "      <td>Z:\\....Candidatos a borrar\\Archivos Viejos\\</td>\n",
       "      <td>Observaciones.xlsm</td>\n",
       "      <td>2020-01-23 12:10:12.440</td>\n",
       "      <td>NaT</td>\n",
       "      <td>None</td>\n",
       "      <td>None</td>\n",
       "      <td>None</td>\n",
       "    </tr>\n",
       "    <tr>\n",
       "      <td>2</td>\n",
       "      <td>42</td>\n",
       "      <td>Z:\\....Candidatos a borrar\\Archivos Viejos\\TODO\\</td>\n",
       "      <td>IMPRESION ROTULOS DEPOSITO.xls</td>\n",
       "      <td>2020-01-23 12:10:12.707</td>\n",
       "      <td>NaT</td>\n",
       "      <td>None</td>\n",
       "      <td>None</td>\n",
       "      <td>None</td>\n",
       "    </tr>\n",
       "    <tr>\n",
       "      <td>3</td>\n",
       "      <td>43</td>\n",
       "      <td>Z:\\....Candidatos a borrar\\Carpetas compartidas\\</td>\n",
       "      <td>primeros pedidos por zona 3.xlsx</td>\n",
       "      <td>2020-01-23 12:10:12.833</td>\n",
       "      <td>NaT</td>\n",
       "      <td>None</td>\n",
       "      <td>None</td>\n",
       "      <td>None</td>\n",
       "    </tr>\n",
       "    <tr>\n",
       "      <td>4</td>\n",
       "      <td>44</td>\n",
       "      <td>Z:\\....Candidatos a borrar\\consultas\\movimientos\\</td>\n",
       "      <td>Faltannu por fecha.xls</td>\n",
       "      <td>2020-01-23 12:10:12.963</td>\n",
       "      <td>NaT</td>\n",
       "      <td>None</td>\n",
       "      <td>None</td>\n",
       "      <td>None</td>\n",
       "    </tr>\n",
       "    <tr>\n",
       "      <td>...</td>\n",
       "      <td>...</td>\n",
       "      <td>...</td>\n",
       "      <td>...</td>\n",
       "      <td>...</td>\n",
       "      <td>...</td>\n",
       "      <td>...</td>\n",
       "      <td>...</td>\n",
       "      <td>...</td>\n",
       "    </tr>\n",
       "    <tr>\n",
       "      <td>34654</td>\n",
       "      <td>34695</td>\n",
       "      <td>Z:\\Varios\\</td>\n",
       "      <td>INTERNOS ACTUALIZADOS 2019.xlsx</td>\n",
       "      <td>2020-01-23 13:18:48.013</td>\n",
       "      <td>NaT</td>\n",
       "      <td>None</td>\n",
       "      <td>None</td>\n",
       "      <td>None</td>\n",
       "    </tr>\n",
       "    <tr>\n",
       "      <td>34655</td>\n",
       "      <td>34696</td>\n",
       "      <td>Z:\\Varios\\</td>\n",
       "      <td>stock en negativos 27 de septiembre.xlsx</td>\n",
       "      <td>2020-01-23 13:18:48.083</td>\n",
       "      <td>NaT</td>\n",
       "      <td>None</td>\n",
       "      <td>None</td>\n",
       "      <td>None</td>\n",
       "    </tr>\n",
       "    <tr>\n",
       "      <td>34656</td>\n",
       "      <td>34697</td>\n",
       "      <td>Z:\\Ventas\\</td>\n",
       "      <td>Libro1.xlsx</td>\n",
       "      <td>2020-01-23 13:18:48.230</td>\n",
       "      <td>NaT</td>\n",
       "      <td>None</td>\n",
       "      <td>None</td>\n",
       "      <td>None</td>\n",
       "    </tr>\n",
       "    <tr>\n",
       "      <td>34657</td>\n",
       "      <td>34698</td>\n",
       "      <td>Z:\\Ventas\\</td>\n",
       "      <td>presentacion 3-6 v2.xlsm</td>\n",
       "      <td>2020-01-23 13:18:48.250</td>\n",
       "      <td>NaT</td>\n",
       "      <td>None</td>\n",
       "      <td>None</td>\n",
       "      <td>None</td>\n",
       "    </tr>\n",
       "    <tr>\n",
       "      <td>34658</td>\n",
       "      <td>34699</td>\n",
       "      <td>Z:\\Ventas\\</td>\n",
       "      <td>tablero separado 104.xlsm</td>\n",
       "      <td>2020-01-23 13:18:48.277</td>\n",
       "      <td>NaT</td>\n",
       "      <td>None</td>\n",
       "      <td>None</td>\n",
       "      <td>None</td>\n",
       "    </tr>\n",
       "  </tbody>\n",
       "</table>\n",
       "<p>34659 rows × 8 columns</p>\n",
       "</div>"
      ],
      "text/plain": [
       "       excel_id                                               path  \\\n",
       "0            40        Z:\\....Candidatos a borrar\\Archivos Viejos\\   \n",
       "1            41        Z:\\....Candidatos a borrar\\Archivos Viejos\\   \n",
       "2            42   Z:\\....Candidatos a borrar\\Archivos Viejos\\TODO\\   \n",
       "3            43   Z:\\....Candidatos a borrar\\Carpetas compartidas\\   \n",
       "4            44  Z:\\....Candidatos a borrar\\consultas\\movimientos\\   \n",
       "...         ...                                                ...   \n",
       "34654     34695                                         Z:\\Varios\\   \n",
       "34655     34696                                         Z:\\Varios\\   \n",
       "34656     34697                                         Z:\\Ventas\\   \n",
       "34657     34698                                         Z:\\Ventas\\   \n",
       "34658     34699                                         Z:\\Ventas\\   \n",
       "\n",
       "                                       filename       date_of_insertion  \\\n",
       "0         LINEA 1118 - ORIGINAL (NO TOCAR).xlsm 2020-01-23 12:10:12.430   \n",
       "1                            Observaciones.xlsm 2020-01-23 12:10:12.440   \n",
       "2                IMPRESION ROTULOS DEPOSITO.xls 2020-01-23 12:10:12.707   \n",
       "3              primeros pedidos por zona 3.xlsx 2020-01-23 12:10:12.833   \n",
       "4                        Faltannu por fecha.xls 2020-01-23 12:10:12.963   \n",
       "...                                         ...                     ...   \n",
       "34654           INTERNOS ACTUALIZADOS 2019.xlsx 2020-01-23 13:18:48.013   \n",
       "34655  stock en negativos 27 de septiembre.xlsx 2020-01-23 13:18:48.083   \n",
       "34656                               Libro1.xlsx 2020-01-23 13:18:48.230   \n",
       "34657                  presentacion 3-6 v2.xlsm 2020-01-23 13:18:48.250   \n",
       "34658                 tablero separado 104.xlsm 2020-01-23 13:18:48.277   \n",
       "\n",
       "        start_processing_date end_processing_date  \\\n",
       "0     2020-01-24 16:13:16.420                None   \n",
       "1                         NaT                None   \n",
       "2                         NaT                None   \n",
       "3                         NaT                None   \n",
       "4                         NaT                None   \n",
       "...                       ...                 ...   \n",
       "34654                     NaT                None   \n",
       "34655                     NaT                None   \n",
       "34656                     NaT                None   \n",
       "34657                     NaT                None   \n",
       "34658                     NaT                None   \n",
       "\n",
       "                                 process_id error_msg  \n",
       "0      3A8037B6-12FA-47D6-82D5-5C7B1F2F035D      None  \n",
       "1                                      None      None  \n",
       "2                                      None      None  \n",
       "3                                      None      None  \n",
       "4                                      None      None  \n",
       "...                                     ...       ...  \n",
       "34654                                  None      None  \n",
       "34655                                  None      None  \n",
       "34656                                  None      None  \n",
       "34657                                  None      None  \n",
       "34658                                  None      None  \n",
       "\n",
       "[34659 rows x 8 columns]"
      ]
     },
     "execution_count": 3,
     "metadata": {},
     "output_type": "execute_result"
    }
   ],
   "source": [
    "df"
   ]
  },
  {
   "cell_type": "code",
   "execution_count": 9,
   "metadata": {},
   "outputs": [],
   "source": [
    "def check_excel(file):\n",
    "    \n",
    "    #xl = win32com.client.gencache.EnsureDispatch('Excel.Application')\n",
    "    #file = r'C:\\Users\\lrojas\\Desktop\\Copia de archivo de ejemplo.xlsx'\n",
    "#    file = f'r{path}'\n",
    "    xl = win32com.client.Dispatch('Excel.Application')\n",
    "    try:\n",
    "        wb = xl.Workbooks.Open(file, None,True)\n",
    "    except Exception as e:\n",
    "        #print(e)\n",
    "        return e , []\n",
    "        \n",
    "    datos = []\n",
    "\n",
    "    for x in wb.Connections:\n",
    "        for i in x.Ranges:\n",
    "            try:\n",
    "                for p in i.ListObject.QueryTable.Parameters:\n",
    "                    datos.append([x,\n",
    "                                  x.ODBCConnection.CommandText,\n",
    "                                  x.ODBCConnection.Connection,\n",
    "                                  i.Parent.Name,\n",
    "                                  i.Cells(1,1)[2],\n",
    "                                  p.SourceRange.Address,\n",
    "                                  p.SourceRange.Parent.Name,\n",
    "                                  p.SourceRange.Value])\n",
    "\n",
    "            except Exception as e:\n",
    "                try:\n",
    "                    datos.append([x,\n",
    "                                  x.ODBCConnection.CommandText,\n",
    "                                  x.ODBCConnection.Connection,\n",
    "                                  i.Parent.Name,\n",
    "                                  i.Cells(1,1)[2],\n",
    "                                  None,\n",
    "                                  None,\n",
    "                                  None])\n",
    "                except:\n",
    "                    try:\n",
    "                        for p in i.ListObject.QueryTable.Parameters:\n",
    "                            datos.append([x,\n",
    "                                          x.OLEDBConnection.CommandText,\n",
    "                                          x.OLEDBConnection.Connection,\n",
    "                                          i.Parent.Name,\n",
    "                                          i.Cells(1,1)[2],\n",
    "                                          p.SourceRange.Address,\n",
    "                                          p.SourceRange.Parent.Name,\n",
    "                                          p.SourceRange.Value])\n",
    "                    except:\n",
    "                        datos.append([x,\n",
    "                                      x.OLEDBConnection.CommandText,\n",
    "                                      x.OLEDBConnection.Connection,\n",
    "                                      i.Parent.Name,\n",
    "                                      i.Cells(1,1)[2],\n",
    "                                      None,\n",
    "                                      None,\n",
    "                                      None])\n",
    "                        \n",
    "                    \n",
    "\n",
    "    #df = pd.DataFrame(datos)\n",
    "    #df = df.applymap(str)\n",
    "    #datos = map(str,datos)\n",
    "    if type(datos[0]) == list:\n",
    "        datos = [list(map(str,i))for i in datos]\n",
    "    else:\n",
    "        datos = list(map(str,datos))\n",
    "        \n",
    "    wb.Close(0)\n",
    "    xl.Application.Quit()\n",
    "    \n",
    "    #return df\n",
    "    return 0, datos"
   ]
  },
  {
   "cell_type": "code",
   "execution_count": null,
   "metadata": {},
   "outputs": [],
   "source": [
    "xl = win32com.client.DispatchEx(\"Excel.Application\")\n",
    "wb = xl.workbooks.open(\"C:\\file.xlsm\")\n",
    "xl.run(\"file.xlsm!macro\")\n",
    "xl.Visible = True\n",
    "wb.Close(savechanges=1)\n",
    "xl.Quit()"
   ]
  },
  {
   "cell_type": "code",
   "execution_count": 5,
   "metadata": {},
   "outputs": [],
   "source": [
    "def insert_file_connection(EXCEL_ID,NAME,STR_CONN,SQL):\n",
    "    \n",
    "    aux_cnn = connection()\n",
    "    \n",
    "    cursor = aux_cnn.cursor()\n",
    "    \n",
    "    params = EXCEL_ID,NAME,STR_CONN,SQL\n",
    "    \n",
    "    #query = \"EXEC planeamiento..ctrl_excel_InsertFileConnection @excel_id = %s, @name = '%s', @str_conn = '%s', @sql = '%s'\"%params\n",
    "    query = \"\"\"EXEC planeamiento..ctrl_excel_InsertFileConnection  %s, '%s', '%s', '%s'\"\"\"%params\n",
    "    #sql = \"{CALL planeamiento..ctrl_excel_InsertFileConnection (?,?,?,?)}\"\n",
    "    \n",
    "    try:\n",
    "        #cursor.execute(sql, params)\n",
    "        cursor.execute(query)\n",
    "        val = cursor.fetchval()\n",
    "        cursor.commit()\n",
    "        \n",
    "        \n",
    "        \n",
    "    except Exception as e:\n",
    "        print('*'*100)\n",
    "        print(e)\n",
    "        \n",
    "    \n",
    "    aux_cnn.close()\n",
    "    return int(val)\n",
    "    \n",
    "    \n",
    "    "
   ]
  },
  {
   "cell_type": "code",
   "execution_count": 27,
   "metadata": {},
   "outputs": [],
   "source": [
    "x = insert_file_connection(5,'PROBANDO NAME','CONEXION PROBANDO','SELECT * FROM PRUEBA')\n",
    "#exec planeamiento..ctrl_excel_InsertFileConnection 5,'PROBANDO NAME','CONEXION PROBANDO','SELECT * FROM PRUEBA'"
   ]
  },
  {
   "cell_type": "code",
   "execution_count": null,
   "metadata": {},
   "outputs": [],
   "source": [
    "x"
   ]
  },
  {
   "cell_type": "code",
   "execution_count": 31,
   "metadata": {},
   "outputs": [
    {
     "data": {
      "text/html": [
       "<div>\n",
       "<style scoped>\n",
       "    .dataframe tbody tr th:only-of-type {\n",
       "        vertical-align: middle;\n",
       "    }\n",
       "\n",
       "    .dataframe tbody tr th {\n",
       "        vertical-align: top;\n",
       "    }\n",
       "\n",
       "    .dataframe thead th {\n",
       "        text-align: right;\n",
       "    }\n",
       "</style>\n",
       "<table border=\"1\" class=\"dataframe\">\n",
       "  <thead>\n",
       "    <tr style=\"text-align: right;\">\n",
       "      <th></th>\n",
       "      <th>excel_id</th>\n",
       "      <th>path</th>\n",
       "      <th>filename</th>\n",
       "      <th>date_of_insertion</th>\n",
       "      <th>start_processing_date</th>\n",
       "      <th>end_processing_date</th>\n",
       "      <th>process_id</th>\n",
       "      <th>error_msg</th>\n",
       "    </tr>\n",
       "  </thead>\n",
       "  <tbody>\n",
       "    <tr>\n",
       "      <th>0</th>\n",
       "      <td>40</td>\n",
       "      <td>Z:\\....Candidatos a borrar\\Archivos Viejos\\</td>\n",
       "      <td>LINEA 1118 - ORIGINAL (NO TOCAR).xlsm</td>\n",
       "      <td>2020-01-23 12:10:12.430</td>\n",
       "      <td>2020-01-24 16:13:16.420</td>\n",
       "      <td>None</td>\n",
       "      <td>3A8037B6-12FA-47D6-82D5-5C7B1F2F035D</td>\n",
       "      <td>None</td>\n",
       "    </tr>\n",
       "    <tr>\n",
       "      <th>1</th>\n",
       "      <td>41</td>\n",
       "      <td>Z:\\....Candidatos a borrar\\Archivos Viejos\\</td>\n",
       "      <td>Observaciones.xlsm</td>\n",
       "      <td>2020-01-23 12:10:12.440</td>\n",
       "      <td>NaT</td>\n",
       "      <td>None</td>\n",
       "      <td>None</td>\n",
       "      <td>None</td>\n",
       "    </tr>\n",
       "    <tr>\n",
       "      <th>2</th>\n",
       "      <td>42</td>\n",
       "      <td>Z:\\....Candidatos a borrar\\Archivos Viejos\\TODO\\</td>\n",
       "      <td>IMPRESION ROTULOS DEPOSITO.xls</td>\n",
       "      <td>2020-01-23 12:10:12.707</td>\n",
       "      <td>NaT</td>\n",
       "      <td>None</td>\n",
       "      <td>None</td>\n",
       "      <td>None</td>\n",
       "    </tr>\n",
       "    <tr>\n",
       "      <th>3</th>\n",
       "      <td>43</td>\n",
       "      <td>Z:\\....Candidatos a borrar\\Carpetas compartidas\\</td>\n",
       "      <td>primeros pedidos por zona 3.xlsx</td>\n",
       "      <td>2020-01-23 12:10:12.833</td>\n",
       "      <td>NaT</td>\n",
       "      <td>None</td>\n",
       "      <td>None</td>\n",
       "      <td>None</td>\n",
       "    </tr>\n",
       "    <tr>\n",
       "      <th>4</th>\n",
       "      <td>44</td>\n",
       "      <td>Z:\\....Candidatos a borrar\\consultas\\movimientos\\</td>\n",
       "      <td>Faltannu por fecha.xls</td>\n",
       "      <td>2020-01-23 12:10:12.963</td>\n",
       "      <td>NaT</td>\n",
       "      <td>None</td>\n",
       "      <td>None</td>\n",
       "      <td>None</td>\n",
       "    </tr>\n",
       "  </tbody>\n",
       "</table>\n",
       "</div>"
      ],
      "text/plain": [
       "   excel_id                                               path  \\\n",
       "0        40        Z:\\....Candidatos a borrar\\Archivos Viejos\\   \n",
       "1        41        Z:\\....Candidatos a borrar\\Archivos Viejos\\   \n",
       "2        42   Z:\\....Candidatos a borrar\\Archivos Viejos\\TODO\\   \n",
       "3        43   Z:\\....Candidatos a borrar\\Carpetas compartidas\\   \n",
       "4        44  Z:\\....Candidatos a borrar\\consultas\\movimientos\\   \n",
       "\n",
       "                                filename       date_of_insertion  \\\n",
       "0  LINEA 1118 - ORIGINAL (NO TOCAR).xlsm 2020-01-23 12:10:12.430   \n",
       "1                     Observaciones.xlsm 2020-01-23 12:10:12.440   \n",
       "2         IMPRESION ROTULOS DEPOSITO.xls 2020-01-23 12:10:12.707   \n",
       "3       primeros pedidos por zona 3.xlsx 2020-01-23 12:10:12.833   \n",
       "4                 Faltannu por fecha.xls 2020-01-23 12:10:12.963   \n",
       "\n",
       "    start_processing_date end_processing_date  \\\n",
       "0 2020-01-24 16:13:16.420                None   \n",
       "1                     NaT                None   \n",
       "2                     NaT                None   \n",
       "3                     NaT                None   \n",
       "4                     NaT                None   \n",
       "\n",
       "                             process_id error_msg  \n",
       "0  3A8037B6-12FA-47D6-82D5-5C7B1F2F035D      None  \n",
       "1                                  None      None  \n",
       "2                                  None      None  \n",
       "3                                  None      None  \n",
       "4                                  None      None  "
      ]
     },
     "execution_count": 31,
     "metadata": {},
     "output_type": "execute_result"
    }
   ],
   "source": [
    "df.head()"
   ]
  },
  {
   "cell_type": "code",
   "execution_count": 28,
   "metadata": {},
   "outputs": [
    {
     "data": {
      "text/plain": [
       "119"
      ]
     },
     "execution_count": 28,
     "metadata": {},
     "output_type": "execute_result"
    }
   ],
   "source": [
    "ID name\tquery\tstr_cnn\tparent_name\tAddress_0"
   ]
  },
  {
   "cell_type": "code",
   "execution_count": 30,
   "metadata": {},
   "outputs": [],
   "source": []
  },
  {
   "cell_type": "code",
   "execution_count": null,
   "metadata": {},
   "outputs": [],
   "source": []
  },
  {
   "cell_type": "code",
   "execution_count": null,
   "metadata": {},
   "outputs": [],
   "source": [
    "cursor = cnxn.cursor()\n",
    "for index,row in df.iterrows():                                                          \n",
    "    cursor.execute(\"INSERT INTO tabla(,,,]) values (?,?,?)\",\n",
    "                   row['col'])\n",
    "    cnxn.commit()\n",
    "cursor.close()\n",
    "cnxn.close()\n",
    "\n",
    "\n",
    "datos = []\n",
    "\n"
   ]
  },
  {
   "cell_type": "code",
   "execution_count": null,
   "metadata": {},
   "outputs": [],
   "source": []
  },
  {
   "cell_type": "code",
   "execution_count": 1,
   "metadata": {},
   "outputs": [],
   "source": [
    "#PROBANDO CON SQLALCHEMY\n",
    "from sqlalchemy import create_engine\n",
    "import urllib\n",
    "server = 'tcp:192.168.1.6'\n",
    "database = 'planeamiento'\n",
    "username = 'sa'\n",
    "password = 'sa'\n",
    "\n",
    "params = urllib.parse.quote_plus('DRIVER={SQL Server};SERVER='+\n",
    "                                 server+';DATABASE='+database+';UID='+username+';PWD='+ password)\n",
    "\n",
    "engine = create_engine(\"mssql+pyodbc:///?odbc_connect=%s\" % params)"
   ]
  },
  {
   "cell_type": "code",
   "execution_count": null,
   "metadata": {},
   "outputs": [],
   "source": []
  },
  {
   "cell_type": "code",
   "execution_count": 2,
   "metadata": {},
   "outputs": [],
   "source": [
    "EXCEL_ID = 5\n",
    "NAME ='PROBANDO NAME'\n",
    "STR_CONN = 'CONEXION PROBANDO'\n",
    "SQL = 'SELECT * FROM PRUEBA'"
   ]
  },
  {
   "cell_type": "code",
   "execution_count": 3,
   "metadata": {},
   "outputs": [],
   "source": [
    "parametros = (EXCEL_ID,NAME,STR_CONN,SQL)\n",
    "query = \"EXEC planeamiento..ctrl_excel_InsertFileConnection @excel_id = %s, @name = '%s', @str_conn = '%s', @sql = '%s'\"%parametros"
   ]
  },
  {
   "cell_type": "code",
   "execution_count": 5,
   "metadata": {},
   "outputs": [],
   "source": [
    "import pandas as pd"
   ]
  },
  {
   "cell_type": "code",
   "execution_count": 6,
   "metadata": {},
   "outputs": [],
   "source": [
    "#parametros = (EXCEL_ID,NAME,STR_CONN,SQL)\n",
    "    \n",
    "#query = \"EXEC planeamiento..ctrl_excel_InsertFileConnection @excel_id = {0}, @name = {1}, @str_conn = {2}, @sql = {3}\".format(params)\n",
    "    \n",
    "#query = 'EXEC my_procedure @Param = {0}'.format(my_param)"
   ]
  },
  {
   "cell_type": "code",
   "execution_count": 7,
   "metadata": {},
   "outputs": [],
   "source": [
    "df = pd.read_sql_query(query, engine)\n",
    "#*** HASTA SQLALCHEMY"
   ]
  },
  {
   "cell_type": "code",
   "execution_count": 8,
   "metadata": {},
   "outputs": [
    {
     "data": {
      "text/html": [
       "<div>\n",
       "<style scoped>\n",
       "    .dataframe tbody tr th:only-of-type {\n",
       "        vertical-align: middle;\n",
       "    }\n",
       "\n",
       "    .dataframe tbody tr th {\n",
       "        vertical-align: top;\n",
       "    }\n",
       "\n",
       "    .dataframe thead th {\n",
       "        text-align: right;\n",
       "    }\n",
       "</style>\n",
       "<table border=\"1\" class=\"dataframe\">\n",
       "  <thead>\n",
       "    <tr style=\"text-align: right;\">\n",
       "      <th></th>\n",
       "      <th>ctrl_excel_connection_id</th>\n",
       "    </tr>\n",
       "  </thead>\n",
       "  <tbody>\n",
       "    <tr>\n",
       "      <th>0</th>\n",
       "      <td>111.0</td>\n",
       "    </tr>\n",
       "  </tbody>\n",
       "</table>\n",
       "</div>"
      ],
      "text/plain": [
       "   ctrl_excel_connection_id\n",
       "0                     111.0"
      ]
     },
     "execution_count": 8,
     "metadata": {},
     "output_type": "execute_result"
    }
   ],
   "source": [
    "df"
   ]
  },
  {
   "cell_type": "code",
   "execution_count": null,
   "metadata": {},
   "outputs": [],
   "source": []
  },
  {
   "cell_type": "code",
   "execution_count": null,
   "metadata": {},
   "outputs": [],
   "source": []
  },
  {
   "cell_type": "code",
   "execution_count": null,
   "metadata": {},
   "outputs": [],
   "source": []
  },
  {
   "cell_type": "code",
   "execution_count": null,
   "metadata": {},
   "outputs": [],
   "source": []
  },
  {
   "cell_type": "code",
   "execution_count": 201,
   "metadata": {},
   "outputs": [],
   "source": [
    "server = 'tcp:192.168.1.6'\n",
    "database = 'planeamiento'\n",
    "username = 'sa'\n",
    "password = 'sa'\n",
    "\n",
    "cnn = pyodbc.connect('DRIVER={SQL Server};SERVER='+server+';DATABASE='+database+';UID='+username+';PWD='+ password)\n"
   ]
  },
  {
   "cell_type": "code",
   "execution_count": 206,
   "metadata": {},
   "outputs": [],
   "source": [
    "cursor = cnn.cursor()\n",
    "cpn = []\n",
    "parametros = EXCEL_ID,NAME,STR_CONN,SQL\n",
    "\n",
    "query = \"\"\"EXEC planeamiento..ctrl_excel_InsertFileConnection  %s, '%s', '%s', '%s'\"\"\"%parametros\n",
    "\n",
    "#sql = \"{CALL planeamiento..ctrl_excel_InsertFileConnection (?,?,?,?)}\"\n",
    "try:\n",
    "    #cursor.execute(sql, params)\n",
    "    cursor.execute(query)\n",
    "    rows = cursor.fetchall()\n",
    "    cursor.commit()\n",
    "    \n",
    "except Exception as e:\n",
    "    print('*'*100)\n",
    "    print(e)"
   ]
  },
  {
   "cell_type": "code",
   "execution_count": 204,
   "metadata": {},
   "outputs": [],
   "source": [
    "cursor = cnn.cursor()\n",
    "#sql = 'exec planeamiento..ctrl_excel_InsertFileConnection(?, ?, ?, ?)'\n",
    "values = EXCEL_ID,NAME,STR_CONN,SQL\n",
    "\n",
    "sql = \"\"\"\\\n",
    "DECLARE @RC int;\n",
    "EXEC @RC = planeamiento..ctrl_excel_InsertFileConnection ?, ?, ?, ?;\n",
    "SELECT @RC AS rc;\n",
    "\"\"\"\n",
    "\n",
    "cursor.execute(sql, values)\n",
    "rc = cursor.fetchval()\n",
    "\n",
    "\n"
   ]
  },
  {
   "cell_type": "code",
   "execution_count": null,
   "metadata": {},
   "outputs": [],
   "source": []
  },
  {
   "cell_type": "code",
   "execution_count": 27,
   "metadata": {},
   "outputs": [
    {
     "data": {
      "text/html": [
       "<div>\n",
       "<style scoped>\n",
       "    .dataframe tbody tr th:only-of-type {\n",
       "        vertical-align: middle;\n",
       "    }\n",
       "\n",
       "    .dataframe tbody tr th {\n",
       "        vertical-align: top;\n",
       "    }\n",
       "\n",
       "    .dataframe thead th {\n",
       "        text-align: right;\n",
       "    }\n",
       "</style>\n",
       "<table border=\"1\" class=\"dataframe\">\n",
       "  <thead>\n",
       "    <tr style=\"text-align: right;\">\n",
       "      <th></th>\n",
       "      <th>excel_id</th>\n",
       "      <th>path</th>\n",
       "      <th>filename</th>\n",
       "      <th>date_of_insertion</th>\n",
       "      <th>start_processing_date</th>\n",
       "      <th>end_processing_date</th>\n",
       "      <th>process_id</th>\n",
       "      <th>error_msg</th>\n",
       "    </tr>\n",
       "  </thead>\n",
       "  <tbody>\n",
       "    <tr>\n",
       "      <td>0</td>\n",
       "      <td>40</td>\n",
       "      <td>Z:\\....Candidatos a borrar\\Archivos Viejos\\</td>\n",
       "      <td>LINEA 1118 - ORIGINAL (NO TOCAR).xlsm</td>\n",
       "      <td>2020-01-23 12:10:12.430</td>\n",
       "      <td>2020-01-24 16:13:16.420</td>\n",
       "      <td>None</td>\n",
       "      <td>3A8037B6-12FA-47D6-82D5-5C7B1F2F035D</td>\n",
       "      <td>None</td>\n",
       "    </tr>\n",
       "    <tr>\n",
       "      <td>1</td>\n",
       "      <td>41</td>\n",
       "      <td>Z:\\....Candidatos a borrar\\Archivos Viejos\\</td>\n",
       "      <td>Observaciones.xlsm</td>\n",
       "      <td>2020-01-23 12:10:12.440</td>\n",
       "      <td>NaT</td>\n",
       "      <td>None</td>\n",
       "      <td>None</td>\n",
       "      <td>None</td>\n",
       "    </tr>\n",
       "    <tr>\n",
       "      <td>2</td>\n",
       "      <td>42</td>\n",
       "      <td>Z:\\....Candidatos a borrar\\Archivos Viejos\\TODO\\</td>\n",
       "      <td>IMPRESION ROTULOS DEPOSITO.xls</td>\n",
       "      <td>2020-01-23 12:10:12.707</td>\n",
       "      <td>NaT</td>\n",
       "      <td>None</td>\n",
       "      <td>None</td>\n",
       "      <td>None</td>\n",
       "    </tr>\n",
       "    <tr>\n",
       "      <td>3</td>\n",
       "      <td>43</td>\n",
       "      <td>Z:\\....Candidatos a borrar\\Carpetas compartidas\\</td>\n",
       "      <td>primeros pedidos por zona 3.xlsx</td>\n",
       "      <td>2020-01-23 12:10:12.833</td>\n",
       "      <td>NaT</td>\n",
       "      <td>None</td>\n",
       "      <td>None</td>\n",
       "      <td>None</td>\n",
       "    </tr>\n",
       "    <tr>\n",
       "      <td>4</td>\n",
       "      <td>44</td>\n",
       "      <td>Z:\\....Candidatos a borrar\\consultas\\movimientos\\</td>\n",
       "      <td>Faltannu por fecha.xls</td>\n",
       "      <td>2020-01-23 12:10:12.963</td>\n",
       "      <td>NaT</td>\n",
       "      <td>None</td>\n",
       "      <td>None</td>\n",
       "      <td>None</td>\n",
       "    </tr>\n",
       "    <tr>\n",
       "      <td>...</td>\n",
       "      <td>...</td>\n",
       "      <td>...</td>\n",
       "      <td>...</td>\n",
       "      <td>...</td>\n",
       "      <td>...</td>\n",
       "      <td>...</td>\n",
       "      <td>...</td>\n",
       "      <td>...</td>\n",
       "    </tr>\n",
       "    <tr>\n",
       "      <td>34654</td>\n",
       "      <td>34695</td>\n",
       "      <td>Z:\\Varios\\</td>\n",
       "      <td>INTERNOS ACTUALIZADOS 2019.xlsx</td>\n",
       "      <td>2020-01-23 13:18:48.013</td>\n",
       "      <td>NaT</td>\n",
       "      <td>None</td>\n",
       "      <td>None</td>\n",
       "      <td>None</td>\n",
       "    </tr>\n",
       "    <tr>\n",
       "      <td>34655</td>\n",
       "      <td>34696</td>\n",
       "      <td>Z:\\Varios\\</td>\n",
       "      <td>stock en negativos 27 de septiembre.xlsx</td>\n",
       "      <td>2020-01-23 13:18:48.083</td>\n",
       "      <td>NaT</td>\n",
       "      <td>None</td>\n",
       "      <td>None</td>\n",
       "      <td>None</td>\n",
       "    </tr>\n",
       "    <tr>\n",
       "      <td>34656</td>\n",
       "      <td>34697</td>\n",
       "      <td>Z:\\Ventas\\</td>\n",
       "      <td>Libro1.xlsx</td>\n",
       "      <td>2020-01-23 13:18:48.230</td>\n",
       "      <td>NaT</td>\n",
       "      <td>None</td>\n",
       "      <td>None</td>\n",
       "      <td>None</td>\n",
       "    </tr>\n",
       "    <tr>\n",
       "      <td>34657</td>\n",
       "      <td>34698</td>\n",
       "      <td>Z:\\Ventas\\</td>\n",
       "      <td>presentacion 3-6 v2.xlsm</td>\n",
       "      <td>2020-01-23 13:18:48.250</td>\n",
       "      <td>NaT</td>\n",
       "      <td>None</td>\n",
       "      <td>None</td>\n",
       "      <td>None</td>\n",
       "    </tr>\n",
       "    <tr>\n",
       "      <td>34658</td>\n",
       "      <td>34699</td>\n",
       "      <td>Z:\\Ventas\\</td>\n",
       "      <td>tablero separado 104.xlsm</td>\n",
       "      <td>2020-01-23 13:18:48.277</td>\n",
       "      <td>NaT</td>\n",
       "      <td>None</td>\n",
       "      <td>None</td>\n",
       "      <td>None</td>\n",
       "    </tr>\n",
       "  </tbody>\n",
       "</table>\n",
       "<p>34659 rows × 8 columns</p>\n",
       "</div>"
      ],
      "text/plain": [
       "       excel_id                                               path  \\\n",
       "0            40        Z:\\....Candidatos a borrar\\Archivos Viejos\\   \n",
       "1            41        Z:\\....Candidatos a borrar\\Archivos Viejos\\   \n",
       "2            42   Z:\\....Candidatos a borrar\\Archivos Viejos\\TODO\\   \n",
       "3            43   Z:\\....Candidatos a borrar\\Carpetas compartidas\\   \n",
       "4            44  Z:\\....Candidatos a borrar\\consultas\\movimientos\\   \n",
       "...         ...                                                ...   \n",
       "34654     34695                                         Z:\\Varios\\   \n",
       "34655     34696                                         Z:\\Varios\\   \n",
       "34656     34697                                         Z:\\Ventas\\   \n",
       "34657     34698                                         Z:\\Ventas\\   \n",
       "34658     34699                                         Z:\\Ventas\\   \n",
       "\n",
       "                                       filename       date_of_insertion  \\\n",
       "0         LINEA 1118 - ORIGINAL (NO TOCAR).xlsm 2020-01-23 12:10:12.430   \n",
       "1                            Observaciones.xlsm 2020-01-23 12:10:12.440   \n",
       "2                IMPRESION ROTULOS DEPOSITO.xls 2020-01-23 12:10:12.707   \n",
       "3              primeros pedidos por zona 3.xlsx 2020-01-23 12:10:12.833   \n",
       "4                        Faltannu por fecha.xls 2020-01-23 12:10:12.963   \n",
       "...                                         ...                     ...   \n",
       "34654           INTERNOS ACTUALIZADOS 2019.xlsx 2020-01-23 13:18:48.013   \n",
       "34655  stock en negativos 27 de septiembre.xlsx 2020-01-23 13:18:48.083   \n",
       "34656                               Libro1.xlsx 2020-01-23 13:18:48.230   \n",
       "34657                  presentacion 3-6 v2.xlsm 2020-01-23 13:18:48.250   \n",
       "34658                 tablero separado 104.xlsm 2020-01-23 13:18:48.277   \n",
       "\n",
       "        start_processing_date end_processing_date  \\\n",
       "0     2020-01-24 16:13:16.420                None   \n",
       "1                         NaT                None   \n",
       "2                         NaT                None   \n",
       "3                         NaT                None   \n",
       "4                         NaT                None   \n",
       "...                       ...                 ...   \n",
       "34654                     NaT                None   \n",
       "34655                     NaT                None   \n",
       "34656                     NaT                None   \n",
       "34657                     NaT                None   \n",
       "34658                     NaT                None   \n",
       "\n",
       "                                 process_id error_msg  \n",
       "0      3A8037B6-12FA-47D6-82D5-5C7B1F2F035D      None  \n",
       "1                                      None      None  \n",
       "2                                      None      None  \n",
       "3                                      None      None  \n",
       "4                                      None      None  \n",
       "...                                     ...       ...  \n",
       "34654                                  None      None  \n",
       "34655                                  None      None  \n",
       "34656                                  None      None  \n",
       "34657                                  None      None  \n",
       "34658                                  None      None  \n",
       "\n",
       "[34659 rows x 8 columns]"
      ]
     },
     "execution_count": 27,
     "metadata": {},
     "output_type": "execute_result"
    }
   ],
   "source": [
    "df"
   ]
  },
  {
   "cell_type": "code",
   "execution_count": 43,
   "metadata": {},
   "outputs": [
    {
     "data": {
      "text/plain": [
       "'Z:\\\\....Candidatos a borrar\\\\Archivos Viejos\\\\TODO\\\\IMPRESION ROTULOS DEPOSITO.xls'"
      ]
     },
     "execution_count": 43,
     "metadata": {},
     "output_type": "execute_result"
    }
   ],
   "source": []
  },
  {
   "cell_type": "code",
   "execution_count": 39,
   "metadata": {
    "collapsed": true
   },
   "outputs": [
    {
     "data": {
      "text/plain": [
       "0              Z:\\....Candidatos a borrar\\Archivos Viejos\\\n",
       "1              Z:\\....Candidatos a borrar\\Archivos Viejos\\\n",
       "2         Z:\\....Candidatos a borrar\\Archivos Viejos\\TODO\\\n",
       "3         Z:\\....Candidatos a borrar\\Carpetas compartidas\\\n",
       "4        Z:\\....Candidatos a borrar\\consultas\\movimientos\\\n",
       "5        Z:\\....Candidatos a borrar\\consultas\\movimientos\\\n",
       "6                       Z:\\....Candidatos a borrar\\varios\\\n",
       "7                       Z:\\....Candidatos a borrar\\varios\\\n",
       "8                       Z:\\....Candidatos a borrar\\varios\\\n",
       "9                       Z:\\....Candidatos a borrar\\varios\\\n",
       "10        Z:\\....Candidatos a borrar\\varios\\dortiz Planif\\\n",
       "11        Z:\\....Candidatos a borrar\\varios\\dortiz Planif\\\n",
       "12        Z:\\....Candidatos a borrar\\varios\\dortiz Planif\\\n",
       "13       Z:\\....Candidatos a borrar\\varios\\dortiz Plani...\n",
       "14       Z:\\....Candidatos a borrar\\varios\\dortiz Plani...\n",
       "15       Z:\\....Candidatos a borrar\\varios\\dortiz Plani...\n",
       "16       Z:\\....Candidatos a borrar\\varios\\dortiz Plani...\n",
       "17       Z:\\....Candidatos a borrar\\varios\\dortiz Plani...\n",
       "18                 Z:\\AtencionAlCliente\\DESPACHO INTERIOR\\\n",
       "19                 Z:\\AtencionAlCliente\\DESPACHO INTERIOR\\\n",
       "20                                           Z:\\Consultas\\\n",
       "21                                           Z:\\Consultas\\\n",
       "22                                           Z:\\Consultas\\\n",
       "23                                           Z:\\Consultas\\\n",
       "24                                           Z:\\Consultas\\\n",
       "25                              Z:\\Consultas\\Abrigos 2020\\\n",
       "26                                    Z:\\Consultas\\Agenda\\\n",
       "27                                 Z:\\Consultas\\Articulos\\\n",
       "28                                 Z:\\Consultas\\Articulos\\\n",
       "29                                 Z:\\Consultas\\Articulos\\\n",
       "                               ...                        \n",
       "34629           Z:\\Reportes_de_Morosidad_G_J\\Devoluciones\\\n",
       "34630           Z:\\Reportes_de_Morosidad_G_J\\Devoluciones\\\n",
       "34631           Z:\\Reportes_de_Morosidad_G_J\\Devoluciones\\\n",
       "34632           Z:\\Reportes_de_Morosidad_G_J\\Devoluciones\\\n",
       "34633           Z:\\Reportes_de_Morosidad_G_J\\Devoluciones\\\n",
       "34634           Z:\\Reportes_de_Morosidad_G_J\\Devoluciones\\\n",
       "34635           Z:\\Reportes_de_Morosidad_G_J\\Devoluciones\\\n",
       "34636           Z:\\Reportes_de_Morosidad_G_J\\Devoluciones\\\n",
       "34637           Z:\\Reportes_de_Morosidad_G_J\\Devoluciones\\\n",
       "34638           Z:\\Reportes_de_Morosidad_G_J\\Devoluciones\\\n",
       "34639           Z:\\Reportes_de_Morosidad_G_J\\Devoluciones\\\n",
       "34640           Z:\\Reportes_de_Morosidad_G_J\\Devoluciones\\\n",
       "34641           Z:\\Reportes_de_Morosidad_G_J\\Devoluciones\\\n",
       "34642           Z:\\Reportes_de_Morosidad_G_J\\Devoluciones\\\n",
       "34643           Z:\\Reportes_de_Morosidad_G_J\\Devoluciones\\\n",
       "34644           Z:\\Reportes_de_Morosidad_G_J\\Devoluciones\\\n",
       "34645           Z:\\Reportes_de_Morosidad_G_J\\Devoluciones\\\n",
       "34646           Z:\\Reportes_de_Morosidad_G_J\\Devoluciones\\\n",
       "34647           Z:\\Reportes_de_Morosidad_G_J\\Devoluciones\\\n",
       "34648           Z:\\Reportes_de_Morosidad_G_J\\Devoluciones\\\n",
       "34649           Z:\\Reportes_de_Morosidad_G_J\\Devoluciones\\\n",
       "34650           Z:\\Reportes_de_Morosidad_G_J\\Devoluciones\\\n",
       "34651           Z:\\Reportes_de_Morosidad_G_J\\Devoluciones\\\n",
       "34652           Z:\\Reportes_de_Morosidad_G_J\\Devoluciones\\\n",
       "34653    Z:\\Sistemas2\\ERP\\02 Preparar\\Actividades Previ...\n",
       "34654                                           Z:\\Varios\\\n",
       "34655                                           Z:\\Varios\\\n",
       "34656                                           Z:\\Ventas\\\n",
       "34657                                           Z:\\Ventas\\\n",
       "34658                                           Z:\\Ventas\\\n",
       "Name: path, Length: 34659, dtype: object"
      ]
     },
     "execution_count": 39,
     "metadata": {},
     "output_type": "execute_result"
    }
   ],
   "source": [
    "df['path']"
   ]
  },
  {
   "cell_type": "code",
   "execution_count": 30,
   "metadata": {},
   "outputs": [
    {
     "name": "stdout",
     "output_type": "stream",
     "text": [
      "Z:\\....Candidatos a borrar\\consultas\\movimientos\\Faltannu por fecha.xls\n"
     ]
    }
   ],
   "source": [
    "print(df.loc[4]['path']+df.loc[4]['filename'])"
   ]
  },
  {
   "cell_type": "code",
   "execution_count": null,
   "metadata": {},
   "outputs": [],
   "source": []
  },
  {
   "cell_type": "code",
   "execution_count": 23,
   "metadata": {},
   "outputs": [],
   "source": [
    "a = check_excel(df.loc[2]['path']+df.loc[2]['filename'])"
   ]
  },
  {
   "cell_type": "code",
   "execution_count": 28,
   "metadata": {},
   "outputs": [
    {
     "data": {
      "text/plain": [
       "'None'"
      ]
     },
     "execution_count": 28,
     "metadata": {},
     "output_type": "execute_result"
    }
   ],
   "source": []
  },
  {
   "cell_type": "code",
   "execution_count": 15,
   "metadata": {},
   "outputs": [],
   "source": [
    "PPP= df.loc[2]['path']+df.loc[2]['filename']"
   ]
  },
  {
   "cell_type": "code",
   "execution_count": 14,
   "metadata": {},
   "outputs": [
    {
     "data": {
      "text/html": [
       "<div>\n",
       "<style scoped>\n",
       "    .dataframe tbody tr th:only-of-type {\n",
       "        vertical-align: middle;\n",
       "    }\n",
       "\n",
       "    .dataframe tbody tr th {\n",
       "        vertical-align: top;\n",
       "    }\n",
       "\n",
       "    .dataframe thead th {\n",
       "        text-align: right;\n",
       "    }\n",
       "</style>\n",
       "<table border=\"1\" class=\"dataframe\">\n",
       "  <thead>\n",
       "    <tr style=\"text-align: right;\">\n",
       "      <th></th>\n",
       "      <th>0</th>\n",
       "    </tr>\n",
       "  </thead>\n",
       "  <tbody>\n",
       "    <tr>\n",
       "      <td>0</td>\n",
       "      <td>Excel.Application.Workbooks</td>\n",
       "    </tr>\n",
       "    <tr>\n",
       "      <td>1</td>\n",
       "      <td>[]</td>\n",
       "    </tr>\n",
       "  </tbody>\n",
       "</table>\n",
       "</div>"
      ],
      "text/plain": [
       "                             0\n",
       "0  Excel.Application.Workbooks\n",
       "1                           []"
      ]
     },
     "execution_count": 14,
     "metadata": {},
     "output_type": "execute_result"
    }
   ],
   "source": [
    "pd.DataFrame(a)"
   ]
  },
  {
   "cell_type": "code",
   "execution_count": 75,
   "metadata": {},
   "outputs": [],
   "source": [
    "# 1 - creo un df con la query 'select * from planeamiento..ctrl_excel where end_processing_date is null'\n",
    "# 2 - recorro el df leyendo cada excel en cada vuelta del loop llama a una función que devuelve todos los parametros (cadena de conexion,query, nombre de la query, parametros etc.)\n",
    "# 3 - cada lista que devuelve la función la inserto en la base de datos. ( llamada a procedures)\n",
    "\n",
    "# Estos son lo procedures:\n",
    "#     planeamiento..ctrl_excel_InsertFileConnection (Devuelve un excel_connection_id para insertar en la proxima tabla)\n",
    "#     planeamiento..ctrl_excel_InsertFileConnectionLocation (Devuelve un excel_connection_location_id para insertar en la prox tabla)\n",
    "#     planeamiento..ctrl_excel_InsertFileConnectionParameter (Devuelve excel_connection_location_parameter_id)\n",
    "    \n",
    "    \n"
   ]
  },
  {
   "cell_type": "code",
   "execution_count": null,
   "metadata": {},
   "outputs": [],
   "source": []
  },
  {
   "cell_type": "code",
   "execution_count": null,
   "metadata": {},
   "outputs": [],
   "source": []
  },
  {
   "cell_type": "code",
   "execution_count": null,
   "metadata": {},
   "outputs": [],
   "source": []
  },
  {
   "cell_type": "code",
   "execution_count": null,
   "metadata": {},
   "outputs": [],
   "source": []
  },
  {
   "cell_type": "code",
   "execution_count": 53,
   "metadata": {},
   "outputs": [
    {
     "data": {
      "text/plain": [
       "[['C:\\\\Users\\\\jhernandez\\\\Desktop\\\\Calidad IMPRESION ROTULOS.xls',\n",
       "  'C:\\\\Users\\\\jhernandez\\\\Desktop\\\\excels\\\\Calidad IMPRESION ROTULOS.xls'],\n",
       " ['C:\\\\Users\\\\jhernandez\\\\Desktop\\\\050220 AC scrapers.xlsx',\n",
       "  'C:\\\\Users\\\\jhernandez\\\\Desktop\\\\archivo de ejemplo.xlsx',\n",
       "  'C:\\\\Users\\\\jhernandez\\\\Desktop\\\\Copia de archivo de ejemplo.xlsx',\n",
       "  'C:\\\\Users\\\\jhernandez\\\\Desktop\\\\~$archivo de ejemplo.xlsx',\n",
       "  'C:\\\\Users\\\\jhernandez\\\\Desktop\\\\Carrpeta\\\\conteo.xlsx',\n",
       "  'C:\\\\Users\\\\jhernandez\\\\Desktop\\\\Carrpeta\\\\ejemplo3.xlsx',\n",
       "  'C:\\\\Users\\\\jhernandez\\\\Desktop\\\\Carrpeta\\\\pruebaMod.xlsx',\n",
       "  'C:\\\\Users\\\\jhernandez\\\\Desktop\\\\Carrpeta\\\\Scrapers_testeo.xlsx',\n",
       "  'C:\\\\Users\\\\jhernandez\\\\Desktop\\\\Carrpeta\\\\Scrapers_testeo_modFecha.xlsx',\n",
       "  'C:\\\\Users\\\\jhernandez\\\\Desktop\\\\Carrpeta\\\\carpeta2\\\\Scrapers_testeo - copia.xlsx',\n",
       "  'C:\\\\Users\\\\jhernandez\\\\Desktop\\\\Carrpeta\\\\carpeta2\\\\Scrapers_testeo.xlsx',\n",
       "  'C:\\\\Users\\\\jhernandez\\\\Desktop\\\\Carrpeta\\\\carpeta2\\\\carpeta3\\\\carpetata 4\\\\050220 AC scrapers.xlsx',\n",
       "  'C:\\\\Users\\\\jhernandez\\\\Desktop\\\\excels\\\\130120 LR scrapers.xlsx',\n",
       "  'C:\\\\Users\\\\jhernandez\\\\Desktop\\\\excels\\\\archivo de ejemplo.xlsx',\n",
       "  'C:\\\\Users\\\\jhernandez\\\\Desktop\\\\excels\\\\MultiplicationTable.xlsx',\n",
       "  'C:\\\\Users\\\\jhernandez\\\\Desktop\\\\excels\\\\Scrapers.xlsx'],\n",
       " ['C:\\\\Users\\\\jhernandez\\\\Desktop\\\\Canjes electros.xlsm',\n",
       "  'C:\\\\Users\\\\jhernandez\\\\Desktop\\\\excels\\\\macro 2.xlsm']]"
      ]
     },
     "execution_count": 53,
     "metadata": {},
     "output_type": "execute_result"
    }
   ],
   "source": [
    "import os\n",
    "from glob import glob\n",
    "archivos = []\n",
    "PATH = \"C:\\\\Users\\\\jhernandez\\\\Desktop\"\n",
    "EXT = [\"*.xls\",\"*.xlsx\",\"*.xlsm\"]\n",
    "files = []\n",
    "for x in EXT:\n",
    "    a = [file\n",
    "                     for path, subdir, files in os.walk(PATH)\n",
    "                     for file in glob(os.path.join(path, x))]\n",
    "    files.append(a)\n",
    "\n",
    "files"
   ]
  },
  {
   "cell_type": "code",
   "execution_count": 46,
   "metadata": {},
   "outputs": [
    {
     "data": {
      "text/plain": [
       "['C:\\\\Users\\\\jhernandez\\\\Desktop\\\\Canjes electros.xlsm',\n",
       " 'C:\\\\Users\\\\jhernandez\\\\Desktop\\\\excels\\\\macro 2.xlsm',\n",
       " 'C:\\\\Users\\\\jhernandez\\\\Desktop\\\\050220 AC scrapers.xlsx',\n",
       " 'C:\\\\Users\\\\jhernandez\\\\Desktop\\\\archivo de ejemplo.xlsx',\n",
       " 'C:\\\\Users\\\\jhernandez\\\\Desktop\\\\Copia de archivo de ejemplo.xlsx',\n",
       " 'C:\\\\Users\\\\jhernandez\\\\Desktop\\\\~$archivo de ejemplo.xlsx',\n",
       " 'C:\\\\Users\\\\jhernandez\\\\Desktop\\\\Carrpeta\\\\conteo.xlsx',\n",
       " 'C:\\\\Users\\\\jhernandez\\\\Desktop\\\\Carrpeta\\\\ejemplo3.xlsx',\n",
       " 'C:\\\\Users\\\\jhernandez\\\\Desktop\\\\Carrpeta\\\\pruebaMod.xlsx',\n",
       " 'C:\\\\Users\\\\jhernandez\\\\Desktop\\\\Carrpeta\\\\Scrapers_testeo.xlsx',\n",
       " 'C:\\\\Users\\\\jhernandez\\\\Desktop\\\\Carrpeta\\\\Scrapers_testeo_modFecha.xlsx',\n",
       " 'C:\\\\Users\\\\jhernandez\\\\Desktop\\\\Carrpeta\\\\carpeta2\\\\Scrapers_testeo - copia.xlsx',\n",
       " 'C:\\\\Users\\\\jhernandez\\\\Desktop\\\\Carrpeta\\\\carpeta2\\\\Scrapers_testeo.xlsx',\n",
       " 'C:\\\\Users\\\\jhernandez\\\\Desktop\\\\Carrpeta\\\\carpeta2\\\\carpeta3\\\\carpetata 4\\\\050220 AC scrapers.xlsx',\n",
       " 'C:\\\\Users\\\\jhernandez\\\\Desktop\\\\excels\\\\130120 LR scrapers.xlsx',\n",
       " 'C:\\\\Users\\\\jhernandez\\\\Desktop\\\\excels\\\\archivo de ejemplo.xlsx',\n",
       " 'C:\\\\Users\\\\jhernandez\\\\Desktop\\\\excels\\\\MultiplicationTable.xlsx',\n",
       " 'C:\\\\Users\\\\jhernandez\\\\Desktop\\\\excels\\\\Scrapers.xlsx',\n",
       " 'C:\\\\Users\\\\jhernandez\\\\Desktop\\\\Canjes electros.xlsm',\n",
       " 'C:\\\\Users\\\\jhernandez\\\\Desktop\\\\excels\\\\macro 2.xlsm']"
      ]
     },
     "execution_count": 46,
     "metadata": {},
     "output_type": "execute_result"
    }
   ],
   "source": [
    "archivos"
   ]
  },
  {
   "cell_type": "code",
   "execution_count": 47,
   "metadata": {},
   "outputs": [],
   "source": [
    "import os\n",
    "from glob import glob\n",
    "archivos = []\n",
    "PATH = \"C:\\\\Users\\\\jhernandez\\\\Desktop\"\n",
    "EXT = \"*.xls\"\n",
    "\n",
    "xls = [file\n",
    "                 for path, subdir, files in os.walk(PATH)\n",
    "                 for file in glob(os.path.join(path, EXT))]\n",
    "EXT = \"*.xlsx\"\n",
    "xlsx = [file\n",
    "                 for path, subdir, files in os.walk(PATH)\n",
    "                 for file in glob(os.path.join(path, EXT))]\n",
    "\n",
    "EXT = \"*.xlsm\"\n",
    "xlsm = [file\n",
    "                 for path, subdir, files in os.walk(PATH)\n",
    "                 for file in glob(os.path.join(path, EXT))]\n",
    "\n",
    "archivos = xls + xlsx +xlsm"
   ]
  },
  {
   "cell_type": "code",
   "execution_count": 48,
   "metadata": {},
   "outputs": [
    {
     "data": {
      "text/plain": [
       "['C:\\\\Users\\\\jhernandez\\\\Desktop\\\\Calidad IMPRESION ROTULOS.xls',\n",
       " 'C:\\\\Users\\\\jhernandez\\\\Desktop\\\\excels\\\\Calidad IMPRESION ROTULOS.xls',\n",
       " 'C:\\\\Users\\\\jhernandez\\\\Desktop\\\\050220 AC scrapers.xlsx',\n",
       " 'C:\\\\Users\\\\jhernandez\\\\Desktop\\\\archivo de ejemplo.xlsx',\n",
       " 'C:\\\\Users\\\\jhernandez\\\\Desktop\\\\Copia de archivo de ejemplo.xlsx',\n",
       " 'C:\\\\Users\\\\jhernandez\\\\Desktop\\\\~$archivo de ejemplo.xlsx',\n",
       " 'C:\\\\Users\\\\jhernandez\\\\Desktop\\\\Carrpeta\\\\conteo.xlsx',\n",
       " 'C:\\\\Users\\\\jhernandez\\\\Desktop\\\\Carrpeta\\\\ejemplo3.xlsx',\n",
       " 'C:\\\\Users\\\\jhernandez\\\\Desktop\\\\Carrpeta\\\\pruebaMod.xlsx',\n",
       " 'C:\\\\Users\\\\jhernandez\\\\Desktop\\\\Carrpeta\\\\Scrapers_testeo.xlsx',\n",
       " 'C:\\\\Users\\\\jhernandez\\\\Desktop\\\\Carrpeta\\\\Scrapers_testeo_modFecha.xlsx',\n",
       " 'C:\\\\Users\\\\jhernandez\\\\Desktop\\\\Carrpeta\\\\carpeta2\\\\Scrapers_testeo - copia.xlsx',\n",
       " 'C:\\\\Users\\\\jhernandez\\\\Desktop\\\\Carrpeta\\\\carpeta2\\\\Scrapers_testeo.xlsx',\n",
       " 'C:\\\\Users\\\\jhernandez\\\\Desktop\\\\Carrpeta\\\\carpeta2\\\\carpeta3\\\\carpetata 4\\\\050220 AC scrapers.xlsx',\n",
       " 'C:\\\\Users\\\\jhernandez\\\\Desktop\\\\excels\\\\130120 LR scrapers.xlsx',\n",
       " 'C:\\\\Users\\\\jhernandez\\\\Desktop\\\\excels\\\\archivo de ejemplo.xlsx',\n",
       " 'C:\\\\Users\\\\jhernandez\\\\Desktop\\\\excels\\\\MultiplicationTable.xlsx',\n",
       " 'C:\\\\Users\\\\jhernandez\\\\Desktop\\\\excels\\\\Scrapers.xlsx',\n",
       " 'C:\\\\Users\\\\jhernandez\\\\Desktop\\\\Canjes electros.xlsm',\n",
       " 'C:\\\\Users\\\\jhernandez\\\\Desktop\\\\excels\\\\macro 2.xlsm']"
      ]
     },
     "execution_count": 48,
     "metadata": {},
     "output_type": "execute_result"
    }
   ],
   "source": [
    "list(archivos)"
   ]
  },
  {
   "cell_type": "code",
   "execution_count": null,
   "metadata": {},
   "outputs": [],
   "source": [
    "for x in archivos:\n",
    "    cont = 0\n",
    "    #iteracion por cada x con check_excel\n",
    "    # if check_excel(x)[\"parametros\"] != null:\n",
    "        #hacer un insert en: select * from planeamiento..ctrl_excel_connection_parameter \n",
    "            #ELSE: cont +1\n",
    "    # if check_excel(x)[\"string_connection\"]!= null:\n",
    "        #hacer un insert en:select * from planeamiento..ctrl_excel_connection \n",
    "            #ELSE: cont +1\n",
    "    #if check_excel(x)[\"text_command\"]!= null:\n",
    "        #hacer un insert en:select * from planeamiento..ctrl_excel_connection_location \n",
    "            #ELSE: cont +1\n",
    "    #if cont > 0:\n",
    "    #  insertar ese excel en una nueva tabla(excels candidatos a borrar) y describir que parametros le falta F:\n",
    "    print(x)"
   ]
  },
  {
   "cell_type": "code",
   "execution_count": 7,
   "metadata": {},
   "outputs": [],
   "source": [
    "import datetime\n",
    "#datetime.datetime.today()"
   ]
  },
  {
   "cell_type": "code",
   "execution_count": 10,
   "metadata": {},
   "outputs": [
    {
     "ename": "IndexError",
     "evalue": "list index out of range",
     "output_type": "error",
     "traceback": [
      "\u001b[1;31m---------------------------------------------------------------------------\u001b[0m",
      "\u001b[1;31mIndexError\u001b[0m                                Traceback (most recent call last)",
      "\u001b[1;32m<ipython-input-10-8467d5fcbae6>\u001b[0m in \u001b[0;36m<module>\u001b[1;34m\u001b[0m\n\u001b[0;32m      5\u001b[0m \u001b[1;33m\u001b[0m\u001b[0m\n\u001b[0;32m      6\u001b[0m     \u001b[0marchivo\u001b[0m \u001b[1;33m=\u001b[0m \u001b[0mrow\u001b[0m\u001b[1;33m[\u001b[0m\u001b[1;34m'path'\u001b[0m\u001b[1;33m]\u001b[0m\u001b[1;33m+\u001b[0m\u001b[0mrow\u001b[0m\u001b[1;33m[\u001b[0m\u001b[1;34m'filename'\u001b[0m\u001b[1;33m]\u001b[0m\u001b[1;33m\u001b[0m\u001b[1;33m\u001b[0m\u001b[0m\n\u001b[1;32m----> 7\u001b[1;33m     \u001b[0mresult\u001b[0m \u001b[1;33m=\u001b[0m \u001b[0mcheck_excel\u001b[0m\u001b[1;33m(\u001b[0m\u001b[0marchivo\u001b[0m\u001b[1;33m)\u001b[0m\u001b[1;33m\u001b[0m\u001b[1;33m\u001b[0m\u001b[0m\n\u001b[0m\u001b[0;32m      8\u001b[0m     \u001b[1;32mif\u001b[0m \u001b[0mresult\u001b[0m\u001b[1;33m[\u001b[0m\u001b[1;36m0\u001b[0m\u001b[1;33m]\u001b[0m \u001b[1;33m!=\u001b[0m \u001b[1;36m0\u001b[0m\u001b[1;33m:\u001b[0m\u001b[1;33m\u001b[0m\u001b[1;33m\u001b[0m\u001b[0m\n\u001b[0;32m      9\u001b[0m \u001b[1;33m\u001b[0m\u001b[0m\n",
      "\u001b[1;32m<ipython-input-9-e7cf9a724122>\u001b[0m in \u001b[0;36mcheck_excel\u001b[1;34m(file)\u001b[0m\n\u001b[0;32m     62\u001b[0m     \u001b[1;31m#df = df.applymap(str)\u001b[0m\u001b[1;33m\u001b[0m\u001b[1;33m\u001b[0m\u001b[1;33m\u001b[0m\u001b[0m\n\u001b[0;32m     63\u001b[0m     \u001b[1;31m#datos = map(str,datos)\u001b[0m\u001b[1;33m\u001b[0m\u001b[1;33m\u001b[0m\u001b[1;33m\u001b[0m\u001b[0m\n\u001b[1;32m---> 64\u001b[1;33m     \u001b[1;32mif\u001b[0m \u001b[0mtype\u001b[0m\u001b[1;33m(\u001b[0m\u001b[0mdatos\u001b[0m\u001b[1;33m[\u001b[0m\u001b[1;36m0\u001b[0m\u001b[1;33m]\u001b[0m\u001b[1;33m)\u001b[0m \u001b[1;33m==\u001b[0m \u001b[0mlist\u001b[0m\u001b[1;33m:\u001b[0m\u001b[1;33m\u001b[0m\u001b[1;33m\u001b[0m\u001b[0m\n\u001b[0m\u001b[0;32m     65\u001b[0m         \u001b[0mdatos\u001b[0m \u001b[1;33m=\u001b[0m \u001b[1;33m[\u001b[0m\u001b[0mlist\u001b[0m\u001b[1;33m(\u001b[0m\u001b[0mmap\u001b[0m\u001b[1;33m(\u001b[0m\u001b[0mstr\u001b[0m\u001b[1;33m,\u001b[0m\u001b[0mi\u001b[0m\u001b[1;33m)\u001b[0m\u001b[1;33m)\u001b[0m\u001b[1;32mfor\u001b[0m \u001b[0mi\u001b[0m \u001b[1;32min\u001b[0m \u001b[0mdatos\u001b[0m\u001b[1;33m]\u001b[0m\u001b[1;33m\u001b[0m\u001b[1;33m\u001b[0m\u001b[0m\n\u001b[0;32m     66\u001b[0m     \u001b[1;32melse\u001b[0m\u001b[1;33m:\u001b[0m\u001b[1;33m\u001b[0m\u001b[1;33m\u001b[0m\u001b[0m\n",
      "\u001b[1;31mIndexError\u001b[0m: list index out of range"
     ]
    }
   ],
   "source": [
    "datos = []\n",
    "errores = []\n",
    "start = datetime.datetime.today()\n",
    "for index,row in df.iterrows():\n",
    "    \n",
    "    archivo = row['path']+row['filename']\n",
    "    result = check_excel(archivo)\n",
    "    if result[0] != 0:\n",
    "        \n",
    "        errores.append([row['excel_id'],archivo,result[0]])\n",
    "        \n",
    "            \n",
    "    else:\n",
    "        respuesta = result[0]\n",
    "        if result[1] != []:\n",
    "            \n",
    "            if type(result[1]) == list:\n",
    "                for res in result[1]:\n",
    "                    res.append(row['excel_id'])\n",
    "                    res.append(index)\n",
    "                \n",
    "            else:\n",
    "                result[1].append(row['excel_id'])\n",
    "                result[1].append(index)\n",
    "            datos += result[1]\n",
    "            #raise\n",
    "    if index == 100:raise    \n",
    "#     respuesta = result[0]\n",
    "#     result[1]\n",
    "end = datetime.datetime.today()"
   ]
  },
  {
   "cell_type": "code",
   "execution_count": 165,
   "metadata": {},
   "outputs": [
    {
     "name": "stdout",
     "output_type": "stream",
     "text": [
      "0:01:17.455000\n"
     ]
    }
   ],
   "source": [
    "end = datetime.datetime.today()\n",
    "print(end-start)"
   ]
  },
  {
   "cell_type": "code",
   "execution_count": 171,
   "metadata": {},
   "outputs": [],
   "source": [
    "for m in errores:\n",
    "    if m[0] == 60:\n",
    "        print(m)\n",
    "        raise"
   ]
  },
  {
   "cell_type": "code",
   "execution_count": 175,
   "metadata": {},
   "outputs": [
    {
     "name": "stdout",
     "output_type": "stream",
     "text": [
      "['Consulta desde estimaciones3', 'SELECT procesos_calidad.articulo, procesos_calidad.insumo, procesos_calidad.color, procesos_calidad.descrip, procesos_calidad.clasificacion, procesos_calidad.clase\\r\\nFROM ESTIMACIONES.dbo.procesos_calidad procesos_calidad\\r\\nWHERE (procesos_calidad.articulo=?)\\r\\nORDER BY procesos_calidad.insumo, procesos_calidad.color', 'ODBC;DSN=ESTIMACIONES;Description=ESTIMACIONES;UID=estimaciones;PWD=estimaciones;APP=2007 Microsoft Office \\r\\nsystem;WSID=WS245;DATABASE=ESTIMACIONES;LANGUAGE=us_english', 'PROCESOS', '93620102003', '$D$3', 'PROCESOS', '39153736009', 60, 20]\n"
     ]
    },
    {
     "ename": "RuntimeError",
     "evalue": "No active exception to reraise",
     "output_type": "error",
     "traceback": [
      "\u001b[1;31m---------------------------------------------------------------------------\u001b[0m",
      "\u001b[1;31mRuntimeError\u001b[0m                              Traceback (most recent call last)",
      "\u001b[1;32m<ipython-input-175-b959f464353a>\u001b[0m in \u001b[0;36m<module>\u001b[1;34m\u001b[0m\n\u001b[0;32m      2\u001b[0m     \u001b[1;32mif\u001b[0m \u001b[0mm\u001b[0m\u001b[1;33m[\u001b[0m\u001b[1;33m-\u001b[0m\u001b[1;36m2\u001b[0m\u001b[1;33m]\u001b[0m \u001b[1;33m==\u001b[0m \u001b[1;36m60\u001b[0m\u001b[1;33m:\u001b[0m\u001b[1;33m\u001b[0m\u001b[1;33m\u001b[0m\u001b[0m\n\u001b[0;32m      3\u001b[0m         \u001b[0mprint\u001b[0m\u001b[1;33m(\u001b[0m\u001b[0mm\u001b[0m\u001b[1;33m)\u001b[0m\u001b[1;33m\u001b[0m\u001b[1;33m\u001b[0m\u001b[0m\n\u001b[1;32m----> 4\u001b[1;33m         \u001b[1;32mraise\u001b[0m\u001b[1;33m\u001b[0m\u001b[1;33m\u001b[0m\u001b[0m\n\u001b[0m",
      "\u001b[1;31mRuntimeError\u001b[0m: No active exception to reraise"
     ]
    }
   ],
   "source": [
    "for m in datos:\n",
    "    if m[-2] == 60:\n",
    "        print(m)\n",
    "        raise"
   ]
  },
  {
   "cell_type": "code",
   "execution_count": null,
   "metadata": {},
   "outputs": [],
   "source": []
  },
  {
   "cell_type": "code",
   "execution_count": 145,
   "metadata": {},
   "outputs": [
    {
     "data": {
      "text/plain": [
       "'Z:\\\\Consultas\\\\Calendarios\\\\en desuso\\\\Circuitos Zonas.xlsx'"
      ]
     },
     "execution_count": 145,
     "metadata": {},
     "output_type": "execute_result"
    }
   ],
   "source": [
    "row['path']+row['filename']"
   ]
  },
  {
   "cell_type": "code",
   "execution_count": 155,
   "metadata": {},
   "outputs": [],
   "source": [
    "#xl = win32com.client.gencache.EnsureDispatch('Excel.Application')\n",
    "#file = r'C:\\Users\\lrojas\\Desktop\\Copia de archivo de ejemplo.xlsx'\n",
    "#    file = f'r{path}'\n",
    "xl = win32com.client.Dispatch('Excel.Application')\n",
    "file= row['path']+row['filename']\n",
    "try:\n",
    "    wb = xl.Workbooks.Open(file, None,True)\n",
    "except Exception as e:\n",
    "    print(e)\n",
    "    \n",
    "\n",
    "datos = []"
   ]
  },
  {
   "cell_type": "code",
   "execution_count": 148,
   "metadata": {},
   "outputs": [
    {
     "data": {
      "text/plain": [
       "<win32com.gen_py.Microsoft Excel 12.0 Object Library.Connections instance at 0x166810456>"
      ]
     },
     "execution_count": 148,
     "metadata": {},
     "output_type": "execute_result"
    }
   ],
   "source": []
  },
  {
   "cell_type": "code",
   "execution_count": 156,
   "metadata": {},
   "outputs": [
    {
     "name": "stdout",
     "output_type": "stream",
     "text": [
      "Consulta desde ESTIMACIONES SELECT vFechasProcesos2.g, vFechasProcesos2.cp, vFechasProcesos2.zona, vFechasProcesos2.segmento, vFechasProcesos2.categoria, vFechasProcesos2.estadoSIS, vFechasProcesos2.sistemaSIS, vFechasProcesos2.fechaCalendario, vFechasProcesos2.fechaReal, vFechasProcesos2.UnidadesIngresadas, vFechasProcesos2.PedidosIngresados, vFechasProcesos2.fechaLiberada, vFechasProcesos2.fechaRetenida, vFechasProcesos2.fechaDesarme, vFechasProcesos2.estadoActual, vFechasProcesos2.despacho72Hs, vFechasProcesos2.despachadoReal, vFechasProcesos2.Retraso, vFechasProcesos2.tipoEnvio, vFechasProcesos2.fechaProceso, vFechasProcesos2.areaResponsable, vFechasProcesos2.estadoProceso, vFechasProcesos2.fechaUltimoIngreso, vFechasProcesos2.fechaBajada, vFechasProcesos2.UltimaActualizacion, vFechasProcesos2.ubicacion, vFechasProcesos2.prioridadfecha, vFechasProcesos2.prioridadtipo, vFechasProcesos2.ComentarioRegional, vFechasProcesos2.ComentarioJB,vFechasProcesos2.catalogos\r\n",
      "FROM ESTIMACIONES.dbo.vFechasProcesos2 vFechasProcesos2\r\n",
      "WHERE (vFechasProcesos2.cp=?)\r\n",
      "ORDER BY vFechasProcesos2.cp, vFechasProcesos2.zona ODBC;DSN=ESTIMACIONES;Description=ESTIMACIONES;UID=estimaciones;PWD=estimaciones;APP=2007 Microsoft Office  system;WSID=WS245;DATABASE=ESTIMACIONES xCp 1602.0 $H$1 xCp 1602.0\n",
      "Consulta desde ESTIMACIONES1 SELECT vFechasProcesos2.g, vFechasProcesos2.cp, vFechasProcesos2.zona, vFechasProcesos2.segmento, vFechasProcesos2.categoria, vFechasProcesos2.estadoSIS, vFechasProcesos2.sistemaSIS, vFechasProcesos2.fechaCalendario, vFechasProcesos2.fechaReal, vFechasProcesos2.UnidadesIngresadas, vFechasProcesos2.PedidosIngresados, vFechasProcesos2.fechaLiberada, vFechasProcesos2.fechaRetenida, vFechasProcesos2.fechaDesarme, vFechasProcesos2.estadoActual, vFechasProcesos2.despacho72Hs, vFechasProcesos2.despachadoReal, vFechasProcesos2.Retraso, vFechasProcesos2.tipoEnvio, vFechasProcesos2.fechaProceso, vFechasProcesos2.areaResponsable, vFechasProcesos2.estadoProceso, vFechasProcesos2.fechaUltimoIngreso, vFechasProcesos2.fechaBajada, vFechasProcesos2.UltimaActualizacion, vFechasProcesos2.ubicacion, vFechasProcesos2.prioridadfecha, vFechasProcesos2.prioridadtipo, vFechasProcesos2.ComentarioRegional, vFechasProcesos2.ComentarioJB,vFechasProcesos2.catalogos\r\n",
      "FROM ESTIMACIONES.dbo.vFechasProcesos2 vFechasProcesos2\r\n",
      "WHERE (vFechasProcesos2.zona=?)\r\n",
      "ORDER BY vFechasProcesos2.cp, vFechasProcesos2.zona ODBC;DSN=ESTIMACIONES;Description=ESTIMACIONES;UID=estimaciones;PWD=estimaciones;APP=2007 Microsoft Office  system;WSID=WS245;DATABASE=ESTIMACIONES xZona 1701.0 $D$1 xZona 979.0\n"
     ]
    }
   ],
   "source": [
    "for x in wb.Connections:\n",
    "        for i in x.Ranges:\n",
    "            try:\n",
    "                for p in i.ListObject.QueryTable.Parameters:\n",
    "                    print(x,\n",
    "                          x.ODBCConnection.CommandText,\n",
    "                          x.ODBCConnection.Connection,\n",
    "                          i.Parent.Name,\n",
    "                          i.Cells(1,1)[2],\n",
    "                          p.SourceRange.Address,\n",
    "                          p.SourceRange.Parent.Name,\n",
    "                          p.SourceRange.Value)\n",
    "\n",
    "            except Exception as e:\n",
    "                try:\n",
    "                    print(x,\n",
    "                          x.ODBCConnection.CommandText,\n",
    "                          x.ODBCConnection.Connection,\n",
    "                          i.Parent.Name,\n",
    "                          i.Cells(1,1)[2],\n",
    "                          None,\n",
    "                          None,\n",
    "                          None)\n",
    "                except:\n",
    "                    try:\n",
    "                        for p in i.ListObject.QueryTable.Parameters:\n",
    "                            print(x,\n",
    "                                  x.OLEDBConnection.CommandText,\n",
    "                                  x.OLEDBConnection.Connection,\n",
    "                                  i.Parent.Name,\n",
    "                                  i.Cells(1,1)[2],\n",
    "                                  p.SourceRange.Address,\n",
    "                                  p.SourceRange.Parent.Name,\n",
    "                                  p.SourceRange.Value)\n",
    "                    except:\n",
    "                        print(x,\n",
    "                                      x.OLEDBConnection.CommandText,\n",
    "                                      x.OLEDBConnection.Connection,\n",
    "                                      i.Parent.Name,\n",
    "                                      i.Cells(1,1)[2],\n",
    "                                      None,\n",
    "                                      None,\n",
    "                                      None)"
   ]
  },
  {
   "cell_type": "code",
   "execution_count": 151,
   "metadata": {},
   "outputs": [
    {
     "ename": "com_error",
     "evalue": "(-2147352567, 'Ocurrió una excepción.', (0, None, None, None, 0, -2147467263), None)",
     "output_type": "error",
     "traceback": [
      "\u001b[1;31m---------------------------------------------------------------------------\u001b[0m",
      "\u001b[1;31mRuntimeError\u001b[0m                              Traceback (most recent call last)",
      "\u001b[1;32m<ipython-input-151-2f5b22e49ac3>\u001b[0m in \u001b[0;36m<module>\u001b[1;34m\u001b[0m\n\u001b[0;32m      6\u001b[0m             \u001b[1;32mfor\u001b[0m \u001b[0mp\u001b[0m \u001b[1;32min\u001b[0m \u001b[0mi\u001b[0m\u001b[1;33m.\u001b[0m\u001b[0mListObject\u001b[0m\u001b[1;33m.\u001b[0m\u001b[0mQueryTable\u001b[0m\u001b[1;33m.\u001b[0m\u001b[0mParameters\u001b[0m\u001b[1;33m:\u001b[0m\u001b[1;33m\u001b[0m\u001b[1;33m\u001b[0m\u001b[0m\n\u001b[1;32m----> 7\u001b[1;33m                 \u001b[1;32mraise\u001b[0m\u001b[1;33m\u001b[0m\u001b[1;33m\u001b[0m\u001b[0m\n\u001b[0m\u001b[0;32m      8\u001b[0m                 print(x,\n",
      "\u001b[1;31mRuntimeError\u001b[0m: No active exception to reraise",
      "\nDuring handling of the above exception, another exception occurred:\n",
      "\u001b[1;31mcom_error\u001b[0m                                 Traceback (most recent call last)",
      "\u001b[1;32m<ipython-input-151-2f5b22e49ac3>\u001b[0m in \u001b[0;36m<module>\u001b[1;34m\u001b[0m\n\u001b[0;32m     17\u001b[0m         \u001b[1;32mexcept\u001b[0m \u001b[0mException\u001b[0m \u001b[1;32mas\u001b[0m \u001b[0me\u001b[0m\u001b[1;33m:\u001b[0m\u001b[1;33m\u001b[0m\u001b[1;33m\u001b[0m\u001b[0m\n\u001b[0;32m     18\u001b[0m             print(x,\n\u001b[1;32m---> 19\u001b[1;33m                   \u001b[0mx\u001b[0m\u001b[1;33m.\u001b[0m\u001b[0mOLEDBConnection\u001b[0m\u001b[1;33m.\u001b[0m\u001b[0mCommandText\u001b[0m\u001b[1;33m,\u001b[0m\u001b[1;33m\u001b[0m\u001b[1;33m\u001b[0m\u001b[0m\n\u001b[0m\u001b[0;32m     20\u001b[0m                   \u001b[0mx\u001b[0m\u001b[1;33m.\u001b[0m\u001b[0mOLEDBConnection\u001b[0m\u001b[1;33m.\u001b[0m\u001b[0mConnection\u001b[0m\u001b[1;33m,\u001b[0m\u001b[1;33m\u001b[0m\u001b[1;33m\u001b[0m\u001b[0m\n\u001b[0;32m     21\u001b[0m                   \u001b[0mi\u001b[0m\u001b[1;33m.\u001b[0m\u001b[0mParent\u001b[0m\u001b[1;33m.\u001b[0m\u001b[0mName\u001b[0m\u001b[1;33m,\u001b[0m\u001b[1;33m\u001b[0m\u001b[1;33m\u001b[0m\u001b[0m\n",
      "\u001b[1;32mC:\\Users\\lrojas\\AppData\\Local\\Continuum\\anaconda2019\\lib\\site-packages\\win32com\\client\\__init__.py\u001b[0m in \u001b[0;36m__getattr__\u001b[1;34m(self, attr)\u001b[0m\n\u001b[0;32m    472\u001b[0m                 \u001b[1;32mif\u001b[0m \u001b[0margs\u001b[0m \u001b[1;32mis\u001b[0m \u001b[1;32mNone\u001b[0m\u001b[1;33m:\u001b[0m\u001b[1;33m\u001b[0m\u001b[1;33m\u001b[0m\u001b[0m\n\u001b[0;32m    473\u001b[0m                         \u001b[1;32mraise\u001b[0m \u001b[0mAttributeError\u001b[0m\u001b[1;33m(\u001b[0m\u001b[1;34m\"'%s' object has no attribute '%s'\"\u001b[0m \u001b[1;33m%\u001b[0m \u001b[1;33m(\u001b[0m\u001b[0mrepr\u001b[0m\u001b[1;33m(\u001b[0m\u001b[0mself\u001b[0m\u001b[1;33m)\u001b[0m\u001b[1;33m,\u001b[0m \u001b[0mattr\u001b[0m\u001b[1;33m)\u001b[0m\u001b[1;33m)\u001b[0m\u001b[1;33m\u001b[0m\u001b[1;33m\u001b[0m\u001b[0m\n\u001b[1;32m--> 474\u001b[1;33m                 \u001b[1;32mreturn\u001b[0m \u001b[0mself\u001b[0m\u001b[1;33m.\u001b[0m\u001b[0m_ApplyTypes_\u001b[0m\u001b[1;33m(\u001b[0m\u001b[1;33m*\u001b[0m\u001b[0margs\u001b[0m\u001b[1;33m)\u001b[0m\u001b[1;33m\u001b[0m\u001b[1;33m\u001b[0m\u001b[0m\n\u001b[0m\u001b[0;32m    475\u001b[0m \u001b[1;33m\u001b[0m\u001b[0m\n\u001b[0;32m    476\u001b[0m         \u001b[1;32mdef\u001b[0m \u001b[0m__setattr__\u001b[0m\u001b[1;33m(\u001b[0m\u001b[0mself\u001b[0m\u001b[1;33m,\u001b[0m \u001b[0mattr\u001b[0m\u001b[1;33m,\u001b[0m \u001b[0mvalue\u001b[0m\u001b[1;33m)\u001b[0m\u001b[1;33m:\u001b[0m\u001b[1;33m\u001b[0m\u001b[1;33m\u001b[0m\u001b[0m\n",
      "\u001b[1;32mC:\\Users\\lrojas\\AppData\\Local\\Continuum\\anaconda2019\\lib\\site-packages\\win32com\\client\\__init__.py\u001b[0m in \u001b[0;36m_ApplyTypes_\u001b[1;34m(self, dispid, wFlags, retType, argTypes, user, resultCLSID, *args)\u001b[0m\n\u001b[0;32m    465\u001b[0m         \u001b[1;32mdef\u001b[0m \u001b[0m_ApplyTypes_\u001b[0m\u001b[1;33m(\u001b[0m\u001b[0mself\u001b[0m\u001b[1;33m,\u001b[0m \u001b[0mdispid\u001b[0m\u001b[1;33m,\u001b[0m \u001b[0mwFlags\u001b[0m\u001b[1;33m,\u001b[0m \u001b[0mretType\u001b[0m\u001b[1;33m,\u001b[0m \u001b[0margTypes\u001b[0m\u001b[1;33m,\u001b[0m \u001b[0muser\u001b[0m\u001b[1;33m,\u001b[0m \u001b[0mresultCLSID\u001b[0m\u001b[1;33m,\u001b[0m \u001b[1;33m*\u001b[0m\u001b[0margs\u001b[0m\u001b[1;33m)\u001b[0m\u001b[1;33m:\u001b[0m\u001b[1;33m\u001b[0m\u001b[1;33m\u001b[0m\u001b[0m\n\u001b[0;32m    466\u001b[0m \t\treturn self._get_good_object_(\n\u001b[1;32m--> 467\u001b[1;33m                         \u001b[0mself\u001b[0m\u001b[1;33m.\u001b[0m\u001b[0m_oleobj_\u001b[0m\u001b[1;33m.\u001b[0m\u001b[0mInvokeTypes\u001b[0m\u001b[1;33m(\u001b[0m\u001b[0mdispid\u001b[0m\u001b[1;33m,\u001b[0m \u001b[1;36m0\u001b[0m\u001b[1;33m,\u001b[0m \u001b[0mwFlags\u001b[0m\u001b[1;33m,\u001b[0m \u001b[0mretType\u001b[0m\u001b[1;33m,\u001b[0m \u001b[0margTypes\u001b[0m\u001b[1;33m,\u001b[0m \u001b[1;33m*\u001b[0m\u001b[0margs\u001b[0m\u001b[1;33m)\u001b[0m\u001b[1;33m,\u001b[0m\u001b[1;33m\u001b[0m\u001b[1;33m\u001b[0m\u001b[0m\n\u001b[0m\u001b[0;32m    468\u001b[0m \t\t\tuser, resultCLSID)\n\u001b[0;32m    469\u001b[0m \u001b[1;33m\u001b[0m\u001b[0m\n",
      "\u001b[1;31mcom_error\u001b[0m: (-2147352567, 'Ocurrió una excepción.', (0, None, None, None, 0, -2147467263), None)"
     ]
    }
   ],
   "source": [
    "#df = pd.DataFrame(datos)\n",
    "#df = df.applymap(str)\n",
    "#datos = map(str,datos)\n",
    "if type(foo[0]) == list:\n",
    "    datos = [list(map(str,i))for i in foo]\n",
    "else:\n",
    "    datos = list(map(str,foo))\n",
    "\n",
    "wb.Close(0)\n",
    "xl.Application.Quit()\n",
    "\n",
    "#return df\n",
    "return 0, datos"
   ]
  },
  {
   "cell_type": "code",
   "execution_count": 157,
   "metadata": {},
   "outputs": [],
   "source": []
  },
  {
   "cell_type": "code",
   "execution_count": 144,
   "metadata": {},
   "outputs": [
    {
     "data": {
      "text/plain": [
       "66"
      ]
     },
     "execution_count": 144,
     "metadata": {},
     "output_type": "execute_result"
    }
   ],
   "source": [
    "index"
   ]
  },
  {
   "cell_type": "code",
   "execution_count": null,
   "metadata": {},
   "outputs": [],
   "source": []
  }
 ],
 "metadata": {
  "kernelspec": {
   "display_name": "Python 3",
   "language": "python",
   "name": "python3"
  },
  "language_info": {
   "codemirror_mode": {
    "name": "ipython",
    "version": 3
   },
   "file_extension": ".py",
   "mimetype": "text/x-python",
   "name": "python",
   "nbconvert_exporter": "python",
   "pygments_lexer": "ipython3",
   "version": "3.7.4"
  }
 },
 "nbformat": 4,
 "nbformat_minor": 2
}
