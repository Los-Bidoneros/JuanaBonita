{
 "cells": [
  {
   "cell_type": "code",
   "execution_count": null,
   "metadata": {},
   "outputs": [],
   "source": [
    "import subprocess\n",
    "import os\n",
    "\n",
    "\n",
    "\n",
    "lista_proc = [['relevamiento_excel','Relevamiento excel',''],\n",
    "              ['killer','Killer','']\n",
    "             ]\n",
    "\n",
    "import sys\n",
    "\n",
    "\n",
    "\n",
    "!sys.executable hello.py\n",
    "\n",
    "!where python\n",
    "\n",
    "start_ = datetime.datetime.today()\n",
    "\n",
    "procesos = [subprocess.Popen((\"/home/aa/miniconda3/bin/python\", f\"/home/aa/cloudJ/JB/PRD/scrapper/Scripts/Mexico/{proc[0]}.py\")) for proc in lista_proc]\n",
    "\n",
    "\n",
    "\n",
    "for proc, proceso in zip(lista_proc, procesos):\n",
    "    proc[2] = \"OK\" if proceso.wait() == 0 else \"ERROR\"\n",
    "end_time = datetime.datetime.today()\n",
    "FINAL = '{}'.format(end_time - start_)[:-4]\n",
    "\n",
    "hora ='  {}'.format(datetime.datetime.now())[13:-7]\n",
    "file = open(f\"/home/aa/cloudJ/JB/PRD/scrapper/Scripts/Mexico/resumen_{fecha}.txt\", \"w\")\n",
    "\n",
    "file.write(\"----------------------------\"+ os.linesep)\n",
    "for item in lista_proc:\n",
    "    file.write(str(item[1])+\"....\"+str(item[2]) + os.linesep)\n",
    "file.write(f'Tiempo: {FINAL} '+ os.linesep)\n",
    "file.close()\n",
    "\n",
    "!sudo jupyter nbconvert --to script fork_excels.ipynb\n",
    "\n",
    "import os \n",
    "os.getcwd()"
   ]
  },
  {
   "cell_type": "code",
   "execution_count": 4,
   "metadata": {},
   "outputs": [
    {
     "data": {
      "text/plain": [
       "'C:\\\\ProgramData\\\\Anaconda3\\\\python.exe'"
      ]
     },
     "execution_count": 4,
     "metadata": {},
     "output_type": "execute_result"
    }
   ],
   "source": [
    "import sys\n",
    "sys.executable"
   ]
  },
  {
   "cell_type": "code",
   "execution_count": 5,
   "metadata": {},
   "outputs": [
    {
     "data": {
      "text/plain": [
       "'C:\\\\Users\\\\jhernandez\\\\Practica_python\\\\scriptRelevamiento'"
      ]
     },
     "execution_count": 5,
     "metadata": {},
     "output_type": "execute_result"
    }
   ],
   "source": [
    "import os\n",
    "os.getcwd()"
   ]
  },
  {
   "cell_type": "code",
   "execution_count": 11,
   "metadata": {},
   "outputs": [
    {
     "data": {
      "text/plain": [
       "<subprocess.Popen at 0x1211d4d0608>"
      ]
     },
     "execution_count": 11,
     "metadata": {},
     "output_type": "execute_result"
    }
   ],
   "source": [
    "import subprocess\n",
    "subprocess.Popen((\"C:\\Program Files (x86)\\Google\\Chrome\\Application\\chrome.exe\", \"http://www.juanabonita.com/\"))"
   ]
  },
  {
   "cell_type": "code",
   "execution_count": 17,
   "metadata": {},
   "outputs": [
    {
     "data": {
      "text/plain": [
       "'----------------------------\\n\\nRelevamiento excel....OK\\n\\nKiller....OK\\n\\nTiempo: 0:00:00.14 \\n\\n'"
      ]
     },
     "execution_count": 17,
     "metadata": {},
     "output_type": "execute_result"
    }
   ],
   "source": [
    "f = open('resumen_2020-03-04.txt','r')\n",
    "f.read()"
   ]
  },
  {
   "cell_type": "code",
   "execution_count": null,
   "metadata": {},
   "outputs": [],
   "source": []
  }
 ],
 "metadata": {
  "kernelspec": {
   "display_name": "Python 3",
   "language": "python",
   "name": "python3"
  },
  "language_info": {
   "codemirror_mode": {
    "name": "ipython",
    "version": 3
   },
   "file_extension": ".py",
   "mimetype": "text/x-python",
   "name": "python",
   "nbconvert_exporter": "python",
   "pygments_lexer": "ipython3",
   "version": "3.7.4"
  }
 },
 "nbformat": 4,
 "nbformat_minor": 2
}
