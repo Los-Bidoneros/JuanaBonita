{
 "cells": [
  {
   "cell_type": "code",
   "execution_count": 7,
   "metadata": {},
   "outputs": [
    {
     "name": "stdout",
     "output_type": "stream",
     "text": [
      "System Idle Process  :::  0\n",
      "System  :::  4\n",
      "Registry  :::  84\n",
      "smss.exe  :::  320\n",
      "dwm.exe  :::  364\n",
      "svchost.exe  :::  424\n",
      "csrss.exe  :::  432\n",
      "wininit.exe  :::  540\n",
      "csrss.exe  :::  548\n",
      "services.exe  :::  608\n",
      "lsass.exe  :::  616\n",
      "svchost.exe  :::  716\n",
      "svchost.exe  :::  732\n",
      "svchost.exe  :::  748\n",
      "fontdrvhost.exe  :::  756\n",
      "SearchFilterHost.exe  :::  776\n",
      "svchost.exe  :::  828\n",
      "svchost.exe  :::  884\n",
      "winlogon.exe  :::  936\n",
      "fontdrvhost.exe  :::  1004\n",
      "svchost.exe  :::  1036\n",
      "chrome.exe  :::  1060\n",
      "svchost.exe  :::  1072\n",
      "svchost.exe  :::  1080\n",
      "svchost.exe  :::  1120\n",
      "svchost.exe  :::  1128\n",
      "svchost.exe  :::  1192\n",
      "svchost.exe  :::  1212\n",
      "svchost.exe  :::  1304\n",
      "svchost.exe  :::  1364\n",
      "svchost.exe  :::  1416\n",
      "svchost.exe  :::  1448\n",
      "svchost.exe  :::  1456\n",
      "svchost.exe  :::  1484\n",
      "WmiPrvSE.exe  :::  1520\n",
      "WinStore.App.exe  :::  1548\n",
      "chrome.exe  :::  1576\n",
      "svchost.exe  :::  1592\n",
      "svchost.exe  :::  1624\n",
      "svchost.exe  :::  1688\n",
      "svchost.exe  :::  1708\n",
      "browser_broker.exe  :::  1768\n",
      "svchost.exe  :::  1776\n",
      "conhost.exe  :::  1832\n",
      "chrome.exe  :::  1856\n",
      "svchost.exe  :::  1876\n",
      "atiesrxx.exe  :::  1924\n",
      "svchost.exe  :::  1976\n",
      "winpty-agent.exe  :::  2020\n",
      "svchost.exe  :::  2024\n",
      "svchost.exe  :::  2104\n",
      "svchost.exe  :::  2220\n",
      "svchost.exe  :::  2320\n",
      "atieclxx.exe  :::  2328\n",
      "wsc_proxy.exe  :::  2344\n",
      "svchost.exe  :::  2364\n",
      "svchost.exe  :::  2404\n",
      "svchost.exe  :::  2428\n",
      "Calculator.exe  :::  2460\n",
      "Memory Compression  :::  2520\n",
      "svchost.exe  :::  2544\n",
      "powershell.exe  :::  2552\n",
      "svchost.exe  :::  2572\n",
      "AvastSvc.exe  :::  2580\n",
      "chrome.exe  :::  2604\n",
      "svchost.exe  :::  2616\n",
      "svchost.exe  :::  2628\n",
      "svchost.exe  :::  2636\n",
      "svchost.exe  :::  2908\n",
      "svchost.exe  :::  2992\n",
      "svchost.exe  :::  2996\n",
      "svchost.exe  :::  3004\n",
      "WindowsInternal.ComposableShell.Experiences.TextInput.InputApp.exe  :::  3128\n",
      "spoolsv.exe  :::  3164\n",
      "armsvc.exe  :::  3232\n",
      "svchost.exe  :::  3240\n",
      "svchost.exe  :::  3252\n",
      "svchost.exe  :::  3264\n",
      "mdm.exe  :::  3304\n",
      "svchost.exe  :::  3328\n",
      "svchost.exe  :::  3388\n",
      "svchost.exe  :::  3400\n",
      "svchost.exe  :::  3408\n",
      "svchost.exe  :::  3500\n",
      "svchost.exe  :::  3680\n",
      "svchost.exe  :::  3804\n",
      "svchost.exe  :::  4104\n",
      "RuntimeBroker.exe  :::  4176\n",
      "ApplicationFrameHost.exe  :::  4424\n",
      "svchost.exe  :::  4496\n",
      "svchost.exe  :::  4512\n",
      "SkypeBackgroundHost.exe  :::  4560\n",
      "chrome.exe  :::  4588\n",
      "chrome.exe  :::  4612\n",
      "MicrosoftEdgeCP.exe  :::  4640\n",
      "SearchIndexer.exe  :::  4744\n",
      "sihost.exe  :::  4888\n",
      "svchost.exe  :::  4900\n",
      "svchost.exe  :::  4904\n",
      "svchost.exe  :::  4936\n",
      "taskhostw.exe  :::  5016\n",
      "svchost.exe  :::  5096\n",
      "ctfmon.exe  :::  5176\n",
      "python.exe  :::  5276\n",
      "svchost.exe  :::  5336\n",
      "explorer.exe  :::  5472\n",
      "svchost.exe  :::  5604\n",
      "RuntimeBroker.exe  :::  5648\n",
      "pythonw.exe  :::  5860\n",
      "pythonw.exe  :::  5876\n",
      "StartMenuExperienceHost.exe  :::  5908\n",
      "svchost.exe  :::  5996\n",
      "RuntimeBroker.exe  :::  6048\n",
      "chrome.exe  :::  6068\n",
      "SkypeApp.exe  :::  6220\n",
      "YourPhone.exe  :::  6244\n",
      "chrome.exe  :::  6392\n",
      "aswEngSrv.exe  :::  6496\n",
      "python.exe  :::  6800\n",
      "svchost.exe  :::  6928\n",
      "SearchUI.exe  :::  6976\n",
      "svchost.exe  :::  7060\n",
      "MicrosoftEdgeSH.exe  :::  7064\n",
      "aswidsagent.exe  :::  7084\n",
      "RuntimeBroker.exe  :::  7128\n",
      "unsecapp.exe  :::  7288\n",
      "SecurityHealthSystray.exe  :::  7464\n",
      "RuntimeBroker.exe  :::  7472\n",
      "RuntimeBroker.exe  :::  7544\n",
      "SecurityHealthService.exe  :::  7560\n",
      "AvastUI.exe  :::  7612\n",
      "conhost.exe  :::  7716\n",
      "jupyter-notebook.exe  :::  7788\n",
      "RadeonSettings.exe  :::  7852\n",
      "amdow.exe  :::  7944\n",
      "SgrmBroker.exe  :::  7952\n",
      "chrome.exe  :::  7960\n",
      "svchost.exe  :::  8064\n",
      "AMDRSServ.exe  :::  8104\n",
      "chrome.exe  :::  8248\n",
      "svchost.exe  :::  8296\n",
      "MicrosoftEdge.exe  :::  8340\n",
      "SearchProtocolHost.exe  :::  8848\n",
      "chrome.exe  :::  8876\n",
      "chrome.exe  :::  8880\n",
      "svchost.exe  :::  8908\n",
      "chrome.exe  :::  9388\n",
      "chrome.exe  :::  9684\n",
      "SystemSettings.exe  :::  9744\n",
      "chrome.exe  :::  9920\n",
      "svchost.exe  :::  9940\n",
      "cmd.exe  :::  10032\n"
     ]
    }
   ],
   "source": [
    "import psutil\n",
    "psutil.process_iter(attrs=None, ad_value=None)\n",
    "for proc in psutil.process_iter():\n",
    "    try:\n",
    "        # Get process name & pid from process object.\n",
    "        processName = proc.name()\n",
    "        processID = proc.pid\n",
    "        print(processName , ' ::: ', processID)\n",
    "    except (psutil.NoSuchProcess, psutil.AccessDenied, psutil.ZombieProcess):\n",
    "        pass"
   ]
  },
  {
   "cell_type": "code",
   "execution_count": 8,
   "metadata": {},
   "outputs": [
    {
     "name": "stdout",
     "output_type": "stream",
     "text": [
      "*** Iterate over all running process and print process ID & Name ***\n",
      "System Idle Process  :::  0\n",
      "System  :::  4\n",
      "Registry  :::  84\n",
      "chrome.exe  :::  304\n",
      "smss.exe  :::  320\n",
      "dwm.exe  :::  396\n",
      "csrss.exe  :::  436\n",
      "wininit.exe  :::  544\n",
      "csrss.exe  :::  552\n",
      "svchost.exe  :::  556\n",
      "services.exe  :::  612\n",
      "lsass.exe  :::  620\n",
      "svchost.exe  :::  724\n",
      "ctfmon.exe  :::  748\n",
      "svchost.exe  :::  756\n",
      "fontdrvhost.exe  :::  764\n",
      "svchost.exe  :::  832\n",
      "svchost.exe  :::  884\n",
      "taskhostw.exe  :::  896\n",
      "chrome.exe  :::  900\n",
      "winlogon.exe  :::  932\n",
      "fontdrvhost.exe  :::  988\n",
      "svchost.exe  :::  1000\n",
      "chrome.exe  :::  1004\n",
      "YourPhone.exe  :::  1044\n",
      "svchost.exe  :::  1056\n",
      "svchost.exe  :::  1096\n",
      "svchost.exe  :::  1124\n",
      "svchost.exe  :::  1132\n",
      "svchost.exe  :::  1140\n",
      "svchost.exe  :::  1148\n",
      "svchost.exe  :::  1156\n",
      "svchost.exe  :::  1284\n",
      "svchost.exe  :::  1300\n",
      "svchost.exe  :::  1328\n",
      "chrome.exe  :::  1356\n",
      "svchost.exe  :::  1360\n",
      "svchost.exe  :::  1376\n",
      "svchost.exe  :::  1388\n",
      "svchost.exe  :::  1420\n",
      "svchost.exe  :::  1464\n",
      "svchost.exe  :::  1472\n",
      "chrome.exe  :::  1524\n",
      "svchost.exe  :::  1600\n",
      "svchost.exe  :::  1628\n",
      "svchost.exe  :::  1632\n",
      "svchost.exe  :::  1684\n",
      "chromedriver.exe  :::  1720\n",
      "Calculator.exe  :::  1760\n",
      "svchost.exe  :::  1788\n",
      "SkypeApp.exe  :::  1864\n",
      "svchost.exe  :::  1916\n",
      "SkypeBackgroundHost.exe  :::  1928\n",
      "atiesrxx.exe  :::  2024\n",
      "svchost.exe  :::  2032\n",
      "svchost.exe  :::  2108\n",
      "svchost.exe  :::  2260\n",
      "wsc_proxy.exe  :::  2268\n",
      "svchost.exe  :::  2280\n",
      "svchost.exe  :::  2292\n",
      "svchost.exe  :::  2300\n",
      "atieclxx.exe  :::  2324\n",
      "svchost.exe  :::  2336\n",
      "svchost.exe  :::  2340\n",
      "Memory Compression  :::  2468\n",
      "svchost.exe  :::  2496\n",
      "svchost.exe  :::  2524\n",
      "svchost.exe  :::  2564\n",
      "chrome.exe  :::  2576\n",
      "svchost.exe  :::  2584\n",
      "svchost.exe  :::  2632\n",
      "svchost.exe  :::  2660\n",
      "cmd.exe  :::  2728\n",
      "chrome.exe  :::  2808\n",
      "chrome.exe  :::  2824\n",
      "python.exe  :::  2856\n",
      "svchost.exe  :::  2880\n",
      "svchost.exe  :::  2932\n",
      "svchost.exe  :::  2940\n",
      "svchost.exe  :::  2992\n",
      "AvastSvc.exe  :::  2996\n",
      "svchost.exe  :::  3008\n",
      "svchost.exe  :::  3064\n",
      "spoolsv.exe  :::  3088\n",
      "armsvc.exe  :::  3132\n",
      "svchost.exe  :::  3140\n",
      "svchost.exe  :::  3152\n",
      "svchost.exe  :::  3192\n",
      "chrome.exe  :::  3216\n",
      "svchost.exe  :::  3220\n",
      "mdm.exe  :::  3232\n",
      "chrome.exe  :::  3300\n",
      "svchost.exe  :::  3308\n",
      "svchost.exe  :::  3328\n",
      "svchost.exe  :::  3364\n",
      "svchost.exe  :::  3372\n",
      "svchost.exe  :::  3556\n",
      "conhost.exe  :::  3616\n",
      "svchost.exe  :::  3632\n",
      "svchost.exe  :::  3848\n",
      "chrome.exe  :::  3948\n",
      "svchost.exe  :::  4008\n",
      "RuntimeBroker.exe  :::  4040\n",
      "svchost.exe  :::  4100\n",
      "RuntimeBroker.exe  :::  4104\n",
      "explorer.exe  :::  4200\n",
      "chrome.exe  :::  4296\n",
      "svchost.exe  :::  4400\n",
      "svchost.exe  :::  4492\n",
      "svchost.exe  :::  4520\n",
      "svchost.exe  :::  4572\n",
      "dllhost.exe  :::  4604\n",
      "SearchIndexer.exe  :::  4840\n",
      "browser_broker.exe  :::  4944\n",
      "svchost.exe  :::  5036\n",
      "chrome.exe  :::  5068\n",
      "aswidsagent.exe  :::  5140\n",
      "svchost.exe  :::  5384\n",
      "WinStore.App.exe  :::  5464\n",
      "unsecapp.exe  :::  5484\n",
      "svchost.exe  :::  5600\n",
      "chrome.exe  :::  5652\n",
      "smartscreen.exe  :::  5708\n",
      "EXCEL.EXE  :::  5764\n",
      "chrome.exe  :::  5816\n",
      "chrome.exe  :::  5932\n",
      "sihost.exe  :::  5940\n",
      "svchost.exe  :::  5952\n",
      "svchost.exe  :::  5968\n",
      "jupyter-notebook.exe  :::  6020\n",
      "svchost.exe  :::  6068\n",
      "chrome.exe  :::  6080\n",
      "RuntimeBroker.exe  :::  6128\n",
      "taskhostw.exe  :::  6136\n",
      "ApplicationFrameHost.exe  :::  6352\n",
      "SystemSettingsBroker.exe  :::  6556\n",
      "StartMenuExperienceHost.exe  :::  6604\n",
      "chrome.exe  :::  6648\n",
      "chrome.exe  :::  6656\n",
      "RuntimeBroker.exe  :::  6764\n",
      "WindowsInternal.ComposableShell.Experiences.TextInput.InputApp.exe  :::  6812\n",
      "SearchUI.exe  :::  6880\n",
      "SgrmBroker.exe  :::  6948\n",
      "RuntimeBroker.exe  :::  6956\n",
      "RuntimeBroker.exe  :::  7080\n",
      "YourPhoneServer.exe  :::  7212\n",
      "chrome.exe  :::  7224\n",
      "SearchProtocolHost.exe  :::  7296\n",
      "amdow.exe  :::  7300\n",
      "RadeonSettings.exe  :::  7304\n",
      "RuntimeBroker.exe  :::  7364\n",
      "AvastUI.exe  :::  7476\n",
      "SecurityHealthSystray.exe  :::  7564\n",
      "SecurityHealthService.exe  :::  7592\n",
      "chrome.exe  :::  7652\n",
      "pythonw.exe  :::  7864\n",
      "svchost.exe  :::  7928\n",
      "svchost.exe  :::  7936\n",
      "dllhost.exe  :::  8000\n",
      "pythonw.exe  :::  8024\n",
      "AMDRSServ.exe  :::  8044\n",
      "AvastUI.exe  :::  8100\n",
      "python.exe  :::  8148\n",
      "chrome.exe  :::  8264\n",
      "chrome.exe  :::  8276\n",
      "chrome.exe  :::  8304\n",
      "chrome.exe  :::  8360\n",
      "chrome.exe  :::  8412\n",
      "chrome.exe  :::  8424\n",
      "chrome.exe  :::  8660\n",
      "TrustedInstaller.exe  :::  8720\n",
      "RuntimeBroker.exe  :::  8740\n",
      "chrome.exe  :::  8752\n",
      "chrome.exe  :::  8772\n",
      "chrome.exe  :::  9112\n",
      "Microsoft.Photos.exe  :::  9256\n",
      "chrome.exe  :::  9352\n",
      "TiWorker.exe  :::  9452\n",
      "chrome.exe  :::  9688\n",
      "ShellExperienceHost.exe  :::  9860\n",
      "chrome.exe  :::  9872\n",
      "chrome.exe  :::  9976\n",
      "svchost.exe  :::  10636\n",
      "chrome.exe  :::  10708\n",
      "thunderbird.exe  :::  10984\n",
      "RuntimeBroker.exe  :::  11132\n",
      "python.exe  :::  11368\n",
      "MicrosoftEdgeCP.exe  :::  11376\n",
      "svchost.exe  :::  11468\n",
      "MicrosoftEdgeSH.exe  :::  11528\n",
      "chrome.exe  :::  11784\n",
      "svchost.exe  :::  11832\n",
      "svchost.exe  :::  11928\n",
      "chrome.exe  :::  12008\n",
      "MicrosoftEdge.exe  :::  12032\n",
      "aswEngSrv.exe  :::  12168\n",
      "*** Create a list of all running processes ***\n",
      "{'cpu_percent': 122.1, 'pid': 0, 'name': 'System Idle Process'}\n",
      "{'cpu_percent': 2.1, 'pid': 4, 'name': 'System'}\n",
      "{'cpu_percent': 0.0, 'pid': 84, 'name': 'Registry'}\n",
      "{'cpu_percent': 0.0, 'pid': 304, 'name': 'chrome.exe'}\n",
      "{'cpu_percent': 0.0, 'pid': 320, 'name': 'smss.exe'}\n",
      "{'cpu_percent': 2.6, 'pid': 396, 'name': 'dwm.exe'}\n",
      "{'cpu_percent': 0.0, 'pid': 436, 'name': 'csrss.exe'}\n",
      "{'cpu_percent': 0.0, 'pid': 544, 'name': 'wininit.exe'}\n",
      "{'cpu_percent': 0.1, 'pid': 552, 'name': 'csrss.exe'}\n",
      "{'cpu_percent': 0.0, 'pid': 556, 'name': 'svchost.exe'}\n",
      "{'cpu_percent': 0.1, 'pid': 612, 'name': 'services.exe'}\n",
      "{'cpu_percent': 0.3, 'pid': 620, 'name': 'lsass.exe'}\n",
      "{'cpu_percent': 0.0, 'pid': 724, 'name': 'svchost.exe'}\n",
      "{'cpu_percent': 0.5, 'pid': 748, 'name': 'ctfmon.exe'}\n",
      "{'cpu_percent': 0.0, 'pid': 756, 'name': 'svchost.exe'}\n",
      "{'cpu_percent': 0.0, 'pid': 764, 'name': 'fontdrvhost.exe'}\n",
      "{'cpu_percent': 0.0, 'pid': 832, 'name': 'svchost.exe'}\n",
      "{'cpu_percent': 0.1, 'pid': 884, 'name': 'svchost.exe'}\n",
      "{'cpu_percent': 0.0, 'pid': 896, 'name': 'taskhostw.exe'}\n",
      "{'cpu_percent': 0.0, 'pid': 900, 'name': 'chrome.exe'}\n",
      "{'cpu_percent': 0.0, 'pid': 932, 'name': 'winlogon.exe'}\n",
      "{'cpu_percent': 0.0, 'pid': 988, 'name': 'fontdrvhost.exe'}\n",
      "{'cpu_percent': 0.0, 'pid': 1000, 'name': 'svchost.exe'}\n",
      "{'cpu_percent': 0.0, 'pid': 1004, 'name': 'chrome.exe'}\n",
      "{'cpu_percent': 0.0, 'pid': 1044, 'name': 'YourPhone.exe'}\n",
      "{'cpu_percent': 0.0, 'pid': 1056, 'name': 'svchost.exe'}\n",
      "{'cpu_percent': 0.0, 'pid': 1096, 'name': 'svchost.exe'}\n",
      "{'cpu_percent': 0.0, 'pid': 1124, 'name': 'svchost.exe'}\n",
      "{'cpu_percent': 0.0, 'pid': 1132, 'name': 'svchost.exe'}\n",
      "{'cpu_percent': 0.0, 'pid': 1140, 'name': 'svchost.exe'}\n",
      "{'cpu_percent': 0.0, 'pid': 1148, 'name': 'svchost.exe'}\n",
      "{'cpu_percent': 0.0, 'pid': 1156, 'name': 'svchost.exe'}\n",
      "{'cpu_percent': 0.0, 'pid': 1284, 'name': 'svchost.exe'}\n",
      "{'cpu_percent': 0.0, 'pid': 1300, 'name': 'svchost.exe'}\n",
      "{'cpu_percent': 0.0, 'pid': 1328, 'name': 'svchost.exe'}\n",
      "{'cpu_percent': 0.3, 'pid': 1356, 'name': 'chrome.exe'}\n",
      "{'cpu_percent': 0.0, 'pid': 1360, 'name': 'svchost.exe'}\n",
      "{'cpu_percent': 0.0, 'pid': 1376, 'name': 'svchost.exe'}\n",
      "{'cpu_percent': 0.0, 'pid': 1388, 'name': 'svchost.exe'}\n",
      "{'cpu_percent': 0.1, 'pid': 1420, 'name': 'svchost.exe'}\n",
      "{'cpu_percent': 0.0, 'pid': 1464, 'name': 'svchost.exe'}\n",
      "{'cpu_percent': 0.0, 'pid': 1472, 'name': 'svchost.exe'}\n",
      "{'cpu_percent': 0.0, 'pid': 1524, 'name': 'chrome.exe'}\n",
      "{'cpu_percent': 0.0, 'pid': 1600, 'name': 'svchost.exe'}\n",
      "{'cpu_percent': 0.0, 'pid': 1628, 'name': 'svchost.exe'}\n",
      "{'cpu_percent': 0.0, 'pid': 1632, 'name': 'svchost.exe'}\n",
      "{'cpu_percent': 0.1, 'pid': 1684, 'name': 'svchost.exe'}\n",
      "{'cpu_percent': 0.0, 'pid': 1720, 'name': 'chromedriver.exe'}\n",
      "{'cpu_percent': 0.0, 'pid': 1760, 'name': 'Calculator.exe'}\n",
      "{'cpu_percent': 0.0, 'pid': 1788, 'name': 'svchost.exe'}\n",
      "{'cpu_percent': 0.0, 'pid': 1864, 'name': 'SkypeApp.exe'}\n",
      "{'cpu_percent': 0.0, 'pid': 1916, 'name': 'svchost.exe'}\n",
      "{'cpu_percent': 0.0, 'pid': 1928, 'name': 'SkypeBackgroundHost.exe'}\n",
      "{'cpu_percent': 0.0, 'pid': 2024, 'name': 'atiesrxx.exe'}\n",
      "{'cpu_percent': 0.1, 'pid': 2032, 'name': 'svchost.exe'}\n",
      "{'cpu_percent': 0.0, 'pid': 2108, 'name': 'svchost.exe'}\n",
      "{'cpu_percent': 0.0, 'pid': 2260, 'name': 'svchost.exe'}\n",
      "{'cpu_percent': 0.0, 'pid': 2268, 'name': 'wsc_proxy.exe'}\n",
      "{'cpu_percent': 0.0, 'pid': 2280, 'name': 'svchost.exe'}\n",
      "{'cpu_percent': 0.0, 'pid': 2292, 'name': 'svchost.exe'}\n",
      "{'cpu_percent': 0.0, 'pid': 2300, 'name': 'svchost.exe'}\n",
      "{'cpu_percent': 0.1, 'pid': 2324, 'name': 'atieclxx.exe'}\n",
      "{'cpu_percent': 0.0, 'pid': 2336, 'name': 'svchost.exe'}\n",
      "{'cpu_percent': 0.0, 'pid': 2340, 'name': 'svchost.exe'}\n",
      "{'cpu_percent': 0.0, 'pid': 2468, 'name': 'Memory Compression'}\n",
      "{'cpu_percent': 0.0, 'pid': 2496, 'name': 'svchost.exe'}\n",
      "{'cpu_percent': 0.0, 'pid': 2524, 'name': 'svchost.exe'}\n",
      "{'cpu_percent': 0.0, 'pid': 2564, 'name': 'svchost.exe'}\n",
      "{'cpu_percent': 0.0, 'pid': 2576, 'name': 'chrome.exe'}\n",
      "{'cpu_percent': 0.0, 'pid': 2584, 'name': 'svchost.exe'}\n",
      "{'cpu_percent': 0.0, 'pid': 2632, 'name': 'svchost.exe'}\n",
      "{'cpu_percent': 0.0, 'pid': 2660, 'name': 'svchost.exe'}\n",
      "{'cpu_percent': 0.0, 'pid': 2728, 'name': 'cmd.exe'}\n",
      "{'cpu_percent': 0.0, 'pid': 2808, 'name': 'chrome.exe'}\n",
      "{'cpu_percent': 0.0, 'pid': 2824, 'name': 'chrome.exe'}\n",
      "{'cpu_percent': 13.8, 'pid': 2856, 'name': 'python.exe'}\n",
      "{'cpu_percent': 0.0, 'pid': 2880, 'name': 'svchost.exe'}\n",
      "{'cpu_percent': 0.0, 'pid': 2932, 'name': 'svchost.exe'}\n",
      "{'cpu_percent': 0.0, 'pid': 2940, 'name': 'svchost.exe'}\n",
      "{'cpu_percent': 0.0, 'pid': 2992, 'name': 'svchost.exe'}\n",
      "{'cpu_percent': 0.4, 'pid': 2996, 'name': 'AvastSvc.exe'}\n",
      "{'cpu_percent': 0.0, 'pid': 3008, 'name': 'svchost.exe'}\n",
      "{'cpu_percent': 0.0, 'pid': 3064, 'name': 'svchost.exe'}\n",
      "{'cpu_percent': 0.0, 'pid': 3088, 'name': 'spoolsv.exe'}\n",
      "{'cpu_percent': 0.0, 'pid': 3132, 'name': 'armsvc.exe'}\n",
      "{'cpu_percent': 0.0, 'pid': 3140, 'name': 'svchost.exe'}\n",
      "{'cpu_percent': 0.0, 'pid': 3152, 'name': 'svchost.exe'}\n",
      "{'cpu_percent': 0.0, 'pid': 3192, 'name': 'svchost.exe'}\n",
      "{'cpu_percent': 0.0, 'pid': 3216, 'name': 'chrome.exe'}\n",
      "{'cpu_percent': 0.0, 'pid': 3220, 'name': 'svchost.exe'}\n",
      "{'cpu_percent': 0.0, 'pid': 3232, 'name': 'mdm.exe'}\n",
      "{'cpu_percent': 0.0, 'pid': 3300, 'name': 'chrome.exe'}\n",
      "{'cpu_percent': 0.0, 'pid': 3308, 'name': 'svchost.exe'}\n",
      "{'cpu_percent': 0.0, 'pid': 3328, 'name': 'svchost.exe'}\n",
      "{'cpu_percent': 0.0, 'pid': 3364, 'name': 'svchost.exe'}\n",
      "{'cpu_percent': 0.0, 'pid': 3372, 'name': 'svchost.exe'}\n",
      "{'cpu_percent': 0.0, 'pid': 3556, 'name': 'svchost.exe'}\n",
      "{'cpu_percent': 0.0, 'pid': 3616, 'name': 'conhost.exe'}\n",
      "{'cpu_percent': 0.0, 'pid': 3632, 'name': 'svchost.exe'}\n",
      "{'cpu_percent': 0.0, 'pid': 3848, 'name': 'svchost.exe'}\n",
      "{'cpu_percent': 0.0, 'pid': 3948, 'name': 'chrome.exe'}\n",
      "{'cpu_percent': 0.0, 'pid': 4008, 'name': 'svchost.exe'}\n",
      "{'cpu_percent': 0.0, 'pid': 4040, 'name': 'RuntimeBroker.exe'}\n",
      "{'cpu_percent': 0.0, 'pid': 4100, 'name': 'svchost.exe'}\n",
      "{'cpu_percent': 0.0, 'pid': 4104, 'name': 'RuntimeBroker.exe'}\n",
      "{'cpu_percent': 0.4, 'pid': 4200, 'name': 'explorer.exe'}\n",
      "{'cpu_percent': 0.0, 'pid': 4296, 'name': 'chrome.exe'}\n",
      "{'cpu_percent': 0.0, 'pid': 4400, 'name': 'svchost.exe'}\n",
      "{'cpu_percent': 0.0, 'pid': 4492, 'name': 'svchost.exe'}\n",
      "{'cpu_percent': 0.0, 'pid': 4520, 'name': 'svchost.exe'}\n",
      "{'cpu_percent': 0.0, 'pid': 4572, 'name': 'svchost.exe'}\n",
      "{'cpu_percent': 0.0, 'pid': 4604, 'name': 'dllhost.exe'}\n",
      "{'cpu_percent': 0.0, 'pid': 4840, 'name': 'SearchIndexer.exe'}\n",
      "{'cpu_percent': 0.0, 'pid': 4944, 'name': 'browser_broker.exe'}\n",
      "{'cpu_percent': 0.0, 'pid': 5036, 'name': 'svchost.exe'}\n",
      "{'cpu_percent': 0.0, 'pid': 5068, 'name': 'chrome.exe'}\n",
      "{'cpu_percent': 0.5, 'pid': 5140, 'name': 'aswidsagent.exe'}\n",
      "{'cpu_percent': 0.0, 'pid': 5384, 'name': 'svchost.exe'}\n",
      "{'cpu_percent': 0.0, 'pid': 5464, 'name': 'WinStore.App.exe'}\n",
      "{'cpu_percent': 0.0, 'pid': 5484, 'name': 'unsecapp.exe'}\n",
      "{'cpu_percent': 0.0, 'pid': 5600, 'name': 'svchost.exe'}\n",
      "{'cpu_percent': 0.0, 'pid': 5652, 'name': 'chrome.exe'}\n",
      "{'cpu_percent': 0.0, 'pid': 5708, 'name': 'smartscreen.exe'}\n",
      "{'cpu_percent': 0.0, 'pid': 5764, 'name': 'EXCEL.EXE'}\n",
      "{'cpu_percent': 0.0, 'pid': 5816, 'name': 'chrome.exe'}\n",
      "{'cpu_percent': 0.0, 'pid': 5932, 'name': 'chrome.exe'}\n",
      "{'cpu_percent': 0.0, 'pid': 5940, 'name': 'sihost.exe'}\n",
      "{'cpu_percent': 0.0, 'pid': 5952, 'name': 'svchost.exe'}\n",
      "{'cpu_percent': 0.0, 'pid': 5968, 'name': 'svchost.exe'}\n",
      "{'cpu_percent': 0.0, 'pid': 6020, 'name': 'jupyter-notebook.exe'}\n",
      "{'cpu_percent': 0.0, 'pid': 6068, 'name': 'svchost.exe'}\n",
      "{'cpu_percent': 0.0, 'pid': 6080, 'name': 'chrome.exe'}\n",
      "{'cpu_percent': 0.0, 'pid': 6128, 'name': 'RuntimeBroker.exe'}\n",
      "{'cpu_percent': 0.0, 'pid': 6136, 'name': 'taskhostw.exe'}\n",
      "{'cpu_percent': 0.0, 'pid': 6352, 'name': 'ApplicationFrameHost.exe'}\n",
      "{'cpu_percent': 0.0, 'pid': 6556, 'name': 'SystemSettingsBroker.exe'}\n",
      "{'cpu_percent': 0.0, 'pid': 6604, 'name': 'StartMenuExperienceHost.exe'}\n",
      "{'cpu_percent': 0.0, 'pid': 6648, 'name': 'chrome.exe'}\n",
      "{'cpu_percent': 0.0, 'pid': 6656, 'name': 'chrome.exe'}\n",
      "{'cpu_percent': 0.0, 'pid': 6764, 'name': 'RuntimeBroker.exe'}\n",
      "{'cpu_percent': 0.1, 'pid': 6812, 'name': 'WindowsInternal.ComposableShell.Experiences.TextInput.InputApp.exe'}\n",
      "{'cpu_percent': 0.0, 'pid': 6880, 'name': 'SearchUI.exe'}\n",
      "{'cpu_percent': 0.0, 'pid': 6948, 'name': 'SgrmBroker.exe'}\n",
      "{'cpu_percent': 0.0, 'pid': 6956, 'name': 'RuntimeBroker.exe'}\n",
      "{'cpu_percent': 0.0, 'pid': 7080, 'name': 'RuntimeBroker.exe'}\n",
      "{'cpu_percent': 0.0, 'pid': 7212, 'name': 'YourPhoneServer.exe'}\n",
      "{'cpu_percent': 0.0, 'pid': 7224, 'name': 'chrome.exe'}\n",
      "{'cpu_percent': 0.0, 'pid': 7296, 'name': 'SearchProtocolHost.exe'}\n",
      "{'cpu_percent': 0.0, 'pid': 7300, 'name': 'amdow.exe'}\n",
      "{'cpu_percent': 0.0, 'pid': 7304, 'name': 'RadeonSettings.exe'}\n",
      "{'cpu_percent': 0.0, 'pid': 7364, 'name': 'RuntimeBroker.exe'}\n",
      "{'cpu_percent': 0.0, 'pid': 7476, 'name': 'AvastUI.exe'}\n",
      "{'cpu_percent': 0.0, 'pid': 7564, 'name': 'SecurityHealthSystray.exe'}\n",
      "{'cpu_percent': 0.0, 'pid': 7592, 'name': 'SecurityHealthService.exe'}\n",
      "{'cpu_percent': 0.1, 'pid': 7652, 'name': 'chrome.exe'}\n",
      "{'cpu_percent': 0.0, 'pid': 7864, 'name': 'pythonw.exe'}\n",
      "{'cpu_percent': 0.0, 'pid': 7928, 'name': 'svchost.exe'}\n",
      "{'cpu_percent': 0.0, 'pid': 7936, 'name': 'svchost.exe'}\n",
      "{'cpu_percent': 0.0, 'pid': 8000, 'name': 'dllhost.exe'}\n",
      "{'cpu_percent': 0.0, 'pid': 8024, 'name': 'pythonw.exe'}\n",
      "{'cpu_percent': 0.0, 'pid': 8044, 'name': 'AMDRSServ.exe'}\n",
      "{'cpu_percent': 0.0, 'pid': 8100, 'name': 'AvastUI.exe'}\n",
      "{'cpu_percent': 0.3, 'pid': 8148, 'name': 'python.exe'}\n",
      "{'cpu_percent': 6.0, 'pid': 8264, 'name': 'chrome.exe'}\n",
      "{'cpu_percent': 0.0, 'pid': 8276, 'name': 'chrome.exe'}\n",
      "{'cpu_percent': 0.0, 'pid': 8304, 'name': 'chrome.exe'}\n",
      "{'cpu_percent': 0.0, 'pid': 8360, 'name': 'chrome.exe'}\n",
      "{'cpu_percent': 7.1, 'pid': 8412, 'name': 'chrome.exe'}\n",
      "{'cpu_percent': 0.0, 'pid': 8424, 'name': 'chrome.exe'}\n",
      "{'cpu_percent': 23.3, 'pid': 8660, 'name': 'chrome.exe'}\n",
      "{'cpu_percent': 0.0, 'pid': 8720, 'name': 'TrustedInstaller.exe'}\n",
      "{'cpu_percent': 0.0, 'pid': 8740, 'name': 'RuntimeBroker.exe'}\n",
      "{'cpu_percent': 0.1, 'pid': 8752, 'name': 'chrome.exe'}\n",
      "{'cpu_percent': 0.1, 'pid': 8772, 'name': 'chrome.exe'}\n",
      "{'cpu_percent': 0.0, 'pid': 9112, 'name': 'chrome.exe'}\n",
      "{'cpu_percent': 0.0, 'pid': 9256, 'name': 'Microsoft.Photos.exe'}\n",
      "{'cpu_percent': 0.0, 'pid': 9352, 'name': 'chrome.exe'}\n",
      "{'cpu_percent': 0.0, 'pid': 9452, 'name': 'TiWorker.exe'}\n",
      "{'cpu_percent': 0.0, 'pid': 9688, 'name': 'chrome.exe'}\n",
      "{'cpu_percent': 0.0, 'pid': 9860, 'name': 'ShellExperienceHost.exe'}\n",
      "{'cpu_percent': 0.0, 'pid': 9872, 'name': 'chrome.exe'}\n",
      "{'cpu_percent': 0.0, 'pid': 9976, 'name': 'chrome.exe'}\n",
      "{'cpu_percent': 0.0, 'pid': 10636, 'name': 'svchost.exe'}\n",
      "{'cpu_percent': 0.0, 'pid': 10708, 'name': 'chrome.exe'}\n",
      "{'cpu_percent': 0.0, 'pid': 10984, 'name': 'thunderbird.exe'}\n",
      "{'cpu_percent': 0.0, 'pid': 11132, 'name': 'RuntimeBroker.exe'}\n",
      "{'cpu_percent': 0.1, 'pid': 11368, 'name': 'python.exe'}\n",
      "{'cpu_percent': 0.0, 'pid': 11376, 'name': 'MicrosoftEdgeCP.exe'}\n",
      "{'cpu_percent': 0.0, 'pid': 11468, 'name': 'svchost.exe'}\n",
      "{'cpu_percent': 0.0, 'pid': 11528, 'name': 'MicrosoftEdgeSH.exe'}\n",
      "{'cpu_percent': 0.0, 'pid': 11784, 'name': 'chrome.exe'}\n",
      "{'cpu_percent': 0.0, 'pid': 11832, 'name': 'svchost.exe'}\n",
      "{'cpu_percent': 0.0, 'pid': 11928, 'name': 'svchost.exe'}\n",
      "{'cpu_percent': 0.0, 'pid': 12008, 'name': 'chrome.exe'}\n",
      "{'cpu_percent': 0.0, 'pid': 12032, 'name': 'MicrosoftEdge.exe'}\n",
      "{'cpu_percent': 0.0, 'pid': 12168, 'name': 'aswEngSrv.exe'}\n",
      "*** Top 5 process with highest memory usage ***\n"
     ]
    },
    {
     "name": "stdout",
     "output_type": "stream",
     "text": [
      "{'pid': 8412, 'name': 'chrome.exe', 'username': 'CREAME\\\\jhernandez', 'vms': 908.3515625}\n",
      "{'pid': 8024, 'name': 'pythonw.exe', 'username': 'CREAME\\\\jhernandez', 'vms': 421.03515625}\n",
      "{'pid': 8264, 'name': 'chrome.exe', 'username': 'CREAME\\\\jhernandez', 'vms': 327.6875}\n",
      "{'pid': 2996, 'name': 'AvastSvc.exe', 'username': None, 'vms': 260.6875}\n",
      "{'pid': 8660, 'name': 'chrome.exe', 'username': 'CREAME\\\\jhernandez', 'vms': 244.2109375}\n"
     ]
    }
   ],
   "source": [
    "import psutil\n",
    " \n",
    " \n",
    " \n",
    "def getListOfProcessSortedByMemory():\n",
    "    '''\n",
    "    Get list of running process sorted by Memory Usage\n",
    "    '''\n",
    "    listOfProcObjects = []\n",
    "    # Iterate over the list\n",
    "    for proc in psutil.process_iter():\n",
    "        try:\n",
    "        # Fetch process details as dict\n",
    "            pinfo = proc.as_dict(attrs=['pid', 'name', 'username'])\n",
    "            pinfo['vms'] = proc.memory_info().vms / (1024 * 1024)\n",
    "            # Append dict to list\n",
    "            listOfProcObjects.append(pinfo);\n",
    "        except (psutil.NoSuchProcess, psutil.AccessDenied, psutil.ZombieProcess):\n",
    "            pass\n",
    " \n",
    "    # Sort list of dict by key vms i.e. memory usage\n",
    "    listOfProcObjects = sorted(listOfProcObjects, key=lambda procObj: procObj['vms'], reverse=True)\n",
    " \n",
    "    return listOfProcObjects\n",
    " \n",
    "def main():\n",
    " \n",
    "    print(\"*** Iterate over all running process and print process ID & Name ***\")\n",
    "    # Iterate over all running process\n",
    "    for proc in psutil.process_iter():\n",
    "        try:\n",
    "            # Get process name & pid from process object.\n",
    "            processName = proc.name()\n",
    "            processID = proc.pid\n",
    "            print(processName , ' ::: ', processID)\n",
    "        except (psutil.NoSuchProcess, psutil.AccessDenied, psutil.ZombieProcess):\n",
    "            pass\n",
    " \n",
    "    print('*** Create a list of all running processes ***')\n",
    " \n",
    "    listOfProcessNames = list()\n",
    "    # Iterate over all running processes\n",
    "    for proc in psutil.process_iter():\n",
    "       # Get process detail as dictionary\n",
    "       pInfoDict = proc.as_dict(attrs=['pid', 'name', 'cpu_percent'])\n",
    "       # Append dict of process detail in list\n",
    "       listOfProcessNames.append(pInfoDict)\n",
    " \n",
    "    # Iterate over the list of dictionary and print each elem\n",
    "    for elem in listOfProcessNames:\n",
    "        print(elem)\n",
    " \n",
    "    print('*** Top 5 process with highest memory usage ***')\n",
    " \n",
    "    listOfRunningProcess = getListOfProcessSortedByMemory()\n",
    " \n",
    "    for elem in listOfRunningProcess[:5] :\n",
    "        print(elem)\n",
    "\n",
    "        \n",
    "if __name__ == '__main__':\n",
    "    main()"
   ]
  },
  {
   "cell_type": "code",
   "execution_count": 10,
   "metadata": {},
   "outputs": [
    {
     "ename": "TypeError",
     "evalue": "a bytes-like object is required, not 'str'",
     "output_type": "error",
     "traceback": [
      "\u001b[1;31m---------------------------------------------------------------------------\u001b[0m",
      "\u001b[1;31mTypeError\u001b[0m                                 Traceback (most recent call last)",
      "\u001b[1;32m<ipython-input-10-821e9a1e648a>\u001b[0m in \u001b[0;36m<module>\u001b[1;34m\u001b[0m\n\u001b[0;32m      4\u001b[0m \u001b[0moutput\u001b[0m \u001b[1;33m=\u001b[0m \u001b[0msubprocess\u001b[0m\u001b[1;33m.\u001b[0m\u001b[0mcheck_output\u001b[0m\u001b[1;33m(\u001b[0m\u001b[0mcall\u001b[0m\u001b[1;33m)\u001b[0m\u001b[1;33m\u001b[0m\u001b[1;33m\u001b[0m\u001b[0m\n\u001b[0;32m      5\u001b[0m \u001b[1;31m# get rid of extra \" and split into lines\u001b[0m\u001b[1;33m\u001b[0m\u001b[1;33m\u001b[0m\u001b[1;33m\u001b[0m\u001b[0m\n\u001b[1;32m----> 6\u001b[1;33m \u001b[0moutput\u001b[0m \u001b[1;33m=\u001b[0m \u001b[0moutput\u001b[0m\u001b[1;33m.\u001b[0m\u001b[0mreplace\u001b[0m\u001b[1;33m(\u001b[0m\u001b[1;34m'\"'\u001b[0m\u001b[1;33m,\u001b[0m \u001b[1;34m''\u001b[0m\u001b[1;33m)\u001b[0m\u001b[1;33m.\u001b[0m\u001b[0msplit\u001b[0m\u001b[1;33m(\u001b[0m\u001b[1;34m'\\r\\n'\u001b[0m\u001b[1;33m)\u001b[0m\u001b[1;33m\u001b[0m\u001b[1;33m\u001b[0m\u001b[0m\n\u001b[0m\u001b[0;32m      7\u001b[0m \u001b[0mkeys\u001b[0m \u001b[1;33m=\u001b[0m \u001b[0moutput\u001b[0m\u001b[1;33m[\u001b[0m\u001b[1;36m0\u001b[0m\u001b[1;33m]\u001b[0m\u001b[1;33m.\u001b[0m\u001b[0msplit\u001b[0m\u001b[1;33m(\u001b[0m\u001b[1;34m','\u001b[0m\u001b[1;33m)\u001b[0m\u001b[1;33m\u001b[0m\u001b[1;33m\u001b[0m\u001b[0m\n\u001b[0;32m      8\u001b[0m \u001b[0mproc_list\u001b[0m \u001b[1;33m=\u001b[0m \u001b[1;33m[\u001b[0m\u001b[0mi\u001b[0m\u001b[1;33m.\u001b[0m\u001b[0msplit\u001b[0m\u001b[1;33m(\u001b[0m\u001b[1;34m','\u001b[0m\u001b[1;33m)\u001b[0m \u001b[1;32mfor\u001b[0m \u001b[0mi\u001b[0m \u001b[1;32min\u001b[0m \u001b[0moutput\u001b[0m\u001b[1;33m[\u001b[0m\u001b[1;36m1\u001b[0m\u001b[1;33m:\u001b[0m\u001b[1;33m]\u001b[0m \u001b[1;32mif\u001b[0m \u001b[0mi\u001b[0m\u001b[1;33m]\u001b[0m\u001b[1;33m\u001b[0m\u001b[1;33m\u001b[0m\u001b[0m\n",
      "\u001b[1;31mTypeError\u001b[0m: a bytes-like object is required, not 'str'"
     ]
    }
   ],
   "source": [
    "import subprocess\n",
    "# get info dict about all running processes\n",
    "call = 'TASKLIST', '/FO', 'CSV'\n",
    "output = subprocess.check_output(call)\n",
    "# get rid of extra \" and split into lines\n",
    "output = output.replace('\"', '').split('\\r\\n')\n",
    "keys = output[0].split(',')\n",
    "proc_list = [i.split(',') for i in output[1:] if i]\n",
    "# make dict with proc names as keys and dicts with the extra nfo as values\n",
    "proc_dict = dict( [( i[0], dict(zip(keys[1:], i[1:])) ) for i in proc_list] )\n",
    "print(proc_dict.keys())"
   ]
  },
  {
   "cell_type": "code",
   "execution_count": 14,
   "metadata": {},
   "outputs": [],
   "source": [
    "def si_excel():\n",
    "    import win32ui\n",
    "    # may need FindWindow(\"iTunes\", None) or FindWindow(None, \"iTunes\")\n",
    "    # or something similar\n",
    "    if win32ui.FindWindow(\"Microsoft Office Excel (32 bits)\", \"Microsoft Office Excel (32 bits)\"):\n",
    "        print (\"Found an iTunes window\")\n",
    "        return True"
   ]
  },
  {
   "cell_type": "code",
   "execution_count": 15,
   "metadata": {},
   "outputs": [
    {
     "ename": "error",
     "evalue": "No window can be found.",
     "output_type": "error",
     "traceback": [
      "\u001b[1;31m---------------------------------------------------------------------------\u001b[0m",
      "\u001b[1;31merror\u001b[0m                                     Traceback (most recent call last)",
      "\u001b[1;32m<ipython-input-15-5f61ad4a39e7>\u001b[0m in \u001b[0;36m<module>\u001b[1;34m\u001b[0m\n\u001b[1;32m----> 1\u001b[1;33m \u001b[0msi_excel\u001b[0m\u001b[1;33m(\u001b[0m\u001b[1;33m)\u001b[0m\u001b[1;33m\u001b[0m\u001b[1;33m\u001b[0m\u001b[0m\n\u001b[0m",
      "\u001b[1;32m<ipython-input-14-48f2f097eee1>\u001b[0m in \u001b[0;36msi_excel\u001b[1;34m()\u001b[0m\n\u001b[0;32m      3\u001b[0m     \u001b[1;31m# may need FindWindow(\"iTunes\", None) or FindWindow(None, \"iTunes\")\u001b[0m\u001b[1;33m\u001b[0m\u001b[1;33m\u001b[0m\u001b[1;33m\u001b[0m\u001b[0m\n\u001b[0;32m      4\u001b[0m     \u001b[1;31m# or something similar\u001b[0m\u001b[1;33m\u001b[0m\u001b[1;33m\u001b[0m\u001b[1;33m\u001b[0m\u001b[0m\n\u001b[1;32m----> 5\u001b[1;33m     \u001b[1;32mif\u001b[0m \u001b[0mwin32ui\u001b[0m\u001b[1;33m.\u001b[0m\u001b[0mFindWindow\u001b[0m\u001b[1;33m(\u001b[0m\u001b[1;34m\"Microsoft Office Excel (32 bits)\"\u001b[0m\u001b[1;33m,\u001b[0m \u001b[1;34m\"Microsoft Office Excel (32 bits)\"\u001b[0m\u001b[1;33m)\u001b[0m\u001b[1;33m:\u001b[0m\u001b[1;33m\u001b[0m\u001b[1;33m\u001b[0m\u001b[0m\n\u001b[0m\u001b[0;32m      6\u001b[0m         \u001b[0mprint\u001b[0m \u001b[1;33m(\u001b[0m\u001b[1;34m\"Found an iTunes window\"\u001b[0m\u001b[1;33m)\u001b[0m\u001b[1;33m\u001b[0m\u001b[1;33m\u001b[0m\u001b[0m\n\u001b[0;32m      7\u001b[0m         \u001b[1;32mreturn\u001b[0m \u001b[1;32mTrue\u001b[0m\u001b[1;33m\u001b[0m\u001b[1;33m\u001b[0m\u001b[0m\n",
      "\u001b[1;31merror\u001b[0m: No window can be found."
     ]
    }
   ],
   "source": [
    "si_excel()"
   ]
  },
  {
   "cell_type": "code",
   "execution_count": 28,
   "metadata": {},
   "outputs": [
    {
     "name": "stdout",
     "output_type": "stream",
     "text": [
      "\n",
      "Excel_Killer - Jupyter Notebook - Google Chrome\n",
      "\n",
      "Microsoft Edge\n",
      "Microsoft Edge\n",
      "Microsoft Edge\n",
      "Enviados - Mozilla Thunderbird\n",
      "Microsoft Text Input Application\n",
      "Calculadora\n",
      "Calculadora\n",
      "Microsoft Store\n",
      "Microsoft Store\n",
      "\n",
      "\n",
      "\n",
      "\n",
      "Anaconda Navigator\n",
      "Program Manager\n"
     ]
    }
   ],
   "source": [
    "import ctypes\n",
    "\n",
    "EnumWindows = ctypes.windll.user32.EnumWindows\n",
    "EnumWindowsProc = ctypes.WINFUNCTYPE(ctypes.c_bool, ctypes.POINTER(ctypes.c_int),     ctypes.POINTER(ctypes.c_int))\n",
    "GetWindowText = ctypes.windll.user32.GetWindowTextW\n",
    "GetWindowTextLength = ctypes.windll.user32.GetWindowTextLengthW\n",
    "IsWindowVisible = ctypes.windll.user32.IsWindowVisible\n",
    "\n",
    "def foreach_window(hwnd, lParam):\n",
    "\n",
    "    titles = []\n",
    "\n",
    "    if IsWindowVisible(hwnd):\n",
    "        length = GetWindowTextLength(hwnd)\n",
    "        buff = ctypes.create_unicode_buffer(length + 1)\n",
    "        GetWindowText(hwnd, buff, length + 1)\n",
    "        titles.append(buff.value)\n",
    "        print (buff.value)\n",
    "\n",
    "    return titles\n",
    "\n",
    "\n",
    "def main():\n",
    "\n",
    "    EnumWindows(EnumWindowsProc(foreach_window), 0)\n",
    "\n",
    "   #end of main\n",
    "if __name__ == \"__main__\":\n",
    "    main()"
   ]
  },
  {
   "cell_type": "code",
   "execution_count": 21,
   "metadata": {},
   "outputs": [
    {
     "name": "stdout",
     "output_type": "stream",
     "text": [
      "<generator object process_iter at 0x0000020BE8C902C8>\n"
     ]
    }
   ],
   "source": [
    "psutil.process_iter(attrs=['pid', 'name'])"
   ]
  },
  {
   "cell_type": "code",
   "execution_count": 22,
   "metadata": {},
   "outputs": [
    {
     "data": {
      "text/plain": [
       "'aswEngSrv.exe'"
      ]
     },
     "execution_count": 22,
     "metadata": {},
     "output_type": "execute_result"
    }
   ],
   "source": [
    "p.info['name']"
   ]
  },
  {
   "cell_type": "code",
   "execution_count": 12,
   "metadata": {},
   "outputs": [
    {
     "name": "stdout",
     "output_type": "stream",
     "text": [
      "Handles  NPM(K)    PM(K)      WS(K)     CPU(s)     Id  SI ProcessName\n",
      "-------  ------    -----      -----     ------     --  -- -----------\n",
      "    497      28    18520      34192       0,34   4424   1 ApplicationFrameHost\n",
      "    558      30    20272        176       0,73   2460   1 Calculator\n",
      "   1439      53    96152     158228      29,88   4612   1 chrome\n",
      "    867      48    23240       7440       0,77   8340   1 MicrosoftEdge\n",
      "    495      21     5844      22240       0,19   4640   1 MicrosoftEdgeCP\n",
      "    688      80   387624     411704      18,53   5876   1 pythonw\n",
      "    791      39    22020        168       1,00   9744   1 SystemSettings\n",
      "    534      25    11768      42408       0,44   3128   1 WindowsInternal.ComposableShell.Experiences.TextInput.Inpu...\n",
      "    988      67    49400        216       2,08   1548   1 WinStore.App\n"
     ]
    }
   ],
   "source": [
    "import subprocess\n",
    "cmd = 'powershell \"gps | where {$_.MainWindowTitle }'\n",
    "proc = subprocess.Popen(cmd, shell=True, stdout=subprocess.PIPE)\n",
    "for line in proc.stdout:\n",
    "    if line.rstrip():\n",
    "        # only print lines that are not empty\n",
    "        # decode() is necessary to get rid of the binary string (b')\n",
    "        # rstrip() to remove `\\r\\n`\n",
    "        print(line.decode().rstrip())"
   ]
  },
  {
   "cell_type": "code",
   "execution_count": 43,
   "metadata": {},
   "outputs": [],
   "source": [
    "p = subprocess.Popen(\"Administrador de tareas\" + cmd, shell=True, stdout=subprocess.PIPE)\n",
    "p.kill()"
   ]
  },
  {
   "cell_type": "code",
   "execution_count": null,
   "metadata": {},
   "outputs": [],
   "source": [
    "proc.kill()"
   ]
  },
  {
   "cell_type": "code",
   "execution_count": 11,
   "metadata": {},
   "outputs": [
    {
     "ename": "UnicodeDecodeError",
     "evalue": "'utf-8' codec can't decode byte 0xf3 in position 11: invalid continuation byte",
     "output_type": "error",
     "traceback": [
      "\u001b[1;31m---------------------------------------------------------------------------\u001b[0m",
      "\u001b[1;31mUnicodeDecodeError\u001b[0m                        Traceback (most recent call last)",
      "\u001b[1;32m<ipython-input-11-8ad87ad2f76e>\u001b[0m in \u001b[0;36m<module>\u001b[1;34m\u001b[0m\n\u001b[0;32m      8\u001b[0m         \u001b[1;31m# decode() is necessary to get rid of the binary string (b')\u001b[0m\u001b[1;33m\u001b[0m\u001b[1;33m\u001b[0m\u001b[1;33m\u001b[0m\u001b[0m\n\u001b[0;32m      9\u001b[0m         \u001b[1;31m# rstrip() to remove `\\r\\n`\u001b[0m\u001b[1;33m\u001b[0m\u001b[1;33m\u001b[0m\u001b[1;33m\u001b[0m\u001b[0m\n\u001b[1;32m---> 10\u001b[1;33m         \u001b[0mlista_procesos\u001b[0m\u001b[1;33m.\u001b[0m\u001b[0mappend\u001b[0m\u001b[1;33m(\u001b[0m\u001b[0mline\u001b[0m\u001b[1;33m.\u001b[0m\u001b[0mdecode\u001b[0m\u001b[1;33m(\u001b[0m\u001b[1;33m)\u001b[0m\u001b[1;33m.\u001b[0m\u001b[0mrstrip\u001b[0m\u001b[1;33m(\u001b[0m\u001b[1;33m)\u001b[0m\u001b[1;33m)\u001b[0m\u001b[1;33m\u001b[0m\u001b[1;33m\u001b[0m\u001b[0m\n\u001b[0m",
      "\u001b[1;31mUnicodeDecodeError\u001b[0m: 'utf-8' codec can't decode byte 0xf3 in position 11: invalid continuation byte"
     ]
    }
   ],
   "source": [
    "import subprocess\n",
    "lista_procesos = []\n",
    "cmd = 'powershell \"gps | where {$_.MainWindowTitle } | select Description, id'\n",
    "proc = subprocess.Popen(cmd, shell=True, stdout=subprocess.PIPE)\n",
    "for line in proc.stdout:\n",
    "    if line.rstrip():\n",
    "        # only print lines that are not empty\n",
    "        # decode() is necessary to get rid of the binary string (b')\n",
    "        # rstrip() to remove `\\r\\n`\n",
    "        lista_procesos.append(line.decode().rstrip())"
   ]
  },
  {
   "cell_type": "code",
   "execution_count": 5,
   "metadata": {},
   "outputs": [
    {
     "ename": "UnicodeDecodeError",
     "evalue": "'utf-8' codec can't decode byte 0xf3 in position 11: invalid continuation byte",
     "output_type": "error",
     "traceback": [
      "\u001b[1;31m---------------------------------------------------------------------------\u001b[0m",
      "\u001b[1;31mUnicodeDecodeError\u001b[0m                        Traceback (most recent call last)",
      "\u001b[1;32m<ipython-input-5-934d29d13ae9>\u001b[0m in \u001b[0;36m<module>\u001b[1;34m\u001b[0m\n\u001b[0;32m      6\u001b[0m \u001b[0mproc\u001b[0m \u001b[1;33m=\u001b[0m \u001b[0msubprocess\u001b[0m\u001b[1;33m.\u001b[0m\u001b[0mPopen\u001b[0m\u001b[1;33m(\u001b[0m\u001b[0mcmd\u001b[0m\u001b[1;33m,\u001b[0m \u001b[0mshell\u001b[0m\u001b[1;33m=\u001b[0m\u001b[1;32mTrue\u001b[0m\u001b[1;33m,\u001b[0m \u001b[0mstdout\u001b[0m\u001b[1;33m=\u001b[0m\u001b[0msubprocess\u001b[0m\u001b[1;33m.\u001b[0m\u001b[0mPIPE\u001b[0m\u001b[1;33m)\u001b[0m\u001b[1;33m\u001b[0m\u001b[1;33m\u001b[0m\u001b[0m\n\u001b[0;32m      7\u001b[0m \u001b[1;32mfor\u001b[0m \u001b[0mline\u001b[0m \u001b[1;32min\u001b[0m \u001b[0mproc\u001b[0m\u001b[1;33m.\u001b[0m\u001b[0mstdout\u001b[0m\u001b[1;33m:\u001b[0m\u001b[1;33m\u001b[0m\u001b[1;33m\u001b[0m\u001b[0m\n\u001b[1;32m----> 8\u001b[1;33m     \u001b[1;32mif\u001b[0m \u001b[0mline\u001b[0m\u001b[1;33m.\u001b[0m\u001b[0mdecode\u001b[0m\u001b[1;33m(\u001b[0m\u001b[1;33m)\u001b[0m\u001b[1;33m.\u001b[0m\u001b[0mfind\u001b[0m\u001b[1;33m(\u001b[0m\u001b[1;34m'Excel'\u001b[0m\u001b[1;33m)\u001b[0m \u001b[1;33m!=\u001b[0m \u001b[1;33m-\u001b[0m\u001b[1;36m1\u001b[0m\u001b[1;33m:\u001b[0m\u001b[1;33m\u001b[0m\u001b[1;33m\u001b[0m\u001b[0m\n\u001b[0m\u001b[0;32m      9\u001b[0m         \u001b[0mcandidato\u001b[0m \u001b[1;33m=\u001b[0m \u001b[0mline\u001b[0m\u001b[1;33m.\u001b[0m\u001b[0mdecode\u001b[0m\u001b[1;33m(\u001b[0m\u001b[1;33m)\u001b[0m\u001b[1;33m.\u001b[0m\u001b[0msplit\u001b[0m\u001b[1;33m(\u001b[0m\u001b[1;33m)\u001b[0m\u001b[1;33m[\u001b[0m\u001b[1;33m-\u001b[0m\u001b[1;36m1\u001b[0m\u001b[1;33m]\u001b[0m\u001b[1;33m\u001b[0m\u001b[1;33m\u001b[0m\u001b[0m\n\u001b[0;32m     10\u001b[0m         \u001b[0mos\u001b[0m\u001b[1;33m.\u001b[0m\u001b[0mkill\u001b[0m\u001b[1;33m(\u001b[0m\u001b[0mint\u001b[0m\u001b[1;33m(\u001b[0m\u001b[0mcandidato\u001b[0m\u001b[1;33m)\u001b[0m\u001b[1;33m,\u001b[0m \u001b[0msignal\u001b[0m\u001b[1;33m.\u001b[0m\u001b[0mSIGTERM\u001b[0m\u001b[1;33m)\u001b[0m\u001b[1;33m\u001b[0m\u001b[1;33m\u001b[0m\u001b[0m\n",
      "\u001b[1;31mUnicodeDecodeError\u001b[0m: 'utf-8' codec can't decode byte 0xf3 in position 11: invalid continuation byte"
     ]
    }
   ],
   "source": [
    "\n",
    "import subprocess\n",
    "import os\n",
    "import signal \n",
    "\n",
    "cmd = 'powershell \"gps | where {$_.MainWindowTitle } | select Description, id'\n",
    "proc = subprocess.Popen(cmd, shell=True, stdout=subprocess.PIPE)\n",
    "for line in proc.stdout:\n",
    "    if line.decode().find('Excel') != -1:\n",
    "        candidato = line.decode().split()[-1]\n",
    "        os.kill(int(candidato), signal.SIGTERM)\n",
    "    "
   ]
  },
  {
   "cell_type": "code",
   "execution_count": 108,
   "metadata": {},
   "outputs": [
    {
     "data": {
      "text/plain": [
       "['Description', 'Id']"
      ]
     },
     "execution_count": 108,
     "metadata": {},
     "output_type": "execute_result"
    }
   ],
   "source": []
  },
  {
   "cell_type": "code",
   "execution_count": 81,
   "metadata": {},
   "outputs": [],
   "source": [
    "for x in lista_procesos:\n",
    "    "
   ]
  },
  {
   "cell_type": "code",
   "execution_count": 96,
   "metadata": {
    "scrolled": true
   },
   "outputs": [
    {
     "data": {
      "text/plain": [
       "['Description                                                           Id',\n",
       " '-----------                                                           --',\n",
       " 'Application Frame Host                                              6352',\n",
       " 'Calculator.exe                                                      1760',\n",
       " 'Google Chrome                                                       8264',\n",
       " 'Microsoft Edge                                                     12032',\n",
       " 'Microsoft Edge Content Process                                     11376',\n",
       " 'Python                                                              8024',\n",
       " 'Administrador de tareas                                             6428',\n",
       " 'Thunderbird                                                        10984',\n",
       " 'WindowsInternal.ComposableShell.Experiences.TextInput.InputApp.exe  6812',\n",
       " 'Store                                                               5464']"
      ]
     },
     "execution_count": 96,
     "metadata": {},
     "output_type": "execute_result"
    }
   ],
   "source": [
    "lista_procesos"
   ]
  },
  {
   "cell_type": "code",
   "execution_count": null,
   "metadata": {},
   "outputs": [],
   "source": []
  },
  {
   "cell_type": "code",
   "execution_count": 3,
   "metadata": {},
   "outputs": [],
   "source": [
    "#Enviar ID para matar proceso\n",
    "import subprocess\n",
    "import os\n",
    "import signal \n",
    "\n",
    "#os.kill(4616, signal.SIGTERM)"
   ]
  },
  {
   "cell_type": "code",
   "execution_count": 10,
   "metadata": {},
   "outputs": [
    {
     "ename": "UnicodeDecodeError",
     "evalue": "'utf-8' codec can't decode byte 0xf3 in position 11: invalid continuation byte",
     "output_type": "error",
     "traceback": [
      "\u001b[1;31m---------------------------------------------------------------------------\u001b[0m",
      "\u001b[1;31mUnicodeDecodeError\u001b[0m                        Traceback (most recent call last)",
      "\u001b[1;32m<ipython-input-10-8ad87ad2f76e>\u001b[0m in \u001b[0;36m<module>\u001b[1;34m\u001b[0m\n\u001b[0;32m      8\u001b[0m         \u001b[1;31m# decode() is necessary to get rid of the binary string (b')\u001b[0m\u001b[1;33m\u001b[0m\u001b[1;33m\u001b[0m\u001b[1;33m\u001b[0m\u001b[0m\n\u001b[0;32m      9\u001b[0m         \u001b[1;31m# rstrip() to remove `\\r\\n`\u001b[0m\u001b[1;33m\u001b[0m\u001b[1;33m\u001b[0m\u001b[1;33m\u001b[0m\u001b[0m\n\u001b[1;32m---> 10\u001b[1;33m         \u001b[0mlista_procesos\u001b[0m\u001b[1;33m.\u001b[0m\u001b[0mappend\u001b[0m\u001b[1;33m(\u001b[0m\u001b[0mline\u001b[0m\u001b[1;33m.\u001b[0m\u001b[0mdecode\u001b[0m\u001b[1;33m(\u001b[0m\u001b[1;33m)\u001b[0m\u001b[1;33m.\u001b[0m\u001b[0mrstrip\u001b[0m\u001b[1;33m(\u001b[0m\u001b[1;33m)\u001b[0m\u001b[1;33m)\u001b[0m\u001b[1;33m\u001b[0m\u001b[1;33m\u001b[0m\u001b[0m\n\u001b[0m",
      "\u001b[1;31mUnicodeDecodeError\u001b[0m: 'utf-8' codec can't decode byte 0xf3 in position 11: invalid continuation byte"
     ]
    }
   ],
   "source": [
    "import subprocess\n",
    "lista_procesos = []\n",
    "cmd = 'powershell \"gps | where {$_.MainWindowTitle } | select Description, id'\n",
    "proc = subprocess.Popen(cmd, shell=True, stdout=subprocess.PIPE)\n",
    "for line in proc.stdout:\n",
    "    if line.rstrip():\n",
    "        # only print lines that are not empty\n",
    "        # decode() is necessary to get rid of the binary string (b')\n",
    "        # rstrip() to remove `\\r\\n`\n",
    "        lista_procesos.append(line.decode().rstrip())"
   ]
  },
  {
   "cell_type": "code",
   "execution_count": null,
   "metadata": {},
   "outputs": [],
   "source": []
  },
  {
   "cell_type": "code",
   "execution_count": null,
   "metadata": {},
   "outputs": [],
   "source": [
    "from IPython.display import display_html\n",
    "def restartkernel() :\n",
    "    display_html(\"<script>Jupyter.notebook.kernel.restart()</script>\",raw=True)"
   ]
  },
  {
   "cell_type": "code",
   "execution_count": 2,
   "metadata": {},
   "outputs": [
    {
     "data": {
      "text/html": [
       "<style>.container { width:100% !important; }</style>"
      ],
      "text/plain": [
       "<IPython.core.display.HTML object>"
      ]
     },
     "metadata": {},
     "output_type": "display_data"
    }
   ],
   "source": [
    "from IPython.core.display import display, HTML\n",
    "display(HTML(\"<style>.container { width:100% !important; }</style>\"))\n",
    "from selenium import webdriver\n",
    "from selenium.webdriver.support.ui import WebDriverWait\n",
    "from selenium.webdriver.common.by import By\n",
    "from selenium.webdriver.support import expected_conditions as EC\n",
    "from selenium.webdriver.chrome.options import Options\n",
    "from bs4 import BeautifulSoup\n",
    "import pandas as pd\n",
    "import requests\n",
    "from time import strftime\n",
    "import datetime\n",
    "import time\n",
    "from pandas import ExcelWriter\n",
    "import re\n",
    "import pyodbc\n",
    "import asyncio\n",
    "from selenium.webdriver.common.action_chains import ActionChains\n",
    "import numpy as np\n",
    "import pdb\n",
    "#pdb.set_trace()\n",
    "from ipywidgets import IntProgress\n",
    "from IPython.display import display\n",
    "import os\n",
    "from selenium.webdriver.support import expected_conditions\n",
    "from selenium.common.exceptions import WebDriverException\n",
    "from IPython.display import clear_output\n",
    "\n",
    "from selenium.webdriver.common.keys import Keys\n",
    "from IPython.display import clear_output"
   ]
  },
  {
   "cell_type": "code",
   "execution_count": 17,
   "metadata": {},
   "outputs": [],
   "source": [
    "TIEMPO_DE_ESPERA = 5.5\n",
    "\n",
    "start_ = datetime.datetime.now()\n",
    "fecha = datetime.date.today()\n",
    "hoy = fecha.strftime('%Y/%m/%d')\n",
    "\n",
    "def createDriver():\n",
    "    user_agent = 'Mozilla/5.0 (X11; Linux x86_64) AppleWebKit/537.36 (KHTML, like Gecko) Chrome/60.0.3112.50 Safari/537.36'\n",
    "\n",
    "    chrome_options = Options()\n",
    "    chrome_options.add_argument(\"--headless\")\n",
    "    chrome_options.add_argument(\"--no-sandbox\")\n",
    "    chrome_options.add_argument(f'user-agent={user_agent}')\n",
    "    chrome_options.add_argument(\"--window-size=1625x2444\")\n",
    "    # options.headless = True\n",
    "    return webdriver.Chrome(options = chrome_options)"
   ]
  },
  {
   "cell_type": "code",
   "execution_count": 18,
   "metadata": {},
   "outputs": [],
   "source": [
    "url_base = \"http://localhost:8888/tree/Practica_python/Script%20Relevamiento%20excel\""
   ]
  },
  {
   "cell_type": "code",
   "execution_count": 19,
   "metadata": {},
   "outputs": [],
   "source": [
    "try:\n",
    "    browser.quit()\n",
    "except:\n",
    "    pass\n",
    "browser = createDriver()\n",
    "browser.get(url_base)"
   ]
  },
  {
   "cell_type": "code",
   "execution_count": 20,
   "metadata": {},
   "outputs": [
    {
     "data": {
      "text/plain": [
       "True"
      ]
     },
     "execution_count": 20,
     "metadata": {},
     "output_type": "execute_result"
    }
   ],
   "source": [
    "browser.save_screenshot(\"asd.png\")"
   ]
  },
  {
   "cell_type": "code",
   "execution_count": null,
   "metadata": {},
   "outputs": [],
   "source": []
  },
  {
   "cell_type": "code",
   "execution_count": null,
   "metadata": {},
   "outputs": [],
   "source": []
  },
  {
   "cell_type": "code",
   "execution_count": null,
   "metadata": {},
   "outputs": [],
   "source": []
  },
  {
   "cell_type": "code",
   "execution_count": null,
   "metadata": {},
   "outputs": [],
   "source": []
  },
  {
   "cell_type": "code",
   "execution_count": 4,
   "metadata": {},
   "outputs": [],
   "source": [
    "#    print(ESCOPETAZO)\n",
    "cmd = 'powershell \"gps | where {$_.MainWindowTitle } | select Description, id'\n",
    "#abrimos la consola y ejecutamos CMD    \n",
    "proc = subprocess.Popen(cmd, shell=True, stdout=subprocess.PIPE)"
   ]
  },
  {
   "cell_type": "code",
   "execution_count": 5,
   "metadata": {},
   "outputs": [
    {
     "name": "stdout",
     "output_type": "stream",
     "text": [
      "b'\\r\\n'\n",
      "b'Description                                                           Id\\r\\n'\n",
      "b'-----------                                                           --\\r\\n'\n",
      "b'Application Frame Host                                              4424\\r\\n'\n",
      "b'Calculator.exe                                                      2460\\r\\n'\n",
      "b'Google Chrome                                                        776\\r\\n'\n",
      "b'Microsoft Office Excel                                             10040\\r\\n'\n",
      "b'Microsoft Edge                                                      8340\\r\\n'\n",
      "b'Microsoft Edge Content Process                                      4640\\r\\n'\n",
      "b'Bloc de notas                                                       1336\\r\\n'\n",
      "b'Python                                                              9304\\r\\n'\n",
      "b'Configuraci\\xf3n                                                       9744\\r\\n'\n",
      "b'Administrador de tareas                                             6888\\r\\n'\n",
      "b'Thunderbird                                                         6536\\r\\n'\n",
      "b'WindowsInternal.ComposableShell.Experiences.TextInput.InputApp.exe  3128\\r\\n'\n",
      "b'Store                                                               1548\\r\\n'\n",
      "b'\\r\\n'\n",
      "b'\\r\\n'\n"
     ]
    }
   ],
   "source": [
    "for line in proc.stdout:\n",
    "    print(line)"
   ]
  },
  {
   "cell_type": "code",
   "execution_count": 14,
   "metadata": {},
   "outputs": [
    {
     "ename": "AttributeError",
     "evalue": "'str' object has no attribute 'decode'",
     "output_type": "error",
     "traceback": [
      "\u001b[1;31m---------------------------------------------------------------------------\u001b[0m",
      "\u001b[1;31mAttributeError\u001b[0m                            Traceback (most recent call last)",
      "\u001b[1;32m<ipython-input-14-85304b0fa0a5>\u001b[0m in \u001b[0;36m<module>\u001b[1;34m\u001b[0m\n\u001b[0;32m      7\u001b[0m \u001b[1;32mfor\u001b[0m \u001b[0mline\u001b[0m \u001b[1;32min\u001b[0m \u001b[0mproc\u001b[0m\u001b[1;33m.\u001b[0m\u001b[0mstdout\u001b[0m\u001b[1;33m:\u001b[0m\u001b[1;33m\u001b[0m\u001b[1;33m\u001b[0m\u001b[0m\n\u001b[0;32m      8\u001b[0m     \u001b[1;31m#Como devuelve Bytes, lo codificamos a str. y buscamos el proceso 'Excel'.\u001b[0m\u001b[1;33m\u001b[0m\u001b[1;33m\u001b[0m\u001b[1;33m\u001b[0m\u001b[0m\n\u001b[1;32m----> 9\u001b[1;33m     \u001b[1;32mif\u001b[0m \u001b[0mline\u001b[0m\u001b[1;33m.\u001b[0m\u001b[0mdecode\u001b[0m\u001b[1;33m(\u001b[0m\u001b[1;33m)\u001b[0m\u001b[1;33m.\u001b[0m\u001b[0mfind\u001b[0m\u001b[1;33m(\u001b[0m\u001b[1;34m'Excel'\u001b[0m\u001b[1;33m)\u001b[0m \u001b[1;33m!=\u001b[0m \u001b[1;33m-\u001b[0m\u001b[1;36m1\u001b[0m\u001b[1;33m:\u001b[0m\u001b[1;33m\u001b[0m\u001b[1;33m\u001b[0m\u001b[0m\n\u001b[0m\u001b[0;32m     10\u001b[0m         \u001b[1;31m#Si lo encuentra significa que es el candidato a morir,\u001b[0m\u001b[1;33m\u001b[0m\u001b[1;33m\u001b[0m\u001b[1;33m\u001b[0m\u001b[0m\n\u001b[0;32m     11\u001b[0m         \u001b[1;31m#Entonces tomamos la linea y hacemos un split() para obtener el ultimo registro.\u001b[0m\u001b[1;33m\u001b[0m\u001b[1;33m\u001b[0m\u001b[1;33m\u001b[0m\u001b[0m\n",
      "\u001b[1;31mAttributeError\u001b[0m: 'str' object has no attribute 'decode'"
     ]
    }
   ],
   "source": []
  },
  {
   "cell_type": "code",
   "execution_count": 1,
   "metadata": {},
   "outputs": [
    {
     "ename": "NameError",
     "evalue": "name 'subprocess' is not defined",
     "output_type": "error",
     "traceback": [
      "\u001b[1;31m---------------------------------------------------------------------------\u001b[0m",
      "\u001b[1;31mNameError\u001b[0m                                 Traceback (most recent call last)",
      "\u001b[1;32m<ipython-input-1-6c030a605e4d>\u001b[0m in \u001b[0;36m<module>\u001b[1;34m\u001b[0m\n\u001b[0;32m      1\u001b[0m \u001b[0mcmd\u001b[0m \u001b[1;33m=\u001b[0m \u001b[1;34m'powershell \"gps | where {$_.MainWindowTitle } | select Description, id'\u001b[0m\u001b[1;33m\u001b[0m\u001b[1;33m\u001b[0m\u001b[0m\n\u001b[1;32m----> 2\u001b[1;33m \u001b[0mproc\u001b[0m \u001b[1;33m=\u001b[0m \u001b[0msubprocess\u001b[0m\u001b[1;33m.\u001b[0m\u001b[0mPopen\u001b[0m\u001b[1;33m(\u001b[0m\u001b[0mcmd\u001b[0m\u001b[1;33m,\u001b[0m \u001b[0mshell\u001b[0m\u001b[1;33m=\u001b[0m\u001b[1;32mTrue\u001b[0m\u001b[1;33m,\u001b[0m\u001b[0mstdout\u001b[0m\u001b[1;33m=\u001b[0m\u001b[0msubprocess\u001b[0m\u001b[1;33m.\u001b[0m\u001b[0mPIPE\u001b[0m\u001b[1;33m)\u001b[0m\u001b[1;33m\u001b[0m\u001b[1;33m\u001b[0m\u001b[0m\n\u001b[0m\u001b[0;32m      3\u001b[0m \u001b[1;32mfor\u001b[0m \u001b[0mline\u001b[0m \u001b[1;32min\u001b[0m \u001b[0mproc\u001b[0m\u001b[1;33m.\u001b[0m\u001b[0mstdout\u001b[0m\u001b[1;33m:\u001b[0m\u001b[1;33m\u001b[0m\u001b[1;33m\u001b[0m\u001b[0m\n\u001b[0;32m      4\u001b[0m \u001b[1;33m\u001b[0m\u001b[0m\n\u001b[0;32m      5\u001b[0m     \u001b[0mprint\u001b[0m\u001b[1;33m(\u001b[0m\u001b[0mline\u001b[0m\u001b[1;33m)\u001b[0m\u001b[1;33m\u001b[0m\u001b[1;33m\u001b[0m\u001b[0m\n",
      "\u001b[1;31mNameError\u001b[0m: name 'subprocess' is not defined"
     ]
    }
   ],
   "source": [
    "cmd = 'powershell \"gps | where {$_.MainWindowTitle } | select Description, id'\n",
    "proc = subprocess.Popen(cmd, shell=True,stdout=subprocess.PIPE)\n",
    "for line in proc.stdout:\n",
    "\n",
    "    print(line)\n",
    "    if line.decode(errors='ignore').find('Bloc de notas') != -1:\n",
    "\n",
    "        candidato = line.decode().split()[-1]\n",
    "        #os.kill(int(candidato), signal.SIGTERM)"
   ]
  },
  {
   "cell_type": "code",
   "execution_count": 10,
   "metadata": {},
   "outputs": [
    {
     "ename": "UnicodeDecodeError",
     "evalue": "'utf-8' codec can't decode byte 0xf3 in position 11: invalid continuation byte",
     "output_type": "error",
     "traceback": [
      "\u001b[1;31m---------------------------------------------------------------------------\u001b[0m",
      "\u001b[1;31mUnicodeDecodeError\u001b[0m                        Traceback (most recent call last)",
      "\u001b[1;32m<ipython-input-10-2bc7994c0024>\u001b[0m in \u001b[0;36m<module>\u001b[1;34m\u001b[0m\n\u001b[1;32m----> 1\u001b[1;33m \u001b[0mline\u001b[0m\u001b[1;33m.\u001b[0m\u001b[0mdecode\u001b[0m\u001b[1;33m(\u001b[0m\u001b[1;34m\"utf-8\"\u001b[0m\u001b[1;33m)\u001b[0m\u001b[1;33m\u001b[0m\u001b[1;33m\u001b[0m\u001b[0m\n\u001b[0m",
      "\u001b[1;31mUnicodeDecodeError\u001b[0m: 'utf-8' codec can't decode byte 0xf3 in position 11: invalid continuation byte"
     ]
    }
   ],
   "source": [
    "line.decode(\"utf-8\") "
   ]
  },
  {
   "cell_type": "code",
   "execution_count": 28,
   "metadata": {},
   "outputs": [
    {
     "ename": "NameError",
     "evalue": "name 'unicodedata' is not defined",
     "output_type": "error",
     "traceback": [
      "\u001b[1;31m---------------------------------------------------------------------------\u001b[0m",
      "\u001b[1;31mNameError\u001b[0m                                 Traceback (most recent call last)",
      "\u001b[1;32m<ipython-input-28-fa282172634c>\u001b[0m in \u001b[0;36m<module>\u001b[1;34m\u001b[0m\n\u001b[1;32m----> 1\u001b[1;33m \u001b[0municodedata\u001b[0m\u001b[1;33m.\u001b[0m\u001b[0mnormalize\u001b[0m\u001b[1;33m(\u001b[0m\u001b[1;34m\"NFC\"\u001b[0m\u001b[1;33m,\u001b[0m\u001b[0mline\u001b[0m\u001b[1;33m.\u001b[0m\u001b[0mdecode\u001b[0m\u001b[1;33m(\u001b[0m\u001b[0mencoding\u001b[0m\u001b[1;33m=\u001b[0m\u001b[1;34m'latin-1'\u001b[0m\u001b[1;33m)\u001b[0m\u001b[1;33m)\u001b[0m\u001b[1;33m\u001b[0m\u001b[1;33m\u001b[0m\u001b[0m\n\u001b[0m",
      "\u001b[1;31mNameError\u001b[0m: name 'unicodedata' is not defined"
     ]
    }
   ],
   "source": [
    "\n",
    "unicodedata.normalize(\"NFC\",line.decode(encoding='latin-1'))"
   ]
  },
  {
   "cell_type": "code",
   "execution_count": 52,
   "metadata": {},
   "outputs": [
    {
     "data": {
      "text/plain": [
       "'9744'"
      ]
     },
     "execution_count": 52,
     "metadata": {},
     "output_type": "execute_result"
    }
   ],
   "source": [
    "line.decode(encoding='latin-1').split()[-1]"
   ]
  },
  {
   "cell_type": "code",
   "execution_count": null,
   "metadata": {},
   "outputs": [],
   "source": [
    "line.decode()"
   ]
  },
  {
   "cell_type": "code",
   "execution_count": 11,
   "metadata": {},
   "outputs": [
    {
     "data": {
      "text/plain": [
       "'�'"
      ]
     },
     "execution_count": 11,
     "metadata": {},
     "output_type": "execute_result"
    }
   ],
   "source": [
    "'Configuraci�n'[11]"
   ]
  },
  {
   "cell_type": "code",
   "execution_count": null,
   "metadata": {},
   "outputs": [],
   "source": [
    "#    print(ESCOPETAZO)\n",
    "start = datetime.datetime.today()\n",
    "cmd = 'powershell \"gps | where {$_.MainWindowTitle } | select Description, id'\n",
    "#abrimos la consola y ejecutamos CMD    \n",
    "proc = subprocess.Popen(cmd, shell=True, stdout=subprocess.PIPE,errors='ignore')\n",
    "#Iteramos el resultado de la consola.\n",
    "for line in proc.stdout:\n",
    "    #Como devuelve Bytes, lo codificamos a str. y buscamos el proceso 'Excel'.\n",
    "    if line.decode().find('Excel') != -1:\n",
    "        #Si lo encuentra significa que es el candidato a morir,\n",
    "        #Entonces tomamos la linea y hacemos un split() para obtener el ultimo registro.\n",
    "        #Lo hacemos porque un ejemplo de output puede ser:\n",
    "        #'Microsoft Office Excel                                                3512'\n",
    "        #Entonces nos aseguramos que [-1] Siempre va a ser el id si lo cortamos por espacios en blanco.\n",
    "        candidato = line.decode().split()[-1]\n",
    "        #Ejecuta la función kill de sistema operativo, con el id del candidato a matar, con la signal.SIGTERM.\n",
    "        os.kill(int(candidato), signal.SIGTERM)\n",
    "        \n",
    "end = datetime.datetime.today()\n",
    "\n",
    "tiempo_final = end-start\n",
    "f = open ('end_killer','wb')\n",
    "f.write(f'Tiempo de ejecución {tiempo_final}')\n",
    "f.close()"
   ]
  },
  {
   "cell_type": "code",
   "execution_count": null,
   "metadata": {},
   "outputs": [],
   "source": []
  },
  {
   "cell_type": "code",
   "execution_count": null,
   "metadata": {},
   "outputs": [],
   "source": []
  },
  {
   "cell_type": "code",
   "execution_count": 23,
   "metadata": {},
   "outputs": [],
   "source": [
    "start = datetime.datetime.today()\n",
    "#    print(ESCOPETAZO)\n",
    "cmd = 'powershell \"gps | where {$_.MainWindowTitle } | select Description, id'\n",
    "#abrimos la consola y ejecutamos CMD    \n",
    "proc = subprocess.Popen(cmd, shell=True, stdout=subprocess.PIPE)\n",
    "#Iteramos el resultado de la consola.\n",
    "for line in proc.stdout:\n",
    "    #Como devuelve Bytes, lo codificamos a str. y buscamos el proceso 'Excel'.\n",
    "    if line.decode(errors='ignore').find('Excel') != -1: # Linea (errors='ignore')\n",
    "        #Si lo encuentra significa que es el candidato a morir,\n",
    "        #Entonces tomamos la linea y hacemos un split() para obtener el ultimo registro.\n",
    "        #Lo hacemos porque un ejemplo de output puede ser:\n",
    "        #'Microsoft Office Excel                                                3512'\n",
    "        #Entonces nos aseguramos que [-1] Siempre va a ser el id si lo cortamos por espacios en blanco.\n",
    "        candidato = line.decode().split()[-1]\n",
    "        #Ejecuta la función kill de sistema operativo, con el id del candidato a matar, con la signal.SIGTERM.\n",
    "        os.kill(int(candidato), signal.SIGTERM)\n",
    "end = datetime.datetime.today()\n",
    "\n",
    "tiempo_final = end-start\n",
    "file1 = open(\"end_killer\",\"w\")#write mode \n",
    "file1.write(f\"Tiempo de ejecucion: {tiempo_final} \\n\") \n",
    "file1.close()\n",
    "#↓↓↓"
   ]
  }
 ],
 "metadata": {
  "kernelspec": {
   "display_name": "Python 3",
   "language": "python",
   "name": "python3"
  },
  "language_info": {
   "codemirror_mode": {
    "name": "ipython",
    "version": 3
   },
   "file_extension": ".py",
   "mimetype": "text/x-python",
   "name": "python",
   "nbconvert_exporter": "python",
   "pygments_lexer": "ipython3",
   "version": "3.7.4"
  }
 },
 "nbformat": 4,
 "nbformat_minor": 2
}
