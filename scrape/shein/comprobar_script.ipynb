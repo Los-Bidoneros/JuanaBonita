{
 "cells": [
  {
   "cell_type": "code",
   "execution_count": 1,
   "metadata": {},
   "outputs": [],
   "source": [
    "import pandas as pd\n",
    "import os\n",
    "import datetime\n",
    "import calendar"
   ]
  },
  {
   "cell_type": "code",
   "execution_count": 1,
   "metadata": {},
   "outputs": [],
   "source": [
    "import holidays"
   ]
  },
  {
   "cell_type": "code",
   "execution_count": 8,
   "metadata": {},
   "outputs": [
    {
     "data": {
      "text/plain": [
       "'                                                                                                                     ``i@n*`   \\n                                                                                                                     +MWMMW+   \\n                                                                                                                    .WMMMMMM.  \\n                                                                                                                    iWMMMMMWz  \\n                                     ``....,..``                                                                    zMMMMMMWM` \\n                            `;,```,*#MMWWWWWWWMx#*,                                                                 MMMMMMMWW; \\n                           `z@@+xM@WMnn+*;*#*#+xM@Wn:                                                              `MMMMMMMWWz \\n                          `z@WWWz*;`       .,,,,,;+n@xi`                                                           `MMMMMMMWWM`\\n                         ,xMMx.`             `.,,,,,;#MM;`                                                          MMMMMMMWWW.\\n                       `;Wz`i.                 `.,,,,,,*Mz`                                                         MMMMMMMWW@,\\n                      `#Wi`                      `,,,,,,:zz.                                                       `MMMMMMMWW@;\\n                     :Mx,                         `,,,,,,;zxz+*:.`                                                 `WMMMMMMWW@i\\n                   `+@*`                           `,,:+M@WWWW@@Wn,                                                ,@MMMMMMWW@+\\n                  ,Mx,                              `*WWMMMMMWWWWWW:                                              `*@MMMMMMWWW#\\n                 ;W#`                              `+WMMMMMMMMMMWWWM.                                           .in@MMMMMMMWWW#\\n                ;M;                               `nWMMMMMMMMMMMMWWW+                                         .+WWMMMMMWWMWWW@#\\n               *M.                               `xMMMMMMMMMMMMMMMWWx`                                     `:zWMMMMMMMMMWWWWWW+\\n              ;x.              ,                `xMMMMMMMMWWWWWWMMMWW`                                   `ixWMMMMMMMMMMMWWWWW@i\\n             :x,              +#i`             `nMMMMMMMWWWWWWWWWMMWW,                                 .*xMMMMMMMMMMMMMWWWWWWx`\\n            .M,             `.M##z             +WMMMMMWWMMMMMMMMMMMWW,                               .zWWMMMMMMMMMMMMMWWWWW@W, \\n            #:              #W#@*`            :WMMMMMMMMMMMMMMMMMMMWM`                            `inWMMMMMMMMMMMMMMMWWWWWWW:  \\n           ;+              `W#n``             *MMMMMMMMMMMMMMMMMMMMWz                           `ixWMMMMMMMMMMMMMMMWWWWWW@M,   \\n          .n`              n#W,               ,WW@W@WMMMMMMMMMMMMMMW+                         ,*xWMMMMMMMMMMMMMMMMWWWWWW@n.    \\n          *,              .@i                  .```:+MWWMMMMMMMMMMW@:                      `:zWWMMMMMMMMMMMMMMMMMWWWWWW@#`     \\n         .n`              `;                         `,#MWWMWMMMMM@W`                   `,#MWMMMMMMMMMMMMMMMMMMWWWWWWWM;`      \\n         n;                                             `:inxxWWWW#x`              `.:*zxWMMMMMMMMMMMMMMMMMMMMWWWWWWWn.        \\n        .z                                                 .,,,,,,,M,         `.+#zMWWWMMMMMMMMMMMMMMMMMMMMMMWWWWW@Wi`         \\n        ;+                                                 .,,,,,,,xi     `;+#xMWMMMMMMMMMMMMMMMMMMMMMMMMMMWWWWWWW+,           \\n        #i,,,`                                             `,,,,,,,n*    `;WMMMMMMMMMMMMMMMMMMMMMMMMMMMMMWWWWWWWx:             \\n      ,#WWWMWMz;`                                           ,,,,,,,M* `;zxWMMMMMMMMMMMMMMMMMMMMMMMMMMMMWWWWWWWWn`              \\n    `#@WWMMMMMMMn#.                                         ,,,,,,,W+#xWMMMMMMMMMMMMMMMMMMMMMMMMMMMMMWWWWWWWWM,`               \\n   ,M@WMMMMMMMMMMxM.                                        ,,,,,,;@@WMMMMMMMMMMMMMMMMMMMMMMMMMMMMMWWWWWWWWW+`                 \\n  :M@MMMMMMMMMMMMMM*                                        ,,,,,,*@WWWMMMMMMMMMMMMMMMMMMMMMMMMMMWWWWWWWWWM;                   \\n `WWMMMMMMMMMMMMMMx+                                        .,,,,,+WWWWMMMMMMMMMMMMMMMMMMMMMMMMWWWWWWWWW@z.                    \\n`n@MMMMMMMMMMMMMMMM;                                        `,,,,,+WWWWWMMMMMMMMMMMMMMMMMMMMMMWWWWWWWWWW*`                     \\n;@WMMMMMMMWWMMMMMxz                                         `,,,,,+WWWWWMMMMMMMMMMMMMMMMMMMMWWWWWWWWW@M;                       \\nz@WMMMMMWWWMMMMMMM,                                         `,,,,,nWWWWWMMMMMMMMMMMMMMMMMWWWWWWWWWWWWx.                        \\nWWWMMMMWWWMMMMMMx#                                          `,,,,,MWWWWWMMMMMMMMMMMMMMMWWWWWWWWWWWW@n`                         \\n@WWMMMWWWMMMMMMMn`                                          `,,,,:WWWWWWWMMMMMMMMMMMMWWWWWWWWWWWWWMn.                          \\n@WWMMMWWMMMMMMMM*                                           .,,,,+@WWWWWWMMMMMMMMMMWWWWWWWWWWWWWWx.`                           \\nMWWMMWWMMMMMMMMM*                                           ,,,,,#WWWWWWWMMMMMMMWWWWWWWWWWWWWWW@@;                             \\n#WWMMWMMMMMMMMMM:                                          `,,,,,nWWWWWWWMMMMMWWWWWWWWWWWWWWWMx*+`                             \\n+WWMMMMMMMMMMMMM,                             `i+nMMn*.    .,,,,:@WWWWWWWMMWWWWWWWWWWWWWWW@xi``                                \\n.MWMMMMMMMMMMMMx                             ,MWMMMMMWW+`  ,,,,,:@WWWWWWWWWWWWWWWWWWWWWW@M*`                                   \\n iMWMMMMMMMMMMM#                            :WMMMMMMMMMWz`.,,,,,+@WWWWWWWWWWWWWWWWWWWWWW+`                                     \\n  zMWWMMMMMMMMM,                           `xMMMMMMMMMMMWx:,,,,,nWWWMMMMMWWWWWWWWWWWW@z,                                       \\n  `*MMMWWWWWWM#                            :WMMMMMMMMMMMMWx:,:+xWMMMMMMMMMWWWWWWWWW@M;`                                        \\n    `i#xMMMMMM.                            +MMMMMWWMMMMMMMWnzWWMMMMMMMMMMWWWWWWWWWW+`                                          \\n       ``..`.x`               `.`          xMMMMWWWMMMMMMMMWWMMMMMMMMMMMWWWWWWWW@x,                                            \\n             z+             .zMWWMz:      `MMMMMMMMMMMMMMMMMMMMMMMMMMMMWWWWWWWWW*`                                             \\n             :@.           :MMMMMMMW+`     #MWWWWWMMMMMMMMMMMMMMMMMMMMWWWWWWWWWW.                                              \\n              n*          ,WMMMMMMMMWx`     `,;;in@MMMMMMMMMMMMMMMMMMWWWWWWWWWW@i                                              \\n              ,W:        .WMMMMMMMMMWM`      `,#WWMMMMMMMMMMMMMMMMMWWWWWWWWWWWWWx`                                             \\n               nM        zMMMMMMMMMMWi`     `+MMMMMMMMMMMMMMMMMMMMWWWWWWWWWWWWWWW.                                             \\n               ,W#      ,WMMMMMWWWMWn,     :xWMMMMMMMMMMMMMMMMMMWWW#xWWWWWWWWWWW@:                                             \\n                i@#     nMMMMMMMMMMM:`   :zWMMMMMMMMMMMMMMMMMMMWWW# :@WWWWWWWWWWW;                                             \\n                `*@z`   WMMMMMMMMMWi,,``zWMMMMMMMMMMMMMMMMMMMMWWWx`  nWWWWWWWWWW@;                                             \\n                 `zWM#:`MMMMMMMMMW+,,;#MMMMMMMMMMMMMMMMMMMMMMWWWx`   .WWWWWWWWWW@;                                             \\n                 `MMMMWWWMMMMMMMW#,:#WWMMMMMMMMMMMMMMMMMMMMMWWWW,     ;WWWWWWWWW@i                                             \\n                 .WMMMMWWWWMMMM@#:*MWMMMMMMMMMMMMMMMMMMMMMMWWWW,       iWWWWWW@@n+`                                            \\n                 :@MMMMMMMMW@@WWMWWMMMMMMMMMMMMMMMMMMMMMMMWWWM,         ,zW@@@*;:M:                                            \\n                 ;WMMMMMMMMMMMMMMMMMMMMMMMMMMMMMMMMMMMMMMWWWM:            .;;:,,,+#                                            \\n                 *WMMMMMMMMMMMMMMMMMMMMMMMMMMMMMMMMMMMMMWWWM,             `,,,,,,:M.                                           \\n                 +WMMMMMMMMMMMMMMMMMMMMMMMMMMMMMMMMMMMMWWWM:               .,,,,,,z*                                           \\n                 :WMMMMMMMMMMMMMMMMMMMMMMMMMMMMMMMMMMMWWWW;                `,,,,,,;M`                                          \\n                 `xMMMMMMMMMMMMMMMMMMMMMMMMMMMMMMMMMWWWWW,                  ,,,,,,,#+                                          \\n                  *WMMMMMMMMMMMMMMMMMMMMMMMMMMMMMMMWWWWW;                   .,,,,,,:M.                                         \\n                  .WMMMMMMMMMMMMMMMMMMMMMMMMMMMMMMWWWW@;                    `,,,,,,,#i                                         \\n                   +WMMMMMMMMMMMMMMMMMMMMMMMMMMMMWWWWW*                      ,,,,,,,in                                         \\n                   .MWMMMMMMMMMMMMMMMMMMMMMMMMMMWWWWWi                       .,,,,,,:M`                                        \\n                    iWMMMMMMMMMMMMMMMMMMMMMMMMMWWWWW;                        `,,,,,,,n:                                        \\n                    `nWMMMMMMMMMMMMMMMMMMMMMMWWWWWW;                          ,,,,,,,*z                                        \\n                     .WWMMMMMMMMMMMMMMMMMMMMWWWWWM,                  ```      .,,,,,,:M                                        \\n                      :WWMMMMMMMMMMMMMMMMMWWnzzz+`             ``  ````` `    .,:,,,,,x:                                       \\n                       :WWMMMMMMMMMMMMMWWWWWnMMi `````` ``` `````````   ````` `,:,,:,,+z                                       \\n                        nWWMMMMMMMMMMWWWWWWWn+,.`````````````````````.`````````,:,:,:,,M.                                      \\n                        x@W@WWMMWWWWWWWWWW@W;`   ` `````` `.`  `` .   ```` ````.:,,,,,,zi                                      \\n                        nz.#@@WWWWWWWWWW@M+.``   ` `````` ``````` ``````````````:,,,,,,+#                                      \\n                        x+ `;i@@WWWW@@Wx*`  `    `  ``` ` ` ````  `````  `` ````,,,,,,,:M                                      \\n                        M+    :*zxx#i:.                                    ```` .,,,,,,:W.                                     \\n                        n#                                                      .,,,,,,,z;                                     \\n                        *#                                                      `,,,,,,,+#                                     \\n                        :M                                                       ,,,,,,,;M                                     \\n                        `M`                                                     `,,,,,,,:W.                                    \\n                        `M`                                                     ,,,,,,,,,x;                                    \\n                        `W.                                                    `,,,,,,,,,##                                    \\n                         xi                                                    ,,,,,,,,,,;x                                    \\n                         #*                                                   .,,`,,,,,,,,@.                                   \\n                         #*                                                  `,,  ,,,,,,,;@:                                   \\n                         *#`                                                 ,,`  .,,,,,#WW;                                   \\n                         .M`                                                .,`   .,,,,+WWW#`                                  \\n                         `M.                                               .,`    `,,,*WWWWM;                                  \\n                          x;                                              `,`     `,,;WWWWWWz.                                 \\n                          n*`                                            `.`      `,,nWWWWWWM:                                 \\n                          :x.                                            .        `,iWWWWWWWW#.                                \\n                           x;                                                      :MWWWWWWWWM:                                \\n                           ;n`                                                    .#WWWWWWWWWW#`                               \\n                           .W,                                                   `*MMWWWWWWWWWM;                               \\n                            ni                                                   ,xMMWWWWWWWWWW#`                              \\n                            #+`                                                 ,nMMMMWWWWWWWWWx:                              \\n                           `*n.                                                `zMMMMMWWWWWWWWWW#`                             \\n                           ,nM*`                                              `+MMMMMMMWWWWWWWWWx:                             \\n                           *MMz.                                             `iWMMMMMMMMWWWWWWWWW+`                            \\n                          ,zMMM*`                                           `iMMMMMMMMMMWWWWWWWWWx,                            \\n                         `+MMMMx,                                          `;MMMMMMMMMMMMWWWWWWWWWi                            \\n                         :xMMMMMz.                                        `;MMMMMMMMMMMMMWWWWWWWWWz.                           \\n                        `#MMMMMMM#.                                      `iMMMMMMMMMMMMMMMWWWWWWWW#.                           \\n                        iMMMMMMMMM#`                                    .+WMMMMMMMMMMMMMMMWWWWWWWWz.                           \\n                       .nMMMMMMMMMMn:`                                `,nWMMMMMMMMMMMMMMMMMWWWWWWWW*`                          \\n                       *MMMMMMMMMMMMxi.`                 ``         `.+MWMMMMMMMMMMMMMMMMMMMWWWWWWWn:                          \\n                      .xMMMMMMMMMMMMMMn*,`            `.,,,,.```  `.+xWMMMMMMMMMMMMMMMMMMMMMWWWWWWWx,                          \\n                      *MMMMMMMMMMMMMMMMWM+:.``     `.,,,,,,,,,,,,;#xWWMMMMMMMMMMMMMMMMMMMMMMMWWWWWWn;                          \\n                     .xMMMMMMMMMMMMMMMMMMMWMn+i:,.,,,,,,,,,::;*zMWWWWWWWMMMMMMMMMMMMMMMMMMMMMWWWWWWz.                          \\n                     +MMMMMMMMMMMMMMMMMMMMMMMWWWMn#+***#znxMMWWWWWWWWWWWWWWMMMMMMMMMMMMMMMMMMMWWWWWW*`                         \\n                    ,MMMMMMMMMMMMMMMMMMMMMMMWWWWWWWWWWWx#+**i**+znMWWWWWWWWWMMMMMMMMMMMMMMMMMMWWWWWM;                          \\n                   `#MMMMMMMMMMMMMMMMMMMMMWWWWWWWWWWM#;,`      ``.:+nMWWWWWWWWMMMMMMMMMMMMMMMMMWWWWW;                          \\n                   :xMMMMMMMMMMMMMMMMMMMMWWWWWWWWWM#:`              .:+xWWWWWWWMMMMMMMMMMMMMMMMMWWWWi                          \\n                  `#MMMMMMMMMMMMMMMMMMMWWWWWWWWWWz:`                  `,izMWWWWWMMMMMMMMMMMMMMMMWWWW+                          \\n                  :MMMMMMMMMMMMMMMMMMMWWWWWWWWWx;.                       `;nWWWWWMMMMMMMMMMMMMMMWWWWz.                         \\n                  ;xMMMMMMMMMMMMMMMMMWWWWWWWWW+.                           .izWWWWMMMMMMMMMMMMMMWWWWx.                         \\n                  +MMMMMMMMMMMMMMMMMWWWWWWWWx;`                              .+MWWWWMMMMMMMMMMMMMWWWW:                         \\n                  ;MMMMMMMMMMMMMMMMWWWWWWWWn,                                 `;nWWWWMMMMMMMMMMMMWWWW*                         \\n                  #MMMMMMMMMMMMMMMWWWWWWWW#.                                    :zWWWWMMMMMMMMMMMWWWW+                         \\n                  :zMMMMMMMMMMMMMWWWWWWWM*`                                      ,zWWWWMMMMMMMMMMWWWW+                         \\n                   +MMMMMMMMMMMWWWWWWWWM;                                         :nWWWWMMMMMMMMMWWWW*                         \\n                   iMMMMMMMMMMMWWWWWWWx;                                          `iMWWWMMMMMMMMMWWWWi                         \\n                   :xMMMMMMMMMMWWWWWWM:                                            `#WWWMMMMMMMMMWWWW;                         \\n                   ,xMMMMMMMMMMWWWWWM;                                              :MWWWMMMMMMMMWWWM,                         \\n                   `nWMMMMMMMMMWWWWW;                                               .#WWWMMMMMMMMWWWx.                         \\n                   `nWWMMMMMMMMWWWWi                                                 iWWWMMMMMMMMWWWz`                         \\n                   `nWWWMMMMMMMWWWz`                                                 ,xWWMMMMMMMMWWW*                          \\n                    #WWWWMMMMMMWWW:                                                  .xWWMMMMMMMMWWM:                          \\n                    *WWWWWWWMMMWWx`                                                  .nWWMMMMMMMMWWx.                          \\n                    *WWWWWWWWMMWWn`                                                  .zWWMMMMMMMWWWz`                          \\n                 ,*+nWWWWWWWWMMWWM.                                                  .#WWMMMMMMMWWWz;*ii:.                     \\n                ,#MWWWWWWWWWWWWWWW:                                                  `#WWMMMMMMMWWWxxMMMM#:`                   \\n              `*xMMMWWWWWWWWWWWWWW*                                                  `*WWMMMMMMWWWMMMMMMMWx+:`                 \\n            ,+xWMMMMMMWWWWWWWWWWWWn                                                   iWWMMMMMWWMMMMMMMMMMWWx*.                \\n           .zWWMMMMMMMMWWWWWWWWWWWM.                                                  iWWMMMMMMMMMMMMMMMMMWWWW#`               \\n           iMWWMMMMMMMWWWWWWWWWWWWW:                                                  ;WWMMMMMMMMMMWMMMMMMMWWWM:               \\n          `zMWWMMMMMMWWWMMMWWWWWWWWi                                                  ;WWMMMMMMMMMMMWWMMMMMWWWW*               \\n          ,MWWMMMMMMMWWMMMMMMWWWWWW#                                                  ;MWMMMMMMMMMMMWWMMMMMWWWW+               \\n          :MWWWMMMMMWWMMMMMMMMWWWWWz`                                                 :MWMMMMMMMMMMMMWWMMMMWWWW#               \\n          :MMWWMMMMMWWMMMMMMMMWWWWWz`                                                 :MMMMMMMMMMMMMMWWMMMMWWWW+               \\n          .xWWWMMMMWWWMMMMMMMMWWWWM+`                                                 ,xMMMMMMMMMMMMWWWMMMWWWWMi               \\n          `+WWWWMMMMWWWMMMMMWWWWWWi`                                                  .nWMMMMMMMMMMMWWWMMWWWWW#.               \\n           ,zWWWWMMMWWWMMMMWWWWWM*`                                                   `iMWMMMMMMMMMMWWWWWWMz+i,                \\n            .i*i+nMMxxnWWWWWWWMz:                                                      `;nWMMMMMMMWxxWWWMni.`                  \\n                `.,,,,.*nxxxn+:`                                                         ,+nMMMMMM#:,;**;.`                    \\n                        ..,,`                                                              .:*++i:.                            '"
      ]
     },
     "execution_count": 8,
     "metadata": {},
     "output_type": "execute_result"
    }
   ],
   "source": [
    "'''                                                                                                                     ``i@n*`   \n",
    "                                                                                                                     +MWMMW+   \n",
    "                                                                                                                    .WMMMMMM.  \n",
    "                                                                                                                    iWMMMMMWz  \n",
    "                                     ``....,..``                                                                    zMMMMMMWM` \n",
    "                            `;,```,*#MMWWWWWWWMx#*,                                                                 MMMMMMMWW; \n",
    "                           `z@@+xM@WMnn+*;*#*#+xM@Wn:                                                              `MMMMMMMWWz \n",
    "                          `z@WWWz*;`       .,,,,,;+n@xi`                                                           `MMMMMMMWWM`\n",
    "                         ,xMMx.`             `.,,,,,;#MM;`                                                          MMMMMMMWWW.\n",
    "                       `;Wz`i.                 `.,,,,,,*Mz`                                                         MMMMMMMWW@,\n",
    "                      `#Wi`                      `,,,,,,:zz.                                                       `MMMMMMMWW@;\n",
    "                     :Mx,                         `,,,,,,;zxz+*:.`                                                 `WMMMMMMWW@i\n",
    "                   `+@*`                           `,,:+M@WWWW@@Wn,                                                ,@MMMMMMWW@+\n",
    "                  ,Mx,                              `*WWMMMMMWWWWWW:                                              `*@MMMMMMWWW#\n",
    "                 ;W#`                              `+WMMMMMMMMMMWWWM.                                           .in@MMMMMMMWWW#\n",
    "                ;M;                               `nWMMMMMMMMMMMMWWW+                                         .+WWMMMMMWWMWWW@#\n",
    "               *M.                               `xMMMMMMMMMMMMMMMWWx`                                     `:zWMMMMMMMMMWWWWWW+\n",
    "              ;x.              ,                `xMMMMMMMMWWWWWWMMMWW`                                   `ixWMMMMMMMMMMMWWWWW@i\n",
    "             :x,              +#i`             `nMMMMMMMWWWWWWWWWMMWW,                                 .*xMMMMMMMMMMMMMWWWWWWx`\n",
    "            .M,             `.M##z             +WMMMMMWWMMMMMMMMMMMWW,                               .zWWMMMMMMMMMMMMMWWWWW@W, \n",
    "            #:              #W#@*`            :WMMMMMMMMMMMMMMMMMMMWM`                            `inWMMMMMMMMMMMMMMMWWWWWWW:  \n",
    "           ;+              `W#n``             *MMMMMMMMMMMMMMMMMMMMWz                           `ixWMMMMMMMMMMMMMMMWWWWWW@M,   \n",
    "          .n`              n#W,               ,WW@W@WMMMMMMMMMMMMMMW+                         ,*xWMMMMMMMMMMMMMMMMWWWWWW@n.    \n",
    "          *,              .@i                  .```:+MWWMMMMMMMMMMW@:                      `:zWWMMMMMMMMMMMMMMMMMWWWWWW@#`     \n",
    "         .n`              `;                         `,#MWWMWMMMMM@W`                   `,#MWMMMMMMMMMMMMMMMMMMWWWWWWWM;`      \n",
    "         n;                                             `:inxxWWWW#x`              `.:*zxWMMMMMMMMMMMMMMMMMMMMWWWWWWWn.        \n",
    "        .z                                                 .,,,,,,,M,         `.+#zMWWWMMMMMMMMMMMMMMMMMMMMMMWWWWW@Wi`         \n",
    "        ;+                                                 .,,,,,,,xi     `;+#xMWMMMMMMMMMMMMMMMMMMMMMMMMMMWWWWWWW+,           \n",
    "        #i,,,`                                             `,,,,,,,n*    `;WMMMMMMMMMMMMMMMMMMMMMMMMMMMMMWWWWWWWx:             \n",
    "      ,#WWWMWMz;`                                           ,,,,,,,M* `;zxWMMMMMMMMMMMMMMMMMMMMMMMMMMMMWWWWWWWWn`              \n",
    "    `#@WWMMMMMMMn#.                                         ,,,,,,,W+#xWMMMMMMMMMMMMMMMMMMMMMMMMMMMMMWWWWWWWWM,`               \n",
    "   ,M@WMMMMMMMMMMxM.                                        ,,,,,,;@@WMMMMMMMMMMMMMMMMMMMMMMMMMMMMMWWWWWWWWW+`                 \n",
    "  :M@MMMMMMMMMMMMMM*                                        ,,,,,,*@WWWMMMMMMMMMMMMMMMMMMMMMMMMMMWWWWWWWWWM;                   \n",
    " `WWMMMMMMMMMMMMMMx+                                        .,,,,,+WWWWMMMMMMMMMMMMMMMMMMMMMMMMWWWWWWWWW@z.                    \n",
    "`n@MMMMMMMMMMMMMMMM;                                        `,,,,,+WWWWWMMMMMMMMMMMMMMMMMMMMMMWWWWWWWWWW*`                     \n",
    ";@WMMMMMMMWWMMMMMxz                                         `,,,,,+WWWWWMMMMMMMMMMMMMMMMMMMMWWWWWWWWW@M;                       \n",
    "z@WMMMMMWWWMMMMMMM,                                         `,,,,,nWWWWWMMMMMMMMMMMMMMMMMWWWWWWWWWWWWx.                        \n",
    "WWWMMMMWWWMMMMMMx#                                          `,,,,,MWWWWWMMMMMMMMMMMMMMMWWWWWWWWWWWW@n`                         \n",
    "@WWMMMWWWMMMMMMMn`                                          `,,,,:WWWWWWWMMMMMMMMMMMMWWWWWWWWWWWWWMn.                          \n",
    "@WWMMMWWMMMMMMMM*                                           .,,,,+@WWWWWWMMMMMMMMMMWWWWWWWWWWWWWWx.`                           \n",
    "MWWMMWWMMMMMMMMM*                                           ,,,,,#WWWWWWWMMMMMMMWWWWWWWWWWWWWWW@@;                             \n",
    "#WWMMWMMMMMMMMMM:                                          `,,,,,nWWWWWWWMMMMMWWWWWWWWWWWWWWWMx*+`                             \n",
    "+WWMMMMMMMMMMMMM,                             `i+nMMn*.    .,,,,:@WWWWWWWMMWWWWWWWWWWWWWWW@xi``                                \n",
    ".MWMMMMMMMMMMMMx                             ,MWMMMMMWW+`  ,,,,,:@WWWWWWWWWWWWWWWWWWWWWW@M*`                                   \n",
    " iMWMMMMMMMMMMM#                            :WMMMMMMMMMWz`.,,,,,+@WWWWWWWWWWWWWWWWWWWWWW+`                                     \n",
    "  zMWWMMMMMMMMM,                           `xMMMMMMMMMMMWx:,,,,,nWWWMMMMMWWWWWWWWWWWW@z,                                       \n",
    "  `*MMMWWWWWWM#                            :WMMMMMMMMMMMMWx:,:+xWMMMMMMMMMWWWWWWWWW@M;`                                        \n",
    "    `i#xMMMMMM.                            +MMMMMWWMMMMMMMWnzWWMMMMMMMMMMWWWWWWWWWW+`                                          \n",
    "       ``..`.x`               `.`          xMMMMWWWMMMMMMMMWWMMMMMMMMMMMWWWWWWWW@x,                                            \n",
    "             z+             .zMWWMz:      `MMMMMMMMMMMMMMMMMMMMMMMMMMMMWWWWWWWWW*`                                             \n",
    "             :@.           :MMMMMMMW+`     #MWWWWWMMMMMMMMMMMMMMMMMMMMWWWWWWWWWW.                                              \n",
    "              n*          ,WMMMMMMMMWx`     `,;;in@MMMMMMMMMMMMMMMMMMWWWWWWWWWW@i                                              \n",
    "              ,W:        .WMMMMMMMMMWM`      `,#WWMMMMMMMMMMMMMMMMMWWWWWWWWWWWWWx`                                             \n",
    "               nM        zMMMMMMMMMMWi`     `+MMMMMMMMMMMMMMMMMMMMWWWWWWWWWWWWWWW.                                             \n",
    "               ,W#      ,WMMMMMWWWMWn,     :xWMMMMMMMMMMMMMMMMMMWWW#xWWWWWWWWWWW@:                                             \n",
    "                i@#     nMMMMMMMMMMM:`   :zWMMMMMMMMMMMMMMMMMMMWWW# :@WWWWWWWWWWW;                                             \n",
    "                `*@z`   WMMMMMMMMMWi,,``zWMMMMMMMMMMMMMMMMMMMMWWWx`  nWWWWWWWWWW@;                                             \n",
    "                 `zWM#:`MMMMMMMMMW+,,;#MMMMMMMMMMMMMMMMMMMMMMWWWx`   .WWWWWWWWWW@;                                             \n",
    "                 `MMMMWWWMMMMMMMW#,:#WWMMMMMMMMMMMMMMMMMMMMMWWWW,     ;WWWWWWWWW@i                                             \n",
    "                 .WMMMMWWWWMMMM@#:*MWMMMMMMMMMMMMMMMMMMMMMMWWWW,       iWWWWWW@@n+`                                            \n",
    "                 :@MMMMMMMMW@@WWMWWMMMMMMMMMMMMMMMMMMMMMMMWWWM,         ,zW@@@*;:M:                                            \n",
    "                 ;WMMMMMMMMMMMMMMMMMMMMMMMMMMMMMMMMMMMMMMWWWM:            .;;:,,,+#                                            \n",
    "                 *WMMMMMMMMMMMMMMMMMMMMMMMMMMMMMMMMMMMMMWWWM,             `,,,,,,:M.                                           \n",
    "                 +WMMMMMMMMMMMMMMMMMMMMMMMMMMMMMMMMMMMMWWWM:               .,,,,,,z*                                           \n",
    "                 :WMMMMMMMMMMMMMMMMMMMMMMMMMMMMMMMMMMMWWWW;                `,,,,,,;M`                                          \n",
    "                 `xMMMMMMMMMMMMMMMMMMMMMMMMMMMMMMMMMWWWWW,                  ,,,,,,,#+                                          \n",
    "                  *WMMMMMMMMMMMMMMMMMMMMMMMMMMMMMMMWWWWW;                   .,,,,,,:M.                                         \n",
    "                  .WMMMMMMMMMMMMMMMMMMMMMMMMMMMMMMWWWW@;                    `,,,,,,,#i                                         \n",
    "                   +WMMMMMMMMMMMMMMMMMMMMMMMMMMMMWWWWW*                      ,,,,,,,in                                         \n",
    "                   .MWMMMMMMMMMMMMMMMMMMMMMMMMMMWWWWWi                       .,,,,,,:M`                                        \n",
    "                    iWMMMMMMMMMMMMMMMMMMMMMMMMMWWWWW;                        `,,,,,,,n:                                        \n",
    "                    `nWMMMMMMMMMMMMMMMMMMMMMMWWWWWW;                          ,,,,,,,*z                                        \n",
    "                     .WWMMMMMMMMMMMMMMMMMMMMWWWWWM,                  ```      .,,,,,,:M                                        \n",
    "                      :WWMMMMMMMMMMMMMMMMMWWnzzz+`             ``  ````` `    .,:,,,,,x:                                       \n",
    "                       :WWMMMMMMMMMMMMMWWWWWnMMi `````` ``` `````````   ````` `,:,,:,,+z                                       \n",
    "                        nWWMMMMMMMMMMWWWWWWWn+,.`````````````````````.`````````,:,:,:,,M.                                      \n",
    "                        x@W@WWMMWWWWWWWWWW@W;`   ` `````` `.`  `` .   ```` ````.:,,,,,,zi                                      \n",
    "                        nz.#@@WWWWWWWWWW@M+.``   ` `````` ``````` ``````````````:,,,,,,+#                                      \n",
    "                        x+ `;i@@WWWW@@Wx*`  `    `  ``` ` ` ````  `````  `` ````,,,,,,,:M                                      \n",
    "                        M+    :*zxx#i:.                                    ```` .,,,,,,:W.                                     \n",
    "                        n#                                                      .,,,,,,,z;                                     \n",
    "                        *#                                                      `,,,,,,,+#                                     \n",
    "                        :M                                                       ,,,,,,,;M                                     \n",
    "                        `M`                                                     `,,,,,,,:W.                                    \n",
    "                        `M`                                                     ,,,,,,,,,x;                                    \n",
    "                        `W.                                                    `,,,,,,,,,##                                    \n",
    "                         xi                                                    ,,,,,,,,,,;x                                    \n",
    "                         #*                                                   .,,`,,,,,,,,@.                                   \n",
    "                         #*                                                  `,,  ,,,,,,,;@:                                   \n",
    "                         *#`                                                 ,,`  .,,,,,#WW;                                   \n",
    "                         .M`                                                .,`   .,,,,+WWW#`                                  \n",
    "                         `M.                                               .,`    `,,,*WWWWM;                                  \n",
    "                          x;                                              `,`     `,,;WWWWWWz.                                 \n",
    "                          n*`                                            `.`      `,,nWWWWWWM:                                 \n",
    "                          :x.                                            .        `,iWWWWWWWW#.                                \n",
    "                           x;                                                      :MWWWWWWWWM:                                \n",
    "                           ;n`                                                    .#WWWWWWWWWW#`                               \n",
    "                           .W,                                                   `*MMWWWWWWWWWM;                               \n",
    "                            ni                                                   ,xMMWWWWWWWWWW#`                              \n",
    "                            #+`                                                 ,nMMMMWWWWWWWWWx:                              \n",
    "                           `*n.                                                `zMMMMMWWWWWWWWWW#`                             \n",
    "                           ,nM*`                                              `+MMMMMMMWWWWWWWWWx:                             \n",
    "                           *MMz.                                             `iWMMMMMMMMWWWWWWWWW+`                            \n",
    "                          ,zMMM*`                                           `iMMMMMMMMMMWWWWWWWWWx,                            \n",
    "                         `+MMMMx,                                          `;MMMMMMMMMMMMWWWWWWWWWi                            \n",
    "                         :xMMMMMz.                                        `;MMMMMMMMMMMMMWWWWWWWWWz.                           \n",
    "                        `#MMMMMMM#.                                      `iMMMMMMMMMMMMMMMWWWWWWWW#.                           \n",
    "                        iMMMMMMMMM#`                                    .+WMMMMMMMMMMMMMMMWWWWWWWWz.                           \n",
    "                       .nMMMMMMMMMMn:`                                `,nWMMMMMMMMMMMMMMMMMWWWWWWWW*`                          \n",
    "                       *MMMMMMMMMMMMxi.`                 ``         `.+MWMMMMMMMMMMMMMMMMMMMWWWWWWWn:                          \n",
    "                      .xMMMMMMMMMMMMMMn*,`            `.,,,,.```  `.+xWMMMMMMMMMMMMMMMMMMMMMWWWWWWWx,                          \n",
    "                      *MMMMMMMMMMMMMMMMWM+:.``     `.,,,,,,,,,,,,;#xWWMMMMMMMMMMMMMMMMMMMMMMMWWWWWWn;                          \n",
    "                     .xMMMMMMMMMMMMMMMMMMMWMn+i:,.,,,,,,,,,::;*zMWWWWWWWMMMMMMMMMMMMMMMMMMMMMWWWWWWz.                          \n",
    "                     +MMMMMMMMMMMMMMMMMMMMMMMWWWMn#+***#znxMMWWWWWWWWWWWWWWMMMMMMMMMMMMMMMMMMMWWWWWW*`                         \n",
    "                    ,MMMMMMMMMMMMMMMMMMMMMMMWWWWWWWWWWWx#+**i**+znMWWWWWWWWWMMMMMMMMMMMMMMMMMMWWWWWM;                          \n",
    "                   `#MMMMMMMMMMMMMMMMMMMMMWWWWWWWWWWM#;,`      ``.:+nMWWWWWWWWMMMMMMMMMMMMMMMMMWWWWW;                          \n",
    "                   :xMMMMMMMMMMMMMMMMMMMMWWWWWWWWWM#:`              .:+xWWWWWWWMMMMMMMMMMMMMMMMMWWWWi                          \n",
    "                  `#MMMMMMMMMMMMMMMMMMMWWWWWWWWWWz:`                  `,izMWWWWWMMMMMMMMMMMMMMMMWWWW+                          \n",
    "                  :MMMMMMMMMMMMMMMMMMMWWWWWWWWWx;.                       `;nWWWWWMMMMMMMMMMMMMMMWWWWz.                         \n",
    "                  ;xMMMMMMMMMMMMMMMMMWWWWWWWWW+.                           .izWWWWMMMMMMMMMMMMMMWWWWx.                         \n",
    "                  +MMMMMMMMMMMMMMMMMWWWWWWWWx;`                              .+MWWWWMMMMMMMMMMMMMWWWW:                         \n",
    "                  ;MMMMMMMMMMMMMMMMWWWWWWWWn,                                 `;nWWWWMMMMMMMMMMMMWWWW*                         \n",
    "                  #MMMMMMMMMMMMMMMWWWWWWWW#.                                    :zWWWWMMMMMMMMMMMWWWW+                         \n",
    "                  :zMMMMMMMMMMMMMWWWWWWWM*`                                      ,zWWWWMMMMMMMMMMWWWW+                         \n",
    "                   +MMMMMMMMMMMWWWWWWWWM;                                         :nWWWWMMMMMMMMMWWWW*                         \n",
    "                   iMMMMMMMMMMMWWWWWWWx;                                          `iMWWWMMMMMMMMMWWWWi                         \n",
    "                   :xMMMMMMMMMMWWWWWWM:                                            `#WWWMMMMMMMMMWWWW;                         \n",
    "                   ,xMMMMMMMMMMWWWWWM;                                              :MWWWMMMMMMMMWWWM,                         \n",
    "                   `nWMMMMMMMMMWWWWW;                                               .#WWWMMMMMMMMWWWx.                         \n",
    "                   `nWWMMMMMMMMWWWWi                                                 iWWWMMMMMMMMWWWz`                         \n",
    "                   `nWWWMMMMMMMWWWz`                                                 ,xWWMMMMMMMMWWW*                          \n",
    "                    #WWWWMMMMMMWWW:                                                  .xWWMMMMMMMMWWM:                          \n",
    "                    *WWWWWWWMMMWWx`                                                  .nWWMMMMMMMMWWx.                          \n",
    "                    *WWWWWWWWMMWWn`                                                  .zWWMMMMMMMWWWz`                          \n",
    "                 ,*+nWWWWWWWWMMWWM.                                                  .#WWMMMMMMMWWWz;*ii:.                     \n",
    "                ,#MWWWWWWWWWWWWWWW:                                                  `#WWMMMMMMMWWWxxMMMM#:`                   \n",
    "              `*xMMMWWWWWWWWWWWWWW*                                                  `*WWMMMMMMWWWMMMMMMMWx+:`                 \n",
    "            ,+xWMMMMMMWWWWWWWWWWWWn                                                   iWWMMMMMWWMMMMMMMMMMWWx*.                \n",
    "           .zWWMMMMMMMMWWWWWWWWWWWM.                                                  iWWMMMMMMMMMMMMMMMMMWWWW#`               \n",
    "           iMWWMMMMMMMWWWWWWWWWWWWW:                                                  ;WWMMMMMMMMMMWMMMMMMMWWWM:               \n",
    "          `zMWWMMMMMMWWWMMMWWWWWWWWi                                                  ;WWMMMMMMMMMMMWWMMMMMWWWW*               \n",
    "          ,MWWMMMMMMMWWMMMMMMWWWWWW#                                                  ;MWMMMMMMMMMMMWWMMMMMWWWW+               \n",
    "          :MWWWMMMMMWWMMMMMMMMWWWWWz`                                                 :MWMMMMMMMMMMMMWWMMMMWWWW#               \n",
    "          :MMWWMMMMMWWMMMMMMMMWWWWWz`                                                 :MMMMMMMMMMMMMMWWMMMMWWWW+               \n",
    "          .xWWWMMMMWWWMMMMMMMMWWWWM+`                                                 ,xMMMMMMMMMMMMWWWMMMWWWWMi               \n",
    "          `+WWWWMMMMWWWMMMMMWWWWWWi`                                                  .nWMMMMMMMMMMMWWWMMWWWWW#.               \n",
    "           ,zWWWWMMMWWWMMMMWWWWWM*`                                                   `iMWMMMMMMMMMMWWWWWWMz+i,                \n",
    "            .i*i+nMMxxnWWWWWWWMz:                                                      `;nWMMMMMMMWxxWWWMni.`                  \n",
    "                `.,,,,.*nxxxn+:`                                                         ,+nMMMMMM#:,;**;.`                    \n",
    "                        ..,,`                                                              .:*++i:.                            '''"
   ]
  },
  {
   "cell_type": "code",
   "execution_count": 24,
   "metadata": {},
   "outputs": [
    {
     "name": "stdout",
     "output_type": "stream",
     "text": [
      "                                  2019\n",
      "\n",
      "      January                   February                   March\n",
      "Mo Tu We Th Fr Sa Su      Mo Tu We Th Fr Sa Su      Mo Tu We Th Fr Sa Su\n",
      "    1  2  3  4  5  6                   1  2  3                   1  2  3\n",
      " 7  8  9 10 11 12 13       4  5  6  7  8  9 10       4  5  6  7  8  9 10\n",
      "14 15 16 17 18 19 20      11 12 13 14 15 16 17      11 12 13 14 15 16 17\n",
      "21 22 23 24 25 26 27      18 19 20 21 22 23 24      18 19 20 21 22 23 24\n",
      "28 29 30 31               25 26 27 28               25 26 27 28 29 30 31\n",
      "\n",
      "       April                      May                       June\n",
      "Mo Tu We Th Fr Sa Su      Mo Tu We Th Fr Sa Su      Mo Tu We Th Fr Sa Su\n",
      " 1  2  3  4  5  6  7             1  2  3  4  5                      1  2\n",
      " 8  9 10 11 12 13 14       6  7  8  9 10 11 12       3  4  5  6  7  8  9\n",
      "15 16 17 18 19 20 21      13 14 15 16 17 18 19      10 11 12 13 14 15 16\n",
      "22 23 24 25 26 27 28      20 21 22 23 24 25 26      17 18 19 20 21 22 23\n",
      "29 30                     27 28 29 30 31            24 25 26 27 28 29 30\n",
      "\n",
      "        July                     August                  September\n",
      "Mo Tu We Th Fr Sa Su      Mo Tu We Th Fr Sa Su      Mo Tu We Th Fr Sa Su\n",
      " 1  2  3  4  5  6  7                1  2  3  4                         1\n",
      " 8  9 10 11 12 13 14       5  6  7  8  9 10 11       2  3  4  5  6  7  8\n",
      "15 16 17 18 19 20 21      12 13 14 15 16 17 18       9 10 11 12 13 14 15\n",
      "22 23 24 25 26 27 28      19 20 21 22 23 24 25      16 17 18 19 20 21 22\n",
      "29 30 31                  26 27 28 29 30 31         23 24 25 26 27 28 29\n",
      "                                                    30\n",
      "\n",
      "      October                   November                  December\n",
      "Mo Tu We Th Fr Sa Su      Mo Tu We Th Fr Sa Su      Mo Tu We Th Fr Sa Su\n",
      "    1  2  3  4  5  6                   1  2  3                         1\n",
      " 7  8  9 10 11 12 13       4  5  6  7  8  9 10       2  3  4  5  6  7  8\n",
      "14 15 16 17 18 19 20      11 12 13 14 15 16 17       9 10 11 12 13 14 15\n",
      "21 22 23 24 25 26 27      18 19 20 21 22 23 24      16 17 18 19 20 21 22\n",
      "28 29 30 31               25 26 27 28 29 30         23 24 25 26 27 28 29\n",
      "                                                    30 31\n",
      "\n"
     ]
    }
   ],
   "source": [
    "print(calendar.calendar(2019,1))"
   ]
  },
  {
   "cell_type": "code",
   "execution_count": null,
   "metadata": {},
   "outputs": [],
   "source": []
  },
  {
   "cell_type": "code",
   "execution_count": null,
   "metadata": {},
   "outputs": [],
   "source": []
  },
  {
   "cell_type": "code",
   "execution_count": null,
   "metadata": {},
   "outputs": [],
   "source": []
  },
  {
   "cell_type": "code",
   "execution_count": null,
   "metadata": {},
   "outputs": [],
   "source": []
  },
  {
   "cell_type": "code",
   "execution_count": 34,
   "metadata": {},
   "outputs": [
    {
     "name": "stdout",
     "output_type": "stream",
     "text": [
      "b'\\x00\\x00\\x00\\x00\\x00\\x00\\x00\\x00\\x00\\x00\\x00\\x00\\x00\\x00\\x00\\x00\\x00\\x00\\x00\\x00\\x00\\x00\\x00\\x00\\x00\\x00\\x00\\x00\\x00\\x00\\x00\\x00\\x00\\x00\\x00\\x00\\x00\\x00\\x00\\x00\\x00\\x00\\x00\\x00\\x00\\x00\\x00\\x00\\x00\\x00\\x00\\x00\\x00\\x00\\x00\\x00\\x00\\x00\\x00\\x00\\x00\\x00\\x00\\x00\\x00\\x00\\x00\\x00\\x00\\x00\\x00\\x00\\x00\\x00\\x00\\x00\\x00\\x00\\x00\\x00\\x00\\x00\\x00\\x00\\x00\\x00\\x00\\x00\\x00\\x00\\x00\\x00\\x00\\x00\\x00\\x00\\x00\\x00\\x00\\x00\\x00\\x00\\x00\\x00\\x00\\x00\\x00\\x00\\x00\\x00\\x00\\x00\\x00\\x00\\x00\\x00\\x00\\x00\\x00\\x00\\x00\\x00\\x00\\x00\\x00\\x00\\x00\\x00\\x00\\x00\\x00\\x00\\x00\\x00\\x00\\x00\\x00\\x00\\x00\\x00\\x00\\x00\\x00'\n"
     ]
    }
   ],
   "source": [
    "\n",
    "function ipToInt32(ip){\n",
    "\tvar octet3 = Number(ip.substr(0,3));\n",
    "\tvar octet2 = Number(ip.substr(4,2));\n",
    "\tvar octet1 = Number(ip.substr(7,2));\n",
    "\tvar octet0 = Number(ip.substr(10,1));\n",
    "\tvar totOct = [];\n",
    "\t\n",
    "\t\ttotOct.push(octet3 * (256*256*256));\n",
    "\t\ttotOct.push(octet2 * (256*256));\n",
    "\t\ttotOct.push(octet1 * (256));\n",
    "\t\ttotOct.push(octet0 * (1));\n",
    "\t\t\n",
    "\t\treturn (totOct[0]+ totOct[1]+ totOct[2]+ totOct[3])\n",
    "}\n",
    "ipToInt32(\"134.32.10.1\")"
   ]
  },
  {
   "cell_type": "code",
   "execution_count": 55,
   "metadata": {},
   "outputs": [],
   "source": [
    "def ipToInt32(ip):\n",
    "    primer_num = ip[0:3]\n",
    "    segundo_num = ip[4:-5]\n",
    "    tercer_num = ip[7:-2]\n",
    "    cuarto_num = ip[10:]\n",
    "    l=[]\n",
    "    \n",
    "    l.append(primer_num * (256*256*256))\n",
    "    l.append(segundo_num * (256*256))\n",
    "    l.append(tercer_num * (256))\n",
    "    l.append(cuarto_num * (1))\n",
    "    \n",
    "    return l[]\n",
    "    "
   ]
  },
  {
   "cell_type": "code",
   "execution_count": 56,
   "metadata": {},
   "outputs": [],
   "source": [
    "ipToInt32(\"134.32.10.1\")"
   ]
  },
  {
   "cell_type": "code",
   "execution_count": 36,
   "metadata": {},
   "outputs": [],
   "source": [
    "asd = \"134.32.10.1\""
   ]
  },
  {
   "cell_type": "code",
   "execution_count": 37,
   "metadata": {},
   "outputs": [
    {
     "data": {
      "text/plain": [
       "11"
      ]
     },
     "execution_count": 37,
     "metadata": {},
     "output_type": "execute_result"
    }
   ],
   "source": [
    "len(asd)"
   ]
  },
  {
   "cell_type": "code",
   "execution_count": 50,
   "metadata": {},
   "outputs": [
    {
     "data": {
      "text/plain": [
       "'134'"
      ]
     },
     "execution_count": 50,
     "metadata": {},
     "output_type": "execute_result"
    }
   ],
   "source": []
  },
  {
   "cell_type": "code",
   "execution_count": 1,
   "metadata": {},
   "outputs": [],
   "source": [
    "import pandas as pd"
   ]
  },
  {
   "cell_type": "code",
   "execution_count": null,
   "metadata": {},
   "outputs": [],
   "source": [
    "df1= \n",
    "iden   c    A1   A2    A3    \n",
    "11     1     1     1   NaN\n",
    "23     2     3     3   NaN\n",
    "33     3     2     2     1\n",
    "25     4   NaN     1   NaN\n",
    "74     1   NaN   NaN   NaN\n",
    "\n",
    "df2= \n",
    "    iden     \n",
    "    11     \n",
    "    77     \n",
    "    99     \n",
    "    25     \n",
    "    74     "
   ]
  },
  {
   "cell_type": "code",
   "execution_count": 18,
   "metadata": {},
   "outputs": [],
   "source": [
    "df1 = pd.DataFrame([11,23,33,25,74],columns=['iden'])\n",
    "df2 = pd.DataFrame([11,77,99,25,74],columns=['iden'])"
   ]
  },
  {
   "cell_type": "code",
   "execution_count": 32,
   "metadata": {},
   "outputs": [
    {
     "data": {
      "text/plain": [
       "0    tipo1\n",
       "1    tipo2\n",
       "2    tipo2\n",
       "3    tipo1\n",
       "4    tipo1\n",
       "Name: iden, dtype: object"
      ]
     },
     "execution_count": 32,
     "metadata": {},
     "output_type": "execute_result"
    }
   ],
   "source": [
    "df['foo'] = df1['iden'].apply(lambda x: 'tipo1' if x in df2['iden'].tolist() else 'tipo2')"
   ]
  },
  {
   "cell_type": "code",
   "execution_count": 31,
   "metadata": {},
   "outputs": [
    {
     "data": {
      "text/plain": [
       "True"
      ]
     },
     "execution_count": 31,
     "metadata": {},
     "output_type": "execute_result"
    }
   ],
   "source": [
    "df1['iden'][0] in df2['iden'].tolist()"
   ]
  },
  {
   "cell_type": "code",
   "execution_count": 30,
   "metadata": {},
   "outputs": [
    {
     "data": {
      "text/plain": [
       "[11, 77, 99, 25, 74]"
      ]
     },
     "execution_count": 30,
     "metadata": {},
     "output_type": "execute_result"
    }
   ],
   "source": [
    "df2['iden'].tolist()"
   ]
  },
  {
   "cell_type": "code",
   "execution_count": null,
   "metadata": {},
   "outputs": [],
   "source": []
  }
 ],
 "metadata": {
  "kernelspec": {
   "display_name": "Python [conda env:dev_env]",
   "language": "python",
   "name": "conda-env-dev_env-py"
  },
  "language_info": {
   "codemirror_mode": {
    "name": "ipython",
    "version": 3
   },
   "file_extension": ".py",
   "mimetype": "text/x-python",
   "name": "python",
   "nbconvert_exporter": "python",
   "pygments_lexer": "ipython3",
   "version": "3.6.8"
  }
 },
 "nbformat": 4,
 "nbformat_minor": 2
}
