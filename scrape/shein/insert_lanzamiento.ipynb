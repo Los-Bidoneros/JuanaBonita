{
 "cells": [
  {
   "cell_type": "code",
   "execution_count": 166,
   "metadata": {},
   "outputs": [],
   "source": [
    "import os\n",
    "import re\n",
    "import pandas as pd\n",
    "import datetime\n",
    "import pyodbc"
   ]
  },
  {
   "cell_type": "code",
   "execution_count": 85,
   "metadata": {},
   "outputs": [],
   "source": [
    "listdir_salida = os.listdir('../Salida/')"
   ]
  },
  {
   "cell_type": "code",
   "execution_count": 86,
   "metadata": {},
   "outputs": [],
   "source": [
    "lanzamientos = [item for item in listdir_salida if item.find('lanzamiento') != -1]"
   ]
  },
  {
   "cell_type": "code",
   "execution_count": 87,
   "metadata": {},
   "outputs": [],
   "source": [
    "lanzamientos = sorted(lanzamientos, key= lambda s: datetime.datetime.strptime(re.search('\\d{4}-\\d{2}-\\d{2}', s).group(),\n",
    "                                                                              '%Y-%m-%d').date())"
   ]
  },
  {
   "cell_type": "code",
   "execution_count": null,
   "metadata": {},
   "outputs": [],
   "source": [
    "lanzamientos = lanzamientos[55:]"
   ]
  },
  {
   "cell_type": "code",
   "execution_count": 147,
   "metadata": {},
   "outputs": [],
   "source": [
    "lanzamientos = ['../Salida/'+i for i in lanzamientos]"
   ]
  },
  {
   "cell_type": "code",
   "execution_count": null,
   "metadata": {},
   "outputs": [],
   "source": []
  },
  {
   "cell_type": "code",
   "execution_count": 148,
   "metadata": {},
   "outputs": [],
   "source": [
    "def crear_df_lanzamiento(xlsx):\n",
    "    all_lanzamiento = list(map(pd.read_excel,xlsx))\n",
    "    df_lanzamiento = pd.DataFrame([])\n",
    "    lista_dfs = (list(map(df_lanzamiento.append,all_lanzamiento)))\n",
    "    df = pd.concat(lista_dfs)\n",
    "    return df"
   ]
  },
  {
   "cell_type": "code",
   "execution_count": 91,
   "metadata": {},
   "outputs": [],
   "source": [
    "df = pd.read_excel('../Salida/'+lanzamientos)"
   ]
  },
  {
   "cell_type": "code",
   "execution_count": 162,
   "metadata": {},
   "outputs": [],
   "source": [
    "df = crear_df_lanzamiento(lanzamientos)"
   ]
  },
  {
   "cell_type": "code",
   "execution_count": null,
   "metadata": {},
   "outputs": [],
   "source": [
    "df = df.reset_index(drop=True)"
   ]
  },
  {
   "cell_type": "code",
   "execution_count": null,
   "metadata": {},
   "outputs": [],
   "source": [
    "len(df),len(df.drop_duplicates()),len(df.dropna())"
   ]
  },
  {
   "cell_type": "code",
   "execution_count": 167,
   "metadata": {},
   "outputs": [],
   "source": [
    "#INSERT\n",
    "server = 'tcp:192.168.1.6'\n",
    "database =\"planeamiento\"\n",
    "username = 'sa'\n",
    "password = 'sa'\n",
    "cnxn = pyodbc.connect('DRIVER={/opt/microsoft/msodbcsql17/lib64/libmsodbcsql-17.2.so.0.1};SERVER='+server+';DATABASE='+database+';UID='+username+';PWD='+ password) "
   ]
  },
  {
   "cell_type": "code",
   "execution_count": 170,
   "metadata": {},
   "outputs": [],
   "source": [
    "cursor = cnxn.cursor()\n",
    "for index,row in df.iterrows():                                               \n",
    "    try:\n",
    "        cursor.execute(\"INSERT INTO sc_lanzamiento([sku],[pos],[talle],[color],[tipo],[marca],[sexo],[descripcion],[stock],[precio],[precio_dto],[fecha_alta],[moneda],[img],[url],[pagina_scraper]) values (?,?,?,?,?,?,?,?,?,?,?,?,?,?,?,?)\", \n",
    "                       row['sku'], \n",
    "                       row['pos'], \n",
    "                       row['talle'],\n",
    "                       row['color'],\n",
    "                       row['tipo'],\n",
    "                       row['marca'],\n",
    "                       row['sexo'],\n",
    "                       row['descripcion'],\n",
    "                       row['stock'],\n",
    "                       row['precio'],\n",
    "                       row['precio_dto'], \n",
    "                       row['fecha_alta'], \n",
    "                       row['moneda'],\n",
    "                       row['img'], \n",
    "                       row['url'],\n",
    "                       row['pagina_scraper']\n",
    "                      ) \n",
    "        cnxn.commit()\n",
    "    except Exception as e:\n",
    "        \n",
    "        print(e)\n",
    "        print(\"*\"*100)\n",
    "        print(row)\n",
    "        raise\n",
    "cursor.close()\n",
    "cnxn.close()"
   ]
  },
  {
   "cell_type": "code",
   "execution_count": null,
   "metadata": {},
   "outputs": [],
   "source": []
  },
  {
   "cell_type": "code",
   "execution_count": null,
   "metadata": {},
   "outputs": [],
   "source": []
  },
  {
   "cell_type": "code",
   "execution_count": null,
   "metadata": {},
   "outputs": [],
   "source": []
  }
 ],
 "metadata": {
  "kernelspec": {
   "display_name": "Python [conda env:dev_env]",
   "language": "python",
   "name": "conda-env-dev_env-py"
  },
  "language_info": {
   "codemirror_mode": {
    "name": "ipython",
    "version": 3
   },
   "file_extension": ".py",
   "mimetype": "text/x-python",
   "name": "python",
   "nbconvert_exporter": "python",
   "pygments_lexer": "ipython3",
   "version": "3.6.8"
  }
 },
 "nbformat": 4,
 "nbformat_minor": 2
}
