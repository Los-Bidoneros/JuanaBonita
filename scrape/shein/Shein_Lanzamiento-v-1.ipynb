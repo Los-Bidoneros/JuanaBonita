{
 "cells": [
  {
   "cell_type": "code",
   "execution_count": 2,
   "metadata": {},
   "outputs": [],
   "source": [
    "from selenium import webdriver\n",
    "from selenium.webdriver.support.ui import WebDriverWait\n",
    "from selenium.webdriver.common.by import By\n",
    "from selenium.webdriver.support import expected_conditions as EC\n",
    "from selenium.webdriver.chrome.options import Options\n",
    "from bs4 import BeautifulSoup\n",
    "import pandas as pd\n",
    "import requests\n",
    "from time import strftime\n",
    "import datetime\n",
    "import time\n",
    "from pandas import ExcelWriter\n",
    "import re\n",
    "import pyodbc\n",
    "import asyncio\n",
    "from selenium.webdriver.common.action_chains import ActionChains\n",
    "import numpy as np\n",
    "import pdb\n",
    "from ipywidgets import IntProgress\n",
    "from IPython.display import display\n",
    "import os\n",
    "from IPython.display import clear_output\n",
    "import json\n",
    "from selenium.webdriver.support import expected_conditions\n",
    "from sc_header import aplanar, aplanar_lista,createDriver, extract_json_objects"
   ]
  },
  {
   "cell_type": "code",
   "execution_count": 2,
   "metadata": {},
   "outputs": [],
   "source": [
    "# def createDriver():\n",
    "\n",
    "# user_agent = 'Mozilla/5.0 (X11; Linux x86_64) AppleWebKit/537.36 (KHTML, like Gecko) Chrome/60.0.3112.50 Safari/537.36'    \n",
    "\n",
    "# chrome_options = Options()  \n",
    "# chrome_options.add_argument(\"--headless\")  \n",
    "# chrome_options.add_argument(\"--no-sandbox\")\n",
    "# chrome_options.add_argument(f'user-agent={user_agent}')\n",
    "# chrome_options.add_argument(\"--window-size=1825x1644\")\n",
    "# chromeOptions.addArguments(\"--disable-popup-blocking\")\n",
    "# chromeOptions.addArguments(\"--disable-notifications\")\n",
    "# chromeOptions.addArguments(\"--window-size=1920,1080\")\n",
    "\n",
    "# browser = webdriver.Chrome('/usr/bin/chromedriver', options = chrome_options)\n",
    "browser = createDriver()\n",
    "browser.delete_all_cookies()"
   ]
  },
  {
   "cell_type": "code",
   "execution_count": 3,
   "metadata": {},
   "outputs": [],
   "source": [
    "url_base = 'https://www.shein.com/daily-new.html?cat_ids=2030,2032&ici=www_tab01navbar01&scici=navbar_2~~tab01navbar01~~1~~webLink~~~~0~~0'\n",
    "\n",
    "browser.get(url_base)"
   ]
  },
  {
   "cell_type": "code",
   "execution_count": 4,
   "metadata": {},
   "outputs": [],
   "source": [
    "#browser.save_screenshot('asd.png')\n"
   ]
  },
  {
   "cell_type": "code",
   "execution_count": 5,
   "metadata": {},
   "outputs": [],
   "source": [
    "#CLICK EN MODAL\n",
    "try:\n",
    "    browser.find_element_by_css_selector('body > div.c-outermost-ctn > div.c-vue-coupon > div.coupon-mask.she-scroll-hide > div > i').click()\n",
    "except:\n",
    "    pass"
   ]
  },
  {
   "cell_type": "code",
   "execution_count": null,
   "metadata": {},
   "outputs": [],
   "source": []
  },
  {
   "cell_type": "code",
   "execution_count": 6,
   "metadata": {},
   "outputs": [],
   "source": [
    "#browser.find_element_by_css_selector('.nav2-sec-ctn.j-nav2-sec-ctn.j-sa-nav2-sec-ctn').click()"
   ]
  },
  {
   "cell_type": "code",
   "execution_count": 7,
   "metadata": {},
   "outputs": [],
   "source": [
    "fecha = browser.find_element_by_css_selector('.filter-title.level-title.leftnav-second-title').find_element_by_tag_name('a')\n",
    "fecha_alta = fecha.text\n",
    "fecha.click()"
   ]
  },
  {
   "cell_type": "code",
   "execution_count": 8,
   "metadata": {},
   "outputs": [],
   "source": [
    "women_element = browser.find_element_by_css_selector('.list-classify-filter.list-indent-one.j-fold-category-ctn').find_element_by_tag_name('li').find_element_by_tag_name('a')\n",
    "women = women_element.text.upper()"
   ]
  },
  {
   "cell_type": "code",
   "execution_count": 9,
   "metadata": {},
   "outputs": [],
   "source": [
    "#CLICK EN WOMEN\n",
    "women_element.click()"
   ]
  },
  {
   "cell_type": "code",
   "execution_count": 10,
   "metadata": {},
   "outputs": [],
   "source": [
    "category_list = browser.find_elements_by_css_selector('.list-classify-filter.list-indent-one')[1]"
   ]
  },
  {
   "cell_type": "code",
   "execution_count": 11,
   "metadata": {},
   "outputs": [],
   "source": [
    "html_cat = []\n",
    "\n",
    "for cat in category_list.find_elements_by_tag_name('li'):\n",
    "    \n",
    "    html_cat.append([cat.find_element_by_tag_name('a').get_attribute('href'),\n",
    "                     cat.find_element_by_tag_name('a').get_attribute('data-cat-url-name')])\n",
    "    "
   ]
  },
  {
   "cell_type": "code",
   "execution_count": 12,
   "metadata": {},
   "outputs": [],
   "source": [
    "LINK_CATEGORIAS = [i for i in html_cat if i[1] in ['Clothing','Lingerie & Loungewear','Beachwear','Activewear']]"
   ]
  },
  {
   "cell_type": "code",
   "execution_count": null,
   "metadata": {},
   "outputs": [],
   "source": []
  },
  {
   "cell_type": "code",
   "execution_count": null,
   "metadata": {},
   "outputs": [],
   "source": []
  },
  {
   "cell_type": "code",
   "execution_count": 13,
   "metadata": {},
   "outputs": [],
   "source": [
    "import pickle\n",
    "def agregarLinks(url_aux,driver,lista,tipologia_aux,url_concat):\n",
    "    time.sleep(1)\n",
    "    driver.get(url_aux)\n",
    "#     pickle.dump(browser.get_cookies() , open(\"cookies.pkl\",\"wb\"))\n",
    "#     cookies = pickle.load(open(\"cookies.pkl\", \"rb\"))\n",
    "#     for cookie in cookies:\n",
    "#         browser.add_cookie(cookie)\n",
    "    \n",
    "    for elements in browser.find_elements_by_css_selector('.list-line-decorate.j-attr-filter'):\n",
    "        \n",
    "        if elements.find_element_by_tag_name('li').text == 'Color':\n",
    "        #if elements.text == 'Color':\n",
    "            print(tipologia_aux)\n",
    "\n",
    "            for color in elements.find_elements_by_class_name('j-auto-attrlink'):\n",
    "\n",
    "                lista.append([tipologia_aux,\n",
    "                              color.get_attribute('data-attrvalue'),\n",
    "                              color.get_attribute('href')])\n",
    "                \n",
    "    return lista"
   ]
  },
  {
   "cell_type": "code",
   "execution_count": 14,
   "metadata": {},
   "outputs": [
    {
     "name": "stdout",
     "output_type": "stream",
     "text": [
      "Clothing\n",
      "Lingerie & Loungewear\n",
      "Beachwear\n",
      "Activewear\n"
     ]
    }
   ],
   "source": [
    "Tlistas = []\n",
    "browser = createDriver()\n",
    "url_base = 'https://www.shein.com'\n",
    "for lsc in LINK_CATEGORIAS:\n",
    "    \n",
    "    agregarLinks(lsc[0],\n",
    "                 browser,\n",
    "                 Tlistas,\n",
    "                 lsc[1],\n",
    "                 url_base)"
   ]
  },
  {
   "cell_type": "code",
   "execution_count": null,
   "metadata": {},
   "outputs": [],
   "source": []
  },
  {
   "cell_type": "code",
   "execution_count": 15,
   "metadata": {},
   "outputs": [],
   "source": [
    "#browser.delete_all_cookies()"
   ]
  },
  {
   "cell_type": "code",
   "execution_count": 16,
   "metadata": {},
   "outputs": [],
   "source": [
    "hrefs_list = []\n",
    "ex_col = []\n",
    "\n",
    "for lista in Tlistas:\n",
    "    \n",
    "#for lista in Tlistas[4:]:\n",
    "\n",
    "    try:\n",
    "        browser.delete_all_cookies()\n",
    "        browser.get(lista[2])\n",
    "    except:\n",
    "        pass\n",
    "    \n",
    "    while True:\n",
    "        \n",
    "        soup = BeautifulSoup(browser.page_source,'html.parser')\n",
    "\n",
    "        indice_= 0\n",
    "        \n",
    "        if soup.select('div.j-switch-color-wrap > div.c-goodsitem__ratiowrap > a') == []: raise\n",
    "            \n",
    "        for element in soup.select('div.j-switch-color-wrap > div.c-goodsitem__ratiowrap > a'):\n",
    "        #for element in soup.find_all(class_='c-goodsitem__ratioimg j-item-msg j-item-msg-a j-expose__target-goods-img'):\n",
    "            \n",
    "            \n",
    "            href_aux = url_base + element.get('href')\n",
    "\n",
    "            hrefs_list.append([indice_,\n",
    "                               lista[0],\n",
    "                               lista[1],\n",
    "                               lista[2],\n",
    "                               href_aux\n",
    "                              ])\n",
    "            indice_+=1\n",
    "                \n",
    "            #except:\n",
    "            #    raise\n",
    "            #    ex_col.append([lista[0],lista[2],lista[1]])\n",
    "            #    pass            \n",
    "        try:\n",
    "            browser.find_element_by_class_name('page-next').find_element_by_tag_name('a').click()\n",
    "        except:\n",
    "            break\n",
    "#browser.quit()\n"
   ]
  },
  {
   "cell_type": "code",
   "execution_count": null,
   "metadata": {},
   "outputs": [],
   "source": []
  },
  {
   "cell_type": "code",
   "execution_count": null,
   "metadata": {},
   "outputs": [],
   "source": []
  },
  {
   "cell_type": "code",
   "execution_count": null,
   "metadata": {},
   "outputs": [],
   "source": []
  },
  {
   "cell_type": "code",
   "execution_count": null,
   "metadata": {},
   "outputs": [],
   "source": []
  },
  {
   "cell_type": "code",
   "execution_count": null,
   "metadata": {},
   "outputs": [],
   "source": []
  },
  {
   "cell_type": "code",
   "execution_count": 17,
   "metadata": {},
   "outputs": [],
   "source": [
    "#soup.find_all(class_='c-goodsitem__ratioimg j-item-msg j-item-msg-a j-expose__target-goods-img')"
   ]
  },
  {
   "cell_type": "code",
   "execution_count": 37,
   "metadata": {},
   "outputs": [],
   "source": [
    "df = pd.DataFrame(hrefs_list,columns=['pos','tipo','color','url_scraper','href'])"
   ]
  },
  {
   "cell_type": "code",
   "execution_count": 38,
   "metadata": {},
   "outputs": [
    {
     "data": {
      "text/plain": [
       "array(['Clothing', 'Lingerie & Loungewear', 'Beachwear', 'Activewear'],\n",
       "      dtype=object)"
      ]
     },
     "execution_count": 38,
     "metadata": {},
     "output_type": "execute_result"
    }
   ],
   "source": [
    "df['tipo'].unique()"
   ]
  },
  {
   "cell_type": "code",
   "execution_count": 39,
   "metadata": {},
   "outputs": [],
   "source": [
    "def check_length(serie):\n",
    "    \n",
    "    #if menor a 8 es porque hay un link donde el max es un numero que no es el id_producto\n",
    "    ##caso especial : 'https://www.shein.com/skdress07191118781-p-929597-cat-2005.html?scici=homepage_164~~0_Banner_1_0_hotZone_w7bymbmsz~~3_2~~real_1991~~ccc_shein_pc_kids-homepage_default~~0~~50001'\n",
    "    #\n",
    "    return str(max([X for X in map(int,re.findall(r\"([\\d]+)\",serie)) if len(str(X))<8]))\n",
    "    "
   ]
  },
  {
   "cell_type": "code",
   "execution_count": 40,
   "metadata": {},
   "outputs": [],
   "source": [
    "df['auxi'] = df['href'].apply(check_length)"
   ]
  },
  {
   "cell_type": "code",
   "execution_count": 41,
   "metadata": {},
   "outputs": [
    {
     "data": {
      "text/plain": [
       "(445, 445)"
      ]
     },
     "execution_count": 41,
     "metadata": {},
     "output_type": "execute_result"
    }
   ],
   "source": [
    "len(df.drop_duplicates()),len(df)"
   ]
  },
  {
   "cell_type": "code",
   "execution_count": 42,
   "metadata": {},
   "outputs": [],
   "source": [
    "#active = [i for i in Tlistas if i[0] == 'Activewear']"
   ]
  },
  {
   "cell_type": "code",
   "execution_count": null,
   "metadata": {},
   "outputs": [],
   "source": []
  },
  {
   "cell_type": "code",
   "execution_count": 43,
   "metadata": {},
   "outputs": [],
   "source": [
    "if len(df['tipo'].unique().tolist()) != len(set([item[0] for item in Tlistas])):\n",
    "    print('REVISAR LOS TIPOS SCRAPEADOS')\n",
    "    raise"
   ]
  },
  {
   "cell_type": "code",
   "execution_count": 44,
   "metadata": {},
   "outputs": [
    {
     "data": {
      "text/plain": [
       "(4, 4)"
      ]
     },
     "execution_count": 44,
     "metadata": {},
     "output_type": "execute_result"
    }
   ],
   "source": [
    "len(df['tipo'].unique().tolist()),len(set([item[0] for item in Tlistas]))"
   ]
  },
  {
   "cell_type": "code",
   "execution_count": 26,
   "metadata": {},
   "outputs": [],
   "source": [
    "def scrape_url(url_aux,pos_aux,url_scraper,aux_tipologia,aux_color,aux_flag):\n",
    "    \n",
    "    lista_auxiliar = []\n",
    "    url = url_aux\n",
    "    for _ in range(5):\n",
    "        try:\n",
    "            txt = re.findall(r'goodsInfo\\s*:\\s*({.*})', requests.get(url).text)\n",
    "            txt = txt[0]\n",
    "            break\n",
    "        except:\n",
    "            pass\n",
    "    try:\n",
    "        data = json.loads(txt)\n",
    "    except:\n",
    "        return [-1,-1,-1,-1,-1,-1,-1,-1,-1,-1,-1,-1]\n",
    "\n",
    "    #DESCRIPCION\n",
    "    descripcion = (data['detail']['goods_name'])\n",
    "    #PRECIO \n",
    "\n",
    "    precio = data['price']['info']['price'][aux_flag]['retailPrice']['amount']\n",
    "    #PRECIO CON DTO\n",
    "    precio_dto = data['price']['info']['price'][aux_flag]['salePrice']['amount']    \n",
    "    #ID\n",
    "    codigo = data['localSize']['skc']\n",
    "    #JPG\n",
    "    jpg = data['goods_imgs']['main_image']['origin_image']\n",
    "\n",
    "    for item in data['attrSize']:\n",
    "\n",
    "        lista_auxiliar.append([pos_aux,\n",
    "                            aux_tipologia,\n",
    "                            aux_color,\n",
    "                            codigo,\n",
    "                            descripcion,\n",
    "                            item['attr_value_en'],\n",
    "                            item['stock'],\n",
    "                            precio,\n",
    "                            precio_dto,\n",
    "                            jpg,\n",
    "                            url_aux,\n",
    "                            url_scraper\n",
    "                            ])\n",
    "    return lista_auxiliar\n",
    "\n",
    "def scrape_batch(url_chunk):\n",
    "    chunk_resp = []\n",
    "    for indices,fila in url_chunk.iterrows():\n",
    "        chunk_resp.append(scrape_url(fila['href'],fila['pos'],fila['url_scraper'],fila['tipo'],fila['color'],fila['auxi']))\n",
    "                     \n",
    "    return chunk_resp\n"
   ]
  },
  {
   "cell_type": "code",
   "execution_count": 27,
   "metadata": {},
   "outputs": [],
   "source": [
    "start_ = datetime.datetime.now()\n",
    "items = []\n",
    "\n",
    "batch_size = 5\n",
    "url_chunks = [df[x:x+batch_size] for x in range(0, len(df), batch_size)]\n",
    "\n",
    "var = 0\n",
    "for url_chunk in url_chunks:\n",
    "    items.append(scrape_batch(url_chunk))\n",
    "    var += 1\n",
    "    \n",
    "    if var == 30:\n",
    "        var = 0\n",
    "        try:\n",
    "            df = pd.DataFrame(items)\n",
    "            df.to_excel('lanzamiento.xlsx')\n",
    "            \n",
    "                                                                                            \n",
    "            file = open(\"lanzamiento.txt\", \"w\")\n",
    "            file.write( str(url_chunk) + os.linesep)\n",
    "            file.close()\n",
    "        except:\n",
    "            print(\"Erro al crear .xlsx\")\n",
    "        \n",
    "    \n",
    "end_ = datetime.datetime.now()"
   ]
  },
  {
   "cell_type": "code",
   "execution_count": null,
   "metadata": {},
   "outputs": [],
   "source": []
  },
  {
   "cell_type": "code",
   "execution_count": 28,
   "metadata": {},
   "outputs": [],
   "source": [
    "new_list = aplanar(items)"
   ]
  },
  {
   "cell_type": "code",
   "execution_count": null,
   "metadata": {},
   "outputs": [],
   "source": []
  },
  {
   "cell_type": "code",
   "execution_count": 29,
   "metadata": {
    "scrolled": true
   },
   "outputs": [
    {
     "name": "stdout",
     "output_type": "stream",
     "text": [
      "Tiempo de ejecución: 1:53:03.83\n"
     ]
    }
   ],
   "source": [
    "print('Tiempo de ejecución: {}'.format(end_ - start_)[:-4])"
   ]
  },
  {
   "cell_type": "code",
   "execution_count": 30,
   "metadata": {},
   "outputs": [],
   "source": [
    "new_list =[ i for i in new_list if type(i) != int]"
   ]
  },
  {
   "cell_type": "code",
   "execution_count": 31,
   "metadata": {},
   "outputs": [],
   "source": [
    "df = pd.DataFrame(new_list)"
   ]
  },
  {
   "cell_type": "code",
   "execution_count": 32,
   "metadata": {},
   "outputs": [],
   "source": [
    "df.rename(columns={0:'pos',\n",
    "                  1:'tipo',\n",
    "                  2:'color',\n",
    "                  3:'sku',\n",
    "                  4:'descripcion',\n",
    "                  5:'talle',\n",
    "                  6:'stock',\n",
    "                  7:'precio',\n",
    "                  8:'precio_dto',\n",
    "                  9:'img',\n",
    "                  10:'url',\n",
    "                  11:'pagina_scraper'\n",
    "                  },inplace=True)\n",
    "df['fecha_alta'] = fecha_alta\n",
    "df[\"marca\"] = \"SHEIN\"\n",
    "df[\"moneda\"] = \"DOLAR US$\""
   ]
  },
  {
   "cell_type": "code",
   "execution_count": 35,
   "metadata": {},
   "outputs": [
    {
     "data": {
      "text/plain": [
       "True"
      ]
     },
     "execution_count": 35,
     "metadata": {},
     "output_type": "execute_result"
    }
   ],
   "source": [
    "browser.save_screenshot('asd.png')"
   ]
  },
  {
   "cell_type": "code",
   "execution_count": 33,
   "metadata": {},
   "outputs": [
    {
     "ename": "AttributeError",
     "evalue": "Can only use .str accessor with string values, which use np.object_ dtype in pandas",
     "output_type": "error",
     "traceback": [
      "\u001b[0;31m---------------------------------------------------------------------------\u001b[0m",
      "\u001b[0;31mAttributeError\u001b[0m                            Traceback (most recent call last)",
      "\u001b[0;32m<ipython-input-33-0de603dc0267>\u001b[0m in \u001b[0;36m<module>\u001b[0;34m\u001b[0m\n\u001b[0;32m----> 1\u001b[0;31m df[\"precio_dto\"] = (df[\"precio_dto\"]\n\u001b[0m\u001b[1;32m      2\u001b[0m                 \u001b[0;34m.\u001b[0m\u001b[0mstr\u001b[0m\u001b[0;34m.\u001b[0m\u001b[0mextract\u001b[0m\u001b[0;34m(\u001b[0m\u001b[0;34mr\"([\\d,\\.]+)\"\u001b[0m\u001b[0;34m,\u001b[0m \u001b[0mexpand\u001b[0m\u001b[0;34m=\u001b[0m\u001b[0;32mFalse\u001b[0m\u001b[0;34m)\u001b[0m\u001b[0;34m\u001b[0m\u001b[0;34m\u001b[0m\u001b[0m\n\u001b[1;32m      3\u001b[0m                 \u001b[0;34m.\u001b[0m\u001b[0mstr\u001b[0m\u001b[0;34m.\u001b[0m\u001b[0mreplace\u001b[0m\u001b[0;34m(\u001b[0m\u001b[0;34m\",\"\u001b[0m\u001b[0;34m,\u001b[0m \u001b[0;34m\".\"\u001b[0m\u001b[0;34m)\u001b[0m\u001b[0;34m\u001b[0m\u001b[0;34m\u001b[0m\u001b[0m\n\u001b[1;32m      4\u001b[0m                 .astype(float))\n",
      "\u001b[0;32m~/miniconda3/envs/dev_env/lib/python3.6/site-packages/pandas/core/generic.py\u001b[0m in \u001b[0;36m__getattr__\u001b[0;34m(self, name)\u001b[0m\n\u001b[1;32m   4370\u001b[0m         if (name in self._internal_names_set or name in self._metadata or\n\u001b[1;32m   4371\u001b[0m                 name in self._accessors):\n\u001b[0;32m-> 4372\u001b[0;31m             \u001b[0;32mreturn\u001b[0m \u001b[0mobject\u001b[0m\u001b[0;34m.\u001b[0m\u001b[0m__getattribute__\u001b[0m\u001b[0;34m(\u001b[0m\u001b[0mself\u001b[0m\u001b[0;34m,\u001b[0m \u001b[0mname\u001b[0m\u001b[0;34m)\u001b[0m\u001b[0;34m\u001b[0m\u001b[0;34m\u001b[0m\u001b[0m\n\u001b[0m\u001b[1;32m   4373\u001b[0m         \u001b[0;32melse\u001b[0m\u001b[0;34m:\u001b[0m\u001b[0;34m\u001b[0m\u001b[0;34m\u001b[0m\u001b[0m\n\u001b[1;32m   4374\u001b[0m             \u001b[0;32mif\u001b[0m \u001b[0mself\u001b[0m\u001b[0;34m.\u001b[0m\u001b[0m_info_axis\u001b[0m\u001b[0;34m.\u001b[0m\u001b[0m_can_hold_identifiers_and_holds_name\u001b[0m\u001b[0;34m(\u001b[0m\u001b[0mname\u001b[0m\u001b[0;34m)\u001b[0m\u001b[0;34m:\u001b[0m\u001b[0;34m\u001b[0m\u001b[0;34m\u001b[0m\u001b[0m\n",
      "\u001b[0;32m~/miniconda3/envs/dev_env/lib/python3.6/site-packages/pandas/core/accessor.py\u001b[0m in \u001b[0;36m__get__\u001b[0;34m(self, obj, cls)\u001b[0m\n\u001b[1;32m    131\u001b[0m             \u001b[0;31m# we're accessing the attribute of the class, i.e., Dataset.geo\u001b[0m\u001b[0;34m\u001b[0m\u001b[0;34m\u001b[0m\u001b[0;34m\u001b[0m\u001b[0m\n\u001b[1;32m    132\u001b[0m             \u001b[0;32mreturn\u001b[0m \u001b[0mself\u001b[0m\u001b[0;34m.\u001b[0m\u001b[0m_accessor\u001b[0m\u001b[0;34m\u001b[0m\u001b[0;34m\u001b[0m\u001b[0m\n\u001b[0;32m--> 133\u001b[0;31m         \u001b[0maccessor_obj\u001b[0m \u001b[0;34m=\u001b[0m \u001b[0mself\u001b[0m\u001b[0;34m.\u001b[0m\u001b[0m_accessor\u001b[0m\u001b[0;34m(\u001b[0m\u001b[0mobj\u001b[0m\u001b[0;34m)\u001b[0m\u001b[0;34m\u001b[0m\u001b[0;34m\u001b[0m\u001b[0m\n\u001b[0m\u001b[1;32m    134\u001b[0m         \u001b[0;31m# Replace the property with the accessor object. Inspired by:\u001b[0m\u001b[0;34m\u001b[0m\u001b[0;34m\u001b[0m\u001b[0;34m\u001b[0m\u001b[0m\n\u001b[1;32m    135\u001b[0m         \u001b[0;31m# http://www.pydanny.com/cached-property.html\u001b[0m\u001b[0;34m\u001b[0m\u001b[0;34m\u001b[0m\u001b[0;34m\u001b[0m\u001b[0m\n",
      "\u001b[0;32m~/miniconda3/envs/dev_env/lib/python3.6/site-packages/pandas/core/strings.py\u001b[0m in \u001b[0;36m__init__\u001b[0;34m(self, data)\u001b[0m\n\u001b[1;32m   1893\u001b[0m \u001b[0;34m\u001b[0m\u001b[0m\n\u001b[1;32m   1894\u001b[0m     \u001b[0;32mdef\u001b[0m \u001b[0m__init__\u001b[0m\u001b[0;34m(\u001b[0m\u001b[0mself\u001b[0m\u001b[0;34m,\u001b[0m \u001b[0mdata\u001b[0m\u001b[0;34m)\u001b[0m\u001b[0;34m:\u001b[0m\u001b[0;34m\u001b[0m\u001b[0;34m\u001b[0m\u001b[0m\n\u001b[0;32m-> 1895\u001b[0;31m         \u001b[0mself\u001b[0m\u001b[0;34m.\u001b[0m\u001b[0m_validate\u001b[0m\u001b[0;34m(\u001b[0m\u001b[0mdata\u001b[0m\u001b[0;34m)\u001b[0m\u001b[0;34m\u001b[0m\u001b[0;34m\u001b[0m\u001b[0m\n\u001b[0m\u001b[1;32m   1896\u001b[0m         \u001b[0mself\u001b[0m\u001b[0;34m.\u001b[0m\u001b[0m_is_categorical\u001b[0m \u001b[0;34m=\u001b[0m \u001b[0mis_categorical_dtype\u001b[0m\u001b[0;34m(\u001b[0m\u001b[0mdata\u001b[0m\u001b[0;34m)\u001b[0m\u001b[0;34m\u001b[0m\u001b[0;34m\u001b[0m\u001b[0m\n\u001b[1;32m   1897\u001b[0m \u001b[0;34m\u001b[0m\u001b[0m\n",
      "\u001b[0;32m~/miniconda3/envs/dev_env/lib/python3.6/site-packages/pandas/core/strings.py\u001b[0m in \u001b[0;36m_validate\u001b[0;34m(data)\u001b[0m\n\u001b[1;32m   1915\u001b[0m             \u001b[0;31m# (instead of test for object dtype), but that isn't practical for\u001b[0m\u001b[0;34m\u001b[0m\u001b[0;34m\u001b[0m\u001b[0;34m\u001b[0m\u001b[0m\n\u001b[1;32m   1916\u001b[0m             \u001b[0;31m# performance reasons until we have a str dtype (GH 9343)\u001b[0m\u001b[0;34m\u001b[0m\u001b[0;34m\u001b[0m\u001b[0;34m\u001b[0m\u001b[0m\n\u001b[0;32m-> 1917\u001b[0;31m             raise AttributeError(\"Can only use .str accessor with string \"\n\u001b[0m\u001b[1;32m   1918\u001b[0m                                  \u001b[0;34m\"values, which use np.object_ dtype in \"\u001b[0m\u001b[0;34m\u001b[0m\u001b[0;34m\u001b[0m\u001b[0m\n\u001b[1;32m   1919\u001b[0m                                  \"pandas\")\n",
      "\u001b[0;31mAttributeError\u001b[0m: Can only use .str accessor with string values, which use np.object_ dtype in pandas"
     ]
    }
   ],
   "source": [
    "df[\"precio_dto\"] = (df[\"precio_dto\"]\n",
    "                .str.extract(r\"([\\d,\\.]+)\", expand=False)\n",
    "                .str.replace(\",\", \".\")\n",
    "                .astype(float))"
   ]
  },
  {
   "cell_type": "code",
   "execution_count": null,
   "metadata": {},
   "outputs": [],
   "source": [
    "df[\"precio\"] = (df[\"precio\"]\n",
    "                .str.extract(r\"([\\d,\\.]+)\", expand=False)\n",
    "                .str.replace(\",\", \".\")\n",
    "                .astype(float))"
   ]
  },
  {
   "cell_type": "code",
   "execution_count": null,
   "metadata": {},
   "outputs": [],
   "source": [
    "df['sexo'] ='Mujer'"
   ]
  },
  {
   "cell_type": "code",
   "execution_count": null,
   "metadata": {},
   "outputs": [],
   "source": []
  },
  {
   "cell_type": "code",
   "execution_count": null,
   "metadata": {},
   "outputs": [],
   "source": [
    "df = df.drop_duplicates()"
   ]
  },
  {
   "cell_type": "code",
   "execution_count": null,
   "metadata": {},
   "outputs": [],
   "source": [
    "browser.quit()"
   ]
  },
  {
   "cell_type": "code",
   "execution_count": null,
   "metadata": {},
   "outputs": [],
   "source": [
    "df.dropna(inplace=True)"
   ]
  },
  {
   "cell_type": "code",
   "execution_count": null,
   "metadata": {},
   "outputs": [],
   "source": [
    "set([i[1] for i in new_list])"
   ]
  },
  {
   "cell_type": "code",
   "execution_count": null,
   "metadata": {},
   "outputs": [],
   "source": [
    "fecha = datetime.date.today()\n",
    "df.to_excel('../Salida/lanzamiento'+str(fecha)+'.xlsx')\n",
    "# writer = ExcelWriter('../Salida/lanzamiento'+str(fecha)+'.xlsx')\n",
    "# df.to_excel(writer,'Hoja1')\n",
    "# writer.save()"
   ]
  },
  {
   "cell_type": "code",
   "execution_count": null,
   "metadata": {},
   "outputs": [],
   "source": [
    "raise"
   ]
  },
  {
   "cell_type": "code",
   "execution_count": null,
   "metadata": {},
   "outputs": [],
   "source": []
  },
  {
   "cell_type": "code",
   "execution_count": 40,
   "metadata": {},
   "outputs": [],
   "source": [
    "browser.quit()"
   ]
  },
  {
   "cell_type": "code",
   "execution_count": null,
   "metadata": {},
   "outputs": [],
   "source": [
    "len(df)"
   ]
  },
  {
   "cell_type": "code",
   "execution_count": 41,
   "metadata": {},
   "outputs": [
    {
     "data": {
      "text/plain": [
       "PosixPath('/home/aa/cloudJ/JB/PRD/scrapper/Scripts')"
      ]
     },
     "execution_count": 41,
     "metadata": {},
     "output_type": "execute_result"
    }
   ],
   "source": [
    "import pathlib\n",
    "pathlib.Path().absolute()"
   ]
  },
  {
   "cell_type": "code",
   "execution_count": 42,
   "metadata": {},
   "outputs": [
    {
     "data": {
      "text/plain": [
       "'/home/aa/cloudJ/JB/PRD/scrapper/Scripts'"
      ]
     },
     "execution_count": 42,
     "metadata": {},
     "output_type": "execute_result"
    }
   ],
   "source": [
    "import os\n",
    "os.getcwd()"
   ]
  },
  {
   "cell_type": "code",
   "execution_count": null,
   "metadata": {},
   "outputs": [],
   "source": [
    "\n",
    "    window.goodsDetailv2SsrData = {\n",
    "        goodsDetailv2Language: {\"lang_category_percent_sale\":\"Buy {0} Get 1 {1} Off\",\"lang_category_percent_sale_all\":\"BUY {0} GET {1}% OFF\",\"lang_category_percent_free\":\"Buy {0} Get 1 Free\",\"lang_footer_shipping_info\":\"Shipping Info\",\"lang_footer_return_policy\":\"Return Policy\",\"lang_footer_freetrial\":\"Free Trial Report\",\"SHEIN_PC_KEY_4177\":\"Size Guide\",\"SHEIN_PC_KEY_5051\":\"Please enter 6 digit pincode to check delivery&services.\",\"lang_goods_customer_view\":\"Customers Also Viewed\",\"lang_goods_flash_back_to_flashsale\":\"Back to flash sale\",\"lang_goods_flash_sold\":\"{0} SOLD\",\"lang_goods_flash_end_in\":\"ENDS IN {0}\",\"SHEIN_PC_KEY_3219\":\"Flash Sale\",\"SHEIN_PC_KEY_5092\":\"Ends in {0}\",\"lang_goods_description\":\"Description\",\"lang_goods_stock\":\"In Stock\",\"lang_goods_out_ofstock\":\"Out of Stock\",\"lang_goods_limit_buy\":\"Max Qty allowed for this limited product is <span class=\\\"red\\\">{0}</span>.\",\"lang_goods_word_color\":\"Color\",\"lang_goods_get_the_look\":\"Get The Look\",\"add_to_bag\":\"Add To Bag\",\"lang_goods_true_to_sze\":\"True to Size\",\"lang_goods_large\":\"Large\",\"lang_goods_small\":\"Small\",\"added\":\"ADDED!\",\"reviews_size\":\"size\",\"reviews_image\":\"Image\",\"reviews_all_all\":\"All\",\"reviews_with_picture\":\"With Picture\",\"reviews_no_picture\":\"No Picture\",\"reviews_recent_to_oldest\":\"Most Recent to Oldest\",\"reviews_oldest_to_most_recent\":\"Oldest to Most Recent\",\"reviews_likes_high_to_low\":\"Likes High to Low\",\"lang_goods_own\":\"Customer Reviews\",\"lang_goods_review_average\":\"Average Rating\",\"lang_review_fitwell\":\"Did the item fit well?\",\"reviews_all_reviews\":\"Reviews\",\"reviews_sort_by\":\"Sort by\",\"no_comment_tips\":\"No comments on this product found based on your request.\",\"lang_goods_item_size\":\"Item Size:\",\"lang_goods_overall_fit\":\"Overall Fit:\",\"lang_goods_view_all\":\"View All\",\"lang_goods_bra_size\":\"Bra Size:\",\"lang_goods_bust_size\":\"Bust:\",\"lang_goods_weight\":\"Weight:\",\"lang_goods_height\":\"Height:\",\"lang_goods_hips\":\"Hips:\",\"lang_goods_waist\":\"Waist:\",\"lang_goods_reply\":\"Answer\",\"lang_goods_best_sellers\":\"Best Sellers\",\"lang_size_fit\":\"Size & Fit\",\"lang_goods_style_gallery\":\"Style Gallery\",\"lang_style_gallery_empty_p1\":\"The Style Gallery is a great new way for you to share outfit photos. It's meant to show all the expressive, creative and inspirational personalities!\",\"lang_style_gallery_empty_p2\":\"Earn <em>20 points</em> by uploading your own photo.\",\"lang_goods_upload_photo\":\"Upload your Photo\",\"lang_bfs_view_photo\":\"add your photo\",\"SHEIN_PC_KEY_3894\":\"Details\",\"lang_cart_color\":\"Color\",\"SHEIN_PC_KEY_4923\":\"Estimated to be delivered on {0}.\",\"lang_goods_may_like\":\"You May Also Like\",\"choose_my_size\":\"choose my size \",\"choose_my_size_tips\":\"according to the information you enter, a size will be recommended with other customers' feedback on the size, which you can use for your reference.\",\"find_my_size\":\"Find my size\",\"sorry\":\"sorry\",\"sorry_no_recommend_size\":\"No size can be recommended. <br/>\",\"similar_shapes_chose\":\"Most customers who have similar shapes chose\",\"continue_shopping\":\"Continue shopping\",\"edit_my_size\":\"Edit My Size\",\"thin\":\"Thin\",\"average\":\"Average\",\"thick\":\"Thick\",\"goods_add_size\":\"Add Size {0}\",\"SHEIN_PC_KEY_4535\":\"Other Options\",\"lang_category_view_all\":\"View All\",\"lang_goods_learn\":\"Learn more\",\"size_recommended\":\"Size Recommended\",\"check_my_size\":\"Check my size\",\"SHEIN_PC_KEY_4903\":\"NEW\",\"SHEIN_PC_KEY_4927\":\"Hurry! Almost Sold Out...\",\"SHEIN_PC_KEY_4645\":\"Approx {0} - {1}\",\"SHEIN_PC_KEY_4431\":\"Free Standard Shipping\",\"SHEIN_PC_KEY_4425\":\"Free standard shipping on orders over {0}\",\"SHEIN_PC_KEY_4424\":\"Free Express Shipping\",\"SHEIN_PC_KEY_4426\":\"Free express shipping on orders over {0}\",\"SHEIN_PC_KEY_4432\":\"Free Flat Rate Shipping\",\"SHEIN_PC_KEY_4433\":\"Free flat rate shipping on orders over {0}\",\"free_shipping\":\"Free shipping\",\"free_ship_over\":\"Free shipping on orders over {0}\",\"lang_goods_flash_lighting_deals\":\"flash sale\",\"lang_goods_only_one\":\"purchase limit exceeded\",\"SHEIN_PC_KEY_3274\":\"You have reached the Max Qty of flash sale\",\"lang_goods_earn\":\"Earn\",\"lang_goods_points\":\"SHEIN Points\",\"SHEIN_PC_KEY_4889\":\"Do you like this product?\",\"SHEIN_PC_KEY_4850\":\"Find Similar\",\"SHEIN_PC_KEY_5147\":\"Show Similar\",\"SHEIN_PC_KEY_5150\":\"This product is sold out, please check out our similar items.\",\"lang_goods_out\":\"Sold Out\",\"lang_goods_size_size\":\"Size\",\"lang_goods_size_size1\":\"Size\",\"lang_goods_please_select_size\":\"Please Select Size\",\"lang_goods_chart\":\"Size Chart\",\"SHEIN_PC_KEY_4930\":\"Return and exchange goods are not supported.\",\"SHEIN_PC_KEY_5082\":\"Item Size\",\"SHEIN_PC_KEY_4929\":\"Free Return & Exchange\",\"SHEIN_PWA_KEY_3981\":\"Related Searches\",\"lang_goods_years\":\"Years\",\"SHEIN_PC_KEY_5088\":\"User Size\",\"SHEIN_PC_KEY_5090\":\"LOOK\",\"SHEIN_PC_KEY_5089\":\"All Reviews\",\"lang_goods_home\":\"Home\",\"SHEIN_PC_KEY_4437\":\"Model Wear\",\"lang_list_please_select\":\"Recommend\",\"lang_categoryt_off\":\"off\",\"lang_show_have_clicked\":\"You have already liked it.\",\"lang_member_wallet_failed\":\"Failed\",\"SHEIN_PC_KEY_3670\":\"Preference\",\"lang_member_shipping_method\":\" Shipping Method \",\"lang_member_out_of_stock\":\"Out of Stock\",\"lang_member_how_to_measure\":\"How to measure\",\"lang_member_chart_explain\":\"This size chart is for reference purposes only. Note that sizing will vary between brands.\",\"lang_member_shoe_explain\":\"Not all shoe selections will carry all sizes.\",\"lang_member_foot_length\":\"Length\",\"lang_member_word_delivery\":\"Delivery\",\"lang_member_size_height\":\"Height:\",\"lang_member_size_bust_size\":\"Bust:\",\"lang_member_size_waist\":\"Waist:\",\"lang_member_size_hips\":\"Hips:\",\"SHEIN_PC_KEY_3166\":\"Free Shipping\",\"goods_limit_buy\":\"Max Qty allowed for this limited product is {0}\",\"SHEIN_PC_KEY_3243\":\"{0} off over {1}+\",\"SHEIN_PC_KEY_3244\":\"{0} off over {1}+ items\",\"SHEIN_PC_KEY_3237\":\"Add-on items\",\"SHEIN_PC_KEY_3238\":\"Order over {0} can purchase items at {1}\",\"SHEIN_PC_KEY_3378\":\"Return coupons\",\"SHEIN_PC_KEY_3375\":\"Gifts rewarded\",\"SHEIN_PC_KEY_3374\":\"Buy more save more\",\"SHEIN_PC_KEY_3249\":\"{0} for {1} items\",\"SHEIN_PC_KEY_3250\":\"{0} for per {1} items\",\"SHEIN_PC_KEY_3568\":\"2nd {0} 3rd {1}\",\"SHEIN_PC_KEY_3567\":\"2nd {0} off 3rd {1} off\",\"SHEIN_PC_KEY_3565\":\"2nd {0} off\",\"SHEIN_PC_KEY_3566\":\"2nd {0}\",\"SHEIN_PC_KEY_3561\":\"Buy {0} Get {1} coupons\",\"SHEIN_PC_KEY_3564\":\"Buy {0} Get free shipping coupons\",\"SHEIN_PC_KEY_4375\":\"Buy {0} Get 1 {1}% off\",\"SHEIN_PC_KEY_4293\":\"BUY  {0}  GET 1 {1}%  OFF\",\"SHEIN_PC_KEY_4294\":\"Buy {0} Get {1} {2}% off\",\"SHEIN_PC_KEY_5056\":\"Buy {0} get one special discount {1} % off\",\"SHEIN_PC_KEY_5057\":\"Buy {0} get {1} for a special discount {2}% off\",\"SHEIN_PC_KEY_5058\":\"Buy {0} get special discount {1}% off\",\"SHEIN_PC_KEY_5059\":\"Second item get special discount {0}% off\",\"SHEIN_PC_KEY_5060\":\"2nd get special discount {0}% off, 3rd get speical discount {1}% off\",\"SHEIN_PC_KEY_3905\":\"Only {0} Left\",\"clearCartTips\":\"Please review your shopping cart as the item count has reached the limit.\",\"SHEIN_PC_KEY_4191\":\"This item cannot be returned due to promotional activities\",\"SHEIN_PC_KEY_4077\":\"RETURN POLICY\",\"lang_shipping_time\":\"Shipping Time\",\"SHEIN_PC_KEY_4204\":\"Costs\",\"SHEIN_PC_KEY_4198\":\"Shipping to\",\"SHEIN_PC_KEY_3256\":\"Business Days\",\"lang_daily_word_more\":\"More\"},\n",
    "        versionAbtInfo: {\"type\":\"expgroup\",\"bid\":\"4715\",\"eid\":566,\"p\":\"newnew\",\"posKey\":\"SPcItemdetail\",\"poskey\":\"SPcItemdetail\",\"sceneStr\":\"Itemdetail\"},\n",
    "        productIntroData: {\"getNewFlagStatus\":false,\"multiLocalSize\":{\"category_id\":1738,\"category_name\":\"T-Shirts\",\"supplier_category_id\":59,\n",
    "                                                                      \"skc\":\"swtee07191221869\",\"size_rule_list\":{\"DE\":[{\"name\":\"S\",\"correspond\":\"36\"},\n",
    "                                                                                                                       {\"name\":\"XS\",\"correspond\":\"34\"},\n",
    "                                                                                                                       {\"name\":\"M\",\"correspond\":\"38\"},\n",
    "                                                                                                                       {\"name\":\"L\",\"correspond\":\"40/42\"},\n",
    "                                                                                                                       {\"name\":\"XL\",\"correspond\":\"44\"},{\"name\":\"XXL\",\"correspond\":\"46\"}],\"EU\":[{\"name\":\"S\",\"correspond\":\"36\"},{\"name\":\"XS\",\"correspond\":\"34\"},{\"name\":\"M\",\"correspond\":\"38\"},{\"name\":\"L\",\"correspond\":\"40/42\"},{\"name\":\"XL\",\"correspond\":\"44\"},{\"name\":\"XXL\",\"correspond\":\"46\"}],\"UK\":[{\"name\":\"S\",\"correspond\":\"8\"},{\"name\":\"XS\",\"correspond\":\"6\"},{\"name\":\"M\",\"correspond\":\"10\"},{\"name\":\"L\",\"correspond\":\"12/14\"},{\"name\":\"XL\",\"correspond\":\"16\"},{\"name\":\"XXL\",\"correspond\":\"18\"}],\"AU\":[{\"name\":\"S\",\"correspond\":\"8\"},{\"name\":\"XS\",\"correspond\":\"6\"},{\"name\":\"M\",\"correspond\":\"10\"},{\"name\":\"L\",\"correspond\":\"12/14\"},{\"name\":\"XL\",\"correspond\":\"16\"},{\"name\":\"XXL\",\"correspond\":\"18\"}],\"US\":[{\"name\":\"S\",\"correspond\":\"4\"},{\"name\":\"XS\",\"correspond\":\"2\"},{\"name\":\"M\",\"correspond\":\"6\"},{\"name\":\"L\",\"correspond\":\"8/10\"},{\"name\":\"XL\",\"correspond\":\"12\"},{\"name\":\"XXL\",\"correspond\":\"14\"}],\"IT\":[{\"name\":\"XS\",\"correspond\":\"38\"},{\"name\":\"S\",\"correspond\":\"40\"},{\"name\":\"M\",\"correspond\":\"42\"},{\"name\":\"L\",\"correspond\":\"44/46\"},{\"name\":\"XL\",\"correspond\":\"48\"},{\"name\":\"XXL\",\"correspond\":\"50\"}]},\"goods_id\":979392},\"detail\":{\"goods_id\":\"979392\",\"cat_id\":\"1738\",\"goods_sn\":\"swtee07191221869\",\"goods_url_name\":\"Drop Shoulder Figure & Slogan Graphic Top\",\"goods_thumb\":\"//img.ltwebstatic.com/images3_pi/2020/03/02/1583144430d13e817e25cefc40dcffad8b85280a5b_thumbnail_220x293.jpg\",\"original_img\":\"//img.ltwebstatic.com/images3_pi/2020/03/02/1583144430d13e817e25cefc40dcffad8b85280a5b.jpg\",\"goods_img\":\"//img.ltwebstatic.com/images3_pi/2020/03/02/1583144430d13e817e25cefc40dcffad8b85280a5b_thumbnail_405x552.jpg\",\"is_stock_enough\":\"0\",\"is_virtual_stock\":\"0\",\"supplier_id\":\"1223\",\"goods_desc\":\"\",\"goods_detail_desc\":\"\",\"goods_name\":\"Drop Shoulder Figure & Slogan Graphic Top\",\"brand\":\"SHEIN\",\"sizeTemplate\":{\"image_url\":\"http://img.ltwebstatic.com/images2_pi/2018/05/28/15274953862701810197.png\",\"description_multi\":[{\"sort\":1,\"name\":\"Bust\",\"description\":\"Measure under your arms around the fullest part of your bust. Make sure to keep the tape level!\"},{\"sort\":2,\"name\":\"Waist\",\"description\":\"Make sure the measuring tape fits comfortably as you measure around the narrowest part of your natural waist.\"},{\"sort\":3,\"name\":\"Hips\",\"description\":\"Stand with your feet together, and measure around the widest part of your hips.\"}]},\"supplier_top_category_id\":\"59\"…"
   ]
  }
 ],
 "metadata": {
  "kernelspec": {
   "display_name": "Python [conda env:dev_env]",
   "language": "python",
   "name": "conda-env-dev_env-py"
  },
  "language_info": {
   "codemirror_mode": {
    "name": "ipython",
    "version": 3
   },
   "file_extension": ".py",
   "mimetype": "text/x-python",
   "name": "python",
   "nbconvert_exporter": "python",
   "pygments_lexer": "ipython3",
   "version": "3.6.8"
  }
 },
 "nbformat": 4,
 "nbformat_minor": 2
}
