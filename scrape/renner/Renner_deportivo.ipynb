{
 "cells": [
  {
   "cell_type": "code",
   "execution_count": 1,
   "metadata": {},
   "outputs": [],
   "source": [
    "from selenium import webdriver\n",
    "from selenium.webdriver.support.ui import WebDriverWait\n",
    "from selenium.webdriver.common.by import By\n",
    "from selenium.webdriver.support import expected_conditions as EC\n",
    "from selenium.webdriver.chrome.options import Options\n",
    "from bs4 import BeautifulSoup\n",
    "import pandas as pd\n",
    "import requests\n",
    "from time import strftime\n",
    "import datetime\n",
    "import json\n",
    "import time\n",
    "from pandas import ExcelWriter\n",
    "import re\n",
    "import pyodbc\n",
    "import asyncio\n",
    "from selenium.webdriver.common.action_chains import ActionChains\n",
    "import numpy as np\n",
    "from ipywidgets import IntProgress\n",
    "from IPython.display import display\n",
    "import os"
   ]
  },
  {
   "cell_type": "code",
   "execution_count": 2,
   "metadata": {},
   "outputs": [],
   "source": [
    "url_base= 'https://www.lojasrenner.com.br/'"
   ]
  },
  {
   "cell_type": "code",
   "execution_count": null,
   "metadata": {},
   "outputs": [],
   "source": []
  },
  {
   "cell_type": "code",
   "execution_count": 3,
   "metadata": {},
   "outputs": [],
   "source": [
    "fecha = datetime.date.today()\n",
    "hoy = fecha.strftime('%Y/%m/%d')\n",
    "\n",
    "\n",
    "def createDriver():\n",
    "    \n",
    "    user_agent = 'Mozilla/5.0 (X11; Linux x86_64) AppleWebKit/537.36 (KHTML, like Gecko) Chrome/60.0.3112.50 Safari/537.36'    \n",
    "\n",
    "    chrome_options = Options()  \n",
    "    chrome_options.add_argument(\"--headless\")  \n",
    "    chrome_options.add_argument(\"--no-sandbox\")\n",
    "    chrome_options.add_argument(f'user-agent={user_agent}')\n",
    "    chrome_options.add_argument(\"--window-size=1825x9000\")\n",
    "\n",
    "    return webdriver.Chrome('/usr/bin/chromedriver', options = chrome_options)\n",
    "\n",
    "browser = createDriver()\n",
    "browser.get(url_base)\n"
   ]
  },
  {
   "cell_type": "code",
   "execution_count": 4,
   "metadata": {},
   "outputs": [],
   "source": [
    "#Clickear en ESPORTIVO\n",
    "browser.find_element_by_link_text(\"ESPORTIVO\").click()\n",
    "url_femenino = browser.current_url\n",
    "\n",
    "#CLICK EN CATEGORIA ***\n",
    "boton_categoria = WebDriverWait(browser, 50).until(EC.element_to_be_clickable((By.LINK_TEXT,'CATEGORIA')))\n",
    "boton_categoria.click()\n",
    "#Elementos para generar la lista de categorias\n",
    "elements = browser.find_elements_by_xpath('//*[@id=\"item0\"]/div[2]/div')\n",
    "#Lista de categorias\n",
    "categorias = []\n",
    "for i in elements:\n",
    "    categorias.append(i.text.split('\\n'))\n",
    "categorias = categorias[0]\n",
    "#Se remueven las excepciones\n",
    "try:\n",
    "    browser.switch_to.frame(\"social-push\")\n",
    "    browser.execute_script('document.querySelector(\"#btClose\").click()')\n",
    "    browser.switch_to.default_content()\n",
    "except:\n",
    "    pass\n",
    "\n",
    "\n",
    "browser.find_element_by_link_text('Feminino').click()\n",
    "\n",
    "url_deportivo = browser.current_url\n",
    "\n",
    "time.sleep(.8)\n",
    "categorias_deportivo = browser.find_elements_by_xpath('//*[@id=\"item0\"]/div[2]/div')"
   ]
  },
  {
   "cell_type": "code",
   "execution_count": 5,
   "metadata": {},
   "outputs": [],
   "source": [
    "CATEGORIAS = []\n",
    "for intc in categorias_deportivo:\n",
    "    CATEGORIAS.append(intc.text.split('\\n'))\n",
    "CATEGORIAS = CATEGORIAS[0]\n"
   ]
  },
  {
   "cell_type": "code",
   "execution_count": 6,
   "metadata": {},
   "outputs": [],
   "source": [
    "excepts = ['Acessórios','Presentinhos','Bermudas e Shorts','Coletes','Lingerie','Esportivo','Bolsas']\n",
    "for item in excepts:\n",
    "    try:\n",
    "        CATEGORIAS.remove(item)\n",
    "    except:\n",
    "        pass"
   ]
  },
  {
   "cell_type": "code",
   "execution_count": null,
   "metadata": {},
   "outputs": [],
   "source": []
  },
  {
   "cell_type": "code",
   "execution_count": null,
   "metadata": {},
   "outputs": [],
   "source": []
  },
  {
   "cell_type": "code",
   "execution_count": 7,
   "metadata": {},
   "outputs": [],
   "source": [
    "#CATEGORIAS\n",
    "#['Blusas e Camisetas', 'Calças', 'Casacos e Jaquetas']\n",
    "categorias_link = []\n",
    "for item in CATEGORIAS:\n",
    "    browser.find_element_by_link_text(item).click()\n",
    "    categorias_link.append([item,browser.current_url])\n",
    "    \n",
    "    browser.get(url_deportivo)\n",
    "    boton_categoria = WebDriverWait(browser, 50).until(EC.element_to_be_clickable((By.LINK_TEXT,'CATEGORIA1')))\n",
    "    boton_categoria.click()\n",
    "    "
   ]
  },
  {
   "cell_type": "code",
   "execution_count": null,
   "metadata": {},
   "outputs": [],
   "source": []
  },
  {
   "cell_type": "code",
   "execution_count": 10,
   "metadata": {},
   "outputs": [
    {
     "data": {
      "text/plain": [
       "[['Blusas e Camisetas',\n",
       "  'https://www.lojasrenner.com.br/marca/get-over/feminino/blusas-e-camisetas/-/N-wh53pmZ1w31qx8Z1hwylc0/p1'],\n",
       " ['Calças',\n",
       "  'https://www.lojasrenner.com.br/marca/get-over/feminino/calcas/-/N-wh53pmZ14t7lsyZ1hwylc0/p1'],\n",
       " ['Casacos e Jaquetas',\n",
       "  'https://www.lojasrenner.com.br/marca/get-over/feminino/casacos-e-jaquetas/-/N-wh53pmZ1qn5lksZ1hwylc0/p1'],\n",
       " ['Moda Praia',\n",
       "  'https://www.lojasrenner.com.br/marca/get-over/feminino/moda-praia/-/N-wh53pmZ1mglth9Z1hwylc0/p1']]"
      ]
     },
     "execution_count": 10,
     "metadata": {},
     "output_type": "execute_result"
    }
   ],
   "source": [
    "categorias_link"
   ]
  },
  {
   "cell_type": "code",
   "execution_count": 9,
   "metadata": {},
   "outputs": [
    {
     "data": {
      "text/plain": [
       "[['Blusas e Camisetas',\n",
       "  'P',\n",
       "  3,\n",
       "  'https://www.lojasrenner.com.br/marca/get-over/feminino/blusas-e-camisetas/-/N-wh53pmZ1u813j8Z1w31qx8Z1hwylc0/p1'],\n",
       " ['Blusas e Camisetas',\n",
       "  'P',\n",
       "  3,\n",
       "  'https://www.lojasrenner.com.br/marca/get-over/feminino/blusas-e-camisetas/-/N-wh53pmZ1u813j8Z1w31qx8Z1hwylc0/p1'],\n",
       " ['Blusas e Camisetas',\n",
       "  'P',\n",
       "  3,\n",
       "  'https://www.lojasrenner.com.br/marca/get-over/feminino/blusas-e-camisetas/-/N-wh53pmZ1u813j8Z1w31qx8Z1hwylc0/p1']]"
      ]
     },
     "execution_count": 9,
     "metadata": {},
     "output_type": "execute_result"
    }
   ],
   "source": [
    "cantidad_hojas"
   ]
  },
  {
   "cell_type": "code",
   "execution_count": null,
   "metadata": {},
   "outputs": [],
   "source": []
  },
  {
   "cell_type": "code",
   "execution_count": null,
   "metadata": {},
   "outputs": [],
   "source": []
  },
  {
   "cell_type": "code",
   "execution_count": 18,
   "metadata": {},
   "outputs": [],
   "source": [
    "#PAGINACION EN 'cantidad_hojas'\n",
    "#26/07/ 10.52 a.m\n",
    "#Clickea en categorias\n",
    "cantidad_hojas = []\n",
    "for catlink in categorias_link:\n",
    "    try:\n",
    "        browser.get(catlink[1])\n",
    "        wait = WebDriverWait(browser, 50)\n",
    "    except:\n",
    "        browser.quit()\n",
    "        time.sleep(1)\n",
    "        browser = createDriver()\n",
    "        continue\n",
    "\n",
    "#    CLICK EN EL BOTON COLOR \n",
    "#    browser.execute_script('''\n",
    "#    document.getElementsByClassName('filter_item')[3].getElementsByClassName('handle cp')[0].click();\n",
    "#    ''')\n",
    "    \n",
    "    #html_colores = browser.execute_script('''var x = document.getElementsByClassName('df items')[2].textContent;return x;''')\n",
    "    html_colores = browser.find_elements(By.CSS_SELECTOR,'.df.items')[1].find_elements_by_tag_name('a')\n",
    "    colors = [i.get_attribute('text').strip() for i in html_colores]\n",
    "\n",
    "    for item_color in colors:\n",
    "        \n",
    "\n",
    "        #CLICK EN EL COLOR DE LA LISTA\n",
    "        time.sleep(4)\n",
    "        browser.execute_script(f'''$(\"a.item.cp span.npe:contains('{item_color}')\").click();''')\n",
    "        \n",
    "        lastPage = wait.until(EC.presence_of_element_located((By.CLASS_NAME,'js-lastPage'))).get_attribute('data-last-page')\n",
    "        lastPage = int(lastPage)\n",
    "\n",
    "        for cant in range(lastPage):\n",
    "            \n",
    "            cantidad_hojas.append([catlink[0],item_color,lastPage,browser.current_url])\n",
    "            try:\n",
    "                wait.until(EC.presence_of_element_located((By.CLASS_NAME,'js-next-paginator'))).click()\n",
    "                \n",
    "                \n",
    "            except:\n",
    "                pass\n",
    "        \n",
    "        #click en el boton activo\n",
    "        browser.execute_script('window.scrollTo(0,0);')\n",
    "        time.sleep(3)\n",
    "        try:\n",
    "            \n",
    "            browser.execute_script(f'''$(\"a.item.cp span.npe:contains('{item_color}')\").click();''')\n",
    "\n",
    "            #browser.execute_script(f'''$(\"a.item.cp span.npe:contains('{item_color}')\").click();''')\n",
    "            \n",
    "            time.sleep(1)\n",
    "        except:\n",
    "            pass\n",
    "        "
   ]
  },
  {
   "cell_type": "code",
   "execution_count": null,
   "metadata": {},
   "outputs": [],
   "source": []
  },
  {
   "cell_type": "code",
   "execution_count": null,
   "metadata": {},
   "outputs": [],
   "source": []
  },
  {
   "cell_type": "code",
   "execution_count": 19,
   "metadata": {},
   "outputs": [],
   "source": [
    "# CATEGORIA, COLOR, NUMERO, LINK\n",
    "rennerLista = []\n",
    "for ITEM in cantidad_hojas:\n",
    "    \n",
    "    precio = []\n",
    "    browser.get(ITEM[3])\n",
    "    browser.execute_script(\"window.scrollTo(0, document.body.scrollHeight);\")\n",
    "    page = BeautifulSoup(browser.page_source,'html.parser')\n",
    "    try:\n",
    "        articulos = [i.find_all(class_='item_product') for i in page.find_all(class_='wrapper cf results-list js-results-list')][0]\n",
    "    except:\n",
    "        #SIGNIFICA QUE NO SE ENCONTRARON RESULTADOS, PAGINA VACIA\n",
    "        continue\n",
    "        \n",
    "    browser.execute_script(\"window.scrollTo(0, 2000);\")\n",
    "    time.sleep(0.8)\n",
    "    browser.execute_script(\"window.scrollTo(0, 4000);\")\n",
    "    time.sleep(0.8)\n",
    "    browser.execute_script(\"window.scrollTo(0, 5600);\")\n",
    "    time.sleep(0.8)\n",
    "    #element_price = elemento \n",
    "    element_price = browser.find_elements_by_class_name('price_product')\n",
    "    #moverse en el dom para sacar el atributo span class price\n",
    "    prices = [ene.find_elements_by_class_name('price')[0].text for ene in element_price]\n",
    "\n",
    "    #SI SPLIT ES 2 SIGNIFICA QUE NO TIENE PRECIO CON DESCUENTO\n",
    "    #ELSE  SIGNIFICA QUE TIENE PRECIO CON DESCUENTO\n",
    "    for item in prices:\n",
    "        if len(item.split()) == 2:\n",
    "            precio.append([item.split()[1],item.split()[1]])\n",
    "        else:\n",
    "            try:\n",
    "                precio.append([item.split()[1],item.split()[3]])\n",
    "            except:\n",
    "                precio.append(['99999','99999'])\n",
    "            \n",
    "    indice_aux = 0\n",
    "    for articulo in articulos:\n",
    "        data = json.loads(articulo['data-product-gtm'])\n",
    "        #Imagen del producto\n",
    "        try:\n",
    "            img = [i.img['src'] for i in articulo.find_all(class_='img_product')][0]\n",
    "        except:\n",
    "            img = [None]\n",
    "        \n",
    "        \n",
    "        rennerLista.append([data['id'],ITEM[0],ITEM[1],data['name'],precio[indice_aux][0],precio[indice_aux][1],data['brand'],data['url'],img])\n",
    "        indice_aux += 1  "
   ]
  },
  {
   "cell_type": "code",
   "execution_count": 20,
   "metadata": {},
   "outputs": [],
   "source": [
    "browser.quit()"
   ]
  },
  {
   "cell_type": "code",
   "execution_count": 21,
   "metadata": {},
   "outputs": [],
   "source": [
    "dfRenner = pd.DataFrame(rennerLista)"
   ]
  },
  {
   "cell_type": "code",
   "execution_count": 22,
   "metadata": {},
   "outputs": [],
   "source": [
    "#dfRenner.head(1)\n",
    "dfRenner = dfRenner.rename(columns={0: 'id Producto'})\n",
    "dfRenner = dfRenner.rename(columns={1: 'Tipo'})\n",
    "dfRenner = dfRenner.rename(columns={2: 'Color'})\n",
    "dfRenner = dfRenner.rename(columns={3: 'Descripcion'})\n",
    "dfRenner = dfRenner.rename(columns={4: 'Precio Original'})\n",
    "dfRenner = dfRenner.rename(columns={5: 'Precio'})\n",
    "dfRenner = dfRenner.rename(columns={6: 'Marca'})\n",
    "dfRenner = dfRenner.rename(columns={7: 'Url Producto'})\n",
    "dfRenner = dfRenner.rename(columns={8: 'Url Imagen'})"
   ]
  },
  {
   "cell_type": "code",
   "execution_count": 23,
   "metadata": {},
   "outputs": [],
   "source": [
    "dfRenner['Fecha'] = hoy"
   ]
  },
  {
   "cell_type": "code",
   "execution_count": 24,
   "metadata": {},
   "outputs": [],
   "source": [
    "dfRenner = dfRenner.drop_duplicates()"
   ]
  },
  {
   "cell_type": "code",
   "execution_count": 25,
   "metadata": {},
   "outputs": [],
   "source": [
    "dfRenner = dfRenner.reset_index(drop=True)"
   ]
  },
  {
   "cell_type": "code",
   "execution_count": 16,
   "metadata": {},
   "outputs": [],
   "source": [
    "#dfRenner['Precio Original'] = [row['Precio'] if row['Precio Original'] == '' else row['Precio Original'] for index,row in dfRenner.iterrows()]"
   ]
  },
  {
   "cell_type": "code",
   "execution_count": 26,
   "metadata": {},
   "outputs": [],
   "source": [
    "#dfRenner[\"Precio Anterior\"] = (dfrenner[\"Precio Anterior\"]\n",
    "dfRenner['Precio Original'] = (dfRenner['Precio Original'].str.extract(r\"([\\d,\\.]+)\", expand=False)\n",
    "                               .str.replace(\",\", \".\")\n",
    "                               .astype(float))"
   ]
  },
  {
   "cell_type": "code",
   "execution_count": 27,
   "metadata": {},
   "outputs": [],
   "source": [
    "dfRenner['Precio'] = (dfRenner['Precio'].str.extract(r\"([\\d,\\.]+)\", expand=False)\n",
    "                               .str.replace(\",\", \".\")\n",
    "                               .astype(float))"
   ]
  },
  {
   "cell_type": "code",
   "execution_count": 28,
   "metadata": {},
   "outputs": [],
   "source": [
    "writer = ExcelWriter('./Salida/dfRenner_deportivo'+str(fecha)+'.xlsx')\n",
    "dfRenner.to_excel(writer,'Hoja1')\n",
    "writer.save()"
   ]
  },
  {
   "cell_type": "code",
   "execution_count": 29,
   "metadata": {},
   "outputs": [
    {
     "data": {
      "text/plain": [
       "210"
      ]
     },
     "execution_count": 29,
     "metadata": {},
     "output_type": "execute_result"
    }
   ],
   "source": [
    "len(dfRenner)"
   ]
  },
  {
   "cell_type": "code",
   "execution_count": 30,
   "metadata": {},
   "outputs": [
    {
     "data": {
      "text/plain": [
       "datetime.date(2019, 12, 19)"
      ]
     },
     "execution_count": 30,
     "metadata": {},
     "output_type": "execute_result"
    }
   ],
   "source": [
    "fecha"
   ]
  },
  {
   "cell_type": "code",
   "execution_count": 31,
   "metadata": {},
   "outputs": [],
   "source": [
    "browser.quit()"
   ]
  },
  {
   "cell_type": "code",
   "execution_count": null,
   "metadata": {},
   "outputs": [],
   "source": []
  },
  {
   "cell_type": "code",
   "execution_count": null,
   "metadata": {},
   "outputs": [],
   "source": []
  }
 ],
 "metadata": {
  "kernelspec": {
   "display_name": "Python 3",
   "language": "python",
   "name": "python3"
  },
  "language_info": {
   "codemirror_mode": {
    "name": "ipython",
    "version": 3
   },
   "file_extension": ".py",
   "mimetype": "text/x-python",
   "name": "python",
   "nbconvert_exporter": "python",
   "pygments_lexer": "ipython3",
   "version": "3.6.8"
  }
 },
 "nbformat": 4,
 "nbformat_minor": 2
}
