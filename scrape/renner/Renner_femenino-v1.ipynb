{
 "cells": [
  {
   "cell_type": "code",
   "execution_count": 1,
   "metadata": {},
   "outputs": [],
   "source": [
    "from selenium import webdriver\n",
    "from selenium.webdriver.support.ui import WebDriverWait\n",
    "from selenium.webdriver.common.by import By\n",
    "from selenium.webdriver.support import expected_conditions as EC\n",
    "from selenium.webdriver.chrome.options import Options\n",
    "from bs4 import BeautifulSoup\n",
    "import pandas as pd\n",
    "import requests\n",
    "from time import strftime\n",
    "import datetime\n",
    "import json\n",
    "import time\n",
    "from pandas import ExcelWriter\n",
    "import re\n",
    "import pyodbc\n",
    "import asyncio\n",
    "from selenium.webdriver.common.action_chains import ActionChains\n",
    "import numpy as np\n",
    "from ipywidgets import IntProgress\n",
    "from IPython.display import display\n",
    "import os"
   ]
  },
  {
   "cell_type": "code",
   "execution_count": 2,
   "metadata": {},
   "outputs": [],
   "source": [
    "url_base= 'https://www.lojasrenner.com.br/'"
   ]
  },
  {
   "cell_type": "code",
   "execution_count": 3,
   "metadata": {},
   "outputs": [],
   "source": [
    "fecha = datetime.date.today()\n",
    "hoy = fecha.strftime('%Y/%m/%d')\n",
    "\n",
    "user_agent = 'Mozilla/5.0 (X11; Linux x86_64) AppleWebKit/537.36 (KHTML, like Gecko) Chrome/60.0.3112.50 Safari/537.36'    \n",
    "\n",
    "chrome_options = Options()  \n",
    "chrome_options.add_argument(\"--headless\")  \n",
    "chrome_options.add_argument(\"--no-sandbox\")\n",
    "chrome_options.add_argument(f'user-agent={user_agent}')\n",
    "chrome_options.add_argument(\"--window-size=1325x744\")\n",
    "\n",
    "browser = webdriver.Chrome('/usr/bin/chromedriver', options = chrome_options)\n",
    "\n",
    "browser.get(url_base)\n"
   ]
  },
  {
   "cell_type": "code",
   "execution_count": 4,
   "metadata": {},
   "outputs": [],
   "source": [
    "#Clickear en FEMENINO\n",
    "browser.find_element_by_link_text(\"FEMININO\").click()\n",
    "url_femenino = browser.current_url\n",
    "\n",
    "#CLICK EN CATEGORIA\n",
    "boton_categoria = WebDriverWait(browser, 50).until(EC.element_to_be_clickable((By.LINK_TEXT,'CATEGORIA1')))\n",
    "boton_categoria.click()\n",
    "\n",
    "#Elementos para generar la lista de categorias\n",
    "elements = browser.find_elements_by_xpath('//*[@id=\"item0\"]/div[2]/div')\n",
    "\n",
    "#Lista de categorias\n",
    "categorias = []\n",
    "for i in elements:\n",
    "    categorias.append(i.text.split('\\n'))\n",
    "categorias = categorias[0]\n"
   ]
  },
  {
   "cell_type": "code",
   "execution_count": 5,
   "metadata": {},
   "outputs": [
    {
     "data": {
      "text/plain": [
       "[None, None, None, None, None, None]"
      ]
     },
     "execution_count": 5,
     "metadata": {},
     "output_type": "execute_result"
    }
   ],
   "source": [
    "try:\n",
    "    browser.switch_to.frame(\"social-push\")\n",
    "    browser.execute_script('document.querySelector(\"#btClose\").click()')\n",
    "    browser.switch_to.default_content()\n",
    "except:\n",
    "    pass\n",
    "#Se remueven las excepciones\n",
    "excepts = ['Relógios','Calçados','Bijuterias','Acessórios','Presentinhos','Bolsas','Óculos de Sol','Curve & Plus Size']\n",
    "\n",
    "[categorias.remove(item) for item in categorias if item in excepts ]\n"
   ]
  },
  {
   "cell_type": "code",
   "execution_count": 6,
   "metadata": {},
   "outputs": [
    {
     "data": {
      "text/plain": [
       "['Bermudas e Shorts',\n",
       " 'Blusas e Camisetas',\n",
       " 'Blusões e Suéteres',\n",
       " 'Calçados',\n",
       " 'Calças',\n",
       " 'Camisas',\n",
       " 'Casacos e Jaquetas',\n",
       " 'Coletes',\n",
       " 'Esportivo',\n",
       " 'Lingerie',\n",
       " 'Macacões e Jardineiras',\n",
       " 'Moda Praia',\n",
       " 'Pijamas',\n",
       " 'Relógios',\n",
       " 'Saias',\n",
       " 'Vestidos']"
      ]
     },
     "execution_count": 6,
     "metadata": {},
     "output_type": "execute_result"
    }
   ],
   "source": [
    "categorias"
   ]
  },
  {
   "cell_type": "code",
   "execution_count": 7,
   "metadata": {},
   "outputs": [],
   "source": [
    "#CATEGORIAS\n",
    "categorias_link = []\n",
    "for item in categorias:\n",
    "    browser.find_element_by_link_text(item).click()\n",
    "    categorias_link.append([item,browser.current_url])\n",
    "    \n",
    "    browser.get(url_femenino)\n",
    "    boton_categoria = WebDriverWait(browser, 50).until(EC.element_to_be_clickable((By.LINK_TEXT,'CATEGORIA1')))\n",
    "    boton_categoria.click()"
   ]
  },
  {
   "cell_type": "code",
   "execution_count": null,
   "metadata": {},
   "outputs": [],
   "source": []
  },
  {
   "cell_type": "code",
   "execution_count": null,
   "metadata": {},
   "outputs": [],
   "source": [
    "#PAGINACIÓN"
   ]
  },
  {
   "cell_type": "code",
   "execution_count": 17,
   "metadata": {},
   "outputs": [
    {
     "data": {
      "text/plain": [
       "True"
      ]
     },
     "execution_count": 17,
     "metadata": {},
     "output_type": "execute_result"
    }
   ],
   "source": [
    "browser.execute_script(\"window.scrollTo(0, 5000);\")\n",
    "#browser.save_screenshot('asd.png')"
   ]
  },
  {
   "cell_type": "code",
   "execution_count": 8,
   "metadata": {},
   "outputs": [
    {
     "name": "stdout",
     "output_type": "stream",
     "text": [
      "https://www.lojasrenner.com.br/c/feminino/-/N-4zo6za/p1\n"
     ]
    }
   ],
   "source": [
    "print(browser.current_url)"
   ]
  },
  {
   "cell_type": "code",
   "execution_count": null,
   "metadata": {},
   "outputs": [],
   "source": []
  },
  {
   "cell_type": "code",
   "execution_count": null,
   "metadata": {},
   "outputs": [],
   "source": [
    "browser.current_url"
   ]
  },
  {
   "cell_type": "code",
   "execution_count": 10,
   "metadata": {},
   "outputs": [
    {
     "ename": "TimeoutException",
     "evalue": "Message: timeout\n  (Session info: headless chrome=74.0.3729.131)\n  (Driver info: chromedriver=2.41.578700 (2f1ed5f9343c13f73144538f15c00b370eda6706),platform=Linux 4.15.0-66-generic x86_64)\n",
     "output_type": "error",
     "traceback": [
      "\u001b[0;31m---------------------------------------------------------------------------\u001b[0m",
      "\u001b[0;31mTimeoutException\u001b[0m                          Traceback (most recent call last)",
      "\u001b[0;32m<ipython-input-10-52ef21a9830d>\u001b[0m in \u001b[0;36m<module>\u001b[0;34m\u001b[0m\n\u001b[1;32m     45\u001b[0m \u001b[0;34m\u001b[0m\u001b[0m\n\u001b[1;32m     46\u001b[0m                 \u001b[0mbtn_next\u001b[0m \u001b[0;34m=\u001b[0m \u001b[0mWebDriverWait\u001b[0m\u001b[0;34m(\u001b[0m\u001b[0mbrowser\u001b[0m\u001b[0;34m,\u001b[0m \u001b[0;36m20\u001b[0m\u001b[0;34m)\u001b[0m\u001b[0;34m.\u001b[0m\u001b[0muntil\u001b[0m\u001b[0;34m(\u001b[0m\u001b[0mEC\u001b[0m\u001b[0;34m.\u001b[0m\u001b[0mpresence_of_element_located\u001b[0m\u001b[0;34m(\u001b[0m\u001b[0;34m(\u001b[0m\u001b[0mBy\u001b[0m\u001b[0;34m.\u001b[0m\u001b[0mCLASS_NAME\u001b[0m\u001b[0;34m,\u001b[0m\u001b[0;34m'js-next-paginator'\u001b[0m\u001b[0;34m)\u001b[0m\u001b[0;34m)\u001b[0m\u001b[0;34m)\u001b[0m\u001b[0;34m\u001b[0m\u001b[0;34m\u001b[0m\u001b[0m\n\u001b[0;32m---> 47\u001b[0;31m                 \u001b[0mbrowser\u001b[0m\u001b[0;34m.\u001b[0m\u001b[0mget\u001b[0m\u001b[0;34m(\u001b[0m\u001b[0mbtn_next\u001b[0m\u001b[0;34m.\u001b[0m\u001b[0mget_attribute\u001b[0m\u001b[0;34m(\u001b[0m\u001b[0;34m'href'\u001b[0m\u001b[0;34m)\u001b[0m\u001b[0;34m)\u001b[0m\u001b[0;34m\u001b[0m\u001b[0;34m\u001b[0m\u001b[0m\n\u001b[0m\u001b[1;32m     48\u001b[0m                 \u001b[0;31m#btn_next.click()\u001b[0m\u001b[0;34m\u001b[0m\u001b[0;34m\u001b[0m\u001b[0;34m\u001b[0m\u001b[0m\n\u001b[1;32m     49\u001b[0m                 \u001b[0mFLAG_COR\u001b[0m \u001b[0;34m=\u001b[0m \u001b[0;32mTrue\u001b[0m\u001b[0;34m\u001b[0m\u001b[0;34m\u001b[0m\u001b[0m\n",
      "\u001b[0;32m~/miniconda3/lib/python3.6/site-packages/selenium/webdriver/remote/webdriver.py\u001b[0m in \u001b[0;36mget\u001b[0;34m(self, url)\u001b[0m\n\u001b[1;32m    331\u001b[0m         \u001b[0mLoads\u001b[0m \u001b[0ma\u001b[0m \u001b[0mweb\u001b[0m \u001b[0mpage\u001b[0m \u001b[0;32min\u001b[0m \u001b[0mthe\u001b[0m \u001b[0mcurrent\u001b[0m \u001b[0mbrowser\u001b[0m \u001b[0msession\u001b[0m\u001b[0;34m.\u001b[0m\u001b[0;34m\u001b[0m\u001b[0;34m\u001b[0m\u001b[0m\n\u001b[1;32m    332\u001b[0m         \"\"\"\n\u001b[0;32m--> 333\u001b[0;31m         \u001b[0mself\u001b[0m\u001b[0;34m.\u001b[0m\u001b[0mexecute\u001b[0m\u001b[0;34m(\u001b[0m\u001b[0mCommand\u001b[0m\u001b[0;34m.\u001b[0m\u001b[0mGET\u001b[0m\u001b[0;34m,\u001b[0m \u001b[0;34m{\u001b[0m\u001b[0;34m'url'\u001b[0m\u001b[0;34m:\u001b[0m \u001b[0murl\u001b[0m\u001b[0;34m}\u001b[0m\u001b[0;34m)\u001b[0m\u001b[0;34m\u001b[0m\u001b[0;34m\u001b[0m\u001b[0m\n\u001b[0m\u001b[1;32m    334\u001b[0m \u001b[0;34m\u001b[0m\u001b[0m\n\u001b[1;32m    335\u001b[0m     \u001b[0;34m@\u001b[0m\u001b[0mproperty\u001b[0m\u001b[0;34m\u001b[0m\u001b[0;34m\u001b[0m\u001b[0m\n",
      "\u001b[0;32m~/miniconda3/lib/python3.6/site-packages/selenium/webdriver/remote/webdriver.py\u001b[0m in \u001b[0;36mexecute\u001b[0;34m(self, driver_command, params)\u001b[0m\n\u001b[1;32m    319\u001b[0m         \u001b[0mresponse\u001b[0m \u001b[0;34m=\u001b[0m \u001b[0mself\u001b[0m\u001b[0;34m.\u001b[0m\u001b[0mcommand_executor\u001b[0m\u001b[0;34m.\u001b[0m\u001b[0mexecute\u001b[0m\u001b[0;34m(\u001b[0m\u001b[0mdriver_command\u001b[0m\u001b[0;34m,\u001b[0m \u001b[0mparams\u001b[0m\u001b[0;34m)\u001b[0m\u001b[0;34m\u001b[0m\u001b[0;34m\u001b[0m\u001b[0m\n\u001b[1;32m    320\u001b[0m         \u001b[0;32mif\u001b[0m \u001b[0mresponse\u001b[0m\u001b[0;34m:\u001b[0m\u001b[0;34m\u001b[0m\u001b[0;34m\u001b[0m\u001b[0m\n\u001b[0;32m--> 321\u001b[0;31m             \u001b[0mself\u001b[0m\u001b[0;34m.\u001b[0m\u001b[0merror_handler\u001b[0m\u001b[0;34m.\u001b[0m\u001b[0mcheck_response\u001b[0m\u001b[0;34m(\u001b[0m\u001b[0mresponse\u001b[0m\u001b[0;34m)\u001b[0m\u001b[0;34m\u001b[0m\u001b[0;34m\u001b[0m\u001b[0m\n\u001b[0m\u001b[1;32m    322\u001b[0m             response['value'] = self._unwrap_value(\n\u001b[1;32m    323\u001b[0m                 response.get('value', None))\n",
      "\u001b[0;32m~/miniconda3/lib/python3.6/site-packages/selenium/webdriver/remote/errorhandler.py\u001b[0m in \u001b[0;36mcheck_response\u001b[0;34m(self, response)\u001b[0m\n\u001b[1;32m    240\u001b[0m                 \u001b[0malert_text\u001b[0m \u001b[0;34m=\u001b[0m \u001b[0mvalue\u001b[0m\u001b[0;34m[\u001b[0m\u001b[0;34m'alert'\u001b[0m\u001b[0;34m]\u001b[0m\u001b[0;34m.\u001b[0m\u001b[0mget\u001b[0m\u001b[0;34m(\u001b[0m\u001b[0;34m'text'\u001b[0m\u001b[0;34m)\u001b[0m\u001b[0;34m\u001b[0m\u001b[0;34m\u001b[0m\u001b[0m\n\u001b[1;32m    241\u001b[0m             \u001b[0;32mraise\u001b[0m \u001b[0mexception_class\u001b[0m\u001b[0;34m(\u001b[0m\u001b[0mmessage\u001b[0m\u001b[0;34m,\u001b[0m \u001b[0mscreen\u001b[0m\u001b[0;34m,\u001b[0m \u001b[0mstacktrace\u001b[0m\u001b[0;34m,\u001b[0m \u001b[0malert_text\u001b[0m\u001b[0;34m)\u001b[0m\u001b[0;34m\u001b[0m\u001b[0;34m\u001b[0m\u001b[0m\n\u001b[0;32m--> 242\u001b[0;31m         \u001b[0;32mraise\u001b[0m \u001b[0mexception_class\u001b[0m\u001b[0;34m(\u001b[0m\u001b[0mmessage\u001b[0m\u001b[0;34m,\u001b[0m \u001b[0mscreen\u001b[0m\u001b[0;34m,\u001b[0m \u001b[0mstacktrace\u001b[0m\u001b[0;34m)\u001b[0m\u001b[0;34m\u001b[0m\u001b[0;34m\u001b[0m\u001b[0m\n\u001b[0m\u001b[1;32m    243\u001b[0m \u001b[0;34m\u001b[0m\u001b[0m\n\u001b[1;32m    244\u001b[0m     \u001b[0;32mdef\u001b[0m \u001b[0m_value_or_default\u001b[0m\u001b[0;34m(\u001b[0m\u001b[0mself\u001b[0m\u001b[0;34m,\u001b[0m \u001b[0mobj\u001b[0m\u001b[0;34m,\u001b[0m \u001b[0mkey\u001b[0m\u001b[0;34m,\u001b[0m \u001b[0mdefault\u001b[0m\u001b[0;34m)\u001b[0m\u001b[0;34m:\u001b[0m\u001b[0;34m\u001b[0m\u001b[0;34m\u001b[0m\u001b[0m\n",
      "\u001b[0;31mTimeoutException\u001b[0m: Message: timeout\n  (Session info: headless chrome=74.0.3729.131)\n  (Driver info: chromedriver=2.41.578700 (2f1ed5f9343c13f73144538f15c00b370eda6706),platform=Linux 4.15.0-66-generic x86_64)\n"
     ]
    }
   ],
   "source": [
    "#PAGINACION EN 'cantidad_hojas'\n",
    "#26/07/ 10.52 a.m\n",
    "#Clickea en categorias, \n",
    "FLAG_COR = False\n",
    "cantidad_hojas = []\n",
    "for catlink in categorias_link:\n",
    "    browser.get(catlink[1])\n",
    "    \n",
    "    boton_color = WebDriverWait(browser, 50).until(EC.element_to_be_clickable((By.LINK_TEXT,'COR')))\n",
    "    boton_color.click()\n",
    "    elements_colores = browser.find_elements_by_xpath('//*[@id=\"item3\"]/div/div')\n",
    "    #Lista de colores\n",
    "    colors = []\n",
    "    for color in elements_colores:\n",
    "        colors.append(color.text.split('\\n'))\n",
    "    colors = colors[0]\n",
    "    for item_color in colors:\n",
    "\n",
    "        #CLICK EN EL COLOR DE LA LISTA\n",
    "        time.sleep(4)\n",
    "        item_color_boton = WebDriverWait(browser, 40).until(EC.element_to_be_clickable((By.LINK_TEXT,item_color)))\n",
    "        item_color_boton.click()\n",
    "\n",
    "        #SCROLLEAR A FONDO HASTA QUE CARGUE EL JS LASTPAGINATOR EN EL DOM\n",
    "        lastPage = -1\n",
    "\n",
    "        browser.execute_script(\"window.scrollTo(0, 5000);\")\n",
    "\n",
    "        page = BeautifulSoup(browser.page_source,'html.parser')\n",
    "        \n",
    "        if browser.current_url != catlink[1]:\n",
    "            time.sleep(2)\n",
    "            lastPage = WebDriverWait(browser, 20).until(EC.presence_of_element_located((By.CLASS_NAME,'js-lastPage')))\n",
    "            lastPage = int(lastPage.get_attribute('data-last-page'))\n",
    "\n",
    "        else:\n",
    "            print(browser.current_url,' ',catlink[1])\n",
    "\n",
    "        for cant in range(lastPage):\n",
    "            \n",
    "            cantidad_hojas.append([catlink[0],item_color,lastPage,browser.current_url])  \n",
    "            if lastPage > cant+1:\n",
    "                #SCROLLEAR Y CLICKEAR EN NEXT()\n",
    "                browser.execute_script(\"window.scrollTo(0, 5600);\")\n",
    "\n",
    "                btn_next = WebDriverWait(browser, 20).until(EC.presence_of_element_located((By.CLASS_NAME,'js-next-paginator')))\n",
    "                browser.get(btn_next.get_attribute('href'))\n",
    "                #btn_next.click()\n",
    "                FLAG_COR = True\n",
    "            else:\n",
    "\n",
    "                if FLAG_COR == True:\n",
    "\n",
    "                    browser.execute_script(\"window.scrollTo(0, 100);\")\n",
    "                    filter_row = browser.find_elements_by_xpath('//*[@id=\"renner-filter\"]/div[1]')\n",
    "                    filters = filter_row[0].find_elements_by_class_name('filter_item')\n",
    "\n",
    "                    BOTON_COR1 = WebDriverWait(browser, 10).until(EC.element_to_be_clickable((By.LINK_TEXT,filters[-3].text)))\n",
    "                    BOTON_COR1.click()  \n",
    "                    \n",
    "\n",
    "            #SUBE PARA CLICKEAR EN COLOR\n",
    "            browser.execute_script(\"window.scrollTo(0, 100);\")\n",
    "            FLAG_COR = False    \n",
    "            try:\n",
    "                time.sleep(2)\n",
    "                item_color_boton = WebDriverWait(browser, 20).until(EC.element_to_be_clickable((By.LINK_TEXT,item_color)))\n",
    "                item_color_boton.click()\n",
    "            except:\n",
    "                b=WebDriverWait(browser, 20).until(EC.element_to_be_clickable((By.LINK_TEXT,'COR1')))\n",
    "                b.click()\n",
    "            \n",
    "\n",
    "            browser.execute_script(\"window.scrollTo(0, 5600);\")\n",
    "            browser.execute_script(\"window.scrollTo(0, 100);\")       \n",
    "\n",
    "\n",
    "            page = BeautifulSoup(browser.page_source,'html.parser')\n"
   ]
  },
  {
   "cell_type": "code",
   "execution_count": null,
   "metadata": {},
   "outputs": [],
   "source": []
  },
  {
   "cell_type": "code",
   "execution_count": 17,
   "metadata": {},
   "outputs": [],
   "source": [
    "# CATEGORIA, COLOR, NUMERO, LINK\n",
    "rennerLista = []\n",
    "for ITEM in cantidad_hojas:\n",
    "    \n",
    "    precio = []\n",
    "    \n",
    "    browser.get(ITEM[3])\n",
    "    browser.execute_script(\"window.scrollTo(0, document.body.scrollHeight);\")\n",
    "    page = BeautifulSoup(browser.page_source,'html.parser')\n",
    "    try:\n",
    "        articulos = [i.find_all(class_='item_product') for i in page.find_all(class_='wrapper cf results-list js-results-list')][0]\n",
    "    except:\n",
    "        #SIGNIFICA QUE NO SE ENCONTRARON RESULTADOS, PAGINA VACIA\n",
    "        continue\n",
    "    #element_price = elemento \n",
    "    element_price = browser.find_elements_by_class_name('price_product')\n",
    "    #moverse en el dom para sacar el atributo span class price\n",
    "    prices = [ene.find_elements_by_class_name('price')[0].text for ene in element_price]\n",
    "\n",
    "    #SI SPLIT ES 2 SIGNIFICA QUE NO TIENE PRECIO CON DESCUENTO\n",
    "    #ELSE  SIGNIFICA QUE TIENE PRECIO CON DESCUENTO\n",
    "    \n",
    "    browser.execute_script(\"window.scrollTo(0, document.body.scrollHeight);\")\n",
    "    page = BeautifulSoup(browser.page_source,'html.parser')\n",
    "    try:\n",
    "        articulos = [i.find_all(class_='item_product') for i in page.find_all(class_='wrapper cf results-list js-results-list')][0]\n",
    "    except:\n",
    "        #SIGNIFICA QUE NO SE ENCONTRARON RESULTADOS, PAGINA VACIA\n",
    "        continue\n",
    "    \n",
    "    browser.execute_script(\"window.scrollTo(0, 2000);\")\n",
    "    time.sleep(0.8)\n",
    "    browser.execute_script(\"window.scrollTo(0, 4000);\")\n",
    "    time.sleep(0.8)\n",
    "    browser.execute_script(\"window.scrollTo(0, 5000);\")#5600\n",
    "    time.sleep(0.8)\n",
    "    element_price = browser.find_elements_by_class_name('price_product')\n",
    "    # class price\n",
    "    prices = [ene.find_elements_by_class_name('price')[0].text for ene in element_price]\n",
    "    \n",
    "    for item in prices:\n",
    "        if len(item.split()) ==2:\n",
    "            precio.append([item.split()[1],item.split()[1]])\n",
    "        else:\n",
    "            try:\n",
    "                precio.append([item.split()[1],item.split()[3]])\n",
    "            except:\n",
    "                precio.append(['99999','99999'])\n",
    "            \n",
    "    indice_aux = 0\n",
    "    for articulo in articulos:\n",
    "        data = json.loads(articulo['data-product-gtm'])\n",
    "        #Imagen del producto\n",
    "        try:\n",
    "            img = [i.img['src'] for i in articulo.find_all(class_='img_product')][0]\n",
    "        except:\n",
    "            img = [None]\n",
    "        rennerLista.append([data['id'],ITEM[0],ITEM[1],data['name'],precio[indice_aux][0],precio[indice_aux][1],data['brand'],data['url'],img])\n",
    "        indice_aux += 1  "
   ]
  },
  {
   "cell_type": "code",
   "execution_count": null,
   "metadata": {},
   "outputs": [],
   "source": []
  },
  {
   "cell_type": "code",
   "execution_count": null,
   "metadata": {},
   "outputs": [],
   "source": []
  },
  {
   "cell_type": "code",
   "execution_count": 9,
   "metadata": {},
   "outputs": [
    {
     "data": {
      "text/plain": [
       "'https://www.lojasrenner.com.br/c/feminino/vestidos/-/N-cg003xZ16q1qsyZ1hwylc0/p1'"
      ]
     },
     "execution_count": 9,
     "metadata": {},
     "output_type": "execute_result"
    }
   ],
   "source": [
    "#browser.save_screenshot('asd.png')\n",
    "browser.current_url"
   ]
  },
  {
   "cell_type": "code",
   "execution_count": null,
   "metadata": {},
   "outputs": [],
   "source": [
    "*"
   ]
  },
  {
   "cell_type": "code",
   "execution_count": 18,
   "metadata": {},
   "outputs": [],
   "source": [
    "dfRenner = pd.DataFrame(rennerLista)"
   ]
  },
  {
   "cell_type": "code",
   "execution_count": 19,
   "metadata": {},
   "outputs": [],
   "source": [
    "#dfRenner.head(1)\n",
    "dfRenner = dfRenner.rename(columns={0: 'id Producto'})\n",
    "dfRenner = dfRenner.rename(columns={1: 'Tipo'})\n",
    "dfRenner = dfRenner.rename(columns={2: 'Color'})\n",
    "dfRenner = dfRenner.rename(columns={3: 'Descripcion'})\n",
    "dfRenner = dfRenner.rename(columns={4: 'Precio Original'})\n",
    "dfRenner = dfRenner.rename(columns={5: 'Precio'})\n",
    "dfRenner = dfRenner.rename(columns={6: 'Marca'})\n",
    "dfRenner = dfRenner.rename(columns={7: 'Url Producto'})\n",
    "dfRenner = dfRenner.rename(columns={8: 'Url Imagen'})"
   ]
  },
  {
   "cell_type": "code",
   "execution_count": 20,
   "metadata": {},
   "outputs": [],
   "source": [
    "dfRenner['Fecha'] = hoy"
   ]
  },
  {
   "cell_type": "code",
   "execution_count": 21,
   "metadata": {},
   "outputs": [],
   "source": [
    "dfRenner = dfRenner.drop_duplicates()"
   ]
  },
  {
   "cell_type": "code",
   "execution_count": 22,
   "metadata": {},
   "outputs": [],
   "source": [
    "dfRenner = dfRenner.reset_index(drop=True)"
   ]
  },
  {
   "cell_type": "code",
   "execution_count": 23,
   "metadata": {},
   "outputs": [],
   "source": [
    "browser.quit()"
   ]
  },
  {
   "cell_type": "code",
   "execution_count": 24,
   "metadata": {},
   "outputs": [],
   "source": [
    "#dfRenner[\"Precio Anterior\"] = (dfrenner[\"Precio Anterior\"]\n",
    "dfRenner['Precio Original'] = (dfRenner['Precio Original'].str.extract(r\"([\\d,\\.]+)\", expand=False)\n",
    "                               .str.replace(\",\", \".\")\n",
    "                               .astype(float))"
   ]
  },
  {
   "cell_type": "code",
   "execution_count": 25,
   "metadata": {},
   "outputs": [],
   "source": [
    "dfRenner['Precio'] = (dfRenner['Precio'].str.extract(r\"([\\d,\\.]+)\", expand=False)\n",
    "                               .str.replace(\",\", \".\")\n",
    "                               .astype(float))"
   ]
  },
  {
   "cell_type": "code",
   "execution_count": 26,
   "metadata": {},
   "outputs": [],
   "source": [
    "writer = ExcelWriter('./Salida/dfRenner_femenino'+str(fecha)+'.xlsx')\n",
    "dfRenner.to_excel(writer,'Hoja1')\n",
    "writer.save()"
   ]
  },
  {
   "cell_type": "code",
   "execution_count": 28,
   "metadata": {},
   "outputs": [
    {
     "data": {
      "text/plain": [
       "7115"
      ]
     },
     "execution_count": 28,
     "metadata": {},
     "output_type": "execute_result"
    }
   ],
   "source": [
    "len(dfRenner)"
   ]
  },
  {
   "cell_type": "code",
   "execution_count": 29,
   "metadata": {},
   "outputs": [],
   "source": [
    "browser.quit()"
   ]
  },
  {
   "cell_type": "code",
   "execution_count": 18,
   "metadata": {},
   "outputs": [
    {
     "data": {
      "text/plain": [
       "5811"
      ]
     },
     "execution_count": 18,
     "metadata": {},
     "output_type": "execute_result"
    }
   ],
   "source": []
  },
  {
   "cell_type": "code",
   "execution_count": null,
   "metadata": {},
   "outputs": [],
   "source": []
  }
 ],
 "metadata": {
  "kernelspec": {
   "display_name": "Python 3",
   "language": "python",
   "name": "python3"
  },
  "language_info": {
   "codemirror_mode": {
    "name": "ipython",
    "version": 3
   },
   "file_extension": ".py",
   "mimetype": "text/x-python",
   "name": "python",
   "nbconvert_exporter": "python",
   "pygments_lexer": "ipython3",
   "version": "3.6.8"
  }
 },
 "nbformat": 4,
 "nbformat_minor": 2
}
