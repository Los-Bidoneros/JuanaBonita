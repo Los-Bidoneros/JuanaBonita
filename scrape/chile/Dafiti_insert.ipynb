{
 "cells": [
  {
   "cell_type": "code",
   "execution_count": 1,
   "metadata": {},
   "outputs": [],
   "source": [
    "from selenium import webdriver\n",
    "from selenium.webdriver.support.ui import WebDriverWait\n",
    "from selenium.webdriver.common.by import By\n",
    "from selenium.webdriver.support import expected_conditions as EC\n",
    "from selenium.webdriver.chrome.options import Options\n",
    "from selenium.webdriver.common.keys import Keys\n",
    "import itertools\n",
    "import requests\n",
    "import datetime\n",
    "from bs4 import BeautifulSoup\n",
    "import pandas as pd\n",
    "from pandas import ExcelWriter\n",
    "import time\n",
    "import unicodedata\n",
    "import threading\n",
    "import pyodbc\n",
    "import os\n",
    "import itertools"
   ]
  },
  {
   "cell_type": "code",
   "execution_count": 2,
   "metadata": {},
   "outputs": [],
   "source": [
    "fecha = datetime.date.today()"
   ]
  },
  {
   "cell_type": "code",
   "execution_count": 3,
   "metadata": {},
   "outputs": [],
   "source": [
    "df = pd.read_excel(f'dafiti_cl-{fecha}.xlsx')"
   ]
  },
  {
   "cell_type": "code",
   "execution_count": 9,
   "metadata": {},
   "outputs": [],
   "source": [
    "df['TIPO'] = df['tipo'].apply(lambda x:x.split('|')[1])"
   ]
  },
  {
   "cell_type": "code",
   "execution_count": 11,
   "metadata": {},
   "outputs": [],
   "source": [
    "df['moneda'] = 'PESO CLP'\n",
    "df['color_es'] = df['color']\n",
    "df['tipo_es'] = df['TIPO']\n",
    "df['fecha'] = fecha\n",
    "df['origen'] = 'DAFITI CL'"
   ]
  },
  {
   "cell_type": "code",
   "execution_count": 19,
   "metadata": {},
   "outputs": [],
   "source": [
    "df['sexo'] ='Mujer'"
   ]
  },
  {
   "cell_type": "code",
   "execution_count": 12,
   "metadata": {},
   "outputs": [],
   "source": [
    "server = 'tcp:192.168.1.6'\n",
    "database =\"planeamiento\"\n",
    "username = 'sa'\n",
    "password = 'sa'\n",
    "cnxn = pyodbc.connect('DRIVER={/opt/microsoft/msodbcsql17/lib64/libmsodbcsql-17.2.so.0.1};SERVER='+server+';DATABASE='+database+';UID='+username+';PWD='+ password) "
   ]
  },
  {
   "cell_type": "code",
   "execution_count": 14,
   "metadata": {},
   "outputs": [],
   "source": [
    "#VER BIEN CUANDO EL ORIGEN ES SHEIN, PORQUE AHORA HAY MÁS SCRAPERS EN LA MISMA BASE\n",
    "maxCorrida = \"select max(id_sc3_corrida)+1 from sc3_detalle where origen ='DAFITI CL' \"\n",
    "maxCorrida = pd.read_sql(maxCorrida,cnxn)"
   ]
  },
  {
   "cell_type": "code",
   "execution_count": 16,
   "metadata": {},
   "outputs": [],
   "source": [
    "maxCorrida = 1"
   ]
  },
  {
   "cell_type": "code",
   "execution_count": 18,
   "metadata": {},
   "outputs": [
    {
     "data": {
      "text/plain": [
       "Index(['pos', 'precio_dto', 'precio', 'id_producto', 'color', 'marca',\n",
       "       'descripcion', 'tipo', 'img', 'url', 'pagina_scraper', 'TIPO', 'moneda',\n",
       "       'color_es', 'tipo_es', 'fecha', 'origen'],\n",
       "      dtype='object')"
      ]
     },
     "execution_count": 18,
     "metadata": {},
     "output_type": "execute_result"
    }
   ],
   "source": [
    "df.columns"
   ]
  },
  {
   "cell_type": "code",
   "execution_count": 20,
   "metadata": {},
   "outputs": [],
   "source": [
    "cursor = cnxn.cursor()\n",
    "for index,row in df.iterrows():                                                            \n",
    "    cursor.execute(\"INSERT INTO sc3_detalle([id_sc3_producto],[id_sc3_corrida],[marca],[tipo],[tipo_es],[color],[color_es],[sexo],[descripcion],[moneda],[precio],[precio_original],[fecha_alta],[url_imagen],[url_producto],[origen]) values (?,?,?,?,?,?,?,?,?,?,?,?,?,?,?,?)\", \n",
    "                   row['id_producto'], \n",
    "                   maxCorrida,\n",
    "                   row['marca'],\n",
    "                   row['TIPO'],\n",
    "                   row['tipo_es'],\n",
    "                   row['color'],\n",
    "                   row['color_es'],\n",
    "                   row['sexo'],\n",
    "                   row['descripcion'],\n",
    "                   row['moneda'],\n",
    "                   row['precio_dto'], \n",
    "                   row['precio'], \n",
    "                   row['fecha'],\n",
    "                   row['img'], \n",
    "                   row['url'],\n",
    "                   row['origen']) \n",
    "    cnxn.commit()\n",
    "cursor.close()\n",
    "cnxn.close()"
   ]
  },
  {
   "cell_type": "code",
   "execution_count": 10,
   "metadata": {},
   "outputs": [
    {
     "data": {
      "text/plain": [
       "['id_sc3_producto',\n",
       " 'id_sc3_corrida',\n",
       " 'marca',\n",
       " 'tipo',\n",
       " 'tipo_es',\n",
       " 'color',\n",
       " 'color_es',\n",
       " 'sexo',\n",
       " 'descripcion',\n",
       " 'moneda',\n",
       " 'precio',\n",
       " 'precio_original',\n",
       " 'fecha_alta',\n",
       " 'url_imagen',\n",
       " 'url_producto',\n",
       " 'origen',\n",
       " 'tipo_juana',\n",
       " 'grupo']"
      ]
     },
     "execution_count": 10,
     "metadata": {},
     "output_type": "execute_result"
    }
   ],
   "source": [
    "['id_sc3_producto',\n",
    " 'id_sc3_corrida',\n",
    " 'marca',\n",
    " 'tipo',\n",
    " 'tipo_es',\n",
    " 'color',\n",
    " 'color_es',\n",
    " 'sexo',\n",
    " 'descripcion',\n",
    " 'moneda',\n",
    " 'precio',\n",
    " 'precio_original',\n",
    " 'fecha_alta',\n",
    " 'url_imagen',\n",
    " 'url_producto',\n",
    " 'origen',\n",
    " 'tipo_juana',\n",
    " 'grupo']"
   ]
  },
  {
   "cell_type": "code",
   "execution_count": null,
   "metadata": {},
   "outputs": [],
   "source": []
  }
 ],
 "metadata": {
  "kernelspec": {
   "display_name": "Python [conda env:dev_env]",
   "language": "python",
   "name": "conda-env-dev_env-py"
  },
  "language_info": {
   "codemirror_mode": {
    "name": "ipython",
    "version": 3
   },
   "file_extension": ".py",
   "mimetype": "text/x-python",
   "name": "python",
   "nbconvert_exporter": "python",
   "pygments_lexer": "ipython3",
   "version": "3.6.8"
  }
 },
 "nbformat": 4,
 "nbformat_minor": 2
}
