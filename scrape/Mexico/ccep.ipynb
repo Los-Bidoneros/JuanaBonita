{
 "cells": [
  {
   "cell_type": "code",
   "execution_count": 1,
   "metadata": {},
   "outputs": [],
   "source": [
    "from selenium import webdriver\n",
    "from selenium.webdriver.support.ui import WebDriverWait\n",
    "from selenium.webdriver.common.by import By\n",
    "from selenium.webdriver.support import expected_conditions as EC\n",
    "from selenium.webdriver.chrome.options import Options\n",
    "from selenium.webdriver.common.keys import Keys\n",
    "import numpy as np\n",
    "import requests\n",
    "import datetime\n",
    "from bs4 import BeautifulSoup\n",
    "import pandas as pd\n",
    "from pandas import ExcelWriter\n",
    "import time\n",
    "import unicodedata\n",
    "import pyodbc\n",
    "import os\n",
    "from json import JSONDecoder\n",
    "from sc_header import createDriver,extract_json_objects\n"
   ]
  },
  {
   "cell_type": "code",
   "execution_count": 28,
   "metadata": {},
   "outputs": [],
   "source": [
    "def scrape_url(url_aux,sexo_aux):\n",
    "    \n",
    "    global output\n",
    "\n",
    "    response = requests.get(url_aux)\n",
    "    soup = BeautifulSoup(response.content, \"html.parser\")\n",
    "    scripts = soup.find_all('script')\n",
    "    \n",
    "    for data in extract_json_objects(scripts[15].text):\n",
    "        if data != {}:\n",
    "\n",
    "            x = soup.find(class_='mx')\n",
    "            color_aux = data['color']['name']\n",
    "            if color_aux == '':\n",
    "                color_aux = soup.find(class_='o-list-swatches__a js-swatch-link-product has-mouse-click-focus-disabled').get('title')\n",
    "            try:\n",
    "                output.append([soup.find('h1').text,\n",
    "                               x.span.text.strip(),\n",
    "                               color_aux,\n",
    "                               sexo_aux,\n",
    "                               data['images'][0]['medium'],\n",
    "                               soup.find(class_='breadcrumb-item active').text.strip(),\n",
    "                               x.find(class_='newprice').text.strip(),\n",
    "                               x.find(class_='mx-price').text.strip(),\n",
    "                               url_aux\n",
    "                              ])\n",
    "            except Exception as e:\n",
    "                pass\n",
    "                \n",
    "\n",
    "def scrape_batch(url_chunk):\n",
    "    chunk_resp = []\n",
    "    for a,b in url_chunk.iterrows():\n",
    "        scrape_url(b['url'],b['sexo'])\n",
    "    "
   ]
  },
  {
   "cell_type": "code",
   "execution_count": 3,
   "metadata": {},
   "outputs": [],
   "source": [
    "browser = createDriver()\n",
    "browser.get('https://www.cuidadoconelperro.com.mx/')"
   ]
  },
  {
   "cell_type": "code",
   "execution_count": 4,
   "metadata": {},
   "outputs": [],
   "source": [
    "#INTENTO CERRAR EL MODAL\n",
    "try:\n",
    "    inputs = browser.find_elements_by_tag_name('input')\n",
    "    for input_ in inputs:\n",
    "        if input_.get_attribute('type') =='submit':\n",
    "            input_.click()\n",
    "except:\n",
    "    pass\n"
   ]
  },
  {
   "cell_type": "code",
   "execution_count": 5,
   "metadata": {},
   "outputs": [],
   "source": [
    "urls_principales = []\n",
    "for item in browser.find_element_by_class_name('department-selector').find_elements_by_tag_name('a'):\n",
    "    if item.text != 'KIDS':\n",
    "        urls_principales.append([item.get_attribute('href'),item.text])\n",
    "        "
   ]
  },
  {
   "cell_type": "code",
   "execution_count": 6,
   "metadata": {},
   "outputs": [],
   "source": [
    "cat_aux = []\n",
    "for url in urls_principales:\n",
    "    browser.get(url[0])\n",
    "    WebDriverWait(browser,50).until(EC.presence_of_element_located((By.CSS_SELECTOR,'.fas.fa-bars'))).click()\n",
    "    WebDriverWait(browser,50).until(EC.presence_of_element_located((By.LINK_TEXT,url[1]))).click()\n",
    "    for cat in browser.find_element_by_css_selector('.list-unstyled.components').find_elements_by_tag_name('a'):\n",
    "        cat_aux.append([cat.get_attribute('href'),\n",
    "                       url[1]])"
   ]
  },
  {
   "cell_type": "code",
   "execution_count": null,
   "metadata": {},
   "outputs": [],
   "source": []
  },
  {
   "cell_type": "code",
   "execution_count": 7,
   "metadata": {},
   "outputs": [],
   "source": [
    "df_cat = pd.DataFrame(cat_aux)"
   ]
  },
  {
   "cell_type": "code",
   "execution_count": 8,
   "metadata": {},
   "outputs": [],
   "source": [
    "df_cat = df_cat[(~df_cat[0].str.contains('accesorios'))&\n",
    "                (~df_cat[0].str.contains('calcetines'))&\n",
    "                (~df_cat[0].str.contains('zapatos'))&\n",
    "                (~df_cat[0].str.contains('tiendas'))]"
   ]
  },
  {
   "cell_type": "code",
   "execution_count": 9,
   "metadata": {},
   "outputs": [],
   "source": [
    "df_cat = df_cat[df_cat[0] != 'https://www.cuidadoconelperro.com.mx/mx/lenceria-y-pijamas/panties/bikini-cintura-alta/13556']\n",
    "df_cat = df_cat.reset_index(drop=True).rename(columns={0:'url',1:'sexo'})"
   ]
  },
  {
   "cell_type": "code",
   "execution_count": null,
   "metadata": {},
   "outputs": [],
   "source": []
  },
  {
   "cell_type": "code",
   "execution_count": 10,
   "metadata": {},
   "outputs": [],
   "source": [
    "href_list = []\n",
    "for index,row in df_cat.iterrows():\n",
    "    \n",
    "    try:\n",
    "        browser.get(row['url'])\n",
    "    except:\n",
    "        pass\n",
    "    TIMEOUT = 2\n",
    "        \n",
    "    #WHILE PARA PODER PASAR DE PAGINA\n",
    "    while True:\n",
    "        \n",
    "        #WHILE PARA HACER SCROLL\n",
    "        last_height = browser.execute_script(\"return document.body.scrollHeight;\")\n",
    "        while True:\n",
    "\n",
    "            browser.execute_script(\"window.scrollTo(0, document.body.scrollHeight);\")\n",
    "\n",
    "            time.sleep(TIMEOUT)\n",
    "            new_height = browser.execute_script(\"return document.body.scrollHeight;\")\n",
    "            if new_height == last_height:\n",
    "                break\n",
    "            last_height = new_height\n",
    "        #TOMO TODOS LOS PRODUCTOS\n",
    "        for item in browser.find_elements_by_class_name('title'):\n",
    "            \n",
    "            href_list.append([item.find_element_by_tag_name('a').get_attribute('href'),\n",
    "                              row['sexo']])\n",
    "        #DESPUES DE TOMAR TODOS LOS PRODUCTOS, CLICKEO EN NEXTPAGE, SI ES QUE TIENE            \n",
    "        try:\n",
    "            browser.find_element_by_css_selector('.next.js-search-link').click()\n",
    "        except:\n",
    "            break\n",
    "    "
   ]
  },
  {
   "cell_type": "code",
   "execution_count": null,
   "metadata": {},
   "outputs": [],
   "source": []
  },
  {
   "cell_type": "code",
   "execution_count": 11,
   "metadata": {},
   "outputs": [],
   "source": [
    "df_href = pd.DataFrame(href_list)"
   ]
  },
  {
   "cell_type": "code",
   "execution_count": 12,
   "metadata": {},
   "outputs": [],
   "source": [
    "df_href = df_href.rename(columns={0:'url',1:'sexo'})"
   ]
  },
  {
   "cell_type": "code",
   "execution_count": 13,
   "metadata": {},
   "outputs": [],
   "source": [
    "df_href.drop_duplicates(inplace=True)\n",
    "df_href.reset_index(drop=True,inplace=True)\n"
   ]
  },
  {
   "cell_type": "code",
   "execution_count": 14,
   "metadata": {},
   "outputs": [],
   "source": [
    "batch_size = 5\n",
    "url_chunks = [df_href[x:x+batch_size] for x in range(0, len(df_href), batch_size)]"
   ]
  },
  {
   "cell_type": "code",
   "execution_count": 15,
   "metadata": {},
   "outputs": [],
   "source": [
    "browser.quit()"
   ]
  },
  {
   "cell_type": "code",
   "execution_count": null,
   "metadata": {},
   "outputs": [],
   "source": []
  },
  {
   "cell_type": "code",
   "execution_count": 21,
   "metadata": {},
   "outputs": [],
   "source": [
    "aa = []\n",
    "url_aux = df_href.iloc[0]['url']\n",
    "response = requests.get(url_aux)\n",
    "soup = BeautifulSoup(response.content, \"html.parser\")\n",
    "scripts = soup.find_all('script')\n",
    "\n",
    "for data in extract_json_objects(scripts[14].text):\n",
    "    if data != {}:\n",
    "\n",
    "        x = soup.find(class_='mx')\n",
    "        color_aux = data['color']['name']\n",
    "        if color_aux == '':\n",
    "            color_aux = soup.find(class_='o-list-swatches__a js-swatch-link-product has-mouse-click-focus-disabled').get('title')\n",
    "        try:\n",
    "            aa.append([soup.find('h1').text,\n",
    "                           x.span.text.strip(),\n",
    "                           color_aux,\n",
    "                           sexo_aux,\n",
    "                           data['images'][0]['medium'],\n",
    "                           soup.find(class_='breadcrumb-item active').text.strip(),\n",
    "                           x.find(class_='newprice').text.strip(),\n",
    "                           x.find(class_='mx-price').text.strip(),\n",
    "                           url_aux\n",
    "                          ])\n",
    "        except Exception as e:\n",
    "            pass"
   ]
  },
  {
   "cell_type": "code",
   "execution_count": 29,
   "metadata": {},
   "outputs": [],
   "source": [
    "start_ = datetime.datetime.now()\n",
    "output = []\n",
    "for url_chunk in url_chunks:\n",
    "    scrape_batch(url_chunk)\n",
    "        \n",
    "end_ = datetime.datetime.now()\n"
   ]
  },
  {
   "cell_type": "code",
   "execution_count": null,
   "metadata": {},
   "outputs": [],
   "source": []
  },
  {
   "cell_type": "code",
   "execution_count": 30,
   "metadata": {},
   "outputs": [],
   "source": [
    "df = pd.DataFrame(output)\n",
    "\n",
    "df = df.rename(columns={0:'descripcion',\n",
    "                       1:'id_producto',\n",
    "                       2:'color',\n",
    "                       3:'sexo',\n",
    "                       4:'img',\n",
    "                       5:'tipo',\n",
    "                       6:'precio',\n",
    "                       7:'precio_dto',\n",
    "                       8:'url'\n",
    "                      })"
   ]
  },
  {
   "cell_type": "code",
   "execution_count": 31,
   "metadata": {},
   "outputs": [],
   "source": [
    "df['precio'] = (df['precio']\n",
    "                .str.extract(r\"([\\d,\\.]+)\", expand=False)\n",
    "                .str.replace(\",\", \"\")\n",
    "                .astype(float))\n",
    "\n",
    "\n",
    "\n",
    "df['precio_dto'] = (df['precio_dto']\n",
    "                    .str.extract(r\"([\\d,\\.]+)\", expand=False)\n",
    "                    .str.replace(\",\", \"\")\n",
    "                    .astype(float))"
   ]
  },
  {
   "cell_type": "code",
   "execution_count": null,
   "metadata": {},
   "outputs": [],
   "source": []
  },
  {
   "cell_type": "code",
   "execution_count": 32,
   "metadata": {},
   "outputs": [],
   "source": [
    "\n",
    "df['marca'] = 'CUIDADO CON EL PERRO'\n",
    "df['tipo_es'] = df['tipo']\n",
    "df['color_es'] = df['color']\n",
    "df['moneda'] = 'PESO MXN'\n",
    "df['origen'] = 'CUIDADO CON EL PERRO MX'"
   ]
  },
  {
   "cell_type": "code",
   "execution_count": 33,
   "metadata": {},
   "outputs": [],
   "source": [
    "df = df.drop_duplicates()\n",
    "df = df.dropna()"
   ]
  },
  {
   "cell_type": "code",
   "execution_count": 34,
   "metadata": {},
   "outputs": [],
   "source": [
    "fecha = datetime.date.today()"
   ]
  },
  {
   "cell_type": "code",
   "execution_count": 37,
   "metadata": {},
   "outputs": [
    {
     "name": "stdout",
     "output_type": "stream",
     "text": [
      "GUARDO EL EXCEL ccep2020-03-18.xlsx\n"
     ]
    }
   ],
   "source": [
    "df.to_excel(f'/home/aa/cloudJ/JB/PRD/scrapper/Scripts/Mexico/Salida/ccep{fecha}.xlsx')\n",
    "print(f'GUARDO EL EXCEL ccep{fecha}.xlsx')"
   ]
  },
  {
   "cell_type": "code",
   "execution_count": 36,
   "metadata": {},
   "outputs": [
    {
     "data": {
      "text/plain": [
       "1901"
      ]
     },
     "execution_count": 36,
     "metadata": {},
     "output_type": "execute_result"
    }
   ],
   "source": []
  },
  {
   "cell_type": "code",
   "execution_count": null,
   "metadata": {},
   "outputs": [],
   "source": []
  }
 ],
 "metadata": {
  "kernelspec": {
   "display_name": "Python 3",
   "language": "python",
   "name": "python3"
  },
  "language_info": {
   "codemirror_mode": {
    "name": "ipython",
    "version": 3
   },
   "file_extension": ".py",
   "mimetype": "text/x-python",
   "name": "python",
   "nbconvert_exporter": "python",
   "pygments_lexer": "ipython3",
   "version": "3.6.8"
  }
 },
 "nbformat": 4,
 "nbformat_minor": 2
}
