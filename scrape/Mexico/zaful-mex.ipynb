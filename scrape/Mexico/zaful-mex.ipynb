{
 "cells": [
  {
   "cell_type": "code",
   "execution_count": 3,
   "metadata": {},
   "outputs": [
    {
     "data": {
      "text/html": [
       "<style>.container { width:100% !important; }</style>"
      ],
      "text/plain": [
       "<IPython.core.display.HTML object>"
      ]
     },
     "metadata": {},
     "output_type": "display_data"
    }
   ],
   "source": []
  },
  {
   "cell_type": "code",
   "execution_count": 1,
   "metadata": {},
   "outputs": [],
   "source": [
    "# coding: utf-8\n",
    "\n",
    "from selenium import webdriver\n",
    "from selenium.webdriver.support.ui import WebDriverWait\n",
    "from selenium.webdriver.common.by import By\n",
    "from selenium.webdriver.support import expected_conditions as EC\n",
    "from selenium.webdriver.chrome.options import Options\n",
    "from bs4 import BeautifulSoup\n",
    "import pandas as pd\n",
    "import requests\n",
    "from time import strftime\n",
    "import datetime\n",
    "import time\n",
    "from pandas import ExcelWriter\n",
    "import re\n",
    "import pyodbc\n",
    "from selenium.webdriver.common.action_chains import ActionChains\n",
    "import numpy as np\n",
    "import os\n",
    "from selenium.webdriver.support import expected_conditions\n",
    "from selenium.common.exceptions import WebDriverException\n",
    "from selenium.webdriver.common.keys import Keys\n",
    "from sc_header import createDriver\n",
    "\n",
    "\n",
    "fecha = datetime.date.today()\n",
    "\n",
    "browser = createDriver()\n",
    "browser.get('https://mx.zaful.com/')\n",
    "\n",
    "\n",
    "\n",
    "#SETTINGS :\n",
    "#CONFIGURA PRECIO MXN\n",
    "browser.execute_script('''\n",
    "document.getElementsByClassName('header-current-currency collapse')[0].setAttribute('data-bizhong','MXN') \n",
    "''')\n",
    "\n",
    "#CONFIRMA ACTUALIZACIONES\n",
    "browser.execute_script('''\n",
    "document.getElementsByClassName('link-update-preferences logsss_event_cl')[0].click();\n",
    "''')\n",
    "\n",
    "\n",
    "\n",
    "#LINKS \n",
    "links_aux = browser.execute_script('''\n",
    "            var arr=[];\n",
    "            var arn=[];\n",
    "            var cant = document.getElementsByClassName('nav-item').length;\n",
    "\n",
    "            for (i=0;i<cant;i++){\n",
    "\n",
    "                arr.push(document.getElementsByClassName('nav-item')[i].getElementsByTagName('a')[0].getAttribute('href'));\n",
    "\n",
    "                arn.push(document.getElementsByClassName('nav-item')[i].getElementsByTagName('a')[0].textContent);\n",
    "            }\n",
    "\n",
    "            function zip(a, b) {\n",
    "                  var arr = [];\n",
    "                  for (var key in a) arr.push([a[key], b[key]]);\n",
    "                  return arr;\n",
    "                }\n",
    "\n",
    "            return zip(arr,arn);\n",
    "            ''')\n",
    "\n",
    "\n",
    "\n",
    "LINKS = [i for i in links_aux if i[1] in [\"Mujer\",\"Hombre\"]]\n",
    "\n",
    "\n",
    "# In[46]:\n",
    "\n",
    "\n",
    "LINKS[1][0] = LINKS[1][0].replace('?odr=hot','')\n",
    "\n",
    "\n",
    "paginacion_total = []\n",
    "for LINK in LINKS:\n",
    "    \n",
    "    browser.get(LINK[0])\n",
    "    \n",
    "    elementos_paginacion = browser.execute_script('''\n",
    "                return document.getElementsByClassName('listspan')[0].getElementsByTagName('a');\n",
    "                ''')\n",
    "    paginacion_aux = []\n",
    "    for page in elementos_paginacion:\n",
    "        if page.text != \"\":\n",
    "            try:\n",
    "                pagina = int(page.get_attribute('data-page'))\n",
    "                paginacion_aux.append(page)\n",
    "            except:\n",
    "                pass   \n",
    "    # max page\n",
    "    flag_pag = 0\n",
    "    for i in paginacion_aux:\n",
    "        if int(i.text) > flag_pag:\n",
    "            flag_pag = int(i.text)\n",
    "    \n",
    "    for x in range(0,flag_pag):\n",
    "        paginacion_total.append([LINK[0]+f'g_{x+1}.html' , LINK[1]])    \n",
    "\n",
    "\n",
    "\n",
    "\n",
    "dfLinks = pd.DataFrame(data=paginacion_total,columns=['url','tipo'])\n",
    "\n",
    "\n",
    "\n",
    "dfLinks.to_excel(f'/home/aa/cloudJ/JB/PRD/scrapper/Scripts/Mexico/Links_{fecha}.xlsx')"
   ]
  },
  {
   "cell_type": "code",
   "execution_count": null,
   "metadata": {},
   "outputs": [],
   "source": [
    "lista_proc = [['zaful-1','zaful',''],\n",
    "     ['zaful-2','zaful',''],\n",
    "     ['zaful-3','zaful',''],\n",
    "     ['zaful-4','zaful',''],\n",
    "     ['zaful-5','zaful','']\n",
    "     ]\n",
    "\n",
    "\n",
    "browser.quit()\n",
    "\n",
    "import subprocess\n",
    "start_time = datetime.datetime.today()\n",
    "                                                                  \n",
    "procesos = [subprocess.Popen((\"/home/aa/miniconda3/bin/python\", f\"/home/aa/cloudJ/JB/PRD/scrapper/Scripts/Mexico/{proc[0]}.py\")) for proc in lista_proc]\n",
    "\n",
    "for proc, proceso in zip(lista_proc, procesos):\n",
    "    proc[2] = \"OK\" if proceso.wait() == 0 else \"ERROR\"\n",
    "    \n",
    "end_time = datetime.datetime.today()\n",
    "\n",
    "FINAL = '{}'.format(end_time - start_time)[:-4]\n",
    "print(f'Tiempo Zaful_Mexico: {FINAL}')"
   ]
  },
  {
   "cell_type": "code",
   "execution_count": 4,
   "metadata": {},
   "outputs": [],
   "source": [
    "from sc_header import return_chunk\n",
    "a = return_chunk(dfLinks,1)"
   ]
  },
  {
   "cell_type": "code",
   "execution_count": 4,
   "metadata": {},
   "outputs": [],
   "source": [
    "browser.quit()"
   ]
  },
  {
   "cell_type": "code",
   "execution_count": null,
   "metadata": {},
   "outputs": [],
   "source": []
  },
  {
   "cell_type": "code",
   "execution_count": 3,
   "metadata": {},
   "outputs": [
    {
     "data": {
      "text/plain": [
       "'https://latam.zaful.com/ropa-e_1/g_1.html'"
      ]
     },
     "execution_count": 3,
     "metadata": {},
     "output_type": "execute_result"
    }
   ],
   "source": [
    "dfLinks['url'][0]"
   ]
  },
  {
   "cell_type": "code",
   "execution_count": null,
   "metadata": {},
   "outputs": [],
   "source": []
  }
 ],
 "metadata": {
  "kernelspec": {
   "display_name": "Python 3",
   "language": "python",
   "name": "python3"
  },
  "language_info": {
   "codemirror_mode": {
    "name": "ipython",
    "version": 3
   },
   "file_extension": ".py",
   "mimetype": "text/x-python",
   "name": "python",
   "nbconvert_exporter": "python",
   "pygments_lexer": "ipython3",
   "version": "3.6.8"
  }
 },
 "nbformat": 4,
 "nbformat_minor": 2
}
