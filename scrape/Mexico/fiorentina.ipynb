{
 "cells": [
  {
   "cell_type": "code",
   "execution_count": 88,
   "metadata": {},
   "outputs": [],
   "source": [
    "from selenium import webdriver\n",
    "from selenium.webdriver.support.ui import WebDriverWait\n",
    "from selenium.webdriver.common.by import By\n",
    "from selenium.webdriver.support import expected_conditions as EC\n",
    "from selenium.webdriver.chrome.options import Options\n",
    "import numpy as np\n",
    "import requests\n",
    "import datetime\n",
    "from bs4 import BeautifulSoup\n",
    "import pandas as pd\n",
    "import pyodbc\n",
    "import os\n",
    "import time\n",
    "import itertools\n",
    "from sc_header import createDriver,aplanar_lista,extract_json_objects\n",
    "import re"
   ]
  },
  {
   "cell_type": "code",
   "execution_count": 89,
   "metadata": {},
   "outputs": [],
   "source": [
    "fecha = datetime.date.today()"
   ]
  },
  {
   "cell_type": "code",
   "execution_count": 90,
   "metadata": {},
   "outputs": [],
   "source": [
    "urls = ['https://www.fiorentina.com.mx/pijamas-leisure.html',\n",
    "        'https://www.fiorentina.com.mx/lenceria.html',\n",
    "        'https://www.fiorentina.com.mx/ropa-deportiva.html']"
   ]
  },
  {
   "cell_type": "code",
   "execution_count": 91,
   "metadata": {},
   "outputs": [],
   "source": [
    "browser = createDriver()"
   ]
  },
  {
   "cell_type": "code",
   "execution_count": null,
   "metadata": {},
   "outputs": [],
   "source": []
  },
  {
   "cell_type": "code",
   "execution_count": 92,
   "metadata": {},
   "outputs": [],
   "source": [
    "ex=[]\n",
    "hrefs_list = []\n",
    "\n",
    "for url in urls:\n",
    "    try:\n",
    "        browser.get(url)\n",
    "    except:\n",
    "        browser.quit()\n",
    "        browser = createDriver()\n",
    "        time.sleep(1)\n",
    "        browser.get(url)\n",
    "        ex.append(url)\n",
    "    while True:\n",
    "        for indice, item in enumerate(browser.find_elements_by_class_name('item')):\n",
    "            \n",
    "            hrefs_list.append([\n",
    "                indice,\n",
    "                item.find_element_by_tag_name('a').get_attribute('href'),\n",
    "                browser.current_url\n",
    "                ])\n",
    "        try:\n",
    "            browser.find_element_by_css_selector('.next.i-next').click()\n",
    "        except:\n",
    "            break\n",
    "    "
   ]
  },
  {
   "cell_type": "code",
   "execution_count": 93,
   "metadata": {},
   "outputs": [],
   "source": [
    "df_urls  = pd.DataFrame(hrefs_list)"
   ]
  },
  {
   "cell_type": "code",
   "execution_count": 94,
   "metadata": {},
   "outputs": [],
   "source": [
    "df_urls.rename(columns = {0:'pos',\n",
    "                          1:'href',\n",
    "                          2:'pagina_scraper'},\n",
    "              inplace = True)"
   ]
  },
  {
   "cell_type": "code",
   "execution_count": null,
   "metadata": {},
   "outputs": [],
   "source": []
  },
  {
   "cell_type": "code",
   "execution_count": 95,
   "metadata": {},
   "outputs": [],
   "source": [
    "def scrape_url(pos_aux,url_aux,pagina_aux):    \n",
    "    \n",
    "    lista_auxiliar = []\n",
    "    soup = BeautifulSoup(requests.get(url_aux).text,'html.parser')\n",
    "    scripts = soup.find_all(type=\"text/javascript\")\n",
    "    \n",
    "    for json_data in extract_json_objects(scripts[14].text):\n",
    "        pass\n",
    "    \n",
    "    for aux_price in extract_json_objects(scripts[13].text):\n",
    "        pass\n",
    "    for categorie in extract_json_objects(scripts[5].text):\n",
    "        pass\n",
    "    \n",
    "\n",
    "    for key, value in json_data['option_labels'].items():\n",
    "\n",
    "        if value['configurable_product']['base_image'] != None:\n",
    "\n",
    "            lista_auxiliar.append([pos_aux, #pos\n",
    "                                   aux_price['productId'], #ID PRODUCTO\n",
    "                                   categorie['ecommerce']['detail']['products']['category'], #CATEGORIA\n",
    "                                   key,#COLOR\n",
    "                                   categorie['ecommerce']['detail']['products']['name'].strip(), #DESCRIPCION\n",
    "                                   aux_price['productOldPrice'], #PRECIO\n",
    "                                   aux_price['productPrice'],#PRECIO_DTO\n",
    "                                   value['configurable_product']['base_image'], #IMG\n",
    "                                   url_aux, #HREF\n",
    "                                   pagina_aux, #PAGINA_SCRAPER\n",
    "                                  ])\n",
    "    return lista_auxiliar \n",
    "#    except:\n",
    "#        return [-1,-1,-1,-1,-1,-1,-1,-1,-1,-1]\n",
    "    \n",
    "def scrape_batch(url_chunk):\n",
    "    chunk_resp = []\n",
    "    for url in url_chunk:\n",
    "                                     \n",
    "        chunk_resp.append(scrape_url(url[0],url[1],url[2]))\n",
    "                                    \n",
    "    return chunk_resp\n",
    "\n"
   ]
  },
  {
   "cell_type": "code",
   "execution_count": 96,
   "metadata": {},
   "outputs": [],
   "source": [
    "batch_size = 5\n",
    "url_chunks = [hrefs_list[x:x+batch_size] for x in range(0, len(hrefs_list), batch_size)]\n",
    "items = []\n",
    "\n",
    "for url_chunk in url_chunks:\n",
    "    items.append(scrape_batch(url_chunk))"
   ]
  },
  {
   "cell_type": "code",
   "execution_count": 97,
   "metadata": {},
   "outputs": [],
   "source": [
    "new_list = aplanar_lista(items)"
   ]
  },
  {
   "cell_type": "code",
   "execution_count": 98,
   "metadata": {},
   "outputs": [],
   "source": [
    "df = pd.DataFrame(new_list)"
   ]
  },
  {
   "cell_type": "code",
   "execution_count": 99,
   "metadata": {},
   "outputs": [],
   "source": [
    "df.rename(columns={0:'pos',\n",
    "                   1:'id_producto',\n",
    "                   2:'tipo',\n",
    "                   3:'color',\n",
    "                   4:'descripcion',\n",
    "                   5:'precio',\n",
    "                   6:'precio_dto',\n",
    "                   7:'img',\n",
    "                   8:'url',\n",
    "                   9:'pagina_scraper'\n",
    "                   },\n",
    "         inplace=True)"
   ]
  },
  {
   "cell_type": "code",
   "execution_count": null,
   "metadata": {},
   "outputs": [],
   "source": []
  },
  {
   "cell_type": "code",
   "execution_count": 277,
   "metadata": {},
   "outputs": [],
   "source": [
    "df['tipo'] = df['tipo'].apply(lambda x:x.replace('REBAJAS: ÚLTIMOS DÍAS|','').replace('NUEVAS COLECCIONES|',''))"
   ]
  },
  {
   "cell_type": "code",
   "execution_count": 292,
   "metadata": {},
   "outputs": [],
   "source": [
    "df = df[~df['tipo'].str.contains('Accesorios')]"
   ]
  },
  {
   "cell_type": "code",
   "execution_count": 295,
   "metadata": {},
   "outputs": [],
   "source": [
    "df.reset_index(drop=True,inplace=True)"
   ]
  },
  {
   "cell_type": "code",
   "execution_count": 304,
   "metadata": {},
   "outputs": [],
   "source": []
  },
  {
   "cell_type": "code",
   "execution_count": null,
   "metadata": {},
   "outputs": [],
   "source": [
    "df['marca'] ='FIORENTINA'\n",
    "df['tipo_es'] = df['tipo']\n",
    "df['color_es'] = df['color']\n",
    "df['sexo'] = 'Mujer'\n",
    "df['moneda'] = 'PESO MXN'\n",
    "df['origen'] = 'FIORENTINA MX'"
   ]
  },
  {
   "cell_type": "code",
   "execution_count": 311,
   "metadata": {},
   "outputs": [
    {
     "name": "stderr",
     "output_type": "stream",
     "text": [
      "/home/aa/miniconda3/envs/dev_env/lib/python3.6/site-packages/ipykernel_launcher.py:1: SettingWithCopyWarning: \n",
      "A value is trying to be set on a copy of a slice from a DataFrame.\n",
      "Try using .loc[row_indexer,col_indexer] = value instead\n",
      "\n",
      "See the caveats in the documentation: http://pandas.pydata.org/pandas-docs/stable/indexing.html#indexing-view-versus-copy\n",
      "  \"\"\"Entry point for launching an IPython kernel.\n"
     ]
    }
   ],
   "source": [
    "df['precio'] = df['precio'].astype(float)"
   ]
  },
  {
   "cell_type": "code",
   "execution_count": 312,
   "metadata": {},
   "outputs": [
    {
     "name": "stderr",
     "output_type": "stream",
     "text": [
      "/home/aa/miniconda3/envs/dev_env/lib/python3.6/site-packages/ipykernel_launcher.py:1: SettingWithCopyWarning: \n",
      "A value is trying to be set on a copy of a slice from a DataFrame.\n",
      "Try using .loc[row_indexer,col_indexer] = value instead\n",
      "\n",
      "See the caveats in the documentation: http://pandas.pydata.org/pandas-docs/stable/indexing.html#indexing-view-versus-copy\n",
      "  \"\"\"Entry point for launching an IPython kernel.\n"
     ]
    }
   ],
   "source": [
    "df['precio_dto'] = df['precio_dto'].astype(float)"
   ]
  },
  {
   "cell_type": "code",
   "execution_count": 313,
   "metadata": {},
   "outputs": [],
   "source": [
    "df.to_excel(f'fiorentina{fecha}.xlsx')"
   ]
  },
  {
   "cell_type": "code",
   "execution_count": null,
   "metadata": {},
   "outputs": [],
   "source": []
  },
  {
   "cell_type": "code",
   "execution_count": 81,
   "metadata": {},
   "outputs": [],
   "source": [
    "soup=BeautifulSoup(requests.get('https://www.fiorentina.com.mx/lenceria/boxer-22918.html').text,'html.parser')"
   ]
  },
  {
   "cell_type": "code",
   "execution_count": 86,
   "metadata": {},
   "outputs": [],
   "source": []
  },
  {
   "cell_type": "code",
   "execution_count": 87,
   "metadata": {},
   "outputs": [
    {
     "data": {
      "text/plain": [
       "'Lencería'"
      ]
     },
     "execution_count": 87,
     "metadata": {},
     "output_type": "execute_result"
    }
   ],
   "source": [
    "categoria"
   ]
  },
  {
   "cell_type": "code",
   "execution_count": 102,
   "metadata": {},
   "outputs": [],
   "source": [
    "browser.quit()"
   ]
  },
  {
   "cell_type": "code",
   "execution_count": null,
   "metadata": {},
   "outputs": [],
   "source": []
  }
 ],
 "metadata": {
  "kernelspec": {
   "display_name": "Python [conda env:dev_env]",
   "language": "python",
   "name": "conda-env-dev_env-py"
  },
  "language_info": {
   "codemirror_mode": {
    "name": "ipython",
    "version": 3
   },
   "file_extension": ".py",
   "mimetype": "text/x-python",
   "name": "python",
   "nbconvert_exporter": "python",
   "pygments_lexer": "ipython3",
   "version": "3.6.8"
  }
 },
 "nbformat": 4,
 "nbformat_minor": 2
}
