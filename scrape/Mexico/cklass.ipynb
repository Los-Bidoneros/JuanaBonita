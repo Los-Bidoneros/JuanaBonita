{
 "cells": [
  {
   "cell_type": "code",
   "execution_count": 1,
   "metadata": {},
   "outputs": [],
   "source": [
    "from selenium import webdriver\n",
    "from selenium.webdriver.support.ui import WebDriverWait\n",
    "from selenium.webdriver.common.by import By\n",
    "from selenium.webdriver.support import expected_conditions as EC\n",
    "from selenium.webdriver.chrome.options import Options\n",
    "import numpy as np\n",
    "import requests\n",
    "import datetime\n",
    "from bs4 import BeautifulSoup\n",
    "import pandas as pd\n",
    "import time\n",
    "import pyodbc\n",
    "import os\n",
    "import itertools\n",
    "import json\n",
    "import re\n",
    "from json import JSONDecoder\n",
    "from sc_header import createDriver,aplanar_lista,extract_json_objects"
   ]
  },
  {
   "cell_type": "code",
   "execution_count": 2,
   "metadata": {},
   "outputs": [],
   "source": [
    "fecha = datetime.date.today()"
   ]
  },
  {
   "cell_type": "code",
   "execution_count": 3,
   "metadata": {},
   "outputs": [],
   "source": [
    "url_base = 'https://cklass.shop/collections/ropa-dama'"
   ]
  },
  {
   "cell_type": "code",
   "execution_count": 4,
   "metadata": {},
   "outputs": [],
   "source": [
    "browser = createDriver()"
   ]
  },
  {
   "cell_type": "code",
   "execution_count": 5,
   "metadata": {},
   "outputs": [],
   "source": [
    "browser.get(url_base)"
   ]
  },
  {
   "cell_type": "code",
   "execution_count": 6,
   "metadata": {},
   "outputs": [],
   "source": [
    "urllist = []\n",
    "\n",
    "max_page = int((WebDriverWait(browser,40).until(EC.presence_of_all_elements_located((By.CLASS_NAME,'page')))[-1]).text)\n",
    "for i in range(max_page):\n",
    "    pos = 0\n",
    "    time.sleep(1)\n",
    "    product_card = browser.find_elements_by_class_name('spf-product-card__image-wrapper')\n",
    "    for item in product_card:\n",
    "        pos+=1\n",
    "        urllist.append([pos,\n",
    "                         item.get_attribute('href'),\n",
    "                         browser.current_url])\n",
    "    try:\n",
    "        WebDriverWait(browser,30).until(EC.element_to_be_clickable((By.CLASS_NAME,\"next\"))).click()\n",
    "    except:\n",
    "        print('NO SE PUDO CLICKEAR')"
   ]
  },
  {
   "cell_type": "code",
   "execution_count": null,
   "metadata": {},
   "outputs": [],
   "source": []
  },
  {
   "cell_type": "code",
   "execution_count": 24,
   "metadata": {},
   "outputs": [],
   "source": [
    "def scrape_url(pos_aux,url_aux,pagina_aux):\n",
    "    \n",
    "    lista_auxiliar = []\n",
    "    soup = BeautifulSoup(requests.get(url_aux).text,'html.parser')\n",
    "    \n",
    "    metadatos = soup.find_all('script',type='application/json')[1]\n",
    "    metadatos = json.loads(metadatos.text)\n",
    "    \n",
    "    for data in metadatos['variants']:\n",
    "        lista_auxiliar.append([pos_aux,\n",
    "                               metadatos['id'],#ID\n",
    "                               metadatos['title'], #DESCRIPCION\n",
    "                               metadatos['published_at'], #FECHA DE LANZAMIENTO\n",
    "                               metadatos['vendor'], #MARCA\n",
    "#                               [i for i in metadatos['tags'] if i != 'oferta'], #DESPUES DE SCRAPEAR, VERIFICAR QUE SOLO TRAIGA UN ELEMENTO\n",
    "                               data['title'], #talle)\n",
    "                               data['sku'], #SKU\n",
    "                               data['available'], #DISPO\n",
    "                               [i.text.strip() for i in soup.find_all(class_='product-single__prices product-single__prices--policy-enabled')], #PRECIOS\n",
    "                               soup.find_all('noscript')[-1].img['src'], #TEST\n",
    "                               #[i.get('src') for i in soup.find_all('img') if i.get('src').find('1024x1024') != -1][0], #IMG\n",
    "                               url_aux, #URL\n",
    "                               pagina_aux, #PAGINA_SCRAPER\n",
    "                              ])\n",
    "    \n",
    "    return lista_auxiliar    \n",
    "\n",
    "\n",
    "#PAGINA_SCRAPER\n",
    "\n",
    "def scrape_batch(url_chunk):\n",
    "    chunk_resp = []\n",
    "    for url in url_chunk:\n",
    "        chunk_resp.append(scrape_url(url[0],url[1],url[2]))\n",
    "    return chunk_resp\n"
   ]
  },
  {
   "cell_type": "code",
   "execution_count": null,
   "metadata": {},
   "outputs": [],
   "source": []
  },
  {
   "cell_type": "code",
   "execution_count": 27,
   "metadata": {},
   "outputs": [],
   "source": [
    "batch_size = 5\n",
    "\n",
    "url_chunks = [urllist[x:x+batch_size] for x in range(0, len(urllist), batch_size)]\n",
    "items = []\n",
    "for url_chunk in url_chunks:\n",
    "    items.append(scrape_batch(url_chunk))\n"
   ]
  },
  {
   "cell_type": "code",
   "execution_count": 28,
   "metadata": {},
   "outputs": [],
   "source": [
    "new_list = aplanar_lista(items)"
   ]
  },
  {
   "cell_type": "code",
   "execution_count": 29,
   "metadata": {},
   "outputs": [],
   "source": [
    "df = pd.DataFrame(new_list)"
   ]
  },
  {
   "cell_type": "code",
   "execution_count": 30,
   "metadata": {},
   "outputs": [],
   "source": [
    "df.rename(columns={0:'pos',\n",
    "                  1:'id_producto',\n",
    "                  2:'descripcion',\n",
    "                  3:'publicacion',\n",
    "                  4:'marca',\n",
    "                  5:'talle',\n",
    "                  6:'sku',\n",
    "                  7:'disponible',\n",
    "                  8:'precio_flag',\n",
    "                  9:'img',\n",
    "                  10:'url',\n",
    "                  11:'pagina_scraper'},\n",
    "         inplace=True)"
   ]
  },
  {
   "cell_type": "code",
   "execution_count": 31,
   "metadata": {},
   "outputs": [],
   "source": [
    "df['precio_flag'] = df['precio_flag'].apply(lambda x:x[0])"
   ]
  },
  {
   "cell_type": "code",
   "execution_count": 32,
   "metadata": {},
   "outputs": [],
   "source": [
    "#ESTA INVERTIDO EN LA PÁGINA, ENTONCES PRECIO_DTO > PRECIO (REAL)\n",
    "df['precio'] = df['precio_flag'].apply(lambda x: x.split('\\n            \\n')[1])\n",
    "df['precio_dto'] = df['precio_flag'].apply(lambda x: x.split('\\n            \\n')[0])"
   ]
  },
  {
   "cell_type": "code",
   "execution_count": 33,
   "metadata": {},
   "outputs": [],
   "source": [
    "df['precio'] = (df['precio']\n",
    "                .str.extract(r\"([\\d,\\.]+)\", expand=False)\n",
    "                .str.replace(\",\", \"\")\n",
    "                .astype(float))"
   ]
  },
  {
   "cell_type": "code",
   "execution_count": 34,
   "metadata": {},
   "outputs": [],
   "source": [
    "df['precio_dto'] = (df['precio_dto']\n",
    "                    .str.extract(r\"([\\d,\\.]+)\", expand=False)\n",
    "                    .str.replace(\",\", \"\")\n",
    "                    .astype(float))"
   ]
  },
  {
   "cell_type": "code",
   "execution_count": 35,
   "metadata": {},
   "outputs": [],
   "source": [
    "df['precio'] = np.where(df['precio_dto']>df['precio'],\n",
    "                        df['precio_dto'],\n",
    "                        df['precio'])"
   ]
  },
  {
   "cell_type": "code",
   "execution_count": 36,
   "metadata": {},
   "outputs": [],
   "source": [
    "df['tipo'] = df['descripcion'].apply(lambda x:x.split()[0])"
   ]
  },
  {
   "cell_type": "code",
   "execution_count": null,
   "metadata": {},
   "outputs": [],
   "source": []
  },
  {
   "cell_type": "code",
   "execution_count": 37,
   "metadata": {},
   "outputs": [],
   "source": [
    "df.loc[df['talle']=='CHI','talle'] = 'S'\n",
    "df.loc[df['talle']=='MED','talle'] = 'M'\n",
    "df.loc[df['talle']=='GDE','talle'] = 'L'\n",
    "df.loc[df['talle']=='EXG','talle'] = 'XL'"
   ]
  },
  {
   "cell_type": "code",
   "execution_count": 38,
   "metadata": {},
   "outputs": [],
   "source": [
    "df['moneda'] = 'PESO MXN'\n",
    "df['origen'] = 'CKLASS MX'"
   ]
  },
  {
   "cell_type": "code",
   "execution_count": 39,
   "metadata": {},
   "outputs": [],
   "source": [
    "df['marca'] = df['marca'].str.upper()"
   ]
  },
  {
   "cell_type": "code",
   "execution_count": null,
   "metadata": {},
   "outputs": [],
   "source": []
  },
  {
   "cell_type": "code",
   "execution_count": 40,
   "metadata": {},
   "outputs": [],
   "source": [
    "df['color'] = df['url'].apply(lambda x:x.split('/')[-1])"
   ]
  },
  {
   "cell_type": "code",
   "execution_count": 41,
   "metadata": {},
   "outputs": [],
   "source": [
    "df['color'] = df['color'].apply(lambda x:\" \".join(re.findall(r\"([^\\d-]+)\",x)))"
   ]
  },
  {
   "cell_type": "code",
   "execution_count": null,
   "metadata": {},
   "outputs": [],
   "source": []
  },
  {
   "cell_type": "code",
   "execution_count": 44,
   "metadata": {},
   "outputs": [],
   "source": [
    "df.to_excel(f'cklass{fecha}.xlsx')"
   ]
  },
  {
   "cell_type": "code",
   "execution_count": null,
   "metadata": {},
   "outputs": [],
   "source": []
  },
  {
   "cell_type": "code",
   "execution_count": null,
   "metadata": {},
   "outputs": [],
   "source": []
  },
  {
   "cell_type": "code",
   "execution_count": null,
   "metadata": {},
   "outputs": [],
   "source": []
  }
 ],
 "metadata": {
  "kernelspec": {
   "display_name": "Python [conda env:dev_env]",
   "language": "python",
   "name": "conda-env-dev_env-py"
  },
  "language_info": {
   "codemirror_mode": {
    "name": "ipython",
    "version": 3
   },
   "file_extension": ".py",
   "mimetype": "text/x-python",
   "name": "python",
   "nbconvert_exporter": "python",
   "pygments_lexer": "ipython3",
   "version": "3.6.8"
  }
 },
 "nbformat": 4,
 "nbformat_minor": 2
}
