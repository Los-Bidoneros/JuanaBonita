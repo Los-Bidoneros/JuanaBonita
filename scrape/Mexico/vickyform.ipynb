{
 "cells": [
  {
   "cell_type": "code",
   "execution_count": 1,
   "metadata": {},
   "outputs": [],
   "source": [
    "from selenium import webdriver\n",
    "from selenium.webdriver.support.ui import WebDriverWait\n",
    "from selenium.webdriver.common.by import By\n",
    "from selenium.webdriver.support import expected_conditions as EC\n",
    "from selenium.webdriver.chrome.options import Options\n",
    "import numpy as np\n",
    "import requests\n",
    "import datetime\n",
    "from bs4 import BeautifulSoup\n",
    "import pandas as pd\n",
    "import pyodbc\n",
    "import os\n",
    "import re\n",
    "import time\n",
    "import itertools\n",
    "from sc_header import createDriver,aplanar_lista,extract_json_objects\n",
    "HOMBRE = 'BOXER N17'\n",
    "fecha = datetime.date.today()"
   ]
  },
  {
   "cell_type": "code",
   "execution_count": 2,
   "metadata": {},
   "outputs": [],
   "source": [
    "urls = ['https://www.vickyform.com/bras',\n",
    "        'https://www.vickyform.com/panties',\n",
    "        'https://www.vickyform.com/trajes-de-bano/traje-de-bano',\n",
    "        'https://www.vickyform.com/baby-dolls',\n",
    "        'https://www.vickyform.com/shapers',\n",
    "        'https://www.vickyform.com/pijamas']"
   ]
  },
  {
   "cell_type": "code",
   "execution_count": 3,
   "metadata": {},
   "outputs": [],
   "source": [
    "browser = createDriver()"
   ]
  },
  {
   "cell_type": "code",
   "execution_count": 4,
   "metadata": {},
   "outputs": [],
   "source": [
    "browser.get(urls[0])"
   ]
  },
  {
   "cell_type": "code",
   "execution_count": 5,
   "metadata": {},
   "outputs": [],
   "source": [
    "hrefs_list = []\n",
    "for url in urls:\n",
    "    try:\n",
    "        browser.get(url)\n",
    "    except:\n",
    "        browser.quit()\n",
    "        time.sleep(1)\n",
    "        browser = createDriver()\n",
    "        browser.get(url)\n",
    "        \n",
    "    last_height = browser.execute_script(\"return document.body.scrollHeight\")\n",
    "    while True:\n",
    "\n",
    "        browser.execute_script(\"window.scrollTo(0, document.body.scrollHeight);\")\n",
    "        time.sleep(7)\n",
    "        new_height = browser.execute_script(\"return document.body.scrollHeight\")\n",
    "        if new_height == last_height:\n",
    "            break\n",
    "        last_height = new_height\n",
    "    \n",
    "    productImages = browser.find_elements_by_class_name('productImage')\n",
    "    \n",
    "    for indice, image in enumerate(productImages):\n",
    "        hrefs_list.append([indice+1,\n",
    "                           image.get_attribute('href'),\n",
    "                           url,\n",
    "                           image.get_attribute('title')\n",
    "                          ])\n",
    "browser.quit()"
   ]
  },
  {
   "cell_type": "code",
   "execution_count": 6,
   "metadata": {},
   "outputs": [],
   "source": [
    "def scrape_url(pos_aux,url_aux,pagina_aux,desc_aux):    \n",
    "    \n",
    "    lista_auxiliar = []\n",
    "    soup = BeautifulSoup(requests.get(url_aux).text,'html.parser')\n",
    "\n",
    "    #CATEGORIA\n",
    "    for i in soup.find_all(class_='bread-crumb'):\n",
    "        categoria = \"|\".join([m.a.text for m in i.find_all('li')])\n",
    "    \n",
    "    scripts = soup.find_all('script')\n",
    "    \n",
    "    for skuJson in extract_json_objects(scripts[41].text):\n",
    "        pass\n",
    "\n",
    "\n",
    "    aux = []\n",
    "    try:\n",
    "        for val in skuJson['skus']:\n",
    "\n",
    "            col = val['dimensions']['Color']\n",
    "            if col not in aux:\n",
    "\n",
    "                lista_auxiliar.append([pos_aux,\n",
    "                                       soup.find(class_='codigo-produto col-xs-12').text, #ID PRODUCTO\n",
    "                                       categoria, #TIPO\n",
    "                                       col,#COLOR\n",
    "                                       desc_aux, #DESCRIPCION\n",
    "                                       val['seller'], #MARCA\n",
    "                                       [i.text for i in soup.find_all(class_='price-box')],\n",
    "                                       #soup.find(class_='skuBestPrice').text,#PRECIO_DTO\n",
    "                                       val['image'], #IMG\n",
    "                                       url_aux, #HREF\n",
    "                                       pagina_aux\n",
    "                                       ])\n",
    "                aux.append(col)\n",
    "\n",
    "        return lista_auxiliar \n",
    "    except:\n",
    "        return [-1]\n",
    "\n",
    "    \n",
    "def scrape_batch(url_chunk):\n",
    "    chunk_resp = []\n",
    "    for url in url_chunk:\n",
    "                                     \n",
    "        chunk_resp.append(scrape_url(url[0],url[1],url[2],url[3]))\n",
    "                                    \n",
    "    return chunk_resp"
   ]
  },
  {
   "cell_type": "code",
   "execution_count": 7,
   "metadata": {},
   "outputs": [],
   "source": [
    "batch_size = 5\n",
    "url_chunks = [hrefs_list[x:x+batch_size] for x in range(0, len(hrefs_list), batch_size)]\n",
    "items = []"
   ]
  },
  {
   "cell_type": "code",
   "execution_count": 8,
   "metadata": {},
   "outputs": [
    {
     "ename": "UnboundLocalError",
     "evalue": "local variable 'skuJson' referenced before assignment",
     "output_type": "error",
     "traceback": [
      "\u001b[0;31m---------------------------------------------------------------------------\u001b[0m",
      "\u001b[0;31mUnboundLocalError\u001b[0m                         Traceback (most recent call last)",
      "\u001b[0;32m<ipython-input-8-1ff3d5dbd3a6>\u001b[0m in \u001b[0;36m<module>\u001b[0;34m\u001b[0m\n\u001b[1;32m      1\u001b[0m \u001b[0;34m\u001b[0m\u001b[0m\n\u001b[1;32m      2\u001b[0m \u001b[0;32mfor\u001b[0m \u001b[0murl_chunk\u001b[0m \u001b[0;32min\u001b[0m \u001b[0murl_chunks\u001b[0m\u001b[0;34m:\u001b[0m\u001b[0;34m\u001b[0m\u001b[0;34m\u001b[0m\u001b[0m\n\u001b[0;32m----> 3\u001b[0;31m     \u001b[0mitems\u001b[0m\u001b[0;34m.\u001b[0m\u001b[0mappend\u001b[0m\u001b[0;34m(\u001b[0m\u001b[0mscrape_batch\u001b[0m\u001b[0;34m(\u001b[0m\u001b[0murl_chunk\u001b[0m\u001b[0;34m)\u001b[0m\u001b[0;34m)\u001b[0m\u001b[0;34m\u001b[0m\u001b[0;34m\u001b[0m\u001b[0m\n\u001b[0m",
      "\u001b[0;32m<ipython-input-6-e964289a1f68>\u001b[0m in \u001b[0;36mscrape_batch\u001b[0;34m(url_chunk)\u001b[0m\n\u001b[1;32m     40\u001b[0m     \u001b[0;32mfor\u001b[0m \u001b[0murl\u001b[0m \u001b[0;32min\u001b[0m \u001b[0murl_chunk\u001b[0m\u001b[0;34m:\u001b[0m\u001b[0;34m\u001b[0m\u001b[0;34m\u001b[0m\u001b[0m\n\u001b[1;32m     41\u001b[0m \u001b[0;34m\u001b[0m\u001b[0m\n\u001b[0;32m---> 42\u001b[0;31m         \u001b[0mchunk_resp\u001b[0m\u001b[0;34m.\u001b[0m\u001b[0mappend\u001b[0m\u001b[0;34m(\u001b[0m\u001b[0mscrape_url\u001b[0m\u001b[0;34m(\u001b[0m\u001b[0murl\u001b[0m\u001b[0;34m[\u001b[0m\u001b[0;36m0\u001b[0m\u001b[0;34m]\u001b[0m\u001b[0;34m,\u001b[0m\u001b[0murl\u001b[0m\u001b[0;34m[\u001b[0m\u001b[0;36m1\u001b[0m\u001b[0;34m]\u001b[0m\u001b[0;34m,\u001b[0m\u001b[0murl\u001b[0m\u001b[0;34m[\u001b[0m\u001b[0;36m2\u001b[0m\u001b[0;34m]\u001b[0m\u001b[0;34m,\u001b[0m\u001b[0murl\u001b[0m\u001b[0;34m[\u001b[0m\u001b[0;36m3\u001b[0m\u001b[0;34m]\u001b[0m\u001b[0;34m)\u001b[0m\u001b[0;34m)\u001b[0m\u001b[0;34m\u001b[0m\u001b[0;34m\u001b[0m\u001b[0m\n\u001b[0m\u001b[1;32m     43\u001b[0m \u001b[0;34m\u001b[0m\u001b[0m\n\u001b[1;32m     44\u001b[0m     \u001b[0;32mreturn\u001b[0m \u001b[0mchunk_resp\u001b[0m\u001b[0;34m\u001b[0m\u001b[0;34m\u001b[0m\u001b[0m\n",
      "\u001b[0;32m<ipython-input-6-e964289a1f68>\u001b[0m in \u001b[0;36mscrape_url\u001b[0;34m(pos_aux, url_aux, pagina_aux, desc_aux)\u001b[0m\n\u001b[1;32m     14\u001b[0m \u001b[0;34m\u001b[0m\u001b[0m\n\u001b[1;32m     15\u001b[0m     \u001b[0maux\u001b[0m \u001b[0;34m=\u001b[0m \u001b[0;34m[\u001b[0m\u001b[0;34m]\u001b[0m\u001b[0;34m\u001b[0m\u001b[0;34m\u001b[0m\u001b[0m\n\u001b[0;32m---> 16\u001b[0;31m     \u001b[0;32mfor\u001b[0m \u001b[0mval\u001b[0m \u001b[0;32min\u001b[0m \u001b[0mskuJson\u001b[0m\u001b[0;34m[\u001b[0m\u001b[0;34m'skus'\u001b[0m\u001b[0;34m]\u001b[0m\u001b[0;34m:\u001b[0m\u001b[0;34m\u001b[0m\u001b[0;34m\u001b[0m\u001b[0m\n\u001b[0m\u001b[1;32m     17\u001b[0m \u001b[0;34m\u001b[0m\u001b[0m\n\u001b[1;32m     18\u001b[0m         \u001b[0mcol\u001b[0m \u001b[0;34m=\u001b[0m \u001b[0mval\u001b[0m\u001b[0;34m[\u001b[0m\u001b[0;34m'dimensions'\u001b[0m\u001b[0;34m]\u001b[0m\u001b[0;34m[\u001b[0m\u001b[0;34m'Color'\u001b[0m\u001b[0;34m]\u001b[0m\u001b[0;34m\u001b[0m\u001b[0;34m\u001b[0m\u001b[0m\n",
      "\u001b[0;31mUnboundLocalError\u001b[0m: local variable 'skuJson' referenced before assignment"
     ]
    }
   ],
   "source": [
    "\n",
    "for url_chunk in url_chunks:\n",
    "    items.append(scrape_batch(url_chunk))\n"
   ]
  },
  {
   "cell_type": "code",
   "execution_count": null,
   "metadata": {},
   "outputs": [],
   "source": []
  },
  {
   "cell_type": "code",
   "execution_count": 40,
   "metadata": {},
   "outputs": [],
   "source": [
    "new_list = aplanar_lista(items)"
   ]
  },
  {
   "cell_type": "code",
   "execution_count": 316,
   "metadata": {},
   "outputs": [],
   "source": [
    "df = pd.DataFrame(new_list)"
   ]
  },
  {
   "cell_type": "code",
   "execution_count": null,
   "metadata": {},
   "outputs": [],
   "source": []
  },
  {
   "cell_type": "code",
   "execution_count": 317,
   "metadata": {},
   "outputs": [],
   "source": [
    "df.rename(columns={0:'pos',\n",
    "                  1:'id_producto',\n",
    "                  2:'categoria',\n",
    "                  3:'color',\n",
    "                  4:'descripcion',\n",
    "                  5:'marca',\n",
    "                  6:'PRECIO_AUX',\n",
    "                  7:'img',\n",
    "                  8:'url',\n",
    "                  9:'pagina_scraper'},\n",
    "         inplace=True)"
   ]
  },
  {
   "cell_type": "code",
   "execution_count": null,
   "metadata": {},
   "outputs": [],
   "source": []
  },
  {
   "cell_type": "code",
   "execution_count": null,
   "metadata": {},
   "outputs": [],
   "source": []
  },
  {
   "cell_type": "code",
   "execution_count": 318,
   "metadata": {},
   "outputs": [],
   "source": [
    "df['PRECIO_AUX'] = df['PRECIO_AUX'].apply(lambda x:x[0])\n",
    "\n",
    "df['FLAG'] = df['PRECIO_AUX'].apply(lambda x:x.split('ou')[0])\n",
    "\n",
    "df = df[df['FLAG'] != '']\n",
    "df.reset_index(drop=True,inplace=True)\n",
    "\n",
    "\n",
    "\n",
    "df['precio'] = df['FLAG'].apply(lambda x:re.findall(r'(?:^.*?\\()?(\\d+(?:\\.\\d+)?)',x)[0])\n",
    "df['precio_dto'] = df['FLAG'].apply(lambda x:re.findall(r'(?:^.*?\\()?(\\d+(?:\\.\\d+)?)',x)[1])\n",
    "\n",
    "df['precio'] = df['precio'].astype(float)\n",
    "df['precio_dto'] = df['precio_dto'].astype(float)\n",
    "\n",
    "df['precio'] = np.where(df['precio']==0,\n",
    "                        df['precio_dto'],\n",
    "                        df['precio'])\n",
    "\n",
    "df.drop(['FLAG','PRECIO_AUX'],axis=1,inplace=True)\n",
    "\n",
    "df['categoria'] = df['categoria'].apply(lambda x:x.replace('vickymx|',''))\n",
    "df['categoria'] = df['categoria'].apply(lambda x : x.split('|')[1])\n",
    "\n",
    "df['sexo'] = np.where(df['descripcion'].str.upper().str.contains(HOMBRE.upper()),\n",
    "                      'HOMBRE',\n",
    "                      'MUJER')"
   ]
  },
  {
   "cell_type": "code",
   "execution_count": 322,
   "metadata": {},
   "outputs": [],
   "source": [
    "df['tipo_es'] = df['categoria']\n",
    "df.rename(columns={'categoria':'tipo'},inplace=True)\n",
    "df['color_es'] = df['color']\n",
    "df['moneda'] = 'PESO MXN'\n",
    "df['origen'] = 'VICKY FORM MX'"
   ]
  },
  {
   "cell_type": "code",
   "execution_count": null,
   "metadata": {},
   "outputs": [],
   "source": []
  },
  {
   "cell_type": "code",
   "execution_count": null,
   "metadata": {},
   "outputs": [],
   "source": [
    "df.to_excel(f'vickyform{fecha}.xlsx')"
   ]
  },
  {
   "cell_type": "code",
   "execution_count": null,
   "metadata": {},
   "outputs": [],
   "source": []
  },
  {
   "cell_type": "code",
   "execution_count": null,
   "metadata": {},
   "outputs": [],
   "source": []
  },
  {
   "cell_type": "code",
   "execution_count": null,
   "metadata": {},
   "outputs": [],
   "source": []
  }
 ],
 "metadata": {
  "kernelspec": {
   "display_name": "Python [conda env:dev_env]",
   "language": "python",
   "name": "conda-env-dev_env-py"
  },
  "language_info": {
   "codemirror_mode": {
    "name": "ipython",
    "version": 3
   },
   "file_extension": ".py",
   "mimetype": "text/x-python",
   "name": "python",
   "nbconvert_exporter": "python",
   "pygments_lexer": "ipython3",
   "version": "3.6.8"
  }
 },
 "nbformat": 4,
 "nbformat_minor": 2
}
