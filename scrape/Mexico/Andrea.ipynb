{
 "cells": [
  {
   "cell_type": "code",
   "execution_count": 3,
   "metadata": {},
   "outputs": [],
   "source": [
    "from selenium import webdriver\n",
    "from selenium.webdriver.support.ui import WebDriverWait\n",
    "from selenium.webdriver.common.by import By\n",
    "from selenium.webdriver.support import expected_conditions as EC\n",
    "from selenium.webdriver.chrome.options import Options\n",
    "import numpy as np\n",
    "import requests\n",
    "import datetime\n",
    "from bs4 import BeautifulSoup\n",
    "import pandas as pd\n",
    "import time\n",
    "import pyodbc\n",
    "import os\n",
    "import itertools\n",
    "from sc_header import createDriver,aplanar_lista,extract_json_objects"
   ]
  },
  {
   "cell_type": "code",
   "execution_count": 2,
   "metadata": {},
   "outputs": [],
   "source": [
    "fecha = datetime.date.today()"
   ]
  },
  {
   "cell_type": "code",
   "execution_count": 5,
   "metadata": {},
   "outputs": [
    {
     "data": {
      "text/plain": [
       "'Vestidos'"
      ]
     },
     "execution_count": 5,
     "metadata": {},
     "output_type": "execute_result"
    }
   ],
   "source": []
  },
  {
   "cell_type": "code",
   "execution_count": 13,
   "metadata": {},
   "outputs": [],
   "source": [
    "def scrape_url(pos_aux,url_aux):\n",
    "    \n",
    "    \n",
    "    lista_auxiliar = []\n",
    "    response = requests.get(url_aux)\n",
    "    soup = BeautifulSoup(response.content, \"html.parser\")\n",
    "    scripts = soup.find_all('script')\n",
    "    try:\n",
    "        tipologia = soup.find(class_='last').text\n",
    "    except:\n",
    "        tipologia = ''\n",
    "    #verificar que siempre sea 38 de alguna forma.\n",
    "    for result in extract_json_objects(scripts[38].text):\n",
    "        pass\n",
    "    try:\n",
    "        color = soup.find(class_='value-field Color').text\n",
    "    except:\n",
    "        color ='SIN COLOR'\n",
    "            \n",
    "    for json_item in result['skus']:\n",
    "        lista_auxiliar.append([pos_aux,\n",
    "                               result['productId'], #ID\n",
    "                               result['name'], # DESC\n",
    "                               json_item['sku'], #SKU\n",
    "                               json_item['dimensions']['Talla'], #TALLE\n",
    "                               color, #COLOR:\n",
    "                               json_item['image'], #IMG\n",
    "                               url_aux,\n",
    "                               tipologia,\n",
    "                               json_item['seller'], #seller\n",
    "                               json_item['availablequantity'], #cantidad\n",
    "                               json_item['bestPriceFormated'] if json_item['availablequantity'] > 0 else np.nan,\n",
    "                               json_item['listPriceFormated'] if json_item['availablequantity'] > 0 else np.nan\n",
    "                              ])\n",
    "\n",
    "    return lista_auxiliar\n",
    "\n",
    "#PAGINA_SCRAPER\n",
    "\n",
    "def scrape_batch(url_chunk):\n",
    "    chunk_resp = []\n",
    "    for url in url_chunk:\n",
    "        chunk_resp.append(scrape_url(url[0],url[1]))\n",
    "    return chunk_resp\n",
    "\n",
    "def createDriver():\n",
    "    user_agent = 'Mozilla/5.0 (X11; Linux x86_64) AppleWebKit/537.36 (KHTML, like Gecko) Chrome/60.0.3112.50 Safari/537.36'\n",
    "\n",
    "    chrome_options = Options()\n",
    "    chrome_options.add_argument(\"--headless\")\n",
    "    chrome_options.add_argument(\"--no-sandbox\")\n",
    "    chrome_options.add_argument(f'user-agent={user_agent}')\n",
    "    chrome_options.add_argument(\"--window-size=1625x2444\")\n",
    "    # options.headless = True\n",
    "    return webdriver.Chrome(options = chrome_options)\n",
    "\n",
    "def aplanar_lista(lista):\n",
    "    if type(lista[0][0]) != list:\n",
    "        return lista\n",
    "    else:\n",
    "        lista = list(itertools.chain(*lista))\n",
    "        return aplanar_lista(lista)            "
   ]
  },
  {
   "cell_type": "code",
   "execution_count": 14,
   "metadata": {},
   "outputs": [],
   "source": [
    "url_mujer_ropa = 'https://mx.andrea.com/mujer/ropa'\n"
   ]
  },
  {
   "cell_type": "code",
   "execution_count": 15,
   "metadata": {},
   "outputs": [],
   "source": []
  },
  {
   "cell_type": "code",
   "execution_count": 16,
   "metadata": {},
   "outputs": [],
   "source": [
    "browser = createDriver()\n",
    "browser.get('https://mx.andrea.com/mujer/ropa')"
   ]
  },
  {
   "cell_type": "code",
   "execution_count": 17,
   "metadata": {},
   "outputs": [],
   "source": [
    "TIMEOUT = 3\n",
    "last_height = browser.execute_script(\"return document.body.scrollHeight;\")\n",
    "while True:\n",
    "\n",
    "    browser.execute_script(\"window.scrollTo(0, document.body.scrollHeight);\")\n",
    "    try:\n",
    "        #Click button\n",
    "        WebDriverWait(browser, 50).until(EC.element_to_be_clickable((By.CSS_SELECTOR, '.load-more-category.button-lineal.secundario'))).click()\n",
    "        \n",
    "    except:\n",
    "        pass\n",
    "    time.sleep(TIMEOUT)\n",
    "    new_height = browser.execute_script(\"return document.body.scrollHeight;\")\n",
    "    if new_height == last_height:\n",
    "        break\n",
    "    last_height = new_height"
   ]
  },
  {
   "cell_type": "code",
   "execution_count": 18,
   "metadata": {},
   "outputs": [],
   "source": [
    "urllist = []\n",
    "aux_pos = 0\n",
    "for img in browser.find_elements_by_class_name('contenedor-img'):\n",
    "    try:\n",
    "        aux_pos+=1\n",
    "        urllist.append([aux_pos,img.find_element_by_tag_name('a').get_attribute('href')])\n",
    "    except:\n",
    "        pass"
   ]
  },
  {
   "cell_type": "code",
   "execution_count": 19,
   "metadata": {},
   "outputs": [],
   "source": [
    "batch_size = 5\n",
    "\n",
    "url_chunks = [urllist[x:x+batch_size] for x in range(0, len(urllist), batch_size)]\n",
    "items = []\n",
    "for url_chunk in url_chunks:\n",
    "    items.append(scrape_batch(url_chunk))\n"
   ]
  },
  {
   "cell_type": "code",
   "execution_count": 20,
   "metadata": {},
   "outputs": [],
   "source": [
    "new_list = aplanar_lista(items)"
   ]
  },
  {
   "cell_type": "code",
   "execution_count": null,
   "metadata": {},
   "outputs": [],
   "source": [
    "df = pd.DataFrame(new_list)"
   ]
  },
  {
   "cell_type": "code",
   "execution_count": 21,
   "metadata": {},
   "outputs": [],
   "source": [
    "#CUANDO NO ESTA DISPONIBLE, NO APARECE EL PRECIO, POR ESO HAY VALORES EN NAN DONDE DEBERÍA IR EL PRECIO."
   ]
  },
  {
   "cell_type": "code",
   "execution_count": 27,
   "metadata": {},
   "outputs": [],
   "source": [
    "df.rename(columns={0:'pos',\n",
    "                  1:'id_producto',\n",
    "                  2:'descripcion',\n",
    "                  3:'sku',\n",
    "                  4:'talle',\n",
    "                  5:'color',\n",
    "                  6:'img',\n",
    "                  7:'url',\n",
    "                  8:'tipo',\n",
    "                  9:'marca',\n",
    "                  10:'stock',\n",
    "                  11:'precio_dto',\n",
    "                  12:'precio'\n",
    "                  },inplace=True)"
   ]
  },
  {
   "cell_type": "code",
   "execution_count": 28,
   "metadata": {},
   "outputs": [],
   "source": [
    "#QUEREMOS EL DF CON LOS PRODUCTOS ESTAN DISPONIBLES\n",
    "df = df[df['stock']!= 0]"
   ]
  },
  {
   "cell_type": "code",
   "execution_count": 29,
   "metadata": {},
   "outputs": [],
   "source": [
    "df[\"precio_dto\"] = (df[\"precio_dto\"]\n",
    "                    .str.extract(r\"([\\d,\\.]+)\", expand=False)\n",
    "                    .str.replace(\",\", \"\")\n",
    "                    .astype(float))"
   ]
  },
  {
   "cell_type": "code",
   "execution_count": 30,
   "metadata": {},
   "outputs": [],
   "source": [
    "df[\"precio\"] = (df[\"precio\"]\n",
    "                .str.extract(r\"([\\d,\\.]+)\", expand=False)\n",
    "                .str.replace(\",\", \"\")\n",
    "                .astype(float))"
   ]
  },
  {
   "cell_type": "code",
   "execution_count": 72,
   "metadata": {},
   "outputs": [],
   "source": [
    "#df['precio'] = df['precio'].fillna(0)\n",
    "#df['precio_dto'] = df['precio_dto'].fillna(0)"
   ]
  },
  {
   "cell_type": "code",
   "execution_count": 31,
   "metadata": {},
   "outputs": [],
   "source": [
    "for index,row in df.iterrows():\n",
    "    \n",
    "    if row['precio'] == 0:\n",
    "        \n",
    "        df.loc[index,'precio'] = row['precio_dto']\n",
    "        "
   ]
  },
  {
   "cell_type": "code",
   "execution_count": 32,
   "metadata": {},
   "outputs": [],
   "source": [
    "df['fecha_alta'] = datetime.date.today()"
   ]
  },
  {
   "cell_type": "code",
   "execution_count": 33,
   "metadata": {},
   "outputs": [],
   "source": [
    "df['origen'] = 'ANDREA MX'\n",
    "df['marca'] = df['marca'].str.upper()\n",
    "df['pagina_scraper'] = url_mujer_ropa\n",
    "df['moneda'] = 'PESO MXN'"
   ]
  },
  {
   "cell_type": "code",
   "execution_count": null,
   "metadata": {},
   "outputs": [],
   "source": [
    "#USAMOS SIN STOCK"
   ]
  },
  {
   "cell_type": "code",
   "execution_count": 45,
   "metadata": {},
   "outputs": [],
   "source": [
    "df.loc[df['talle'] == 'ECH','talle'] = 'XS'\n",
    "df.loc[df['talle'] == 'CH','talle'] = 'S'\n",
    "df.loc[df['talle'] == 'G','talle'] = 'L'\n",
    "df.loc[df['talle'] == 'EG','talle'] = 'XL'\n",
    "df.loc[df['talle'] == 'EEG','talle'] = 'XXL'\n",
    "df.loc[df['talle'] == 'EEEG','talle'] = 'XXXL'\n",
    "df.loc[df['talle'] == '4EG','talle'] = 'XXXXL'\n",
    "df.loc[df['talle'] == 'CH/M','talle'] = 'S/M'"
   ]
  },
  {
   "cell_type": "code",
   "execution_count": 53,
   "metadata": {},
   "outputs": [],
   "source": []
  },
  {
   "cell_type": "code",
   "execution_count": 60,
   "metadata": {},
   "outputs": [],
   "source": [
    "df.to_excel(f'Andrea{fecha}.xlsx')"
   ]
  },
  {
   "cell_type": "code",
   "execution_count": 50,
   "metadata": {},
   "outputs": [],
   "source": [
    "browser.quit()"
   ]
  },
  {
   "cell_type": "code",
   "execution_count": null,
   "metadata": {},
   "outputs": [],
   "source": []
  }
 ],
 "metadata": {
  "kernelspec": {
   "display_name": "Python [conda env:dev_env]",
   "language": "python",
   "name": "conda-env-dev_env-py"
  },
  "language_info": {
   "codemirror_mode": {
    "name": "ipython",
    "version": 3
   },
   "file_extension": ".py",
   "mimetype": "text/x-python",
   "name": "python",
   "nbconvert_exporter": "python",
   "pygments_lexer": "ipython3",
   "version": "3.6.8"
  }
 },
 "nbformat": 4,
 "nbformat_minor": 2
}
