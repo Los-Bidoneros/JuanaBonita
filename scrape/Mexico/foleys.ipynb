{
 "cells": [
  {
   "cell_type": "code",
   "execution_count": 1,
   "metadata": {},
   "outputs": [],
   "source": [
    "from selenium import webdriver\n",
    "from selenium.webdriver.support.ui import WebDriverWait\n",
    "from selenium.webdriver.common.by import By\n",
    "from selenium.webdriver.support import expected_conditions as EC\n",
    "from selenium.webdriver.chrome.options import Options\n",
    "import numpy as np\n",
    "import requests\n",
    "import datetime\n",
    "from bs4 import BeautifulSoup\n",
    "import pandas as pd\n",
    "import pyodbc\n",
    "import os\n",
    "import time\n",
    "import itertools\n",
    "from sc_header import createDriver,aplanar_lista,extract_json_objects"
   ]
  },
  {
   "cell_type": "code",
   "execution_count": 3,
   "metadata": {},
   "outputs": [],
   "source": [
    "url_base = 'https://www.foleys.com.mx/mujer/ver-todo/'\n",
    "fecha = datetime.date.today()"
   ]
  },
  {
   "cell_type": "code",
   "execution_count": 4,
   "metadata": {},
   "outputs": [],
   "source": [
    "browser = createDriver()\n",
    "browser.get(url_base)"
   ]
  },
  {
   "cell_type": "code",
   "execution_count": 5,
   "metadata": {},
   "outputs": [],
   "source": [
    "TIMEOUT = 3\n",
    "last_height = browser.execute_script(\"return document.body.scrollHeight;\")\n",
    "while True:\n",
    "\n",
    "    browser.execute_script(\"window.scrollTo(0, document.body.scrollHeight);\")\n",
    "    time.sleep(TIMEOUT)\n",
    "    new_height = browser.execute_script(\"return document.body.scrollHeight;\")\n",
    "    if new_height == last_height:\n",
    "        break\n",
    "    last_height = new_height\n",
    "try:\n",
    "    browser.find_element_by_class_name('mc-closeModal').click()\n",
    "except:\n",
    "    pass"
   ]
  },
  {
   "cell_type": "code",
   "execution_count": 6,
   "metadata": {},
   "outputs": [],
   "source": [
    "productos = browser.find_elements_by_class_name('prolabel-wrapper')"
   ]
  },
  {
   "cell_type": "code",
   "execution_count": 7,
   "metadata": {},
   "outputs": [],
   "source": [
    "urllist = [[indice+1, producto.find_element_by_tag_name('a').get_attribute('href')] for indice, producto in enumerate(productos)]"
   ]
  },
  {
   "cell_type": "code",
   "execution_count": 8,
   "metadata": {},
   "outputs": [],
   "source": [
    "browser.execute_script('window.scrollTo(0,200)')"
   ]
  },
  {
   "cell_type": "code",
   "execution_count": 9,
   "metadata": {},
   "outputs": [],
   "source": [
    "def scrape_url(pos_aux,url_aux):\n",
    "    \n",
    "    lista_auxiliar = []\n",
    "    soup = BeautifulSoup(requests.get(url_aux).text,'html.parser')\n",
    "    scripts = soup.find_all('script',type='text/javascript')\n",
    "\n",
    "    for item in extract_json_objects(scripts[73].text):\n",
    "        pass\n",
    "\n",
    "    descripcion = soup.find('h1',class_='texto-centrado').text\n",
    "    id_producto = soup.find('p',class_='text-center-414 text-center-414-landscape').text.split(':')[1].strip() #ID_PRODUCTO\n",
    "    marca = soup.find('h4').text.strip() #MARCA\n",
    "    color_auxiliar = soup.find(class_='product-description').text #COLOR (BUSCARLO)\n",
    "    soup.find(class_='cloud-zoom').img.get('src') #IMG\n",
    "    lista_auxiliar.append([pos_aux,\n",
    "                           id_producto, #ID_PRODUCTO\n",
    "                           item['productPrice'],\n",
    "                           item['productOldPrice'],\n",
    "                           descripcion, #DESCRIPCION\n",
    "                           marca, #MARCA\n",
    "                           color_auxiliar, #COLOR (BUSCARLO)\n",
    "                           soup.find(class_='cloud-zoom').img.get('src'), #IMG\n",
    "                           url_aux, #href\n",
    "                          ])\n",
    "    return lista_auxiliar\n",
    "\n",
    "#PAGINA_SCRAPER\n",
    "def scrape_batch(url_chunk):\n",
    "    chunk_resp = []\n",
    "    for url in url_chunk:\n",
    "        chunk_resp.append(scrape_url(url[0],url[1]))\n",
    "    return chunk_resp\n"
   ]
  },
  {
   "cell_type": "code",
   "execution_count": null,
   "metadata": {},
   "outputs": [],
   "source": []
  },
  {
   "cell_type": "code",
   "execution_count": 10,
   "metadata": {},
   "outputs": [],
   "source": [
    "batch_size = 5\n",
    "\n",
    "url_chunks = [urllist[x:x+batch_size] for x in range(0, len(urllist), batch_size)]\n",
    "items = []\n",
    "for url_chunk in url_chunks:\n",
    "    items.append(scrape_batch(url_chunk))\n"
   ]
  },
  {
   "cell_type": "code",
   "execution_count": 11,
   "metadata": {},
   "outputs": [],
   "source": [
    "new_list = aplanar_lista(items)"
   ]
  },
  {
   "cell_type": "code",
   "execution_count": 12,
   "metadata": {},
   "outputs": [],
   "source": [
    "df = pd.DataFrame(new_list)"
   ]
  },
  {
   "cell_type": "code",
   "execution_count": null,
   "metadata": {},
   "outputs": [],
   "source": []
  },
  {
   "cell_type": "code",
   "execution_count": 13,
   "metadata": {},
   "outputs": [],
   "source": [
    "df.rename(columns={0:'pos',\n",
    "                   1:'id_producto',\n",
    "                   2:'precio_dto',\n",
    "                   3:'precio',\n",
    "                   4:'descripcion',\n",
    "                   5:'marca',\n",
    "                   6:'TIPOCOLOR',\n",
    "                   7:'img',\n",
    "                   8:'url'\n",
    "                   \n",
    "                   \n",
    "                  },\n",
    "         inplace = True)\n"
   ]
  },
  {
   "cell_type": "code",
   "execution_count": 14,
   "metadata": {},
   "outputs": [],
   "source": [
    "df['tipo'] = df['descripcion'].apply(lambda x:x.split()[0])\n",
    "df.loc[df['tipo']=='Skinny','tipo'] = 'JEAN'"
   ]
  },
  {
   "cell_type": "code",
   "execution_count": 15,
   "metadata": {},
   "outputs": [],
   "source": [
    "df['pagina_scraper'] = url_base\n",
    "df['origen'] = 'FOLEYS MX'\n",
    "df['moneda'] = 'PESOS MX'\n"
   ]
  },
  {
   "cell_type": "code",
   "execution_count": 16,
   "metadata": {},
   "outputs": [],
   "source": [
    "browser.quit()"
   ]
  },
  {
   "cell_type": "code",
   "execution_count": 17,
   "metadata": {},
   "outputs": [],
   "source": [
    "def find_color(serie):\n",
    "    \n",
    "    if serie.find(' color ') != -1:\n",
    "        return serie.split(' color ')[1].split()[0].replace(',','').replace('.','')\n",
    "    else:\n",
    "        return serie.split()[1].replace(',','').replace('.','')\n",
    "\n",
    "    "
   ]
  },
  {
   "cell_type": "code",
   "execution_count": null,
   "metadata": {},
   "outputs": [],
   "source": []
  },
  {
   "cell_type": "code",
   "execution_count": 21,
   "metadata": {},
   "outputs": [],
   "source": [
    "df['COL_AUX'] = df['TIPOCOLOR'].apply(find_color)"
   ]
  },
  {
   "cell_type": "code",
   "execution_count": null,
   "metadata": {},
   "outputs": [],
   "source": []
  },
  {
   "cell_type": "code",
   "execution_count": null,
   "metadata": {},
   "outputs": [],
   "source": [
    "for index,row in df.iterrows():\n",
    "    \n",
    "    if row['COL_AUX'] =='con':\n",
    "        if row['TIPOCOLOR'].upper().find('ESTAMPADO') != -1:\n",
    "            df.loc[index,'COL_AUX'] ='ESTAMPADO'\n",
    "        elif row['TIPOCOLOR'].upper().find('LÍNEAS') !=-1:\n",
    "            df.loc[index,'COL_AUX'] ='RAYADO'\n",
    "        elif row['descripcion'].upper().find('NEGROS') !=-1:\n",
    "            df.loc[index,'COL_AUX'] ='NEGRO'\n",
    "            \n",
    "    \n",
    "    if row['COL_AUX'] == 'colo':\n",
    "        if row['TIPOCOLOR'].upper().find('PLATA') != -1:\n",
    "            df.loc[index,'COL_AUX'] ='PLATA'\n",
    "            \n",
    "    if row['COL_AUX'] == 'off':\n",
    "        if row['TIPOCOLOR'].upper().find('FLOREADA') != -1:\n",
    "            df.loc[index,'COL_AUX'] ='EST. FLORES'\n",
    "    \n",
    "    if row['COL_AUX'] =='corte':\n",
    "        if row['TIPOCOLOR'].upper().find('ESTAMPADO') != -1:\n",
    "            df.loc[index,'COL_AUX'] ='ESTAMPADO'\n",
    "        elif row['TIPOCOLOR'].upper().find('MULTICOLOR') != -1:\n",
    "            df.loc[index,'COL_AUX'] ='MULTICOLOR'\n",
    "        elif row['descripcion'].upper().find('NEGROS') != -1 or row['descripcion'].upper().find('NEGRA') != -1  :\n",
    "            df.loc[index,'COL_AUX'] ='NEGRO'\n",
    "        elif row['descripcion'].upper().find('AZULES') != -1:\n",
    "            df.loc[index,'COL_AUX'] ='AZUL'\n",
    "        elif row['descripcion'].upper().find('MULTICOLOR') != -1:\n",
    "            df.loc[index,'COL_AUX'] ='MULTICOLOR'\n",
    "            \n",
    "    if row['COL_AUX'] =='larga':\n",
    "        df.loc[index,'COL_AUX'] = 'multicolor'\n",
    "    \n",
    "    if row['COL_AUX'] == 'recto':\n",
    "        if row['TIPOCOLOR'].upper().find('ESTAMPADO') != -1:\n",
    "            df.loc[index,'COL_AUX'] ='ESTAMPADO'\n",
    "        elif row['TIPOCOLOR'].upper().find('AZUL') != -1:\n",
    "            df.loc[index,'COL_AUX'] ='AZUL'\n",
    "        \n",
    "    if row['COL_AUX'] == 'camisero':\n",
    "        if row['descripcion'].upper().find('ESTAMPADO DE FLORES') != -1:\n",
    "            df.loc[index,'COL_AUX'] ='EST. FLORES'\n",
    "            \n",
    "    if row['COL_AUX'] =='corto':\n",
    "        if row['descripcion'].upper().find('ESTAMPADO FLORAL') != -1 or row['descripcion'].upper().find('ESTAMPADO DE FLORES') != -1:\n",
    "            df.loc[index,'COL_AUX'] ='EST. FLORES'\n",
    "        elif row['descripcion'].upper().find('MULTICOLOR') != -1 or row['descripcion'].upper().find('MULTICULOR') != -1:\n",
    "            df.loc[index,'COL_AUX'] ='MULTICOLOR'\n",
    "        elif row['descripcion'].upper().find('GRIS') != -1:\n",
    "            df.loc[index,'COL_AUX'] ='GRIS'\n",
    "    \n",
    "    if row['COL_AUX'] =='tipo':\n",
    "        if row['descripcion'].upper().find('ESTAMPADA') != -1:\n",
    "            df.loc[index,'COL_AUX'] ='ESTAMPADO'\n",
    "    \n",
    "    if row['COL_AUX'] == 'tipo':\n",
    "        if row['TIPOCOLOR'].upper().find('ESTAMPADO') != -1 or row['TIPOCOLOR'].upper().find('ESTAMPADO') != -1:\n",
    "            df.loc[index,'COL_AUX'] ='ESTAMPADO'\n",
    "            \n",
    "    if row['COL_AUX'] =='chanel':\n",
    "        if row['descripcion'].upper().find('MULTICOLOR') != -1:\n",
    "            df.loc[index,'COL_AUX'] ='MULTICOLOR'        \n",
    "    \n",
    "    if row['COL_AUX'].upper() == 'MULTI':\n",
    "        df.loc[index,'COL_AUX'] ='MULTICOLOR'\n",
    "    \n",
    "    if row['COL_AUX'] =='a':\n",
    "        df.loc[index,'COL_AUX'] = 'MULTICOLOR'"
   ]
  },
  {
   "cell_type": "code",
   "execution_count": null,
   "metadata": {},
   "outputs": [],
   "source": [
    "df['COL_AUX'] = df['COL_AUX'].str.upper()"
   ]
  },
  {
   "cell_type": "code",
   "execution_count": null,
   "metadata": {},
   "outputs": [],
   "source": [
    "df.loc[df['COL_AUX']=='BLANCA','COL_AUX'] ='BLANCO'\n",
    "df.loc[df['COL_AUX']=='AMARILLA','COL_AUX'] ='AMARILLO'\n",
    "df.loc[df['COL_AUX']=='DORADA','COL_AUX'] ='DORADO'\n",
    "df.loc[df['COL_AUX']=='NEGRA','COL_AUX'] ='NEGRO'\n",
    "df.loc[df['COL_AUX']=='NEGROS','COL_AUX'] ='NEGRO'\n",
    "df.loc[df['COL_AUX']=='AZÚL','COL_AUX'] ='AZUL'\n",
    "df.loc[df['COL_AUX']=='AZULES','COL_AUX'] ='AZUL'\n",
    "df.loc[df['COL_AUX']=='ROJA','COL_AUX'] ='ROJO'"
   ]
  },
  {
   "cell_type": "code",
   "execution_count": null,
   "metadata": {},
   "outputs": [],
   "source": [
    "df = df[['pos', 'id_producto', 'descripcion', 'COL_AUX', 'marca', 'tipo', 'moneda',\n",
    "         'precio_dto', 'precio', 'img', 'url', 'pagina_scraper', 'origen']]\n",
    "df.rename(columns={'COL_AUX':'color'},inplace=True)"
   ]
  },
  {
   "cell_type": "code",
   "execution_count": 524,
   "metadata": {},
   "outputs": [],
   "source": []
  },
  {
   "cell_type": "code",
   "execution_count": 525,
   "metadata": {},
   "outputs": [],
   "source": [
    "df.to_excel(f'foleys{fecha}.xlsx')"
   ]
  },
  {
   "cell_type": "code",
   "execution_count": 526,
   "metadata": {},
   "outputs": [],
   "source": [
    "browser.quit()"
   ]
  },
  {
   "cell_type": "code",
   "execution_count": 1,
   "metadata": {},
   "outputs": [
    {
     "name": "stdout",
     "output_type": "stream",
     "text": [
      "[NbConvertApp] Converting notebook foleys.ipynb to script\n",
      "[NbConvertApp] Writing 7824 bytes to foleys.py\n"
     ]
    }
   ],
   "source": []
  },
  {
   "cell_type": "code",
   "execution_count": null,
   "metadata": {},
   "outputs": [],
   "source": []
  },
  {
   "cell_type": "code",
   "execution_count": null,
   "metadata": {},
   "outputs": [],
   "source": []
  },
  {
   "cell_type": "code",
   "execution_count": 37,
   "metadata": {},
   "outputs": [],
   "source": [
    "browser.quit()"
   ]
  },
  {
   "cell_type": "code",
   "execution_count": null,
   "metadata": {},
   "outputs": [],
   "source": []
  },
  {
   "cell_type": "code",
   "execution_count": 1,
   "metadata": {},
   "outputs": [],
   "source": []
  },
  {
   "cell_type": "code",
   "execution_count": 2,
   "metadata": {},
   "outputs": [],
   "source": []
  },
  {
   "cell_type": "code",
   "execution_count": null,
   "metadata": {},
   "outputs": [],
   "source": []
  },
  {
   "cell_type": "code",
   "execution_count": null,
   "metadata": {},
   "outputs": [],
   "source": []
  }
 ],
 "metadata": {
  "kernelspec": {
   "display_name": "Python [conda env:dev_env]",
   "language": "python",
   "name": "conda-env-dev_env-py"
  },
  "language_info": {
   "codemirror_mode": {
    "name": "ipython",
    "version": 3
   },
   "file_extension": ".py",
   "mimetype": "text/x-python",
   "name": "python",
   "nbconvert_exporter": "python",
   "pygments_lexer": "ipython3",
   "version": "3.6.8"
  }
 },
 "nbformat": 4,
 "nbformat_minor": 2
}
