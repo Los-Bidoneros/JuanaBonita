{
 "cells": [
  {
   "cell_type": "code",
   "execution_count": 130,
   "metadata": {},
   "outputs": [],
   "source": [
    "from selenium import webdriver\n",
    "from selenium.webdriver.support.ui import WebDriverWait\n",
    "from selenium.webdriver.common.by import By\n",
    "from selenium.webdriver.support import expected_conditions as EC\n",
    "from selenium.webdriver.chrome.options import Options\n",
    "import numpy as np\n",
    "import requests\n",
    "import datetime\n",
    "from bs4 import BeautifulSoup\n",
    "import pandas as pd\n",
    "import time\n",
    "import pyodbc\n",
    "import os\n",
    "import itertools\n",
    "import json\n",
    "import re\n",
    "from json import JSONDecoder\n",
    "from sc_header import createDriver,aplanar_lista,extract_json_objects"
   ]
  },
  {
   "cell_type": "code",
   "execution_count": 131,
   "metadata": {},
   "outputs": [],
   "source": [
    "fecha = datetime.date.today()"
   ]
  },
  {
   "cell_type": "code",
   "execution_count": 132,
   "metadata": {},
   "outputs": [],
   "source": [
    "def scrape_url(pos_aux,url_aux,tipo_aux,pagina_aux):\n",
    "    \n",
    "    soup = BeautifulSoup(requests.get(url_aux).text,'html.parser')\n",
    "    \n",
    "    lista_auxiliar = []\n",
    "    lista_auxiliar.append([pos_aux,\n",
    "                           soup.find(class_='editable').get('content'), #ID_PRODUCTO\n",
    "                           soup.find('h1').text,#DESC\n",
    "                           soup.find(class_='color_pick selected').get('title'), #COLOR\n",
    "                           tipo_aux,\n",
    "                           soup.find(class_='content_prices clearfix').text, #PRECIO TODO\n",
    "                           soup.find('img',{'id':'bigpic'}).get('src'), #IMG\n",
    "                           url_aux,\n",
    "                           pagina_aux,\n",
    "    ])\n",
    "    \n",
    "    return lista_auxiliar\n",
    "\n",
    "#PAGINA_SCRAPER\n",
    "def scrape_batch(url_chunk):\n",
    "    chunk_resp = []\n",
    "    for url in url_chunk:\n",
    "        chunk_resp.append(scrape_url(url[0],url[1],url[2],url[3]))\n",
    "                                    \n",
    "    return chunk_resp\n"
   ]
  },
  {
   "cell_type": "code",
   "execution_count": 133,
   "metadata": {},
   "outputs": [],
   "source": [
    "url_base = 'https://www.cyamoda.com/dama'"
   ]
  },
  {
   "cell_type": "code",
   "execution_count": 134,
   "metadata": {},
   "outputs": [],
   "source": [
    "browser = createDriver()"
   ]
  },
  {
   "cell_type": "code",
   "execution_count": 135,
   "metadata": {},
   "outputs": [],
   "source": [
    "browser.get(url_base)"
   ]
  },
  {
   "cell_type": "code",
   "execution_count": 136,
   "metadata": {},
   "outputs": [],
   "source": [
    "menu14 = browser.find_element_by_id('menu-14')"
   ]
  },
  {
   "cell_type": "code",
   "execution_count": 137,
   "metadata": {},
   "outputs": [],
   "source": [
    "links_principales = []\n",
    "for menu in menu14.find_elements_by_tag_name('a'):\n",
    "    links_principales.append([menu.get_attribute('href'),\n",
    "                              menu.text\n",
    "    ])\n",
    "    \n",
    "    "
   ]
  },
  {
   "cell_type": "code",
   "execution_count": 138,
   "metadata": {},
   "outputs": [],
   "source": [
    "links_principales = [i for i in links_principales if i[1] not in ['ACCESORIOS','BOLSOS','ZAPATOS']]"
   ]
  },
  {
   "cell_type": "code",
   "execution_count": 139,
   "metadata": {},
   "outputs": [],
   "source": [
    "all_links = []\n",
    "for LINK in links_principales:\n",
    "    browser.get(LINK[0])\n",
    "    \n",
    "    TIMEOUT = 3\n",
    "    last_height = browser.execute_script(\"return document.body.scrollHeight;\")\n",
    "    while True:\n",
    "\n",
    "        browser.execute_script(\"window.scrollTo(0, document.body.scrollHeight);\")\n",
    "        time.sleep(TIMEOUT)\n",
    "        new_height = browser.execute_script(\"return document.body.scrollHeight;\")\n",
    "        if new_height == last_height:\n",
    "            break\n",
    "        last_height = new_height\n",
    "    \n",
    "    for indices, href in enumerate(browser.find_elements_by_css_selector('a.product_img_link')):\n",
    "        all_links.append([indices+1,\n",
    "                          href.get_attribute('href'),\n",
    "                          LINK[1],\n",
    "                          LINK[0]\n",
    "                         ])\n",
    "        "
   ]
  },
  {
   "cell_type": "code",
   "execution_count": 140,
   "metadata": {},
   "outputs": [],
   "source": [
    "browser.quit()"
   ]
  },
  {
   "cell_type": "code",
   "execution_count": 141,
   "metadata": {},
   "outputs": [],
   "source": [
    "batch_size = 5\n",
    "url_chunks = [all_links[x:x+batch_size] for x in range(0, len(all_links), batch_size)]"
   ]
  },
  {
   "cell_type": "code",
   "execution_count": 142,
   "metadata": {},
   "outputs": [],
   "source": [
    "items = []\n",
    "for url_chunk in url_chunks:\n",
    "    items.append(scrape_batch(url_chunk))"
   ]
  },
  {
   "cell_type": "code",
   "execution_count": 143,
   "metadata": {},
   "outputs": [],
   "source": [
    "new_list = aplanar_lista(items)"
   ]
  },
  {
   "cell_type": "code",
   "execution_count": 144,
   "metadata": {},
   "outputs": [],
   "source": [
    "df = pd.DataFrame(new_list)"
   ]
  },
  {
   "cell_type": "code",
   "execution_count": 146,
   "metadata": {},
   "outputs": [],
   "source": [
    "df.rename(columns={0:'pos',\n",
    "                  1:'id_producto',\n",
    "                  2:'descripcion',\n",
    "                  3:'color',\n",
    "                  4:'tipo',\n",
    "                  5:'PRECIO',\n",
    "                  6:'img',\n",
    "                  7:'url',\n",
    "                  8:'pagina_scraper'},inplace=True)"
   ]
  },
  {
   "cell_type": "code",
   "execution_count": 147,
   "metadata": {},
   "outputs": [],
   "source": [
    "df['origen'] ='C&A MX'\n",
    "df['moneda'] = 'PESO MXN'\n",
    "df['marca'] = 'C&A'\n",
    "df['fecha'] = fecha"
   ]
  },
  {
   "cell_type": "code",
   "execution_count": null,
   "metadata": {},
   "outputs": [],
   "source": [
    "df['PRECIO'].apply(lambda x:x.split('$'))"
   ]
  },
  {
   "cell_type": "code",
   "execution_count": 149,
   "metadata": {},
   "outputs": [],
   "source": [
    "df['precio'] = 0\n",
    "df['precio_dto'] = 0\n",
    "for index,row in df.iterrows():\n",
    "    precio = row['PRECIO']\n",
    "    if len(precio.split('$')) == 2:\n",
    "        df.loc[index,'precio'] = precio.split('$')[1]\n",
    "        df.loc[index,'precio_dto'] = precio.split('$')[1]\n",
    "        \n",
    "    elif len(precio.split('$')) == 3:\n",
    "        df.loc[index,'precio'] = precio.split('$')[1]\n",
    "        df.loc[index,'precio_dto'] = precio.split('$')[2]\n",
    "        \n",
    "        "
   ]
  },
  {
   "cell_type": "code",
   "execution_count": 152,
   "metadata": {},
   "outputs": [],
   "source": [
    "df = df.drop('PRECIO',axis=1)"
   ]
  },
  {
   "cell_type": "code",
   "execution_count": 153,
   "metadata": {},
   "outputs": [],
   "source": [
    "df.to_excel(f'cya{fecha}.xlsx')"
   ]
  },
  {
   "cell_type": "code",
   "execution_count": null,
   "metadata": {},
   "outputs": [],
   "source": []
  }
 ],
 "metadata": {
  "kernelspec": {
   "display_name": "Python 3",
   "language": "python",
   "name": "python3"
  },
  "language_info": {
   "codemirror_mode": {
    "name": "ipython",
    "version": 3
   },
   "file_extension": ".py",
   "mimetype": "text/x-python",
   "name": "python",
   "nbconvert_exporter": "python",
   "pygments_lexer": "ipython3",
   "version": "3.6.8"
  }
 },
 "nbformat": 4,
 "nbformat_minor": 2
}
