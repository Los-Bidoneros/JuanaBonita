{
 "cells": [
  {
   "cell_type": "code",
   "execution_count": 1,
   "metadata": {},
   "outputs": [],
   "source": [
    "from selenium import webdriver\n",
    "from selenium.webdriver.support.ui import WebDriverWait\n",
    "from selenium.webdriver.common.by import By\n",
    "from selenium.webdriver.common.action_chains import ActionChains\n",
    "from selenium.webdriver.support import expected_conditions as EC\n",
    "from selenium.webdriver.chrome.options import Options\n",
    "from bs4 import BeautifulSoup\n",
    "import requests\n",
    "import os\n",
    "import json\n",
    "import pandas as pd\n",
    "from selenium.webdriver.support import expected_conditions"
   ]
  },
  {
   "cell_type": "code",
   "execution_count": null,
   "metadata": {},
   "outputs": [],
   "source": []
  },
  {
   "cell_type": "code",
   "execution_count": null,
   "metadata": {},
   "outputs": [],
   "source": []
  },
  {
   "cell_type": "code",
   "execution_count": 2,
   "metadata": {},
   "outputs": [],
   "source": [
    "user_agent = 'Mozilla/5.0 (X11; Linux x86_64) AppleWebKit/537.36 (KHTML, like Gecko) Chrome/60.0.3112.50 Safari/537.36'\n",
    "\n",
    "#This configuration creates a \"browser\" object and opens it in \"headless\" mode \n",
    "#(it runs but is not visible, you can see it in \"running processes\")\n",
    "chrome_options = Options()\n",
    "chrome_options.add_argument(\"--headless\")\n",
    "chrome_options.add_argument(\"--no-sandbox\")\n",
    "chrome_options.add_argument(f'user-agent={user_agent}')\n",
    "chrome_options.add_argument(\"--window-size=1825x1444\")\n",
    "browser = webdriver.Chrome(options = chrome_options)\n"
   ]
  },
  {
   "cell_type": "code",
   "execution_count": 3,
   "metadata": {},
   "outputs": [],
   "source": [
    "url_base ='https://www.lazada.sg/'"
   ]
  },
  {
   "cell_type": "code",
   "execution_count": 4,
   "metadata": {},
   "outputs": [],
   "source": [
    "#request \n",
    "browser.get(url_base)"
   ]
  },
  {
   "cell_type": "code",
   "execution_count": 5,
   "metadata": {},
   "outputs": [],
   "source": [
    "#find element to click\n",
    "browser.find_element_by_link_text('Babies & Toys').click()"
   ]
  },
  {
   "cell_type": "code",
   "execution_count": 6,
   "metadata": {},
   "outputs": [],
   "source": [
    "\n",
    "list_subs = browser.find_elements_by_class_name('lzd-site-menu-sub-item')"
   ]
  },
  {
   "cell_type": "code",
   "execution_count": 7,
   "metadata": {},
   "outputs": [],
   "source": [
    "#Loop to got it only links (Babies & Toys)\n",
    "full_links = [[i.text ,i.find_element_by_tag_name('a').get_attribute('href')] for i in list_subs if i.text != '']         "
   ]
  },
  {
   "cell_type": "code",
   "execution_count": null,
   "metadata": {},
   "outputs": [],
   "source": []
  },
  {
   "cell_type": "code",
   "execution_count": 8,
   "metadata": {},
   "outputs": [
    {
     "name": "stdout",
     "output_type": "stream",
     "text": [
      "request : Mother & Baby\n",
      "request : Diapers & Wipes\n",
      "request : Milk Formula & Baby Food\n",
      "request : Nursing & Feeding\n",
      "request : Baby Fashion & Accessories\n",
      "request : Baby Gear\n",
      "request : Bath & Baby Care\n",
      "request : Maternity & Nursery\n",
      "request : Toys & Games\n",
      "request : Electronic & Remote Control Toys\n",
      "request : Sports Toys & Outdoor Play\n",
      "request : Baby & Toddler Toys\n"
     ]
    }
   ],
   "source": [
    "#list to get all links\n",
    "all_links = []\n",
    "\n",
    "for link in full_links:\n",
    "    print(f'request : {link[0]}')\n",
    "    \n",
    "    browser.get(link[1])\n",
    "    #Total pages of pagination\n",
    "    MAX_PAGE = browser.find_element_by_class_name('ant-pagination').find_elements_by_tag_name('li')[-2].text\n",
    "    MAX_PAGE = int(MAX_PAGE)\n",
    "    for i in range(MAX_PAGE):\n",
    "\n",
    "        # The necessary prefix is added so as not to waste time\n",
    "        all_links.append([link[0],browser.current_url+f'?page={i+1}'])\n",
    "    \n",
    "    "
   ]
  },
  {
   "cell_type": "code",
   "execution_count": 9,
   "metadata": {},
   "outputs": [
    {
     "name": "stdout",
     "output_type": "stream",
     "text": [
      "quantity of links 1182\n"
     ]
    }
   ],
   "source": [
    "print(f'quantity of links {len(all_links)}')"
   ]
  },
  {
   "cell_type": "code",
   "execution_count": 10,
   "metadata": {},
   "outputs": [
    {
     "data": {
      "text/plain": [
       "['Mother & Baby', 'https://www.lazada.sg/mother-baby/?page=1']"
      ]
     },
     "execution_count": 10,
     "metadata": {},
     "output_type": "execute_result"
    }
   ],
   "source": [
    "all_links[0]"
   ]
  },
  {
   "cell_type": "code",
   "execution_count": 11,
   "metadata": {},
   "outputs": [
    {
     "ename": "RuntimeError",
     "evalue": "No active exception to reraise",
     "output_type": "error",
     "traceback": [
      "\u001b[0;31m---------------------------------------------------------------------------\u001b[0m",
      "\u001b[0;31mRuntimeError\u001b[0m                              Traceback (most recent call last)",
      "\u001b[0;32m<ipython-input-11-b2891f3df366>\u001b[0m in \u001b[0;36m<module>\u001b[0;34m\u001b[0m\n\u001b[1;32m     24\u001b[0m             \u001b[0mskips\u001b[0m\u001b[0;34m.\u001b[0m\u001b[0mappend\u001b[0m\u001b[0;34m(\u001b[0m\u001b[0;34m[\u001b[0m\u001b[0mindex_prods\u001b[0m\u001b[0;34m,\u001b[0m\u001b[0mbrowser\u001b[0m\u001b[0;34m.\u001b[0m\u001b[0mcurrent_url\u001b[0m\u001b[0;34m]\u001b[0m\u001b[0;34m)\u001b[0m\u001b[0;34m\u001b[0m\u001b[0;34m\u001b[0m\u001b[0m\n\u001b[1;32m     25\u001b[0m             \u001b[0;32mcontinue\u001b[0m\u001b[0;34m\u001b[0m\u001b[0;34m\u001b[0m\u001b[0m\n\u001b[0;32m---> 26\u001b[0;31m         \u001b[0;32mraise\u001b[0m\u001b[0;34m\u001b[0m\u001b[0;34m\u001b[0m\u001b[0m\n\u001b[0m\u001b[1;32m     27\u001b[0m         list_products.append([metadatos['sku'],\n\u001b[1;32m     28\u001b[0m                               \u001b[0mmetadatos\u001b[0m\u001b[0;34m[\u001b[0m\u001b[0;34m'category'\u001b[0m\u001b[0;34m]\u001b[0m\u001b[0;34m,\u001b[0m\u001b[0;34m\u001b[0m\u001b[0;34m\u001b[0m\u001b[0m\n",
      "\u001b[0;31mRuntimeError\u001b[0m: No active exception to reraise"
     ]
    }
   ],
   "source": [
    "#list of products\n",
    "list_products = []\n",
    "skips=[]\n",
    "for i in all_links:\n",
    "    \n",
    "    browser.get(i[1])\n",
    "    #Quantity products\n",
    "    prods = browser.find_elements_by_class_name('c5TXIP')\n",
    "    #get each href for product\n",
    "    for index_prods, prod in enumerate(prods):\n",
    "        \n",
    "        #Click in product\n",
    "        browser.find_elements_by_class_name('c5TXIP')[index_prods].click()\n",
    "        \n",
    "        #parse to beautifulsoup\n",
    "        soup = BeautifulSoup(browser.page_source)\n",
    "        #get the json \n",
    "        metadatos = json.loads(soup.find('script', type='application/ld+json').text)\n",
    "        #If you can't find it, you didn't click\n",
    "        try:\n",
    "            metadatos['sku']\n",
    "        except:\n",
    "            #If they fail, we save them and then if you want you can try to scrape them again\n",
    "            skips.append([index_prods,browser.current_url])\n",
    "            continue\n",
    "        \n",
    "        list_products.append([metadatos['sku'],\n",
    "                              metadatos['category'],\n",
    "                              metadatos['name'],\n",
    "                              metadatos['description'],\n",
    "                              metadatos['offers']['url'],\n",
    "                              metadatos['offers']['price']\n",
    "                             ])\n",
    "        #Return de page prev.\n",
    "        browser.execute_script(\"history.back()\")\n"
   ]
  },
  {
   "cell_type": "code",
   "execution_count": 17,
   "metadata": {},
   "outputs": [],
   "source": [
    "browser.quit()"
   ]
  },
  {
   "cell_type": "code",
   "execution_count": null,
   "metadata": {},
   "outputs": [],
   "source": [
    "#kill process. free mem\n",
    "browser.quit()"
   ]
  },
  {
   "cell_type": "code",
   "execution_count": 109,
   "metadata": {},
   "outputs": [
    {
     "data": {
      "text/plain": [
       "['344274860_MY-977654577',\n",
       " 'Mother & Baby > Maternity Care > Maternity Wear > Maternity Intimates',\n",
       " '(READY STOCK Malaysia) Fello Plus Size Soft Nursing Maternity Bras Women Bra-Cnb Breastfeeding Nursing Pregnant Motherhood Lingerie Wireless Stretchy Bras',\n",
       " 'https://www.lazada.com.my/products/ready-stock-malaysia-fello-plus-size-soft-nursing-maternity-bras-women-bra-cnb-breastfeeding-nursing-pregnant-motherhood-lingerie-wireless-stretchy-bras-i344274860-s977654577.html',\n",
       " 14.33]"
      ]
     },
     "execution_count": 109,
     "metadata": {},
     "output_type": "execute_result"
    }
   ],
   "source": [
    "list_products[0]"
   ]
  },
  {
   "cell_type": "code",
   "execution_count": 112,
   "metadata": {},
   "outputs": [],
   "source": [
    "#parse to dataframe\n",
    "df = pd.DataFrame(list_products)"
   ]
  },
  {
   "cell_type": "code",
   "execution_count": 115,
   "metadata": {},
   "outputs": [],
   "source": [
    "#renaming the columns\n",
    "df.rename(columns={0:'sku',1:'category',2:'name',3:'url',4:'price'},inplace=True)"
   ]
  },
  {
   "cell_type": "code",
   "execution_count": 117,
   "metadata": {},
   "outputs": [
    {
     "data": {
      "text/html": [
       "<div>\n",
       "<style scoped>\n",
       "    .dataframe tbody tr th:only-of-type {\n",
       "        vertical-align: middle;\n",
       "    }\n",
       "\n",
       "    .dataframe tbody tr th {\n",
       "        vertical-align: top;\n",
       "    }\n",
       "\n",
       "    .dataframe thead th {\n",
       "        text-align: right;\n",
       "    }\n",
       "</style>\n",
       "<table border=\"1\" class=\"dataframe\">\n",
       "  <thead>\n",
       "    <tr style=\"text-align: right;\">\n",
       "      <th></th>\n",
       "      <th>sku</th>\n",
       "      <th>category</th>\n",
       "      <th>name</th>\n",
       "      <th>url</th>\n",
       "      <th>price</th>\n",
       "    </tr>\n",
       "  </thead>\n",
       "  <tbody>\n",
       "    <tr>\n",
       "      <th>0</th>\n",
       "      <td>344274860_MY-977654577</td>\n",
       "      <td>Mother &amp; Baby &gt; Maternity Care &gt; Maternity Wea...</td>\n",
       "      <td>(READY STOCK Malaysia) Fello Plus Size Soft Nu...</td>\n",
       "      <td>https://www.lazada.com.my/products/ready-stock...</td>\n",
       "      <td>14.33</td>\n",
       "    </tr>\n",
       "    <tr>\n",
       "      <th>1</th>\n",
       "      <td>356072211_MY-582833847</td>\n",
       "      <td>Mother &amp; Baby &gt; Maternity Care &gt; Maternity Wea...</td>\n",
       "      <td>(READY STOCK MALAYSIA)(3 Pcs )Lady Soft Nursin...</td>\n",
       "      <td>https://www.lazada.com.my/products/ready-stock...</td>\n",
       "      <td>40.50</td>\n",
       "    </tr>\n",
       "    <tr>\n",
       "      <th>2</th>\n",
       "      <td>357908492_MY-506792016</td>\n",
       "      <td>Mother &amp; Baby &gt; Maternity Care &gt; Maternity Wea...</td>\n",
       "      <td>(Ready Stock Malaysia)(3 PCS )Lady Soft Nursin...</td>\n",
       "      <td>https://www.lazada.com.my/products/ready-stock...</td>\n",
       "      <td>39.77</td>\n",
       "    </tr>\n",
       "    <tr>\n",
       "      <th>3</th>\n",
       "      <td>463466122_MY-742236082</td>\n",
       "      <td>Mother &amp; Baby &gt; Maternity Care &gt; Maternity Wea...</td>\n",
       "      <td>Mother Breastfeeding Bra Women Maternity Nursi...</td>\n",
       "      <td>https://www.lazada.com.my/products/mother-brea...</td>\n",
       "      <td>4.90</td>\n",
       "    </tr>\n",
       "    <tr>\n",
       "      <th>4</th>\n",
       "      <td>441480884_MY-766690713</td>\n",
       "      <td>Mother &amp; Baby &gt; Nursery &gt; Mattresses &amp; Bedding...</td>\n",
       "      <td>[READYSTOK] Muslin swaddle blanket baby newbor...</td>\n",
       "      <td>https://www.lazada.com.my/products/readystok-m...</td>\n",
       "      <td>6.70</td>\n",
       "    </tr>\n",
       "  </tbody>\n",
       "</table>\n",
       "</div>"
      ],
      "text/plain": [
       "                      sku                                           category  \\\n",
       "0  344274860_MY-977654577  Mother & Baby > Maternity Care > Maternity Wea...   \n",
       "1  356072211_MY-582833847  Mother & Baby > Maternity Care > Maternity Wea...   \n",
       "2  357908492_MY-506792016  Mother & Baby > Maternity Care > Maternity Wea...   \n",
       "3  463466122_MY-742236082  Mother & Baby > Maternity Care > Maternity Wea...   \n",
       "4  441480884_MY-766690713  Mother & Baby > Nursery > Mattresses & Bedding...   \n",
       "\n",
       "                                                name  \\\n",
       "0  (READY STOCK Malaysia) Fello Plus Size Soft Nu...   \n",
       "1  (READY STOCK MALAYSIA)(3 Pcs )Lady Soft Nursin...   \n",
       "2  (Ready Stock Malaysia)(3 PCS )Lady Soft Nursin...   \n",
       "3  Mother Breastfeeding Bra Women Maternity Nursi...   \n",
       "4  [READYSTOK] Muslin swaddle blanket baby newbor...   \n",
       "\n",
       "                                                 url  price  \n",
       "0  https://www.lazada.com.my/products/ready-stock...  14.33  \n",
       "1  https://www.lazada.com.my/products/ready-stock...  40.50  \n",
       "2  https://www.lazada.com.my/products/ready-stock...  39.77  \n",
       "3  https://www.lazada.com.my/products/mother-brea...   4.90  \n",
       "4  https://www.lazada.com.my/products/readystok-m...   6.70  "
      ]
     },
     "execution_count": 117,
     "metadata": {},
     "output_type": "execute_result"
    }
   ],
   "source": [
    "df.head()"
   ]
  },
  {
   "cell_type": "code",
   "execution_count": null,
   "metadata": {},
   "outputs": [],
   "source": [
    "#export to excel. (you can specify the directory)\n",
    "df.to_excel('test.xlsx')"
   ]
  },
  {
   "cell_type": "code",
   "execution_count": null,
   "metadata": {},
   "outputs": [],
   "source": []
  }
 ],
 "metadata": {
  "kernelspec": {
   "display_name": "Python 3",
   "language": "python",
   "name": "python3"
  },
  "language_info": {
   "codemirror_mode": {
    "name": "ipython",
    "version": 3
   },
   "file_extension": ".py",
   "mimetype": "text/x-python",
   "name": "python",
   "nbconvert_exporter": "python",
   "pygments_lexer": "ipython3",
   "version": "3.6.8"
  }
 },
 "nbformat": 4,
 "nbformat_minor": 2
}
