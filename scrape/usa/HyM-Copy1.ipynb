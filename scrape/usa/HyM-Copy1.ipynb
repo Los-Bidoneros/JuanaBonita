{
 "cells": [
  {
   "cell_type": "code",
   "execution_count": 2,
   "metadata": {},
   "outputs": [],
   "source": [
    "from selenium import webdriver\n",
    "from selenium.webdriver.support.ui import WebDriverWait\n",
    "from selenium.webdriver.common.by import By\n",
    "from selenium.webdriver.support import expected_conditions as EC\n",
    "from selenium.webdriver.chrome.options import Options\n",
    "from bs4 import BeautifulSoup\n",
    "import pandas as pd\n",
    "import requests\n",
    "from time import strftime\n",
    "import datetime\n",
    "import time\n",
    "from pandas import ExcelWriter\n",
    "import re\n",
    "import pyodbc\n",
    "import asyncio\n",
    "from selenium.webdriver.common.action_chains import ActionChains\n",
    "import numpy as np\n",
    "import pdb\n",
    "#pdb.set_trace()\n",
    "from ipywidgets import IntProgress\n",
    "from IPython.display import display\n",
    "import os\n",
    "from selenium.webdriver.support import expected_conditions\n",
    "from IPython.display import clear_output"
   ]
  },
  {
   "cell_type": "code",
   "execution_count": 3,
   "metadata": {},
   "outputs": [],
   "source": [
    "TIEMPO_DE_ESPERA = 5.5\n",
    "\n",
    "start_ = datetime.datetime.now()\n",
    "fecha = datetime.date.today()\n",
    "hoy = fecha.strftime('%Y/%m/%d')\n",
    "\n",
    "user_agent = 'Mozilla/5.0 (X11; Linux x86_64) AppleWebKit/537.36 (KHTML, like Gecko) Chrome/60.0.3112.50 Safari/537.36'\n",
    "\n",
    "chrome_options = Options()\n",
    "chrome_options.add_argument(\"--headless\")\n",
    "chrome_options.add_argument(\"--no-sandbox\")\n",
    "chrome_options.add_argument(f'user-agent={user_agent}')\n",
    "chrome_options.add_argument(\"--window-size=1825x1844\")\n",
    "# options.headless = True\n",
    "browser = webdriver.Chrome( options = chrome_options)\n"
   ]
  },
  {
   "cell_type": "code",
   "execution_count": 4,
   "metadata": {},
   "outputs": [],
   "source": [
    "URLS = [['Mujer','https://www2.hm.com/content/hmonline/en_us/women/products/view-all.html/'],\n",
    "       ['Hombre','https://www2.hm.com/en_us/men/products/view-all.html'],\n",
    "       ['Kids','https://www2.hm.com/en_us/kids/products/view-all.html']]"
   ]
  },
  {
   "cell_type": "code",
   "execution_count": 36,
   "metadata": {},
   "outputs": [],
   "source": [
    "paginacion_total = []\n",
    "for URL in URLS:\n",
    "    browser.get(URL[1])\n",
    "    \n",
    "    if URL[0] =='Kids':\n",
    "        paginacion_total += browser.execute_script('''\n",
    "\n",
    "            var cantidad = document.querySelector(\"#menu-links > li:nth-child(3)\").getElementsByClassName('item').length;\n",
    "\n",
    "            var arn =[]\n",
    "            var arl =[]\n",
    "\n",
    "            for (i=0;i<cantidad;i++){\n",
    "\n",
    "\n",
    "                arn.push(document.querySelector(\"#menu-links > li:nth-child(3)\").getElementsByClassName('item')[i].textContent.trim());\n",
    "\n",
    "                arl.push('https://www2.hm.com'.concat(document.querySelector(\"#menu-links > li:nth-child(3)\").getElementsByClassName('item')[i].getElementsByTagName('a')[0].getAttribute('href')));\n",
    "            }\n",
    "             function zip(a, b) {\n",
    "                              var arr = [];\n",
    "                              for (var key in a) arr.push([a[key], b[key]]);\n",
    "                              return arr;\n",
    "                            }\n",
    "            return zip(arl,arn);\n",
    "\n",
    "            ''')\n",
    "    else:\n",
    "            \n",
    "        paginacion_total += browser.execute_script('''\n",
    "\n",
    "        var cantidad = document.querySelector(\"#menu-links > li:nth-child(4)\").getElementsByClassName('item').length;\n",
    "\n",
    "        var arn =[]\n",
    "        var arl =[]\n",
    "\n",
    "        for (i=0;i<cantidad;i++){\n",
    "\n",
    "\n",
    "            arn.push(document.querySelector(\"#menu-links > li:nth-child(4)\").getElementsByClassName('item')[i].textContent.trim());\n",
    "\n",
    "            arl.push('https://www2.hm.com'.concat(document.querySelector(\"#menu-links > li:nth-child(4)\").getElementsByClassName('item')[i].getElementsByTagName('a')[0].getAttribute('href')));\n",
    "        }\n",
    "         function zip(a, b) {\n",
    "                          var arr = [];\n",
    "                          for (var key in a) arr.push([a[key], b[key]]);\n",
    "                          return arr;\n",
    "                        }\n",
    "        return zip(arl,arn);\n",
    "\n",
    "        ''')\n",
    "\n",
    "for paginacion in paginacion_total:\n",
    "    \n",
    "    if paginacion[0].find('/men') != -1 : paginacion.append('Men')\n",
    "    if paginacion[0].find('/kids') != -1 : paginacion.append('Kids')\n",
    "    if paginacion[0].find('/women') != -1 : paginacion.append('Women')\n",
    "        "
   ]
  },
  {
   "cell_type": "code",
   "execution_count": 40,
   "metadata": {},
   "outputs": [
    {
     "name": "stdout",
     "output_type": "stream",
     "text": [
      "Women\n"
     ]
    }
   ],
   "source": [
    "for i in paginacion_total:\n",
    "    print(i[2])\n",
    "    break"
   ]
  },
  {
   "cell_type": "code",
   "execution_count": 64,
   "metadata": {},
   "outputs": [
    {
     "data": {
      "text/plain": [
       "['https://www2.hm.com/en_us/kids/products/newborn-size-0-9m.html',\n",
       " 'Newborn 0-9m',\n",
       " 'Kids']"
      ]
     },
     "execution_count": 64,
     "metadata": {},
     "output_type": "execute_result"
    }
   ],
   "source": [
    "URL"
   ]
  },
  {
   "cell_type": "code",
   "execution_count": 98,
   "metadata": {},
   "outputs": [],
   "source": [
    "copyL = copyL[1:].copy()"
   ]
  },
  {
   "cell_type": "code",
   "execution_count": 83,
   "metadata": {},
   "outputs": [
    {
     "data": {
      "text/plain": [
       "['https://www2.hm.com/en_us/kids/products/baby-boy-size-4m-4y.html',\n",
       " 'Baby Boys 4m-4Y',\n",
       " 'Kids']"
      ]
     },
     "execution_count": 83,
     "metadata": {},
     "output_type": "execute_result"
    }
   ],
   "source": [
    "URL"
   ]
  },
  {
   "cell_type": "code",
   "execution_count": 96,
   "metadata": {},
   "outputs": [
    {
     "data": {
      "text/plain": [
       "['https://www2.hm.com/en_us/kids/products/baby-exclusive.html',\n",
       " 'Baby Exclusive 0m-4Y',\n",
       " 'Kids']"
      ]
     },
     "execution_count": 96,
     "metadata": {},
     "output_type": "execute_result"
    }
   ],
   "source": [
    "URL"
   ]
  },
  {
   "cell_type": "code",
   "execution_count": 97,
   "metadata": {},
   "outputs": [
    {
     "data": {
      "text/plain": [
       "[['https://www2.hm.com/en_us/kids/products/baby-exclusive.html',\n",
       "  'Baby Exclusive 0m-4Y',\n",
       "  'Kids'],\n",
       " ['https://www2.hm.com/en_us/kids/products/girls-size-18m-10y.html',\n",
       "  'Girls 1 1/2-10Y',\n",
       "  'Kids'],\n",
       " ['https://www2.hm.com/en_us/kids/products/boys-size-18m-10y.html',\n",
       "  'Boys 1 1/2-10Y',\n",
       "  'Kids'],\n",
       " ['https://www2.hm.com/en_us/kids/products/girls-size-8-14y.html',\n",
       "  'Girls 8 - 14+ years',\n",
       "  'Kids'],\n",
       " ['https://www2.hm.com/en_us/kids/products/boys-size-8-14y.html',\n",
       "  'Boys 8 - 14+ years',\n",
       "  'Kids']]"
      ]
     },
     "execution_count": 97,
     "metadata": {},
     "output_type": "execute_result"
    }
   ],
   "source": [
    "copyL[1:]"
   ]
  },
  {
   "cell_type": "code",
   "execution_count": 100,
   "metadata": {},
   "outputs": [],
   "source": [
    "user_agent = 'Mozilla/5.0 (X11; Linux x86_64) AppleWebKit/537.36 (KHTML, like Gecko) Chrome/60.0.3112.50 Safari/537.36'\n",
    "\n",
    "chrome_options = Options()\n",
    "chrome_options.add_argument(\"--headless\")\n",
    "chrome_options.add_argument(\"--no-sandbox\")\n",
    "chrome_options.add_argument(f'user-agent={user_agent}')\n",
    "chrome_options.add_argument(\"--window-size=1825x1844\")\n",
    "# options.headless = True\n",
    "browser = webdriver.Chrome( options = chrome_options)"
   ]
  },
  {
   "cell_type": "code",
   "execution_count": 91,
   "metadata": {},
   "outputs": [],
   "source": []
  },
  {
   "cell_type": "code",
   "execution_count": null,
   "metadata": {},
   "outputs": [
    {
     "data": {
      "application/vnd.jupyter.widget-view+json": {
       "model_id": "0c4c2112bc084cb39580e7ced006e5b7",
       "version_major": 2,
       "version_minor": 0
      },
      "text/plain": [
       "IntProgress(value=0, bar_style='danger', description='Girls 1 1/2-10Y,Kids', max=2058, style=ProgressStyle(des…"
      ]
     },
     "metadata": {},
     "output_type": "display_data"
    }
   ],
   "source": [
    "#nocargaron = []\n",
    "#lista_productos = []\n",
    "\n",
    "\n",
    "for URL in copyL:\n",
    "    \n",
    "    #requests de la url //ropa mujer//hombre//kids\n",
    "    browser.get(URL[0])\n",
    "    \n",
    "\n",
    "    last_height = browser.execute_script(\"return document.body.scrollHeight\")\n",
    "    while True:\n",
    "\n",
    "        browser.execute_script(\"window.scrollTo(0, document.body.scrollHeight);\")\n",
    "        try:\n",
    "            #boton para cargar más items\n",
    "            browser.find_element_by_class_name('load-more-products').find_element_by_tag_name('button').click()\n",
    "        except:\n",
    "            pass\n",
    "        time.sleep(TIEMPO_DE_ESPERA)\n",
    "        new_height = browser.execute_script(\"return document.body.scrollHeight\")\n",
    "        if new_height == last_height:\n",
    "            break\n",
    "        last_height = new_height\n",
    "\n",
    "    time.sleep(1)\n",
    "\n",
    "    CANTIDAD_PRODUCTOS = browser.execute_script('''\n",
    "    var x = document.getElementsByClassName('product-item').length;\n",
    "    return x;''')\n",
    "    style = {'description_width': 'initial'}\n",
    "    test = IntProgress(style=style, min = 0, max = CANTIDAD_PRODUCTOS, description=URL[1]+','+URL[2], bar_style='danger',)    \n",
    "    display(test)\n",
    "    #CANTIDAD DE PRODUCTOS\n",
    "    #_ no lo uso porque deja de estar en el DOM ya que hago click y se pierde el elemento, solo necesito el indice,\n",
    "    for index_producto in range(CANTIDAD_PRODUCTOS):\n",
    "        \n",
    "        \n",
    "        \n",
    "        try:\n",
    "            time.sleep(3)\n",
    "            browser.execute_script(f'''\n",
    "            document.getElementsByClassName('hm-product-item')[{index_producto}].getElementsByTagName('a')[0].click();\n",
    "            ''')\n",
    "        except:\n",
    "            continue\n",
    "\n",
    "        try:\n",
    "            #WebDriverWait(browser, 100).until(EC.presence_of_element_located((By.CLASS_NAME,'group')))\n",
    "            WebDriverWait(browser, 90).until(EC.presence_of_element_located((By.CLASS_NAME,'mini-slider')))\n",
    "        except:\n",
    "            browser.get(browser.current_url)\n",
    "            time.sleep(5)\n",
    "\n",
    "        try:\n",
    "\n",
    "            cantidad_colores = browser.execute_script('''\n",
    "                            var cant = document.getElementsByClassName('group')[0].getElementsByClassName('list-item').length;\n",
    "                            return cant;\n",
    "                            ''')\n",
    "        except:\n",
    "            nocargaron.append([browser.current_url])\n",
    "            browser.execute_script('history.back();')\n",
    "            continue\n",
    "\n",
    "\n",
    "\n",
    "\n",
    "        for color in range(cantidad_colores):\n",
    "\n",
    "\n",
    "            #click en el color.\n",
    "            browser.execute_script(f'''\n",
    "                    document.getElementsByClassName('group')[0].getElementsByClassName('list-item')[{color}].getElementsByTagName('a')[0].click();\n",
    "                    ''')\n",
    "\n",
    "\n",
    "            nombre_color = browser.execute_script(f'''\n",
    "                            var nombre = document.getElementsByClassName('group')[0].getElementsByClassName('list-item')[{color}].getElementsByTagName('a')[0].getAttribute('title');\n",
    "                            return nombre;\n",
    "                            ''')\n",
    "\n",
    "            id_producto = browser.execute_script(f'''\n",
    "                            var id = document.getElementsByClassName('group')[0].getElementsByClassName('list-item')[{color}].getElementsByTagName('a')[0].getAttribute('data-articlecode');\n",
    "                            return id;\n",
    "                            ''')\n",
    "\n",
    "            descripcion = browser.execute_script('''\n",
    "                            var desc = document.getElementsByClassName('primary product-item-headline')[0].textContent.trim();\n",
    "                            return desc;\n",
    "                            ''')\n",
    "\n",
    "            precio = browser.execute_script('''\n",
    "                        var precio = document.getElementsByClassName('price parbase')[0].textContent.trim();\n",
    "                        return precio;\n",
    "                        ''')\n",
    "\n",
    "            url_producto = browser.current_url\n",
    "\n",
    "            img = browser.execute_script('''\n",
    "                    var img = document.getElementsByClassName('product-detail-main-image-container')[0].getElementsByTagName('img')[0].getAttribute('src');\n",
    "                    return img;\n",
    "                    ''')\n",
    "\n",
    "            lista_productos.append([id_producto,\n",
    "                                    descripcion,\n",
    "                                    nombre_color,\n",
    "                                    URL[1],\n",
    "                                    precio,\n",
    "                                    URL[2],\n",
    "                                    url_producto,\n",
    "                                    img])\n",
    "\n",
    "        browser.execute_script('history.back();')\n",
    "        test.value +=1\n",
    "        test.description = f\"± {int(CANTIDAD_PRODUCTOS)*15}: {test.value} / {CANTIDAD_PRODUCTOS}\"\n",
    "\n",
    "    test.bar_style='success'\n",
    "    clear_output() \n",
    "\n",
    "end_ = datetime.datetime.now()\n"
   ]
  },
  {
   "cell_type": "code",
   "execution_count": null,
   "metadata": {},
   "outputs": [],
   "source": []
  },
  {
   "cell_type": "code",
   "execution_count": null,
   "metadata": {},
   "outputs": [],
   "source": [
    "1152/1328\n",
    "10:49.."
   ]
  },
  {
   "cell_type": "code",
   "execution_count": null,
   "metadata": {},
   "outputs": [],
   "source": [
    "\n",
    "\n"
   ]
  },
  {
   "cell_type": "code",
   "execution_count": 55,
   "metadata": {},
   "outputs": [],
   "source": [
    "copyL = paginacion_total[2:].copy()"
   ]
  },
  {
   "cell_type": "code",
   "execution_count": 51,
   "metadata": {},
   "outputs": [
    {
     "data": {
      "text/plain": [
       "'https://www2.hm.com/en_us/women/products/shirts-blouses.html'"
      ]
     },
     "execution_count": 51,
     "metadata": {},
     "output_type": "execute_result"
    }
   ],
   "source": [
    "URL[0]"
   ]
  },
  {
   "cell_type": "code",
   "execution_count": 48,
   "metadata": {},
   "outputs": [
    {
     "data": {
      "text/plain": [
       "[['https://www2.hm.com/en_us/women/products/dresses.html', 'Dresses', 'Women'],\n",
       " ['https://www2.hm.com/en_us/women/products/tops.html', 'Tops', 'Women'],\n",
       " ['https://www2.hm.com/en_us/women/products/shirts-blouses.html',\n",
       "  'Shirts & Blouses',\n",
       "  'Women'],\n",
       " ['https://www2.hm.com/en_us/women/products/cardigans-sweaters.html',\n",
       "  'Cardigans & Sweaters',\n",
       "  'Women'],\n",
       " ['https://www2.hm.com/en_us/women/products/jackets-coats.html',\n",
       "  'Jackets & Coats',\n",
       "  'Women'],\n",
       " ['https://www2.hm.com/en_us/women/products/blazers-vests.html',\n",
       "  'Blazers',\n",
       "  'Women'],\n",
       " ['https://www2.hm.com/en_us/women/products/pants.html', 'Pants', 'Women'],\n",
       " ['https://www2.hm.com/en_us/women/products/jeans.html', 'Jeans', 'Women'],\n",
       " ['https://www2.hm.com/en_us/women/products/hoodies-sweatshirts.html',\n",
       "  'Hoodies & Sweatshirts',\n",
       "  'Women'],\n",
       " ['https://www2.hm.com/en_us/women/products/shoes.html', 'Shoes', 'Women'],\n",
       " ['https://www2.hm.com/en_us/women/products/basics.html', 'Basics', 'Women'],\n",
       " ['https://www2.hm.com/en_us/women/products/skirts.html', 'Skirts', 'Women'],\n",
       " ['https://www2.hm.com/en_us/women/products/swimwear.html',\n",
       "  'Swimwear',\n",
       "  'Women'],\n",
       " ['https://www2.hm.com/en_us/women/products/shorts.html', 'Shorts', 'Women'],\n",
       " ['https://www2.hm.com/en_us/women/products/jumpsuits-rompers.html',\n",
       "  'Jumpsuits & Rompers',\n",
       "  'Women'],\n",
       " ['https://www2.hm.com/en_us/women/products/knit.html', 'Knitwear', 'Women'],\n",
       " ['https://www2.hm.com/en_us/women/products/accessories.html',\n",
       "  'Accessories',\n",
       "  'Women'],\n",
       " ['https://www2.hm.com/en_us/women/products/lingerie.html',\n",
       "  'Lingerie',\n",
       "  'Women'],\n",
       " ['https://www2.hm.com/en_us/women/products/sleepwear.html',\n",
       "  'Sleepwear & Loungewear',\n",
       "  'Women'],\n",
       " ['https://www2.hm.com/en_us/women/products/socks-tights.html',\n",
       "  'Socks & Tights',\n",
       "  'Women'],\n",
       " ['https://www2.hm.com/en_us/women/products/workout-clothes.html',\n",
       "  'Sportswear',\n",
       "  'Women'],\n",
       " ['https://www2.hm.com/en_us/women/products/maternity-clothes.html',\n",
       "  'Maternity Wear',\n",
       "  'Women'],\n",
       " ['https://www2.hm.com/en_us/women/products/plus-size.html',\n",
       "  'Plus Sizes',\n",
       "  'Women'],\n",
       " ['https://www2.hm.com/en_us/women/products/beauty.html', 'Beauty', 'Women'],\n",
       " ['https://www2.hm.com/en_us/men/products/hoodies-sweatshirts.html',\n",
       "  'Hoodies & Sweatshirts',\n",
       "  'Men'],\n",
       " ['https://www2.hm.com/en_us/men/products/t-shirts-tank-tops.html',\n",
       "  'T-shirts & Tank tops',\n",
       "  'Men'],\n",
       " ['https://www2.hm.com/en_us/men/products/basics.html', 'Basics', 'Men'],\n",
       " ['https://www2.hm.com/en_us/men/products/cardigans-sweaters.html',\n",
       "  'Cardigans & Sweaters',\n",
       "  'Men'],\n",
       " ['https://www2.hm.com/en_us/men/products/pants.html', 'Pants', 'Men'],\n",
       " ['https://www2.hm.com/en_us/men/products/jeans.html', 'Jeans', 'Men'],\n",
       " ['https://www2.hm.com/en_us/men/products/jackets-coats.html',\n",
       "  'Outerwear',\n",
       "  'Men'],\n",
       " ['https://www2.hm.com/en_us/men/products/shirts.html', 'Shirts', 'Men'],\n",
       " ['https://www2.hm.com/en_us/men/products/suits-blazers.html',\n",
       "  'Blazers & Suits',\n",
       "  'Men'],\n",
       " ['https://www2.hm.com/en_us/men/products/shoes.html', 'Shoes', 'Men'],\n",
       " ['https://www2.hm.com/en_us/men/products/accessories.html',\n",
       "  'Accessories',\n",
       "  'Men'],\n",
       " ['https://www2.hm.com/en_us/men/products/shorts.html', 'Shorts', 'Men'],\n",
       " ['https://www2.hm.com/en_us/men/products/underwear-boxer-briefs.html',\n",
       "  'Underwear',\n",
       "  'Men'],\n",
       " ['https://www2.hm.com/en_us/men/products/socks.html', 'Socks', 'Men'],\n",
       " ['https://www2.hm.com/en_us/men/products/swim-wear-trunks.html',\n",
       "  'Swimwear',\n",
       "  'Men'],\n",
       " ['https://www2.hm.com/en_us/men/products/sportswear.html',\n",
       "  'Sportswear',\n",
       "  'Men'],\n",
       " ['https://www2.hm.com/en_us/men/products/big-tall.html',\n",
       "  'Extended sizes',\n",
       "  'Men'],\n",
       " ['https://www2.hm.com/en_us/kids/products/newborn-size-0-9m.html',\n",
       "  'Newborn 0-9m',\n",
       "  'Kids'],\n",
       " ['https://www2.hm.com/en_us/kids/products/baby-girls-size-4m-4y.html',\n",
       "  'Baby Girls 4m-4Y',\n",
       "  'Kids'],\n",
       " ['https://www2.hm.com/en_us/kids/products/baby-boy-size-4m-4y.html',\n",
       "  'Baby Boys 4m-4Y',\n",
       "  'Kids'],\n",
       " ['https://www2.hm.com/en_us/kids/products/baby-exclusive.html',\n",
       "  'Baby Exclusive 0m-4Y',\n",
       "  'Kids'],\n",
       " ['https://www2.hm.com/en_us/kids/products/girls-size-18m-10y.html',\n",
       "  'Girls 1 1/2-10Y',\n",
       "  'Kids'],\n",
       " ['https://www2.hm.com/en_us/kids/products/boys-size-18m-10y.html',\n",
       "  'Boys 1 1/2-10Y',\n",
       "  'Kids'],\n",
       " ['https://www2.hm.com/en_us/kids/products/girls-size-8-14y.html',\n",
       "  'Girls 8 - 14+ years',\n",
       "  'Kids'],\n",
       " ['https://www2.hm.com/en_us/kids/products/boys-size-8-14y.html',\n",
       "  'Boys 8 - 14+ years',\n",
       "  'Kids']]"
      ]
     },
     "execution_count": 48,
     "metadata": {},
     "output_type": "execute_result"
    }
   ],
   "source": [
    "paginacion_total"
   ]
  },
  {
   "cell_type": "code",
   "execution_count": 57,
   "metadata": {},
   "outputs": [
    {
     "data": {
      "text/plain": [
       "[['https://www2.hm.com/en_us/women/products/shirts-blouses.html',\n",
       "  'Shirts & Blouses',\n",
       "  'Women'],\n",
       " ['https://www2.hm.com/en_us/women/products/cardigans-sweaters.html',\n",
       "  'Cardigans & Sweaters',\n",
       "  'Women'],\n",
       " ['https://www2.hm.com/en_us/women/products/jackets-coats.html',\n",
       "  'Jackets & Coats',\n",
       "  'Women'],\n",
       " ['https://www2.hm.com/en_us/women/products/blazers-vests.html',\n",
       "  'Blazers',\n",
       "  'Women'],\n",
       " ['https://www2.hm.com/en_us/women/products/pants.html', 'Pants', 'Women'],\n",
       " ['https://www2.hm.com/en_us/women/products/jeans.html', 'Jeans', 'Women'],\n",
       " ['https://www2.hm.com/en_us/women/products/hoodies-sweatshirts.html',\n",
       "  'Hoodies & Sweatshirts',\n",
       "  'Women'],\n",
       " ['https://www2.hm.com/en_us/women/products/shoes.html', 'Shoes', 'Women'],\n",
       " ['https://www2.hm.com/en_us/women/products/basics.html', 'Basics', 'Women'],\n",
       " ['https://www2.hm.com/en_us/women/products/skirts.html', 'Skirts', 'Women'],\n",
       " ['https://www2.hm.com/en_us/women/products/swimwear.html',\n",
       "  'Swimwear',\n",
       "  'Women'],\n",
       " ['https://www2.hm.com/en_us/women/products/shorts.html', 'Shorts', 'Women'],\n",
       " ['https://www2.hm.com/en_us/women/products/jumpsuits-rompers.html',\n",
       "  'Jumpsuits & Rompers',\n",
       "  'Women'],\n",
       " ['https://www2.hm.com/en_us/women/products/knit.html', 'Knitwear', 'Women'],\n",
       " ['https://www2.hm.com/en_us/women/products/accessories.html',\n",
       "  'Accessories',\n",
       "  'Women'],\n",
       " ['https://www2.hm.com/en_us/women/products/lingerie.html',\n",
       "  'Lingerie',\n",
       "  'Women'],\n",
       " ['https://www2.hm.com/en_us/women/products/sleepwear.html',\n",
       "  'Sleepwear & Loungewear',\n",
       "  'Women'],\n",
       " ['https://www2.hm.com/en_us/women/products/socks-tights.html',\n",
       "  'Socks & Tights',\n",
       "  'Women'],\n",
       " ['https://www2.hm.com/en_us/women/products/workout-clothes.html',\n",
       "  'Sportswear',\n",
       "  'Women'],\n",
       " ['https://www2.hm.com/en_us/women/products/maternity-clothes.html',\n",
       "  'Maternity Wear',\n",
       "  'Women'],\n",
       " ['https://www2.hm.com/en_us/women/products/plus-size.html',\n",
       "  'Plus Sizes',\n",
       "  'Women'],\n",
       " ['https://www2.hm.com/en_us/women/products/beauty.html', 'Beauty', 'Women'],\n",
       " ['https://www2.hm.com/en_us/men/products/hoodies-sweatshirts.html',\n",
       "  'Hoodies & Sweatshirts',\n",
       "  'Men'],\n",
       " ['https://www2.hm.com/en_us/men/products/t-shirts-tank-tops.html',\n",
       "  'T-shirts & Tank tops',\n",
       "  'Men'],\n",
       " ['https://www2.hm.com/en_us/men/products/basics.html', 'Basics', 'Men'],\n",
       " ['https://www2.hm.com/en_us/men/products/cardigans-sweaters.html',\n",
       "  'Cardigans & Sweaters',\n",
       "  'Men'],\n",
       " ['https://www2.hm.com/en_us/men/products/pants.html', 'Pants', 'Men'],\n",
       " ['https://www2.hm.com/en_us/men/products/jeans.html', 'Jeans', 'Men'],\n",
       " ['https://www2.hm.com/en_us/men/products/jackets-coats.html',\n",
       "  'Outerwear',\n",
       "  'Men'],\n",
       " ['https://www2.hm.com/en_us/men/products/shirts.html', 'Shirts', 'Men'],\n",
       " ['https://www2.hm.com/en_us/men/products/suits-blazers.html',\n",
       "  'Blazers & Suits',\n",
       "  'Men'],\n",
       " ['https://www2.hm.com/en_us/men/products/shoes.html', 'Shoes', 'Men'],\n",
       " ['https://www2.hm.com/en_us/men/products/accessories.html',\n",
       "  'Accessories',\n",
       "  'Men'],\n",
       " ['https://www2.hm.com/en_us/men/products/shorts.html', 'Shorts', 'Men'],\n",
       " ['https://www2.hm.com/en_us/men/products/underwear-boxer-briefs.html',\n",
       "  'Underwear',\n",
       "  'Men'],\n",
       " ['https://www2.hm.com/en_us/men/products/socks.html', 'Socks', 'Men'],\n",
       " ['https://www2.hm.com/en_us/men/products/swim-wear-trunks.html',\n",
       "  'Swimwear',\n",
       "  'Men'],\n",
       " ['https://www2.hm.com/en_us/men/products/sportswear.html',\n",
       "  'Sportswear',\n",
       "  'Men'],\n",
       " ['https://www2.hm.com/en_us/men/products/big-tall.html',\n",
       "  'Extended sizes',\n",
       "  'Men'],\n",
       " ['https://www2.hm.com/en_us/kids/products/newborn-size-0-9m.html',\n",
       "  'Newborn 0-9m',\n",
       "  'Kids'],\n",
       " ['https://www2.hm.com/en_us/kids/products/baby-girls-size-4m-4y.html',\n",
       "  'Baby Girls 4m-4Y',\n",
       "  'Kids'],\n",
       " ['https://www2.hm.com/en_us/kids/products/baby-boy-size-4m-4y.html',\n",
       "  'Baby Boys 4m-4Y',\n",
       "  'Kids'],\n",
       " ['https://www2.hm.com/en_us/kids/products/baby-exclusive.html',\n",
       "  'Baby Exclusive 0m-4Y',\n",
       "  'Kids'],\n",
       " ['https://www2.hm.com/en_us/kids/products/girls-size-18m-10y.html',\n",
       "  'Girls 1 1/2-10Y',\n",
       "  'Kids'],\n",
       " ['https://www2.hm.com/en_us/kids/products/boys-size-18m-10y.html',\n",
       "  'Boys 1 1/2-10Y',\n",
       "  'Kids'],\n",
       " ['https://www2.hm.com/en_us/kids/products/girls-size-8-14y.html',\n",
       "  'Girls 8 - 14+ years',\n",
       "  'Kids'],\n",
       " ['https://www2.hm.com/en_us/kids/products/boys-size-8-14y.html',\n",
       "  'Boys 8 - 14+ years',\n",
       "  'Kids']]"
      ]
     },
     "execution_count": 57,
     "metadata": {},
     "output_type": "execute_result"
    }
   ],
   "source": [
    "copyL"
   ]
  },
  {
   "cell_type": "code",
   "execution_count": 24,
   "metadata": {},
   "outputs": [
    {
     "data": {
      "text/plain": [
       "True"
      ]
     },
     "execution_count": 24,
     "metadata": {},
     "output_type": "execute_result"
    }
   ],
   "source": [
    "browser.save_screenshot('asd.png')"
   ]
  },
  {
   "cell_type": "code",
   "execution_count": 31,
   "metadata": {},
   "outputs": [],
   "source": [
    "browser.quit()"
   ]
  },
  {
   "cell_type": "code",
   "execution_count": 25,
   "metadata": {},
   "outputs": [
    {
     "name": "stdout",
     "output_type": "stream",
     "text": [
      "https://www2.hm.com/en_us/productpage.0830770003.html\n"
     ]
    }
   ],
   "source": [
    "print(browser.current_url)"
   ]
  },
  {
   "cell_type": "code",
   "execution_count": 52,
   "metadata": {},
   "outputs": [
    {
     "data": {
      "text/plain": [
       "['0771826003',\n",
       " 'Rib-knit Wrap Dress',\n",
       " 'Red',\n",
       " 'Dresses',\n",
       " '$59.99',\n",
       " 'Mujer',\n",
       " 'https://www2.hm.com/en_us/productpage.0771826003.html',\n",
       " '//lp2.hm.com/hmgoepprod?set=source[/4d/fe/4dfe78723f0547659d158a99c65a3fa859c88425.jpg],origin[dam],category[ladies_dresses_mididresses],type[LOOKBOOK],res[m],hmver[1]&call=url[file:/product/main]']"
      ]
     },
     "execution_count": 52,
     "metadata": {},
     "output_type": "execute_result"
    }
   ],
   "source": [
    "lista_productos[-2]"
   ]
  },
  {
   "cell_type": "code",
   "execution_count": null,
   "metadata": {},
   "outputs": [],
   "source": []
  },
  {
   "cell_type": "code",
   "execution_count": null,
   "metadata": {},
   "outputs": [],
   "source": [
    "browser.execute_script(f'''\n",
    "\n",
    "$(\"#dropdown-colorWithNames label span:contains('{CLICK_COLOR}')\").click()\n",
    "\n",
    "''')"
   ]
  },
  {
   "cell_type": "code",
   "execution_count": null,
   "metadata": {},
   "outputs": [],
   "source": []
  },
  {
   "cell_type": "code",
   "execution_count": 16,
   "metadata": {},
   "outputs": [
    {
     "data": {
      "text/plain": [
       "23598"
      ]
     },
     "execution_count": 16,
     "metadata": {},
     "output_type": "execute_result"
    }
   ],
   "source": [
    "len(lista_productos)"
   ]
  },
  {
   "cell_type": "code",
   "execution_count": 17,
   "metadata": {},
   "outputs": [],
   "source": [
    "browser.quit()"
   ]
  },
  {
   "cell_type": "code",
   "execution_count": 18,
   "metadata": {},
   "outputs": [],
   "source": [
    "df = pd.DataFrame(lista_productos)"
   ]
  },
  {
   "cell_type": "code",
   "execution_count": 19,
   "metadata": {},
   "outputs": [],
   "source": [
    "df.rename(columns={0:'sku',\n",
    "                  1:'descripcion',\n",
    "                  2:'color',\n",
    "                  3:'tipo',\n",
    "                  4:'precio',\n",
    "                  5:'sexo',\n",
    "                  6:'url',\n",
    "                  7:'jpg'},inplace=True)"
   ]
  },
  {
   "cell_type": "code",
   "execution_count": 20,
   "metadata": {},
   "outputs": [],
   "source": [
    "df['precio'] = df['precio'].apply(lambda x: float(x.split()[1]))"
   ]
  },
  {
   "cell_type": "code",
   "execution_count": 21,
   "metadata": {},
   "outputs": [],
   "source": [
    "df.to_excel(f'./Salida/HyM{str(fecha)}.xlsx')"
   ]
  }
 ],
 "metadata": {
  "kernelspec": {
   "display_name": "Python [conda env:dev_env]",
   "language": "python",
   "name": "conda-env-dev_env-py"
  },
  "language_info": {
   "codemirror_mode": {
    "name": "ipython",
    "version": 3
   },
   "file_extension": ".py",
   "mimetype": "text/x-python",
   "name": "python",
   "nbconvert_exporter": "python",
   "pygments_lexer": "ipython3",
   "version": "3.6.8"
  }
 },
 "nbformat": 4,
 "nbformat_minor": 2
}
