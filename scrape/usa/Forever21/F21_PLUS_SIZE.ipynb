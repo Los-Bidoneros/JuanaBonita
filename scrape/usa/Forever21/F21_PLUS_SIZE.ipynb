{
 "cells": [
  {
   "cell_type": "code",
   "execution_count": 1,
   "metadata": {},
   "outputs": [
    {
     "data": {
      "text/html": [
       "<style>.container { width:100% !important; }</style>"
      ],
      "text/plain": [
       "<IPython.core.display.HTML object>"
      ]
     },
     "metadata": {},
     "output_type": "display_data"
    }
   ],
   "source": [
    "from selenium import webdriver\n",
    "from selenium.webdriver.support.ui import WebDriverWait\n",
    "from selenium.webdriver.common.by import By\n",
    "from selenium.webdriver.support import expected_conditions as EC\n",
    "from selenium.webdriver.chrome.options import Options\n",
    "from bs4 import BeautifulSoup\n",
    "import pandas as pd\n",
    "import requests\n",
    "from time import strftime\n",
    "import datetime\n",
    "import time\n",
    "from pandas import ExcelWriter\n",
    "import re\n",
    "import pyodbc\n",
    "import asyncio\n",
    "from selenium.webdriver.common.action_chains import ActionChains\n",
    "import numpy as np\n",
    "import pdb\n",
    "#pdb.set_trace()\n",
    "from ipywidgets import IntProgress\n",
    "from IPython.display import display\n",
    "import os\n",
    "from selenium.webdriver.support import expected_conditions\n",
    "from IPython.display import clear_output\n",
    "from selenium.common.exceptions import WebDriverException\n",
    "from IPython.core.display import display, HTML\n",
    "display(HTML(\"<style>.container { width:100% !important; }</style>\"))\n",
    "from sc_header import createDriver,config_moneda"
   ]
  },
  {
   "cell_type": "code",
   "execution_count": 2,
   "metadata": {},
   "outputs": [],
   "source": [
    "TIEMPO_DE_ESPERA = 5.5\n",
    "\n",
    "start_ = datetime.datetime.now()\n",
    "fecha = datetime.date.today()\n",
    "hoy = fecha.strftime('%Y/%m/%d')"
   ]
  },
  {
   "cell_type": "code",
   "execution_count": 3,
   "metadata": {},
   "outputs": [],
   "source": [
    "browser = createDriver()\n",
    "browser.get('https://www.forever21.com/us/shop')\n",
    "url_base = \"https://www.forever21.com\""
   ]
  },
  {
   "cell_type": "code",
   "execution_count": 5,
   "metadata": {},
   "outputs": [
    {
     "data": {
      "text/plain": [
       "True"
      ]
     },
     "execution_count": 5,
     "metadata": {},
     "output_type": "execute_result"
    }
   ],
   "source": [
    "browser.save_screenshot('asd.png')"
   ]
  },
  {
   "cell_type": "code",
   "execution_count": 4,
   "metadata": {},
   "outputs": [
    {
     "name": "stdout",
     "output_type": "stream",
     "text": [
      "Cerrando modal\n"
     ]
    }
   ],
   "source": [
    "config_moneda(browser)"
   ]
  },
  {
   "cell_type": "code",
   "execution_count": null,
   "metadata": {},
   "outputs": [],
   "source": []
  },
  {
   "cell_type": "code",
   "execution_count": null,
   "metadata": {},
   "outputs": [],
   "source": []
  },
  {
   "cell_type": "code",
   "execution_count": 6,
   "metadata": {},
   "outputs": [],
   "source": [
    "ipath = 'LINKS_F21.xlsx'\n",
    "LINKS = pd.read_excel(ipath)"
   ]
  },
  {
   "cell_type": "code",
   "execution_count": 7,
   "metadata": {},
   "outputs": [],
   "source": [
    "#LINKS = LINKS[\"PLUS_SIZE\"].tolist()\n",
    "LINKS = LINKS[LINKS['TIPO']=='PLUS + CURVE'].reset_index(drop=True)"
   ]
  },
  {
   "cell_type": "code",
   "execution_count": 9,
   "metadata": {},
   "outputs": [],
   "source": []
  },
  {
   "cell_type": "code",
   "execution_count": 11,
   "metadata": {},
   "outputs": [
    {
     "name": "stdout",
     "output_type": "stream",
     "text": [
      "0\n",
      "6\n",
      "10\n",
      "13\n",
      "14\n",
      "18\n",
      "19\n",
      "20\n",
      "21\n",
      "23\n",
      "24\n",
      "26\n",
      "27\n",
      "28\n",
      "31\n",
      "32\n",
      "33\n",
      "34\n",
      "35\n",
      "36\n",
      "37\n",
      "38\n",
      "39\n",
      "40\n",
      "42\n",
      "43\n",
      "44\n",
      "46\n",
      "47\n",
      "48\n",
      "49\n",
      "50\n",
      "51\n",
      "52\n",
      "53\n",
      "54\n",
      "55\n",
      "56\n",
      "57\n",
      "58\n",
      "59\n",
      "60\n",
      "61\n",
      "62\n",
      "63\n",
      "64\n",
      "65\n",
      "66\n",
      "67\n",
      "68\n",
      "69\n",
      "70\n",
      "71\n",
      "72\n",
      "73\n",
      "74\n",
      "75\n",
      "76\n",
      "77\n",
      "78\n",
      "79\n",
      "80\n",
      "81\n",
      "82\n",
      "83\n",
      "84\n",
      "85\n",
      "86\n",
      "87\n",
      "88\n",
      "89\n",
      "90\n",
      "91\n",
      "92\n",
      "93\n",
      "94\n",
      "95\n",
      "96\n",
      "97\n",
      "98\n",
      "99\n"
     ]
    }
   ],
   "source": [
    "#Si quieres hacer una lista c. Con elementos que no se encuentren en las dos listas, puedes generar por ejemplo, un bucle de 100 elementos:\n",
    "#Y luego pasar el resultado a una lista c:\n",
    "c = []\n",
    "for i in range(100):\n",
    "    if i not in a and i not in b:\n",
    "        c.append(i)\n",
    "\n",
    "#de manera pythonica quedaría asi:\n",
    "c=[for i in range(100) if i not in a and i not in b]\n",
    "        \n",
    "#Y si lo que buscas es una lista con elementos de a que no esten en b, puedes hacer esto:\n",
    "c=[]\n",
    "for i in a:\n",
    "    if i not in b:\n",
    "        c.append(i)\n",
    "#del mismo modo, podemos hacer una [list comprehension](https://recursospython.com/guias-y-manuales/comprension-de-listas-y-otras-colecciones/)\n",
    "[i for i in a if i not in b]\n",
    "#[i for i in a if i not in b]"
   ]
  },
  {
   "cell_type": "code",
   "execution_count": null,
   "metadata": {},
   "outputs": [],
   "source": []
  },
  {
   "cell_type": "code",
   "execution_count": 7,
   "metadata": {},
   "outputs": [],
   "source": [
    "lista_productos = []\n",
    "ex_color = 0\n",
    "for index,link in LINKS.iterrows():\n",
    "    try:\n",
    "        browser.get(link['HREF'])\n",
    "    except WebDriverException:\n",
    "        \n",
    "        browser.quit()\n",
    "        browser = createDriver()\n",
    "        time.sleep(1)\n",
    "        continue\n",
    "        \n",
    "    config_moneda(browser)\n",
    "    tipologia = WebDriverWait(browser, 50).until(EC.presence_of_element_located((By.XPATH,'//*[@id=\"multi_submenu_title\"]/h1'))).text\n",
    "    \n",
    "    \n",
    "    max_page = max([int(i.text) for i in browser.find_elements_by_css_selector('#top-pager > ul > li') if i.text.isnumeric()])\n",
    "               \n",
    "\n",
    "    for page in range(max_page):\n",
    "\n",
    "        #cantidad de productos dentro de la página.\n",
    "        product_link = browser.find_elements_by_css_selector('a.item_slider.product_link')\n",
    "        \n",
    "        if browser.current_url == 'https://www.forever21.com/us/shop':\n",
    "                break\n",
    "        for indices, product in enumerate(product_link):\n",
    "            \n",
    "            try:\n",
    "                URL = product.get_attribute('href')\n",
    "            except:\n",
    "                continue\n",
    "        \n",
    "            try:\n",
    "                browser.execute_script(f\"document.getElementsByClassName('qv square')[{indices}].click();\")\n",
    "            except:\n",
    "                continue\n",
    "            \n",
    "            if browser.current_url == 'https://www.forever21.com/us/shop':\n",
    "                break\n",
    "            \n",
    "            \n",
    "            try:\n",
    "                ELEMENT_COLORS = WebDriverWait(browser,30).until(EC.presence_of_all_elements_located((By.CSS_SELECTOR,'#colorButton > li')))\n",
    "                #ELEMENT_COLORS = browser.find_element_by_id('colorButton').find_elements_by_tag_name('li')\n",
    "            except:\n",
    "                time.sleep(3.5)\n",
    "                continue\n",
    "\n",
    "            for item, valor in enumerate(ELEMENT_COLORS):\n",
    "                \n",
    "                #browser.execute_script(f\"document.getElementsByClassName('color')[{index_articulo}].getElementsByTagName('li')[{item}].getElementsByTagName('span')[0].getElementsByTagName('img')[0].click();\")\n",
    "                \n",
    "                try:\n",
    "                    if valor.is_displayed():\n",
    "                        \n",
    "                        valor.click()\n",
    "                    #browser.execute_script(f\"document.getElementsByClassName('ws_100 swatch row mobile_swatch pt_10')[0].getElementsByClassName('color')[0].getElementsByTagName('li')[{item}].click();\")\n",
    "                except:\n",
    "                    try:\n",
    "                        browser.implicitly_wait(10)\n",
    "                        browser.execute_script(f\"document.getElementsByClassName('ws_100 swatch row mobile_swatch pt_10')[0].getElementsByClassName('color')[0].getElementsByTagName('li')[{item}].click();\")\n",
    "                        ex_color += 1 \n",
    "                    except:\n",
    "                        break\n",
    "                        \n",
    "                \n",
    "                \n",
    "                NOMBRE_COLOR = valor.find_element_by_tag_name('img').get_attribute('alt')\n",
    "\n",
    "\n",
    "                TALLES = browser.find_element_by_xpath('//*[@id=\"sizeButton\"]').find_elements_by_tag_name('li')\n",
    "                for TALLE in TALLES:\n",
    "\n",
    "                    #TALLE BLOQUEADO ES OOS\n",
    "                    if TALLE.find_element_by_tag_name('span').get_attribute('class') != \"oos\":\n",
    "                        \n",
    "\n",
    "                        NOMBRE_TALLE = TALLE.find_element_by_tag_name('span').text\n",
    "\n",
    "                        # IMG PRODUCTO\n",
    "                        \n",
    "                        for _ in range(15):\n",
    "                            try:\n",
    "                                IMG = WebDriverWait(browser,50).until(EC.presence_of_element_located((By.CSS_SELECTOR,'#modelImage_1_front_750 > img'))).get_attribute('src')\n",
    "                                break\n",
    "                            except:\n",
    "                                time.sleep(2)\n",
    "                            if IMG != 'https://www.forever21.com/us/shop/_common/images/c_loading.gif':\n",
    "                                break\n",
    "                        \n",
    "                        # DESCRIPCION\n",
    "                        DESCRIPCION = browser.find_element_by_class_name('p_name').text\n",
    "\n",
    "                        # PRECIO\n",
    "                        PRECIO = browser.find_element_by_css_selector('.p_price.pt_5.ws_100.row.mb_10').text\n",
    "#                        browser.execute_script(\"var x = document.getElementsByClassName('p_price pt_5 ws_100 row mb_10')[0].textContent; return x\").strip()\n",
    "                        # CODIGO\n",
    "                        try:\n",
    "                            CODIGO = browser.find_element_by_css_selector('.t_mid.pt_10').text.split()[-1]\n",
    "                        except:\n",
    "                            \n",
    "                            codigo = browser.execute_script(\"var x = document.getElementsByClassName('t_mid pt_10')[0].textContent; return x\")\n",
    "                            CODIGO = codigo.split()[-1]\n",
    "                            \n",
    "\n",
    "                        lista_productos.append([CODIGO,\n",
    "                                                NOMBRE_TALLE,\n",
    "                                                NOMBRE_COLOR,\n",
    "                                                'PLUS SIZE',\n",
    "                                                DESCRIPCION,\n",
    "                                                PRECIO,\n",
    "                                                IMG,\n",
    "                                                URL,\n",
    "                                                tipologia,\n",
    "                                                page])\n",
    "\n",
    "            \n",
    "        #NEXTPAGE\n",
    "        time.sleep(.8)\n",
    "        try:\n",
    "##            browser.execute_script(\"document.getElementsByClassName('p_next')[0].click();\")\n",
    "            #jquery click next page \n",
    "            browser.execute_script(\"$('#top-pager li span.p_next').click();\")\n",
    "        except:\n",
    "            break\n",
    "browser.quit()"
   ]
  },
  {
   "cell_type": "code",
   "execution_count": 11,
   "metadata": {},
   "outputs": [],
   "source": []
  },
  {
   "cell_type": "code",
   "execution_count": 17,
   "metadata": {},
   "outputs": [],
   "source": [
    "df = pd.DataFrame(lista_productos)"
   ]
  },
  {
   "cell_type": "code",
   "execution_count": 18,
   "metadata": {},
   "outputs": [
    {
     "data": {
      "text/plain": [
       "2841"
      ]
     },
     "execution_count": 18,
     "metadata": {},
     "output_type": "execute_result"
    }
   ],
   "source": [
    "len(df.drop_duplicates())"
   ]
  },
  {
   "cell_type": "code",
   "execution_count": null,
   "metadata": {},
   "outputs": [],
   "source": [
    "len(df)"
   ]
  },
  {
   "cell_type": "code",
   "execution_count": 20,
   "metadata": {},
   "outputs": [],
   "source": [
    "df.rename(columns={0:'sku',\n",
    "                   1:'talle',\n",
    "                   2:'color',\n",
    "                   3:'sexo',\n",
    "                   4:'descripcion',\n",
    "                   5:'precio',\n",
    "                   6:'img',\n",
    "                   7:'url',\n",
    "                   8:'categoria'},inplace=True)\n",
    "#df.drop_duplicates()"
   ]
  },
  {
   "cell_type": "code",
   "execution_count": 23,
   "metadata": {},
   "outputs": [],
   "source": [
    "df.rename(columns={9:'drop'},inplace=True)"
   ]
  },
  {
   "cell_type": "code",
   "execution_count": 28,
   "metadata": {},
   "outputs": [
    {
     "data": {
      "text/html": [
       "<div>\n",
       "<style scoped>\n",
       "    .dataframe tbody tr th:only-of-type {\n",
       "        vertical-align: middle;\n",
       "    }\n",
       "\n",
       "    .dataframe tbody tr th {\n",
       "        vertical-align: top;\n",
       "    }\n",
       "\n",
       "    .dataframe thead th {\n",
       "        text-align: right;\n",
       "    }\n",
       "</style>\n",
       "<table border=\"1\" class=\"dataframe\">\n",
       "  <thead>\n",
       "    <tr style=\"text-align: right;\">\n",
       "      <th></th>\n",
       "      <th>sku</th>\n",
       "      <th>talle</th>\n",
       "      <th>color</th>\n",
       "      <th>sexo</th>\n",
       "      <th>descripcion</th>\n",
       "      <th>precio</th>\n",
       "      <th>img</th>\n",
       "      <th>url</th>\n",
       "      <th>categoria</th>\n",
       "      <th>9</th>\n",
       "    </tr>\n",
       "  </thead>\n",
       "  <tbody>\n",
       "  </tbody>\n",
       "</table>\n",
       "</div>"
      ],
      "text/plain": [
       "Empty DataFrame\n",
       "Columns: [sku, talle, color, sexo, descripcion, precio, img, url, categoria, 9]\n",
       "Index: []"
      ]
     },
     "execution_count": 28,
     "metadata": {},
     "output_type": "execute_result"
    }
   ],
   "source": [
    "df[df['descripcion']=='Plus Size Leopard Print Cami Dress']"
   ]
  },
  {
   "cell_type": "code",
   "execution_count": null,
   "metadata": {},
   "outputs": [],
   "source": []
  },
  {
   "cell_type": "code",
   "execution_count": 24,
   "metadata": {},
   "outputs": [],
   "source": [
    "df.drop('drop',axis=1,inplace=True)"
   ]
  },
  {
   "cell_type": "code",
   "execution_count": 25,
   "metadata": {},
   "outputs": [],
   "source": [
    "df.drop_duplicates(inplace=True)"
   ]
  },
  {
   "cell_type": "code",
   "execution_count": 26,
   "metadata": {},
   "outputs": [
    {
     "data": {
      "text/plain": [
       "3332"
      ]
     },
     "execution_count": 26,
     "metadata": {},
     "output_type": "execute_result"
    }
   ],
   "source": [
    "len(df)"
   ]
  },
  {
   "cell_type": "code",
   "execution_count": 27,
   "metadata": {},
   "outputs": [],
   "source": [
    "end_= datetime.datetime.now()"
   ]
  },
  {
   "cell_type": "code",
   "execution_count": 28,
   "metadata": {},
   "outputs": [],
   "source": [
    "df.to_excel(f'./Salida/F21PLUS_SIZE{fecha}.xlsx')"
   ]
  },
  {
   "cell_type": "code",
   "execution_count": null,
   "metadata": {},
   "outputs": [],
   "source": [
    "browser.quit()"
   ]
  },
  {
   "cell_type": "code",
   "execution_count": null,
   "metadata": {},
   "outputs": [],
   "source": []
  },
  {
   "cell_type": "code",
   "execution_count": null,
   "metadata": {},
   "outputs": [],
   "source": []
  }
 ],
 "metadata": {
  "kernelspec": {
   "display_name": "Python 3",
   "language": "python",
   "name": "python3"
  },
  "language_info": {
   "codemirror_mode": {
    "name": "ipython",
    "version": 3
   },
   "file_extension": ".py",
   "mimetype": "text/x-python",
   "name": "python",
   "nbconvert_exporter": "python",
   "pygments_lexer": "ipython3",
   "version": "3.6.8"
  }
 },
 "nbformat": 4,
 "nbformat_minor": 2
}
