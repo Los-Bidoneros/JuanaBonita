{
 "cells": [
  {
   "cell_type": "code",
   "execution_count": 11,
   "metadata": {},
   "outputs": [],
   "source": [
    "from selenium import webdriver\n",
    "from selenium.webdriver.support.ui import WebDriverWait\n",
    "from selenium.webdriver.common.by import By\n",
    "from selenium.webdriver.support import expected_conditions as EC\n",
    "from selenium.webdriver.chrome.options import Options\n",
    "from bs4 import BeautifulSoup\n",
    "import pandas as pd\n",
    "import requests\n",
    "from time import strftime\n",
    "import datetime\n",
    "import time\n",
    "from pandas import ExcelWriter\n",
    "import re\n",
    "import pyodbc\n",
    "import asyncio\n",
    "from selenium.webdriver.common.action_chains import ActionChains\n",
    "import numpy as np\n",
    "import pdb\n",
    "#pdb.set_trace()\n",
    "from ipywidgets import IntProgress\n",
    "from IPython.display import display\n",
    "import os\n",
    "from selenium.webdriver.support import expected_conditions\n",
    "from selenium.common.exceptions import WebDriverException\n",
    "from IPython.display import clear_output"
   ]
  },
  {
   "cell_type": "code",
   "execution_count": 2,
   "metadata": {},
   "outputs": [],
   "source": [
    "TIEMPO_DE_ESPERA = 5.5\n",
    "\n",
    "start_ = datetime.datetime.now()\n",
    "fecha = datetime.date.today()\n",
    "hoy = fecha.strftime('%Y/%m/%d')\n",
    "\n",
    "def createDriver():\n",
    "    user_agent = 'Mozilla/5.0 (X11; Linux x86_64) AppleWebKit/537.36 (KHTML, like Gecko) Chrome/60.0.3112.50 Safari/537.36'\n",
    "\n",
    "    chrome_options = Options()\n",
    "    chrome_options.add_argument(\"--headless\")\n",
    "    chrome_options.add_argument(\"--no-sandbox\")\n",
    "    chrome_options.add_argument(f'user-agent={user_agent}')\n",
    "    chrome_options.add_argument(\"--window-size=1625x2444\")\n",
    "    # options.headless = True\n",
    "    return webdriver.Chrome(options = chrome_options)"
   ]
  },
  {
   "cell_type": "code",
   "execution_count": 3,
   "metadata": {},
   "outputs": [],
   "source": [
    "#browser.quit()"
   ]
  },
  {
   "cell_type": "code",
   "execution_count": 4,
   "metadata": {},
   "outputs": [],
   "source": [
    "#browser.get('https://www.forever21.com/us/shop')"
   ]
  },
  {
   "cell_type": "code",
   "execution_count": 5,
   "metadata": {},
   "outputs": [],
   "source": [
    "url_base = \"https://www.forever21.com\""
   ]
  },
  {
   "cell_type": "code",
   "execution_count": 245,
   "metadata": {},
   "outputs": [
    {
     "data": {
      "text/plain": [
       "True"
      ]
     },
     "execution_count": 245,
     "metadata": {},
     "output_type": "execute_result"
    }
   ],
   "source": [
    "browser.save_screenshot('asd.png')"
   ]
  },
  {
   "cell_type": "code",
   "execution_count": 6,
   "metadata": {},
   "outputs": [],
   "source": [
    "ipath = 'LINKS_F21.xlsx'\n",
    "LINKS = pd.read_excel(ipath)"
   ]
  },
  {
   "cell_type": "code",
   "execution_count": 7,
   "metadata": {},
   "outputs": [],
   "source": [
    "LINKS = LINKS[\"MEN\"].tolist()"
   ]
  },
  {
   "cell_type": "code",
   "execution_count": 8,
   "metadata": {},
   "outputs": [],
   "source": [
    "def asignarMoneda(driver):\n",
    "    time.sleep(.6)\n",
    "    #CLICK EN LA PARTE SUPERIOR DERECHA, DONDE HAY UN MODAL DE CONFIGURACIÓN DE PAÍS / MONEDA\n",
    "    driver.execute_script(\"document.getElementsByClassName('table sameline fr')[0].getElementsByTagName('span')[0].click();\")\n",
    "    #ASIGNAR DOLAR \n",
    "    driver.execute_script(\"document.getElementsByTagName('select')[1].value ='USD'\")\n",
    "    time.sleep(2)\n",
    "    #CLICK EN EL BOTON DE GUARDAR \n",
    "    driver.execute_script(\"document.getElementsByClassName('glControls')[0].getElementsByTagName('input')[0].click();\")\n",
    "    \n"
   ]
  },
  {
   "cell_type": "code",
   "execution_count": 9,
   "metadata": {},
   "outputs": [],
   "source": [
    "lista_productos = []"
   ]
  },
  {
   "cell_type": "code",
   "execution_count": 13,
   "metadata": {},
   "outputs": [],
   "source": [
    "browser = createDriver()\n",
    "browser.get('https://www.forever21.com/us/shop')"
   ]
  },
  {
   "cell_type": "code",
   "execution_count": null,
   "metadata": {},
   "outputs": [],
   "source": []
  },
  {
   "cell_type": "code",
   "execution_count": null,
   "metadata": {},
   "outputs": [],
   "source": []
  },
  {
   "cell_type": "code",
   "execution_count": 14,
   "metadata": {},
   "outputs": [],
   "source": [
    "for link in LINKS:\n",
    "    try:\n",
    "        browser.get(link)\n",
    "    except WebDriverException:\n",
    "        \n",
    "        browser = createDriver()\n",
    "        time.sleep(1)\n",
    "        continue\n",
    "    asignarMoneda(browser)\n",
    "    tipologia = browser.find_element_by_xpath('//*[@id=\"multi_submenu_title\"]/h1').text\n",
    "    \n",
    "    max_page = browser.execute_script('''\n",
    "        var aux = document.getElementsByClassName('fr txr show_desktop s_page')[0].getElementsByClassName('pageno').length;\n",
    "\n",
    "        var max_page = document.getElementsByClassName('fr txr show_desktop s_page')[0].getElementsByClassName('pageno')[aux-2].textContent;\n",
    "\n",
    "        return max_page;\n",
    "\n",
    "        ''')\n",
    "    max_page = int(max_page)\n",
    "\n",
    "    for page in range(max_page):\n",
    "\n",
    "        #cantidad de productos dentro de la página.\n",
    "    ##  productos = browser.find_element_by_id('products').find_elements_by_class_name('pi_container')\n",
    "        \n",
    "        browser.implicitly_wait(2)\n",
    "        productos = browser.execute_script(\"var x = document.getElementsByClassName('qv square').length; return x;\")\n",
    "        if browser.current_url == 'https://www.forever21.com/us/shop':\n",
    "                break\n",
    "        for index_articulo in range(productos):\n",
    "            try:\n",
    "                #URL = articulo.find_element_by_tag_name('div').find_element_by_tag_name('div').find_element_by_tag_name('a').get_attribute('href')\n",
    "                URL = url_base + browser.execute_script(f\"var x = document.getElementsByClassName('item_slider product_link')[{index_articulo}].getAttribute('href');return x;\")\n",
    "            except:\n",
    "                continue\n",
    "        ##  ActionChains(browser).move_to_element(articulo).perform()\n",
    "            try:\n",
    "                browser.execute_script(f\"document.getElementsByClassName('qv square')[{index_articulo}].click();\")\n",
    "            except:\n",
    "                continue\n",
    "            #boton.click()\n",
    "            if browser.current_url == 'https://www.forever21.com/us/shop':\n",
    "                break\n",
    "            #ELEMENT_COLORS = browser.find_element_by_xpath('//*[@id=\"quickview_pop\"]/div/div/div/div[2]/div[2]').find_element_by_id('colorButton').find_elements_by_tag_name('li')\n",
    "            ###ELEMENT_COLORS = browser.execute_script(f\"var x = document.getElementsByClassName('color')[{index_articulo}].getElementsByTagName('li').length; return x\")\n",
    "            browser.implicitly_wait(2)\n",
    "            try:\n",
    "                ELEMENT_COLORS = browser.execute_script(f\"var x = document.getElementsByClassName('ws_100 swatch row mobile_swatch pt_10')[0].getElementsByClassName('color')[0].getElementsByTagName('li').length; return x;\")\n",
    "            except:\n",
    "                time.sleep(3.5)\n",
    "                pass\n",
    "            try:\n",
    "                ELEMENT_COLORS = browser.execute_script(f\"var x = document.getElementsByClassName('ws_100 swatch row mobile_swatch pt_10')[0].getElementsByClassName('color')[0].getElementsByTagName('li').length; return x;\")\n",
    "            except:\n",
    "                continue\n",
    "\n",
    "            for item in range(ELEMENT_COLORS):\n",
    "\n",
    "                #browser.execute_script(f\"document.getElementsByClassName('color')[{index_articulo}].getElementsByTagName('li')[{item}].getElementsByTagName('span')[0].getElementsByTagName('img')[0].click();\")\n",
    "                time.sleep(.5)\n",
    "                try:\n",
    "                    browser.execute_script(f\"document.getElementsByClassName('ws_100 swatch row mobile_swatch pt_10')[0].getElementsByClassName('color')[0].getElementsByTagName('li')[{item}].click();\")\n",
    "                except:\n",
    "                    try:\n",
    "                        browser.implicitly_wait(10)\n",
    "                        browser.execute_script(f\"document.getElementsByClassName('ws_100 swatch row mobile_swatch pt_10')[0].getElementsByClassName('color')[0].getElementsByTagName('li')[{item}].click();\")\n",
    "                    except:\n",
    "                        break\n",
    "                time.sleep(.5)\n",
    "                \n",
    "                try:\n",
    "                    NOMBRE_COLOR = browser.execute_script(\"var x = document.getElementsByClassName('ws_100 swatch row mobile_swatch pt_10')[0].getElementsByTagName('p')[0].textContent; return x;\").strip()\n",
    "                except:\n",
    "                    browser.implicitly_wait(10)\n",
    "                    NOMBRE_COLOR = browser.execute_script(\"var x = document.getElementsByClassName('ws_100 swatch row mobile_swatch pt_10')[0].getElementsByTagName('p')[0].textContent; return x;\").strip()\n",
    "\n",
    "                #NOMBRE_COLOR = item.find_element_by_tag_name('span').find_element_by_tag_name('img').get_attribute('alt')\n",
    "                #item.click()\n",
    "\n",
    "                TALLES = browser.find_element_by_xpath('//*[@id=\"sizeButton\"]').find_elements_by_tag_name('li')\n",
    "                for TALLE in TALLES:\n",
    "\n",
    "                    #TALLE BLOQUEADO ES OOS\n",
    "                    if TALLE.find_element_by_tag_name('span').get_attribute('class') != \"oos\":\n",
    "\n",
    "                        NOMBRE_TALLE = TALLE.find_element_by_tag_name('span').text\n",
    "\n",
    "                        # IMG PRODUCTO\n",
    "                        time.sleep(0.5)\n",
    "                        try:\n",
    "                            IMG = browser.execute_script(f\"var x = document.getElementsByClassName('ws_100 owl-carousel owl-loaded owl-drag')[0].getElementsByTagName('img')[0].getAttribute('src'); return x\")\n",
    "                        except:\n",
    "                            IMG = None\n",
    "                        #IMG = browser.execute_script(f\"var x = document.getElementsByClassName('product_image')[{index_articulo}].getAttribute('src'); return x\")\n",
    "                        # DESCRIPCION\n",
    "                        DESCRIPCION = browser.execute_script(f\"var x = document.getElementsByClassName('p_name')[{index_articulo}].textContent; return x\")\n",
    "\n",
    "                        # PRECIO\n",
    "                        PRECIO = browser.execute_script(\"var x = document.getElementsByClassName('p_price pt_5 ws_100 row mb_10')[0].textContent; return x\").strip()\n",
    "                        # CODIGO\n",
    "                        codigo = browser.execute_script(\"var x = document.getElementsByClassName('t_mid pt_10')[0].textContent; return x\")\n",
    "                        CODIGO = codigo.split()[-1]\n",
    "\n",
    "                        lista_productos.append([CODIGO,\n",
    "                                                NOMBRE_TALLE,\n",
    "                                                NOMBRE_COLOR,\n",
    "                                                'MEN',\n",
    "                                                DESCRIPCION,\n",
    "                                                PRECIO,\n",
    "                                                IMG,\n",
    "                                                URL,\n",
    "                                                tipologia,\n",
    "                                                page])\n",
    "\n",
    "            try:\n",
    "                browser.execute_script(\"document.getElementsByClassName('quick_close')[0].click();\")\n",
    "            except:\n",
    "                pass\n",
    "        #NEXTPAGE\n",
    "        time.sleep(.8)\n",
    "        try:\n",
    "##            browser.execute_script(\"document.getElementsByClassName('p_next')[0].click();\")\n",
    "            #jquery click next page \n",
    "            browser.execute_script(\"$('#top-pager li span.p_next').click();\")\n",
    "            browser.implicitly_wait(15)\n",
    "        except:\n",
    "            #print(browser.current_url,\n",
    "                # tipologia,\n",
    "                # link,\n",
    "                # page,\n",
    "                # max_page)\n",
    "            break"
   ]
  },
  {
   "cell_type": "code",
   "execution_count": 17,
   "metadata": {},
   "outputs": [
    {
     "data": {
      "text/plain": [
       "'https://www.forever21.com/us/shop/catalog/category/21men/mens-bottom-shorts'"
      ]
     },
     "execution_count": 17,
     "metadata": {},
     "output_type": "execute_result"
    }
   ],
   "source": [
    "link"
   ]
  },
  {
   "cell_type": "code",
   "execution_count": 18,
   "metadata": {},
   "outputs": [
    {
     "data": {
      "text/plain": [
       "['https://www.forever21.com/us/shop/catalog/category/21men/mens-tees-tanks-graphic',\n",
       " 'https://www.forever21.com/us/shop/catalog/category/21men/mens-bottom',\n",
       " 'https://www.forever21.com/us/shop/catalog/category/21men/mens-jackets-and-coats',\n",
       " 'https://www.forever21.com/us/shop/catalog/category/21men/mens-sweaters',\n",
       " 'https://www.forever21.com/us/shop/catalog/category/21men/mens-sweatshirts-hoodies',\n",
       " 'https://www.forever21.com/us/shop/catalog/category/21men/mens-bottom-swim',\n",
       " 'https://www.forever21.com/us/shop/catalog/category/21men/mens-shirts',\n",
       " 'https://www.forever21.com/us/shop/catalog/category/21men/mens-bottom-denim',\n",
       " 'https://www.forever21.com/us/shop/catalog/category/21men/mens-bottom-shorts']"
      ]
     },
     "execution_count": 18,
     "metadata": {},
     "output_type": "execute_result"
    }
   ],
   "source": [
    "LINKS"
   ]
  },
  {
   "cell_type": "code",
   "execution_count": 28,
   "metadata": {},
   "outputs": [
    {
     "data": {
      "text/plain": [
       "True"
      ]
     },
     "execution_count": 28,
     "metadata": {},
     "output_type": "execute_result"
    }
   ],
   "source": [
    "browser.save_screenshot('asd.png')"
   ]
  },
  {
   "cell_type": "code",
   "execution_count": 15,
   "metadata": {},
   "outputs": [],
   "source": [
    "df = pd.DataFrame(lista_productos)"
   ]
  },
  {
   "cell_type": "code",
   "execution_count": 16,
   "metadata": {},
   "outputs": [
    {
     "data": {
      "text/plain": [
       "3015"
      ]
     },
     "execution_count": 16,
     "metadata": {},
     "output_type": "execute_result"
    }
   ],
   "source": [
    "len(df.drop_duplicates())"
   ]
  },
  {
   "cell_type": "code",
   "execution_count": 17,
   "metadata": {},
   "outputs": [
    {
     "data": {
      "text/plain": [
       "3015"
      ]
     },
     "execution_count": 17,
     "metadata": {},
     "output_type": "execute_result"
    }
   ],
   "source": [
    "len(df)"
   ]
  },
  {
   "cell_type": "code",
   "execution_count": 18,
   "metadata": {},
   "outputs": [],
   "source": [
    "df.rename(columns={0:'sku',\n",
    "                   1:'talle',\n",
    "                   2:'color',\n",
    "                   3:'sexo',\n",
    "                   4:'descripcion',\n",
    "                   5:'precio',\n",
    "                   6:'url_jpg',\n",
    "                   7:'url',\n",
    "                   8:'categoria'},inplace=True)\n",
    "#df.drop_duplicates()"
   ]
  },
  {
   "cell_type": "code",
   "execution_count": 19,
   "metadata": {},
   "outputs": [],
   "source": [
    "df.rename(columns={9:'drop'},inplace=True)"
   ]
  },
  {
   "cell_type": "code",
   "execution_count": 20,
   "metadata": {},
   "outputs": [],
   "source": [
    "df.drop('drop',axis=1,inplace=True)"
   ]
  },
  {
   "cell_type": "code",
   "execution_count": 21,
   "metadata": {},
   "outputs": [],
   "source": [
    "df.drop_duplicates(inplace=True)"
   ]
  },
  {
   "cell_type": "code",
   "execution_count": 22,
   "metadata": {},
   "outputs": [
    {
     "data": {
      "text/plain": [
       "3015"
      ]
     },
     "execution_count": 22,
     "metadata": {},
     "output_type": "execute_result"
    }
   ],
   "source": [
    "len(df)"
   ]
  },
  {
   "cell_type": "code",
   "execution_count": 27,
   "metadata": {},
   "outputs": [
    {
     "data": {
      "text/plain": [
       "['https://www.forever21.com/us/shop/catalog/category/21men/mens-tees-tanks-graphic',\n",
       " 'https://www.forever21.com/us/shop/catalog/category/21men/mens-bottom',\n",
       " 'https://www.forever21.com/us/shop/catalog/category/21men/mens-jackets-and-coats',\n",
       " 'https://www.forever21.com/us/shop/catalog/category/21men/mens-sweaters',\n",
       " 'https://www.forever21.com/us/shop/catalog/category/21men/mens-sweatshirts-hoodies',\n",
       " 'https://www.forever21.com/us/shop/catalog/category/21men/mens-bottom-swim',\n",
       " 'https://www.forever21.com/us/shop/catalog/category/21men/mens-shirts',\n",
       " 'https://www.forever21.com/us/shop/catalog/category/21men/mens-bottom-denim',\n",
       " 'https://www.forever21.com/us/shop/catalog/category/21men/mens-bottom-shorts']"
      ]
     },
     "execution_count": 27,
     "metadata": {},
     "output_type": "execute_result"
    }
   ],
   "source": [
    "LINKS"
   ]
  },
  {
   "cell_type": "code",
   "execution_count": 23,
   "metadata": {},
   "outputs": [
    {
     "data": {
      "text/plain": [
       "array(['Graphic Tees for Men', \"Men's Shirts\",\n",
       "       \"Men's Hoodies + Sweatshirts\", \"Men's Sweaters & Cardigans\",\n",
       "       \"Men's Jackets & Coats\", \"Men's Bottoms\", \"Men's Jeans\",\n",
       "       \"Men's Button-Down Shirts\", 'Mens Shorts', \"Men's Swim Trunks\"],\n",
       "      dtype=object)"
      ]
     },
     "execution_count": 23,
     "metadata": {},
     "output_type": "execute_result"
    }
   ],
   "source": [
    "df['categoria'].unique()"
   ]
  },
  {
   "cell_type": "code",
   "execution_count": 29,
   "metadata": {},
   "outputs": [],
   "source": [
    "end_= datetime.datetime.now()"
   ]
  },
  {
   "cell_type": "code",
   "execution_count": 24,
   "metadata": {},
   "outputs": [],
   "source": [
    "df.to_excel(f'./Salida/F21MEN{fecha}.xlsx')"
   ]
  },
  {
   "cell_type": "code",
   "execution_count": 25,
   "metadata": {},
   "outputs": [],
   "source": [
    "browser.quit()"
   ]
  },
  {
   "cell_type": "code",
   "execution_count": null,
   "metadata": {},
   "outputs": [],
   "source": [
    "2"
   ]
  },
  {
   "cell_type": "code",
   "execution_count": null,
   "metadata": {},
   "outputs": [],
   "source": []
  }
 ],
 "metadata": {
  "kernelspec": {
   "display_name": "Python 3",
   "language": "python",
   "name": "python3"
  },
  "language_info": {
   "codemirror_mode": {
    "name": "ipython",
    "version": 3
   },
   "file_extension": ".py",
   "mimetype": "text/x-python",
   "name": "python",
   "nbconvert_exporter": "python",
   "pygments_lexer": "ipython3",
   "version": "3.6.8"
  }
 },
 "nbformat": 4,
 "nbformat_minor": 2
}
