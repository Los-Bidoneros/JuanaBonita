{
 "cells": [
  {
   "cell_type": "code",
   "execution_count": 12,
   "metadata": {},
   "outputs": [
    {
     "data": {
      "text/html": [
       "<style>.container { width:100% !important; }</style>"
      ],
      "text/plain": [
       "<IPython.core.display.HTML object>"
      ]
     },
     "metadata": {},
     "output_type": "display_data"
    }
   ],
   "source": [
    "from selenium import webdriver\n",
    "from selenium.webdriver.support.ui import WebDriverWait\n",
    "from selenium.webdriver.common.by import By\n",
    "from selenium.webdriver.support import expected_conditions as EC\n",
    "from selenium.webdriver.chrome.options import Options\n",
    "from bs4 import BeautifulSoup\n",
    "import pandas as pd\n",
    "import requests\n",
    "from time import strftime\n",
    "import datetime\n",
    "import time\n",
    "from pandas import ExcelWriter\n",
    "import re\n",
    "import pyodbc\n",
    "import asyncio\n",
    "from selenium.webdriver.common.action_chains import ActionChains\n",
    "import numpy as np\n",
    "import pdb\n",
    "#pdb.set_trace()\n",
    "from ipywidgets import IntProgress\n",
    "from IPython.display import display\n",
    "import os\n",
    "from selenium.webdriver.support import expected_conditions\n",
    "from IPython.display import clear_output\n",
    "from sc_header import createDriver, config_moneda\n",
    "from IPython.core.display import display, HTML\n",
    "display(HTML(\"<style>.container { width:100% !important; }</style>\"))"
   ]
  },
  {
   "cell_type": "code",
   "execution_count": 13,
   "metadata": {},
   "outputs": [],
   "source": [
    "TIEMPO_DE_ESPERA = 5.5\n",
    "\n",
    "start_ = datetime.datetime.now()\n",
    "fecha = datetime.date.today()\n",
    "hoy = fecha.strftime('%Y/%m/%d')\n",
    "\n",
    "browser = createDriver()\n"
   ]
  },
  {
   "cell_type": "code",
   "execution_count": 14,
   "metadata": {},
   "outputs": [],
   "source": [
    "browser.get('https://www.forever21.com/us/shop')"
   ]
  },
  {
   "cell_type": "code",
   "execution_count": 4,
   "metadata": {},
   "outputs": [
    {
     "data": {
      "text/plain": [
       "True"
      ]
     },
     "execution_count": 4,
     "metadata": {},
     "output_type": "execute_result"
    }
   ],
   "source": [
    "browser.save_screenshot('asd.png')"
   ]
  },
  {
   "cell_type": "code",
   "execution_count": 16,
   "metadata": {},
   "outputs": [],
   "source": [
    "import pickle\n",
    "\n",
    "pickle.dump(browser.get_cookies() , open(\"cookies.pkl\",\"wb\"))\n",
    "cookies = pickle.load(open(\"cookies.pkl\", \"rb\"))\n",
    "for cookie in cookies:\n",
    "    browser.add_cookie(cookie)"
   ]
  },
  {
   "cell_type": "code",
   "execution_count": null,
   "metadata": {},
   "outputs": [],
   "source": []
  },
  {
   "cell_type": "code",
   "execution_count": 17,
   "metadata": {},
   "outputs": [],
   "source": [
    "url_base = \"https://www.forever21.com\""
   ]
  },
  {
   "cell_type": "code",
   "execution_count": 18,
   "metadata": {},
   "outputs": [],
   "source": [
    "ELEMENTS_TOP = [i for i in browser.find_elements_by_css_selector('.d_new_mega_menu.hover_p') if i.text in ['WOMEN + ACC','PLUS + CURVE']]"
   ]
  },
  {
   "cell_type": "code",
   "execution_count": 19,
   "metadata": {},
   "outputs": [],
   "source": [
    "LINKS = []\n",
    "for i in ELEMENTS_TOP:\n",
    "    for item in i.find_element_by_css_selector('.vt.ws_60').find_elements_by_tag_name('a'):\n",
    "        \n",
    "        LINKS.append([item.get_attribute('text'),\n",
    "                      item.get_attribute('href'),\n",
    "                      i.text\n",
    "                     ])\n"
   ]
  },
  {
   "cell_type": "code",
   "execution_count": null,
   "metadata": {},
   "outputs": [],
   "source": [
    "# New Arrivals\n",
    "# Dresses\n",
    "# Tops\n",
    "# Bottoms\n",
    "# Jackets & Outerwear\n",
    "# Denim & Jeans\n",
    "# Sweaters & Cardigans\n",
    "# Two Piece Sets\n",
    "# Rompers & Jumpsuits\n",
    "# Lingerie & Sleepwear\n",
    "# Swimwear\n",
    "# Activewear"
   ]
  },
  {
   "cell_type": "code",
   "execution_count": 20,
   "metadata": {},
   "outputs": [],
   "source": [
    "df = pd.DataFrame(LINKS)"
   ]
  },
  {
   "cell_type": "code",
   "execution_count": 21,
   "metadata": {},
   "outputs": [
    {
     "data": {
      "text/html": [
       "<div>\n",
       "<style scoped>\n",
       "    .dataframe tbody tr th:only-of-type {\n",
       "        vertical-align: middle;\n",
       "    }\n",
       "\n",
       "    .dataframe tbody tr th {\n",
       "        vertical-align: top;\n",
       "    }\n",
       "\n",
       "    .dataframe thead th {\n",
       "        text-align: right;\n",
       "    }\n",
       "</style>\n",
       "<table border=\"1\" class=\"dataframe\">\n",
       "  <thead>\n",
       "    <tr style=\"text-align: right;\">\n",
       "      <th></th>\n",
       "      <th>0</th>\n",
       "      <th>1</th>\n",
       "      <th>2</th>\n",
       "    </tr>\n",
       "  </thead>\n",
       "  <tbody>\n",
       "    <tr>\n",
       "      <th>15</th>\n",
       "      <td>New Arrivals</td>\n",
       "      <td>https://www.forever21.com/us/shop/catalog/cate...</td>\n",
       "      <td>PLUS + CURVE</td>\n",
       "    </tr>\n",
       "    <tr>\n",
       "      <th>16</th>\n",
       "      <td>Dresses</td>\n",
       "      <td>https://www.forever21.com/us/shop/catalog/cate...</td>\n",
       "      <td>PLUS + CURVE</td>\n",
       "    </tr>\n",
       "    <tr>\n",
       "      <th>17</th>\n",
       "      <td>Tops</td>\n",
       "      <td>https://www.forever21.com/us/shop/catalog/cate...</td>\n",
       "      <td>PLUS + CURVE</td>\n",
       "    </tr>\n",
       "    <tr>\n",
       "      <th>18</th>\n",
       "      <td>Bottoms</td>\n",
       "      <td>https://www.forever21.com/us/shop/catalog/cate...</td>\n",
       "      <td>PLUS + CURVE</td>\n",
       "    </tr>\n",
       "    <tr>\n",
       "      <th>19</th>\n",
       "      <td>Jackets &amp; Outerwear</td>\n",
       "      <td>https://www.forever21.com/us/shop/catalog/cate...</td>\n",
       "      <td>PLUS + CURVE</td>\n",
       "    </tr>\n",
       "    <tr>\n",
       "      <th>20</th>\n",
       "      <td>Jeans &amp; Denim</td>\n",
       "      <td>https://www.forever21.com/us/shop/catalog/cate...</td>\n",
       "      <td>PLUS + CURVE</td>\n",
       "    </tr>\n",
       "    <tr>\n",
       "      <th>21</th>\n",
       "      <td>Sweaters &amp; Cardigans</td>\n",
       "      <td>https://www.forever21.com/us/shop/catalog/cate...</td>\n",
       "      <td>PLUS + CURVE</td>\n",
       "    </tr>\n",
       "    <tr>\n",
       "      <th>22</th>\n",
       "      <td>Two Piece Sets</td>\n",
       "      <td>https://www.forever21.com/us/shop/catalog/cate...</td>\n",
       "      <td>PLUS + CURVE</td>\n",
       "    </tr>\n",
       "    <tr>\n",
       "      <th>23</th>\n",
       "      <td>Rompers &amp; Jumpsuits</td>\n",
       "      <td>https://www.forever21.com/us/shop/catalog/cate...</td>\n",
       "      <td>PLUS + CURVE</td>\n",
       "    </tr>\n",
       "    <tr>\n",
       "      <th>24</th>\n",
       "      <td>Lingerie &amp; Sleepwear</td>\n",
       "      <td>https://www.forever21.com/us/shop/catalog/cate...</td>\n",
       "      <td>PLUS + CURVE</td>\n",
       "    </tr>\n",
       "    <tr>\n",
       "      <th>25</th>\n",
       "      <td>Swimwear</td>\n",
       "      <td>https://www.forever21.com/us/shop/catalog/cate...</td>\n",
       "      <td>PLUS + CURVE</td>\n",
       "    </tr>\n",
       "    <tr>\n",
       "      <th>26</th>\n",
       "      <td>Activewear</td>\n",
       "      <td>https://www.forever21.com/us/shop/catalog/cate...</td>\n",
       "      <td>PLUS + CURVE</td>\n",
       "    </tr>\n",
       "  </tbody>\n",
       "</table>\n",
       "</div>"
      ],
      "text/plain": [
       "                       0                                                  1  \\\n",
       "15          New Arrivals  https://www.forever21.com/us/shop/catalog/cate...   \n",
       "16               Dresses  https://www.forever21.com/us/shop/catalog/cate...   \n",
       "17                  Tops  https://www.forever21.com/us/shop/catalog/cate...   \n",
       "18               Bottoms  https://www.forever21.com/us/shop/catalog/cate...   \n",
       "19   Jackets & Outerwear  https://www.forever21.com/us/shop/catalog/cate...   \n",
       "20         Jeans & Denim  https://www.forever21.com/us/shop/catalog/cate...   \n",
       "21  Sweaters & Cardigans  https://www.forever21.com/us/shop/catalog/cate...   \n",
       "22        Two Piece Sets  https://www.forever21.com/us/shop/catalog/cate...   \n",
       "23   Rompers & Jumpsuits  https://www.forever21.com/us/shop/catalog/cate...   \n",
       "24  Lingerie & Sleepwear  https://www.forever21.com/us/shop/catalog/cate...   \n",
       "25              Swimwear  https://www.forever21.com/us/shop/catalog/cate...   \n",
       "26            Activewear  https://www.forever21.com/us/shop/catalog/cate...   \n",
       "\n",
       "               2  \n",
       "15  PLUS + CURVE  \n",
       "16  PLUS + CURVE  \n",
       "17  PLUS + CURVE  \n",
       "18  PLUS + CURVE  \n",
       "19  PLUS + CURVE  \n",
       "20  PLUS + CURVE  \n",
       "21  PLUS + CURVE  \n",
       "22  PLUS + CURVE  \n",
       "23  PLUS + CURVE  \n",
       "24  PLUS + CURVE  \n",
       "25  PLUS + CURVE  \n",
       "26  PLUS + CURVE  "
      ]
     },
     "execution_count": 21,
     "metadata": {},
     "output_type": "execute_result"
    }
   ],
   "source": [
    "df[df[2]=='PLUS + CURVE']"
   ]
  },
  {
   "cell_type": "code",
   "execution_count": null,
   "metadata": {},
   "outputs": [],
   "source": []
  },
  {
   "cell_type": "code",
   "execution_count": 22,
   "metadata": {},
   "outputs": [],
   "source": [
    "df.rename(columns={0:'CATEGORIA',\n",
    "                   1:'HREF',\n",
    "                   2:'TIPO'},\n",
    "          inplace=True)"
   ]
  },
  {
   "cell_type": "code",
   "execution_count": null,
   "metadata": {},
   "outputs": [],
   "source": []
  },
  {
   "cell_type": "code",
   "execution_count": 23,
   "metadata": {},
   "outputs": [],
   "source": [
    "df.to_excel('LINKS_F21.xlsx')"
   ]
  },
  {
   "cell_type": "code",
   "execution_count": 24,
   "metadata": {},
   "outputs": [],
   "source": [
    "browser.quit()"
   ]
  },
  {
   "cell_type": "code",
   "execution_count": null,
   "metadata": {},
   "outputs": [],
   "source": []
  }
 ],
 "metadata": {
  "kernelspec": {
   "display_name": "Python 3",
   "language": "python",
   "name": "python3"
  },
  "language_info": {
   "codemirror_mode": {
    "name": "ipython",
    "version": 3
   },
   "file_extension": ".py",
   "mimetype": "text/x-python",
   "name": "python",
   "nbconvert_exporter": "python",
   "pygments_lexer": "ipython3",
   "version": "3.6.8"
  }
 },
 "nbformat": 4,
 "nbformat_minor": 2
}
