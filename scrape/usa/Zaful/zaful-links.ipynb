{
 "cells": [
  {
   "cell_type": "code",
   "execution_count": 1,
   "metadata": {},
   "outputs": [],
   "source": [
    "from selenium import webdriver\n",
    "from selenium.webdriver.support.ui import WebDriverWait\n",
    "from selenium.webdriver.common.by import By\n",
    "from selenium.webdriver.support import expected_conditions as EC\n",
    "from selenium.webdriver.chrome.options import Options\n",
    "from bs4 import BeautifulSoup\n",
    "import pandas as pd\n",
    "import requests\n",
    "from time import strftime\n",
    "import datetime\n",
    "import time\n",
    "from pandas import ExcelWriter\n",
    "import re\n",
    "import pyodbc\n",
    "from selenium.webdriver.common.action_chains import ActionChains\n",
    "import numpy as np\n",
    "import os\n",
    "import json\n",
    "from selenium.webdriver.support import expected_conditions\n",
    "from sc_header import enviarMail,createDriver"
   ]
  },
  {
   "cell_type": "code",
   "execution_count": 2,
   "metadata": {},
   "outputs": [],
   "source": [
    "start_ = datetime.datetime.now()\n",
    "fecha = datetime.date.today()\n",
    "hoy = fecha.strftime('%Y/%m/%d')"
   ]
  },
  {
   "cell_type": "code",
   "execution_count": 3,
   "metadata": {},
   "outputs": [],
   "source": []
  },
  {
   "cell_type": "code",
   "execution_count": 4,
   "metadata": {},
   "outputs": [],
   "source": [
    "browser = createDriver()\n",
    "browser.get(\"https://www.zaful.com/\")            "
   ]
  },
  {
   "cell_type": "code",
   "execution_count": 5,
   "metadata": {},
   "outputs": [],
   "source": [
    "browser.execute_script('''\n",
    "$('#js-changeCountry').mouseover();\n",
    "document.getElementsByClassName('header-country-wrapper')[0].getElementsByTagName('a')[0].click();\n",
    "document.getElementsByClassName('header-country-wrapper')[0].click();\n",
    "document.querySelector(\"#js-changeCountry > div > div.header-country-wrapper > div > ul.hot-country-list > li:nth-child(1) > a\").click();\n",
    "\n",
    "document.getElementsByClassName('link-update-preferences logsss_event_cl')[0].click();\n",
    "\n",
    "''')"
   ]
  },
  {
   "cell_type": "code",
   "execution_count": 6,
   "metadata": {},
   "outputs": [],
   "source": [
    "#LINKS \n",
    "links_aux = browser.execute_script('''\n",
    "            var arr=[];\n",
    "            var arn=[];\n",
    "            var cant = document.getElementsByClassName('nav-item').length;\n",
    "\n",
    "            for (i=0;i<cant;i++){\n",
    "\n",
    "                arr.push(document.getElementsByClassName('nav-item')[i].getElementsByTagName('a')[0].getAttribute('href'));\n",
    "\n",
    "                arn.push(document.getElementsByClassName('nav-item')[i].getElementsByTagName('a')[0].textContent);\n",
    "            }\n",
    "\n",
    "            function zip(a, b) {\n",
    "                  var arr = [];\n",
    "                  for (var key in a) arr.push([a[key], b[key]]);\n",
    "                  return arr;\n",
    "                }\n",
    "\n",
    "            return zip(arr,arn);\n",
    "            ''')"
   ]
  },
  {
   "cell_type": "code",
   "execution_count": 8,
   "metadata": {},
   "outputs": [],
   "source": [
    "LINKS = [i for i in links_aux if i[1] in [\"Women\",\"Men\"]]"
   ]
  },
  {
   "cell_type": "code",
   "execution_count": 9,
   "metadata": {},
   "outputs": [],
   "source": [
    "paginacion = []\n",
    "paginacion_total = []\n",
    "for LINK in LINKS:\n",
    "    \n",
    "    browser.get(LINK[0])\n",
    "    \n",
    "    elementos_paginacion = browser.execute_script('''\n",
    "                return document.getElementsByClassName('listspan')[0].getElementsByTagName('a');\n",
    "                ''')\n",
    "    paginacion_aux = []\n",
    "    for page in elementos_paginacion:\n",
    "        if page.text != \"\":\n",
    "            try:\n",
    "                pagina = int(page.get_attribute('data-page'))\n",
    "                paginacion_aux.append(page)\n",
    "            except:\n",
    "                pass   \n",
    "    # max page\n",
    "    flag_pag = 0\n",
    "    for i in paginacion_aux:\n",
    "        if int(i.text) > flag_pag:\n",
    "            flag_pag = int(i.text)\n",
    "    \n",
    "    for x in range(1,flag_pag):\n",
    "        paginacion_total.append([LINK[0]+f'g_{x}.html' , LINK[1]])    "
   ]
  },
  {
   "cell_type": "code",
   "execution_count": null,
   "metadata": {},
   "outputs": [],
   "source": []
  },
  {
   "cell_type": "code",
   "execution_count": 10,
   "metadata": {},
   "outputs": [],
   "source": [
    "browser.quit()"
   ]
  },
  {
   "cell_type": "code",
   "execution_count": 11,
   "metadata": {},
   "outputs": [],
   "source": [
    "dfLinks = pd.DataFrame(data=paginacion_total,columns=['url','tipo'])"
   ]
  },
  {
   "cell_type": "code",
   "execution_count": 12,
   "metadata": {},
   "outputs": [],
   "source": [
    "dfLinks[dfLinks['tipo'] == 'Women'].to_excel(f'Links_{fecha}.xlsx')"
   ]
  },
  {
   "cell_type": "code",
   "execution_count": null,
   "metadata": {},
   "outputs": [],
   "source": [
    "#ACA SCRIPT QUE LLAME A TODOS LOS SCRIPTS"
   ]
  },
  {
   "cell_type": "code",
   "execution_count": 22,
   "metadata": {},
   "outputs": [],
   "source": [
    "lista_proc = [['zaful-1','zaful',''],\n",
    "     ['zaful-2','zaful',''],\n",
    "     ['zaful-3','zaful',''],\n",
    "     ['zaful-4','zaful',''],\n",
    "     ['zaful-5','zaful',''],\n",
    "     ['zaful-6','zaful','']\n",
    "     ]\n"
   ]
  },
  {
   "cell_type": "code",
   "execution_count": null,
   "metadata": {},
   "outputs": [],
   "source": [
    "\n",
    "import subprocess\n",
    "start_time = datetime.datetime.today()\n",
    "                                                                  \n",
    "procesos = [subprocess.Popen((\"/home/aa/miniconda3/bin/python\", f\"/home/aa/cloudJ/JB/PRD/scrapper/Scripts/Usa/Zaful/{proc[0]}.py\")) for proc in lista_proc]\n",
    "\n",
    "\n",
    "for proc, proceso in zip(lista_proc, procesos):\n",
    "    proc[2] = \"OK\" if proceso.wait() == 0 else \"ERROR\"\n",
    "end_time = datetime.datetime.today()\n",
    "\n",
    "FINAL = '{}'.format(end_time - start_time)[:-4]\n",
    "\n",
    "\n",
    "dir_list = os.listdir()\n",
    "versiones = 0\n",
    "#iterar todos los elementos\n",
    "for item_list in dir_list:\n",
    "    #split nombre y extension\n",
    "    nombre_base, extension = os.path.splitext(item_list)\n",
    "    #Preguntar si el .txt es resumen_zaful\n",
    "    if extension == '.txt' and nombre_base.split('_')[0] == 'resumen':\n",
    "        versiones+=1\n",
    "\n",
    "version = versiones+1\n",
    "\n",
    "\n",
    "\n",
    "hora ='  {}'.format(datetime.datetime.now())[13:-7]\n",
    "file = open(f\"/home/aa/cloudJ/JB/PRD/scrapper/Scripts/Usa/Zaful/resumen_{fecha}.txt\", \"w\")\n",
    "file.write(\"----------------------------\"+ os.linesep)\n",
    "for item in lista_proc:\n",
    "    file.write(str(item[1])+\"....\"+str(item[2]) + os.linesep)\n",
    "file.write(f'Version: {version}' + os.linesep)\n",
    "file.write(f'Tiempo: {FINAL} '+ os.linesep)\n",
    "\n",
    "\n",
    "file.close()\n",
    "\n",
    "enviarMail()\n",
    "\n",
    "\n"
   ]
  },
  {
   "cell_type": "code",
   "execution_count": 208,
   "metadata": {},
   "outputs": [
    {
     "name": "stdout",
     "output_type": "stream",
     "text": [
      "[NbConvertApp] Converting notebook zaful-links.ipynb to script\n",
      "[NbConvertApp] Writing 4572 bytes to zaful-links.py\n"
     ]
    }
   ],
   "source": [
    "#!jupyter nbconvert --to script zaful-links.ipynb"
   ]
  },
  {
   "cell_type": "code",
   "execution_count": null,
   "metadata": {},
   "outputs": [],
   "source": [
    "Traceback (most recent call last):\n",
    "  File \"/home/aa/cloudJ/JB/PRD/scrapper/Scripts/Usa/Zaful/zaful-5.py\", line 129, in <module>\n",
    "    df = pd.DataFrame(new_list)\n",
    "  File \"/home/aa/miniconda3/lib/python3.6/site-packages/pandas/core/frame.py\", line 387, in __init__\n",
    "    arrays, columns = _to_arrays(data, columns, dtype=dtype)\n",
    "  File \"/home/aa/miniconda3/lib/python3.6/site-packages/pandas/core/frame.py\", line 7475, in _to_arrays\n",
    "    dtype=dtype)\n",
    "  File \"/home/aa/miniconda3/lib/python3.6/site-packages/pandas/core/frame.py\", line 7552, in _list_to_arrays\n",
    "    content = list(lib.to_object_array(data).T)\n",
    "  File \"pandas/_libs/src/inference.pyx\", line 1524, in pandas._libs.lib.to_object_array\n",
    "TypeError: Expected list, got str"
   ]
  },
  {
   "cell_type": "code",
   "execution_count": 266,
   "metadata": {},
   "outputs": [],
   "source": []
  },
  {
   "cell_type": "code",
   "execution_count": null,
   "metadata": {},
   "outputs": [],
   "source": []
  },
  {
   "cell_type": "code",
   "execution_count": 267,
   "metadata": {},
   "outputs": [],
   "source": []
  },
  {
   "cell_type": "code",
   "execution_count": 361,
   "metadata": {},
   "outputs": [],
   "source": [
    "A = pd.read_excel('.xlsx')\n",
    "\n",
    "def restore_items(restore):\n",
    "    total_items = []\n",
    "    for index,row in restore.iterrows():\n",
    "\n",
    "        for fila in row:\n",
    "\n",
    "            fila_aux = fila.replace('\"','').replace(\"'\",'').strip('[]').split('], [')\n",
    "            for row_aux in fila_aux:\n",
    "                final_append = row_aux.split(',')\n",
    "                total_items.append(list(map(str.strip,final_append)))\n",
    "\n",
    "    return total_items\n",
    "\n",
    "X = restore_items(A)\n",
    "\n",
    "new_list = [i for i in X if len(i) == 13]\n",
    "\n",
    "df = pd.DataFrame(new_list)\n",
    "df.rename(columns={0:'pos',\n",
    "                  1:'id_producto',\n",
    "                  2:'talle',\n",
    "                  3:'color',\n",
    "                  4:'sexo',\n",
    "                  5:'tipo',\n",
    "                  6:'sub_categoria',\n",
    "                  7:'descripcion',\n",
    "                  8:'precio_dto',\n",
    "                  9:'precio_original',\n",
    "                  10:'img',\n",
    "                  11:'url',\n",
    "                  12:'pagina_scraper'\n",
    "                  },inplace=True)"
   ]
  },
  {
   "cell_type": "code",
   "execution_count": 364,
   "metadata": {},
   "outputs": [],
   "source": [
    "df.to_excel('.xlsx')"
   ]
  },
  {
   "cell_type": "code",
   "execution_count": null,
   "metadata": {},
   "outputs": [],
   "source": []
  },
  {
   "cell_type": "code",
   "execution_count": 366,
   "metadata": {},
   "outputs": [],
   "source": []
  },
  {
   "cell_type": "code",
   "execution_count": null,
   "metadata": {},
   "outputs": [],
   "source": []
  },
  {
   "cell_type": "code",
   "execution_count": null,
   "metadata": {},
   "outputs": [],
   "source": []
  },
  {
   "cell_type": "code",
   "execution_count": null,
   "metadata": {},
   "outputs": [],
   "source": []
  }
 ],
 "metadata": {
  "kernelspec": {
   "display_name": "Python [conda env:dev_env]",
   "language": "python",
   "name": "conda-env-dev_env-py"
  },
  "language_info": {
   "codemirror_mode": {
    "name": "ipython",
    "version": 3
   },
   "file_extension": ".py",
   "mimetype": "text/x-python",
   "name": "python",
   "nbconvert_exporter": "python",
   "pygments_lexer": "ipython3",
   "version": "3.6.8"
  }
 },
 "nbformat": 4,
 "nbformat_minor": 2
}
