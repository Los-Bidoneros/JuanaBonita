{
 "cells": [
  {
   "cell_type": "code",
   "execution_count": 1,
   "metadata": {},
   "outputs": [],
   "source": [
    "from selenium import webdriver\n",
    "from selenium.webdriver.support.ui import WebDriverWait\n",
    "from selenium.webdriver.common.by import By\n",
    "from selenium.webdriver.support import expected_conditions as EC\n",
    "from selenium.webdriver.chrome.options import Options\n",
    "from bs4 import BeautifulSoup\n",
    "import pandas as pd\n",
    "import requests\n",
    "from time import strftime\n",
    "import datetime\n",
    "import time\n",
    "from pandas import ExcelWriter\n",
    "import re\n",
    "import pyodbc\n",
    "import asyncio\n",
    "from selenium.webdriver.common.action_chains import ActionChains\n",
    "import numpy as np\n",
    "import itertools\n",
    "import pdb\n",
    "from ipywidgets import IntProgress\n",
    "from IPython.display import display\n",
    "import os\n",
    "from IPython.display import clear_output\n",
    "import json\n",
    "from selenium.webdriver.support import expected_conditions\n",
    "\n",
    "from sc_header import scrape_batch, scrape_url, aplanar_lista,createDriver,return_chunk, aplanar"
   ]
  },
  {
   "cell_type": "code",
   "execution_count": 2,
   "metadata": {},
   "outputs": [],
   "source": [
    "start_ = datetime.datetime.now()\n",
    "fecha = datetime.date.today()\n",
    "hoy = fecha.strftime('%Y/%m/%d')"
   ]
  },
  {
   "cell_type": "code",
   "execution_count": 3,
   "metadata": {},
   "outputs": [],
   "source": [
    "browser = createDriver()"
   ]
  },
  {
   "cell_type": "code",
   "execution_count": null,
   "metadata": {},
   "outputs": [],
   "source": []
  },
  {
   "cell_type": "code",
   "execution_count": 4,
   "metadata": {},
   "outputs": [],
   "source": [
    "browser.get(\"https://www.zaful.com/\")            "
   ]
  },
  {
   "cell_type": "code",
   "execution_count": 5,
   "metadata": {},
   "outputs": [],
   "source": [
    "browser.execute_script('''\n",
    "$('#js-changeCountry').mouseover();\n",
    "document.getElementsByClassName('header-country-wrapper')[0].getElementsByTagName('a')[0].click();\n",
    "document.getElementsByClassName('header-country-wrapper')[0].click();\n",
    "document.querySelector(\"#js-changeCountry > div > div.header-country-wrapper > div > ul.hot-country-list > li:nth-child(1) > a\").click();\n",
    "\n",
    "document.getElementsByClassName('link-update-preferences logsss_event_cl')[0].click();\n",
    "\n",
    "''')"
   ]
  },
  {
   "cell_type": "code",
   "execution_count": 6,
   "metadata": {},
   "outputs": [],
   "source": [
    "\n",
    "dfLinks = pd.read_excel(f'Links_{str(fecha)}.xlsx')\n",
    "\n",
    "dfLinks = return_chunk(dfLinks,6)\n",
    "\n"
   ]
  },
  {
   "cell_type": "code",
   "execution_count": 8,
   "metadata": {},
   "outputs": [],
   "source": [
    "start_ = datetime.datetime.now()\n",
    "items = []\n",
    "for index,row in dfLinks.iterrows():\n",
    "    \n",
    "    try:\n",
    "        browser.get(row['url'])\n",
    "    except:\n",
    "        browser.quit()\n",
    "        time.sleep(1)\n",
    "        browser = createDriver()\n",
    "        continue\n",
    "    \n",
    "    productos = browser.find_elements_by_class_name('js_proList_item')\n",
    "    urllist = []\n",
    "    for inx,product in enumerate(productos):\n",
    "        urllist.append([product.find_element_by_css_selector('.pr.imgWrap').find_element_by_tag_name('a').get_attribute('href'),inx])\n",
    "    batch_size = 5\n",
    "    \n",
    "    url_chunks = [urllist[x:x+batch_size] for x in range(0, len(urllist), batch_size)]\n",
    "    \n",
    "    for url_chunk in url_chunks:\n",
    "        items.append(scrape_batch(url_chunk,row['url']))\n",
    "    \n",
    "    try:\n",
    "        df_save = pd.DataFrame(items)\n",
    "        df_save.to_excel('zaful6.xlsx')\n",
    "        \n",
    "        file = open(\"zaful_chunk6.txt\", \"w\")\n",
    "        file.write( str(url_chunk) + os.linesep)\n",
    "        file.close()\n",
    "    except:\n",
    "        print(\"Error al guardar\")\n",
    "        \n",
    "end_ = datetime.datetime.now()\n",
    "browser.quit()"
   ]
  },
  {
   "cell_type": "code",
   "execution_count": 9,
   "metadata": {},
   "outputs": [],
   "source": [
    "file = open(\"zaful-6.txt\", \"w\")\n",
    "file.write(  os.linesep +f'ZAFUL_6 - {len(df)}' )\n",
    "file.write(  os.linesep +f'CANTIDAD DE ITEMS - {len(df)}' )\n",
    "file.write(  os.linesep +f'DURACION - {format(end_ - start_)[:-4]}' )\n",
    "file.close()"
   ]
  },
  {
   "cell_type": "code",
   "execution_count": 12,
   "metadata": {},
   "outputs": [],
   "source": [
    "new_list = aplanar(items)"
   ]
  },
  {
   "cell_type": "code",
   "execution_count": null,
   "metadata": {},
   "outputs": [],
   "source": []
  },
  {
   "cell_type": "code",
   "execution_count": 14,
   "metadata": {},
   "outputs": [],
   "source": [
    "df = pd.DataFrame(new_list)\n",
    "\n",
    "df.rename(columns={0:'pos',\n",
    "                  1:'id_producto',\n",
    "                  2:'talle',\n",
    "                  3:'color',\n",
    "                  4:'sexo',\n",
    "                  5:'tipo',\n",
    "                  6:'sub_categoria',\n",
    "                  7:'descripcion',\n",
    "                  8:'precio_dto',\n",
    "                  9:'precio_original',\n",
    "                  10:'img',\n",
    "                  11:'url',\n",
    "                  12:'pagina_scraper'\n",
    "                  },inplace=True)"
   ]
  },
  {
   "cell_type": "code",
   "execution_count": null,
   "metadata": {},
   "outputs": [],
   "source": []
  },
  {
   "cell_type": "code",
   "execution_count": 24,
   "metadata": {},
   "outputs": [],
   "source": [
    "df.to_excel(f'./Salida/zaful6-{fecha}.xlsx')"
   ]
  },
  {
   "cell_type": "code",
   "execution_count": 1,
   "metadata": {},
   "outputs": [
    {
     "name": "stdout",
     "output_type": "stream",
     "text": [
      "[NbConvertApp] Converting notebook zaful-6.ipynb to script\n",
      "[NbConvertApp] Writing 3533 bytes to zaful-6.py\n"
     ]
    }
   ],
   "source": []
  },
  {
   "cell_type": "code",
   "execution_count": null,
   "metadata": {},
   "outputs": [],
   "source": []
  }
 ],
 "metadata": {
  "kernelspec": {
   "display_name": "Python [conda env:dev_env]",
   "language": "python",
   "name": "conda-env-dev_env-py"
  },
  "language_info": {
   "codemirror_mode": {
    "name": "ipython",
    "version": 3
   },
   "file_extension": ".py",
   "mimetype": "text/x-python",
   "name": "python",
   "nbconvert_exporter": "python",
   "pygments_lexer": "ipython3",
   "version": "3.6.8"
  }
 },
 "nbformat": 4,
 "nbformat_minor": 2
}
