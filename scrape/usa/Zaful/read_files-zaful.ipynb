{
 "cells": [
  {
   "cell_type": "code",
   "execution_count": 1,
   "metadata": {},
   "outputs": [],
   "source": [
    "import pandas as pd\n",
    "import datetime\n",
    "from datetime import timedelta\n",
    "fecha = datetime.date.today()"
   ]
  },
  {
   "cell_type": "code",
   "execution_count": 82,
   "metadata": {},
   "outputs": [],
   "source": []
  },
  {
   "cell_type": "code",
   "execution_count": null,
   "metadata": {},
   "outputs": [],
   "source": []
  },
  {
   "cell_type": "code",
   "execution_count": null,
   "metadata": {},
   "outputs": [],
   "source": [
    "XX = [i for i in items[0] if i != []]\n",
    "    \n",
    "new_list = aplanar_lista(XX)\n",
    "#new_list = aplanar_lista(items)\n",
    "\n",
    "df = pd.DataFrame(new_list)\n",
    "\n",
    "\n",
    "df.rename(columns={0:'pos',\n",
    "                  1:'id_producto',\n",
    "                  2:'talle',\n",
    "                  3:'color',\n",
    "                  4:'sexo',\n",
    "                  5:'tipo',\n",
    "                  6:'sub_categoria',\n",
    "                  7:'descripcion',\n",
    "                  8:'precio_dto',\n",
    "                  9:'precio_original',\n",
    "                  10:'img',\n",
    "                  11:'url',\n",
    "                  12:'pagina_scraper'\n",
    "                  },inplace=True)"
   ]
  },
  {
   "cell_type": "code",
   "execution_count": null,
   "metadata": {},
   "outputs": [],
   "source": []
  },
  {
   "cell_type": "code",
   "execution_count": 10,
   "metadata": {},
   "outputs": [],
   "source": [
    "fecha = fecha - timedelta(days=1)"
   ]
  },
  {
   "cell_type": "code",
   "execution_count": 15,
   "metadata": {},
   "outputs": [
    {
     "data": {
      "text/plain": [
       "'./zaful1-2019-12-03.xlsx'"
      ]
     },
     "execution_count": 15,
     "metadata": {},
     "output_type": "execute_result"
    }
   ],
   "source": [
    "f'./zaful1-{fecha}.xlsx'"
   ]
  },
  {
   "cell_type": "code",
   "execution_count": 38,
   "metadata": {},
   "outputs": [],
   "source": [
    "zaful1 = pd.read_excel(f'./Salida/zaful1-{fecha}.xlsx')\n",
    "zaful2 = pd.read_excel(f'./Salida/zaful2-{fecha}.xlsx')\n",
    "zaful3 = pd.read_excel(f'./Salida/zaful3-{fecha}.xlsx')\n",
    "zaful4 = pd.read_excel(f'./Salida/zaful4-{fecha}.xlsx')\n",
    "zaful5 = pd.read_excel(f'./Salida/zaful5-{fecha}.xlsx')\n",
    "zaful6 = pd.read_excel(f'./Salida/zaful6-{fecha}.xlsx')\n",
    "zaful7 = pd.read_excel(f'./Salida/zaful7-{fecha}.xlsx')\n",
    "zaful8 = pd.read_excel(f'./Salida/zaful8-{fecha}.xlsx')\n",
    "zaful9 = pd.read_excel(f'./Salida/zaful9-{fecha}.xlsx')"
   ]
  },
  {
   "cell_type": "code",
   "execution_count": 39,
   "metadata": {},
   "outputs": [],
   "source": [
    "zaful4.rename(columns={'stock url':'stock'},inplace=True)"
   ]
  },
  {
   "cell_type": "code",
   "execution_count": 40,
   "metadata": {},
   "outputs": [],
   "source": [
    "zaful9.rename(columns={'stock url':'stock'},inplace=True)"
   ]
  },
  {
   "cell_type": "code",
   "execution_count": 41,
   "metadata": {},
   "outputs": [],
   "source": [
    "zaful = pd.concat([zaful1,\n",
    "                   zaful2,\n",
    "                   zaful3,\n",
    "                   zaful4,\n",
    "                   zaful5,\n",
    "                   zaful6,\n",
    "                   zaful7,\n",
    "                   zaful8,\n",
    "                   zaful9,],sort=True)"
   ]
  },
  {
   "cell_type": "code",
   "execution_count": 42,
   "metadata": {},
   "outputs": [
    {
     "data": {
      "text/html": [
       "<div>\n",
       "<style scoped>\n",
       "    .dataframe tbody tr th:only-of-type {\n",
       "        vertical-align: middle;\n",
       "    }\n",
       "\n",
       "    .dataframe tbody tr th {\n",
       "        vertical-align: top;\n",
       "    }\n",
       "\n",
       "    .dataframe thead th {\n",
       "        text-align: right;\n",
       "    }\n",
       "</style>\n",
       "<table border=\"1\" class=\"dataframe\">\n",
       "  <thead>\n",
       "    <tr style=\"text-align: right;\">\n",
       "      <th></th>\n",
       "      <th>breadcrumb</th>\n",
       "      <th>color</th>\n",
       "      <th>descripcion</th>\n",
       "      <th>id_producto</th>\n",
       "      <th>img</th>\n",
       "      <th>pagina_scraper</th>\n",
       "      <th>pos</th>\n",
       "      <th>precio_dto</th>\n",
       "      <th>precio_original</th>\n",
       "      <th>sexo</th>\n",
       "      <th>stock</th>\n",
       "      <th>talle</th>\n",
       "      <th>url</th>\n",
       "    </tr>\n",
       "  </thead>\n",
       "  <tbody>\n",
       "    <tr>\n",
       "      <th>0</th>\n",
       "      <td>Sweaters  / Twist Asymmetric Crop Sweater</td>\n",
       "      <td>DARK FOREST GREEN</td>\n",
       "      <td>Twist Asymmetric Crop Sweater - Red Wine S</td>\n",
       "      <td>459492601</td>\n",
       "      <td>https://gloimg.zafcdn.com/zaful/pdm-product-pi...</td>\n",
       "      <td>https://www.zaful.com/clothes-e_1/g_1.html</td>\n",
       "      <td>0</td>\n",
       "      <td>$12.99</td>\n",
       "      <td>RRP $27.29</td>\n",
       "      <td>Women</td>\n",
       "      <td>2396</td>\n",
       "      <td>S</td>\n",
       "      <td>https://www.zaful.com/twist-asymmetric-crop-sw...</td>\n",
       "    </tr>\n",
       "    <tr>\n",
       "      <th>1</th>\n",
       "      <td>Sweaters  / Twist Asymmetric Crop Sweater</td>\n",
       "      <td>GRAY CLOUD</td>\n",
       "      <td>Twist Asymmetric Crop Sweater - Red Wine S</td>\n",
       "      <td>459492601</td>\n",
       "      <td>https://gloimg.zafcdn.com/zaful/pdm-product-pi...</td>\n",
       "      <td>https://www.zaful.com/clothes-e_1/g_1.html</td>\n",
       "      <td>0</td>\n",
       "      <td>$12.99</td>\n",
       "      <td>RRP $27.29</td>\n",
       "      <td>Women</td>\n",
       "      <td>2396</td>\n",
       "      <td>S</td>\n",
       "      <td>https://www.zaful.com/twist-asymmetric-crop-sw...</td>\n",
       "    </tr>\n",
       "    <tr>\n",
       "      <th>2</th>\n",
       "      <td>Sweaters  / Twist Asymmetric Crop Sweater</td>\n",
       "      <td>LIGHT KHAKI</td>\n",
       "      <td>Twist Asymmetric Crop Sweater - Red Wine S</td>\n",
       "      <td>459492601</td>\n",
       "      <td>https://gloimg.zafcdn.com/zaful/pdm-product-pi...</td>\n",
       "      <td>https://www.zaful.com/clothes-e_1/g_1.html</td>\n",
       "      <td>0</td>\n",
       "      <td>$12.99</td>\n",
       "      <td>RRP $27.29</td>\n",
       "      <td>Women</td>\n",
       "      <td>2396</td>\n",
       "      <td>S</td>\n",
       "      <td>https://www.zaful.com/twist-asymmetric-crop-sw...</td>\n",
       "    </tr>\n",
       "    <tr>\n",
       "      <th>3</th>\n",
       "      <td>Sweaters  / Twist Asymmetric Crop Sweater</td>\n",
       "      <td>LIGHT SKY BLUE</td>\n",
       "      <td>Twist Asymmetric Crop Sweater - Red Wine S</td>\n",
       "      <td>459492601</td>\n",
       "      <td>https://gloimg.zafcdn.com/zaful/pdm-product-pi...</td>\n",
       "      <td>https://www.zaful.com/clothes-e_1/g_1.html</td>\n",
       "      <td>0</td>\n",
       "      <td>$12.99</td>\n",
       "      <td>RRP $27.29</td>\n",
       "      <td>Women</td>\n",
       "      <td>2396</td>\n",
       "      <td>S</td>\n",
       "      <td>https://www.zaful.com/twist-asymmetric-crop-sw...</td>\n",
       "    </tr>\n",
       "    <tr>\n",
       "      <th>4</th>\n",
       "      <td>Sweaters  / Twist Asymmetric Crop Sweater</td>\n",
       "      <td>RED WINE</td>\n",
       "      <td>Twist Asymmetric Crop Sweater - Dark Forest Gr...</td>\n",
       "      <td>459492616</td>\n",
       "      <td>https://gloimg.zafcdn.com/zaful/pdm-product-pi...</td>\n",
       "      <td>https://www.zaful.com/clothes-e_1/g_1.html</td>\n",
       "      <td>0</td>\n",
       "      <td>$12.99</td>\n",
       "      <td>RRP $27.29</td>\n",
       "      <td>Women</td>\n",
       "      <td>1388</td>\n",
       "      <td>S</td>\n",
       "      <td>https://www.zaful.com/twist-asymmetric-crop-sw...</td>\n",
       "    </tr>\n",
       "  </tbody>\n",
       "</table>\n",
       "</div>"
      ],
      "text/plain": [
       "                                  breadcrumb              color  \\\n",
       "0  Sweaters  / Twist Asymmetric Crop Sweater  DARK FOREST GREEN   \n",
       "1  Sweaters  / Twist Asymmetric Crop Sweater         GRAY CLOUD   \n",
       "2  Sweaters  / Twist Asymmetric Crop Sweater        LIGHT KHAKI   \n",
       "3  Sweaters  / Twist Asymmetric Crop Sweater     LIGHT SKY BLUE   \n",
       "4  Sweaters  / Twist Asymmetric Crop Sweater           RED WINE   \n",
       "\n",
       "                                         descripcion  id_producto  \\\n",
       "0         Twist Asymmetric Crop Sweater - Red Wine S    459492601   \n",
       "1         Twist Asymmetric Crop Sweater - Red Wine S    459492601   \n",
       "2         Twist Asymmetric Crop Sweater - Red Wine S    459492601   \n",
       "3         Twist Asymmetric Crop Sweater - Red Wine S    459492601   \n",
       "4  Twist Asymmetric Crop Sweater - Dark Forest Gr...    459492616   \n",
       "\n",
       "                                                 img  \\\n",
       "0  https://gloimg.zafcdn.com/zaful/pdm-product-pi...   \n",
       "1  https://gloimg.zafcdn.com/zaful/pdm-product-pi...   \n",
       "2  https://gloimg.zafcdn.com/zaful/pdm-product-pi...   \n",
       "3  https://gloimg.zafcdn.com/zaful/pdm-product-pi...   \n",
       "4  https://gloimg.zafcdn.com/zaful/pdm-product-pi...   \n",
       "\n",
       "                               pagina_scraper  pos precio_dto precio_original  \\\n",
       "0  https://www.zaful.com/clothes-e_1/g_1.html    0     $12.99      RRP $27.29   \n",
       "1  https://www.zaful.com/clothes-e_1/g_1.html    0     $12.99      RRP $27.29   \n",
       "2  https://www.zaful.com/clothes-e_1/g_1.html    0     $12.99      RRP $27.29   \n",
       "3  https://www.zaful.com/clothes-e_1/g_1.html    0     $12.99      RRP $27.29   \n",
       "4  https://www.zaful.com/clothes-e_1/g_1.html    0     $12.99      RRP $27.29   \n",
       "\n",
       "    sexo  stock talle                                                url  \n",
       "0  Women   2396     S  https://www.zaful.com/twist-asymmetric-crop-sw...  \n",
       "1  Women   2396     S  https://www.zaful.com/twist-asymmetric-crop-sw...  \n",
       "2  Women   2396     S  https://www.zaful.com/twist-asymmetric-crop-sw...  \n",
       "3  Women   2396     S  https://www.zaful.com/twist-asymmetric-crop-sw...  \n",
       "4  Women   1388     S  https://www.zaful.com/twist-asymmetric-crop-sw...  "
      ]
     },
     "execution_count": 42,
     "metadata": {},
     "output_type": "execute_result"
    }
   ],
   "source": [
    "zaful.head()"
   ]
  },
  {
   "cell_type": "code",
   "execution_count": 49,
   "metadata": {},
   "outputs": [],
   "source": [
    "zaful['tipo'] = zaful['breadcrumb'].apply(lambda x:x.split(' / ')[0].strip())"
   ]
  },
  {
   "cell_type": "code",
   "execution_count": null,
   "metadata": {},
   "outputs": [],
   "source": [
    "zaful['precio_dto'] = (zaful[\"precio_dto\"]\n",
    "                 .str.extract(r\"([\\d,\\.]+)\", expand=False)\n",
    "                 .str.replace(\",\", \".\")\n",
    "                 .astype(float))"
   ]
  },
  {
   "cell_type": "code",
   "execution_count": 52,
   "metadata": {},
   "outputs": [],
   "source": [
    "zaful['precio_original'] = (zaful[\"precio_original\"]\n",
    "                            .str.extract(r\"([\\d,\\.]+)\", expand=False)\n",
    "                            .str.replace(\",\", \".\")\n",
    "                            .astype(float))"
   ]
  },
  {
   "cell_type": "code",
   "execution_count": null,
   "metadata": {},
   "outputs": [],
   "source": []
  },
  {
   "cell_type": "code",
   "execution_count": 60,
   "metadata": {},
   "outputs": [],
   "source": [
    "zaful.dropna(inplace=True)\n",
    "zaful.drop_duplicates().reset_index(drop=True,inplace=True)"
   ]
  },
  {
   "cell_type": "code",
   "execution_count": 61,
   "metadata": {},
   "outputs": [
    {
     "data": {
      "text/plain": [
       "146627"
      ]
     },
     "execution_count": 61,
     "metadata": {},
     "output_type": "execute_result"
    }
   ],
   "source": [
    "len(zaful)"
   ]
  },
  {
   "cell_type": "code",
   "execution_count": 64,
   "metadata": {},
   "outputs": [],
   "source": [
    "zaful['fecha'] = fecha"
   ]
  },
  {
   "cell_type": "code",
   "execution_count": 65,
   "metadata": {},
   "outputs": [],
   "source": [
    "zaful.to_excel(f'./Salida/zaful_{fecha}.xlsx')"
   ]
  },
  {
   "cell_type": "code",
   "execution_count": null,
   "metadata": {},
   "outputs": [],
   "source": []
  },
  {
   "cell_type": "code",
   "execution_count": null,
   "metadata": {},
   "outputs": [],
   "source": []
  }
 ],
 "metadata": {
  "kernelspec": {
   "display_name": "Python [conda env:dev_env]",
   "language": "python",
   "name": "conda-env-dev_env-py"
  },
  "language_info": {
   "codemirror_mode": {
    "name": "ipython",
    "version": 3
   },
   "file_extension": ".py",
   "mimetype": "text/x-python",
   "name": "python",
   "nbconvert_exporter": "python",
   "pygments_lexer": "ipython3",
   "version": "3.6.8"
  }
 },
 "nbformat": 4,
 "nbformat_minor": 2
}
