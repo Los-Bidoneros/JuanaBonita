{
 "cells": [
  {
   "cell_type": "code",
   "execution_count": 1,
   "metadata": {},
   "outputs": [],
   "source": [
    "import itertools\n",
    "from bs4 import BeautifulSoup\n",
    "import requests\n",
    "\n",
    "def scrape_url(url_aux,pos_aux,url_scraper):\n",
    "    \n",
    "    \n",
    "    lista_auxiliar = []\n",
    "    response = requests.get(url_aux)\n",
    "    soup = BeautifulSoup(response.content, \"html.parser\")\n",
    "    talles = [[i.text.strip(),i['data-sku']] for i in soup.find_all(class_='js-sizeItem')]\n",
    "    \n",
    "    try:\n",
    "        aux_tipo = [i.span for i in soup.find_all(class_='path mt20 w')]\n",
    "        aux_tipo = [i.text for i in aux_tipo[0].a.findNextSiblings()]\n",
    "    except:\n",
    "        return []\n",
    "    \n",
    "    for i in soup.find_all(class_='normal-price none pr'):\n",
    "        aux = i\n",
    "        prices = [x.text for x in aux.find_all('span')[-2:]]\n",
    "    for talle in talles:\n",
    "\n",
    "        for i in soup.find_all(class_='big-color'):\n",
    "\n",
    "            lista_auxiliar.append([pos_aux,\n",
    "                                   talle[1],\n",
    "                                   talle[0],\n",
    "                                   i.a['title'],\n",
    "                                   aux_tipo[0],\n",
    "                                   aux_tipo[1],\n",
    "                                   aux_tipo[-1].split('/')[0].strip(),\n",
    "                                   aux_tipo[-1].split('/')[1].strip(),\n",
    "                                   prices[0],\n",
    "                                   prices[1],\n",
    "                                   i.a['href'],\n",
    "                                   i.img['src'],\n",
    "                                   url_scraper\n",
    "                                  ])\n",
    "    return lista_auxiliar\n",
    "\n",
    "def scrape_batch(url_chunk,url_scrape):\n",
    "    chunk_resp = []\n",
    "    for url in url_chunk:\n",
    "        chunk_resp.append(scrape_url(url[0],url[1],url_scrape))\n",
    "    return chunk_resp\n",
    "\n",
    "def aplanar_lista(lista):\n",
    "    if type(lista[0][0]) != list:\n",
    "        return lista\n",
    "    else:\n",
    "        lista = list(itertools.chain(*lista))\n",
    "        return aplanar_lista(lista)\n",
    " "
   ]
  },
  {
   "cell_type": "code",
   "execution_count": 4,
   "metadata": {},
   "outputs": [
    {
     "name": "stdout",
     "output_type": "stream",
     "text": [
      "[NbConvertApp] Converting notebook Untitled.ipynb to script\n",
      "[NbConvertApp] Writing 1918 bytes to Untitled.py\n"
     ]
    }
   ],
   "source": [
    "!jupyter nbconvert --to script Untitled.ipynb"
   ]
  },
  {
   "cell_type": "code",
   "execution_count": null,
   "metadata": {},
   "outputs": [],
   "source": []
  }
 ],
 "metadata": {
  "kernelspec": {
   "display_name": "Python [conda env:dev_env]",
   "language": "python",
   "name": "conda-env-dev_env-py"
  },
  "language_info": {
   "codemirror_mode": {
    "name": "ipython",
    "version": 3
   },
   "file_extension": ".py",
   "mimetype": "text/x-python",
   "name": "python",
   "nbconvert_exporter": "python",
   "pygments_lexer": "ipython3",
   "version": "3.6.8"
  }
 },
 "nbformat": 4,
 "nbformat_minor": 2
}
