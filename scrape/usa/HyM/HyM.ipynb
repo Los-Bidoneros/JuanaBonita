{
 "cells": [
  {
   "cell_type": "code",
   "execution_count": 1,
   "metadata": {},
   "outputs": [],
   "source": [
    "from selenium import webdriver\n",
    "from selenium.webdriver.support.ui import WebDriverWait\n",
    "from selenium.webdriver.common.by import By\n",
    "from selenium.webdriver.support import expected_conditions as EC\n",
    "from selenium.webdriver.chrome.options import Options\n",
    "from bs4 import BeautifulSoup\n",
    "import pandas as pd\n",
    "import requests\n",
    "from time import strftime\n",
    "import datetime\n",
    "import time\n",
    "from pandas import ExcelWriter\n",
    "import re\n",
    "import pyodbc\n",
    "import asyncio\n",
    "from selenium.webdriver.common.action_chains import ActionChains\n",
    "import numpy as np\n",
    "import pdb\n",
    "#pdb.set_trace()\n",
    "from ipywidgets import IntProgress\n",
    "from IPython.display import display\n",
    "import os\n",
    "from selenium.webdriver.support import expected_conditions\n",
    "from IPython.display import clear_output"
   ]
  },
  {
   "cell_type": "code",
   "execution_count": 2,
   "metadata": {},
   "outputs": [],
   "source": [
    "TIEMPO_DE_ESPERA = 5.5\n",
    "\n",
    "start_ = datetime.datetime.now()\n",
    "fecha = datetime.date.today()\n",
    "hoy = fecha.strftime('%Y/%m/%d')\n",
    "\n",
    "user_agent = 'Mozilla/5.0 (X11; Linux x86_64) AppleWebKit/537.36 (KHTML, like Gecko) Chrome/60.0.3112.50 Safari/537.36'\n",
    "\n",
    "chrome_options = Options()\n",
    "chrome_options.add_argument(\"--headless\")\n",
    "chrome_options.add_argument(\"--no-sandbox\")\n",
    "chrome_options.add_argument(f'user-agent={user_agent}')\n",
    "chrome_options.add_argument(\"--window-size=1825x1844\")\n",
    "# options.headless = True\n",
    "browser = webdriver.Chrome( options = chrome_options)\n"
   ]
  },
  {
   "cell_type": "code",
   "execution_count": 3,
   "metadata": {},
   "outputs": [],
   "source": [
    "URLS = [['Mujer','https://www2.hm.com/content/hmonline/en_us/women/products/view-all.html/'],\n",
    "       ['Hombre','https://www2.hm.com/en_us/men/products/view-all.html'],\n",
    "       ['Kids','https://www2.hm.com/en_us/kids/products/view-all.html']]"
   ]
  },
  {
   "cell_type": "code",
   "execution_count": 4,
   "metadata": {},
   "outputs": [],
   "source": [
    "#\n",
    "paginacion_total = []\n",
    "for URL in URLS:\n",
    "    browser.get(URL[1])\n",
    "    \n",
    "    if URL[0] =='Kids':\n",
    "        paginacion_total += browser.execute_script('''\n",
    "\n",
    "            var cantidad = document.querySelector(\"#menu-links > li:nth-child(3)\").getElementsByClassName('item').length;\n",
    "\n",
    "            var arn =[]\n",
    "            var arl =[]\n",
    "\n",
    "            for (i=0;i<cantidad;i++){\n",
    "\n",
    "\n",
    "                arn.push(document.querySelector(\"#menu-links > li:nth-child(3)\").getElementsByClassName('item')[i].textContent.trim());\n",
    "\n",
    "                arl.push('https://www2.hm.com'.concat(document.querySelector(\"#menu-links > li:nth-child(3)\").getElementsByClassName('item')[i].getElementsByTagName('a')[0].getAttribute('href')));\n",
    "            }\n",
    "             function zip(a, b) {\n",
    "                              var arr = [];\n",
    "                              for (var key in a) arr.push([a[key], b[key]]);\n",
    "                              return arr;\n",
    "                            }\n",
    "            return zip(arl,arn);\n",
    "\n",
    "            ''')\n",
    "    else:\n",
    "        \n",
    "        posicion = 4    \n",
    "        paginacion_total += browser.execute_script('''\n",
    "\n",
    "        var cantidad = document.querySelector(\"#menu-links > li:nth-child('''+str(posicion)+''')\").getElementsByClassName('item').length;\n",
    "\n",
    "        var arn =[]\n",
    "        var arl =[]\n",
    "\n",
    "        for (i=0;i<cantidad;i++){\n",
    "\n",
    "\n",
    "            arn.push(document.querySelector(\"#menu-links > li:nth-child('''+str(posicion)+''')\").getElementsByClassName('item')[i].textContent.trim());\n",
    "\n",
    "            arl.push('https://www2.hm.com'.concat(document.querySelector(\"#menu-links > li:nth-child('''+str(posicion)+''')\").getElementsByClassName('item')[i].getElementsByTagName('a')[0].getAttribute('href')));\n",
    "        }\n",
    "         function zip(a, b) {\n",
    "                          var arr = [];\n",
    "                          for (var key in a) arr.push([a[key], b[key]]);\n",
    "                          return arr;\n",
    "                        }\n",
    "        return zip(arl,arn);\n",
    "\n",
    "        ''')\n",
    "\n",
    "for paginacion in paginacion_total:\n",
    "    \n",
    "    if paginacion[0].find('/men') != -1 : paginacion.append('Men')\n",
    "    if paginacion[0].find('/kids') != -1 : paginacion.append('Kids')\n",
    "    if paginacion[0].find('/women') != -1 : paginacion.append('Women')\n",
    "        "
   ]
  },
  {
   "cell_type": "code",
   "execution_count": 8,
   "metadata": {},
   "outputs": [],
   "source": [
    "dfLinks = pd.DataFrame(data=paginacion_total,columns=['url',\n",
    "                                                      'tipo',\n",
    "                                                      'sexo'])"
   ]
  },
  {
   "cell_type": "code",
   "execution_count": null,
   "metadata": {},
   "outputs": [],
   "source": []
  },
  {
   "cell_type": "code",
   "execution_count": 9,
   "metadata": {},
   "outputs": [],
   "source": [
    "dfLinks.to_excel(f'dfLinks_{str(fecha)}.xlsx')"
   ]
  },
  {
   "cell_type": "code",
   "execution_count": 10,
   "metadata": {},
   "outputs": [],
   "source": [
    "browser.quit()"
   ]
  },
  {
   "cell_type": "code",
   "execution_count": null,
   "metadata": {},
   "outputs": [],
   "source": []
  }
 ],
 "metadata": {
  "kernelspec": {
   "display_name": "Python [conda env:dev_env]",
   "language": "python",
   "name": "conda-env-dev_env-py"
  },
  "language_info": {
   "codemirror_mode": {
    "name": "ipython",
    "version": 3
   },
   "file_extension": ".py",
   "mimetype": "text/x-python",
   "name": "python",
   "nbconvert_exporter": "python",
   "pygments_lexer": "ipython3",
   "version": "3.6.8"
  }
 },
 "nbformat": 4,
 "nbformat_minor": 2
}
