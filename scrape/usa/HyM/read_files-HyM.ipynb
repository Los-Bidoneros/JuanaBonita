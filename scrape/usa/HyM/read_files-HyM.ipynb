{
 "cells": [
  {
   "cell_type": "code",
   "execution_count": 3,
   "metadata": {},
   "outputs": [],
   "source": [
    "import pandas as pd\n",
    "import datetime\n",
    "fecha = datetime.date.today()"
   ]
  },
  {
   "cell_type": "code",
   "execution_count": 2,
   "metadata": {},
   "outputs": [],
   "source": []
  },
  {
   "cell_type": "code",
   "execution_count": null,
   "metadata": {},
   "outputs": [],
   "source": []
  },
  {
   "cell_type": "code",
   "execution_count": null,
   "metadata": {},
   "outputs": [],
   "source": []
  },
  {
   "cell_type": "code",
   "execution_count": 23,
   "metadata": {},
   "outputs": [],
   "source": [
    "OLDNAVY_WOMEN = pd.read_excel('./Salida/OLDNAVY_WOMEN2019-11-19.xlsx')\n",
    "OLDNAVY_TODDLER = pd.read_excel('./Salida/OLDNAVY_TODDLER2019-11-19.xlsx')\n",
    "OLDNAVY_WOMEN_PLUS = pd.read_excel('./Salida/OLDNAVY_WOMEN_PLUS2019-11-19.xlsx')\n",
    "OLDNAVY_MEN = pd.read_excel('./Salida/OLDNAVY_MEN2019-11-19.xlsx')\n",
    "OLDNAVY_GIRL = pd.read_excel('./Salida/OLDNAVY_GIRL2019-11-19.xlsx')\n",
    "OLDNAVY_BOY = pd.read_excel('./Salida/OLDNAVY_BOY2019-11-19.xlsx')\n",
    "OLDNAVY_BABY = pd.read_excel('./Salida/OLDNAVY_BABY2019-11-19.xlsx')\n",
    "OLDNAVY_MATERNITY = pd.read_excel('./Salida/OLDNAVY_MATERNITY2019-11-19.xlsx')"
   ]
  },
  {
   "cell_type": "code",
   "execution_count": 24,
   "metadata": {},
   "outputs": [],
   "source": [
    "OLD_NAVY = pd.concat([OLDNAVY_WOMEN,\n",
    "                     OLDNAVY_TODDLER,\n",
    "                     OLDNAVY_WOMEN_PLUS,\n",
    "                     OLDNAVY_MEN,\n",
    "                     OLDNAVY_GIRL,\n",
    "                     OLDNAVY_BOY,\n",
    "                     OLDNAVY_BABY,\n",
    "                     OLDNAVY_MATERNITY],sort=True)"
   ]
  },
  {
   "cell_type": "code",
   "execution_count": 27,
   "metadata": {},
   "outputs": [],
   "source": [
    "OLD_NAVY.drop(8,axis=1,inplace=True)"
   ]
  },
  {
   "cell_type": "code",
   "execution_count": 28,
   "metadata": {},
   "outputs": [],
   "source": [
    "OLD_NAVY.dropna(inplace=True)\n",
    "OLD_NAVY.drop_duplicates().reset_index(drop=True,inplace=True)"
   ]
  },
  {
   "cell_type": "code",
   "execution_count": 29,
   "metadata": {},
   "outputs": [],
   "source": [
    "OLD_NAVY['fecha'] = datetime.date.today()"
   ]
  },
  {
   "cell_type": "code",
   "execution_count": 30,
   "metadata": {},
   "outputs": [
    {
     "data": {
      "text/plain": [
       "datetime.date(2019, 11, 20)"
      ]
     },
     "execution_count": 30,
     "metadata": {},
     "output_type": "execute_result"
    }
   ],
   "source": []
  },
  {
   "cell_type": "code",
   "execution_count": 31,
   "metadata": {},
   "outputs": [],
   "source": [
    "OLD_NAVY.to_excel(f'./Salida/OLD_NAVY{fecha}.xlsx')"
   ]
  },
  {
   "cell_type": "code",
   "execution_count": null,
   "metadata": {},
   "outputs": [],
   "source": []
  },
  {
   "cell_type": "code",
   "execution_count": 3,
   "metadata": {},
   "outputs": [],
   "source": [
    "FMEN = pd.read_excel('./Salida/F21MEN2019-11-08.xlsx')\n",
    "FPLUS = pd.read_excel('./Salida/F21PLUS_SIZE2019-11-08.xlsx')\n",
    "FGIRL = pd.read_excel('./Salida/F21GIRL2019-11-08.xlsx')\n",
    "FWOMEN = pd.read_excel('./Salida/F21WOMEN2019-11-08.xlsx')"
   ]
  },
  {
   "cell_type": "code",
   "execution_count": 4,
   "metadata": {},
   "outputs": [],
   "source": [
    "F21 = pd.concat([FMEN,\n",
    "                FPLUS,\n",
    "                FGIRL,\n",
    "                FWOMEN],sort=True)"
   ]
  },
  {
   "cell_type": "code",
   "execution_count": 5,
   "metadata": {},
   "outputs": [],
   "source": [
    "F21['precio_dto'] = F21['precio'].apply(lambda x : x.split('$')[2] if len(x.split('$')) == 3 else x.split('$')[1])\n",
    "\n",
    "F21['precio_original'] = F21['precio'].apply(lambda x : x.split('$')[1] if len(x.split('$')) == 3 else x.split('$')[1])"
   ]
  },
  {
   "cell_type": "code",
   "execution_count": 6,
   "metadata": {},
   "outputs": [],
   "source": [
    "F21.dropna(inplace=True)\n",
    "F21.drop_duplicates().reset_index(drop=True,inplace=True)"
   ]
  },
  {
   "cell_type": "code",
   "execution_count": 7,
   "metadata": {},
   "outputs": [],
   "source": [
    "F21['fecha'] = '2019-11-08'"
   ]
  },
  {
   "cell_type": "code",
   "execution_count": 10,
   "metadata": {},
   "outputs": [],
   "source": [
    "F21.to_excel(f'./Salida/F21{fecha}.xlsx')"
   ]
  },
  {
   "cell_type": "code",
   "execution_count": null,
   "metadata": {},
   "outputs": [],
   "source": []
  },
  {
   "cell_type": "code",
   "execution_count": 17,
   "metadata": {},
   "outputs": [
    {
     "name": "stdout",
     "output_type": "stream",
     "text": [
      "2019-11-20\n"
     ]
    }
   ],
   "source": []
  },
  {
   "cell_type": "code",
   "execution_count": 18,
   "metadata": {},
   "outputs": [
    {
     "data": {
      "text/plain": [
       "['OLD_NAVY = pd.concat([OLDNAVY_WOMEN,\\n                     OLDNAVY_TODDLER,\\n                     OLDNAVY_WOMEN_PLUS,\\n                     OLDNAVY_MEN,\\n                     OLDNAVY_GIRL,\\n                     OLDNAVY_BOY,\\n                     OLDNAVY_BABY,\\n                     OLDNAVY_MATERNITY],sort=True)',\n",
       " 'len(OLD_NAVY.dropna())',\n",
       " 'OLD_NAVY',\n",
       " 'print(fecha)',\n",
       " '_ih[-5:]']"
      ]
     },
     "execution_count": 18,
     "metadata": {},
     "output_type": "execute_result"
    }
   ],
   "source": [
    "_ih[-5:]"
   ]
  },
  {
   "cell_type": "code",
   "execution_count": 19,
   "metadata": {},
   "outputs": [
    {
     "data": {
      "text/plain": [
       "['',\n",
       " 'import pandas as pd\\nfecha = datetime.date.today()',\n",
       " 'import datetime',\n",
       " 'import pandas as pd\\nimport datetime\\nfecha = datetime.date.today()',\n",
       " \"OLDNAVY_WOMEN = pd.read_excel('./Salida/OLDNAVY_WOMEN2019-11-19.xlsx')\\nOLDNAVY_TODDLER = pd.read_excel('./Salida/OLDNAVY_TODDLER2019-11-19.xlsx')\\nOLDNAVY_WOMEN_PLUS = pd.read_excel('./Salida/OLDNAVY_WOMEN_PLUS2019-11-19.xlsx')\\nOLDNAVY_MEN = pd.read_excel('./Salida/OLDNAVY_MEN2019-11-19.xlsx')\\nOLDNAVY_GIRL = pd.read_excel('./Salida/OLDNAVY_GIRL2019-11-19.xlsx')\\nOLDNAVY_BOY = pd.read_excel('./Salida/OLDNAVY_BOY2019-11-19.xlsx')\\nOLDNAVY_BABY = pd.read_excel('./Salida/OLDNAVY_BABY2019-11-19.xlsx')\\nOLDNAVY_MATERNITY = pd.read_excel('./Salida/OLDNAVY_MATERNITY2019-11-19.xlsx')\",\n",
       " 'OLD_NAVY = pd.concat([OLDNAVY_WOMEN,\\n                     OLDNAVY_TODDLER,\\n                     OLDNAVY_WOMEN_PLUS,\\n                     OLDNAVY_MEN,\\n                     OLDNAVY_GIRL,\\n                     OLDNAVY_BOY,\\n                     OLDNAVY_BABY,\\n                     OLDNAVY_MATERNITY],sort=True)',\n",
       " 'OLD_NAVY.dropna(inplace=True)\\nOLD_NAVY.drop_duplicates().reset_index(drop=True,inplace=True)',\n",
       " \"OLD_NAVY['fecha'] = datetime.date.today()\",\n",
       " \"OLD_NAVY.to_excel(f'./Salida/OLD_NAVY{fecha}.xlsx')\",\n",
       " 'OLD_NAVY',\n",
       " 'OLD_NAVY = pd.concat([OLDNAVY_WOMEN,\\n                     OLDNAVY_TODDLER,\\n                     OLDNAVY_WOMEN_PLUS,\\n                     OLDNAVY_MEN,\\n                     OLDNAVY_GIRL,\\n                     OLDNAVY_BOY,\\n                     OLDNAVY_BABY,\\n                     OLDNAVY_MATERNITY],sort=True)',\n",
       " 'OLD_NAVY',\n",
       " 'OLD_NAVY.dropna(inplace=True)\\nOLD_NAVY.drop_duplicates().reset_index(drop=True,inplace=True)',\n",
       " 'len(OLD_NAVY)',\n",
       " 'OLD_NAVY = pd.concat([OLDNAVY_WOMEN,\\n                     OLDNAVY_TODDLER,\\n                     OLDNAVY_WOMEN_PLUS,\\n                     OLDNAVY_MEN,\\n                     OLDNAVY_GIRL,\\n                     OLDNAVY_BOY,\\n                     OLDNAVY_BABY,\\n                     OLDNAVY_MATERNITY],sort=True)',\n",
       " 'len(OLD_NAVY.dropna())',\n",
       " 'OLD_NAVY',\n",
       " 'print(fecha)',\n",
       " '_ih[-5:]',\n",
       " '_ih']"
      ]
     },
     "execution_count": 19,
     "metadata": {},
     "output_type": "execute_result"
    }
   ],
   "source": [
    "_ih"
   ]
  },
  {
   "cell_type": "code",
   "execution_count": 22,
   "metadata": {},
   "outputs": [
    {
     "data": {
      "text/plain": [
       "['',\n",
       " 'import pandas as pd\\nfecha = datetime.date.today()',\n",
       " 'import datetime',\n",
       " 'import pandas as pd\\nimport datetime\\nfecha = datetime.date.today()',\n",
       " \"OLDNAVY_WOMEN = pd.read_excel('./Salida/OLDNAVY_WOMEN2019-11-19.xlsx')\\nOLDNAVY_TODDLER = pd.read_excel('./Salida/OLDNAVY_TODDLER2019-11-19.xlsx')\\nOLDNAVY_WOMEN_PLUS = pd.read_excel('./Salida/OLDNAVY_WOMEN_PLUS2019-11-19.xlsx')\\nOLDNAVY_MEN = pd.read_excel('./Salida/OLDNAVY_MEN2019-11-19.xlsx')\\nOLDNAVY_GIRL = pd.read_excel('./Salida/OLDNAVY_GIRL2019-11-19.xlsx')\\nOLDNAVY_BOY = pd.read_excel('./Salida/OLDNAVY_BOY2019-11-19.xlsx')\\nOLDNAVY_BABY = pd.read_excel('./Salida/OLDNAVY_BABY2019-11-19.xlsx')\\nOLDNAVY_MATERNITY = pd.read_excel('./Salida/OLDNAVY_MATERNITY2019-11-19.xlsx')\",\n",
       " 'OLD_NAVY = pd.concat([OLDNAVY_WOMEN,\\n                     OLDNAVY_TODDLER,\\n                     OLDNAVY_WOMEN_PLUS,\\n                     OLDNAVY_MEN,\\n                     OLDNAVY_GIRL,\\n                     OLDNAVY_BOY,\\n                     OLDNAVY_BABY,\\n                     OLDNAVY_MATERNITY],sort=True)',\n",
       " 'OLD_NAVY.dropna(inplace=True)\\nOLD_NAVY.drop_duplicates().reset_index(drop=True,inplace=True)',\n",
       " \"OLD_NAVY['fecha'] = datetime.date.today()\",\n",
       " \"OLD_NAVY.to_excel(f'./Salida/OLD_NAVY{fecha}.xlsx')\",\n",
       " 'OLD_NAVY',\n",
       " 'OLD_NAVY = pd.concat([OLDNAVY_WOMEN,\\n                     OLDNAVY_TODDLER,\\n                     OLDNAVY_WOMEN_PLUS,\\n                     OLDNAVY_MEN,\\n                     OLDNAVY_GIRL,\\n                     OLDNAVY_BOY,\\n                     OLDNAVY_BABY,\\n                     OLDNAVY_MATERNITY],sort=True)',\n",
       " 'OLD_NAVY',\n",
       " 'OLD_NAVY.dropna(inplace=True)\\nOLD_NAVY.drop_duplicates().reset_index(drop=True,inplace=True)',\n",
       " 'len(OLD_NAVY)',\n",
       " 'OLD_NAVY = pd.concat([OLDNAVY_WOMEN,\\n                     OLDNAVY_TODDLER,\\n                     OLDNAVY_WOMEN_PLUS,\\n                     OLDNAVY_MEN,\\n                     OLDNAVY_GIRL,\\n                     OLDNAVY_BOY,\\n                     OLDNAVY_BABY,\\n                     OLDNAVY_MATERNITY],sort=True)',\n",
       " 'len(OLD_NAVY.dropna())',\n",
       " 'OLD_NAVY',\n",
       " 'print(fecha)',\n",
       " '_ih[-5:]',\n",
       " '_ih',\n",
       " 'type(_ih)',\n",
       " 'print(_ih)',\n",
       " '_ih']"
      ]
     },
     "execution_count": 22,
     "metadata": {},
     "output_type": "execute_result"
    }
   ],
   "source": [
    "_ih"
   ]
  },
  {
   "cell_type": "code",
   "execution_count": null,
   "metadata": {},
   "outputs": [],
   "source": []
  },
  {
   "cell_type": "code",
   "execution_count": 42,
   "metadata": {},
   "outputs": [],
   "source": [
    "x = [1,2,3,4,5,6,7,8,9]"
   ]
  },
  {
   "cell_type": "code",
   "execution_count": 43,
   "metadata": {},
   "outputs": [
    {
     "name": "stdout",
     "output_type": "stream",
     "text": [
      "1 [2, 3, 4, 5, 6, 7, 8, 9, 1]\n",
      "3 [3, 4, 5, 6, 7, 8, 9, 1, 3]\n",
      "5 [4, 5, 6, 7, 8, 9, 1, 3, 5]\n",
      "7 [5, 6, 7, 8, 9, 1, 3, 5, 7]\n",
      "9 [6, 7, 8, 9, 1, 3, 5, 7, 9]\n",
      "3 [7, 8, 9, 1, 3, 5, 7, 9, 3]\n",
      "7 [8, 9, 1, 3, 5, 7, 9, 3, 7]\n",
      "3 [9, 1, 3, 5, 7, 9, 3, 7, 3]\n",
      "3 [1, 3, 5, 7, 9, 3, 7, 3, 3]\n"
     ]
    }
   ],
   "source": [
    "for m in x:\n",
    "    x.append(m)\n",
    "    x.pop(0)\n",
    "    print(m,x)"
   ]
  },
  {
   "cell_type": "code",
   "execution_count": null,
   "metadata": {},
   "outputs": [],
   "source": []
  }
 ],
 "metadata": {
  "kernelspec": {
   "display_name": "Python [conda env:dev_env]",
   "language": "python",
   "name": "conda-env-dev_env-py"
  },
  "language_info": {
   "codemirror_mode": {
    "name": "ipython",
    "version": 3
   },
   "file_extension": ".py",
   "mimetype": "text/x-python",
   "name": "python",
   "nbconvert_exporter": "python",
   "pygments_lexer": "ipython3",
   "version": "3.6.8"
  }
 },
 "nbformat": 4,
 "nbformat_minor": 2
}
