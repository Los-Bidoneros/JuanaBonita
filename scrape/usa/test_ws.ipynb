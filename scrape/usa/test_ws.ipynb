{
 "cells": [
  {
   "cell_type": "code",
   "execution_count": 1,
   "metadata": {},
   "outputs": [],
   "source": [
    "from selenium import webdriver\n",
    "from selenium.webdriver.support.ui import WebDriverWait\n",
    "from selenium.webdriver.common.by import By\n",
    "from selenium.webdriver.common.action_chains import ActionChains\n",
    "from selenium.webdriver.support import expected_conditions as EC\n",
    "from selenium.webdriver.chrome.options import Options\n",
    "from bs4 import BeautifulSoup\n",
    "import requests\n",
    "import os\n",
    "from selenium.webdriver.support import expected_conditions"
   ]
  },
  {
   "cell_type": "code",
   "execution_count": null,
   "metadata": {},
   "outputs": [],
   "source": []
  },
  {
   "cell_type": "code",
   "execution_count": null,
   "metadata": {},
   "outputs": [],
   "source": [
    "#In chrome, help > about Chrome . (to see which version you use and is compatible with chromedriver)\n",
    "\n",
    "#you have to download ChromeDriver and place it in the same folder where you have your scripts\n",
    "#to run it this way, but you must send the directory where your chromdriver.exe is located by parameter\n",
    "#\n",
    "#https://chromedriver.chromium.org/"
   ]
  },
  {
   "cell_type": "code",
   "execution_count": 2,
   "metadata": {},
   "outputs": [],
   "source": [
    "user_agent = 'Mozilla/5.0 (X11; Linux x86_64) AppleWebKit/537.36 (KHTML, like Gecko) Chrome/60.0.3112.50 Safari/537.36'\n",
    "\n",
    "#This configuration creates a \"browser\" object and opens it in \"headless\" mode \n",
    "#(it runs but is not visible, you can see it in \"running processes\")\n",
    "\n",
    "chrome_options = Options()\n",
    "chrome_options.add_argument(\"--headless\")\n",
    "chrome_options.add_argument(\"--no-sandbox\")\n",
    "chrome_options.add_argument(f'user-agent={user_agent}')\n",
    "chrome_options.add_argument(\"--window-size=1825x1444\")\n",
    "browser = webdriver.Chrome(options = chrome_options)\n"
   ]
  },
  {
   "cell_type": "code",
   "execution_count": 3,
   "metadata": {},
   "outputs": [],
   "source": [
    "url_base ='https://www.lazada.sg/'"
   ]
  },
  {
   "cell_type": "code",
   "execution_count": 5,
   "metadata": {},
   "outputs": [],
   "source": [
    "browser.quit()"
   ]
  },
  {
   "cell_type": "code",
   "execution_count": 4,
   "metadata": {},
   "outputs": [],
   "source": [
    "#request \n",
    "browser.get(url_base)"
   ]
  },
  {
   "cell_type": "code",
   "execution_count": 8,
   "metadata": {},
   "outputs": [],
   "source": [
    "#find element to click\n",
    "browser.find_element_by_link_text('Babies & Toys').click()"
   ]
  },
  {
   "cell_type": "code",
   "execution_count": 11,
   "metadata": {},
   "outputs": [],
   "source": [
    "\n",
    "list_subs = browser.find_elements_by_class_name('lzd-site-menu-sub-item')"
   ]
  },
  {
   "cell_type": "code",
   "execution_count": 15,
   "metadata": {},
   "outputs": [],
   "source": [
    "#Loop to got it only links (Babies & Toys)\n",
    "full_links = [[i.text ,i.find_element_by_tag_name('a').get_attribute('href')] for i in list_subs if i.text != '']         "
   ]
  },
  {
   "cell_type": "code",
   "execution_count": 18,
   "metadata": {},
   "outputs": [
    {
     "name": "stdout",
     "output_type": "stream",
     "text": [
      "Mother & Baby a\n",
      "Diapering & Potty a\n",
      "Milk Formula & Baby Food a\n",
      "Baby Fashion & Accessories a\n",
      "Feeding Essentials a\n",
      "Baby Gear a\n",
      "Nursery a\n",
      "Baby Personal Care a\n",
      "Toys & Games a\n",
      "Electronic & Remote Control Toys a\n",
      "Sports Toys & Outdoor Play a\n",
      "Baby & Toddler Toys a\n"
     ]
    }
   ],
   "source": [
    "#Its a example,\n",
    "#In 3 hours I have time to eat, and I help you get the items and how to click on \"next page\"  \n",
    "for link in full_links:\n",
    "    print(f'request : {link[0]}')\n",
    "    \n",
    "    browser.get(link[1])\n",
    "    #Total pages of pagination\n",
    "    MAX_PAGE = browser.find_element_by_class_name('ant-pagination').find_elements_by_tag_name('li')[-2].text\n",
    "    MAX_PAGE = int(MAX_PAGE)\n",
    "    for i in range(MAX_PAGE):\n",
    "        \n",
    "        #quantity of products\n",
    "        PRODUCTS = browser.find_elements_by_class_name('c2prKC')\n",
    "        #loop to scrape\n",
    "        for item in PRODUCTS:\n",
    "            id_ = item.get_attribute('data-item-id')\n",
    "            href_ = item.find_element_by_tag_name('a').get_attribute('href')\n",
    "            title_ = .find_element_by_class_name('c16H9d').find_element_by_tag_name('a').get_attribute('title')\n",
    "            list_items.append([id_,href_,title_])\n",
    "    #comment break if you want to do it all \n",
    "    break\n",
    "    \n",
    "    "
   ]
  },
  {
   "cell_type": "code",
   "execution_count": 53,
   "metadata": {},
   "outputs": [],
   "source": [
    "#kill process. free mem\n",
    "browser.quit()"
   ]
  },
  {
   "cell_type": "code",
   "execution_count": null,
   "metadata": {},
   "outputs": [],
   "source": []
  }
 ],
 "metadata": {
  "kernelspec": {
   "display_name": "Python [conda env:dev_env]",
   "language": "python",
   "name": "conda-env-dev_env-py"
  },
  "language_info": {
   "codemirror_mode": {
    "name": "ipython",
    "version": 3
   },
   "file_extension": ".py",
   "mimetype": "text/x-python",
   "name": "python",
   "nbconvert_exporter": "python",
   "pygments_lexer": "ipython3",
   "version": "3.6.8"
  }
 },
 "nbformat": 4,
 "nbformat_minor": 2
}
