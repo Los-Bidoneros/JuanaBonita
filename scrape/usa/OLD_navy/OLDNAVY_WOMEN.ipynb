{
 "cells": [
  {
   "cell_type": "code",
   "execution_count": 1,
   "metadata": {},
   "outputs": [],
   "source": [
    "from selenium import webdriver\n",
    "from selenium.webdriver.support.ui import WebDriverWait\n",
    "from selenium.webdriver.common.by import By\n",
    "from selenium.webdriver.support import expected_conditions as EC\n",
    "from selenium.webdriver.chrome.options import Options\n",
    "from bs4 import BeautifulSoup\n",
    "import pandas as pd\n",
    "import requests\n",
    "from time import strftime\n",
    "import datetime\n",
    "import time\n",
    "import re\n",
    "import pyodbc\n",
    "from selenium.webdriver.common.action_chains import ActionChains\n",
    "import numpy as np\n",
    "import json\n",
    "import os\n",
    "from selenium.webdriver.support import expected_conditions\n",
    "from sc_header import quitar_modales, createDriver, get_categorias, get_all_urls, scrape_batch, scrape_url,get_hrefs"
   ]
  },
  {
   "cell_type": "code",
   "execution_count": 2,
   "metadata": {},
   "outputs": [],
   "source": [
    "start_ = datetime.datetime.now()\n",
    "fecha = datetime.date.today()\n",
    "hoy = fecha.strftime('%Y/%m/%d')\n",
    "url_base = \"https://oldnavy.gap.com\""
   ]
  },
  {
   "cell_type": "code",
   "execution_count": 3,
   "metadata": {},
   "outputs": [],
   "source": [
    "ipath = f'OLDNAVY_LINKS{fecha}.xlsx'\n",
    "\n",
    "dfLinks = pd.read_excel(ipath)"
   ]
  },
  {
   "cell_type": "code",
   "execution_count": 4,
   "metadata": {},
   "outputs": [],
   "source": [
    "dfLinks = dfLinks[dfLinks['sexo']=='Women']"
   ]
  },
  {
   "cell_type": "code",
   "execution_count": 5,
   "metadata": {},
   "outputs": [],
   "source": [
    "browser = createDriver()\n",
    "browser.get(url_base)"
   ]
  },
  {
   "cell_type": "code",
   "execution_count": 6,
   "metadata": {},
   "outputs": [],
   "source": [
    "quitar_modales(browser)"
   ]
  },
  {
   "cell_type": "code",
   "execution_count": 7,
   "metadata": {},
   "outputs": [],
   "source": [
    "dfLinks.reset_index(drop=True,inplace=True)"
   ]
  },
  {
   "cell_type": "code",
   "execution_count": 8,
   "metadata": {},
   "outputs": [],
   "source": [
    "df = get_hrefs(dfLinks,browser)"
   ]
  },
  {
   "cell_type": "code",
   "execution_count": 9,
   "metadata": {},
   "outputs": [],
   "source": [
    "start_ = datetime.datetime.now()\n",
    "items = []\n",
    "\n",
    "batch_size = 5\n",
    "url_chunks = [df[x:x+batch_size] for x in range(0, len(df), batch_size)]\n",
    "\n",
    "for url_chunk in url_chunks:\n",
    "    items.append(scrape_batch(url_chunk))\n",
    "end_ = datetime.datetime.now()"
   ]
  },
  {
   "cell_type": "code",
   "execution_count": 10,
   "metadata": {},
   "outputs": [
    {
     "data": {
      "text/plain": [
       "216"
      ]
     },
     "execution_count": 10,
     "metadata": {},
     "output_type": "execute_result"
    }
   ],
   "source": [
    "len(items)"
   ]
  },
  {
   "cell_type": "code",
   "execution_count": 15,
   "metadata": {},
   "outputs": [],
   "source": [
    "browser.quit()"
   ]
  },
  {
   "cell_type": "code",
   "execution_count": null,
   "metadata": {},
   "outputs": [],
   "source": []
  },
  {
   "cell_type": "code",
   "execution_count": 11,
   "metadata": {},
   "outputs": [],
   "source": [
    "import itertools\n",
    "def aplanar_lista(lista):\n",
    "    if type(lista[0][0]) != list:\n",
    "        return lista\n",
    "    else:\n",
    "        lista = list(itertools.chain(*lista))\n",
    "        return aplanar_lista(lista)"
   ]
  },
  {
   "cell_type": "code",
   "execution_count": 12,
   "metadata": {},
   "outputs": [],
   "source": [
    "new_list = aplanar_lista(items)\n",
    "\n",
    "df = pd.DataFrame(new_list)"
   ]
  },
  {
   "cell_type": "code",
   "execution_count": 13,
   "metadata": {},
   "outputs": [
    {
     "data": {
      "text/plain": [
       "1076"
      ]
     },
     "execution_count": 13,
     "metadata": {},
     "output_type": "execute_result"
    }
   ],
   "source": [
    "len(df)"
   ]
  },
  {
   "cell_type": "code",
   "execution_count": 14,
   "metadata": {},
   "outputs": [
    {
     "data": {
      "text/html": [
       "<div>\n",
       "<style scoped>\n",
       "    .dataframe tbody tr th:only-of-type {\n",
       "        vertical-align: middle;\n",
       "    }\n",
       "\n",
       "    .dataframe tbody tr th {\n",
       "        vertical-align: top;\n",
       "    }\n",
       "\n",
       "    .dataframe thead th {\n",
       "        text-align: right;\n",
       "    }\n",
       "</style>\n",
       "<table border=\"1\" class=\"dataframe\">\n",
       "  <thead>\n",
       "    <tr style=\"text-align: right;\">\n",
       "      <th></th>\n",
       "      <th>0</th>\n",
       "      <th>1</th>\n",
       "      <th>2</th>\n",
       "      <th>3</th>\n",
       "      <th>4</th>\n",
       "      <th>5</th>\n",
       "      <th>6</th>\n",
       "      <th>7</th>\n",
       "      <th>8</th>\n",
       "      <th>9</th>\n",
       "      <th>10</th>\n",
       "      <th>11</th>\n",
       "      <th>12</th>\n",
       "      <th>13</th>\n",
       "      <th>14</th>\n",
       "    </tr>\n",
       "  </thead>\n",
       "  <tbody>\n",
       "    <tr>\n",
       "      <th>0</th>\n",
       "      <td>-1</td>\n",
       "      <td>-1</td>\n",
       "      <td>-1</td>\n",
       "      <td>-1</td>\n",
       "      <td>-1</td>\n",
       "      <td>-1</td>\n",
       "      <td>-1</td>\n",
       "      <td>-1</td>\n",
       "      <td>-1</td>\n",
       "      <td>-1</td>\n",
       "      <td>-1</td>\n",
       "      <td>-1</td>\n",
       "      <td>-1</td>\n",
       "      <td>-1</td>\n",
       "      <td>-1</td>\n",
       "    </tr>\n",
       "    <tr>\n",
       "      <th>1</th>\n",
       "      <td>-1</td>\n",
       "      <td>-1</td>\n",
       "      <td>-1</td>\n",
       "      <td>-1</td>\n",
       "      <td>-1</td>\n",
       "      <td>-1</td>\n",
       "      <td>-1</td>\n",
       "      <td>-1</td>\n",
       "      <td>-1</td>\n",
       "      <td>-1</td>\n",
       "      <td>-1</td>\n",
       "      <td>-1</td>\n",
       "      <td>-1</td>\n",
       "      <td>-1</td>\n",
       "      <td>-1</td>\n",
       "    </tr>\n",
       "    <tr>\n",
       "      <th>2</th>\n",
       "      <td>-1</td>\n",
       "      <td>-1</td>\n",
       "      <td>-1</td>\n",
       "      <td>-1</td>\n",
       "      <td>-1</td>\n",
       "      <td>-1</td>\n",
       "      <td>-1</td>\n",
       "      <td>-1</td>\n",
       "      <td>-1</td>\n",
       "      <td>-1</td>\n",
       "      <td>-1</td>\n",
       "      <td>-1</td>\n",
       "      <td>-1</td>\n",
       "      <td>-1</td>\n",
       "      <td>-1</td>\n",
       "    </tr>\n",
       "    <tr>\n",
       "      <th>3</th>\n",
       "      <td>-1</td>\n",
       "      <td>-1</td>\n",
       "      <td>-1</td>\n",
       "      <td>-1</td>\n",
       "      <td>-1</td>\n",
       "      <td>-1</td>\n",
       "      <td>-1</td>\n",
       "      <td>-1</td>\n",
       "      <td>-1</td>\n",
       "      <td>-1</td>\n",
       "      <td>-1</td>\n",
       "      <td>-1</td>\n",
       "      <td>-1</td>\n",
       "      <td>-1</td>\n",
       "      <td>-1</td>\n",
       "    </tr>\n",
       "    <tr>\n",
       "      <th>4</th>\n",
       "      <td>-1</td>\n",
       "      <td>-1</td>\n",
       "      <td>-1</td>\n",
       "      <td>-1</td>\n",
       "      <td>-1</td>\n",
       "      <td>-1</td>\n",
       "      <td>-1</td>\n",
       "      <td>-1</td>\n",
       "      <td>-1</td>\n",
       "      <td>-1</td>\n",
       "      <td>-1</td>\n",
       "      <td>-1</td>\n",
       "      <td>-1</td>\n",
       "      <td>-1</td>\n",
       "      <td>-1</td>\n",
       "    </tr>\n",
       "  </tbody>\n",
       "</table>\n",
       "</div>"
      ],
      "text/plain": [
       "   0   1   2   3   4   5   6   7   8   9   10  11  12  13  14\n",
       "0  -1  -1  -1  -1  -1  -1  -1  -1  -1  -1  -1  -1  -1  -1  -1\n",
       "1  -1  -1  -1  -1  -1  -1  -1  -1  -1  -1  -1  -1  -1  -1  -1\n",
       "2  -1  -1  -1  -1  -1  -1  -1  -1  -1  -1  -1  -1  -1  -1  -1\n",
       "3  -1  -1  -1  -1  -1  -1  -1  -1  -1  -1  -1  -1  -1  -1  -1\n",
       "4  -1  -1  -1  -1  -1  -1  -1  -1  -1  -1  -1  -1  -1  -1  -1"
      ]
     },
     "execution_count": 14,
     "metadata": {},
     "output_type": "execute_result"
    }
   ],
   "source": [
    "df.head()"
   ]
  },
  {
   "cell_type": "code",
   "execution_count": 505,
   "metadata": {},
   "outputs": [],
   "source": [
    "if 1 == 2:\n",
    "    \n",
    "    #url_aux = items[0][0][0][-2]\n",
    "                             \n",
    "    response = requests.get(url_aux)\n",
    "    soup = BeautifulSoup(response.content, \"html.parser\")\n",
    "    try:\n",
    "        time.sleep(.3)\n",
    "        metadatos = json.loads(soup.find('script', type='application/ld+json').text)\n",
    "    except:\n",
    "        print(url_aux)\n",
    "\n",
    "    id_producto = metadatos[0]['productID'] #--- ID PRODUCTO\n",
    "    descripcion = metadatos[0]['name'] #--- DESCRIPCION\n",
    "\n",
    "    F = []\n",
    "    pos_aux = 0\n",
    "\n",
    "    for item in metadatos[0]['offers']:\n",
    "\n",
    "        sku = item['itemOffered']['sku'] #SKU\n",
    "        jpg = item['itemOffered']['image'] #JPG\n",
    "        marca = item['seller']['name'] #MARCA\n",
    "        color = item['itemOffered']['color'] #COLOR\n",
    "        precio_dto = item['price'] #PRECIO\n",
    "\n",
    "        precio = precio_dto\n",
    "        condicion = item['itemCondition']#CONDICION : NEW/ Y NOSE\n",
    "        disponibilidad = item['availability'] #DISPONIBILIDAD : INSTOCK/OUTSTOCK\n",
    "\n",
    "        F.append([pos_aux,\n",
    "                id_producto,\n",
    "                descripcion,\n",
    "                precio,\n",
    "                sku,\n",
    "                jpg,\n",
    "                marca,\n",
    "                color,\n",
    "                precio_dto,\n",
    "                condicion,\n",
    "                disponibilidad,\n",
    "                url_aux])\n"
   ]
  },
  {
   "cell_type": "code",
   "execution_count": 526,
   "metadata": {},
   "outputs": [
    {
     "data": {
      "text/plain": [
       "0       0000\n",
       "1       0001\n",
       "2       0002\n",
       "3       0003\n",
       "4       0004\n",
       "5       0005\n",
       "6       0104\n",
       "7       0204\n",
       "8       0304\n",
       "9       0404\n",
       "10      0504\n",
       "11      4002\n",
       "12      4003\n",
       "13      4004\n",
       "14      4005\n",
       "15      4006\n",
       "16      0000\n",
       "17      0001\n",
       "18      0002\n",
       "19      0003\n",
       "20      0004\n",
       "21      0005\n",
       "22      0001\n",
       "23      0002\n",
       "24      0003\n",
       "25      0004\n",
       "26      0005\n",
       "27      0000\n",
       "28      0000\n",
       "29      0001\n",
       "        ... \n",
       "2126    4005\n",
       "2127    4006\n",
       "2128    4002\n",
       "2129    4003\n",
       "2130    4004\n",
       "2131    4005\n",
       "2132    4006\n",
       "2133    4003\n",
       "2134    4004\n",
       "2135    4005\n",
       "2136    4006\n",
       "2137    4002\n",
       "2138    0000\n",
       "2139    0001\n",
       "2140    0002\n",
       "2141    0003\n",
       "2142    0004\n",
       "2143    0005\n",
       "2144    0000\n",
       "2145    0001\n",
       "2146    0002\n",
       "2147    0003\n",
       "2148    0004\n",
       "2149    0005\n",
       "2150    0000\n",
       "2151    0001\n",
       "2152    0002\n",
       "2153    0003\n",
       "2154    0004\n",
       "2155    0005\n",
       "Name: 6, Length: 2156, dtype: object"
      ]
     },
     "execution_count": 526,
     "metadata": {},
     "output_type": "execute_result"
    }
   ],
   "source": [
    "df[6].apply(lambda x: x[-4:])"
   ]
  },
  {
   "cell_type": "code",
   "execution_count": null,
   "metadata": {},
   "outputs": [],
   "source": []
  },
  {
   "cell_type": "code",
   "execution_count": null,
   "metadata": {},
   "outputs": [],
   "source": []
  },
  {
   "cell_type": "code",
   "execution_count": 536,
   "metadata": {},
   "outputs": [],
   "source": []
  },
  {
   "cell_type": "code",
   "execution_count": 550,
   "metadata": {},
   "outputs": [],
   "source": [
    "master_talles = pd.DataFrame({'codigo_talle':['0000','0001','0002','0003','0004','0005','0104','0204','0304','0404',\n",
    "                                              '0504','1004','4002','4003','4004','4005','4006','4007'],\n",
    "                              'nombre_talle':['REGULAR XS','REGULAR S','REGULAR M','REGULAR L','REGULAR XL','REGULAR XXL',\n",
    "                                              'TALL S','TALL M','TALL L','TALL XL','TALL XXL','TALL XS','PETITE XS',\n",
    "                                              'PETITE S','PETITE M','PETITE L','PETITE XL','PETITE XXL']\n",
    "            })"
   ]
  },
  {
   "cell_type": "code",
   "execution_count": null,
   "metadata": {},
   "outputs": [],
   "source": []
  },
  {
   "cell_type": "code",
   "execution_count": 557,
   "metadata": {},
   "outputs": [],
   "source": [
    "df.rename(columns={0:'pos',\n",
    "                  1:'id_producto',\n",
    "                  2:'descripcion',\n",
    "                  3:'tipo',\n",
    "                  4:'precio',\n",
    "                  5:'sexo',\n",
    "                  6:'sku',\n",
    "                  7:'url_imagen',\n",
    "                  8:'marca',\n",
    "                  9:'color',\n",
    "                  10:'precio_dto',\n",
    "                  11:'condicion',\n",
    "                  12:'disponibilidad',\n",
    "                  13:'url_producto',\n",
    "                  14:'pagina_scraper'},inplace=True)"
   ]
  },
  {
   "cell_type": "code",
   "execution_count": 559,
   "metadata": {},
   "outputs": [
    {
     "data": {
      "text/html": [
       "<div>\n",
       "<style scoped>\n",
       "    .dataframe tbody tr th:only-of-type {\n",
       "        vertical-align: middle;\n",
       "    }\n",
       "\n",
       "    .dataframe tbody tr th {\n",
       "        vertical-align: top;\n",
       "    }\n",
       "\n",
       "    .dataframe thead th {\n",
       "        text-align: right;\n",
       "    }\n",
       "</style>\n",
       "<table border=\"1\" class=\"dataframe\">\n",
       "  <thead>\n",
       "    <tr style=\"text-align: right;\">\n",
       "      <th></th>\n",
       "      <th>codigo_talle</th>\n",
       "      <th>nombre_talle</th>\n",
       "    </tr>\n",
       "  </thead>\n",
       "  <tbody>\n",
       "    <tr>\n",
       "      <th>0</th>\n",
       "      <td>0000</td>\n",
       "      <td>REGULAR XS</td>\n",
       "    </tr>\n",
       "    <tr>\n",
       "      <th>1</th>\n",
       "      <td>0001</td>\n",
       "      <td>REGULAR S</td>\n",
       "    </tr>\n",
       "    <tr>\n",
       "      <th>2</th>\n",
       "      <td>0002</td>\n",
       "      <td>REGULAR M</td>\n",
       "    </tr>\n",
       "    <tr>\n",
       "      <th>3</th>\n",
       "      <td>0003</td>\n",
       "      <td>REGULAR L</td>\n",
       "    </tr>\n",
       "    <tr>\n",
       "      <th>4</th>\n",
       "      <td>0004</td>\n",
       "      <td>REGULAR XL</td>\n",
       "    </tr>\n",
       "    <tr>\n",
       "      <th>5</th>\n",
       "      <td>0005</td>\n",
       "      <td>REGULAR XXL</td>\n",
       "    </tr>\n",
       "    <tr>\n",
       "      <th>6</th>\n",
       "      <td>0104</td>\n",
       "      <td>TALL S</td>\n",
       "    </tr>\n",
       "    <tr>\n",
       "      <th>7</th>\n",
       "      <td>0204</td>\n",
       "      <td>TALL M</td>\n",
       "    </tr>\n",
       "    <tr>\n",
       "      <th>8</th>\n",
       "      <td>0304</td>\n",
       "      <td>TALL L</td>\n",
       "    </tr>\n",
       "    <tr>\n",
       "      <th>9</th>\n",
       "      <td>0404</td>\n",
       "      <td>TALL XL</td>\n",
       "    </tr>\n",
       "    <tr>\n",
       "      <th>10</th>\n",
       "      <td>0504</td>\n",
       "      <td>TALL XXL</td>\n",
       "    </tr>\n",
       "    <tr>\n",
       "      <th>11</th>\n",
       "      <td>1004</td>\n",
       "      <td>TALL XS</td>\n",
       "    </tr>\n",
       "    <tr>\n",
       "      <th>12</th>\n",
       "      <td>4002</td>\n",
       "      <td>PETITE XS</td>\n",
       "    </tr>\n",
       "    <tr>\n",
       "      <th>13</th>\n",
       "      <td>4003</td>\n",
       "      <td>PETITE S</td>\n",
       "    </tr>\n",
       "    <tr>\n",
       "      <th>14</th>\n",
       "      <td>4004</td>\n",
       "      <td>PETITE M</td>\n",
       "    </tr>\n",
       "    <tr>\n",
       "      <th>15</th>\n",
       "      <td>4005</td>\n",
       "      <td>PETITE L</td>\n",
       "    </tr>\n",
       "    <tr>\n",
       "      <th>16</th>\n",
       "      <td>4006</td>\n",
       "      <td>PETITE XL</td>\n",
       "    </tr>\n",
       "    <tr>\n",
       "      <th>17</th>\n",
       "      <td>4007</td>\n",
       "      <td>PETITE XXL</td>\n",
       "    </tr>\n",
       "  </tbody>\n",
       "</table>\n",
       "</div>"
      ],
      "text/plain": [
       "   codigo_talle nombre_talle\n",
       "0          0000   REGULAR XS\n",
       "1          0001    REGULAR S\n",
       "2          0002    REGULAR M\n",
       "3          0003    REGULAR L\n",
       "4          0004   REGULAR XL\n",
       "5          0005  REGULAR XXL\n",
       "6          0104       TALL S\n",
       "7          0204       TALL M\n",
       "8          0304       TALL L\n",
       "9          0404      TALL XL\n",
       "10         0504     TALL XXL\n",
       "11         1004      TALL XS\n",
       "12         4002    PETITE XS\n",
       "13         4003     PETITE S\n",
       "14         4004     PETITE M\n",
       "15         4005     PETITE L\n",
       "16         4006    PETITE XL\n",
       "17         4007   PETITE XXL"
      ]
     },
     "execution_count": 559,
     "metadata": {},
     "output_type": "execute_result"
    }
   ],
   "source": [
    "master_talles"
   ]
  },
  {
   "cell_type": "code",
   "execution_count": 562,
   "metadata": {},
   "outputs": [],
   "source": [
    "df['col_aux'] = df['sku'].apply(lambda x:x[-4:])"
   ]
  },
  {
   "cell_type": "code",
   "execution_count": null,
   "metadata": {},
   "outputs": [],
   "source": []
  },
  {
   "cell_type": "code",
   "execution_count": 568,
   "metadata": {},
   "outputs": [],
   "source": [
    "df = pd.merge(df,master_talles,left_on='col_aux',right_on='codigo_talle',how='inner')"
   ]
  },
  {
   "cell_type": "code",
   "execution_count": null,
   "metadata": {},
   "outputs": [],
   "source": []
  },
  {
   "cell_type": "code",
   "execution_count": null,
   "metadata": {},
   "outputs": [],
   "source": []
  },
  {
   "cell_type": "code",
   "execution_count": null,
   "metadata": {},
   "outputs": [],
   "source": []
  },
  {
   "cell_type": "code",
   "execution_count": null,
   "metadata": {},
   "outputs": [],
   "source": []
  },
  {
   "cell_type": "code",
   "execution_count": null,
   "metadata": {},
   "outputs": [],
   "source": []
  },
  {
   "cell_type": "code",
   "execution_count": null,
   "metadata": {},
   "outputs": [],
   "source": []
  },
  {
   "cell_type": "code",
   "execution_count": null,
   "metadata": {},
   "outputs": [],
   "source": []
  },
  {
   "cell_type": "code",
   "execution_count": 399,
   "metadata": {},
   "outputs": [],
   "source": [
    "url_aux='https://oldnavy.gap.com/browse/product.do?pid=481031002&cid=1127604&pcid=72091&vid=1&grid=pds_204_678_2#pdp-page-content'\n",
    "response = requests.get(url_aux)\n",
    "soup = BeautifulSoup(response.content, \"html.parser\")\n"
   ]
  },
  {
   "cell_type": "code",
   "execution_count": 400,
   "metadata": {},
   "outputs": [],
   "source": [
    "metadatos = json.loads(soup.find('script', type='application/ld+json').text)"
   ]
  },
  {
   "cell_type": "code",
   "execution_count": null,
   "metadata": {},
   "outputs": [],
   "source": []
  },
  {
   "cell_type": "code",
   "execution_count": 393,
   "metadata": {},
   "outputs": [
    {
     "data": {
      "text/html": [
       "<div>\n",
       "<style scoped>\n",
       "    .dataframe tbody tr th:only-of-type {\n",
       "        vertical-align: middle;\n",
       "    }\n",
       "\n",
       "    .dataframe tbody tr th {\n",
       "        vertical-align: top;\n",
       "    }\n",
       "\n",
       "    .dataframe thead th {\n",
       "        text-align: right;\n",
       "    }\n",
       "</style>\n",
       "<table border=\"1\" class=\"dataframe\">\n",
       "  <thead>\n",
       "    <tr style=\"text-align: right;\">\n",
       "      <th></th>\n",
       "      <th>href</th>\n",
       "      <th>pagina_scraper</th>\n",
       "      <th>tipo</th>\n",
       "      <th>sexo</th>\n",
       "      <th>pos</th>\n",
       "    </tr>\n",
       "  </thead>\n",
       "  <tbody>\n",
       "    <tr>\n",
       "      <th>310</th>\n",
       "      <td>https://oldnavy.gap.com/browse/product.do?pid=...</td>\n",
       "      <td>https://oldnavy.gap.com/browse/category.do?cid...</td>\n",
       "      <td>Tops</td>\n",
       "      <td>Women</td>\n",
       "      <td>50</td>\n",
       "    </tr>\n",
       "    <tr>\n",
       "      <th>311</th>\n",
       "      <td>https://oldnavy.gap.com/browse/product.do?pid=...</td>\n",
       "      <td>https://oldnavy.gap.com/browse/category.do?cid...</td>\n",
       "      <td>Tops</td>\n",
       "      <td>Women</td>\n",
       "      <td>51</td>\n",
       "    </tr>\n",
       "    <tr>\n",
       "      <th>312</th>\n",
       "      <td>https://oldnavy.gap.com/browse/product.do?pid=...</td>\n",
       "      <td>https://oldnavy.gap.com/browse/category.do?cid...</td>\n",
       "      <td>Tops</td>\n",
       "      <td>Women</td>\n",
       "      <td>52</td>\n",
       "    </tr>\n",
       "    <tr>\n",
       "      <th>313</th>\n",
       "      <td>https://oldnavy.gap.com/browse/product.do?pid=...</td>\n",
       "      <td>https://oldnavy.gap.com/browse/category.do?cid...</td>\n",
       "      <td>Tops</td>\n",
       "      <td>Women</td>\n",
       "      <td>53</td>\n",
       "    </tr>\n",
       "    <tr>\n",
       "      <th>314</th>\n",
       "      <td>https://oldnavy.gap.com/browse/product.do?pid=...</td>\n",
       "      <td>https://oldnavy.gap.com/browse/category.do?cid...</td>\n",
       "      <td>Tops</td>\n",
       "      <td>Women</td>\n",
       "      <td>54</td>\n",
       "    </tr>\n",
       "  </tbody>\n",
       "</table>\n",
       "</div>"
      ],
      "text/plain": [
       "                                                  href  \\\n",
       "310  https://oldnavy.gap.com/browse/product.do?pid=...   \n",
       "311  https://oldnavy.gap.com/browse/product.do?pid=...   \n",
       "312  https://oldnavy.gap.com/browse/product.do?pid=...   \n",
       "313  https://oldnavy.gap.com/browse/product.do?pid=...   \n",
       "314  https://oldnavy.gap.com/browse/product.do?pid=...   \n",
       "\n",
       "                                        pagina_scraper  tipo   sexo pos  \n",
       "310  https://oldnavy.gap.com/browse/category.do?cid...  Tops  Women  50  \n",
       "311  https://oldnavy.gap.com/browse/category.do?cid...  Tops  Women  51  \n",
       "312  https://oldnavy.gap.com/browse/category.do?cid...  Tops  Women  52  \n",
       "313  https://oldnavy.gap.com/browse/category.do?cid...  Tops  Women  53  \n",
       "314  https://oldnavy.gap.com/browse/category.do?cid...  Tops  Women  54  "
      ]
     },
     "execution_count": 393,
     "metadata": {},
     "output_type": "execute_result"
    }
   ],
   "source": [
    "url_chunk "
   ]
  },
  {
   "cell_type": "code",
   "execution_count": null,
   "metadata": {},
   "outputs": [],
   "source": []
  },
  {
   "cell_type": "code",
   "execution_count": null,
   "metadata": {},
   "outputs": [],
   "source": []
  },
  {
   "cell_type": "code",
   "execution_count": 359,
   "metadata": {},
   "outputs": [
    {
     "data": {
      "text/html": [
       "<div>\n",
       "<style scoped>\n",
       "    .dataframe tbody tr th:only-of-type {\n",
       "        vertical-align: middle;\n",
       "    }\n",
       "\n",
       "    .dataframe tbody tr th {\n",
       "        vertical-align: top;\n",
       "    }\n",
       "\n",
       "    .dataframe thead th {\n",
       "        text-align: right;\n",
       "    }\n",
       "</style>\n",
       "<table border=\"1\" class=\"dataframe\">\n",
       "  <thead>\n",
       "    <tr style=\"text-align: right;\">\n",
       "      <th></th>\n",
       "      <th>href</th>\n",
       "      <th>pagina_scraper</th>\n",
       "      <th>tipo</th>\n",
       "      <th>sexo</th>\n",
       "      <th>pos</th>\n",
       "    </tr>\n",
       "  </thead>\n",
       "  <tbody>\n",
       "    <tr>\n",
       "      <th>0</th>\n",
       "      <td>https://oldnavy.gap.com/browse/product.do?pid=...</td>\n",
       "      <td>https://oldnavy.gap.com/browse/category.do?cid...</td>\n",
       "      <td>Tops</td>\n",
       "      <td>Women</td>\n",
       "      <td>0</td>\n",
       "    </tr>\n",
       "    <tr>\n",
       "      <th>1</th>\n",
       "      <td>https://oldnavy.gap.com/browse/product.do?pid=...</td>\n",
       "      <td>https://oldnavy.gap.com/browse/category.do?cid...</td>\n",
       "      <td>Tops</td>\n",
       "      <td>Women</td>\n",
       "      <td>1</td>\n",
       "    </tr>\n",
       "    <tr>\n",
       "      <th>2</th>\n",
       "      <td>https://oldnavy.gap.com/browse/product.do?pid=...</td>\n",
       "      <td>https://oldnavy.gap.com/browse/category.do?cid...</td>\n",
       "      <td>Tops</td>\n",
       "      <td>Women</td>\n",
       "      <td>2</td>\n",
       "    </tr>\n",
       "    <tr>\n",
       "      <th>3</th>\n",
       "      <td>https://oldnavy.gap.com/browse/product.do?pid=...</td>\n",
       "      <td>https://oldnavy.gap.com/browse/category.do?cid...</td>\n",
       "      <td>Tops</td>\n",
       "      <td>Women</td>\n",
       "      <td>3</td>\n",
       "    </tr>\n",
       "    <tr>\n",
       "      <th>4</th>\n",
       "      <td>https://oldnavy.gap.com/browse/product.do?pid=...</td>\n",
       "      <td>https://oldnavy.gap.com/browse/category.do?cid...</td>\n",
       "      <td>Tops</td>\n",
       "      <td>Women</td>\n",
       "      <td>4</td>\n",
       "    </tr>\n",
       "  </tbody>\n",
       "</table>\n",
       "</div>"
      ],
      "text/plain": [
       "                                                href  \\\n",
       "0  https://oldnavy.gap.com/browse/product.do?pid=...   \n",
       "1  https://oldnavy.gap.com/browse/product.do?pid=...   \n",
       "2  https://oldnavy.gap.com/browse/product.do?pid=...   \n",
       "3  https://oldnavy.gap.com/browse/product.do?pid=...   \n",
       "4  https://oldnavy.gap.com/browse/product.do?pid=...   \n",
       "\n",
       "                                      pagina_scraper  tipo   sexo pos  \n",
       "0  https://oldnavy.gap.com/browse/category.do?cid...  Tops  Women   0  \n",
       "1  https://oldnavy.gap.com/browse/category.do?cid...  Tops  Women   1  \n",
       "2  https://oldnavy.gap.com/browse/category.do?cid...  Tops  Women   2  \n",
       "3  https://oldnavy.gap.com/browse/category.do?cid...  Tops  Women   3  \n",
       "4  https://oldnavy.gap.com/browse/category.do?cid...  Tops  Women   4  "
      ]
     },
     "execution_count": 359,
     "metadata": {},
     "output_type": "execute_result"
    }
   ],
   "source": [
    "try:\n",
    "    df_save = pd.DataFrame(items)\n",
    "    df_save.to_excel('zaful3.xlsx')\n",
    "except:\n",
    "    print(\"Error al guardar\")    "
   ]
  },
  {
   "cell_type": "code",
   "execution_count": 333,
   "metadata": {},
   "outputs": [
    {
     "data": {
      "text/html": [
       "<div>\n",
       "<style scoped>\n",
       "    .dataframe tbody tr th:only-of-type {\n",
       "        vertical-align: middle;\n",
       "    }\n",
       "\n",
       "    .dataframe tbody tr th {\n",
       "        vertical-align: top;\n",
       "    }\n",
       "\n",
       "    .dataframe thead th {\n",
       "        text-align: right;\n",
       "    }\n",
       "</style>\n",
       "<table border=\"1\" class=\"dataframe\">\n",
       "  <thead>\n",
       "    <tr style=\"text-align: right;\">\n",
       "      <th></th>\n",
       "      <th>href</th>\n",
       "      <th>pagina_scraper</th>\n",
       "      <th>tipo</th>\n",
       "      <th>sexo</th>\n",
       "      <th>pos</th>\n",
       "    </tr>\n",
       "  </thead>\n",
       "  <tbody>\n",
       "    <tr>\n",
       "      <th>0</th>\n",
       "      <td>https://oldnavy.gap.com/browse/product.do?pid=...</td>\n",
       "      <td>https://oldnavy.gap.com/browse/category.do?cid...</td>\n",
       "      <td>Tops</td>\n",
       "      <td>Women</td>\n",
       "      <td>0</td>\n",
       "    </tr>\n",
       "    <tr>\n",
       "      <th>1</th>\n",
       "      <td>https://oldnavy.gap.com/browse/product.do?pid=...</td>\n",
       "      <td>https://oldnavy.gap.com/browse/category.do?cid...</td>\n",
       "      <td>Tops</td>\n",
       "      <td>Women</td>\n",
       "      <td>1</td>\n",
       "    </tr>\n",
       "    <tr>\n",
       "      <th>2</th>\n",
       "      <td>https://oldnavy.gap.com/browse/product.do?pid=...</td>\n",
       "      <td>https://oldnavy.gap.com/browse/category.do?cid...</td>\n",
       "      <td>Tops</td>\n",
       "      <td>Women</td>\n",
       "      <td>2</td>\n",
       "    </tr>\n",
       "    <tr>\n",
       "      <th>3</th>\n",
       "      <td>https://oldnavy.gap.com/browse/product.do?pid=...</td>\n",
       "      <td>https://oldnavy.gap.com/browse/category.do?cid...</td>\n",
       "      <td>Tops</td>\n",
       "      <td>Women</td>\n",
       "      <td>3</td>\n",
       "    </tr>\n",
       "    <tr>\n",
       "      <th>4</th>\n",
       "      <td>https://oldnavy.gap.com/browse/product.do?pid=...</td>\n",
       "      <td>https://oldnavy.gap.com/browse/category.do?cid...</td>\n",
       "      <td>Tops</td>\n",
       "      <td>Women</td>\n",
       "      <td>4</td>\n",
       "    </tr>\n",
       "  </tbody>\n",
       "</table>\n",
       "</div>"
      ],
      "text/plain": [
       "                                                href  \\\n",
       "0  https://oldnavy.gap.com/browse/product.do?pid=...   \n",
       "1  https://oldnavy.gap.com/browse/product.do?pid=...   \n",
       "2  https://oldnavy.gap.com/browse/product.do?pid=...   \n",
       "3  https://oldnavy.gap.com/browse/product.do?pid=...   \n",
       "4  https://oldnavy.gap.com/browse/product.do?pid=...   \n",
       "\n",
       "                                      pagina_scraper  tipo   sexo pos  \n",
       "0  https://oldnavy.gap.com/browse/category.do?cid...  Tops  Women   0  \n",
       "1  https://oldnavy.gap.com/browse/category.do?cid...  Tops  Women   1  \n",
       "2  https://oldnavy.gap.com/browse/category.do?cid...  Tops  Women   2  \n",
       "3  https://oldnavy.gap.com/browse/category.do?cid...  Tops  Women   3  \n",
       "4  https://oldnavy.gap.com/browse/category.do?cid...  Tops  Women   4  "
      ]
     },
     "execution_count": 333,
     "metadata": {},
     "output_type": "execute_result"
    }
   ],
   "source": []
  },
  {
   "cell_type": "code",
   "execution_count": 332,
   "metadata": {},
   "outputs": [
    {
     "data": {
      "text/plain": [
       "4454"
      ]
     },
     "execution_count": 332,
     "metadata": {},
     "output_type": "execute_result"
    }
   ],
   "source": []
  },
  {
   "cell_type": "code",
   "execution_count": null,
   "metadata": {},
   "outputs": [],
   "source": [
    "lista_productos = []\n",
    "metadatos = json.loads(soup.find('script', type='application/ld+json').text)\n",
    "\n",
    "id_producto = metadatos[0]['productID'] #--- ID PRODUCTO\n",
    "descripcion = metadatos[0]['name'] #--- DESCRIPCION\n",
    "## tipologia = soup.find(class_='catnav--item catnav--item-selected').text #--- TIPOLOGIA\n",
    "precio = soup.find(class_='product-price__strike').text #--- PRECIO\n",
    "for item in metadatos[0]['offers']:\n",
    "    \n",
    "    sku = item['itemOffered']['sku'], #SKU\n",
    "    jpg = item['itemOffered']['image'], #JPG\n",
    "    marca = item['seller']['name'], #MARCA\n",
    "    color = item['itemOffered']['color'], #COLOR\n",
    "    precio_dto = item['price'], #PRECIO\n",
    "    condicion = item['itemCondition'],#CONDICION : NEW/ Y NOSE\n",
    "    disponibilidad = item['availability'] #DISPONIBILIDAD : INSTOCK/OUTSTOCK\n",
    "    \n",
    "    lista_productos.append([id_producto,\n",
    "                            descripcion,\n",
    "                            tipologia,\n",
    "                            precio,\n",
    "                            sku,\n",
    "                            jpg,\n",
    "                            marca,\n",
    "                            color,\n",
    "                            precio_dto,\n",
    "                            condicion,\n",
    "                            disponibilidad,\n",
    "                           href])\n",
    "    #FALTA HREF, FALTA POSICION, FALTA PAGINA SCRAPER"
   ]
  },
  {
   "cell_type": "code",
   "execution_count": null,
   "metadata": {},
   "outputs": [],
   "source": []
  },
  {
   "cell_type": "code",
   "execution_count": 172,
   "metadata": {},
   "outputs": [
    {
     "name": "stdout",
     "output_type": "stream",
     "text": [
      "https://oldnavy.gap.com/browse/category.do?cid=50058&mlink=5151,,flyout_women_ShopbyCategory_Pajamas_Loungewear&clink=15682852#style=1043322,1097496,87786,69680,1113411,1144684,1097250,1143093,1093064,1127664\n"
     ]
    }
   ],
   "source": [
    "print(browser.current_url)"
   ]
  },
  {
   "cell_type": "code",
   "execution_count": 171,
   "metadata": {},
   "outputs": [
    {
     "data": {
      "text/plain": [
       "True"
      ]
     },
     "execution_count": 171,
     "metadata": {},
     "output_type": "execute_result"
    }
   ],
   "source": [
    "browser.save_screenshot('asd.png')"
   ]
  },
  {
   "cell_type": "code",
   "execution_count": null,
   "metadata": {},
   "outputs": [],
   "source": []
  },
  {
   "cell_type": "code",
   "execution_count": 150,
   "metadata": {},
   "outputs": [],
   "source": [
    "element_style = WebDriverWait(browser, 50).until(EC.presence_of_element_located((By.CSS_SELECTOR, \".tabs--object.tabs--header-object.facet-style\")))"
   ]
  },
  {
   "cell_type": "code",
   "execution_count": 162,
   "metadata": {},
   "outputs": [],
   "source": [
    "element_style.click()"
   ]
  },
  {
   "cell_type": "code",
   "execution_count": 163,
   "metadata": {},
   "outputs": [],
   "source": [
    "WebDriverWait(element_style, 50).until(EC.presence_of_all_elements_located((By.TAG_NAME, \"input\")))[0].click()"
   ]
  },
  {
   "cell_type": "code",
   "execution_count": 168,
   "metadata": {},
   "outputs": [
    {
     "data": {
      "text/plain": [
       "[['https://oldnavy.gap.com/browse/category.do?cid=1051876&mlink=5151,,flyout_women_ShopbyCategory_Jumpsuits&clink=15682852',\n",
       "  'Jumpsuits'],\n",
       " ['https://oldnavy.gap.com/browse/category.do?cid=79586&mlink=5151,,flyout_women_ShopbyCategory_Skirts_&clink=15682852',\n",
       "  'Skirts ']]"
      ]
     },
     "execution_count": 168,
     "metadata": {},
     "output_type": "execute_result"
    }
   ],
   "source": [
    "excepts"
   ]
  },
  {
   "cell_type": "code",
   "execution_count": 139,
   "metadata": {},
   "outputs": [
    {
     "name": "stdout",
     "output_type": "stream",
     "text": [
      "ERROR DE DIVISION\n"
     ]
    }
   ],
   "source": []
  },
  {
   "cell_type": "code",
   "execution_count": null,
   "metadata": {},
   "outputs": [],
   "source": [
    "    "
   ]
  },
  {
   "cell_type": "code",
   "execution_count": null,
   "metadata": {},
   "outputs": [],
   "source": []
  },
  {
   "cell_type": "code",
   "execution_count": 132,
   "metadata": {},
   "outputs": [
    {
     "name": "stdout",
     "output_type": "stream",
     "text": [
      "TIMEOUT ERROR\n"
     ]
    }
   ],
   "source": [
    "try:\n",
    "    element = WebDriverWait(browser, 3).until(EC.presence_of_element_located((By.CSS_SELECTOR, \"t.facet-style\")))\n",
    "    element.find_elements_by_tag_name('div')\n",
    "except TimeoutException:\n",
    "    print(\"TIMEOUT ERROR\")\n",
    "except NoSuchElementException:\n",
    "    print(\"Elemento no se encuentra en la página, revisar el html\")\n",
    "except \n",
    "    \n",
    "    \n",
    "    "
   ]
  },
  {
   "cell_type": "code",
   "execution_count": 111,
   "metadata": {},
   "outputs": [
    {
     "data": {
      "text/plain": [
       "True"
      ]
     },
     "execution_count": 111,
     "metadata": {},
     "output_type": "execute_result"
    }
   ],
   "source": [
    "element_style.click()\n",
    "browser.save_screenshot('asd.png')"
   ]
  },
  {
   "cell_type": "code",
   "execution_count": 110,
   "metadata": {},
   "outputs": [
    {
     "data": {
      "text/plain": [
       "['Pajama Sets',\n",
       " 'Pajama Pants',\n",
       " 'Pajama Shorts',\n",
       " 'Tops',\n",
       " 'Thermal',\n",
       " 'Loungewear Bottoms',\n",
       " 'One Piece',\n",
       " 'Robes',\n",
       " 'Slippers',\n",
       " 'Accessories',\n",
       " 'Clearance']"
      ]
     },
     "execution_count": 110,
     "metadata": {},
     "output_type": "execute_result"
    }
   ],
   "source": [
    "try:\n",
    "    element_style.find_elements_by_tag_name('input')[index_categoria].click()\n",
    "except IndexError:\n",
    "    print('ERROR AL CLICKEAR, FUERA DE RANGO')\n",
    "    \n"
   ]
  },
  {
   "cell_type": "code",
   "execution_count": 108,
   "metadata": {},
   "outputs": [
    {
     "data": {
      "text/plain": [
       "10"
      ]
     },
     "execution_count": 108,
     "metadata": {},
     "output_type": "execute_result"
    }
   ],
   "source": [
    "index_categoria"
   ]
  },
  {
   "cell_type": "code",
   "execution_count": 93,
   "metadata": {},
   "outputs": [
    {
     "data": {
      "text/plain": [
       "['sin categoria']"
      ]
     },
     "execution_count": 93,
     "metadata": {},
     "output_type": "execute_result"
    }
   ],
   "source": [
    "cantidad_categorias"
   ]
  },
  {
   "cell_type": "code",
   "execution_count": 94,
   "metadata": {},
   "outputs": [],
   "source": [
    "browser.get(\"https://oldnavy.gap.com/browse/product.do?pid=412063032&cid=72091&pcid=72091&vid=1&grid=pds_0_615_1&cpos=0&cexp=1414&cid=CategoryIDs%3D72091&cvar=10353&ctype=Listing&cpid=res20010711851793332887717#pdp-page-content\")"
   ]
  },
  {
   "cell_type": "code",
   "execution_count": 95,
   "metadata": {},
   "outputs": [],
   "source": [
    "soup= BeautifulSoup(browser.page_source)"
   ]
  },
  {
   "cell_type": "code",
   "execution_count": 70,
   "metadata": {},
   "outputs": [],
   "source": []
  },
  {
   "cell_type": "code",
   "execution_count": 41,
   "metadata": {},
   "outputs": [
    {
     "data": {
      "text/plain": [
       "False"
      ]
     },
     "execution_count": 41,
     "metadata": {},
     "output_type": "execute_result"
    }
   ],
   "source": [
    "flag_checkbox"
   ]
  },
  {
   "cell_type": "code",
   "execution_count": 43,
   "metadata": {},
   "outputs": [
    {
     "data": {
      "text/plain": [
       "True"
      ]
     },
     "execution_count": 43,
     "metadata": {},
     "output_type": "execute_result"
    }
   ],
   "source": [
    "browser.save_screenshot('asd.png')"
   ]
  },
  {
   "cell_type": "code",
   "execution_count": 33,
   "metadata": {},
   "outputs": [
    {
     "data": {
      "text/plain": [
       "314"
      ]
     },
     "execution_count": 33,
     "metadata": {},
     "output_type": "execute_result"
    }
   ],
   "source": []
  },
  {
   "cell_type": "code",
   "execution_count": null,
   "metadata": {},
   "outputs": [],
   "source": []
  },
  {
   "cell_type": "code",
   "execution_count": 16,
   "metadata": {},
   "outputs": [
    {
     "name": "stdout",
     "output_type": "stream",
     "text": [
      "https://oldnavy.gap.com/browse/category.do?cid=72091&mlink=5151,,flyout_women_ShopbyCategory_Tops&clink=15682852#style=1127224,1036992,1127604\n"
     ]
    }
   ],
   "source": [
    "print(browser.current_url)"
   ]
  },
  {
   "cell_type": "code",
   "execution_count": 17,
   "metadata": {},
   "outputs": [
    {
     "data": {
      "text/plain": [
       "True"
      ]
     },
     "execution_count": 17,
     "metadata": {},
     "output_type": "execute_result"
    }
   ],
   "source": [
    "browser.save_screenshot('asd.png')"
   ]
  },
  {
   "cell_type": "code",
   "execution_count": null,
   "metadata": {},
   "outputs": [],
   "source": []
  },
  {
   "cell_type": "code",
   "execution_count": 16,
   "metadata": {},
   "outputs": [],
   "source": [
    "browser.refresh()"
   ]
  },
  {
   "cell_type": "code",
   "execution_count": 24,
   "metadata": {},
   "outputs": [],
   "source": [
    "browser.get(row['url'])"
   ]
  },
  {
   "cell_type": "code",
   "execution_count": null,
   "metadata": {},
   "outputs": [],
   "source": []
  },
  {
   "cell_type": "code",
   "execution_count": 42,
   "metadata": {},
   "outputs": [
    {
     "data": {
      "text/plain": [
       "True"
      ]
     },
     "execution_count": 42,
     "metadata": {},
     "output_type": "execute_result"
    }
   ],
   "source": [
    "browser.save_screenshot('asd.png')"
   ]
  },
  {
   "cell_type": "code",
   "execution_count": null,
   "metadata": {},
   "outputs": [],
   "source": []
  },
  {
   "cell_type": "code",
   "execution_count": 57,
   "metadata": {},
   "outputs": [],
   "source": []
  },
  {
   "cell_type": "code",
   "execution_count": 58,
   "metadata": {},
   "outputs": [
    {
     "data": {
      "text/plain": [
       "True"
      ]
     },
     "execution_count": 58,
     "metadata": {},
     "output_type": "execute_result"
    }
   ],
   "source": [
    "browser.save_screenshot('asd.png')"
   ]
  },
  {
   "cell_type": "code",
   "execution_count": 234,
   "metadata": {},
   "outputs": [],
   "source": [
    "browser.find_element_by_class_name('icon-chevron-right').click()"
   ]
  },
  {
   "cell_type": "code",
   "execution_count": 246,
   "metadata": {},
   "outputs": [],
   "source": []
  },
  {
   "cell_type": "code",
   "execution_count": 273,
   "metadata": {},
   "outputs": [],
   "source": []
  },
  {
   "cell_type": "code",
   "execution_count": 274,
   "metadata": {},
   "outputs": [
    {
     "data": {
      "text/plain": [
       "144"
      ]
     },
     "execution_count": 274,
     "metadata": {},
     "output_type": "execute_result"
    }
   ],
   "source": [
    "len(HREFS)"
   ]
  },
  {
   "cell_type": "code",
   "execution_count": 267,
   "metadata": {},
   "outputs": [
    {
     "name": "stdout",
     "output_type": "stream",
     "text": [
      "https://oldnavy.gap.com/browse/product.do?pid=503591042&cid=72091&pcid=72091&vid=1&grid=pds_94_584_1&cpos=94&cexp=1414&cid=CategoryIDs%3D72091&cvar=10356&ctype=Listing&cpid=res20010610510586198191431\n",
      "https://oldnavy.gap.com/browse/product.do?pid=503949012&cid=72091&pcid=72091&vid=1&grid=pds_131_584_1&cpos=141&cexp=1414&cid=CategoryIDs%3D72091&ctype=Listing&cpid=res20010610510586198191431\n",
      "https://oldnavy.gap.com/browse/product.do?pid=409748022&cid=72091&pcid=72091&vid=1&grid=pds_10_584_1&cpos=10&cexp=1414&cid=CategoryIDs%3D72091&cvar=10356&ctype=Listing&cpid=res20010610510586198191431\n",
      "https://oldnavy.gap.com/browse/product.do?pid=449786002&cid=72091&pcid=72091&vid=1&grid=pds_137_584_1&cpos=148&cexp=1414&cid=CategoryIDs%3D72091&ctype=Listing&cpid=res20010610510586198191431\n",
      "https://oldnavy.gap.com/browse/product.do?pid=773144002&cid=72091&pcid=72091&vid=1&grid=pds_85_584_1&cpos=85&cexp=1414&cid=CategoryIDs%3D72091&cvar=10356&ctype=Listing&cpid=res20010610510586198191431\n",
      "https://oldnavy.gap.com/browse/product.do?pid=449184032&cid=72091&pcid=72091&vid=1&grid=pds_24_584_1&cpos=24&cexp=1414&cid=CategoryIDs%3D72091&cvar=10356&ctype=Listing&cpid=res20010610510586198191431\n",
      "https://oldnavy.gap.com/browse/product.do?pid=786455052&cid=72091&pcid=72091&vid=1&grid=pds_43_584_1&cpos=43&cexp=1414&cid=CategoryIDs%3D72091&cvar=10356&ctype=Listing&cpid=res20010610510586198191431\n",
      "https://oldnavy.gap.com/browse/product.do?pid=786455112&cid=72091&pcid=72091&vid=1&grid=pds_62_584_1&cpos=62&cexp=1414&cid=CategoryIDs%3D72091&cvar=10356&ctype=Listing&cpid=res20010610510586198191431\n",
      "https://oldnavy.gap.com/browse/product.do?pid=340135012&cid=72091&pcid=72091&vid=1&grid=pds_3_584_1&cpos=3&cexp=1414&cid=CategoryIDs%3D72091&cvar=10356&ctype=Listing&cpid=res20010610510586198191431\n",
      "https://oldnavy.gap.com/browse/product.do?pid=201616192&cid=72091&pcid=72091&vid=1&grid=pds_46_584_1&cpos=46&cexp=1414&cid=CategoryIDs%3D72091&cvar=10356&ctype=Listing&cpid=res20010610510586198191431\n",
      "https://oldnavy.gap.com/browse/product.do?pid=786455072&cid=72091&pcid=72091&vid=1&grid=pds_44_584_1&cpos=44&cexp=1414&cid=CategoryIDs%3D72091&cvar=10356&ctype=Listing&cpid=res20010610510586198191431\n",
      "https://oldnavy.gap.com/browse/product.do?pid=412004002&cid=72091&pcid=72091&vid=1&grid=pds_31_584_1&cpos=31&cexp=1414&cid=CategoryIDs%3D72091&cvar=10356&ctype=Listing&cpid=res20010610510586198191431\n",
      "https://oldnavy.gap.com/browse/product.do?pid=484092012&cid=72091&pcid=72091&vid=1&grid=pds_123_584_1&cpos=129&cexp=1414&cid=CategoryIDs%3D72091&ctype=Listing&cpid=res20010610510586198191431\n",
      "https://oldnavy.gap.com/browse/product.do?pid=201616182&cid=72091&pcid=72091&vid=1&grid=pds_34_584_1&cpos=34&cexp=1414&cid=CategoryIDs%3D72091&cvar=10356&ctype=Listing&cpid=res20010610510586198191431\n",
      "https://oldnavy.gap.com/browse/product.do?pid=409748002&cid=72091&pcid=72091&vid=1&grid=pds_20_584_1&cpos=20&cexp=1414&cid=CategoryIDs%3D72091&cvar=10356&ctype=Listing&cpid=res20010610510586198191431\n",
      "https://oldnavy.gap.com/browse/product.do?pid=481036022&cid=72091&pcid=72091&vid=1&grid=pds_93_584_1&cpos=93&cexp=1414&cid=CategoryIDs%3D72091&cvar=10356&ctype=Listing&cpid=res20010610510586198191431\n",
      "https://oldnavy.gap.com/browse/product.do?pid=412063012&cid=72091&pcid=72091&vid=1&grid=pds_49_584_1&cpos=49&cexp=1414&cid=CategoryIDs%3D72091&cvar=10356&ctype=Listing&cpid=res20010610510586198191431\n",
      "https://oldnavy.gap.com/browse/product.do?pid=412292012&cid=72091&pcid=72091&vid=1&grid=pds_53_584_1&cpos=53&cexp=1414&cid=CategoryIDs%3D72091&cvar=10356&ctype=Listing&cpid=res20010610510586198191431\n",
      "https://oldnavy.gap.com/browse/product.do?pid=207419062&cid=72091&pcid=72091&vid=1&grid=pds_73_584_1&cpos=73&cexp=1414&cid=CategoryIDs%3D72091&cvar=10356&ctype=Listing&cpid=res20010610510586198191431\n",
      "https://oldnavy.gap.com/browse/product.do?pid=786455082&cid=72091&pcid=72091&vid=1&grid=pds_68_584_1&cpos=68&cexp=1414&cid=CategoryIDs%3D72091&cvar=10356&ctype=Listing&cpid=res20010610510586198191431\n",
      "https://oldnavy.gap.com/browse/product.do?pid=449184012&cid=72091&pcid=72091&vid=1&grid=pds_41_584_1&cpos=41&cexp=1414&cid=CategoryIDs%3D72091&cvar=10356&ctype=Listing&cpid=res20010610510586198191431\n",
      "https://oldnavy.gap.com/browse/product.do?pid=412066032&cid=72091&pcid=72091&vid=1&grid=pds_12_584_1&cpos=12&cexp=1414&cid=CategoryIDs%3D72091&cvar=10356&ctype=Listing&cpid=res20010610510586198191431\n",
      "https://oldnavy.gap.com/browse/product.do?pid=449223072&cid=72091&pcid=72091&vid=1&grid=pds_95_584_1&cpos=95&cexp=1414&cid=CategoryIDs%3D72091&cvar=10356&ctype=Listing&cpid=res20010610510586198191431\n",
      "https://oldnavy.gap.com/browse/product.do?pid=480325062&cid=72091&pcid=72091&vid=1&grid=pds_66_584_1&cpos=66&cexp=1414&cid=CategoryIDs%3D72091&cvar=10356&ctype=Listing&cpid=res20010610510586198191431\n",
      "https://oldnavy.gap.com/browse/product.do?pid=152216412&cid=72091&pcid=72091&vid=1&grid=pds_60_584_1&cpos=60&cexp=1414&cid=CategoryIDs%3D72091&cvar=10356&ctype=Listing&cpid=res20010610510586198191431\n",
      "https://oldnavy.gap.com/browse/product.do?pid=786455062&cid=72091&pcid=72091&vid=1&grid=pds_48_584_1&cpos=48&cexp=1414&cid=CategoryIDs%3D72091&cvar=10356&ctype=Listing&cpid=res20010610510586198191431\n",
      "https://oldnavy.gap.com/browse/product.do?pid=484858032&cid=72091&pcid=72091&vid=1&grid=pds_102_584_1&cpos=102&cexp=1414&cid=CategoryIDs%3D72091&ctype=Listing&cpid=res20010610510586198191431\n",
      "https://oldnavy.gap.com/browse/product.do?pid=412060132&cid=72091&pcid=72091&vid=1&grid=pds_51_584_1&cpos=51&cexp=1414&cid=CategoryIDs%3D72091&cvar=10356&ctype=Listing&cpid=res20010610510586198191431\n",
      "https://oldnavy.gap.com/browse/product.do?pid=481088002&cid=72091&pcid=72091&vid=1&grid=pds_121_584_1&cpos=124&cexp=1414&cid=CategoryIDs%3D72091&ctype=Listing&cpid=res20010610510586198191431\n",
      "https://oldnavy.gap.com/browse/product.do?pid=152216092&cid=72091&pcid=72091&vid=1&grid=pds_75_584_1&cpos=75&cexp=1414&cid=CategoryIDs%3D72091&cvar=10356&ctype=Listing&cpid=res20010610510586198191431\n",
      "https://oldnavy.gap.com/browse/product.do?pid=786455122&cid=72091&pcid=72091&vid=2&grid=pds_54_584_1&cpos=54&cexp=1414&cid=CategoryIDs%3D72091&cvar=10356&ctype=Listing&cpid=res20010610510586198191431\n",
      "https://oldnavy.gap.com/browse/product.do?pid=152216462&cid=72091&pcid=72091&vid=1&grid=pds_56_584_1&cpos=56&cexp=1414&cid=CategoryIDs%3D72091&cvar=10356&ctype=Listing&cpid=res20010610510586198191431\n",
      "https://oldnavy.gap.com/browse/product.do?pid=411901032&cid=72091&pcid=72091&vid=1&grid=pds_65_584_1&cpos=65&cexp=1414&cid=CategoryIDs%3D72091&cvar=10356&ctype=Listing&cpid=res20010610510586198191431\n",
      "https://oldnavy.gap.com/browse/product.do?pid=451241012&cid=72091&pcid=72091&vid=1&grid=pds_89_584_1&cpos=89&cexp=1414&cid=CategoryIDs%3D72091&cvar=10356&ctype=Listing&cpid=res20010610510586198191431\n",
      "https://oldnavy.gap.com/browse/product.do?pid=449490032&cid=72091&pcid=72091&vid=1&grid=pds_39_584_1&cpos=39&cexp=1414&cid=CategoryIDs%3D72091&cvar=10356&ctype=Listing&cpid=res20010610510586198191431\n",
      "https://oldnavy.gap.com/browse/product.do?pid=380894012&cid=72091&pcid=72091&vid=1&grid=pds_78_584_1&cpos=78&cexp=1414&cid=CategoryIDs%3D72091&cvar=10356&ctype=Listing&cpid=res20010610510586198191431\n",
      "https://oldnavy.gap.com/browse/product.do?pid=483533012&cid=72091&pcid=72091&vid=1&grid=pds_90_584_1&cpos=90&cexp=1414&cid=CategoryIDs%3D72091&cvar=10356&ctype=Listing&cpid=res20010610510586198191431\n",
      "https://oldnavy.gap.com/browse/product.do?pid=409743022&cid=72091&pcid=72091&vid=1&grid=pds_14_584_1&cpos=14&cexp=1414&cid=CategoryIDs%3D72091&cvar=10356&ctype=Listing&cpid=res20010610510586198191431\n",
      "https://oldnavy.gap.com/browse/product.do?pid=412062002&cid=72091&pcid=72091&vid=1&grid=pds_32_584_1&cpos=32&cexp=1414&cid=CategoryIDs%3D72091&cvar=10356&ctype=Listing&cpid=res20010610510586198191431\n",
      "https://oldnavy.gap.com/browse/product.do?pid=149349012&cid=72091&pcid=72091&vid=1&grid=pds_15_584_1&cpos=15&cexp=1414&cid=CategoryIDs%3D72091&cvar=10356&ctype=Listing&cpid=res20010610510586198191431\n",
      "https://oldnavy.gap.com/browse/product.do?pid=391037002&cid=72091&pcid=72091&vid=1&grid=pds_30_584_1&cpos=30&cexp=1414&cid=CategoryIDs%3D72091&cvar=10356&ctype=Listing&cpid=res20010610510586198191431\n",
      "https://oldnavy.gap.com/browse/product.do?pid=484082022&cid=72091&pcid=72091&vid=1&grid=pds_117_584_1&cpos=119&cexp=1414&cid=CategoryIDs%3D72091&ctype=Listing&cpid=res20010610510586198191431\n",
      "https://oldnavy.gap.com/browse/product.do?pid=480997012&cid=72091&pcid=72091&vid=1&grid=pds_16_584_1&cpos=16&cexp=1414&cid=CategoryIDs%3D72091&cvar=10356&ctype=Listing&cpid=res20010610510586198191431\n",
      "https://oldnavy.gap.com/browse/product.do?pid=152216022&cid=72091&pcid=72091&vid=1&grid=pds_76_584_1&cpos=76&cexp=1414&cid=CategoryIDs%3D72091&cvar=10356&ctype=Listing&cpid=res20010610510586198191431\n",
      "https://oldnavy.gap.com/browse/product.do?pid=773086002&cid=72091&pcid=72091&vid=1&grid=pds_9_584_1&cpos=9&cexp=1414&cid=CategoryIDs%3D72091&cvar=10356&ctype=Listing&cpid=res20010610510586198191431\n",
      "https://oldnavy.gap.com/browse/product.do?pid=340135042&cid=72091&pcid=72091&vid=1&grid=pds_84_584_1&cpos=84&cexp=1414&cid=CategoryIDs%3D72091&cvar=10356&ctype=Listing&cpid=res20010610510586198191431\n",
      "https://oldnavy.gap.com/browse/product.do?pid=483815012&cid=72091&pcid=72091&vid=1&grid=pds_122_584_1&cpos=126&cexp=1414&cid=CategoryIDs%3D72091&ctype=Listing&cpid=res20010610510586198191431\n",
      "https://oldnavy.gap.com/browse/product.do?pid=481019012&cid=72091&pcid=72091&vid=1&grid=pds_107_584_1&cpos=107&cexp=1414&cid=CategoryIDs%3D72091&ctype=Listing&cpid=res20010610510586198191431\n",
      "https://oldnavy.gap.com/browse/product.do?pid=481052022&cid=72091&pcid=72091&vid=2&grid=pds_120_584_1&cpos=123&cexp=1414&cid=CategoryIDs%3D72091&ctype=Listing&cpid=res20010610510586198191431\n",
      "https://oldnavy.gap.com/browse/product.do?pid=482332012&cid=72091&pcid=72091&vid=1&grid=pds_5_584_1&cpos=5&cexp=1414&cid=CategoryIDs%3D72091&cvar=10356&ctype=Listing&cpid=res20010610510586198191431\n",
      "https://oldnavy.gap.com/browse/product.do?pid=207419032&cid=72091&pcid=72091&vid=1&grid=pds_74_584_1&cpos=74&cexp=1414&cid=CategoryIDs%3D72091&cvar=10356&ctype=Listing&cpid=res20010610510586198191431\n",
      "https://oldnavy.gap.com/browse/product.do?pid=481386002&cid=72091&pcid=72091&vid=1&grid=pds_69_584_1&cpos=69&cexp=1414&cid=CategoryIDs%3D72091&cvar=10356&ctype=Listing&cpid=res20010610510586198191431\n",
      "https://oldnavy.gap.com/browse/product.do?pid=201616022&cid=72091&pcid=72091&vid=1&grid=pds_0_584_1&cpos=0&cexp=1414&cid=CategoryIDs%3D72091&cvar=10356&ctype=Listing&cpid=res20010610510586198191431\n",
      "https://oldnavy.gap.com/browse/product.do?pid=504211022&cid=72091&pcid=72091&vid=1&grid=pds_119_584_1&cpos=121&cexp=1414&cid=CategoryIDs%3D72091&ctype=Listing&cpid=res20010610510586198191431\n",
      "https://oldnavy.gap.com/browse/product.do?pid=412063032&cid=72091&pcid=72091&vid=1&grid=pds_38_584_1&cpos=38&cexp=1414&cid=CategoryIDs%3D72091&cvar=10356&ctype=Listing&cpid=res20010610510586198191431\n",
      "https://oldnavy.gap.com/browse/product.do?pid=786455032&cid=72091&pcid=72091&vid=1&grid=pds_63_584_1&cpos=63&cexp=1414&cid=CategoryIDs%3D72091&cvar=10356&ctype=Listing&cpid=res20010610510586198191431\n",
      "https://oldnavy.gap.com/browse/product.do?pid=449490012&cid=72091&pcid=72091&vid=1&grid=pds_57_584_1&cpos=57&cexp=1414&cid=CategoryIDs%3D72091&cvar=10356&ctype=Listing&cpid=res20010610510586198191431\n",
      "https://oldnavy.gap.com/browse/product.do?pid=449469042&cid=72091&pcid=72091&vid=1&grid=pds_124_584_1&cpos=131&cexp=1414&cid=CategoryIDs%3D72091&ctype=Listing&cpid=res20010610510586198191431\n",
      "https://oldnavy.gap.com/browse/product.do?pid=412066022&cid=72091&pcid=72091&vid=1&grid=pds_26_584_1&cpos=26&cexp=1414&cid=CategoryIDs%3D72091&cvar=10356&ctype=Listing&cpid=res20010610510586198191431\n",
      "https://oldnavy.gap.com/browse/product.do?pid=786455012&cid=72091&pcid=72091&vid=1&grid=pds_45_584_1&cpos=45&cexp=1414&cid=CategoryIDs%3D72091&cvar=10356&ctype=Listing&cpid=res20010610510586198191431\n",
      "https://oldnavy.gap.com/browse/product.do?pid=340135022&cid=72091&pcid=72091&vid=1&grid=pds_72_584_1&cpos=72&cexp=1414&cid=CategoryIDs%3D72091&cvar=10356&ctype=Listing&cpid=res20010610510586198191431\n",
      "https://oldnavy.gap.com/browse/product.do?pid=786455022&cid=72091&pcid=72091&vid=1&grid=pds_52_584_1&cpos=52&cexp=1414&cid=CategoryIDs%3D72091&cvar=10356&ctype=Listing&cpid=res20010610510586198191431\n",
      "https://oldnavy.gap.com/browse/product.do?pid=484086002&cid=72091&pcid=72091&vid=1&grid=pds_134_584_1&cpos=144&cexp=1414&cid=CategoryIDs%3D72091&ctype=Listing&cpid=res20010610510586198191431\n",
      "https://oldnavy.gap.com/browse/product.do?pid=451568002&cid=72091&pcid=72091&vid=1&grid=pds_47_584_1&cpos=47&cexp=1414&cid=CategoryIDs%3D72091&cvar=10356&ctype=Listing&cpid=res20010610510586198191431\n",
      "https://oldnavy.gap.com/browse/product.do?pid=483535012&cid=72091&pcid=72091&vid=1&grid=pds_115_584_1&cpos=116&cexp=1414&cid=CategoryIDs%3D72091&ctype=Listing&cpid=res20010610510586198191431\n",
      "https://oldnavy.gap.com/browse/product.do?pid=119384002&cid=72091&pcid=72091&vid=1&grid=pds_17_584_1&cpos=17&cexp=1414&cid=CategoryIDs%3D72091&cvar=10356&ctype=Listing&cpid=res20010610510586198191431\n",
      "https://oldnavy.gap.com/browse/product.do?pid=482993002&cid=72091&pcid=72091&vid=1&grid=pds_6_584_1&cpos=6&cexp=1414&cid=CategoryIDs%3D72091&cvar=10356&ctype=Listing&cpid=res20010610510586198191431\n",
      "https://oldnavy.gap.com/browse/product.do?pid=484896032&cid=72091&pcid=72091&vid=1&grid=pds_126_584_1&cpos=134&cexp=1414&cid=CategoryIDs%3D72091&ctype=Listing&cpid=res20010610510586198191431\n",
      "https://oldnavy.gap.com/browse/product.do?pid=449182032&cid=72091&pcid=72091&vid=1&grid=pds_138_584_1&cpos=149&cexp=1414&cid=CategoryIDs%3D72091&ctype=Listing&cpid=res20010610510586198191431\n",
      "https://oldnavy.gap.com/browse/product.do?pid=481562012&cid=72091&pcid=72091&vid=1&grid=pds_106_584_1&cpos=106&cexp=1414&cid=CategoryIDs%3D72091&ctype=Listing&cpid=res20010610510586198191431\n",
      "https://oldnavy.gap.com/browse/product.do?pid=449312002&cid=72091&pcid=72091&vid=1&grid=pds_97_584_1&cpos=97&cexp=1414&cid=CategoryIDs%3D72091&cvar=10356&ctype=Listing&cpid=res20010610510586198191431\n",
      "https://oldnavy.gap.com/browse/product.do?pid=481052002&cid=72091&pcid=72091&vid=2&grid=pds_128_584_1&cpos=137&cexp=1414&cid=CategoryIDs%3D72091&ctype=Listing&cpid=res20010610510586198191431\n",
      "https://oldnavy.gap.com/browse/product.do?pid=483813002&cid=72091&pcid=72091&vid=1&grid=pds_114_584_1&cpos=115&cexp=1414&cid=CategoryIDs%3D72091&ctype=Listing&cpid=res20010610510586198191431\n",
      "https://oldnavy.gap.com/browse/product.do?pid=340135132&cid=72091&pcid=72091&vid=1&grid=pds_86_584_1&cpos=86&cexp=1414&cid=CategoryIDs%3D72091&cvar=10356&ctype=Listing&cpid=res20010610510586198191431\n",
      "https://oldnavy.gap.com/browse/product.do?pid=484858002&cid=72091&pcid=72091&vid=1&grid=pds_125_584_1&cpos=132&cexp=1414&cid=CategoryIDs%3D72091&ctype=Listing&cpid=res20010610510586198191431\n",
      "https://oldnavy.gap.com/browse/product.do?pid=484872012&cid=72091&pcid=72091&vid=1&grid=pds_101_584_1&cpos=101&cexp=1414&cid=CategoryIDs%3D72091&ctype=Listing&cpid=res20010610510586198191431\n",
      "https://oldnavy.gap.com/browse/product.do?pid=786455102&cid=72091&pcid=72091&vid=1&grid=pds_70_584_1&cpos=70&cexp=1414&cid=CategoryIDs%3D72091&cvar=10356&ctype=Listing&cpid=res20010610510586198191431\n",
      "https://oldnavy.gap.com/browse/product.do?pid=449788022&cid=72091&pcid=72091&vid=1&grid=pds_118_584_1&cpos=120&cexp=1414&cid=CategoryIDs%3D72091&ctype=Listing&cpid=res20010610510586198191431\n",
      "https://oldnavy.gap.com/browse/product.do?pid=484868012&cid=72091&pcid=72091&vid=1&grid=pds_140_584_1&cpos=151&cexp=1414&cid=CategoryIDs%3D72091&ctype=Listing&cpid=res20010610510586198191431\n",
      "https://oldnavy.gap.com/browse/product.do?pid=409748032&cid=72091&pcid=72091&vid=1&grid=pds_37_584_1&cpos=37&cexp=1414&cid=CategoryIDs%3D72091&cvar=10356&ctype=Listing&cpid=res20010610510586198191431\n",
      "https://oldnavy.gap.com/browse/product.do?pid=449160052&cid=72091&pcid=72091&vid=1&grid=pds_116_584_1&cpos=118&cexp=1414&cid=CategoryIDs%3D72091&ctype=Listing&cpid=res20010610510586198191431\n",
      "https://oldnavy.gap.com/browse/product.do?pid=504211002&cid=72091&pcid=72091&vid=1&grid=pds_100_584_1&cpos=100&cexp=1414&cid=CategoryIDs%3D72091&ctype=Listing&cpid=res20010610510586198191431\n",
      "https://oldnavy.gap.com/browse/product.do?pid=207419052&cid=72091&pcid=72091&vid=1&grid=pds_2_584_1&cpos=2&cexp=1414&cid=CategoryIDs%3D72091&cvar=10356&ctype=Listing&cpid=res20010610510586198191431\n",
      "https://oldnavy.gap.com/browse/product.do?pid=786455132&cid=72091&pcid=72091&vid=1&grid=pds_55_584_1&cpos=55&cexp=1414&cid=CategoryIDs%3D72091&cvar=10356&ctype=Listing&cpid=res20010610510586198191431\n",
      "https://oldnavy.gap.com/browse/product.do?pid=507376012&cid=72091&pcid=72091&vid=1&grid=pds_129_584_1&cpos=138&cexp=1414&cid=CategoryIDs%3D72091&ctype=Listing&cpid=res20010610510586198191431\n",
      "https://oldnavy.gap.com/browse/product.do?pid=449189002&cid=72091&pcid=72091&vid=1&grid=pds_25_584_1&cpos=25&cexp=1414&cid=CategoryIDs%3D72091&cvar=10356&ctype=Listing&cpid=res20010610510586198191431\n",
      "https://oldnavy.gap.com/browse/product.do?pid=484073002&cid=72091&pcid=72091&vid=1&grid=pds_143_584_1&cpos=155&cexp=1414&cid=CategoryIDs%3D72091&ctype=Listing&cpid=res20010610510586198191431\n",
      "https://oldnavy.gap.com/browse/product.do?pid=484852022&cid=72091&pcid=72091&vid=1&grid=pds_127_584_1&cpos=135&cexp=1414&cid=CategoryIDs%3D72091&ctype=Listing&cpid=res20010610510586198191431\n",
      "https://oldnavy.gap.com/browse/product.do?pid=449785002&cid=72091&pcid=72091&vid=1&grid=pds_105_584_1&cpos=105&cexp=1414&cid=CategoryIDs%3D72091&ctype=Listing&cpid=res20010610510586198191431\n",
      "https://oldnavy.gap.com/browse/product.do?pid=483402002&cid=72091&pcid=72091&vid=1&grid=pds_130_584_1&cpos=140&cexp=1414&cid=CategoryIDs%3D72091&ctype=Listing&cpid=res20010610510586198191431\n",
      "https://oldnavy.gap.com/browse/product.do?pid=481455002&cid=72091&pcid=72091&vid=1&grid=pds_99_584_1&cpos=99&cexp=1414&cid=CategoryIDs%3D72091&ctype=Listing&cpid=res20010610510586198191431\n",
      "https://oldnavy.gap.com/browse/product.do?pid=481562062&cid=72091&pcid=72091&vid=1&grid=pds_133_584_1&cpos=143&cexp=1414&cid=CategoryIDs%3D72091&ctype=Listing&cpid=res20010610510586198191431\n",
      "https://oldnavy.gap.com/browse/product.do?pid=484097062&cid=72091&pcid=72091&vid=1&grid=pds_109_584_1&cpos=109&cexp=1414&cid=CategoryIDs%3D72091&ctype=Listing&cpid=res20010610510586198191431\n",
      "https://oldnavy.gap.com/browse/product.do?pid=484569032&cid=72091&pcid=72091&vid=1&grid=pds_113_584_1&cpos=114&cexp=1414&cid=CategoryIDs%3D72091&ctype=Listing&cpid=res20010610510586198191431\n",
      "https://oldnavy.gap.com/browse/product.do?pid=481357012&cid=72091&pcid=72091&vid=1&grid=pds_28_584_1&cpos=28&cexp=1414&cid=CategoryIDs%3D72091&cvar=10356&ctype=Listing&cpid=res20010610510586198191431\n",
      "https://oldnavy.gap.com/browse/product.do?pid=483337012&cid=72091&pcid=72091&vid=1&grid=pds_142_584_1&cpos=154&cexp=1414&cid=CategoryIDs%3D72091&ctype=Listing&cpid=res20010610510586198191431\n",
      "https://oldnavy.gap.com/browse/product.do?pid=503591002&cid=72091&pcid=72091&vid=1&grid=pds_88_584_1&cpos=88&cexp=1414&cid=CategoryIDs%3D72091&cvar=10356&ctype=Listing&cpid=res20010610510586198191431\n",
      "https://oldnavy.gap.com/browse/product.do?pid=412061082&cid=72091&pcid=72091&vid=1&grid=pds_67_584_1&cpos=67&cexp=1414&cid=CategoryIDs%3D72091&cvar=10356&ctype=Listing&cpid=res20010610510586198191431\n",
      "https://oldnavy.gap.com/browse/product.do?pid=152216072&cid=72091&pcid=72091&vid=1&grid=pds_83_584_1&cpos=83&cexp=1414&cid=CategoryIDs%3D72091&cvar=10356&ctype=Listing&cpid=res20010610510586198191431\n",
      "https://oldnavy.gap.com/browse/product.do?pid=503926022&cid=72091&pcid=72091&vid=1&grid=pds_111_584_1&cpos=112&cexp=1414&cid=CategoryIDs%3D72091&ctype=Listing&cpid=res20010610510586198191431\n",
      "https://oldnavy.gap.com/browse/product.do?pid=450245002&cid=72091&pcid=72091&vid=1&grid=pds_11_584_1&cpos=11&cexp=1414&cid=CategoryIDs%3D72091&cvar=10356&ctype=Listing&cpid=res20010610510586198191431\n",
      "https://oldnavy.gap.com/browse/product.do?pid=449238012&cid=72091&pcid=72091&vid=1&grid=pds_96_584_1&cpos=96&cexp=1414&cid=CategoryIDs%3D72091&cvar=10356&ctype=Listing&cpid=res20010610510586198191431\n",
      "https://oldnavy.gap.com/browse/product.do?pid=152216052&cid=72091&pcid=72091&vid=1&grid=pds_82_584_1&cpos=82&cexp=1414&cid=CategoryIDs%3D72091&cvar=10356&ctype=Listing&cpid=res20010610510586198191431\n",
      "https://oldnavy.gap.com/browse/product.do?pid=207419042&cid=72091&pcid=72091&vid=1&grid=pds_87_584_1&cpos=87&cexp=1414&cid=CategoryIDs%3D72091&cvar=10356&ctype=Listing&cpid=res20010610510586198191431\n",
      "https://oldnavy.gap.com/browse/product.do?pid=412062042&cid=72091&pcid=72091&vid=1&grid=pds_18_584_1&cpos=18&cexp=1414&cid=CategoryIDs%3D72091&cvar=10356&ctype=Listing&cpid=res20010610510586198191431\n",
      "https://oldnavy.gap.com/browse/product.do?pid=412386002&cid=72091&pcid=72091&vid=1&grid=pds_50_584_1&cpos=50&cexp=1414&cid=CategoryIDs%3D72091&cvar=10356&ctype=Listing&cpid=res20010610510586198191431\n",
      "https://oldnavy.gap.com/browse/product.do?pid=340135052&cid=72091&pcid=72091&vid=1&grid=pds_80_584_1&cpos=80&cexp=1414&cid=CategoryIDs%3D72091&cvar=10356&ctype=Listing&cpid=res20010610510586198191431\n",
      "https://oldnavy.gap.com/browse/product.do?pid=409748012&cid=72091&pcid=72091&vid=1&grid=pds_8_584_1&cpos=8&cexp=1414&cid=CategoryIDs%3D72091&cvar=10356&ctype=Listing&cpid=res20010610510586198191431\n",
      "https://oldnavy.gap.com/browse/product.do?pid=483334002&cid=72091&pcid=72091&vid=1&grid=pds_112_584_1&cpos=113&cexp=1414&cid=CategoryIDs%3D72091&ctype=Listing&cpid=res20010610510586198191431\n",
      "https://oldnavy.gap.com/browse/product.do?pid=483754002&cid=72091&pcid=72091&vid=1&grid=pds_135_584_1&cpos=146&cexp=1414&cid=CategoryIDs%3D72091&ctype=Listing&cpid=res20010610510586198191431\n",
      "https://oldnavy.gap.com/browse/product.do?pid=484086012&cid=72091&pcid=72091&vid=1&grid=pds_92_584_1&cpos=92&cexp=1414&cid=CategoryIDs%3D72091&cvar=10356&ctype=Listing&cpid=res20010610510586198191431\n",
      "https://oldnavy.gap.com/browse/product.do?pid=201616062&cid=72091&pcid=72091&vid=1&grid=pds_29_584_1&cpos=29&cexp=1414&cid=CategoryIDs%3D72091&cvar=10356&ctype=Listing&cpid=res20010610510586198191431\n",
      "https://oldnavy.gap.com/browse/product.do?pid=449462052&cid=72091&pcid=72091&vid=1&grid=pds_23_584_1&cpos=23&cexp=1414&cid=CategoryIDs%3D72091&cvar=10356&ctype=Listing&cpid=res20010610510586198191431\n",
      "https://oldnavy.gap.com/browse/product.do?pid=391191032&cid=72091&pcid=72091&vid=1&grid=pds_21_584_1&cpos=21&cexp=1414&cid=CategoryIDs%3D72091&cvar=10356&ctype=Listing&cpid=res20010610510586198191431\n",
      "https://oldnavy.gap.com/browse/product.do?pid=412348012&cid=72091&pcid=72091&vid=1&grid=pds_40_584_1&cpos=40&cexp=1414&cid=CategoryIDs%3D72091&cvar=10356&ctype=Listing&cpid=res20010610510586198191431\n",
      "https://oldnavy.gap.com/browse/product.do?pid=201616092&cid=72091&pcid=72091&vid=1&grid=pds_35_584_1&cpos=35&cexp=1414&cid=CategoryIDs%3D72091&cvar=10356&ctype=Listing&cpid=res20010610510586198191431\n",
      "https://oldnavy.gap.com/browse/product.do?pid=480997002&cid=72091&pcid=72091&vid=1&grid=pds_13_584_1&cpos=13&cexp=1414&cid=CategoryIDs%3D72091&cvar=10356&ctype=Listing&cpid=res20010610510586198191431\n",
      "https://oldnavy.gap.com/browse/product.do?pid=152216472&cid=72091&pcid=72091&vid=1&grid=pds_79_584_1&cpos=79&cexp=1414&cid=CategoryIDs%3D72091&cvar=10356&ctype=Listing&cpid=res20010610510586198191431\n",
      "https://oldnavy.gap.com/browse/product.do?pid=449435002&cid=72091&pcid=72091&vid=1&grid=pds_136_584_1&cpos=147&cexp=1414&cid=CategoryIDs%3D72091&ctype=Listing&cpid=res20010610510586198191431\n",
      "https://oldnavy.gap.com/browse/product.do?pid=120449002&cid=72091&pcid=72091&vid=1&grid=pds_42_584_1&cpos=42&cexp=1414&cid=CategoryIDs%3D72091&cvar=10356&ctype=Listing&cpid=res20010610510586198191431\n",
      "https://oldnavy.gap.com/browse/product.do?pid=412221022&cid=72091&pcid=72091&vid=1&grid=pds_59_584_1&cpos=59&cexp=1414&cid=CategoryIDs%3D72091&cvar=10356&ctype=Listing&cpid=res20010610510586198191431\n",
      "https://oldnavy.gap.com/browse/product.do?pid=390932012&cid=72091&pcid=72091&vid=1&grid=pds_81_584_1&cpos=81&cexp=1414&cid=CategoryIDs%3D72091&cvar=10356&ctype=Listing&cpid=res20010610510586198191431\n",
      "https://oldnavy.gap.com/browse/product.do?pid=449238042&cid=72091&pcid=72091&vid=1&grid=pds_139_584_1&cpos=150&cexp=1414&cid=CategoryIDs%3D72091&ctype=Listing&cpid=res20010610510586198191431\n",
      "https://oldnavy.gap.com/browse/product.do?pid=481386012&cid=72091&pcid=72091&vid=1&grid=pds_64_584_1&cpos=64&cexp=1414&cid=CategoryIDs%3D72091&cvar=10356&ctype=Listing&cpid=res20010610510586198191431\n",
      "https://oldnavy.gap.com/browse/product.do?pid=391424022&cid=72091&pcid=72091&vid=1&grid=pds_27_584_1&cpos=27&cexp=1414&cid=CategoryIDs%3D72091&cvar=10356&ctype=Listing&cpid=res20010610510586198191431\n",
      "https://oldnavy.gap.com/browse/product.do?pid=409743002&cid=72091&pcid=72091&vid=1&grid=pds_7_584_1&cpos=7&cexp=1414&cid=CategoryIDs%3D72091&cvar=10356&ctype=Listing&cpid=res20010610510586198191431\n",
      "https://oldnavy.gap.com/browse/product.do?pid=412093012&cid=72091&pcid=72091&vid=1&grid=pds_61_584_1&cpos=61&cexp=1414&cid=CategoryIDs%3D72091&cvar=10356&ctype=Listing&cpid=res20010610510586198191431\n",
      "https://oldnavy.gap.com/browse/product.do?pid=449220022&cid=72091&pcid=72091&vid=1&grid=pds_132_584_1&cpos=142&cexp=1414&cid=CategoryIDs%3D72091&ctype=Listing&cpid=res20010610510586198191431\n",
      "https://oldnavy.gap.com/browse/product.do?pid=503925012&cid=72091&pcid=72091&vid=1&grid=pds_110_584_1&cpos=110&cexp=1414&cid=CategoryIDs%3D72091&ctype=Listing&cpid=res20010610510586198191431\n",
      "https://oldnavy.gap.com/browse/product.do?pid=152216122&cid=72091&pcid=72091&vid=1&grid=pds_77_584_1&cpos=77&cexp=1414&cid=CategoryIDs%3D72091&cvar=10356&ctype=Listing&cpid=res20010610510586198191431\n",
      "https://oldnavy.gap.com/browse/product.do?pid=484887022&cid=72091&pcid=72091&vid=1&grid=pds_104_584_1&cpos=104&cexp=1414&cid=CategoryIDs%3D72091&ctype=Listing&cpid=res20010610510586198191431\n",
      "https://oldnavy.gap.com/browse/product.do?pid=449349022&cid=72091&pcid=72091&vid=1&grid=pds_108_584_1&cpos=108&cexp=1414&cid=CategoryIDs%3D72091&ctype=Listing&cpid=res20010610510586198191431\n",
      "https://oldnavy.gap.com/browse/product.do?pid=412416002&cid=72091&pcid=72091&vid=1&grid=pds_58_584_1&cpos=58&cexp=1414&cid=CategoryIDs%3D72091&cvar=10356&ctype=Listing&cpid=res20010610510586198191431\n",
      "https://oldnavy.gap.com/browse/product.do?pid=449222042&cid=72091&pcid=72091&vid=1&grid=pds_141_584_1&cpos=153&cexp=1414&cid=CategoryIDs%3D72091&ctype=Listing&cpid=res20010610510586198191431\n",
      "https://oldnavy.gap.com/browse/product.do?pid=449184002&cid=72091&pcid=72091&vid=1&grid=pds_33_584_1&cpos=33&cexp=1414&cid=CategoryIDs%3D72091&cvar=10356&ctype=Listing&cpid=res20010610510586198191431\n",
      "https://oldnavy.gap.com/browse/product.do?pid=207419072&cid=72091&pcid=72091&vid=1&grid=pds_4_584_1&cpos=4&cexp=1414&cid=CategoryIDs%3D72091&cvar=10356&ctype=Listing&cpid=res20010610510586198191431\n",
      "https://oldnavy.gap.com/browse/product.do?pid=201616042&cid=72091&pcid=72091&vid=1&grid=pds_22_584_1&cpos=22&cexp=1414&cid=CategoryIDs%3D72091&cvar=10356&ctype=Listing&cpid=res20010610510586198191431\n",
      "https://oldnavy.gap.com/browse/product.do?pid=201616102&cid=72091&pcid=72091&vid=1&grid=pds_36_584_1&cpos=36&cexp=1414&cid=CategoryIDs%3D72091&cvar=10356&ctype=Listing&cpid=res20010610510586198191431\n",
      "https://oldnavy.gap.com/browse/product.do?pid=412292022&cid=72091&pcid=72091&vid=1&grid=pds_71_584_1&cpos=71&cexp=1414&cid=CategoryIDs%3D72091&cvar=10356&ctype=Listing&cpid=res20010610510586198191431\n",
      "https://oldnavy.gap.com/browse/product.do?pid=484075002&cid=72091&pcid=72091&vid=1&grid=pds_103_584_1&cpos=103&cexp=1414&cid=CategoryIDs%3D72091&ctype=Listing&cpid=res20010610510586198191431\n",
      "https://oldnavy.gap.com/browse/product.do?pid=449223032&cid=72091&pcid=72091&vid=1&grid=pds_91_584_1&cpos=91&cexp=1414&cid=CategoryIDs%3D72091&cvar=10356&ctype=Listing&cpid=res20010610510586198191431\n",
      "https://oldnavy.gap.com/browse/product.do?pid=391191022&cid=72091&pcid=72091&vid=1&grid=pds_19_584_1&cpos=19&cexp=1414&cid=CategoryIDs%3D72091&cvar=10356&ctype=Listing&cpid=res20010610510586198191431\n",
      "https://oldnavy.gap.com/browse/product.do?pid=481562002&cid=72091&pcid=72091&vid=1&grid=pds_98_584_1&cpos=98&cexp=1414&cid=CategoryIDs%3D72091&cvar=10356&ctype=Listing&cpid=res20010610510586198191431\n",
      "https://oldnavy.gap.com/browse/product.do?pid=201616072&cid=72091&pcid=72091&vid=1&grid=pds_1_584_1&cpos=1&cexp=1414&cid=CategoryIDs%3D72091&cvar=10356&ctype=Listing&cpid=res20010610510586198191431\n"
     ]
    }
   ],
   "source": [
    "for i in HREFS_UNIQUE:\n",
    "    print(i)"
   ]
  },
  {
   "cell_type": "code",
   "execution_count": null,
   "metadata": {},
   "outputs": [],
   "source": []
  },
  {
   "cell_type": "code",
   "execution_count": 240,
   "metadata": {},
   "outputs": [
    {
     "data": {
      "text/plain": [
       "'https://oldnavy.gap.com/browse/product.do?pid=380894032&cid=1127604&pcid=72091&vid=1&grid=pds_299_610_2'"
      ]
     },
     "execution_count": 240,
     "metadata": {},
     "output_type": "execute_result"
    }
   ],
   "source": [
    "browser.find_elements_by_class_name('product-card__link')[-1].get_attribute('href')"
   ]
  },
  {
   "cell_type": "code",
   "execution_count": 233,
   "metadata": {},
   "outputs": [
    {
     "data": {
      "text/plain": [
       "'https://oldnavy.gap.com/browse/product.do?pid=484822032&cid=1036992&pcid=72091&vid=1&grid=pds_299_624_1'"
      ]
     },
     "execution_count": 233,
     "metadata": {},
     "output_type": "execute_result"
    }
   ],
   "source": [
    "browser.find_elements_by_class_name('product-card__link')[-1].get_attribute('href')"
   ]
  },
  {
   "cell_type": "code",
   "execution_count": 262,
   "metadata": {},
   "outputs": [
    {
     "data": {
      "text/plain": [
       "288"
      ]
     },
     "execution_count": 262,
     "metadata": {},
     "output_type": "execute_result"
    }
   ],
   "source": [
    "len(browser.find_elements_by_class_name('product-card__link'))"
   ]
  },
  {
   "cell_type": "code",
   "execution_count": 244,
   "metadata": {},
   "outputs": [],
   "source": [
    "browser.execute_script('history.back()')"
   ]
  },
  {
   "cell_type": "code",
   "execution_count": 238,
   "metadata": {},
   "outputs": [
    {
     "data": {
      "text/plain": [
       "True"
      ]
     },
     "execution_count": 238,
     "metadata": {},
     "output_type": "execute_result"
    }
   ],
   "source": [
    "browser.save_screenshot('asd.png')"
   ]
  },
  {
   "cell_type": "code",
   "execution_count": 169,
   "metadata": {},
   "outputs": [],
   "source": [
    "browser = createDriver()"
   ]
  },
  {
   "cell_type": "code",
   "execution_count": 170,
   "metadata": {},
   "outputs": [],
   "source": [
    "browser.get(browser.current_url)"
   ]
  },
  {
   "cell_type": "code",
   "execution_count": null,
   "metadata": {},
   "outputs": [],
   "source": []
  },
  {
   "cell_type": "code",
   "execution_count": null,
   "metadata": {},
   "outputs": [],
   "source": [
    "    #\"cantidad de colores\"\n",
    "    time.sleep(.8)\n",
    "    try:\n",
    "\n",
    "        aux_col = [i for i in browser.find_elements_by_class_name('tabs--object') if i.text.upper() == 'COLOR'][0]            \n",
    "        cantidad_colores = [i.get_attribute('name') for i in aux_col.find_element_by_class_name('accordion--content--inner').find_elements_by_tag_name('input')]\n",
    "    except:\n",
    "        excepts.append(browser.current_url)\n",
    "\n",
    "\n",
    "    #LOOP CANTIDAD DE COLORES\n",
    "    for index_color,nombre_color in enumerate(cantidad_colores):\n",
    "\n",
    "        #CLICK EN EL COLOR DEL INDICE\n",
    "#            browser.implicitly_wait(30)\n",
    "        time.sleep(.8)\n",
    "        try:\n",
    "\n",
    "            element_color = browser.find_element_by_css_selector('.tabs--object.tabs--header-object.facet-color')\n",
    "            element_color.click()\n",
    "            element_color.find_elements_by_tag_name('input')[index_color].click()\n",
    "            element_color.click()\n",
    "        except:\n",
    "            pass\n",
    "\n",
    "        if '0 Items in the product grid' == browser.execute_script('''var x = document.getElementsByClassName('category__item-count')[0].textContent;return x;'''):\n",
    "\n",
    "            #QUITAR FILTRO DE COLOR Y SEGUIR EL SCRAPEO\n",
    "            browser.find_elements_by_css_selector('.tag--icon.icon-tag-x')[len(cantidad_categorias)+1].click()\n",
    "            \n",
    "            continue\n",
    "\n",
    "        #NOMBRE COLOR\n",
    "        #CANTIDAD DE PRODUCTOS DESPUÉS DE FILTRAR\n",
    "        time.sleep(.8)\n",
    "        try:\n",
    "            cant_productos = len(browser.find_element_by_css_selector('.product-card-grid__root.grid.ism-root').find_elements_by_css_selector('.product-card-grid__item-1-2.product-card-grid__item-lg-1-3.product-card-grid__item-xl-1-3.product-card-grid__item-1280-1-4'))\n",
    "        except:\n",
    "            \n",
    "            continue\n",
    "\n",
    "        soup = BeautifulSoup(browser.page_source)\n",
    "\n",
    "        html_plano = [i for i in soup.find_all(class_='product-card-grid__root grid ism-root')][0]\n",
    "\n",
    "        for index_p,html in enumerate(html_plano):\n",
    "\n",
    "            try:\n",
    "\n",
    "                lista_productos.append([index_p,\n",
    "                                        html.a['id'],\n",
    "                                        html.a.img['alt'],\n",
    "                                        row['sexo'],\n",
    "                                        row['tipo'],\n",
    "                                        [i.text for i in html.find_all(class_='product-card-price')],\n",
    "                                        html.a.img['src'],\n",
    "                                        html.a['href'],\n",
    "                                        nombre_categoria,\n",
    "                                        nombre_color])\n",
    "            except:\n",
    "                EX.append(html)\n",
    "\n",
    "        try:\n",
    "\n",
    "            #BORRAR FILTRO COLOR\n",
    "            browser.find_elements_by_css_selector('.tag--icon.icon-tag-x')[len(cantidad_categorias)+1].click()\n",
    "            \n",
    "        except:\n",
    "            print(\"no borro filtro color\")\n",
    "            try:\n",
    "                element_color = browser.find_element_by_css_selector('.tabs--object.tabs--header-object.facet-color')\n",
    "                element_color.click()\n",
    "                element_color.find_elements_by_tag_name('input')[index_color].click()\n",
    "                element_color.click()\n",
    "            except:\n",
    "                print(\"No borro filtro color en 2 oportunidades\")\n",
    "                raise"
   ]
  },
  {
   "cell_type": "code",
   "execution_count": null,
   "metadata": {},
   "outputs": [],
   "source": []
  },
  {
   "cell_type": "markdown",
   "metadata": {},
   "source": [
    "## DEBUG"
   ]
  },
  {
   "cell_type": "code",
   "execution_count": 157,
   "metadata": {
    "scrolled": true
   },
   "outputs": [
    {
     "name": "stdout",
     "output_type": "stream",
     "text": [
      "no borro filtro color\n",
      "no borro filtro color\n",
      "no borro filtro color\n",
      "no borro filtro color\n",
      "no borro filtro color\n",
      "no borro filtro color\n",
      "no borro filtro color\n",
      "no borro filtro color\n",
      "no borro filtro color\n",
      "no borro filtro color\n",
      "no borro filtro color\n",
      "no borro filtro color\n",
      "no borro filtro color\n",
      "no borro filtro color\n",
      "no borro filtro color\n",
      "no borro filtro color\n",
      "no borro filtro color\n",
      "no borro filtro color\n",
      "no borro filtro color\n",
      "no borro filtro color\n",
      "no borro filtro color\n",
      "No borro filtro color en 2 oportunidades\n"
     ]
    },
    {
     "ename": "IndexError",
     "evalue": "list index out of range",
     "output_type": "error",
     "traceback": [
      "\u001b[0;31m---------------------------------------------------------------------------\u001b[0m",
      "\u001b[0;31mIndexError\u001b[0m                                Traceback (most recent call last)",
      "\u001b[0;32m<ipython-input-157-984989bc1cc2>\u001b[0m in \u001b[0;36m<module>\u001b[0;34m\u001b[0m\n\u001b[1;32m    109\u001b[0m             \u001b[0;31m#BORRAR FILTRO COLOR\u001b[0m\u001b[0;34m\u001b[0m\u001b[0;34m\u001b[0m\u001b[0;34m\u001b[0m\u001b[0m\n\u001b[0;32m--> 110\u001b[0;31m             \u001b[0mbrowser\u001b[0m\u001b[0;34m.\u001b[0m\u001b[0mfind_elements_by_css_selector\u001b[0m\u001b[0;34m(\u001b[0m\u001b[0;34m'.tag--icon.icon-tag-x'\u001b[0m\u001b[0;34m)\u001b[0m\u001b[0;34m[\u001b[0m\u001b[0mlen\u001b[0m\u001b[0;34m(\u001b[0m\u001b[0mcantidad_categorias\u001b[0m\u001b[0;34m)\u001b[0m\u001b[0;34m+\u001b[0m\u001b[0;36m1\u001b[0m\u001b[0;34m]\u001b[0m\u001b[0;34m.\u001b[0m\u001b[0mclick\u001b[0m\u001b[0;34m(\u001b[0m\u001b[0;34m)\u001b[0m\u001b[0;34m\u001b[0m\u001b[0;34m\u001b[0m\u001b[0m\n\u001b[0m\u001b[1;32m    111\u001b[0m \u001b[0;34m\u001b[0m\u001b[0m\n",
      "\u001b[0;31mIndexError\u001b[0m: list index out of range",
      "\nDuring handling of the above exception, another exception occurred:\n",
      "\u001b[0;31mIndexError\u001b[0m                                Traceback (most recent call last)",
      "\u001b[0;32m<ipython-input-157-984989bc1cc2>\u001b[0m in \u001b[0;36m<module>\u001b[0;34m\u001b[0m\n\u001b[1;32m    115\u001b[0m                 \u001b[0melement_color\u001b[0m \u001b[0;34m=\u001b[0m \u001b[0mbrowser\u001b[0m\u001b[0;34m.\u001b[0m\u001b[0mfind_element_by_css_selector\u001b[0m\u001b[0;34m(\u001b[0m\u001b[0;34m'.tabs--object.tabs--header-object.facet-color'\u001b[0m\u001b[0;34m)\u001b[0m\u001b[0;34m\u001b[0m\u001b[0;34m\u001b[0m\u001b[0m\n\u001b[1;32m    116\u001b[0m                 \u001b[0melement_color\u001b[0m\u001b[0;34m.\u001b[0m\u001b[0mclick\u001b[0m\u001b[0;34m(\u001b[0m\u001b[0;34m)\u001b[0m\u001b[0;34m\u001b[0m\u001b[0;34m\u001b[0m\u001b[0m\n\u001b[0;32m--> 117\u001b[0;31m                 \u001b[0melement_color\u001b[0m\u001b[0;34m.\u001b[0m\u001b[0mfind_elements_by_tag_name\u001b[0m\u001b[0;34m(\u001b[0m\u001b[0;34m'input'\u001b[0m\u001b[0;34m)\u001b[0m\u001b[0;34m[\u001b[0m\u001b[0mindex_color\u001b[0m\u001b[0;34m]\u001b[0m\u001b[0;34m.\u001b[0m\u001b[0mclick\u001b[0m\u001b[0;34m(\u001b[0m\u001b[0;34m)\u001b[0m\u001b[0;34m\u001b[0m\u001b[0;34m\u001b[0m\u001b[0m\n\u001b[0m\u001b[1;32m    118\u001b[0m                 \u001b[0melement_color\u001b[0m\u001b[0;34m.\u001b[0m\u001b[0mclick\u001b[0m\u001b[0;34m(\u001b[0m\u001b[0;34m)\u001b[0m\u001b[0;34m\u001b[0m\u001b[0;34m\u001b[0m\u001b[0m\n\u001b[1;32m    119\u001b[0m             \u001b[0;32mexcept\u001b[0m\u001b[0;34m:\u001b[0m\u001b[0;34m\u001b[0m\u001b[0;34m\u001b[0m\u001b[0m\n",
      "\u001b[0;31mIndexError\u001b[0m: list index out of range"
     ]
    }
   ],
   "source": [
    "#DEBUG\n",
    "lista_productos = []\n",
    "excepts = []\n",
    "EX = []\n",
    "for index,row in dfLinks.iterrows():\n",
    "    try:\n",
    "        browser.delete_all_cookies()\n",
    "        browser.get(row['url'])\n",
    "    except:\n",
    "        browser.quit()\n",
    "        time.sleep(1)\n",
    "        browser = createDriver()\n",
    "        \n",
    "        continue\n",
    "    \n",
    "    #\"cantidad categorias\"\n",
    "    if '0 Items in the product grid' == browser.execute_script('''var x = document.getElementsByClassName('category__item-count')[0].textContent;return x;'''):\n",
    "        \n",
    "        continue\n",
    "    \n",
    "    try:\n",
    "        \n",
    "        time.sleep(2)\n",
    "        #DUDA\n",
    "        category = [i for i in browser.find_elements_by_class_name('tabs--object') if i.text.upper() == 'CATEGORY'][0]\n",
    "        cantidad_categorias = [i.get_attribute('name') for i in category.find_element_by_class_name('accordion--content--inner').find_elements_by_tag_name('input')]\n",
    "    except:\n",
    "        cantidad_categorias = ['sin categoria']\n",
    "        excepts.append([row['url'],\n",
    "                       row['tipo']])\n",
    "        \n",
    "        continue\n",
    "\n",
    "    #FOR DE CANTIDAD DE CATEGORIAS\n",
    "    for index_categoria,nombre_categoria in enumerate(cantidad_categorias):\n",
    "\n",
    "        #CLICK EN LA CATEGORIA DEL INDICE\n",
    "\n",
    "        element_style = browser.find_element_by_css_selector('.tabs--object.tabs--header-object.facet-style')\n",
    "        element_style.click()\n",
    "        element_style.find_elements_by_tag_name('input')[index_categoria].click()\n",
    "        element_style.click()\n",
    "\n",
    "            \n",
    "\n",
    "    #\"cantidad de colores\"\n",
    "    time.sleep(.8)\n",
    "    try:\n",
    "\n",
    "        aux_col = [i for i in browser.find_elements_by_class_name('tabs--object') if i.text.upper() == 'COLOR'][0]            \n",
    "        cantidad_colores = [i.get_attribute('name') for i in aux_col.find_element_by_class_name('accordion--content--inner').find_elements_by_tag_name('input')]\n",
    "    except:\n",
    "        excepts.append(browser.current_url)\n",
    "\n",
    "\n",
    "    #LOOP CANTIDAD DE COLORES\n",
    "    for index_color,nombre_color in enumerate(cantidad_colores):\n",
    "\n",
    "        #CLICK EN EL COLOR DEL INDICE\n",
    "#            browser.implicitly_wait(30)\n",
    "        time.sleep(.8)\n",
    "        try:\n",
    "\n",
    "            element_color = browser.find_element_by_css_selector('.tabs--object.tabs--header-object.facet-color')\n",
    "            element_color.click()\n",
    "            element_color.find_elements_by_tag_name('input')[index_color].click()\n",
    "            element_color.click()\n",
    "        except:\n",
    "            pass\n",
    "\n",
    "        if '0 Items in the product grid' == browser.execute_script('''var x = document.getElementsByClassName('category__item-count')[0].textContent;return x;'''):\n",
    "\n",
    "            #QUITAR FILTRO DE COLOR Y SEGUIR EL SCRAPEO\n",
    "            browser.find_elements_by_css_selector('.tag--icon.icon-tag-x')[len(cantidad_categorias)+1].click()\n",
    "            \n",
    "            continue\n",
    "\n",
    "        #NOMBRE COLOR\n",
    "        #CANTIDAD DE PRODUCTOS DESPUÉS DE FILTRAR\n",
    "        time.sleep(.8)\n",
    "        try:\n",
    "            cant_productos = len(browser.find_element_by_css_selector('.product-card-grid__root.grid.ism-root').find_elements_by_css_selector('.product-card-grid__item-1-2.product-card-grid__item-lg-1-3.product-card-grid__item-xl-1-3.product-card-grid__item-1280-1-4'))\n",
    "        except:\n",
    "            \n",
    "            continue\n",
    "\n",
    "        soup = BeautifulSoup(browser.page_source)\n",
    "\n",
    "        html_plano = [i for i in soup.find_all(class_='product-card-grid__root grid ism-root')][0]\n",
    "\n",
    "        for index_p,html in enumerate(html_plano):\n",
    "\n",
    "            try:\n",
    "\n",
    "                lista_productos.append([index_p,\n",
    "                                        html.a['id'],\n",
    "                                        html.a.img['alt'],\n",
    "                                        row['sexo'],\n",
    "                                        row['tipo'],\n",
    "                                        [i.text for i in html.find_all(class_='product-card-price')],\n",
    "                                        html.a.img['src'],\n",
    "                                        html.a['href'],\n",
    "                                        nombre_categoria,\n",
    "                                        nombre_color])\n",
    "            except:\n",
    "                EX.append(html)\n",
    "\n",
    "        try:\n",
    "\n",
    "            #BORRAR FILTRO COLOR\n",
    "            browser.find_elements_by_css_selector('.tag--icon.icon-tag-x')[len(cantidad_categorias)+1].click()\n",
    "            \n",
    "        except:\n",
    "            print(\"no borro filtro color\")\n",
    "            try:\n",
    "                element_color = browser.find_element_by_css_selector('.tabs--object.tabs--header-object.facet-color')\n",
    "                element_color.click()\n",
    "                element_color.find_elements_by_tag_name('input')[index_color].click()\n",
    "                element_color.click()\n",
    "            except:\n",
    "                print(\"No borro filtro color en 2 oportunidades\")\n",
    "                raise"
   ]
  },
  {
   "cell_type": "code",
   "execution_count": null,
   "metadata": {},
   "outputs": [],
   "source": []
  },
  {
   "cell_type": "code",
   "execution_count": null,
   "metadata": {},
   "outputs": [],
   "source": []
  },
  {
   "cell_type": "code",
   "execution_count": null,
   "metadata": {},
   "outputs": [],
   "source": []
  },
  {
   "cell_type": "code",
   "execution_count": 27,
   "metadata": {},
   "outputs": [],
   "source": [
    "df = pd.DataFrame(lista_productos)"
   ]
  },
  {
   "cell_type": "code",
   "execution_count": 28,
   "metadata": {},
   "outputs": [],
   "source": [
    "df.rename(columns={0:'sku',\n",
    "                  1:'descripcion',\n",
    "                  2:'categoria',\n",
    "                  3:'tipo',\n",
    "                  4:'prices',\n",
    "                  5:'img',\n",
    "                  6:'url',\n",
    "                  7:'sub_categoria',\n",
    "                  8:'color'},inplace=True)"
   ]
  },
  {
   "cell_type": "code",
   "execution_count": 29,
   "metadata": {},
   "outputs": [],
   "source": [
    "df['prices'] = df['prices'].apply(lambda x:  x[0])\n",
    "\n",
    "df['precio_dto'] = df['prices'].apply(lambda x : x.split('$')[2] if len(x.split('$')) == 3 else x.split('$')[1])\n",
    "\n",
    "df['precio_original'] = df['prices'].apply(lambda x : x.split('$')[1] if len(x.split('$')) == 3 else x.split('$')[1])"
   ]
  },
  {
   "cell_type": "code",
   "execution_count": 30,
   "metadata": {},
   "outputs": [],
   "source": [
    "df = df.drop_duplicates()"
   ]
  },
  {
   "cell_type": "code",
   "execution_count": 31,
   "metadata": {},
   "outputs": [],
   "source": [
    "browser.quit()"
   ]
  },
  {
   "cell_type": "code",
   "execution_count": 34,
   "metadata": {},
   "outputs": [],
   "source": [
    "df.to_excel(f'./Salida/OLDNAVY_WOMEN{fecha}.xlsx')"
   ]
  },
  {
   "cell_type": "code",
   "execution_count": 32,
   "metadata": {},
   "outputs": [
    {
     "name": "stdout",
     "output_type": "stream",
     "text": [
      "from selenium import webdriver\n",
      "from selenium.webdriver.support.ui import WebDriverWait\n",
      "from selenium.webdriver.common.by import By\n",
      "from selenium.webdriver.support import expected_conditions as EC\n",
      "from selenium.webdriver.chrome.options import Options\n",
      "from bs4 import BeautifulSoup\n",
      "import pandas as pd\n",
      "import requests\n",
      "from time import strftime\n",
      "import datetime\n",
      "import time\n",
      "from pandas import ExcelWriter\n",
      "import re\n",
      "import pyodbc\n",
      "import asyncio\n",
      "from selenium.webdriver.common.action_chains import ActionChains\n",
      "import numpy as np\n",
      "import pdb\n",
      "#pdb.set_trace()\n",
      "from ipywidgets import IntProgress\n",
      "from IPython.display import display\n",
      "import os\n",
      "from selenium.webdriver.support import expected_conditions\n",
      "from IPython.display import clear_output\n",
      "TIEMPO_DE_ESPERA = 5.5\n",
      "start_ = datetime.datetime.now()\n",
      "fecha = datetime.date.today()\n",
      "hoy = fecha.strftime('%Y/%m/%d')\n",
      "\n",
      "user_agent = 'Mozilla/5.0 (X11; Linux x86_64) AppleWebKit/537.36 (KHTML, like Gecko) Chrome/60.0.3112.50 Safari/537.36'\n",
      "\n",
      "chrome_options = Options()\n",
      "chrome_options.add_argument(\"--headless\")\n",
      "chrome_options.add_argument(\"--no-sandbox\")\n",
      "chrome_options.add_argument(f'user-agent={user_agent}')\n",
      "chrome_options.add_argument(\"--window-size=2025x10000\")\n",
      "# options.headless = True\n",
      "browser = webdriver.Chrome(options = chrome_options)\n",
      "url_base = \"https://oldnavy.gap.com\"\n",
      "ipath = f'OLDNAVY_LINKS2019-11-19.xlsx'\n",
      "dfLinks = pd.read_excel(ipath)\n",
      "dfLinks = dfLinks[dfLinks['sexo']=='Women']\n",
      "#modal de inicio\n",
      "try:\n",
      "    browser.execute_script(\"document.getElementsByClassName('universal-modal__close-button')[0].click();\")\n",
      "except:\n",
      "    pass\n",
      "#promociones_click para ocultar\n",
      "try:\n",
      "    browser.execute_script(\"document.getElementsByClassName('promoDrawer__handlebar__icon')[0].click();\")\n",
      "except:\n",
      "    pass\n",
      "dfLinks.reset_index(drop=True,inplace=True)\n",
      "lista_productos = []\n",
      "excepts = []\n",
      "for index,row in dfLinks.iterrows():\n",
      "    browser.get(row['url'])\n",
      "    \n",
      "    #\"cantidad categorias\"\n",
      "    if '0 Items in the product grid' == browser.execute_script('''var x = document.getElementsByClassName('category__item-count')[0].textContent;return x;'''):\n",
      "        continue\n",
      "    \n",
      "    try:\n",
      "        #le asigno una clase \"FILTRO_CATEGORIA\" para poder buscar los colores\n",
      "        time.sleep(5)\n",
      "        category = [i for i in browser.find_elements_by_class_name('tabs--object') if i.text.upper() == 'CATEGORY'][0]\n",
      "        cantidad_categorias = [i.get_attribute('name') for i in category.find_element_by_class_name('accordion--content--inner').find_elements_by_tag_name('input')]\n",
      "    except:\n",
      "        cantidad_categorias = ['sin categoria']\n",
      "        excepts.append([row['url'],\n",
      "                       row['tipo']])\n",
      "        continue\n",
      "\n",
      "    #FOR DE CANTIDAD DE CATEGORIAS\n",
      "    for index_categoria,nombre_categoria in enumerate(cantidad_categorias):\n",
      "        \n",
      "        \n",
      "        #CLICK EN LA CATEGORIA DEL INDICE\n",
      "\n",
      "        time.sleep(3)\n",
      "        try:\n",
      "            browser.execute_script(f'''\n",
      "            document.getElementsByClassName('tabs--object tabs--header-object facet-style')[0].getElementsByTagName('input')[{index_categoria}].click();\n",
      "            ''')\n",
      "        except:\n",
      "            pass\n",
      "        \n",
      "       \n",
      "        if '0 Items in the product grid' == browser.execute_script('''var x = document.getElementsByClassName('category__item-count')[0].textContent;return x;'''):\n",
      "            \n",
      "            continue\n",
      "\n",
      "        \n",
      "        #\"cantidad de colores\"\n",
      "        #le asigno una clase \"FILTRO_COLOR\" para poder buscar los colores\n",
      "        time.sleep(5)\n",
      "        try:\n",
      "            \n",
      "            aux_col = [i for i in browser.find_elements_by_class_name('tabs--object') if i.text.upper() == 'COLOR'][0]            \n",
      "            cantidad_colores = [i.get_attribute('name') for i in aux_col.find_element_by_class_name('accordion--content--inner').find_elements_by_tag_name('input')]\n",
      "        except:\n",
      "            excepts.append(browser.current_url)\n",
      "        \n",
      "        \n",
      "        #LOOP CANTIDAD DE COLORES\n",
      "        for index_color,nombre_color in enumerate(cantidad_colores):\n",
      "\n",
      "            #CLICK EN EL COLOR DEL INDICE\n",
      "#            browser.implicitly_wait(30)\n",
      "            time.sleep(5)\n",
      "            \n",
      "            try:\n",
      "                browser.execute_script(f'''\n",
      "                document.getElementsByClassName('tabs--object tabs--header-object facet-color')[0].getElementsByTagName('input')[{index_color}].click();\n",
      "                ''')\n",
      "            except:\n",
      "                pass\n",
      "        \n",
      "        \n",
      "            if '0 Items in the product grid' == browser.execute_script('''var x = document.getElementsByClassName('category__item-count')[0].textContent;return x;'''):\n",
      "\n",
      "                continue\n",
      "        \n",
      "\n",
      "            #NOMBRE COLOR\n",
      "            #CANTIDAD DE PRODUCTOS DESPUÉS DE FILTRAR\n",
      "#            browser.implicitly_wait(30)\n",
      "            time.sleep(5)\n",
      "            try:\n",
      "                cant_productos = browser.execute_script('''\n",
      "                var x = document.getElementsByClassName('product-card-grid__root grid ism-root')[0].getElementsByClassName('product-card-grid__item-1-2 product-card-grid__item-lg-1-3 product-card-grid__item-xl-1-3 product-card-grid__item-1280-1-4').length;\n",
      "                return x;''')\n",
      "            except:\n",
      "                continue\n",
      "            \n",
      "            html_plano = browser.execute_script('''\n",
      "            var x = document.getElementsByClassName('product-card-grid__root grid ism-root')[0].innerHTML;\n",
      "            return x''')\n",
      "            html_plano = BeautifulSoup(html_plano)\n",
      "            for html in html_plano:\n",
      "                lista_productos.append([html.a['id'],\n",
      "                                        html.a.img['alt'],\n",
      "                                        row['sexo'],\n",
      "                                        row['tipo'],\n",
      "                                        [i.text for i in html.find_all(class_='product-card-price')],\n",
      "                                        html.a.img['src'],\n",
      "                                        html.a['href'],\n",
      "                                        nombre_categoria,\n",
      "                                        nombre_color])\n",
      "\n",
      "            \n",
      "            try:\n",
      "                #BORRAR FILTRO COLOR\n",
      "                browser.execute_script(f'''\n",
      "                document.getElementsByClassName('tabs--object tabs--header-object facet-color')[0].getElementsByTagName('input')[{index_color}].click();\n",
      "                ''')\n",
      "            except:\n",
      "                print(\"no borro filtro color\")\n",
      "                browser.execute_script('''\n",
      "                document.getElementsByClassName('tag--icon icon-tag-x')[1].click();\n",
      "                ''')\n",
      "            \n",
      "        \n",
      "        \n",
      "        #CLICK EN LA CATEGORIA DEL INDICE\n",
      "        try:\n",
      "            \n",
      "            #WebDriverWait(browser, 100).until(EC.presence_of_element_located((By.CLASS_NAME, \"FILTRO_CATEGORIA\"))).find_elements_by_tag_name('input')[index_categoria].click()\n",
      "            browser.execute_script(f'''\n",
      "            document.getElementsByClassName('tabs--object tabs--header-object facet-style')[0].getElementsByTagName('input')[{index_categoria}].click();\n",
      "            ''')\n",
      "        except:\n",
      "            try:\n",
      "                browser.execute_script(f'''\n",
      "                document.getElementsByClassName('tag--icon icon-tag-x')[0].click();\n",
      "                ''')\n",
      "            except:\n",
      "                print(\"no borro filtro categoria\")\n",
      "excepts\n",
      "  browser.get(row['url'])\n",
      "browser.save_screenshot('asd.png')\n",
      "TIEMPO_DE_ESPERA = 5.5\n",
      "start_ = datetime.datetime.now()\n",
      "fecha = datetime.date.today()\n",
      "hoy = fecha.strftime('%Y/%m/%d')\n",
      "\n",
      "user_agent = 'Mozilla/5.0 (X11; Linux x86_64) AppleWebKit/537.36 (KHTML, like Gecko) Chrome/60.0.3112.50 Safari/537.36'\n",
      "\n",
      "chrome_options = Options()\n",
      "chrome_options.add_argument(\"--headless\")\n",
      "chrome_options.add_argument(\"--no-sandbox\")\n",
      "chrome_options.add_argument(f'user-agent={user_agent}')\n",
      "chrome_options.add_argument(\"--window-size=2225x10000\")\n",
      "# options.headless = True\n",
      "browser = webdriver.Chrome(options = chrome_options)\n",
      "  browser.get(row['url'])\n",
      "browser.save_screenshot('asd.png')\n",
      "lista_productos = []\n",
      "excepts = []\n",
      "for index,row in dfLinks.iterrows():\n",
      "    browser.get(row['url'])\n",
      "    \n",
      "    #\"cantidad categorias\"\n",
      "    if '0 Items in the product grid' == browser.execute_script('''var x = document.getElementsByClassName('category__item-count')[0].textContent;return x;'''):\n",
      "        continue\n",
      "    \n",
      "    try:\n",
      "        #le asigno una clase \"FILTRO_CATEGORIA\" para poder buscar los colores\n",
      "        time.sleep(5)\n",
      "        category = [i for i in browser.find_elements_by_class_name('tabs--object') if i.text.upper() == 'CATEGORY'][0]\n",
      "        cantidad_categorias = [i.get_attribute('name') for i in category.find_element_by_class_name('accordion--content--inner').find_elements_by_tag_name('input')]\n",
      "    except:\n",
      "        cantidad_categorias = ['sin categoria']\n",
      "        excepts.append([row['url'],\n",
      "                       row['tipo']])\n",
      "        continue\n",
      "\n",
      "    #FOR DE CANTIDAD DE CATEGORIAS\n",
      "    for index_categoria,nombre_categoria in enumerate(cantidad_categorias):\n",
      "        \n",
      "        \n",
      "        #CLICK EN LA CATEGORIA DEL INDICE\n",
      "\n",
      "        time.sleep(3)\n",
      "        try:\n",
      "            browser.execute_script(f'''\n",
      "            document.getElementsByClassName('tabs--object tabs--header-object facet-style')[0].getElementsByTagName('input')[{index_categoria}].click();\n",
      "            ''')\n",
      "        except:\n",
      "            pass\n",
      "        \n",
      "       \n",
      "        if '0 Items in the product grid' == browser.execute_script('''var x = document.getElementsByClassName('category__item-count')[0].textContent;return x;'''):\n",
      "            \n",
      "            continue\n",
      "\n",
      "        \n",
      "        #\"cantidad de colores\"\n",
      "        #le asigno una clase \"FILTRO_COLOR\" para poder buscar los colores\n",
      "        time.sleep(5)\n",
      "        try:\n",
      "            \n",
      "            aux_col = [i for i in browser.find_elements_by_class_name('tabs--object') if i.text.upper() == 'COLOR'][0]            \n",
      "            cantidad_colores = [i.get_attribute('name') for i in aux_col.find_element_by_class_name('accordion--content--inner').find_elements_by_tag_name('input')]\n",
      "        except:\n",
      "            excepts.append(browser.current_url)\n",
      "        \n",
      "        \n",
      "        #LOOP CANTIDAD DE COLORES\n",
      "        for index_color,nombre_color in enumerate(cantidad_colores):\n",
      "\n",
      "            #CLICK EN EL COLOR DEL INDICE\n",
      "#            browser.implicitly_wait(30)\n",
      "            time.sleep(5)\n",
      "            \n",
      "            try:\n",
      "                browser.execute_script(f'''\n",
      "                document.getElementsByClassName('tabs--object tabs--header-object facet-color')[0].getElementsByTagName('input')[{index_color}].click();\n",
      "                ''')\n",
      "            except:\n",
      "                pass\n",
      "        \n",
      "        \n",
      "            if '0 Items in the product grid' == browser.execute_script('''var x = document.getElementsByClassName('category__item-count')[0].textContent;return x;'''):\n",
      "\n",
      "                continue\n",
      "        \n",
      "\n",
      "            #NOMBRE COLOR\n",
      "            #CANTIDAD DE PRODUCTOS DESPUÉS DE FILTRAR\n",
      "#            browser.implicitly_wait(30)\n",
      "            time.sleep(5)\n",
      "            try:\n",
      "                cant_productos = browser.execute_script('''\n",
      "                var x = document.getElementsByClassName('product-card-grid__root grid ism-root')[0].getElementsByClassName('product-card-grid__item-1-2 product-card-grid__item-lg-1-3 product-card-grid__item-xl-1-3 product-card-grid__item-1280-1-4').length;\n",
      "                return x;''')\n",
      "            except:\n",
      "                continue\n",
      "            \n",
      "            html_plano = browser.execute_script('''\n",
      "            var x = document.getElementsByClassName('product-card-grid__root grid ism-root')[0].innerHTML;\n",
      "            return x''')\n",
      "            html_plano = BeautifulSoup(html_plano)\n",
      "            for html in html_plano:\n",
      "                lista_productos.append([html.a['id'],\n",
      "                                        html.a.img['alt'],\n",
      "                                        row['sexo'],\n",
      "                                        row['tipo'],\n",
      "                                        [i.text for i in html.find_all(class_='product-card-price')],\n",
      "                                        html.a.img['src'],\n",
      "                                        html.a['href'],\n",
      "                                        nombre_categoria,\n",
      "                                        nombre_color])\n",
      "\n",
      "            \n",
      "            try:\n",
      "                #BORRAR FILTRO COLOR\n",
      "                browser.execute_script(f'''\n",
      "                document.getElementsByClassName('tabs--object tabs--header-object facet-color')[0].getElementsByTagName('input')[{index_color}].click();\n",
      "                ''')\n",
      "            except:\n",
      "                print(\"no borro filtro color\")\n",
      "                browser.execute_script('''\n",
      "                document.getElementsByClassName('tag--icon icon-tag-x')[1].click();\n",
      "                ''')\n",
      "            \n",
      "        \n",
      "        \n",
      "        #CLICK EN LA CATEGORIA DEL INDICE\n",
      "        try:\n",
      "            \n",
      "            #WebDriverWait(browser, 100).until(EC.presence_of_element_located((By.CLASS_NAME, \"FILTRO_CATEGORIA\"))).find_elements_by_tag_name('input')[index_categoria].click()\n",
      "            browser.execute_script(f'''\n",
      "            document.getElementsByClassName('tabs--object tabs--header-object facet-style')[0].getElementsByTagName('input')[{index_categoria}].click();\n",
      "            ''')\n",
      "        except:\n",
      "            try:\n",
      "                browser.execute_script(f'''\n",
      "                document.getElementsByClassName('tag--icon icon-tag-x')[0].click();\n",
      "                ''')\n",
      "            except:\n",
      "                print(\"no borro filtro categoria\")\n",
      "row\n",
      "dfLinks\n",
      "dfLinks.loc[7:]\n",
      "copyL = dfLinks.loc[7:].copy()\n",
      "excepts\n",
      "#lista_productos = []\n",
      "excepts = []\n",
      "EX = []\n",
      "for index,row in copyL.iterrows():\n",
      "    browser.get(row['url'])\n",
      "    \n",
      "    #\"cantidad categorias\"\n",
      "    if '0 Items in the product grid' == browser.execute_script('''var x = document.getElementsByClassName('category__item-count')[0].textContent;return x;'''):\n",
      "        continue\n",
      "    \n",
      "    try:\n",
      "        #le asigno una clase \"FILTRO_CATEGORIA\" para poder buscar los colores\n",
      "        time.sleep(5)\n",
      "        category = [i for i in browser.find_elements_by_class_name('tabs--object') if i.text.upper() == 'CATEGORY'][0]\n",
      "        cantidad_categorias = [i.get_attribute('name') for i in category.find_element_by_class_name('accordion--content--inner').find_elements_by_tag_name('input')]\n",
      "    except:\n",
      "        cantidad_categorias = ['sin categoria']\n",
      "        excepts.append([row['url'],\n",
      "                       row['tipo']])\n",
      "        continue\n",
      "\n",
      "    #FOR DE CANTIDAD DE CATEGORIAS\n",
      "    for index_categoria,nombre_categoria in enumerate(cantidad_categorias):\n",
      "        \n",
      "        \n",
      "        #CLICK EN LA CATEGORIA DEL INDICE\n",
      "\n",
      "        time.sleep(3)\n",
      "        try:\n",
      "            browser.execute_script(f'''\n",
      "            document.getElementsByClassName('tabs--object tabs--header-object facet-style')[0].getElementsByTagName('input')[{index_categoria}].click();\n",
      "            ''')\n",
      "        except:\n",
      "            pass\n",
      "        \n",
      "       \n",
      "        if '0 Items in the product grid' == browser.execute_script('''var x = document.getElementsByClassName('category__item-count')[0].textContent;return x;'''):\n",
      "            \n",
      "            continue\n",
      "\n",
      "        \n",
      "        #\"cantidad de colores\"\n",
      "        #le asigno una clase \"FILTRO_COLOR\" para poder buscar los colores\n",
      "        time.sleep(5)\n",
      "        try:\n",
      "            \n",
      "            aux_col = [i for i in browser.find_elements_by_class_name('tabs--object') if i.text.upper() == 'COLOR'][0]            \n",
      "            cantidad_colores = [i.get_attribute('name') for i in aux_col.find_element_by_class_name('accordion--content--inner').find_elements_by_tag_name('input')]\n",
      "        except:\n",
      "            excepts.append(browser.current_url)\n",
      "        \n",
      "        \n",
      "        #LOOP CANTIDAD DE COLORES\n",
      "        for index_color,nombre_color in enumerate(cantidad_colores):\n",
      "\n",
      "            #CLICK EN EL COLOR DEL INDICE\n",
      "#            browser.implicitly_wait(30)\n",
      "            time.sleep(5)\n",
      "            \n",
      "            try:\n",
      "                browser.execute_script(f'''\n",
      "                document.getElementsByClassName('tabs--object tabs--header-object facet-color')[0].getElementsByTagName('input')[{index_color}].click();\n",
      "                ''')\n",
      "            except:\n",
      "                pass\n",
      "        \n",
      "        \n",
      "            if '0 Items in the product grid' == browser.execute_script('''var x = document.getElementsByClassName('category__item-count')[0].textContent;return x;'''):\n",
      "\n",
      "                continue\n",
      "        \n",
      "\n",
      "            #NOMBRE COLOR\n",
      "            #CANTIDAD DE PRODUCTOS DESPUÉS DE FILTRAR\n",
      "#            browser.implicitly_wait(30)\n",
      "            time.sleep(5)\n",
      "            try:\n",
      "                cant_productos = browser.execute_script('''\n",
      "                var x = document.getElementsByClassName('product-card-grid__root grid ism-root')[0].getElementsByClassName('product-card-grid__item-1-2 product-card-grid__item-lg-1-3 product-card-grid__item-xl-1-3 product-card-grid__item-1280-1-4').length;\n",
      "                return x;''')\n",
      "            except:\n",
      "                continue\n",
      "            \n",
      "            html_plano = browser.execute_script('''\n",
      "            var x = document.getElementsByClassName('product-card-grid__root grid ism-root')[0].innerHTML;\n",
      "            return x''')\n",
      "            html_plano = BeautifulSoup(html_plano)\n",
      "            for html in html_plano:\n",
      "                \n",
      "                try:\n",
      "                    \n",
      "                    lista_productos.append([html.a['id'],\n",
      "                                            html.a.img['alt'],\n",
      "                                            row['sexo'],\n",
      "                                            row['tipo'],\n",
      "                                            [i.text for i in html.find_all(class_='product-card-price')],\n",
      "                                            html.a.img['src'],\n",
      "                                            html.a['href'],\n",
      "                                            nombre_categoria,\n",
      "                                            nombre_color])\n",
      "                except:\n",
      "                    EX.append(html)\n",
      "            \n",
      "            try:\n",
      "                #BORRAR FILTRO COLOR\n",
      "                browser.execute_script(f'''\n",
      "                document.getElementsByClassName('tabs--object tabs--header-object facet-color')[0].getElementsByTagName('input')[{index_color}].click();\n",
      "                ''')\n",
      "            except:\n",
      "                print(\"no borro filtro color\")\n",
      "                browser.execute_script('''\n",
      "                document.getElementsByClassName('tag--icon icon-tag-x')[1].click();\n",
      "                ''')\n",
      "            \n",
      "        \n",
      "        \n",
      "        #CLICK EN LA CATEGORIA DEL INDICE\n",
      "        try:\n",
      "            \n",
      "            #WebDriverWait(browser, 100).until(EC.presence_of_element_located((By.CLASS_NAME, \"FILTRO_CATEGORIA\"))).find_elements_by_tag_name('input')[index_categoria].click()\n",
      "            browser.execute_script(f'''\n",
      "            document.getElementsByClassName('tabs--object tabs--header-object facet-style')[0].getElementsByTagName('input')[{index_categoria}].click();\n",
      "            ''')\n",
      "        except:\n",
      "            try:\n",
      "                browser.execute_script(f'''\n",
      "                document.getElementsByClassName('tag--icon icon-tag-x')[0].click();\n",
      "                ''')\n",
      "            except:\n",
      "                print(\"no borro filtro categoria\")\n",
      "row\n",
      "copyL\n",
      "browser.save_screenshot('asd.png')\n",
      "#lista_productos = []\n",
      "excepts = []\n",
      "EX = []\n",
      "for index,row in copyL.iterrows():\n",
      "    browser.get(row['url'])\n",
      "    \n",
      "    #\"cantidad categorias\"\n",
      "    if '0 Items in the product grid' == browser.execute_script('''var x = document.getElementsByClassName('category__item-count')[0].textContent;return x;'''):\n",
      "        continue\n",
      "    \n",
      "    try:\n",
      "        #le asigno una clase \"FILTRO_CATEGORIA\" para poder buscar los colores\n",
      "        time.sleep(5)\n",
      "        category = [i for i in browser.find_elements_by_class_name('tabs--object') if i.text.upper() == 'CATEGORY'][0]\n",
      "        cantidad_categorias = [i.get_attribute('name') for i in category.find_element_by_class_name('accordion--content--inner').find_elements_by_tag_name('input')]\n",
      "    except:\n",
      "        cantidad_categorias = ['sin categoria']\n",
      "        excepts.append([row['url'],\n",
      "                       row['tipo']])\n",
      "        continue\n",
      "\n",
      "    #FOR DE CANTIDAD DE CATEGORIAS\n",
      "    for index_categoria,nombre_categoria in enumerate(cantidad_categorias):\n",
      "        \n",
      "        \n",
      "        #CLICK EN LA CATEGORIA DEL INDICE\n",
      "\n",
      "        time.sleep(3)\n",
      "        try:\n",
      "            browser.execute_script(f'''\n",
      "            document.getElementsByClassName('tabs--object tabs--header-object facet-style')[0].getElementsByTagName('input')[{index_categoria}].click();\n",
      "            ''')\n",
      "        except:\n",
      "            pass\n",
      "        \n",
      "       \n",
      "        if '0 Items in the product grid' == browser.execute_script('''var x = document.getElementsByClassName('category__item-count')[0].textContent;return x;'''):\n",
      "            \n",
      "            continue\n",
      "\n",
      "        \n",
      "        #\"cantidad de colores\"\n",
      "        #le asigno una clase \"FILTRO_COLOR\" para poder buscar los colores\n",
      "        time.sleep(5)\n",
      "        try:\n",
      "            \n",
      "            aux_col = [i for i in browser.find_elements_by_class_name('tabs--object') if i.text.upper() == 'COLOR'][0]            \n",
      "            cantidad_colores = [i.get_attribute('name') for i in aux_col.find_element_by_class_name('accordion--content--inner').find_elements_by_tag_name('input')]\n",
      "        except:\n",
      "            excepts.append(browser.current_url)\n",
      "        \n",
      "        \n",
      "        #LOOP CANTIDAD DE COLORES\n",
      "        for index_color,nombre_color in enumerate(cantidad_colores):\n",
      "\n",
      "            #CLICK EN EL COLOR DEL INDICE\n",
      "#            browser.implicitly_wait(30)\n",
      "            time.sleep(5)\n",
      "            \n",
      "            try:\n",
      "                browser.execute_script(f'''\n",
      "                document.getElementsByClassName('tabs--object tabs--header-object facet-color')[0].getElementsByTagName('input')[{index_color}].click();\n",
      "                ''')\n",
      "            except:\n",
      "                pass\n",
      "        \n",
      "        \n",
      "            if '0 Items in the product grid' == browser.execute_script('''var x = document.getElementsByClassName('category__item-count')[0].textContent;return x;'''):\n",
      "\n",
      "                continue\n",
      "        \n",
      "\n",
      "            #NOMBRE COLOR\n",
      "            #CANTIDAD DE PRODUCTOS DESPUÉS DE FILTRAR\n",
      "#            browser.implicitly_wait(30)\n",
      "            time.sleep(5)\n",
      "            try:\n",
      "                cant_productos = browser.execute_script('''\n",
      "                var x = document.getElementsByClassName('product-card-grid__root grid ism-root')[0].getElementsByClassName('product-card-grid__item-1-2 product-card-grid__item-lg-1-3 product-card-grid__item-xl-1-3 product-card-grid__item-1280-1-4').length;\n",
      "                return x;''')\n",
      "            except:\n",
      "                continue\n",
      "            \n",
      "            html_plano = browser.execute_script('''\n",
      "            var x = document.getElementsByClassName('product-card-grid__root grid ism-root')[0].innerHTML;\n",
      "            return x''')\n",
      "            html_plano = BeautifulSoup(html_plano)\n",
      "            for html in html_plano:\n",
      "                \n",
      "                try:\n",
      "                    \n",
      "                    lista_productos.append([html.a['id'],\n",
      "                                            html.a.img['alt'],\n",
      "                                            row['sexo'],\n",
      "                                            row['tipo'],\n",
      "                                            [i.text for i in html.find_all(class_='product-card-price')],\n",
      "                                            html.a.img['src'],\n",
      "                                            html.a['href'],\n",
      "                                            nombre_categoria,\n",
      "                                            nombre_color])\n",
      "                except:\n",
      "                    EX.append(html)\n",
      "            \n",
      "            try:\n",
      "                #BORRAR FILTRO COLOR\n",
      "                browser.execute_script(f'''\n",
      "                document.getElementsByClassName('tabs--object tabs--header-object facet-color')[0].getElementsByTagName('input')[{index_color}].click();\n",
      "                ''')\n",
      "            except:\n",
      "                print(\"no borro filtro color\")\n",
      "                try:\n",
      "                    browser.execute_script('''\n",
      "                    document.getElementsByClassName('tag--icon icon-tag-x')[1].click();\n",
      "                    ''')\n",
      "                except:\n",
      "                    print(\"No borro filtro color\")\n",
      "            \n",
      "        \n",
      "        \n",
      "        #CLICK EN LA CATEGORIA DEL INDICE\n",
      "        try:\n",
      "            \n",
      "            #WebDriverWait(browser, 100).until(EC.presence_of_element_located((By.CLASS_NAME, \"FILTRO_CATEGORIA\"))).find_elements_by_tag_name('input')[index_categoria].click()\n",
      "            browser.execute_script(f'''\n",
      "            document.getElementsByClassName('tabs--object tabs--header-object facet-style')[0].getElementsByTagName('input')[{index_categoria}].click();\n",
      "            ''')\n",
      "        except:\n",
      "            try:\n",
      "                browser.execute_script(f'''\n",
      "                document.getElementsByClassName('tag--icon icon-tag-x')[0].click();\n",
      "                ''')\n",
      "            except:\n",
      "                print(\"no borro filtro categoria\")\n",
      "browser.quit()\n",
      "df = pd.DataFrame(lista_productos)\n",
      "df.rename(columns={0:'sku',\n",
      "                  1:'descripcion',\n",
      "                  2:'categoria',\n",
      "                  3:'tipo',\n",
      "                  4:'prices',\n",
      "                  5:'img',\n",
      "                  6:'url',\n",
      "                  7:'sub_categoria',\n",
      "                  8:'color'},inplace=True)\n",
      "df['prices'] = df['prices'].apply(lambda x:  x[0])\n",
      "\n",
      "df['precio_dto'] = df['prices'].apply(lambda x : x.split('$')[2] if len(x.split('$')) == 3 else x.split('$')[1])\n",
      "\n",
      "df['precio_original'] = df['prices'].apply(lambda x : x.split('$')[1] if len(x.split('$')) == 3 else x.split('$')[1])\n",
      "df = df.drop_duplicates()\n",
      "browser.quit()\n",
      "%hist\n"
     ]
    }
   ],
   "source": [
    "%hist"
   ]
  },
  {
   "cell_type": "code",
   "execution_count": null,
   "metadata": {},
   "outputs": [],
   "source": []
  },
  {
   "cell_type": "code",
   "execution_count": 652,
   "metadata": {},
   "outputs": [
    {
     "data": {
      "text/plain": [
       "235148"
      ]
     },
     "execution_count": 652,
     "metadata": {},
     "output_type": "execute_result"
    }
   ],
   "source": [
    "len(df)"
   ]
  },
  {
   "cell_type": "code",
   "execution_count": 622,
   "metadata": {},
   "outputs": [],
   "source": [
    "so = BeautifulSoup('''<div class=\"clearfix\">\n",
    "<a href=\"/tolink1\">Link1</a>\n",
    "<a href=\"/tolink2\">Link2</a>\n",
    "</div>''')\n",
    "\n",
    "\n"
   ]
  },
  {
   "cell_type": "code",
   "execution_count": 651,
   "metadata": {},
   "outputs": [
    {
     "name": "stdout",
     "output_type": "stream",
     "text": [
      "/tolink1\n",
      "/tolink2\n"
     ]
    }
   ],
   "source": [
    "so = BeautifulSoup('''<div class=\"clearfix\">\n",
    "<a href=\"/tolink1\">Link1</a>\n",
    "<a href=\"/tolink2\">Link2</a>\n",
    "</div>''')\n",
    "\n",
    "\n",
    "\n",
    "for i in so.find_all(class_='clearfix'):\n",
    "    for m in i:\n",
    "        try:\n",
    "             print(m['href'])\n",
    "        except:\n",
    "            pass\n",
    "    \n",
    "\n",
    "        \n",
    "    "
   ]
  },
  {
   "cell_type": "code",
   "execution_count": 650,
   "metadata": {},
   "outputs": [
    {
     "name": "stdout",
     "output_type": "stream",
     "text": [
      "/tolink1\n",
      "/tolink2\n"
     ]
    }
   ],
   "source": [
    "\n",
    "    \n",
    "     \n",
    "    "
   ]
  },
  {
   "cell_type": "code",
   "execution_count": 646,
   "metadata": {},
   "outputs": [
    {
     "data": {
      "text/plain": [
       "'\\n'"
      ]
     },
     "execution_count": 646,
     "metadata": {},
     "output_type": "execute_result"
    }
   ],
   "source": [
    "m"
   ]
  },
  {
   "cell_type": "code",
   "execution_count": null,
   "metadata": {},
   "outputs": [],
   "source": []
  }
 ],
 "metadata": {
  "kernelspec": {
   "display_name": "Python 3",
   "language": "python",
   "name": "python3"
  },
  "language_info": {
   "codemirror_mode": {
    "name": "ipython",
    "version": 3
   },
   "file_extension": ".py",
   "mimetype": "text/x-python",
   "name": "python",
   "nbconvert_exporter": "python",
   "pygments_lexer": "ipython3",
   "version": "3.6.8"
  }
 },
 "nbformat": 4,
 "nbformat_minor": 2
}
