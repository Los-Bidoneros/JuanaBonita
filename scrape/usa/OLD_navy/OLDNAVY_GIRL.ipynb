{
 "cells": [
  {
   "cell_type": "code",
   "execution_count": 1,
   "metadata": {},
   "outputs": [],
   "source": [
    "from selenium import webdriver\n",
    "from selenium.webdriver.support.ui import WebDriverWait\n",
    "from selenium.webdriver.common.by import By\n",
    "from selenium.webdriver.support import expected_conditions as EC\n",
    "from selenium.webdriver.chrome.options import Options\n",
    "from bs4 import BeautifulSoup\n",
    "import pandas as pd\n",
    "import requests\n",
    "from time import strftime\n",
    "import datetime\n",
    "import time\n",
    "from pandas import ExcelWriter\n",
    "import re\n",
    "import pyodbc\n",
    "import asyncio\n",
    "from selenium.webdriver.common.action_chains import ActionChains\n",
    "import numpy as np\n",
    "import pdb\n",
    "#pdb.set_trace()\n",
    "from ipywidgets import IntProgress\n",
    "from IPython.display import display\n",
    "import os\n",
    "from selenium.webdriver.support import expected_conditions\n",
    "from IPython.display import clear_output"
   ]
  },
  {
   "cell_type": "code",
   "execution_count": 2,
   "metadata": {},
   "outputs": [],
   "source": [
    "TIEMPO_DE_ESPERA = 5.5\n",
    "start_ = datetime.datetime.now()\n",
    "fecha = datetime.date.today()\n",
    "hoy = fecha.strftime('%Y/%m/%d')\n",
    "\n",
    "user_agent = 'Mozilla/5.0 (X11; Linux x86_64) AppleWebKit/537.36 (KHTML, like Gecko) Chrome/60.0.3112.50 Safari/537.36'\n",
    "\n",
    "chrome_options = Options()\n",
    "chrome_options.add_argument(\"--headless\")\n",
    "chrome_options.add_argument(\"--no-sandbox\")\n",
    "chrome_options.add_argument(f'user-agent={user_agent}')\n",
    "chrome_options.add_argument(\"--window-size=3225x10000\")\n",
    "# options.headless = True\n",
    "browser = webdriver.Chrome(options = chrome_options)"
   ]
  },
  {
   "cell_type": "code",
   "execution_count": 3,
   "metadata": {},
   "outputs": [
    {
     "data": {
      "text/plain": [
       "'2019-10-30'"
      ]
     },
     "execution_count": 3,
     "metadata": {},
     "output_type": "execute_result"
    }
   ],
   "source": [
    "str(\"2019-10-30\")"
   ]
  },
  {
   "cell_type": "code",
   "execution_count": 4,
   "metadata": {},
   "outputs": [],
   "source": [
    "url_base = \"https://oldnavy.gap.com\"\n",
    "ipath = f'OLDNAVY_LINKS{fecha}.xlsx'\n",
    "dfLinks = pd.read_excel(ipath)"
   ]
  },
  {
   "cell_type": "code",
   "execution_count": 5,
   "metadata": {},
   "outputs": [],
   "source": [
    "dfLinks = dfLinks[dfLinks['sexo']=='Girls']"
   ]
  },
  {
   "cell_type": "code",
   "execution_count": 6,
   "metadata": {},
   "outputs": [
    {
     "data": {
      "text/plain": [
       "array(['Girls'], dtype=object)"
      ]
     },
     "execution_count": 6,
     "metadata": {},
     "output_type": "execute_result"
    }
   ],
   "source": [
    "dfLinks['sexo'].unique()"
   ]
  },
  {
   "cell_type": "code",
   "execution_count": 7,
   "metadata": {},
   "outputs": [],
   "source": [
    "#modal de inicio\n",
    "try:\n",
    "    browser.execute_script(\"document.getElementsByClassName('universal-modal__close-button')[0].click();\")\n",
    "except:\n",
    "    pass"
   ]
  },
  {
   "cell_type": "code",
   "execution_count": 8,
   "metadata": {},
   "outputs": [],
   "source": [
    "#promociones_click para ocultar\n",
    "try:\n",
    "    browser.execute_script(\"document.getElementsByClassName('promoDrawer__handlebar__icon')[0].click();\")\n",
    "except:\n",
    "    pass"
   ]
  },
  {
   "cell_type": "code",
   "execution_count": 18,
   "metadata": {},
   "outputs": [],
   "source": [
    "browser.get(row['url'])"
   ]
  },
  {
   "cell_type": "code",
   "execution_count": null,
   "metadata": {},
   "outputs": [],
   "source": []
  },
  {
   "cell_type": "code",
   "execution_count": 9,
   "metadata": {},
   "outputs": [
    {
     "data": {
      "text/html": [
       "<div>\n",
       "<style scoped>\n",
       "    .dataframe tbody tr th:only-of-type {\n",
       "        vertical-align: middle;\n",
       "    }\n",
       "\n",
       "    .dataframe tbody tr th {\n",
       "        vertical-align: top;\n",
       "    }\n",
       "\n",
       "    .dataframe thead th {\n",
       "        text-align: right;\n",
       "    }\n",
       "</style>\n",
       "<table border=\"1\" class=\"dataframe\">\n",
       "  <thead>\n",
       "    <tr style=\"text-align: right;\">\n",
       "      <th></th>\n",
       "      <th>sexo</th>\n",
       "      <th>tipo</th>\n",
       "      <th>url</th>\n",
       "    </tr>\n",
       "  </thead>\n",
       "  <tbody>\n",
       "    <tr>\n",
       "      <th>64</th>\n",
       "      <td>Girls</td>\n",
       "      <td>Tops</td>\n",
       "      <td>https://oldnavy.gap.com/browse/category.do?cid...</td>\n",
       "    </tr>\n",
       "    <tr>\n",
       "      <th>65</th>\n",
       "      <td>Girls</td>\n",
       "      <td>Tees</td>\n",
       "      <td>https://oldnavy.gap.com/browse/category.do?cid...</td>\n",
       "    </tr>\n",
       "    <tr>\n",
       "      <th>66</th>\n",
       "      <td>Girls</td>\n",
       "      <td>Graphic Tees</td>\n",
       "      <td>https://oldnavy.gap.com/browse/category.do?cid...</td>\n",
       "    </tr>\n",
       "    <tr>\n",
       "      <th>67</th>\n",
       "      <td>Girls</td>\n",
       "      <td>Blouses &amp; Shirts</td>\n",
       "      <td>https://oldnavy.gap.com/browse/category.do?cid...</td>\n",
       "    </tr>\n",
       "    <tr>\n",
       "      <th>68</th>\n",
       "      <td>Girls</td>\n",
       "      <td>Dresses &amp; Jumpsuits</td>\n",
       "      <td>https://oldnavy.gap.com/browse/category.do?cid...</td>\n",
       "    </tr>\n",
       "    <tr>\n",
       "      <th>69</th>\n",
       "      <td>Girls</td>\n",
       "      <td>Bottoms</td>\n",
       "      <td>https://oldnavy.gap.com/browse/category.do?cid...</td>\n",
       "    </tr>\n",
       "    <tr>\n",
       "      <th>70</th>\n",
       "      <td>Girls</td>\n",
       "      <td>Shorts</td>\n",
       "      <td>https://oldnavy.gap.com/browse/category.do?cid...</td>\n",
       "    </tr>\n",
       "    <tr>\n",
       "      <th>71</th>\n",
       "      <td>Girls</td>\n",
       "      <td>Jeans</td>\n",
       "      <td>https://oldnavy.gap.com/browse/category.do?cid...</td>\n",
       "    </tr>\n",
       "    <tr>\n",
       "      <th>72</th>\n",
       "      <td>Girls</td>\n",
       "      <td>Pants</td>\n",
       "      <td>https://oldnavy.gap.com/browse/category.do?cid...</td>\n",
       "    </tr>\n",
       "    <tr>\n",
       "      <th>73</th>\n",
       "      <td>Girls</td>\n",
       "      <td>Leggings</td>\n",
       "      <td>https://oldnavy.gap.com/browse/category.do?cid...</td>\n",
       "    </tr>\n",
       "    <tr>\n",
       "      <th>74</th>\n",
       "      <td>Girls</td>\n",
       "      <td>Skirts</td>\n",
       "      <td>https://oldnavy.gap.com/browse/category.do?cid...</td>\n",
       "    </tr>\n",
       "    <tr>\n",
       "      <th>75</th>\n",
       "      <td>Girls</td>\n",
       "      <td>Sweatshirts &amp; Sweatpants</td>\n",
       "      <td>https://oldnavy.gap.com/browse/category.do?cid...</td>\n",
       "    </tr>\n",
       "    <tr>\n",
       "      <th>76</th>\n",
       "      <td>Girls</td>\n",
       "      <td>Sweaters</td>\n",
       "      <td>https://oldnavy.gap.com/browse/category.do?cid...</td>\n",
       "    </tr>\n",
       "    <tr>\n",
       "      <th>77</th>\n",
       "      <td>Girls</td>\n",
       "      <td>Coats &amp; Jackets</td>\n",
       "      <td>https://oldnavy.gap.com/browse/category.do?cid...</td>\n",
       "    </tr>\n",
       "    <tr>\n",
       "      <th>78</th>\n",
       "      <td>Girls</td>\n",
       "      <td>Swim</td>\n",
       "      <td>https://oldnavy.gap.com/browse/category.do?cid...</td>\n",
       "    </tr>\n",
       "    <tr>\n",
       "      <th>79</th>\n",
       "      <td>Girls</td>\n",
       "      <td>Pajamas</td>\n",
       "      <td>https://oldnavy.gap.com/browse/category.do?cid...</td>\n",
       "    </tr>\n",
       "    <tr>\n",
       "      <th>80</th>\n",
       "      <td>Girls</td>\n",
       "      <td>Socks &amp; Underwear</td>\n",
       "      <td>https://oldnavy.gap.com/browse/category.do?cid...</td>\n",
       "    </tr>\n",
       "    <tr>\n",
       "      <th>81</th>\n",
       "      <td>Girls</td>\n",
       "      <td>NFL®, NBA®, College, MLB®</td>\n",
       "      <td>https://oldnavy.gap.com/browse/category.do?cid...</td>\n",
       "    </tr>\n",
       "  </tbody>\n",
       "</table>\n",
       "</div>"
      ],
      "text/plain": [
       "     sexo                       tipo  \\\n",
       "64  Girls                       Tops   \n",
       "65  Girls                       Tees   \n",
       "66  Girls               Graphic Tees   \n",
       "67  Girls           Blouses & Shirts   \n",
       "68  Girls       Dresses & Jumpsuits    \n",
       "69  Girls                    Bottoms   \n",
       "70  Girls                     Shorts   \n",
       "71  Girls                      Jeans   \n",
       "72  Girls                      Pants   \n",
       "73  Girls                   Leggings   \n",
       "74  Girls                     Skirts   \n",
       "75  Girls   Sweatshirts & Sweatpants   \n",
       "76  Girls                   Sweaters   \n",
       "77  Girls            Coats & Jackets   \n",
       "78  Girls                      Swim    \n",
       "79  Girls                    Pajamas   \n",
       "80  Girls          Socks & Underwear   \n",
       "81  Girls  NFL®, NBA®, College, MLB®   \n",
       "\n",
       "                                                  url  \n",
       "64  https://oldnavy.gap.com/browse/category.do?cid...  \n",
       "65  https://oldnavy.gap.com/browse/category.do?cid...  \n",
       "66  https://oldnavy.gap.com/browse/category.do?cid...  \n",
       "67  https://oldnavy.gap.com/browse/category.do?cid...  \n",
       "68  https://oldnavy.gap.com/browse/category.do?cid...  \n",
       "69  https://oldnavy.gap.com/browse/category.do?cid...  \n",
       "70  https://oldnavy.gap.com/browse/category.do?cid...  \n",
       "71  https://oldnavy.gap.com/browse/category.do?cid...  \n",
       "72  https://oldnavy.gap.com/browse/category.do?cid...  \n",
       "73  https://oldnavy.gap.com/browse/category.do?cid...  \n",
       "74  https://oldnavy.gap.com/browse/category.do?cid...  \n",
       "75  https://oldnavy.gap.com/browse/category.do?cid...  \n",
       "76  https://oldnavy.gap.com/browse/category.do?cid...  \n",
       "77  https://oldnavy.gap.com/browse/category.do?cid...  \n",
       "78  https://oldnavy.gap.com/browse/category.do?cid...  \n",
       "79  https://oldnavy.gap.com/browse/category.do?cid...  \n",
       "80  https://oldnavy.gap.com/browse/category.do?cid...  \n",
       "81  https://oldnavy.gap.com/browse/category.do?cid...  "
      ]
     },
     "execution_count": 9,
     "metadata": {},
     "output_type": "execute_result"
    }
   ],
   "source": [
    "dfLinks"
   ]
  },
  {
   "cell_type": "code",
   "execution_count": 19,
   "metadata": {},
   "outputs": [
    {
     "data": {
      "text/plain": [
       "True"
      ]
     },
     "execution_count": 19,
     "metadata": {},
     "output_type": "execute_result"
    }
   ],
   "source": [
    "browser.save_screenshot('asd.png')"
   ]
  },
  {
   "cell_type": "code",
   "execution_count": 21,
   "metadata": {},
   "outputs": [
    {
     "data": {
      "text/plain": [
       "sexo                                                Girls\n",
       "tipo                                               Skirts\n",
       "url     https://oldnavy.gap.com/browse/category.do?cid...\n",
       "Name: 2, dtype: object"
      ]
     },
     "execution_count": 21,
     "metadata": {},
     "output_type": "execute_result"
    }
   ],
   "source": [
    "row"
   ]
  },
  {
   "cell_type": "code",
   "execution_count": 24,
   "metadata": {},
   "outputs": [],
   "source": [
    "dfLinks = dfLinks.loc[2:].copy()"
   ]
  },
  {
   "cell_type": "code",
   "execution_count": 16,
   "metadata": {},
   "outputs": [],
   "source": []
  },
  {
   "cell_type": "code",
   "execution_count": null,
   "metadata": {},
   "outputs": [],
   "source": [
    "lista_productos = []\n",
    "excepts = []\n",
    "for index,row in dfLinks.iterrows():\n",
    "    browser.get(row['url'])\n",
    "    \n",
    "    #\"cantidad categorias\"\n",
    "    if '0 Items in the product grid' == browser.execute_script('''var x = document.getElementsByClassName('category__item-count')[0].textContent;return x;'''):\n",
    "        continue\n",
    "    \n",
    "    try:\n",
    "        #category\n",
    "        time.sleep(5)\n",
    "        category = [i for i in browser.find_elements_by_class_name('tabs--object') if i.text.upper() == 'CATEGORY'][0]\n",
    "        cantidad_categorias = [i.get_attribute('name') for i in category.find_element_by_class_name('accordion--content--inner').find_elements_by_tag_name('input')]\n",
    "    except:\n",
    "        cantidad_categorias = ['sin categoria']\n",
    "        excepts.append([row['url'],\n",
    "                       row['tipo']])\n",
    "        \n",
    "\n",
    "    #FOR DE CANTIDAD DE CATEGORIAS\n",
    "    for index_categoria,nombre_categoria in enumerate(cantidad_categorias):\n",
    "        \n",
    "        \n",
    "        #CLICK EN LA CATEGORIA DEL INDICE\n",
    "\n",
    "        time.sleep(3)\n",
    "        try:\n",
    "            browser.execute_script(f'''\n",
    "            document.getElementsByClassName('tabs--object tabs--header-object facet-style')[0].getElementsByTagName('input')[{index_categoria}].click();\n",
    "            ''')\n",
    "        except:\n",
    "            pass\n",
    "        \n",
    "       \n",
    "        if '0 Items in the product grid' == browser.execute_script('''var x = document.getElementsByClassName('category__item-count')[0].textContent;return x;'''):\n",
    "            \n",
    "            continue\n",
    "\n",
    "        \n",
    "        #\"cantidad de colores\"\n",
    "        #le asigno una clase \"FILTRO_COLOR\" para poder buscar los colores\n",
    "        time.sleep(5)\n",
    "        try:\n",
    "            \n",
    "            aux_col = [i for i in browser.find_elements_by_class_name('tabs--object') if i.text.upper() == 'COLOR'][0]            \n",
    "            cantidad_colores = [i.get_attribute('name') for i in aux_col.find_element_by_class_name('accordion--content--inner').find_elements_by_tag_name('input')]\n",
    "        except:\n",
    "            excepts.append(browser.current_url)\n",
    "        \n",
    "        \n",
    "        #LOOP CANTIDAD DE COLORES\n",
    "        for index_color,nombre_color in enumerate(cantidad_colores):\n",
    "\n",
    "            #CLICK EN EL COLOR DEL INDICE\n",
    "#            browser.implicitly_wait(30)\n",
    "            time.sleep(5)\n",
    "            \n",
    "            try:\n",
    "                browser.execute_script(f'''\n",
    "                document.getElementsByClassName('tabs--object tabs--header-object facet-color')[0].getElementsByTagName('input')[{index_color}].click();\n",
    "                ''')\n",
    "            except:\n",
    "                break\n",
    "        \n",
    "        \n",
    "            if '0 Items in the product grid' == browser.execute_script('''var x = document.getElementsByClassName('category__item-count')[0].textContent;return x;'''):\n",
    "\n",
    "                continue\n",
    "        \n",
    "\n",
    "            #NOMBRE COLOR\n",
    "            #CANTIDAD DE PRODUCTOS DESPUÉS DE FILTRAR\n",
    "#            browser.implicitly_wait(30)\n",
    "            time.sleep(5)\n",
    "            try:\n",
    "                cant_productos = browser.execute_script('''\n",
    "                var x = document.getElementsByClassName('product-card-grid__root grid ism-root')[0].getElementsByClassName('product-card-grid__item-1-2 product-card-grid__item-lg-1-3 product-card-grid__item-xl-1-3 product-card-grid__item-1280-1-4').length;\n",
    "                return x;''')\n",
    "            except:\n",
    "                continue\n",
    "            \n",
    "            html_plano = browser.execute_script('''\n",
    "            var x = document.getElementsByClassName('product-card-grid__root grid ism-root')[0].innerHTML;\n",
    "            return x''')\n",
    "            html_plano = BeautifulSoup(html_plano)\n",
    "            for html in html_plano:\n",
    "                lista_productos.append([html.a['id'],\n",
    "                                        html.a.img['alt'],\n",
    "                                        row['sexo'],\n",
    "                                        row['tipo'],\n",
    "                                        [i.text for i in html.find_all(class_='product-card-price')],\n",
    "                                        html.a.img['src'],\n",
    "                                        html.a['href'],\n",
    "                                        nombre_categoria,\n",
    "                                        nombre_color])\n",
    "\n",
    "            \n",
    "            \n",
    "            try:\n",
    "                \n",
    "                #BORRAR FILTRO COLOR\n",
    "                browser.execute_script(f'''\n",
    "                document.getElementsByClassName('tabs--object tabs--header-object facet-color')[0].getElementsByTagName('input')[{index_color}].click();\n",
    "                ''')\n",
    "            except:\n",
    "                print(\"No borro color\")\n",
    "                browser.execute_script('''\n",
    "                document.getElementsByClassName('tag--icon icon-tag-x')[1].click();\n",
    "                ''')\n",
    "        \n",
    "        \n",
    "        #CLICK EN LA CATEGORIA DEL INDICE\n",
    "        try:\n",
    "            \n",
    "            #WebDriverWait(browser, 100).until(EC.presence_of_element_located((By.CLASS_NAME, \"FILTRO_CATEGORIA\"))).find_elements_by_tag_name('input')[index_categoria].click()\n",
    "            browser.execute_script(f'''\n",
    "            document.getElementsByClassName('tabs--object tabs--header-object facet-style')[0].getElementsByTagName('input')[{index_categoria}].click();\n",
    "            ''')\n",
    "        except:\n",
    "            try:\n",
    "                browser.execute_script(f'''\n",
    "                document.getElementsByClassName('tag--icon icon-tag-x')[0].click();\n",
    "                ''')\n",
    "            except:\n",
    "                print(\"no borro filtro categoria\")"
   ]
  },
  {
   "cell_type": "code",
   "execution_count": 21,
   "metadata": {},
   "outputs": [
    {
     "data": {
      "text/plain": [
       "3521"
      ]
     },
     "execution_count": 21,
     "metadata": {},
     "output_type": "execute_result"
    }
   ],
   "source": [
    "len(lista_productos)"
   ]
  },
  {
   "cell_type": "code",
   "execution_count": null,
   "metadata": {},
   "outputs": [],
   "source": []
  },
  {
   "cell_type": "code",
   "execution_count": 18,
   "metadata": {
    "scrolled": true
   },
   "outputs": [],
   "source": []
  },
  {
   "cell_type": "code",
   "execution_count": 22,
   "metadata": {},
   "outputs": [],
   "source": [
    "browser.quit()"
   ]
  },
  {
   "cell_type": "code",
   "execution_count": 492,
   "metadata": {},
   "outputs": [
    {
     "data": {
      "text/plain": [
       "True"
      ]
     },
     "execution_count": 492,
     "metadata": {},
     "output_type": "execute_result"
    }
   ],
   "source": [
    "browser.save_screenshot('asd.png')"
   ]
  },
  {
   "cell_type": "code",
   "execution_count": 23,
   "metadata": {},
   "outputs": [],
   "source": [
    "df = pd.DataFrame(lista_productos)"
   ]
  },
  {
   "cell_type": "code",
   "execution_count": 24,
   "metadata": {},
   "outputs": [
    {
     "data": {
      "text/plain": [
       "3521"
      ]
     },
     "execution_count": 24,
     "metadata": {},
     "output_type": "execute_result"
    }
   ],
   "source": [
    "len(df)"
   ]
  },
  {
   "cell_type": "code",
   "execution_count": 25,
   "metadata": {},
   "outputs": [],
   "source": [
    "df.rename(columns={0:'sku',\n",
    "                  1:'descripcion',\n",
    "                  2:'categoria',\n",
    "                  3:'tipo',\n",
    "                  4:'prices',\n",
    "                  5:'img',\n",
    "                  6:'url',\n",
    "                  7:'sub_categoria',\n",
    "                  8:'color'},inplace=True)"
   ]
  },
  {
   "cell_type": "code",
   "execution_count": 26,
   "metadata": {},
   "outputs": [],
   "source": [
    "df['prices'] = df['prices'].apply(lambda x:  x[0])"
   ]
  },
  {
   "cell_type": "code",
   "execution_count": 27,
   "metadata": {},
   "outputs": [],
   "source": [
    "df['precio_dto'] = df['prices'].apply(lambda x : x.split('$')[2] if len(x.split('$')) == 3 else x.split('$')[1])"
   ]
  },
  {
   "cell_type": "code",
   "execution_count": 28,
   "metadata": {},
   "outputs": [],
   "source": [
    "df['precio_original'] = df['prices'].apply(lambda x : x.split('$')[1] if len(x.split('$')) == 3 else x.split('$')[1])"
   ]
  },
  {
   "cell_type": "code",
   "execution_count": 29,
   "metadata": {},
   "outputs": [],
   "source": [
    "df = df.drop_duplicates()"
   ]
  },
  {
   "cell_type": "code",
   "execution_count": 28,
   "metadata": {},
   "outputs": [],
   "source": [
    "browser.quit()"
   ]
  },
  {
   "cell_type": "code",
   "execution_count": 30,
   "metadata": {},
   "outputs": [],
   "source": [
    "df.to_excel(f'./Salida/OLDNAVY_GIRL{fecha}.xlsx')"
   ]
  },
  {
   "cell_type": "code",
   "execution_count": null,
   "metadata": {},
   "outputs": [],
   "source": []
  },
  {
   "cell_type": "code",
   "execution_count": null,
   "metadata": {},
   "outputs": [],
   "source": []
  }
 ],
 "metadata": {
  "kernelspec": {
   "display_name": "Python 3",
   "language": "python",
   "name": "python3"
  },
  "language_info": {
   "codemirror_mode": {
    "name": "ipython",
    "version": 3
   },
   "file_extension": ".py",
   "mimetype": "text/x-python",
   "name": "python",
   "nbconvert_exporter": "python",
   "pygments_lexer": "ipython3",
   "version": "3.6.8"
  }
 },
 "nbformat": 4,
 "nbformat_minor": 2
}
