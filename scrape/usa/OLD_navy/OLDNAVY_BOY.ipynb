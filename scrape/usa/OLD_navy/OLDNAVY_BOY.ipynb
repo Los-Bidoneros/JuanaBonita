{
 "cells": [
  {
   "cell_type": "code",
   "execution_count": 1,
   "metadata": {},
   "outputs": [],
   "source": [
    "from selenium import webdriver\n",
    "from selenium.webdriver.support.ui import WebDriverWait\n",
    "from selenium.webdriver.common.by import By\n",
    "from selenium.webdriver.support import expected_conditions as EC\n",
    "from selenium.webdriver.chrome.options import Options\n",
    "from bs4 import BeautifulSoup\n",
    "import pandas as pd\n",
    "import requests\n",
    "from time import strftime\n",
    "import datetime\n",
    "import time\n",
    "from pandas import ExcelWriter\n",
    "import re\n",
    "import pyodbc\n",
    "import asyncio\n",
    "from selenium.webdriver.common.action_chains import ActionChains\n",
    "import numpy as np\n",
    "import pdb\n",
    "#pdb.set_trace()\n",
    "from ipywidgets import IntProgress\n",
    "from IPython.display import display\n",
    "import os\n",
    "from selenium.webdriver.support import expected_conditions\n",
    "from IPython.display import clear_output"
   ]
  },
  {
   "cell_type": "code",
   "execution_count": 2,
   "metadata": {},
   "outputs": [],
   "source": [
    "TIEMPO_DE_ESPERA = 5.5\n",
    "start_ = datetime.datetime.now()\n",
    "fecha = datetime.date.today()\n",
    "hoy = fecha.strftime('%Y/%m/%d')\n",
    "\n",
    "user_agent = 'Mozilla/5.0 (X11; Linux x86_64) AppleWebKit/537.36 (KHTML, like Gecko) Chrome/60.0.3112.50 Safari/537.36'\n",
    "\n",
    "chrome_options = Options()\n",
    "chrome_options.add_argument(\"--headless\")\n",
    "chrome_options.add_argument(\"--no-sandbox\")\n",
    "chrome_options.add_argument(f'user-agent={user_agent}')\n",
    "chrome_options.add_argument(\"--window-size=2225x10000\")\n",
    "# options.headless = True\n",
    "browser = webdriver.Chrome(options = chrome_options)"
   ]
  },
  {
   "cell_type": "code",
   "execution_count": 3,
   "metadata": {},
   "outputs": [
    {
     "data": {
      "text/plain": [
       "'2019-10-30'"
      ]
     },
     "execution_count": 3,
     "metadata": {},
     "output_type": "execute_result"
    }
   ],
   "source": [
    "str(\"2019-10-30\")"
   ]
  },
  {
   "cell_type": "code",
   "execution_count": 4,
   "metadata": {},
   "outputs": [],
   "source": [
    "url_base = \"https://oldnavy.gap.com\"\n",
    "ipath = f'OLDNAVY_LINKS{fecha}.xlsx'\n",
    "dfLinks = pd.read_excel(ipath)"
   ]
  },
  {
   "cell_type": "code",
   "execution_count": 5,
   "metadata": {},
   "outputs": [],
   "source": [
    "dfLinks = dfLinks[dfLinks['sexo']=='Boys']"
   ]
  },
  {
   "cell_type": "code",
   "execution_count": 6,
   "metadata": {},
   "outputs": [
    {
     "data": {
      "text/plain": [
       "array(['Boys'], dtype=object)"
      ]
     },
     "execution_count": 6,
     "metadata": {},
     "output_type": "execute_result"
    }
   ],
   "source": [
    "dfLinks['sexo'].unique()"
   ]
  },
  {
   "cell_type": "code",
   "execution_count": 7,
   "metadata": {},
   "outputs": [],
   "source": [
    "dfLinks.reset_index(drop=True,inplace=True)"
   ]
  },
  {
   "cell_type": "code",
   "execution_count": 15,
   "metadata": {},
   "outputs": [],
   "source": [
    "browser.get(dfLinks.loc[6]['url'])\n",
    "    "
   ]
  },
  {
   "cell_type": "code",
   "execution_count": 16,
   "metadata": {},
   "outputs": [
    {
     "data": {
      "text/plain": [
       "True"
      ]
     },
     "execution_count": 16,
     "metadata": {},
     "output_type": "execute_result"
    }
   ],
   "source": [
    "browser.save_screenshot('asd.png')"
   ]
  },
  {
   "cell_type": "code",
   "execution_count": 14,
   "metadata": {},
   "outputs": [
    {
     "data": {
      "text/plain": [
       "'https://oldnavy.gap.com/browse/category.do?cid=16604&mlink=5151,,flyout_boys_ShopbyCategory_Shorts&clink=15682852'"
      ]
     },
     "execution_count": 14,
     "metadata": {},
     "output_type": "execute_result"
    }
   ],
   "source": []
  },
  {
   "cell_type": "code",
   "execution_count": 36,
   "metadata": {},
   "outputs": [],
   "source": [
    "dfLinks = dfLinks.loc[6:].copy()"
   ]
  },
  {
   "cell_type": "code",
   "execution_count": 15,
   "metadata": {},
   "outputs": [
    {
     "name": "stdout",
     "output_type": "stream",
     "text": [
      "https://oldnavy.gap.com/browse/category.do?cid=1127027&mlink=5151,,flyout_boys_ShopbyCategory_Tops&clink=15682852\n"
     ]
    }
   ],
   "source": [
    "print(dfLinks['url'][0])"
   ]
  },
  {
   "cell_type": "code",
   "execution_count": 10,
   "metadata": {},
   "outputs": [
    {
     "data": {
      "text/plain": [
       "True"
      ]
     },
     "execution_count": 10,
     "metadata": {},
     "output_type": "execute_result"
    }
   ],
   "source": [
    "browser.save_screenshot('asd.png')"
   ]
  },
  {
   "cell_type": "code",
   "execution_count": 8,
   "metadata": {},
   "outputs": [],
   "source": [
    "lista_productos = []\n",
    "EX = []\n",
    "excepts = []\n",
    "for index,row in dfLinks.iterrows():\n",
    "    browser.get(row['url'])\n",
    "    \n",
    "    #\"cantidad categorias\"\n",
    "    if '0 Items in the product grid' == browser.execute_script('''var x = document.getElementsByClassName('category__item-count')[0].textContent;return x;'''):\n",
    "        continue\n",
    "    \n",
    "    try:\n",
    "        #CATEGORY\n",
    "        time.sleep(5)\n",
    "        category = [i for i in browser.find_elements_by_class_name('tabs--object') if i.text.upper() == 'CATEGORY'][0]\n",
    "        cantidad_categorias = [i.get_attribute('name') for i in category.find_element_by_class_name('accordion--content--inner').find_elements_by_tag_name('input')]\n",
    "    except:\n",
    "        cantidad_categorias = ['sin categoria']\n",
    "        excepts.append([row['url'],\n",
    "                       row['tipo']])\n",
    "        continue\n",
    "\n",
    "    #FOR DE CANTIDAD DE CATEGORIAS\n",
    "    for index_categoria,nombre_categoria in enumerate(cantidad_categorias):\n",
    "        \n",
    "        \n",
    "        #CLICK EN LA CATEGORIA DEL INDICE\n",
    "\n",
    "        time.sleep(3)\n",
    "        try:\n",
    "            browser.execute_script(f'''\n",
    "            document.getElementsByClassName('tabs--object tabs--header-object facet-style')[0].getElementsByTagName('input')[{index_categoria}].click();\n",
    "            ''')\n",
    "        except:\n",
    "            pass\n",
    "        \n",
    "       \n",
    "        if '0 Items in the product grid' == browser.execute_script('''var x = document.getElementsByClassName('category__item-count')[0].textContent;return x;'''):\n",
    "            \n",
    "            continue\n",
    "\n",
    "        \n",
    "        #\"cantidad de colores\"\n",
    "        #le asigno una clase \"FILTRO_COLOR\" para poder buscar los colores\n",
    "        time.sleep(5)\n",
    "        try:\n",
    "            \n",
    "            aux_col = [i for i in browser.find_elements_by_class_name('tabs--object') if i.text.upper() == 'COLOR'][0]            \n",
    "            cantidad_colores = [i.get_attribute('name') for i in aux_col.find_element_by_class_name('accordion--content--inner').find_elements_by_tag_name('input')]\n",
    "        except:\n",
    "            excepts.append(browser.current_url)\n",
    "        \n",
    "        \n",
    "        #LOOP CANTIDAD DE COLORES\n",
    "        for index_color,nombre_color in enumerate(cantidad_colores):\n",
    "\n",
    "            #CLICK EN EL COLOR DEL INDICE\n",
    "#            browser.implicitly_wait(30)\n",
    "            time.sleep(5)\n",
    "            \n",
    "            try:\n",
    "                browser.execute_script(f'''\n",
    "                document.getElementsByClassName('tabs--object tabs--header-object facet-color')[0].getElementsByTagName('input')[{index_color}].click();\n",
    "                ''')\n",
    "            except:\n",
    "                break\n",
    "        \n",
    "        \n",
    "            if '0 Items in the product grid' == browser.execute_script('''var x = document.getElementsByClassName('category__item-count')[0].textContent;return x;'''):\n",
    "\n",
    "                continue\n",
    "        \n",
    "\n",
    "            #NOMBRE COLOR\n",
    "            #CANTIDAD DE PRODUCTOS DESPUÉS DE FILTRAR\n",
    "#            browser.implicitly_wait(30)\n",
    "            time.sleep(5)\n",
    "            try:\n",
    "                cant_productos = browser.execute_script('''\n",
    "                var x = document.getElementsByClassName('product-card-grid__root grid ism-root')[0].getElementsByClassName('product-card-grid__item-1-2 product-card-grid__item-lg-1-3 product-card-grid__item-xl-1-3 product-card-grid__item-1280-1-4').length;\n",
    "                return x;''')\n",
    "            except:\n",
    "                continue\n",
    "            \n",
    "            html_plano = browser.execute_script('''\n",
    "            var x = document.getElementsByClassName('product-card-grid__root grid ism-root')[0].innerHTML;\n",
    "            return x''')\n",
    "            html_plano = BeautifulSoup(html_plano)\n",
    "            for html in html_plano:\n",
    "                try:\n",
    "                    lista_productos.append([html.a['id'],\n",
    "                                            html.a.img['alt'],\n",
    "                                            row['sexo'],\n",
    "                                            row['tipo'],\n",
    "                                            [i.text for i in html.find_all(class_='product-card-price')],\n",
    "                                            html.a.img['src'],\n",
    "                                            html.a['href'],\n",
    "                                            nombre_categoria,\n",
    "                                            nombre_color])\n",
    "                except:\n",
    "                    EX.append(html)\n",
    "            try:\n",
    "                #BORRAR FILTRO COLOR\n",
    "                browser.execute_script(f'''\n",
    "                document.getElementsByClassName('tabs--object tabs--header-object facet-color')[0].getElementsByTagName('input')[{index_color}].click();\n",
    "                ''')\n",
    "            except:\n",
    "                print(\"no borro filtro color\")\n",
    "                browser.execute_script('''\n",
    "                document.getElementsByClassName('tag--icon icon-tag-x')[1].click();\n",
    "                ''')\n",
    "        \n",
    "        \n",
    "        #CLICK EN LA CATEGORIA DEL INDICE\n",
    "        try:\n",
    "            \n",
    "            #WebDriverWait(browser, 100).until(EC.presence_of_element_located((By.CLASS_NAME, \"FILTRO_CATEGORIA\"))).find_elements_by_tag_name('input')[index_categoria].click()\n",
    "            browser.execute_script(f'''\n",
    "            document.getElementsByClassName('tabs--object tabs--header-object facet-style')[0].getElementsByTagName('input')[{index_categoria}].click();\n",
    "            ''')\n",
    "        except:\n",
    "            try:\n",
    "                browser.execute_script(f'''\n",
    "                document.getElementsByClassName('tag--icon icon-tag-x')[0].click();\n",
    "                ''')\n",
    "            except:\n",
    "                print(\"no borro filtro categoria\")"
   ]
  },
  {
   "cell_type": "code",
   "execution_count": null,
   "metadata": {},
   "outputs": [],
   "source": []
  },
  {
   "cell_type": "code",
   "execution_count": 37,
   "metadata": {},
   "outputs": [
    {
     "data": {
      "text/plain": [
       "2411"
      ]
     },
     "execution_count": 37,
     "metadata": {},
     "output_type": "execute_result"
    }
   ],
   "source": [
    "len(lista_productos)"
   ]
  },
  {
   "cell_type": "code",
   "execution_count": 38,
   "metadata": {},
   "outputs": [],
   "source": [
    "browser.quit()"
   ]
  },
  {
   "cell_type": "code",
   "execution_count": 39,
   "metadata": {},
   "outputs": [],
   "source": [
    "df = pd.DataFrame(lista_productos)"
   ]
  },
  {
   "cell_type": "code",
   "execution_count": 40,
   "metadata": {},
   "outputs": [],
   "source": [
    "df.rename(columns={0:'sku',\n",
    "                  1:'descripcion',\n",
    "                  2:'categoria',\n",
    "                  3:'tipo',\n",
    "                  4:'prices',\n",
    "                  5:'img',\n",
    "                  6:'url',\n",
    "                  7:'sub_categoria',\n",
    "                  8:'color'},inplace=True)"
   ]
  },
  {
   "cell_type": "code",
   "execution_count": 41,
   "metadata": {},
   "outputs": [],
   "source": [
    "df['prices'] = df['prices'].apply(lambda x:  x[0])"
   ]
  },
  {
   "cell_type": "code",
   "execution_count": 42,
   "metadata": {},
   "outputs": [],
   "source": [
    "df['precio_dto'] = df['prices'].apply(lambda x : x.split('$')[2] if len(x.split('$')) == 3 else x.split('$')[1])"
   ]
  },
  {
   "cell_type": "code",
   "execution_count": 43,
   "metadata": {},
   "outputs": [],
   "source": [
    "df['precio_original'] = df['prices'].apply(lambda x : x.split('$')[1] if len(x.split('$')) == 3 else x.split('$')[1])"
   ]
  },
  {
   "cell_type": "code",
   "execution_count": 44,
   "metadata": {},
   "outputs": [],
   "source": [
    "df.to_excel(f'./Salida/OLDNAVY_BOY{fecha}.xlsx')"
   ]
  },
  {
   "cell_type": "code",
   "execution_count": null,
   "metadata": {},
   "outputs": [],
   "source": []
  },
  {
   "cell_type": "code",
   "execution_count": null,
   "metadata": {},
   "outputs": [],
   "source": []
  }
 ],
 "metadata": {
  "kernelspec": {
   "display_name": "Python 3",
   "language": "python",
   "name": "python3"
  },
  "language_info": {
   "codemirror_mode": {
    "name": "ipython",
    "version": 3
   },
   "file_extension": ".py",
   "mimetype": "text/x-python",
   "name": "python",
   "nbconvert_exporter": "python",
   "pygments_lexer": "ipython3",
   "version": "3.6.8"
  }
 },
 "nbformat": 4,
 "nbformat_minor": 2
}
